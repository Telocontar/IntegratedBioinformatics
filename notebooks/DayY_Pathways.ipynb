{
 "cells": [
  {
   "cell_type": "markdown",
   "metadata": {},
   "source": [
    "## Task 1: KEGG and gene id mapping"
   ]
  },
  {
   "cell_type": "markdown",
   "metadata": {},
   "source": [
    "Familiarize yourself with the KEGG Rest interface and how to access it with Biopyhton:\n",
    "\n",
    "http://www.genome.jp/kegg/rest/keggapi.html\n",
    "\n",
    "http://nbviewer.jupyter.org/github/widdowquinn/notebooks/blob/master/Biopython_KGML_intro.ipynb"
   ]
  },
  {
   "cell_type": "code",
   "execution_count": 50,
   "metadata": {
    "collapsed": false
   },
   "outputs": [],
   "source": [
    "from Bio import SeqIO\n",
    "from Bio.KEGG.REST import *\n",
    "from Bio.KEGG.KGML import KGML_parser\n",
    "from Bio.Graphics.KGML_vis import KGMLCanvas\n",
    "from Bio.Graphics.ColorSpiral import ColorSpiral\n",
    "from IPython.display import Image, HTML\n",
    "\n",
    "import pandas as pd\n",
    "import numpy as np\n",
    "import seaborn as sns\n",
    "import matplotlib.pyplot as plt"
   ]
  },
  {
   "cell_type": "code",
   "execution_count": 51,
   "metadata": {
    "collapsed": true
   },
   "outputs": [],
   "source": [
    "%matplotlib inline"
   ]
  },
  {
   "cell_type": "markdown",
   "metadata": {},
   "source": [
    "### Subtask 1.1 Extract gene lists for all (mouse) KEGG pathways and store them in a suitable Python data structure"
   ]
  },
  {
   "cell_type": "code",
   "execution_count": 52,
   "metadata": {
    "collapsed": false,
    "scrolled": true
   },
   "outputs": [
    {
     "name": "stdout",
     "output_type": "stream",
     "text": [
      "ath:mmu00010\tGlycolysis / Gluconeogenesis - Mus musculus (mouse)\n",
      "path:mmu00020\tCitrate cycle (TCA cycle) - Mus musculus (mouse)\n",
      "path:mmu00030\tPentose phosphate pathway - Mus musculus (mouse)\n",
      "path:mmu00040\tPentose and glucuronate interconversions - Mus musculus (mouse)\n",
      "path:mmu00051\tFructose and mannose metabolism - Mus musculus (mouse)\n",
      "path:mmu00052\tGalactose metabolism - Mus musculus (mouse)\n",
      "path:mmu00053\tAscorbate and aldarate metabolism - Mus musculus (mouse)\n",
      "path:mmu00061\tFatty acid biosynthesis - Mus musculus (mouse)\n",
      "path:mmu00062\tFatty acid elongation - Mus musculus (mouse)\n",
      "path:mmu00071\tFatty acid degradation - Mus musculus (mouse)\n",
      "path:mmu00072\tSynthesis and degradation of ketone bodies - Mus musculus (mouse)\n",
      "path:mmu00100\tSteroid biosynthesis - Mus musculus (mouse)\n",
      "path:mmu00120\tPrimary bile acid biosynthesis - Mus musculus (mouse)\n",
      "path:mmu00130\tUbiquinone and other terpenoid-quinone biosynthesis - Mus musculus (mouse)\n",
      "path:mmu00140\tSteroid hormone biosynthesis - Mus musculus\n"
     ]
    }
   ],
   "source": [
    "print(kegg_list('pathway','mmu').read()[1:1000])"
   ]
  },
  {
   "cell_type": "code",
   "execution_count": 53,
   "metadata": {
    "collapsed": false
   },
   "outputs": [],
   "source": [
    "def get_gene_from_pathway_by_parsing(pathway_):\n",
    "    ''' This function gets the genes for one pathway by parsing the kegg_entry\n",
    "    \n",
    "        pathway_: the pathway to get the genes from\n",
    "    \n",
    "    '''\n",
    "    \n",
    "    # try to parse the kegg entry\n",
    "    try:\n",
    "        kegg_entry = kegg_get(pathway_).read().replace(\"COMPOUND\", \"GENE\").split(\"GENE\")[1].split(\"\\n\")\n",
    "    except:\n",
    "        return\n",
    "    \n",
    "    # lists storing the kegg ids and gene names\n",
    "    list_of_kegg_ids_ = []\n",
    "    list_of_gene_names_ = []\n",
    "    \n",
    "    # iterate over kegg_entry and skip last element\n",
    "    for gene_entry in kegg_entry[:-1]:\n",
    "        \n",
    "        # add kegg_id and gene_name to lists, if there is one\n",
    "        try:\n",
    "            list_of_kegg_ids_.append(gene_entry.split()[0])\n",
    "            list_of_gene_names_.append(gene_entry.split()[1][:-1])\n",
    "        except:\n",
    "            #print(\"gene entry: \" + str(gene_entry))\n",
    "        \n",
    "    return(list_of_kegg_ids_, list_of_gene_names_)\n",
    "    "
   ]
  },
  {
   "cell_type": "code",
   "execution_count": 54,
   "metadata": {
    "collapsed": true
   },
   "outputs": [],
   "source": [
    "def get_genes_from_pathways_by_parsing(organism_identifier='mmu'):\n",
    "    ''' This function gets a list of gene identifiers from the pathways of the given organism.\n",
    "    \n",
    "        organism_identifier: the organism to search for\n",
    "    \n",
    "    '''\n",
    "    \n",
    "    # get a list of all pathways\n",
    "    pathway_list = kegg_list('pathway','mmu').read().split(\"\\n\")\n",
    "\n",
    "    # list to store the pathways \n",
    "    list_of_pathway_genes = []\n",
    "    \n",
    "    # path:mmu05416    Viral myocarditis - Mus musculus (mouse)\n",
    "    # iterate over the pathways\n",
    "    for pathway_entry in pathway_list[:-1]:\n",
    "        \n",
    "        # path:mmu05416\n",
    "        pw = pathway_entry.split()[0]\n",
    "        \n",
    "        # get the gene from the pathway by parsing the kegg string\n",
    "        genes = get_gene_from_pathway_by_parsing(pw)\n",
    "        \n",
    "        # append only if genes is valid\n",
    "        if not genes is None:\n",
    "            list_of_pathway_genes.append((pw , genes[0], genes[1]))\n",
    "        \n",
    "        \n",
    "    return list_of_pathway_genes\n",
    "    "
   ]
  },
  {
   "cell_type": "code",
   "execution_count": 55,
   "metadata": {
    "collapsed": false,
    "scrolled": true
   },
   "outputs": [
    {
     "name": "stdout",
     "output_type": "stream",
     "text": [
      "gene entry: ///\n",
      "gene entry: ///\n",
      "gene entry: ///\n",
      "gene entry: ///\n",
      "gene entry: ///\n",
      "gene entry: ///\n",
      "gene entry: ///\n",
      "gene entry: ///\n",
      "gene entry: ///\n",
      "gene entry: ///\n",
      "gene entry: ///\n",
      "gene entry: ///\n",
      "gene entry: ///\n",
      "gene entry: ///\n",
      "gene entry: ///\n",
      "gene entry: ///\n",
      "gene entry: REFERENCE   \n",
      "gene entry: REFERENCE   \n",
      "gene entry: ///\n",
      "gene entry: ///\n",
      "gene entry: ///\n",
      "gene entry: REFERENCE   \n",
      "gene entry: REFERENCE   \n",
      "gene entry: ///\n",
      "gene entry: ///\n",
      "gene entry: ///\n",
      "gene entry: ///\n",
      "gene entry: ///\n",
      "gene entry: REFERENCE   \n",
      "gene entry: ///\n",
      "gene entry: ///\n",
      "gene entry: ///\n",
      "gene entry: ///\n",
      "gene entry: ///\n",
      "gene entry: ///\n",
      "gene entry: ///\n",
      "gene entry: ///\n",
      "gene entry: ///\n",
      "gene entry: REFERENCE   \n",
      "gene entry: ///\n",
      "gene entry: ///\n",
      "gene entry: REFERENCE   \n",
      "gene entry: ///\n",
      "gene entry: ///\n",
      "gene entry: ///\n",
      "gene entry:             14968\n",
      "gene entry: ///\n",
      "gene entry: ///\n",
      "gene entry: REFERENCE   \n",
      "gene entry: ///\n",
      "gene entry: ///\n",
      "gene entry: ///\n",
      "gene entry: ///\n",
      "gene entry: ///\n",
      "gene entry: ///\n",
      "gene entry: ///\n",
      "gene entry: ///\n",
      "gene entry: ///\n",
      "gene entry: ///\n"
     ]
    }
   ],
   "source": [
    "pathways_genes_ids = get_genes_from_pathways_by_parsing()"
   ]
  },
  {
   "cell_type": "code",
   "execution_count": 56,
   "metadata": {
    "collapsed": false
   },
   "outputs": [
    {
     "data": {
      "text/plain": [
       "'path:mmu00010\\tGlycolysis / Gluconeogenesis - Mus musculus (mouse)\\n'"
      ]
     },
     "execution_count": 56,
     "metadata": {},
     "output_type": "execute_result"
    }
   ],
   "source": [
    "kegg_list('path:mmu00010').read()"
   ]
  },
  {
   "cell_type": "code",
   "execution_count": 57,
   "metadata": {
    "collapsed": false
   },
   "outputs": [],
   "source": [
    "def create_dataframe_from_list(pathway_genes_mmu_):\n",
    "    ''' This function creates a dataframe from the given list.\n",
    "    \n",
    "        pathway_genes_mmu_: the list to create the dataframe from   \n",
    "    '''\n",
    "    \n",
    "    # get the pathway IDs\n",
    "    pathway_list = [item[0] for item in pathway_genes_mmu_]\n",
    "    \n",
    "    # list to store the description\n",
    "    desc_list = []\n",
    "    \n",
    "    # iterate over each pathway\n",
    "    for a in pathway_list:\n",
    "        \n",
    "        # store the description in the list\n",
    "        desc_list.append(kegg_list(a).read().split(\"\\t\")[1])\n",
    "       \n",
    "    # get the first entry of the pathway_genes_mmu_ (=pathway IDs)\n",
    "    pathway_list = [item[0] for item in pathway_genes_mmu_]\n",
    "    \n",
    "    # get the second entry of the pathway_genes_mmu_ (=gene IDs)\n",
    "    gene_list = [item[1] for item in pathway_genes_mmu_]\n",
    "    \n",
    "    # get the third entry of the pathway_genes_mmu_ (=gene names)\n",
    "    gene_name = [item[2] for item in pathway_genes_mmu_]\n",
    "    \n",
    "    return pd.DataFrame({\"Pathway ID\" : pathway_list,\n",
    "                         \"Gene ID\" : gene_list,\n",
    "                         \"Gene Name\" : gene_name,  \n",
    "                         \"Description\": desc_list })"
   ]
  },
  {
   "cell_type": "code",
   "execution_count": 58,
   "metadata": {
    "collapsed": false
   },
   "outputs": [],
   "source": [
    "pathways_genes_ids_df = create_dataframe_from_list(pathways_genes_ids)"
   ]
  },
  {
   "cell_type": "code",
   "execution_count": 59,
   "metadata": {
    "collapsed": false
   },
   "outputs": [
    {
     "data": {
      "text/html": [
       "<div>\n",
       "<table border=\"1\" class=\"dataframe\">\n",
       "  <thead>\n",
       "    <tr style=\"text-align: right;\">\n",
       "      <th></th>\n",
       "      <th>Description</th>\n",
       "      <th>Gene ID</th>\n",
       "      <th>Gene Name</th>\n",
       "      <th>Pathway ID</th>\n",
       "    </tr>\n",
       "  </thead>\n",
       "  <tbody>\n",
       "    <tr>\n",
       "      <th>0</th>\n",
       "      <td>Glycolysis / Gluconeogenesis - Mus musculus (m...</td>\n",
       "      <td>[15277, 212032, 15275, 216019, 103988, 14751, ...</td>\n",
       "      <td>[Hk2, Hk3, Hk1, Hkdc1, Gck, Gpi1, Pfkl, Pfkm, ...</td>\n",
       "      <td>path:mmu00010</td>\n",
       "    </tr>\n",
       "    <tr>\n",
       "      <th>1</th>\n",
       "      <td>Citrate cycle (TCA cycle) - Mus musculus (mous...</td>\n",
       "      <td>[12974, 71832, 104112, 11429, 11428, 15926, 26...</td>\n",
       "      <td>[Cs, Csl, Acly, Aco2, Aco1, Idh1, Idh2, Idh3g,...</td>\n",
       "      <td>path:mmu00020</td>\n",
       "    </tr>\n",
       "    <tr>\n",
       "      <th>2</th>\n",
       "      <td>Pentose phosphate pathway - Mus musculus (mous...</td>\n",
       "      <td>[14751, 14380, 14381, 66171, 100198, 110208, 6...</td>\n",
       "      <td>[Gpi1, G6pd2, G6pdx, Pgls, H6pd, Pgd, Rpe, Tkt...</td>\n",
       "      <td>path:mmu00030</td>\n",
       "    </tr>\n",
       "    <tr>\n",
       "      <th>3</th>\n",
       "      <td>Pentose and glucuronate interconversions - Mus...</td>\n",
       "      <td>[110006, 16591, 22238, 22236, 94284, 94215, 39...</td>\n",
       "      <td>[Gusb, Kl, Ugt2b5, Ugt1a2, Ugt1a6a, Ugt2a1, Ug...</td>\n",
       "      <td>path:mmu00040</td>\n",
       "    </tr>\n",
       "    <tr>\n",
       "      <th>4</th>\n",
       "      <td>Fructose and mannose metabolism - Mus musculus...</td>\n",
       "      <td>[110119, 54128, 29858, 331026, 69080, 218138, ...</td>\n",
       "      <td>[Mpi, Pmm2, Pmm1, Gmppb, Gmppa, Gmds, Tsta3, F...</td>\n",
       "      <td>path:mmu00051</td>\n",
       "    </tr>\n",
       "  </tbody>\n",
       "</table>\n",
       "</div>"
      ],
      "text/plain": [
       "                                         Description  \\\n",
       "0  Glycolysis / Gluconeogenesis - Mus musculus (m...   \n",
       "1  Citrate cycle (TCA cycle) - Mus musculus (mous...   \n",
       "2  Pentose phosphate pathway - Mus musculus (mous...   \n",
       "3  Pentose and glucuronate interconversions - Mus...   \n",
       "4  Fructose and mannose metabolism - Mus musculus...   \n",
       "\n",
       "                                             Gene ID  \\\n",
       "0  [15277, 212032, 15275, 216019, 103988, 14751, ...   \n",
       "1  [12974, 71832, 104112, 11429, 11428, 15926, 26...   \n",
       "2  [14751, 14380, 14381, 66171, 100198, 110208, 6...   \n",
       "3  [110006, 16591, 22238, 22236, 94284, 94215, 39...   \n",
       "4  [110119, 54128, 29858, 331026, 69080, 218138, ...   \n",
       "\n",
       "                                           Gene Name     Pathway ID  \n",
       "0  [Hk2, Hk3, Hk1, Hkdc1, Gck, Gpi1, Pfkl, Pfkm, ...  path:mmu00010  \n",
       "1  [Cs, Csl, Acly, Aco2, Aco1, Idh1, Idh2, Idh3g,...  path:mmu00020  \n",
       "2  [Gpi1, G6pd2, G6pdx, Pgls, H6pd, Pgd, Rpe, Tkt...  path:mmu00030  \n",
       "3  [Gusb, Kl, Ugt2b5, Ugt1a2, Ugt1a6a, Ugt2a1, Ug...  path:mmu00040  \n",
       "4  [Mpi, Pmm2, Pmm1, Gmppb, Gmppa, Gmds, Tsta3, F...  path:mmu00051  "
      ]
     },
     "execution_count": 59,
     "metadata": {},
     "output_type": "execute_result"
    }
   ],
   "source": [
    "pathways_genes_ids_df.head()"
   ]
  },
  {
   "cell_type": "markdown",
   "metadata": {},
   "source": [
    "### Subtask 1.2: Save the KEGG gene sets as a gmt file after you made sure they have the proper gene ids with respect to your DE analysis"
   ]
  },
  {
   "cell_type": "markdown",
   "metadata": {},
   "source": [
    "hints: \n",
    "\n",
    "http://biopython.org/wiki/Annotate_Entrez_Gene_IDs\n",
    "\n",
    "http://www.broadinstitute.org/cancer/software/gsea/wiki/index.php/Data_formats"
   ]
  },
  {
   "cell_type": "code",
   "execution_count": 60,
   "metadata": {
    "collapsed": true
   },
   "outputs": [],
   "source": [
    "def write_gmt_file(dataframe_to_write, filename_):\n",
    "    ''' This function writes the dataframe_to_write as .gmt file.\n",
    "        \n",
    "        dataframe_to_write: the dataframe to write\n",
    "        filename_: the filename to write to \n",
    "    \n",
    "    '''\n",
    "\n",
    "    # gmt file:\n",
    "    # 1 line = 1 pathway\n",
    "    # name \\t descp \\t gene1 \\t gene2 \\t gene3 etc\n",
    "\n",
    "    # open filename_\n",
    "    with open(filename_, \"w\") as gmt_file:\n",
    "        \n",
    "        # iterate over dataframe\n",
    "        for index, row in dataframe_to_write.iterrows():\n",
    "            \n",
    "            # get the genes to write\n",
    "            genes_to_write = row['Gene Name']\n",
    "            \n",
    "            # genes_to_write is a list -> convert it to string\n",
    "            genes_to_write_str = \",\".join(genes_to_write)\n",
    "            \n",
    "            # desc_to_write_str is a list -> convert it to string\n",
    "            desc_to_write_str = \"\".join(row['Description'])\n",
    "            \n",
    "            # replace new line\n",
    "            desc_to_write_str = desc_to_write_str.replace(\"\\n\",\"\")\n",
    "            \n",
    "            # genes are \",\"-separated, but need to be \"\\t\"-separated\n",
    "            genes_to_write_str = genes_to_write_str.replace(\",\", \"\\t\")\n",
    "            \n",
    "            # create the string to write\n",
    "            string_to_write = row['Pathway ID'] + \"\\t\" + desc_to_write_str + \"\\t\" + genes_to_write_str + \"\\n\"\n",
    "\n",
    "            # write string to file\n",
    "            gmt_file.write(string_to_write)\n",
    "            \n",
    "    print(\"File \" + filename_ + \" has been succesfully written.\")        "
   ]
  },
  {
   "cell_type": "code",
   "execution_count": 61,
   "metadata": {
    "collapsed": false
   },
   "outputs": [
    {
     "name": "stdout",
     "output_type": "stream",
     "text": [
      "File results\\kegg_mmu_pathway_genes.gmt has been succesfully written.\n"
     ]
    }
   ],
   "source": [
    "write_gmt_file(pathways_genes_ids_df, \"results\\kegg_mmu_pathway_genes.gmt\")"
   ]
  },
  {
   "cell_type": "markdown",
   "metadata": {},
   "source": [
    "## Task 2: Gene Set Enrichment"
   ]
  },
  {
   "cell_type": "markdown",
   "metadata": {},
   "source": [
    "### Subtask 2.1: Read in the csv file you produced during the Differential Expression module, extract a gene list (as a python list of gene symbols) from your favorite multiple correction column (and store it in a variable)"
   ]
  },
  {
   "cell_type": "code",
   "execution_count": 62,
   "metadata": {
    "collapsed": false
   },
   "outputs": [],
   "source": [
    "fold_change_df = pd.read_csv(\"results/diff_expr_genes_fold_change.csv\")"
   ]
  },
  {
   "cell_type": "code",
   "execution_count": 63,
   "metadata": {
    "collapsed": false
   },
   "outputs": [
    {
     "data": {
      "text/html": [
       "<div>\n",
       "<table border=\"1\" class=\"dataframe\">\n",
       "  <thead>\n",
       "    <tr style=\"text-align: right;\">\n",
       "      <th></th>\n",
       "      <th>gene</th>\n",
       "      <th>pvalue</th>\n",
       "      <th>sidak</th>\n",
       "      <th>holm-sidak</th>\n",
       "      <th>holm</th>\n",
       "      <th>simes-hochberg</th>\n",
       "      <th>hommel</th>\n",
       "      <th>fdr_bh</th>\n",
       "      <th>fdr_by</th>\n",
       "      <th>fdr_tsbh</th>\n",
       "      <th>fdr_tsbky</th>\n",
       "      <th>log2 fold change</th>\n",
       "    </tr>\n",
       "  </thead>\n",
       "  <tbody>\n",
       "    <tr>\n",
       "      <th>0</th>\n",
       "      <td>39872</td>\n",
       "      <td>6.265481e-11</td>\n",
       "      <td>0.000001</td>\n",
       "      <td>0.000001</td>\n",
       "      <td>0.000001</td>\n",
       "      <td>0.000001</td>\n",
       "      <td>0.000001</td>\n",
       "      <td>2.388628e-09</td>\n",
       "      <td>2.524413e-08</td>\n",
       "      <td>1.055814e-09</td>\n",
       "      <td>1.121471e-09</td>\n",
       "      <td>-0.065622</td>\n",
       "    </tr>\n",
       "    <tr>\n",
       "      <th>1</th>\n",
       "      <td>39873</td>\n",
       "      <td>6.018315e-04</td>\n",
       "      <td>0.999998</td>\n",
       "      <td>0.999883</td>\n",
       "      <td>1.000000</td>\n",
       "      <td>0.500000</td>\n",
       "      <td>0.500000</td>\n",
       "      <td>1.932383e-03</td>\n",
       "      <td>2.042232e-02</td>\n",
       "      <td>8.541462e-04</td>\n",
       "      <td>9.072615e-04</td>\n",
       "      <td>-0.015217</td>\n",
       "    </tr>\n",
       "    <tr>\n",
       "      <th>2</th>\n",
       "      <td>39874</td>\n",
       "      <td>3.164228e-02</td>\n",
       "      <td>1.000000</td>\n",
       "      <td>1.000000</td>\n",
       "      <td>1.000000</td>\n",
       "      <td>0.500000</td>\n",
       "      <td>0.500000</td>\n",
       "      <td>5.533046e-02</td>\n",
       "      <td>5.847579e-01</td>\n",
       "      <td>2.445701e-02</td>\n",
       "      <td>2.597787e-02</td>\n",
       "      <td>0.010690</td>\n",
       "    </tr>\n",
       "    <tr>\n",
       "      <th>3</th>\n",
       "      <td>39875</td>\n",
       "      <td>1.384384e-01</td>\n",
       "      <td>1.000000</td>\n",
       "      <td>1.000000</td>\n",
       "      <td>1.000000</td>\n",
       "      <td>0.500000</td>\n",
       "      <td>0.500000</td>\n",
       "      <td>1.868879e-01</td>\n",
       "      <td>1.000000e+00</td>\n",
       "      <td>8.260765e-02</td>\n",
       "      <td>8.774463e-02</td>\n",
       "      <td>-0.008591</td>\n",
       "    </tr>\n",
       "    <tr>\n",
       "      <th>4</th>\n",
       "      <td>39876</td>\n",
       "      <td>3.676499e-05</td>\n",
       "      <td>0.551901</td>\n",
       "      <td>0.469274</td>\n",
       "      <td>0.633498</td>\n",
       "      <td>0.500000</td>\n",
       "      <td>0.343017</td>\n",
       "      <td>1.739348e-04</td>\n",
       "      <td>1.838224e-03</td>\n",
       "      <td>7.688215e-05</td>\n",
       "      <td>8.166309e-05</td>\n",
       "      <td>0.020228</td>\n",
       "    </tr>\n",
       "  </tbody>\n",
       "</table>\n",
       "</div>"
      ],
      "text/plain": [
       "    gene        pvalue     sidak  holm-sidak      holm  simes-hochberg  \\\n",
       "0  39872  6.265481e-11  0.000001    0.000001  0.000001        0.000001   \n",
       "1  39873  6.018315e-04  0.999998    0.999883  1.000000        0.500000   \n",
       "2  39874  3.164228e-02  1.000000    1.000000  1.000000        0.500000   \n",
       "3  39875  1.384384e-01  1.000000    1.000000  1.000000        0.500000   \n",
       "4  39876  3.676499e-05  0.551901    0.469274  0.633498        0.500000   \n",
       "\n",
       "     hommel        fdr_bh        fdr_by      fdr_tsbh     fdr_tsbky  \\\n",
       "0  0.000001  2.388628e-09  2.524413e-08  1.055814e-09  1.121471e-09   \n",
       "1  0.500000  1.932383e-03  2.042232e-02  8.541462e-04  9.072615e-04   \n",
       "2  0.500000  5.533046e-02  5.847579e-01  2.445701e-02  2.597787e-02   \n",
       "3  0.500000  1.868879e-01  1.000000e+00  8.260765e-02  8.774463e-02   \n",
       "4  0.343017  1.739348e-04  1.838224e-03  7.688215e-05  8.166309e-05   \n",
       "\n",
       "   log2 fold change  \n",
       "0         -0.065622  \n",
       "1         -0.015217  \n",
       "2          0.010690  \n",
       "3         -0.008591  \n",
       "4          0.020228  "
      ]
     },
     "execution_count": 63,
     "metadata": {},
     "output_type": "execute_result"
    }
   ],
   "source": [
    "fold_change_df.head()"
   ]
  },
  {
   "cell_type": "code",
   "execution_count": 64,
   "metadata": {
    "collapsed": false
   },
   "outputs": [],
   "source": [
    "fold_change_genes = fold_change_df['gene']"
   ]
  },
  {
   "cell_type": "code",
   "execution_count": 65,
   "metadata": {
    "collapsed": false
   },
   "outputs": [
    {
     "data": {
      "text/plain": [
       "0    39872\n",
       "1    39873\n",
       "2    39874\n",
       "3    39875\n",
       "4    39876\n",
       "Name: gene, dtype: object"
      ]
     },
     "execution_count": 65,
     "metadata": {},
     "output_type": "execute_result"
    }
   ],
   "source": [
    "fold_change_genes.head()"
   ]
  },
  {
   "cell_type": "markdown",
   "metadata": {},
   "source": [
    "### Subtask 2.2: Perform gene set enrichment (Fisher's exact test or an hypergeometric test will do for our purposes) with the KEGG gene sets you extracted in Task 1 (you may want to store the results in a pandas dataframe and write them to csv)"
   ]
  },
  {
   "cell_type": "markdown",
   "metadata": {},
   "source": [
    "hint:\n",
    "\n",
    "https://genetrail2.bioinf.uni-sb.de/help?topic=set_level_statistics"
   ]
  },
  {
   "cell_type": "code",
   "execution_count": 66,
   "metadata": {
    "collapsed": false
   },
   "outputs": [
    {
     "name": "stdout",
     "output_type": "stream",
     "text": [
      "There are 7112 genes in both sets.\n"
     ]
    }
   ],
   "source": [
    "# get all genes stored in the pathways_genes_ids_df and store them in set\n",
    "set_pathway_genes = set([i for sublist in pathways_genes_ids_df['Gene Name'] for i in sublist])\n",
    "\n",
    "# get all genes stored in the fold_change_genes dataframe and store them in set\n",
    "set_fold_change_genes = set(fold_change_genes)\n",
    "\n",
    "# all genes in both sets\n",
    "in_both_sets = set_pathway_genes & set_fold_change_genes\n",
    "\n",
    "\n",
    "print(\"There are \" + str(len(in_both_sets)) + \" genes in both sets.\")"
   ]
  },
  {
   "cell_type": "code",
   "execution_count": 67,
   "metadata": {
    "collapsed": true
   },
   "outputs": [],
   "source": [
    "def intersect_dataframes(df_pathway_1, df_fold_change_2):\n",
    "    ''' Intersects two dataframes and returns the list of genes in both dataframes.\n",
    "    \n",
    "        df_pathway_1: the dataframe containing the pathways\n",
    "        df_fold_change_2: the dataframe containing the fold changes\n",
    "    '''\n",
    "\n",
    "    # get all genes stored in the pathways_genes_ids_df and store them in set\n",
    "    try:\n",
    "        set_df1 = set([i for i in df_pathway_1[2]])\n",
    "    except:\n",
    "        set_df1 = set([i for sublist in df_pathway_1['Gene Name'] for i in sublist])\n",
    "    \n",
    "    # get all genes stored in the fold_change_genes dataframe and store them in set\n",
    "    set_df2 = set(df_fold_change_2)\n",
    "    \n",
    "    # all genes in both sets\n",
    "    return set_df1 & set_df2"
   ]
  },
  {
   "cell_type": "code",
   "execution_count": 68,
   "metadata": {
    "collapsed": false
   },
   "outputs": [],
   "source": [
    "pathways_genes_ids_df_pw_index = pathways_genes_ids_df.set_index('Pathway ID')"
   ]
  },
  {
   "cell_type": "code",
   "execution_count": 69,
   "metadata": {
    "collapsed": false
   },
   "outputs": [
    {
     "data": {
      "text/plain": [
       "Description    Glycolysis / Gluconeogenesis - Mus musculus (m...\n",
       "Gene ID        [15277, 212032, 15275, 216019, 103988, 14751, ...\n",
       "Gene Name      [Hk2, Hk3, Hk1, Hkdc1, Gck, Gpi1, Pfkl, Pfkm, ...\n",
       "Name: path:mmu00010, dtype: object"
      ]
     },
     "execution_count": 69,
     "metadata": {},
     "output_type": "execute_result"
    }
   ],
   "source": [
    "pathways_genes_ids_df_pw_index.loc['path:mmu00010']"
   ]
  },
  {
   "cell_type": "code",
   "execution_count": 70,
   "metadata": {
    "collapsed": false,
    "scrolled": true
   },
   "outputs": [],
   "source": [
    "# get rid of all genes which are not existing in the pathway\n",
    "intersection_pathway_fold_change = intersect_dataframes(pathways_genes_ids_df, set_fold_change_genes)"
   ]
  },
  {
   "cell_type": "code",
   "execution_count": 71,
   "metadata": {
    "collapsed": false
   },
   "outputs": [],
   "source": [
    "from scipy.stats import hypergeom"
   ]
  },
  {
   "cell_type": "code",
   "execution_count": 72,
   "metadata": {
    "collapsed": true
   },
   "outputs": [],
   "source": [
    "def perform_gene_set_enrichment(fold_change_df_, pathway_genes_df_):\n",
    "    ''' This function performs a gene set enrichment on a sinle pathway.\n",
    "    \n",
    "    '''\n",
    "\n",
    "    # differentially expressed genes \n",
    "    D = fold_change_df_[fold_change_df_['holm-sidak'] < 0.05].index  \n",
    "    \n",
    "    # pathway genes\n",
    "    P = pathway_genes_df_['Gene Name']\n",
    "    \n",
    "    # not differentially expressed genes\n",
    "    G = fold_change_df_[fold_change_df_['holm-sidak'] > 0.05].index\n",
    "\n",
    "    # D united with P\n",
    "    D_and_P = len(intersect_dataframes(pathway_genes_df_, D))\n",
    "    \n",
    "    # D united with not P\n",
    "    D_and_not_P = len(D)-D_and_P\n",
    "    \n",
    "    # not D united with P\n",
    "    not_D_and_P = len(intersect_dataframes(pathway_genes_df_, G))\n",
    "    \n",
    "    # not D united with not P\n",
    "    not_D_and_not_P = len(G)-not_D_and_P\n",
    "    \n",
    "    # create the contingency table\n",
    "    table = pd.DataFrame({'Diff. expr.' : pd.Series([D_and_P, D_and_not_P, D_and_P+D_and_not_P], \n",
    "                                                   index=['in PW', 'Not in PW', 'Total']),\n",
    "                         'Not Diff. expr.' : pd.Series([not_D_and_P, not_D_and_not_P, not_D_and_P+not_D_and_not_P], \n",
    "                                                index=['in PW', 'Not in PW', 'Total']),\n",
    "                         'Total' : pd.Series([D_and_P+not_D_and_P, D_and_not_P+not_D_and_not_P, \n",
    "                                              D_and_P+D_and_not_P+not_D_and_P+not_D_and_not_P], \n",
    "                                             index=['in PW', 'Not in PW', 'Total'])})\n",
    "    \n",
    "    # # genes differentially expressed\n",
    "    n = len(D)\n",
    "    \n",
    "    # number of genes diff. expr. AND in pathway\n",
    "    k = D_and_P\n",
    "    \n",
    "    # total number of genes \n",
    "    m = D_and_P+D_and_not_P+not_D_and_P+not_D_and_not_P\n",
    "    \n",
    "    # number of genes in pathway\n",
    "    l = D_and_P+not_D_and_P\n",
    "    \n",
    "    # compute p-value:\n",
    "    k_ = l*n/m\n",
    "    if k_ >= k:\n",
    "        p_value = hypergeom.cdf(k,m,l,n)\n",
    "    else:\n",
    "        p_value = hypergeom.sf(k-1,m,l,n)\n",
    "    \n",
    "    \n",
    "    return p_value"
   ]
  },
  {
   "cell_type": "code",
   "execution_count": 73,
   "metadata": {
    "collapsed": true
   },
   "outputs": [],
   "source": [
    "def perform_gene_set_enrichment_all_pathways(fold_change_df_, _pathway_genes_df_):\n",
    "    ''' This function performs a gene set enrichment on all pathways stored in the _pathway_genes_df_ Dataframe.\n",
    "    \n",
    "        fold_change_df_: the dataframe containing the differential expression data\n",
    "        _pathway_genes_df_: the dataframe containing the pathways and their corresponding genes\n",
    "    '''\n",
    "    \n",
    "    # lists to create the dataframe\n",
    "    list_of_pathways = []\n",
    "    list_of_p_values = []\n",
    "    \n",
    "    # iterate over all pathways\n",
    "    for pw_name, pathway in _pathway_genes_df_.iterrows():\n",
    "        \n",
    "        # append the pathway id\n",
    "        list_of_pathways.append(pw_name)\n",
    "        \n",
    "        # compute the p-value for the given pathway\n",
    "        list_of_p_values.append(perform_gene_set_enrichment(fold_change_df_, pathway))\n",
    "    \n",
    "    return pd.DataFrame({'Pathway' : list_of_pathways, \n",
    "                         'p-value' : list_of_p_values}) "
   ]
  },
  {
   "cell_type": "code",
   "execution_count": 74,
   "metadata": {
    "collapsed": false,
    "scrolled": true
   },
   "outputs": [
    {
     "data": {
      "text/plain": [
       "0.18182861556701285"
      ]
     },
     "execution_count": 74,
     "metadata": {},
     "output_type": "execute_result"
    }
   ],
   "source": [
    "# set 'gene' as index for the fold change dataframe\n",
    "fc_df_gene_index = fold_change_df.set_index('gene')\n",
    "\n",
    "# get only the entries which are existent in the pathway dataframe\n",
    "fold_change_filtered = fc_df_gene_index.loc[list(intersection_pathway_fold_change)]\n",
    "\n",
    "# perform gene set enrichment on one pathway\n",
    "perform_gene_set_enrichment(fold_change_filtered, pathways_genes_ids_df_pw_index.loc['path:mmu05414'])"
   ]
  },
  {
   "cell_type": "code",
   "execution_count": 75,
   "metadata": {
    "collapsed": false
   },
   "outputs": [],
   "source": [
    "# perform gene set enrichment on all pathways\n",
    "gene_set_enrichment_p_values = perform_gene_set_enrichment_all_pathways(fold_change_filtered, pathways_genes_ids_df_pw_index)"
   ]
  },
  {
   "cell_type": "code",
   "execution_count": 76,
   "metadata": {
    "collapsed": false
   },
   "outputs": [
    {
     "data": {
      "text/plain": [
       "294"
      ]
     },
     "execution_count": 76,
     "metadata": {},
     "output_type": "execute_result"
    }
   ],
   "source": [
    "# get the number of enriched genes\n",
    "len(gene_set_enrichment_p_values)"
   ]
  },
  {
   "cell_type": "markdown",
   "metadata": {},
   "source": [
    "### Subtask 2.3: Extract a list of significantly (at 0.05 significance) enriched KEGG pathways"
   ]
  },
  {
   "cell_type": "code",
   "execution_count": 77,
   "metadata": {
    "collapsed": false
   },
   "outputs": [
    {
     "data": {
      "text/html": [
       "<div>\n",
       "<table border=\"1\" class=\"dataframe\">\n",
       "  <thead>\n",
       "    <tr style=\"text-align: right;\">\n",
       "      <th></th>\n",
       "      <th>Pathway</th>\n",
       "      <th>p-value</th>\n",
       "    </tr>\n",
       "  </thead>\n",
       "  <tbody>\n",
       "    <tr>\n",
       "      <th>189</th>\n",
       "      <td>path:mmu04740</td>\n",
       "      <td>2.607093e-15</td>\n",
       "    </tr>\n",
       "    <tr>\n",
       "      <th>288</th>\n",
       "      <td>path:mmu05332</td>\n",
       "      <td>6.937192e-04</td>\n",
       "    </tr>\n",
       "    <tr>\n",
       "      <th>287</th>\n",
       "      <td>path:mmu05330</td>\n",
       "      <td>1.682189e-03</td>\n",
       "    </tr>\n",
       "    <tr>\n",
       "      <th>123</th>\n",
       "      <td>path:mmu04120</td>\n",
       "      <td>1.978471e-03</td>\n",
       "    </tr>\n",
       "    <tr>\n",
       "      <th>231</th>\n",
       "      <td>path:mmu05012</td>\n",
       "      <td>2.390560e-03</td>\n",
       "    </tr>\n",
       "  </tbody>\n",
       "</table>\n",
       "</div>"
      ],
      "text/plain": [
       "           Pathway       p-value\n",
       "189  path:mmu04740  2.607093e-15\n",
       "288  path:mmu05332  6.937192e-04\n",
       "287  path:mmu05330  1.682189e-03\n",
       "123  path:mmu04120  1.978471e-03\n",
       "231  path:mmu05012  2.390560e-03"
      ]
     },
     "execution_count": 77,
     "metadata": {},
     "output_type": "execute_result"
    }
   ],
   "source": [
    "gene_set_enrichment_p_values[gene_set_enrichment_p_values['p-value'] < 0.05].sort_values(by='p-value').head()"
   ]
  },
  {
   "cell_type": "markdown",
   "metadata": {},
   "source": [
    "## Task 3: KEGG map visualization"
   ]
  },
  {
   "cell_type": "markdown",
   "metadata": {},
   "source": [
    "#### hint:\n",
    "\n",
    "http://nbviewer.jupyter.org/github/widdowquinn/notebooks/blob/master/Biopython_KGML_intro.ipynb\n",
    "\n",
    "#### remark:\n",
    "\n",
    "In real life you may want to use the R-based tool pathview: https://bioconductor.org/packages/release/bioc/html/pathview.html (if you insist you can also try to use r2py for using pathview from Python during the practical)\n",
    "\n",
    "For Python (in addition to the Biopyhton module) https://github.com/idekerlab/py2cytoscape in combination with https://github.com/idekerlab/KEGGscape may be another alternative (in the future)\n",
    "\n",
    "Generally speaking, it is always a good idea to pay attention also to other pathway databases like Reactome or WikiPathways ..."
   ]
  },
  {
   "cell_type": "markdown",
   "metadata": {},
   "source": [
    "### Subtask 3.1: Pick some significantly enriched KEGG pathways of your choice from 2.3 and visualize them"
   ]
  },
  {
   "cell_type": "code",
   "execution_count": 78,
   "metadata": {
    "collapsed": false
   },
   "outputs": [
    {
     "data": {
      "image/png": "[encoded data removed]",
      "text/plain": [
       "<IPython.core.display.Image object>"
      ]
     },
     "execution_count": 78,
     "metadata": {},
     "output_type": "execute_result"
    }
   ],
   "source": [
    "Image(kegg_get(\"mmu04740\", \"image\").read())"
   ]
  },
  {
   "cell_type": "code",
   "execution_count": 79,
   "metadata": {
    "collapsed": true
   },
   "outputs": [],
   "source": [
    "# A bit of code that will help us display the PDF output\n",
    "def PDF(filename):\n",
    "    return HTML('<iframe src=%s width=700 height=350></iframe>' % filename)"
   ]
  },
  {
   "cell_type": "markdown",
   "metadata": {},
   "source": [
    "### Subtask 3.2: Define a a suitable binary color scheme respresenting the fact whether a gene is significantly expressed or not"
   ]
  },
  {
   "cell_type": "markdown",
   "metadata": {},
   "source": [
    "hint: \n",
    "\n",
    "http://www.rapidtables.com/web/color/RGB_Color.htm"
   ]
  },
  {
   "cell_type": "code",
   "execution_count": 80,
   "metadata": {
    "collapsed": true
   },
   "outputs": [],
   "source": [
    "# red (#FF0000) if gene is diff. expressed"
   ]
  },
  {
   "cell_type": "markdown",
   "metadata": {},
   "source": [
    "### Subtask 3.3: Visualize the pathway(s) from 3.1 in such a way that the included genes have the corresponding color from 3.2 ( you may need to define a suitable mapping from single genes to what is actually shown in the pathway map...)"
   ]
  },
  {
   "cell_type": "code",
   "execution_count": 81,
   "metadata": {
    "collapsed": false
   },
   "outputs": [
    {
     "data": {
      "text/plain": [
       "Index([u'Plekhg5', u'Nampt', u'Man2a2', u'Shank3', u'Shank2', u'Shank1',\n",
       "       u'Syt1', u'Pmvk', u'Abcb1a', u'Klc3',\n",
       "       ...\n",
       "       u'Bmp2', u'Rxrg', u'Rxra', u'Ddx20', u'Chst1', u'Chst3', u'Chst2',\n",
       "       u'Chst5', u'Chst4', u'Chst7'],\n",
       "      dtype='object', name=u'gene', length=7112)"
      ]
     },
     "execution_count": 81,
     "metadata": {},
     "output_type": "execute_result"
    }
   ],
   "source": [
    "# list storing the differentially expressed genes\n",
    "fold_change_filtered.index"
   ]
  },
  {
   "cell_type": "code",
   "execution_count": 82,
   "metadata": {
    "collapsed": false,
    "scrolled": true
   },
   "outputs": [],
   "source": [
    "# get the pathway mmu04740\n",
    "pathway = KGML_parser.read(kegg_get(\"mmu04740\", \"kgml\"))\n",
    "canvas = KGMLCanvas(pathway, import_imagemap=True)\n",
    "\n",
    "# iterate over each gene in the pathway\n",
    "for gene in pathway.genes:\n",
    "    \n",
    "    # by default gene is not diff. expr.\n",
    "    is_gene_diff_expr = False\n",
    "    \n",
    "    # get the list of all kegg ids for the given gene\n",
    "    list_of_all_kegg_ids_for_gene = gene.name.split()\n",
    "    \n",
    "    # get gene name for the kegg_id\n",
    "    for kegg_id_ in list_of_all_kegg_ids_for_gene:\n",
    "        \n",
    "        # get list of all gene names for the given kegg id\n",
    "        gene_names = kegg_get(kegg_id_).read().replace(\"DEFINITION\", \"NAME\").split(\"NAME\")[1].strip().split(\",\")\n",
    "        \n",
    "        # iterate over each gene_name\n",
    "        for gene_name in gene_names:\n",
    "            \n",
    "            # check if gene is diff. expressed\n",
    "            if gene_name in fold_change_filtered.index:\n",
    "                \n",
    "                # if gene is significant\n",
    "                if fold_change_filtered.loc[gene_name]['holm-sidak'] < 0.05:\n",
    "                    is_gene_diff_expr = True\n",
    "                    \n",
    "                    # change color\n",
    "                    for graphic in gene.graphics:\n",
    "                        graphic.bgcolor = '#FF0000'\n",
    "                break\n",
    "        \n",
    "        # break for faster runtime\n",
    "        if is_gene_diff_expr:\n",
    "            break\n"
   ]
  },
  {
   "cell_type": "code",
   "execution_count": 83,
   "metadata": {
    "collapsed": false
   },
   "outputs": [
    {
     "data": {
      "text/html": [
       "<iframe src=figures/test_new_colors.pdf width=700 height=350></iframe>"
      ],
      "text/plain": [
       "<IPython.core.display.HTML object>"
      ]
     },
     "execution_count": 83,
     "metadata": {},
     "output_type": "execute_result"
    }
   ],
   "source": [
    "# create a new figure and draw the pathway\n",
    "canvas.draw(\"figures/test_new_colors.pdf\")\n",
    "PDF(\"figures/test_new_colors.pdf\")"
   ]
  },
  {
   "cell_type": "markdown",
   "metadata": {},
   "source": [
    "### Subtask 3.4: Define a suitable continuous color range representing the log2 fold changes of the all the genes in your data"
   ]
  },
  {
   "cell_type": "markdown",
   "metadata": {},
   "source": [
    "hint:\n",
    "\n",
    "http://bsou.io/posts/color-gradients-with-python"
   ]
  },
  {
   "cell_type": "code",
   "execution_count": 84,
   "metadata": {
    "collapsed": true
   },
   "outputs": [],
   "source": [
    "# done in 3.5"
   ]
  },
  {
   "cell_type": "markdown",
   "metadata": {},
   "source": [
    "### Subtask 3.5: Visualize the pathway(s) from 3.1 in such a way that the included genes have the corresponding color from 3.4"
   ]
  },
  {
   "cell_type": "code",
   "execution_count": 85,
   "metadata": {
    "collapsed": true
   },
   "outputs": [],
   "source": [
    "def RGB_to_hex(RGB):\n",
    "    ''' [255,255,255] -> \"#FFFFFF\" \n",
    "        \n",
    "        RGB: rgb values to convert to hex\n",
    "    '''\n",
    "    # Components need to be integers for hex to make sense\n",
    "    RGB = [int(x) for x in RGB]\n",
    "    return \"#\"+\"\".join([\"0{0:x}\".format(v) if v < 16 else\n",
    "            \"{0:x}\".format(v) for v in RGB])"
   ]
  },
  {
   "cell_type": "code",
   "execution_count": 86,
   "metadata": {
    "collapsed": false
   },
   "outputs": [
    {
     "data": {
      "text/plain": [
       "-0.40764013647200004"
      ]
     },
     "execution_count": 86,
     "metadata": {},
     "output_type": "execute_result"
    }
   ],
   "source": [
    "fc_df_gene_index['log2 fold change'].describe()['min']"
   ]
  },
  {
   "cell_type": "code",
   "execution_count": 87,
   "metadata": {
    "collapsed": false
   },
   "outputs": [
    {
     "data": {
      "text/plain": [
       "0.64631521217800003"
      ]
     },
     "execution_count": 87,
     "metadata": {},
     "output_type": "execute_result"
    }
   ],
   "source": [
    "fc_df_gene_index['log2 fold change'].describe()['max']-fc_df_gene_index['log2 fold change'].describe()['min']"
   ]
  },
  {
   "cell_type": "code",
   "execution_count": 88,
   "metadata": {
    "collapsed": false
   },
   "outputs": [
    {
     "data": {
      "text/html": [
       "<iframe src=figures/fold_change.pdf width=700 height=350></iframe>"
      ],
      "text/plain": [
       "<IPython.core.display.HTML object>"
      ]
     },
     "execution_count": 88,
     "metadata": {},
     "output_type": "execute_result"
    }
   ],
   "source": [
    "    \n",
    "    # get the pathway and the canvas of the pathway\n",
    "    pathway = KGML_parser.read(kegg_get(\"mmu04740\", \"kgml\"))\n",
    "    canvas = KGMLCanvas(pathway, import_imagemap=True)\n",
    "\n",
    "    # get the min and max fold change (to normalize the data)\n",
    "    min_fold_change = fc_df_gene_index['log2 fold change'].describe()['min']\n",
    "    max_fold_change = fc_df_gene_index['log2 fold change'].describe()['max']\n",
    "    \n",
    "    # iterate over each gene in the pathway\n",
    "    for gene in pathway.genes:\n",
    "    \n",
    "        # gene is not diff. expr. by default\n",
    "        is_gene_diff_expr = False\n",
    "        \n",
    "        # get the list of all kegg ids for the given gene\n",
    "        list_of_all_kegg_ids_for_gene = gene.name.split()\n",
    "    \n",
    "        # get all gene names for the kegg_id\n",
    "        for kegg_id_ in list_of_all_kegg_ids_for_gene:\n",
    "        \n",
    "            # get list of all gene names for the given kegg id\n",
    "            gene_names = kegg_get(kegg_id_).read().replace(\"DEFINITION\", \"NAME\").split(\"NAME\")[1].strip().split(\",\")\n",
    "        \n",
    "            # iterate over each gene_name\n",
    "            for gene_name in gene_names:\n",
    "            \n",
    "                # check if gene is in dataframe \n",
    "                if gene_name in fc_df_gene_index.index:\n",
    "                    \n",
    "                    # get the log_2_fold_change\n",
    "                    log_2_fold_change = fc_df_gene_index.loc[gene_name]['log2 fold change']\n",
    "                    \n",
    "                    # map log_2_fold_change to [0,1], min_fold_change is negativ (-> subtract with one wants to add it)\n",
    "                    log_2_fold_change = (log_2_fold_change -min_fold_change) / (max_fold_change-min_fold_change)\n",
    "                                  \n",
    "                    # seaborn color map\n",
    "                    #color_map = plt.get_cmap('spectral')\n",
    "                    color_map = plt.get_cmap('RdYlGn')\n",
    "                    \n",
    "                    # get the rbg color from the color map\n",
    "                    rbg_color = color_map(log_2_fold_change)\n",
    "                    \n",
    "                    # get the hex value for the color\n",
    "                    hex_value = rgb_to_hex(rbg_color)\n",
    "                    \n",
    "                    # gene is diff. expr\n",
    "                    is_gene_diff_expr = True\n",
    "                    \n",
    "                    # recolor the gene with the corresponding color\n",
    "                    for graphic in gene.graphics:\n",
    "                        graphic.bgcolor = hex_value\n",
    "                    \n",
    "                    # value has been found\n",
    "                    break\n",
    "        \n",
    "            # break for faster runtime\n",
    "            if is_gene_diff_expr:\n",
    "                break\n",
    "            \n",
    "    # create the pdf and draw it        \n",
    "    canvas.draw(\"figures/fold_change.pdf\")\n",
    "    PDF(\"figures/fold_change.pdf\")        \n",
    "       "
   ]
  }
 ],
 "metadata": {
  "anaconda-cloud": {},
  "kernelspec": {
   "display_name": "Python [Root]",
   "language": "python",
   "name": "Python [Root]"
  },
  "language_info": {
   "codemirror_mode": {
    "name": "ipython",
    "version": 2
   },
   "file_extension": ".py",
   "mimetype": "text/x-python",
   "name": "python",
   "nbconvert_exporter": "python",
   "pygments_lexer": "ipython2",
   "version": "2.7.11"
  }
 },
 "nbformat": 4,
 "nbformat_minor": 0
}
