{
 "cells": [
  {
   "cell_type": "markdown",
   "metadata": {},
   "source": [
    "## Task 1: KEGG and gene id mapping"
   ]
  },
  {
   "cell_type": "markdown",
   "metadata": {},
   "source": [
    "Familiarize yourself with the KEGG Rest interface and how to access it with Biopyhton:\n",
    "\n",
    "http://www.genome.jp/kegg/rest/keggapi.html\n",
    "\n",
    "http://nbviewer.jupyter.org/github/widdowquinn/notebooks/blob/master/Biopython_KGML_intro.ipynb"
   ]
  },
  {
   "cell_type": "code",
   "execution_count": 1,
   "metadata": {
    "collapsed": false
   },
   "outputs": [],
   "source": [
    "from Bio import SeqIO\n",
    "from Bio.KEGG.REST import *\n",
    "from Bio.KEGG.KGML import KGML_parser\n",
    "from Bio.Graphics.KGML_vis import KGMLCanvas\n",
    "from Bio.Graphics.ColorSpiral import ColorSpiral\n",
    "from IPython.display import Image, HTML\n",
    "\n",
    "import pandas as pd\n",
    "import numpy as np\n",
    "import seaborn as sns\n",
    "import matplotlib.pyplot as plt"
   ]
  },
  {
   "cell_type": "code",
   "execution_count": 2,
   "metadata": {
    "collapsed": true
   },
   "outputs": [],
   "source": [
    "%matplotlib inline"
   ]
  },
  {
   "cell_type": "markdown",
   "metadata": {},
   "source": [
    "### Subtask 1.1 Extract gene lists for all (mouse) KEGG pathways and store them in a suitable Python data structure"
   ]
  },
  {
   "cell_type": "code",
   "execution_count": 5,
   "metadata": {
    "collapsed": false,
    "scrolled": true
   },
   "outputs": [
    {
     "name": "stdout",
     "output_type": "stream",
     "text": [
      "path:mmu00010\tGlycolysis / Gluconeogenesis - Mus musculus (mouse)\n",
      "path:mmu00020\tCitrate cycle (TCA cycle) - Mus musculus (mouse)\n",
      "path:mmu00030\tPentose phosphate pathway - Mus musculus (mouse)\n",
      "path:mmu00040\tPentose and glucuronate interconversions - Mus musculus (mouse)\n",
      "path:mmu00051\tFructose and mannose metabolism - Mus musculus (mouse)\n",
      "path:mmu00052\tGalactose metabolism - Mus musculus (mouse)\n",
      "path:mmu00053\tAscorbate and aldarate metabolism - Mus musculus (mouse)\n",
      "path:mmu00061\tFatty acid biosynthesis - Mus musculus (mouse)\n",
      "path:mmu00062\tFatty acid elongation - Mus musculus (mouse)\n",
      "path:mmu00071\tFatty acid degradation - Mus musculus (mouse)\n",
      "path:mmu00072\tSynthesis and degradation of ketone bodies - Mus musculus (mouse)\n",
      "path:mmu00100\tSteroid biosynthesis - Mus musculus (mouse)\n",
      "path:mmu00120\tPrimary bile acid biosynthesis - Mus musculus (mouse)\n",
      "path:mmu00130\tUbiquinone and other terpenoid-quinone biosynthesis - Mus musculus (mouse)\n",
      "path:mmu00140\tSteroid hormone biosynthesis - Mus musculus (mouse)\n",
      "path:mmu00190\tOxidative phosphorylation - Mus musculus (mouse)\n",
      "path:mmu00220\tArginine biosynthesis - Mus musculus (mouse)\n",
      "path:mmu00230\tPurine metabolism - Mus musculus (mouse)\n",
      "path:mmu00232\tCaffeine metabolism - Mus musculus (mouse)\n",
      "path:mmu00240\tPyrimidine metabolism - Mus musculus (mouse)\n",
      "path:mmu00250\tAlanine, aspartate and glutamate metabolism - Mus musculus (mouse)\n",
      "path:mmu00260\tGlycine, serine and threonine metabolism - Mus musculus (mouse)\n",
      "path:mmu00270\tCysteine and methionine metabolism - Mus musculus (mouse)\n",
      "path:mmu00280\tValine, leucine and isoleucine degradation - Mus musculus (mouse)\n",
      "path:mmu00290\tValine, leucine and isoleucine biosynthesis - Mus musculus (mouse)\n",
      "path:mmu00300\tLysine biosynthesis - Mus musculus (mouse)\n",
      "path:mmu00310\tLysine degradation - Mus musculus (mouse)\n",
      "path:mmu00330\tArginine and proline metabolism - Mus musculus (mouse)\n",
      "path:mmu00340\tHistidine metabolism - Mus musculus (mouse)\n",
      "path:mmu00350\tTyrosine metabolism - Mus musculus (mouse)\n",
      "path:mmu00360\tPhenylalanine metabolism - Mus musculus (mouse)\n",
      "path:mmu00380\tTryptophan metabolism - Mus musculus (mouse)\n",
      "path:mmu00400\tPhenylalanine, tyrosine and tryptophan biosynthesis - Mus musculus (mouse)\n",
      "path:mmu00410\tbeta-Alanine metabolism - Mus musculus (mouse)\n",
      "path:mmu00430\tTaurine and hypotaurine metabolism - Mus musculus (mouse)\n",
      "path:mmu00450\tSelenocompound metabolism - Mus musculus (mouse)\n",
      "path:mmu00471\tD-Glutamine and D-glutamate metabolism - Mus musculus (mouse)\n",
      "path:mmu00472\tD-Arginine and D-ornithine metabolism - Mus musculus (mouse)\n",
      "path:mmu00480\tGlutathione metabolism - Mus musculus (mouse)\n",
      "path:mmu00500\tStarch and sucrose metabolism - Mus musculus (mouse)\n",
      "path:mmu00510\tN-Glycan biosynthesis - Mus musculus (mouse)\n",
      "path:mmu00511\tOther glycan degradation - Mus musculus (mouse)\n",
      "path:mmu00512\tMucin type O-Glycan biosynthesis - Mus musculus (mouse)\n",
      "path:mmu00514\tOther types of O-glycan biosynthesis - Mus musculus (mouse)\n",
      "path:mmu00520\tAmino sugar and nucleotide sugar metabolism - Mus musculus (mouse)\n",
      "path:mmu00524\tNeomycin, kanamycin and gentamicin biosynthesis - Mus musculus (mouse)\n",
      "path:mmu00531\tGlycosaminoglycan degradation - Mus musculus (mouse)\n",
      "path:mmu00532\tGlycosaminoglycan biosynthesis - chondroitin sulfate / dermatan sulfate - Mus musculus (mouse)\n",
      "path:mmu00533\tGlycosaminoglycan biosynthesis - keratan sulfate - Mus musculus (mouse)\n",
      "path:mmu00534\tGlycosaminoglycan biosynthesis - heparan sulfate / heparin - Mus musculus (mouse)\n",
      "path:mmu00561\tGlycerolipid metabolism - Mus musculus (mouse)\n",
      "path:mmu00562\tInositol phosphate metabolism - Mus musculus (mouse)\n",
      "path:mmu00563\tGlycosylphosphatidylinositol(GPI)-anchor biosynthesis - Mus musculus (mouse)\n",
      "path:mmu00564\tGlycerophospholipid metabolism - Mus musculus (mouse)\n",
      "path:mmu00565\tEther lipid metabolism - Mus musculus (mouse)\n",
      "path:mmu00590\tArachidonic acid metabolism - Mus musculus (mouse)\n",
      "path:mmu00591\tLinoleic acid metabolism - Mus musculus (mouse)\n",
      "path:mmu00592\talpha-Linolenic acid metabolism - Mus musculus (mouse)\n",
      "path:mmu00600\tSphingolipid metabolism - Mus musculus (mouse)\n",
      "path:mmu00601\tGlycosphingolipid biosynthesis - lacto and neolacto series - Mus musculus (mouse)\n",
      "path:mmu00603\tGlycosphingolipid biosynthesis - globo and isoglobo series - Mus musculus (mouse)\n",
      "path:mmu00604\tGlycosphingolipid biosynthesis - ganglio series - Mus musculus (mouse)\n",
      "path:mmu00620\tPyruvate metabolism - Mus musculus (mouse)\n",
      "path:mmu00630\tGlyoxylate and dicarboxylate metabolism - Mus musculus (mouse)\n",
      "path:mmu00640\tPropanoate metabolism - Mus musculus (mouse)\n",
      "path:mmu00650\tButanoate metabolism - Mus musculus (mouse)\n",
      "path:mmu00670\tOne carbon pool by folate - Mus musculus (mouse)\n",
      "path:mmu00730\tThiamine metabolism - Mus musculus (mouse)\n",
      "path:mmu00740\tRiboflavin metabolism - Mus musculus (mouse)\n",
      "path:mmu00750\tVitamin B6 metabolism - Mus musculus (mouse)\n",
      "path:mmu00760\tNicotinate and nicotinamide metabolism - Mus musculus (mouse)\n",
      "path:mmu00770\tPantothenate and CoA biosynthesis - Mus musculus (mouse)\n",
      "path:mmu00780\tBiotin metabolism - Mus musculus (mouse)\n",
      "path:mmu00785\tLipoic acid metabolism - Mus musculus (mouse)\n",
      "path:mmu00790\tFolate biosynthesis - Mus musculus (mouse)\n",
      "path:mmu00830\tRetinol metabolism - Mus musculus (mouse)\n",
      "path:mmu00860\tPorphyrin and chlorophyll metabolism - Mus musculus (mouse)\n",
      "path:mmu00900\tTerpenoid backbone biosynthesis - Mus musculus (mouse)\n",
      "path:mmu00910\tNitrogen metabolism - Mus musculus (mouse)\n",
      "path:mmu00920\tSulfur metabolism - Mus musculus (mouse)\n",
      "path:mmu00970\tAminoacyl-tRNA biosynthesis - Mus musculus (mouse)\n",
      "path:mmu00980\tMetabolism of xenobiotics by cytochrome P450 - Mus musculus (mouse)\n",
      "path:mmu00982\tDrug metabolism - cytochrome P450 - Mus musculus (mouse)\n",
      "path:mmu00983\tDrug metabolism - other enzymes - Mus musculus (mouse)\n",
      "path:mmu01040\tBiosynthesis of unsaturated fatty acids - Mus musculus (mouse)\n",
      "path:mmu01100\tMetabolic pathways - Mus musculus (mouse)\n",
      "path:mmu01200\tCarbon metabolism - Mus musculus (mouse)\n",
      "path:mmu01210\t2-Oxocarboxylic acid metabolism - Mus musculus (mouse)\n",
      "path:mmu01212\tFatty acid metabolism - Mus musculus (mouse)\n",
      "path:mmu01230\tBiosynthesis of amino acids - Mus musculus (mouse)\n",
      "path:mmu01521\tEGFR tyrosine kinase inhibitor resistance - Mus musculus (mouse)\n",
      "path:mmu01522\tEndocrine resistance - Mus musculus (mouse)\n",
      "path:mmu01524\tPlatinum drug resistance - Mus musculus (mouse)\n",
      "path:mmu02010\tABC transporters - Mus musculus (mouse)\n",
      "path:mmu03008\tRibosome biogenesis in eukaryotes - Mus musculus (mouse)\n",
      "path:mmu03010\tRibosome - Mus musculus (mouse)\n",
      "path:mmu03013\tRNA transport - Mus musculus (mouse)\n",
      "path:mmu03015\tmRNA surveillance pathway - Mus musculus (mouse)\n",
      "path:mmu03018\tRNA degradation - Mus musculus (mouse)\n",
      "path:mmu03020\tRNA polymerase - Mus musculus (mouse)\n",
      "path:mmu03022\tBasal transcription factors - Mus musculus (mouse)\n",
      "path:mmu03030\tDNA replication - Mus musculus (mouse)\n",
      "path:mmu03040\tSpliceosome - Mus musculus (mouse)\n",
      "path:mmu03050\tProteasome - Mus musculus (mouse)\n",
      "path:mmu03060\tProtein export - Mus musculus (mouse)\n",
      "path:mmu03320\tPPAR signaling pathway - Mus musculus (mouse)\n",
      "path:mmu03410\tBase excision repair - Mus musculus (mouse)\n",
      "path:mmu03420\tNucleotide excision repair - Mus musculus (mouse)\n",
      "path:mmu03430\tMismatch repair - Mus musculus (mouse)\n",
      "path:mmu03440\tHomologous recombination - Mus musculus (mouse)\n",
      "path:mmu03450\tNon-homologous end-joining - Mus musculus (mouse)\n",
      "path:mmu03460\tFanconi anemia pathway - Mus musculus (mouse)\n",
      "path:mmu04010\tMAPK signaling pathway - Mus musculus (mouse)\n",
      "path:mmu04012\tErbB signaling pathway - Mus musculus (mouse)\n",
      "path:mmu04014\tRas signaling pathway - Mus musculus (mouse)\n",
      "path:mmu04015\tRap1 signaling pathway - Mus musculus (mouse)\n",
      "path:mmu04020\tCalcium signaling pathway - Mus musculus (mouse)\n",
      "path:mmu04022\tcGMP-PKG signaling pathway - Mus musculus (mouse)\n",
      "path:mmu04024\tcAMP signaling pathway - Mus musculus (mouse)\n",
      "path:mmu04060\tCytokine-cytokine receptor interaction - Mus musculus (mouse)\n",
      "path:mmu04062\tChemokine signaling pathway - Mus musculus (mouse)\n",
      "path:mmu04064\tNF-kappa B signaling pathway - Mus musculus (mouse)\n",
      "path:mmu04066\tHIF-1 signaling pathway - Mus musculus (mouse)\n",
      "path:mmu04068\tFoxO signaling pathway - Mus musculus (mouse)\n",
      "path:mmu04070\tPhosphatidylinositol signaling system - Mus musculus (mouse)\n",
      "path:mmu04071\tSphingolipid signaling pathway - Mus musculus (mouse)\n",
      "path:mmu04072\tPhospholipase D signaling pathway - Mus musculus (mouse)\n",
      "path:mmu04080\tNeuroactive ligand-receptor interaction - Mus musculus (mouse)\n",
      "path:mmu04110\tCell cycle - Mus musculus (mouse)\n",
      "path:mmu04114\tOocyte meiosis - Mus musculus (mouse)\n",
      "path:mmu04115\tp53 signaling pathway - Mus musculus (mouse)\n",
      "path:mmu04120\tUbiquitin mediated proteolysis - Mus musculus (mouse)\n",
      "path:mmu04122\tSulfur relay system - Mus musculus (mouse)\n",
      "path:mmu04130\tSNARE interactions in vesicular transport - Mus musculus (mouse)\n",
      "path:mmu04140\tRegulation of autophagy - Mus musculus (mouse)\n",
      "path:mmu04141\tProtein processing in endoplasmic reticulum - Mus musculus (mouse)\n",
      "path:mmu04142\tLysosome - Mus musculus (mouse)\n",
      "path:mmu04144\tEndocytosis - Mus musculus (mouse)\n",
      "path:mmu04145\tPhagosome - Mus musculus (mouse)\n",
      "path:mmu04146\tPeroxisome - Mus musculus (mouse)\n",
      "path:mmu04150\tmTOR signaling pathway - Mus musculus (mouse)\n",
      "path:mmu04151\tPI3K-Akt signaling pathway - Mus musculus (mouse)\n",
      "path:mmu04152\tAMPK signaling pathway - Mus musculus (mouse)\n",
      "path:mmu04210\tApoptosis - Mus musculus (mouse)\n",
      "path:mmu04211\tLongevity regulating pathway - Mus musculus (mouse)\n",
      "path:mmu04213\tLongevity regulating pathway - multiple species - Mus musculus (mouse)\n",
      "path:mmu04215\tApoptosis - multiple species - Mus musculus (mouse)\n",
      "path:mmu04260\tCardiac muscle contraction - Mus musculus (mouse)\n",
      "path:mmu04261\tAdrenergic signaling in cardiomyocytes - Mus musculus (mouse)\n",
      "path:mmu04270\tVascular smooth muscle contraction - Mus musculus (mouse)\n",
      "path:mmu04310\tWnt signaling pathway - Mus musculus (mouse)\n",
      "path:mmu04320\tDorso-ventral axis formation - Mus musculus (mouse)\n",
      "path:mmu04330\tNotch signaling pathway - Mus musculus (mouse)\n",
      "path:mmu04340\tHedgehog signaling pathway - Mus musculus (mouse)\n",
      "path:mmu04350\tTGF-beta signaling pathway - Mus musculus (mouse)\n",
      "path:mmu04360\tAxon guidance - Mus musculus (mouse)\n",
      "path:mmu04370\tVEGF signaling pathway - Mus musculus (mouse)\n",
      "path:mmu04380\tOsteoclast differentiation - Mus musculus (mouse)\n",
      "path:mmu04390\tHippo signaling pathway - Mus musculus (mouse)\n",
      "path:mmu04392\tHippo signaling pathway -multiple species - Mus musculus (mouse)\n",
      "path:mmu04510\tFocal adhesion - Mus musculus (mouse)\n",
      "path:mmu04512\tECM-receptor interaction - Mus musculus (mouse)\n",
      "path:mmu04514\tCell adhesion molecules (CAMs) - Mus musculus (mouse)\n",
      "path:mmu04520\tAdherens junction - Mus musculus (mouse)\n",
      "path:mmu04530\tTight junction - Mus musculus (mouse)\n",
      "path:mmu04540\tGap junction - Mus musculus (mouse)\n",
      "path:mmu04550\tSignaling pathways regulating pluripotency of stem cells - Mus musculus (mouse)\n",
      "path:mmu04610\tComplement and coagulation cascades - Mus musculus (mouse)\n",
      "path:mmu04611\tPlatelet activation - Mus musculus (mouse)\n",
      "path:mmu04612\tAntigen processing and presentation - Mus musculus (mouse)\n",
      "path:mmu04614\tRenin-angiotensin system - Mus musculus (mouse)\n",
      "path:mmu04620\tToll-like receptor signaling pathway - Mus musculus (mouse)\n",
      "path:mmu04621\tNOD-like receptor signaling pathway - Mus musculus (mouse)\n",
      "path:mmu04622\tRIG-I-like receptor signaling pathway - Mus musculus (mouse)\n",
      "path:mmu04623\tCytosolic DNA-sensing pathway - Mus musculus (mouse)\n",
      "path:mmu04630\tJak-STAT signaling pathway - Mus musculus (mouse)\n",
      "path:mmu04640\tHematopoietic cell lineage - Mus musculus (mouse)\n",
      "path:mmu04650\tNatural killer cell mediated cytotoxicity - Mus musculus (mouse)\n",
      "path:mmu04660\tT cell receptor signaling pathway - Mus musculus (mouse)\n",
      "path:mmu04662\tB cell receptor signaling pathway - Mus musculus (mouse)\n",
      "path:mmu04664\tFc epsilon RI signaling pathway - Mus musculus (mouse)\n",
      "path:mmu04666\tFc gamma R-mediated phagocytosis - Mus musculus (mouse)\n",
      "path:mmu04668\tTNF signaling pathway - Mus musculus (mouse)\n",
      "path:mmu04670\tLeukocyte transendothelial migration - Mus musculus (mouse)\n",
      "path:mmu04672\tIntestinal immune network for IgA production - Mus musculus (mouse)\n",
      "path:mmu04710\tCircadian rhythm - Mus musculus (mouse)\n",
      "path:mmu04713\tCircadian entrainment - Mus musculus (mouse)\n",
      "path:mmu04720\tLong-term potentiation - Mus musculus (mouse)\n",
      "path:mmu04721\tSynaptic vesicle cycle - Mus musculus (mouse)\n",
      "path:mmu04722\tNeurotrophin signaling pathway - Mus musculus (mouse)\n",
      "path:mmu04723\tRetrograde endocannabinoid signaling - Mus musculus (mouse)\n",
      "path:mmu04724\tGlutamatergic synapse - Mus musculus (mouse)\n",
      "path:mmu04725\tCholinergic synapse - Mus musculus (mouse)\n",
      "path:mmu04726\tSerotonergic synapse - Mus musculus (mouse)\n",
      "path:mmu04727\tGABAergic synapse - Mus musculus (mouse)\n",
      "path:mmu04728\tDopaminergic synapse - Mus musculus (mouse)\n",
      "path:mmu04730\tLong-term depression - Mus musculus (mouse)\n",
      "path:mmu04740\tOlfactory transduction - Mus musculus (mouse)\n",
      "path:mmu04742\tTaste transduction - Mus musculus (mouse)\n",
      "path:mmu04744\tPhototransduction - Mus musculus (mouse)\n",
      "path:mmu04750\tInflammatory mediator regulation of TRP channels - Mus musculus (mouse)\n",
      "path:mmu04810\tRegulation of actin cytoskeleton - Mus musculus (mouse)\n",
      "path:mmu04910\tInsulin signaling pathway - Mus musculus (mouse)\n",
      "path:mmu04911\tInsulin secretion - Mus musculus (mouse)\n",
      "path:mmu04912\tGnRH signaling pathway - Mus musculus (mouse)\n",
      "path:mmu04913\tOvarian steroidogenesis - Mus musculus (mouse)\n",
      "path:mmu04914\tProgesterone-mediated oocyte maturation - Mus musculus (mouse)\n",
      "path:mmu04915\tEstrogen signaling pathway - Mus musculus (mouse)\n",
      "path:mmu04916\tMelanogenesis - Mus musculus (mouse)\n",
      "path:mmu04917\tProlactin signaling pathway - Mus musculus (mouse)\n",
      "path:mmu04918\tThyroid hormone synthesis - Mus musculus (mouse)\n",
      "path:mmu04919\tThyroid hormone signaling pathway - Mus musculus (mouse)\n",
      "path:mmu04920\tAdipocytokine signaling pathway - Mus musculus (mouse)\n",
      "path:mmu04921\tOxytocin signaling pathway - Mus musculus (mouse)\n",
      "path:mmu04922\tGlucagon signaling pathway - Mus musculus (mouse)\n",
      "path:mmu04923\tRegulation of lipolysis in adipocytes - Mus musculus (mouse)\n",
      "path:mmu04924\tRenin secretion - Mus musculus (mouse)\n",
      "path:mmu04925\tAldosterone synthesis and secretion - Mus musculus (mouse)\n",
      "path:mmu04930\tType II diabetes mellitus - Mus musculus (mouse)\n",
      "path:mmu04931\tInsulin resistance - Mus musculus (mouse)\n",
      "path:mmu04932\tNon-alcoholic fatty liver disease (NAFLD) - Mus musculus (mouse)\n",
      "path:mmu04933\tAGE-RAGE signaling pathway in diabetic complications - Mus musculus (mouse)\n",
      "path:mmu04940\tType I diabetes mellitus - Mus musculus (mouse)\n",
      "path:mmu04950\tMaturity onset diabetes of the young - Mus musculus (mouse)\n",
      "path:mmu04960\tAldosterone-regulated sodium reabsorption - Mus musculus (mouse)\n",
      "path:mmu04961\tEndocrine and other factor-regulated calcium reabsorption - Mus musculus (mouse)\n",
      "path:mmu04962\tVasopressin-regulated water reabsorption - Mus musculus (mouse)\n",
      "path:mmu04964\tProximal tubule bicarbonate reclamation - Mus musculus (mouse)\n",
      "path:mmu04966\tCollecting duct acid secretion - Mus musculus (mouse)\n",
      "path:mmu04970\tSalivary secretion - Mus musculus (mouse)\n",
      "path:mmu04971\tGastric acid secretion - Mus musculus (mouse)\n",
      "path:mmu04972\tPancreatic secretion - Mus musculus (mouse)\n",
      "path:mmu04973\tCarbohydrate digestion and absorption - Mus musculus (mouse)\n",
      "path:mmu04974\tProtein digestion and absorption - Mus musculus (mouse)\n",
      "path:mmu04975\tFat digestion and absorption - Mus musculus (mouse)\n",
      "path:mmu04976\tBile secretion - Mus musculus (mouse)\n",
      "path:mmu04977\tVitamin digestion and absorption - Mus musculus (mouse)\n",
      "path:mmu04978\tMineral absorption - Mus musculus (mouse)\n",
      "path:mmu05010\tAlzheimer's disease - Mus musculus (mouse)\n",
      "path:mmu05012\tParkinson's disease - Mus musculus (mouse)\n",
      "path:mmu05014\tAmyotrophic lateral sclerosis (ALS) - Mus musculus (mouse)\n",
      "path:mmu05016\tHuntington's disease - Mus musculus (mouse)\n",
      "path:mmu05020\tPrion diseases - Mus musculus (mouse)\n",
      "path:mmu05030\tCocaine addiction - Mus musculus (mouse)\n",
      "path:mmu05031\tAmphetamine addiction - Mus musculus (mouse)\n",
      "path:mmu05032\tMorphine addiction - Mus musculus (mouse)\n",
      "path:mmu05033\tNicotine addiction - Mus musculus (mouse)\n",
      "path:mmu05034\tAlcoholism - Mus musculus (mouse)\n",
      "path:mmu05100\tBacterial invasion of epithelial cells - Mus musculus (mouse)\n",
      "path:mmu05132\tSalmonella infection - Mus musculus (mouse)\n",
      "path:mmu05133\tPertussis - Mus musculus (mouse)\n",
      "path:mmu05134\tLegionellosis - Mus musculus (mouse)\n",
      "path:mmu05140\tLeishmaniasis - Mus musculus (mouse)\n",
      "path:mmu05142\tChagas disease (American trypanosomiasis) - Mus musculus (mouse)\n",
      "path:mmu05143\tAfrican trypanosomiasis - Mus musculus (mouse)\n",
      "path:mmu05144\tMalaria - Mus musculus (mouse)\n",
      "path:mmu05145\tToxoplasmosis - Mus musculus (mouse)\n",
      "path:mmu05146\tAmoebiasis - Mus musculus (mouse)\n",
      "path:mmu05150\tStaphylococcus aureus infection - Mus musculus (mouse)\n",
      "path:mmu05152\tTuberculosis - Mus musculus (mouse)\n",
      "path:mmu05160\tHepatitis C - Mus musculus (mouse)\n",
      "path:mmu05161\tHepatitis B - Mus musculus (mouse)\n",
      "path:mmu05162\tMeasles - Mus musculus (mouse)\n",
      "path:mmu05164\tInfluenza A - Mus musculus (mouse)\n",
      "path:mmu05166\tHTLV-I infection - Mus musculus (mouse)\n",
      "path:mmu05168\tHerpes simplex infection - Mus musculus (mouse)\n",
      "path:mmu05169\tEpstein-Barr virus infection - Mus musculus (mouse)\n",
      "path:mmu05200\tPathways in cancer - Mus musculus (mouse)\n",
      "path:mmu05202\tTranscriptional misregulation in cancer - Mus musculus (mouse)\n",
      "path:mmu05203\tViral carcinogenesis - Mus musculus (mouse)\n",
      "path:mmu05204\tChemical carcinogenesis - Mus musculus (mouse)\n",
      "path:mmu05205\tProteoglycans in cancer - Mus musculus (mouse)\n",
      "path:mmu05206\tMicroRNAs in cancer - Mus musculus (mouse)\n",
      "path:mmu05210\tColorectal cancer - Mus musculus (mouse)\n",
      "path:mmu05211\tRenal cell carcinoma - Mus musculus (mouse)\n",
      "path:mmu05212\tPancreatic cancer - Mus musculus (mouse)\n",
      "path:mmu05213\tEndometrial cancer - Mus musculus (mouse)\n",
      "path:mmu05214\tGlioma - Mus musculus (mouse)\n",
      "path:mmu05215\tProstate cancer - Mus musculus (mouse)\n",
      "path:mmu05216\tThyroid cancer - Mus musculus (mouse)\n",
      "path:mmu05217\tBasal cell carcinoma - Mus musculus (mouse)\n",
      "path:mmu05218\tMelanoma - Mus musculus (mouse)\n",
      "path:mmu05219\tBladder cancer - Mus musculus (mouse)\n",
      "path:mmu05220\tChronic myeloid leukemia - Mus musculus (mouse)\n",
      "path:mmu05221\tAcute myeloid leukemia - Mus musculus (mouse)\n",
      "path:mmu05222\tSmall cell lung cancer - Mus musculus (mouse)\n",
      "path:mmu05223\tNon-small cell lung cancer - Mus musculus (mouse)\n",
      "path:mmu05224\tBreast cancer - Mus musculus (mouse)\n",
      "path:mmu05230\tCentral carbon metabolism in cancer - Mus musculus (mouse)\n",
      "path:mmu05231\tCholine metabolism in cancer - Mus musculus (mouse)\n",
      "path:mmu05310\tAsthma - Mus musculus (mouse)\n",
      "path:mmu05320\tAutoimmune thyroid disease - Mus musculus (mouse)\n",
      "path:mmu05321\tInflammatory bowel disease (IBD) - Mus musculus (mouse)\n",
      "path:mmu05322\tSystemic lupus erythematosus - Mus musculus (mouse)\n",
      "path:mmu05323\tRheumatoid arthritis - Mus musculus (mouse)\n",
      "path:mmu05330\tAllograft rejection - Mus musculus (mouse)\n",
      "path:mmu05332\tGraft-versus-host disease - Mus musculus (mouse)\n",
      "path:mmu05340\tPrimary immunodeficiency - Mus musculus (mouse)\n",
      "path:mmu05410\tHypertrophic cardiomyopathy (HCM) - Mus musculus (mouse)\n",
      "path:mmu05412\tArrhythmogenic right ventricular cardiomyopathy (ARVC) - Mus musculus (mouse)\n",
      "path:mmu05414\tDilated cardiomyopathy - Mus musculus (mouse)\n",
      "path:mmu05416\tViral myocarditis - Mus musculus (mouse)\n",
      "\n"
     ]
    }
   ],
   "source": [
    "print(kegg_list('pathway','mmu').read())"
   ]
  },
  {
   "cell_type": "code",
   "execution_count": 6,
   "metadata": {
    "collapsed": false
   },
   "outputs": [
    {
     "data": {
      "text/plain": [
       "'\\ndef get_genes_from_pathways(organism_identifier=\\'mmu\\'):\\n     This function gets a list of gene identifiers from the pathways of the given organism.\\n    \\n        organism_identifier: the organism to search for\\n    \\n    \\n    \\n    # get a list of all pathways\\n    pathway_list = kegg_list(\\'pathway\\',\\'mmu\\').read().split(\"\\n\")\\n\\n    # list to store the pathways \\n    list_of_pathway_genes = []\\n    \\n    # path:mmu05416    Viral myocarditis - Mus musculus (mouse)\\n    # iterate over the pathways\\n    for pathway_entry in pathway_list[:-1]:\\n        \\n        # path:mmu05416\\n        pw = pathway_entry.split()[0]\\n        \\n        list_of_pathway_genes.append((pw , get_genes_from_pathway(pw)))\\n        #break\\n    \\n    return list_of_pathway_genes\\n '"
      ]
     },
     "execution_count": 6,
     "metadata": {},
     "output_type": "execute_result"
    }
   ],
   "source": [
    "'''\n",
    "def get_genes_from_pathways(organism_identifier='mmu'):\n",
    "     This function gets a list of gene identifiers from the pathways of the given organism.\n",
    "    \n",
    "        organism_identifier: the organism to search for\n",
    "    \n",
    "    \n",
    "    \n",
    "    # get a list of all pathways\n",
    "    pathway_list = kegg_list('pathway','mmu').read().split(\"\\n\")\n",
    "\n",
    "    # list to store the pathways \n",
    "    list_of_pathway_genes = []\n",
    "    \n",
    "    # path:mmu05416    Viral myocarditis - Mus musculus (mouse)\n",
    "    # iterate over the pathways\n",
    "    for pathway_entry in pathway_list[:-1]:\n",
    "        \n",
    "        # path:mmu05416\n",
    "        pw = pathway_entry.split()[0]\n",
    "        \n",
    "        list_of_pathway_genes.append((pw , get_genes_from_pathway(pw)))\n",
    "        #break\n",
    "    \n",
    "    return list_of_pathway_genes\n",
    " '''   "
   ]
  },
  {
   "cell_type": "code",
   "execution_count": 7,
   "metadata": {
    "collapsed": false
   },
   "outputs": [],
   "source": [
    "#pathway_genes_mmu = get_genes_from_pathways()"
   ]
  },
  {
   "cell_type": "code",
   "execution_count": 8,
   "metadata": {
    "collapsed": false,
    "scrolled": true
   },
   "outputs": [],
   "source": [
    "#pathway_genes_mmu"
   ]
  },
  {
   "cell_type": "code",
   "execution_count": 9,
   "metadata": {
    "collapsed": false
   },
   "outputs": [
    {
     "data": {
      "text/plain": [
       "' NOT USED ANYMORE!\\n\\ndef get_genes_from_pathway(pathway_to_search):\\n    \\n    \\n    \\n    \\n    \\n    kegg_results = kegg_link(\\'genes\\', pathway_to_search).read().split(\"\\n\")\\n    \\n    genes_of_pathway = \"\"\\n    \\n    # gene_row: path:mmu00010 \\t mmu:100042025\\n    for gene_row in kegg_results[:-1]:\\n        \\n        # mmu:100042025 -> 100042025\\n        gene_id = gene_row.split(\"\\t\")[1].split(\":\")[1]\\n            \\n        genes_of_pathway = genes_of_pathway + gene_id + \",\"\\n        \\n    return genes_of_pathway[:-1]    '"
      ]
     },
     "execution_count": 9,
     "metadata": {},
     "output_type": "execute_result"
    }
   ],
   "source": [
    "''' NOT USED ANYMORE!\n",
    "\n",
    "def get_genes_from_pathway(pathway_to_search):\n",
    "    \n",
    "    \n",
    "    \n",
    "    \n",
    "    \n",
    "    kegg_results = kegg_link('genes', pathway_to_search).read().split(\"\\n\")\n",
    "    \n",
    "    genes_of_pathway = \"\"\n",
    "    \n",
    "    # gene_row: path:mmu00010 \\t mmu:100042025\n",
    "    for gene_row in kegg_results[:-1]:\n",
    "        \n",
    "        # mmu:100042025 -> 100042025\n",
    "        gene_id = gene_row.split(\"\\t\")[1].split(\":\")[1]\n",
    "            \n",
    "        genes_of_pathway = genes_of_pathway + gene_id + \",\"\n",
    "        \n",
    "    return genes_of_pathway[:-1]    '''\n",
    "    \n",
    "    \n",
    "    "
   ]
  },
  {
   "cell_type": "code",
   "execution_count": 10,
   "metadata": {
    "collapsed": false
   },
   "outputs": [],
   "source": [
    "#get_genes_from_pathway('mmu00010')"
   ]
  },
  {
   "cell_type": "code",
   "execution_count": 11,
   "metadata": {
    "collapsed": false
   },
   "outputs": [],
   "source": [
    "def get_gene_from_pathway_by_parsing(pathway_):\n",
    "    ''' This function gets the genes for one pathway by parsing the kegg_entry\n",
    "    \n",
    "        pathway_: the pathway to get the genes from\n",
    "    \n",
    "    '''\n",
    "    \n",
    "    # try to parse the kegg entry\n",
    "    try:\n",
    "        kegg_entry = kegg_get(pathway_).read().replace(\"COMPOUND\", \"GENE\").split(\"GENE\")[1].split(\"\\n\")\n",
    "    except:\n",
    "        print(\"kegg entry: \" + str(kegg_get(pathway_).read()))\n",
    "        return\n",
    "    \n",
    "    # lists storing the kegg ids and gene names\n",
    "    list_of_kegg_ids_ = []\n",
    "    list_of_gene_names_ = []\n",
    "    \n",
    "    # iterate over kegg_entry and skip last element\n",
    "    for gene_entry in kegg_entry[:-1]:\n",
    "        \n",
    "        # add kegg_id and gene_name to lists, if there is one\n",
    "        try:\n",
    "            list_of_kegg_ids_.append(gene_entry.split()[0])\n",
    "            list_of_gene_names_.append(gene_entry.split()[1][:-1])\n",
    "        except:\n",
    "            print(\"gene entry: \" + str(gene_entry))\n",
    "        \n",
    "    return(list_of_kegg_ids_, list_of_gene_names_)\n",
    "    "
   ]
  },
  {
   "cell_type": "code",
   "execution_count": 12,
   "metadata": {
    "collapsed": true
   },
   "outputs": [],
   "source": [
    "def get_genes_from_pathways_by_parsing(organism_identifier='mmu'):\n",
    "    ''' This function gets a list of gene identifiers from the pathways of the given organism.\n",
    "    \n",
    "        organism_identifier: the organism to search for\n",
    "    \n",
    "    '''\n",
    "    \n",
    "    # get a list of all pathways\n",
    "    pathway_list = kegg_list('pathway','mmu').read().split(\"\\n\")\n",
    "\n",
    "    # list to store the pathways \n",
    "    list_of_pathway_genes = []\n",
    "    \n",
    "    # path:mmu05416    Viral myocarditis - Mus musculus (mouse)\n",
    "    # iterate over the pathways\n",
    "    for pathway_entry in pathway_list[:-1]:\n",
    "        \n",
    "        # path:mmu05416\n",
    "        pw = pathway_entry.split()[0]\n",
    "        \n",
    "        # get the gene from the pathway by parsing the kegg string\n",
    "        genes = get_gene_from_pathway_by_parsing(pw)\n",
    "        \n",
    "        # append only if genes is valid\n",
    "        if not genes is None:\n",
    "            list_of_pathway_genes.append((pw , genes[0], genes[1]))\n",
    "        \n",
    "        \n",
    "    return list_of_pathway_genes\n",
    "    "
   ]
  },
  {
   "cell_type": "code",
   "execution_count": 13,
   "metadata": {
    "collapsed": false,
    "scrolled": true
   },
   "outputs": [
    {
     "name": "stdout",
     "output_type": "stream",
     "text": [
      "gene entry: ///\n",
      "gene entry: ///\n",
      "gene entry: ///\n",
      "kegg entry: ENTRY       mmu01100                    Pathway\n",
      "NAME        Metabolic pathways - Mus musculus (mouse)\n",
      "PATHWAY_MAP mmu01100  Metabolic pathways\n",
      "ORGANISM    Mus musculus (mouse) [GN:mmu]\n",
      "KO_PATHWAY  ko01100\n",
      "///\n",
      "\n",
      "kegg entry: ENTRY       mmu01200                    Pathway\n",
      "NAME        Carbon metabolism - Mus musculus (mouse)\n",
      "DESCRIPTION Carbon metabolism is the most basic aspect of life. This map presents an overall view of central carbon metabolism, where the number of carbons is shown for each compound denoted by a circle, excluding a cofactor (CoA, CoM, THF, or THMPT) that is replaced by an asterisk. The map contains carbon utilization pathways of glycolysis (map00010), pentose phosphate pathway (map00030), and citrate cycle (map00020), and six known carbon fixation pathways (map00710 and map00720) as well as some pathways of methane metabolism (map00680). The six carbon fixation pathways are: (1) reductive pentose phosphate cycle (Calvin cycle) in plants and cyanobacteria that perform oxygenic photosynthesis, (2) reductive citrate cycle in photosynthetic green sulfur bacteria and some chemolithoautotrophs, (3) 3-hydroxypropionate bi-cycle in photosynthetic green nonsulfur bacteria, two variants of 4-hydroxybutyrate pathways in Crenarchaeota called (4) hydroxypropionate-hydroxybutyrate cycle and (5) dicarboxylate-hydroxybutyrate cycle, and (6) reductive acetyl-CoA pathway in methanogenic bacteria.\n",
      "CLASS       Metabolism; Overview\n",
      "PATHWAY_MAP mmu01200  Carbon metabolism\n",
      "MODULE      mmu_M00001  Glycolysis (Embden-Meyerhof pathway), glucose => pyruvate [PATH:mmu01200]\n",
      "            mmu_M00002  Glycolysis, core module involving three-carbon compounds [PATH:mmu01200]\n",
      "            mmu_M00004  Pentose phosphate pathway (Pentose phosphate cycle) [PATH:mmu01200]\n",
      "            mmu_M00005  PRPP biosynthesis, ribose 5P => PRPP [PATH:mmu01200]\n",
      "            mmu_M00006  Pentose phosphate pathway, oxidative phase, glucose 6P => ribulose 5P [PATH:mmu01200]\n",
      "            mmu_M00007  Pentose phosphate pathway, non-oxidative phase, fructose 6P => ribose 5P [PATH:mmu01200]\n",
      "            mmu_M00009  Citrate cycle (TCA cycle, Krebs cycle) [PATH:mmu01200]\n",
      "            mmu_M00010  Citrate cycle, first carbon oxidation, oxaloacetate => 2-oxoglutarate [PATH:mmu01200]\n",
      "            mmu_M00011  Citrate cycle, second carbon oxidation, 2-oxoglutarate => oxaloacetate [PATH:mmu01200]\n",
      "            mmu_M00013  Malonate semialdehyde pathway, propanoyl-CoA => acetyl-CoA [PATH:mmu01200]\n",
      "            mmu_M00020  Serine biosynthesis, glycerate-3P => serine [PATH:mmu01200]\n",
      "            mmu_M00307  Pyruvate oxidation, pyruvate => acetyl-CoA [PATH:mmu01200]\n",
      "            mmu_M00741  Propanoyl-CoA metabolism, propanoyl-CoA => succinyl-CoA [PATH:mmu01200]\n",
      "ORGANISM    Mus musculus (mouse) [GN:mmu]\n",
      "KO_PATHWAY  ko01200\n",
      "///\n",
      "\n",
      "kegg entry: ENTRY       mmu01210                    Pathway\n",
      "NAME        2-Oxocarboxylic acid metabolism - Mus musculus (mouse)\n",
      "DESCRIPTION 2-Oxocarboxylic acids, also called 2-oxo acids and alpha-keto acids, are the most elementary set of metabolites that includes pyruvate (2-oxopropanoate), 2-oxobutanoate, oxaloacetate (2-oxosuccinate) and 2-oxoglutarate. This diagram illustrates the architecture of chain extension and modification reaction modules for 2-oxocarboxylic acids. The chain extension module RM001 is a tricarboxylic pathway where acetyl-CoA derived carbon is used to extend the chain length by one. The chain modification modules RM002 (including RM032) and RM033, together with a reductive amination step (RC00006 or RC00036), generate basic and branched-chain amino acids, respectively. The modification module RM030 is used in the biosynthesis of glucosinolates, a class of plant secondary metabolites, for conversion to oxime followed by addition of thio-glucose moiety. Furthermore, the chain extension from 2-oxoadipate to 2-oxosuberate is followed by coenzyme B biosynthesis in methonogenic archaea.\n",
      "CLASS       Metabolism; Overview\n",
      "PATHWAY_MAP mmu01210  2-Oxocarboxylic acid metabolism\n",
      "MODULE      mmu_M00010  Citrate cycle, first carbon oxidation, oxaloacetate => 2-oxoglutarate [PATH:mmu01210]\n",
      "ORGANISM    Mus musculus (mouse) [GN:mmu]\n",
      "KO_PATHWAY  ko01210\n",
      "///\n",
      "\n",
      "kegg entry: ENTRY       mmu01212                    Pathway\n",
      "NAME        Fatty acid metabolism - Mus musculus (mouse)\n",
      "CLASS       Metabolism; Overview\n",
      "PATHWAY_MAP mmu01212  Fatty acid metabolism\n",
      "MODULE      mmu_M00082  Fatty acid biosynthesis, initiation [PATH:mmu01212]\n",
      "            mmu_M00083  Fatty acid biosynthesis, elongation [PATH:mmu01212]\n",
      "            mmu_M00085  Fatty acid biosynthesis, elongation, mitochondria [PATH:mmu01212]\n",
      "            mmu_M00086  beta-Oxidation, acyl-CoA synthesis [PATH:mmu01212]\n",
      "            mmu_M00087  beta-Oxidation [PATH:mmu01212]\n",
      "            mmu_M00415  Fatty acid biosynthesis, elongation, endoplasmic reticulum [PATH:mmu01212]\n",
      "ORGANISM    Mus musculus (mouse) [GN:mmu]\n",
      "KO_PATHWAY  ko01212\n",
      "///\n",
      "\n",
      "kegg entry: ENTRY       mmu01230                    Pathway\n",
      "NAME        Biosynthesis of amino acids - Mus musculus (mouse)\n",
      "DESCRIPTION This map presents a modular architecture of the biosynthesis pathways of twenty amino acids, which may be viewed as consisting of the core part and its extensions. The core part is the KEGG module for conversion of three-carbon compounds from glyceraldehyde-3P to pyruvate [MD:M00002], together with the pathways around serine and glycine. This KEGG module is the most conserved one in the KEGG MODULE database and is found in almost all the completely sequenced genomes. The extensions are the pathways containing the reaction modules RM001, RM033, RM032, and RM002 for biosynthesis of branched-chain amino acids (left) and basic amino acids (bottom), and the pathways for biosynthesis of histidine and aromatic amino acids (top right). It is interesting to note that the so-called essential amino acids that cannot be synthesized in human and other organisms generally appear in these extensions. Furthermore, the bottom extension of basic amino acids appears to be most divergent containing multiple pathways for lysine biosynthesis and multiple gene sets for arginine biosynthesis.\n",
      "CLASS       Metabolism; Overview\n",
      "PATHWAY_MAP mmu01230  Biosynthesis of amino acids\n",
      "MODULE      mmu_M00002  Glycolysis, core module involving three-carbon compounds [PATH:mmu01230]\n",
      "            mmu_M00005  PRPP biosynthesis, ribose 5P => PRPP [PATH:mmu01230]\n",
      "            mmu_M00007  Pentose phosphate pathway, non-oxidative phase, fructose 6P => ribose 5P [PATH:mmu01230]\n",
      "            mmu_M00010  Citrate cycle, first carbon oxidation, oxaloacetate => 2-oxoglutarate [PATH:mmu01230]\n",
      "            mmu_M00015  Proline biosynthesis, glutamate => proline [PATH:mmu01230]\n",
      "            mmu_M00020  Serine biosynthesis, glycerate-3P => serine [PATH:mmu01230]\n",
      "            mmu_M00029  Urea cycle [PATH:mmu01230]\n",
      "            mmu_M00338  Cysteine biosynthesis, homocysteine + serine => cysteine [PATH:mmu01230]\n",
      "ORGANISM    Mus musculus (mouse) [GN:mmu]\n",
      "KO_PATHWAY  ko01230\n",
      "///\n",
      "\n",
      "kegg entry: ENTRY       mmu01521                    Pathway\n",
      "NAME        EGFR tyrosine kinase inhibitor resistance - Mus musculus (mouse)\n",
      "DESCRIPTION EGFR is a tyrosine kinase that participates in the regulation of cellular homeostasis. EGFR also serves as a stimulus for cancer growth. EGFR gene mutations and protein overexpression, both of which activate down- stream pathways, are associated with cancers, especially lung cancer. Several tyrosine kinase inhibitor (TKI) therapies against EGFR are currently administered and are initially effective in cancer patients who have EGFR mutations or aberrant activation of EGFR. However, the development of TKI resistance is common and results in the recurrence of tumors. Studies over the last decade have identified mechanisms that drive resistance to EGFR TKI treatment.  Most outstanding mechanisms are: the secondary EGFR mutation (T790M), activation of alternative pathways (c-Met, HGF, AXL), aberrance of the downstream pathways (K-RAS mutations, loss of PTEN), impairment of the EGFR-TKIs-mediated apoptosis pathway (BCL2-like 11/BIM deletion polymorphism), histologic transformation, etc.\n",
      "CLASS       Human Diseases; Drug resistance\n",
      "PATHWAY_MAP mmu01521  EGFR tyrosine kinase inhibitor resistance\n",
      "ORGANISM    Mus musculus (mouse) [GN:mmu]\n",
      "REFERENCE   PMID:26579470\n",
      "  AUTHORS   Huang L, Fu L\n",
      "  TITLE     Mechanisms of resistance to EGFR tyrosine kinase inhibitors.\n",
      "  JOURNAL   Acta Pharm Sin B 5:390-401 (2015)\n",
      "REFERENCE   PMID:23358468\n",
      "  AUTHORS   Hrustanovic G, Lee BJ, Bivona TG\n",
      "  TITLE     Mechanisms of resistance to EGFR targeted therapies.\n",
      "  JOURNAL   Cancer Biol Ther 14:304-14 (2013)\n",
      "REFERENCE   PMID:25232485\n",
      "  AUTHORS   Lin Y, Wang X, Jin H\n",
      "  TITLE     EGFR-TKI resistance in NSCLC patients: mechanisms and strategies.\n",
      "  JOURNAL   Am J Cancer Res 4:411-35 (2014)\n",
      "REFERENCE   PMID:19632948\n",
      "  AUTHORS   Nguyen KS, Kobayashi S, Costa DB\n",
      "  TITLE     Acquired resistance to epidermal growth factor receptor tyrosine kinase inhibitors in non-small-cell lung cancers dependent on the epidermal growth factor receptor pathway.\n",
      "  JOURNAL   Clin Lung Cancer 10:281-9 (2009)\n",
      "REFERENCE   PMID:18483355\n",
      "  AUTHORS   Engelman JA, Janne PA\n",
      "  TITLE     Mechanisms of acquired resistance to epidermal growth factor receptor tyrosine kinase inhibitors in non-small cell lung cancer.\n",
      "  JOURNAL   Clin Cancer Res 14:2895-9 (2008)\n",
      "REFERENCE   PMID:23401451\n",
      "  AUTHORS   Ohashi K, Maruvka YE, Michor F, Pao W\n",
      "  TITLE     Epidermal growth factor receptor tyrosine kinase inhibitor-resistant disease.\n",
      "  JOURNAL   J Clin Oncol 31:1070-80 (2013)\n",
      "REFERENCE   PMID:24307395\n",
      "  AUTHORS   Carrera S, Buque A, Azkona E, Aresti U, Calvo B, Sancho A, Arruti M, Nuno M, Rubio I, de Lobera AR, Lopez C, Vivanco GL\n",
      "  TITLE     Epidermal growth factor receptor tyrosine-kinase inhibitor treatment resistance in non-small cell lung cancer: biological basis and therapeutic strategies.\n",
      "  JOURNAL   Clin Transl Oncol 16:339-50 (2014)\n",
      "REFERENCE   PMID:22970367\n",
      "  AUTHORS   Lin L, Bivona TG\n",
      "  TITLE     Mechanisms of Resistance to Epidermal Growth Factor Receptor Inhibitors and Novel Therapeutic Strategies to Overcome Resistance in NSCLC Patients.\n",
      "  JOURNAL   Chemother Res Pract 2012:817297 (2012)\n",
      "REFERENCE   \n",
      "  AUTHORS   Song X.\n",
      "  TITLE     Targeting PI3K/AKT/mTOR pathway and mutant EGFR to overcome resistance to tyrosine kinase inhibitors in mutant EGFR-mediated lung cancer\n",
      "  JOURNAL   Onco Reviews 1(1):13-19 (2013)\n",
      "REFERENCE   PMID:24202392\n",
      "  AUTHORS   Chong CR, Janne PA\n",
      "  TITLE     The quest to overcome resistance to EGFR-targeted therapies in cancer.\n",
      "  JOURNAL   Nat Med 19:1389-400 (2013)\n",
      "REFERENCE   PMID:20551942\n",
      "  AUTHORS   Wheeler DL, Dunn EF, Harari PM\n",
      "  TITLE     Understanding resistance to EGFR inhibitors-impact on future treatment strategies.\n",
      "  JOURNAL   Nat Rev Clin Oncol 7:493-507 (2010)\n",
      "REFERENCE   PMID:23361103\n",
      "  AUTHORS   Gonzalez de Castro D, Clarke PA, Al-Lazikani B, Workman P\n",
      "  TITLE     Personalized cancer medicine: molecular diagnostics, predictive biomarkers, and drug resistance.\n",
      "  JOURNAL   Clin Pharmacol Ther 93:252-9 (2013)\n",
      "REFERENCE   PMID:20966921\n",
      "  AUTHORS   Pao W, Chmielecki J\n",
      "  TITLE     Rational, biologically based treatment of EGFR-mutant non-small-cell lung cancer.\n",
      "  JOURNAL   Nat Rev Cancer 10:760-74 (2010)\n",
      "REFERENCE   PMID:22956644\n",
      "  AUTHORS   Takezawa K, Pirazzoli V, Arcila ME, Nebhan CA, Song X, de Stanchina E, Ohashi K, Janjigian YY, Spitzler PJ, Melnick MA, Riely GJ, Kris MG, Miller VA, Ladanyi M, Politi K, Pao W\n",
      "  TITLE     HER2 amplification: a potential mechanism of acquired resistance to EGFR inhibition in EGFR-mutant lung cancers that lack the second-site EGFRT790M mutation.\n",
      "  JOURNAL   Cancer Discov 2:922-33 (2012)\n",
      "REFERENCE   PMID:16843264\n",
      "  AUTHORS   Zhou BB, Peyton M, He B, Liu C, Girard L, Caudler E, Lo Y, Baribaud F, Mikami I, Reguart N, Yang G, Li Y, Yao W, Vaddi K, Gazdar AF, Friedman SM, Jablons DM, Newton RC, Fridman JS, Minna JD, Scherle PA\n",
      "  TITLE     Targeting ADAM-mediated ligand cleavage to inhibit HER3 and EGFR pathways in non-small cell lung cancer.\n",
      "  JOURNAL   Cancer Cell 10:39-50 (2006)\n",
      "REFERENCE   PMID:22474259\n",
      "  AUTHORS   Logue JS, Morrison DK\n",
      "  TITLE     Complexity in the signaling network: insights from the use of targeted inhibitors in cancer therapy.\n",
      "  JOURNAL   Genes Dev 26:641-50 (2012)\n",
      "REFERENCE   PMID:24493829\n",
      "  AUTHORS   Costa C, Molina MA, Drozdowskyj A, Gimenez-Capitan A, Bertran-Alamillo J, Karachaliou N, Gervais R, Massuti B, Wei J, Moran T, Majem M, Felip E, Carcereny E, Garcia-Campelo R, Viteri S, Taron M, Ono M, Giannikopoulos P, Bivona T, Rosell R\n",
      "  TITLE     The impact of EGFR T790M mutations and BIM mRNA expression on outcome in patients with EGFR-mutant NSCLC treated with erlotinib or chemotherapy in the randomized phase III EURTAC trial.\n",
      "  JOURNAL   Clin Cancer Res 20:2001-10 (2014)\n",
      "REFERENCE   PMID:23071030\n",
      "  AUTHORS   Blakely CM, Bivona TG\n",
      "  TITLE     Resiliency of lung cancers to EGFR inhibitor treatment unveiled, offering opportunities to divide and conquer EGFR inhibitor resistance.\n",
      "  JOURNAL   Cancer Discov 2:872-5 (2012)\n",
      "REFERENCE   PMID:25337673\n",
      "  AUTHORS   Wu X, Liu X, Koul S, Lee CY, Zhang Z, Halmos B\n",
      "  TITLE     AXL kinase as a novel target for cancer therapy.\n",
      "  JOURNAL   Oncotarget 5:9546-63 (2014)\n",
      "REFERENCE   PMID:17554333\n",
      "  AUTHORS   Arteaga CL\n",
      "  TITLE     HER3 and mutant EGFR meet MET.\n",
      "  JOURNAL   Nat Med 13:675-7 (2007)\n",
      "KO_PATHWAY  ko01521\n",
      "///\n",
      "\n",
      "kegg entry: ENTRY       mmu01522                    Pathway\n",
      "NAME        Endocrine resistance - Mus musculus (mouse)\n",
      "DESCRIPTION Endocrine therapy is a key treatment strategy to control or eradicate hormone-responsive breast cancer. The most commonly used endocrine therapy agents are selective estrogen receptor modulators (SERMs, e.g. tamoxifen), estrogen synthesis inhibitors (e.g. aromatase inhibitors (AIs) such as anastrozole, letrozole, and exemestane), and selective estrogen receptor down-regulators (SERDs, e.g. fulvestrant). However, resistance to these agents has become a major clinical obstacle. Mechanisms of endocrine resistance include loss of ER-alpha expression,  altered expression of coactivators or coregulators that play a critical role in ER-mediated gene transcription, ligand-independent growth factor signaling cascades that activate kinases and ER-phosphorylation, altered availability of active tamoxifen metabolites regulated by drug-metabolizing enzymes, such as CYP2D6, and deregulation of the cell cycle and apoptotic machinery.\n",
      "CLASS       Human Diseases; Drug resistance\n",
      "PATHWAY_MAP mmu01522  Endocrine resistance\n",
      "ORGANISM    Mus musculus (mouse) [GN:mmu]\n",
      "REFERENCE   PMID:23344024\n",
      "  AUTHORS   Garcia-Becerra R, Santos N, Diaz L, Camacho J\n",
      "  TITLE     Mechanisms of resistance to endocrine therapy in breast cancer: focus on signaling pathways, miRNAs and genetically based resistance.\n",
      "  JOURNAL   Int J Mol Sci 14:108-45 (2012)\n",
      "REFERENCE   PMID:19701242\n",
      "  AUTHORS   Musgrove EA, Sutherland RL\n",
      "  TITLE     Biological determinants of endocrine resistance in breast cancer.\n",
      "  JOURNAL   Nat Rev Cancer 9:631-43 (2009)\n",
      "REFERENCE   PMID:22015292\n",
      "  AUTHORS   Giuliano M, Schifp R, Osborne CK, Trivedi MV\n",
      "  TITLE     Biological mechanisms and clinical implications of endocrine resistance in breast cancer.\n",
      "  JOURNAL   Breast 20 Suppl 3:S42-9 (2011)\n",
      "REFERENCE   PMID:25907219\n",
      "  AUTHORS   Ma CX, Reinert T, Chmielewska I, Ellis MJ\n",
      "  TITLE     Mechanisms of aromatase inhibitor resistance.\n",
      "  JOURNAL   Nat Rev Cancer 15:261-75 (2015)\n",
      "REFERENCE   PMID:24841429\n",
      "  AUTHORS   Viedma-Rodriguez R, Baiza-Gutman L, Salamanca-Gomez F, Diaz-Zaragoza M, Martinez-Hernandez G, Ruiz Esparza-Garrido R, Velazquez-Flores MA, Arenas-Aranda D\n",
      "  TITLE     Mechanisms associated with resistance to tamoxifen in estrogen receptor-positive  breast cancer (review).\n",
      "  JOURNAL   Oncol Rep 32:3-15 (2014)\n",
      "REFERENCE   PMID:26849149\n",
      "  AUTHORS   Luqmani YA, Alam-Eldin N\n",
      "  TITLE     Overcoming Resistance to Endocrine Therapy in Breast Cancer: New Approaches to a  Nagging Problem.\n",
      "  JOURNAL   Med Princ Pract 25 Suppl 2:28-40 (2016)\n",
      "REFERENCE   PMID:22771991\n",
      "  AUTHORS   Bianco S, Gevry N\n",
      "  TITLE     Endocrine resistance in breast cancer: from cellular signaling pathways to epigenetic mechanisms.\n",
      "  JOURNAL   Transcription 3:165-70 (2012)\n",
      "REFERENCE   PMID:20887199\n",
      "  AUTHORS   Osborne CK, Schiff R\n",
      "  TITLE     Mechanisms of endocrine resistance in breast cancer.\n",
      "  JOURNAL   Annu Rev Med 62:233-47 (2011)\n",
      "REFERENCE   PMID:23714450\n",
      "  AUTHORS   Miller TW\n",
      "  TITLE     Endocrine resistance: what do we know?\n",
      "  JOURNAL   Am Soc Clin Oncol Educ Book (2013)\n",
      "REFERENCE   PMID:23625614\n",
      "  AUTHORS   Lonning PE, Eikesdal HP\n",
      "  TITLE     Aromatase inhibition 2013: clinical state of the art and questions that remain to be solved.\n",
      "  JOURNAL   Endocr Relat Cancer 20:R183-201 (2013)\n",
      "REFERENCE   PMID:26473850\n",
      "  AUTHORS   Egeland NG, Lunde S, Jonsdottir K, Lende TH, Cronin-Fenton D, Gilje B, Janssen EA, Soiland H\n",
      "  TITLE     The Role of MicroRNAs as Predictors of Response to Tamoxifen Treatment in Breast  Cancer Patients.\n",
      "  JOURNAL   Int J Mol Sci 16:24243-75 (2015)\n",
      "REFERENCE   PMID:24130921\n",
      "  AUTHORS   Chang M\n",
      "  TITLE     Tamoxifen resistance in breast cancer.\n",
      "  JOURNAL   Biomol Ther (Seoul) 20:256-67 (2012)\n",
      "REFERENCE   PMID:18804516\n",
      "  AUTHORS   Zilli M, Grassadonia A, Tinari N, Di Giacobbe A, Gildetti S, Giampietro J, Natoli C, Iacobelli S\n",
      "  TITLE     Molecular mechanisms of endocrine resistance and their implication in the therapy of breast cancer.\n",
      "  JOURNAL   Biochim Biophys Acta 1795:62-81 (2009)\n",
      "REFERENCE   PMID:24289103\n",
      "  AUTHORS   Mo Z, Liu M, Yang F, Luo H, Li Z, Tu G, Yang G\n",
      "  TITLE     GPR30 as an initiator of tamoxifen resistance in hormone-dependent breast cancer.\n",
      "  JOURNAL   Breast Cancer Res 15:R114 (2013)\n",
      "REFERENCE   PMID:24415977\n",
      "  AUTHORS   Hasson SP, Rubinek T, Ryvo L, Wolf I\n",
      "  TITLE     Endocrine resistance in breast cancer: focus on the phosphatidylinositol 3-kinase/akt/mammalian target of rapamycin signaling pathway.\n",
      "  JOURNAL   Breast Care (Basel) 8:248-55 (2013)\n",
      "REFERENCE   PMID:15613444\n",
      "  AUTHORS   Ring A, Dowsett M\n",
      "  TITLE     Mechanisms of tamoxifen resistance.\n",
      "  JOURNAL   Endocr Relat Cancer 11:643-58 (2004)\n",
      "REFERENCE   PMID:24565562\n",
      "  AUTHORS   Ribeiro JR, Freiman RN\n",
      "  TITLE     Estrogen signaling crosstalk: Implications for endocrine resistance in ovarian cancer.\n",
      "  JOURNAL   J Steroid Biochem Mol Biol 143:160-73 (2014)\n",
      "REFERENCE   PMID:20960099\n",
      "  AUTHORS   Wang D, Hu L, Zhang G, Zhang L, Chen C\n",
      "  TITLE     G protein-coupled receptor 30 in tumor development.\n",
      "  JOURNAL   Endocrine 38:29-37 (2010)\n",
      "REFERENCE   PMID:26122181\n",
      "  AUTHORS   Jeselsohn R, Buchwalter G, De Angelis C, Brown M, Schiff R\n",
      "  TITLE     ESR1 mutations-a mechanism for acquired endocrine resistance in breast cancer.\n",
      "  JOURNAL   Nat Rev Clin Oncol 12:573-83 (2015)\n",
      "KO_PATHWAY  ko01522\n",
      "///\n",
      "\n",
      "kegg entry: ENTRY       mmu01524                    Pathway\n",
      "NAME        Platinum drug resistance - Mus musculus (mouse)\n",
      "DESCRIPTION Platinum-based drugs cisplatin, carboplatin and oxaliplatin are widely used in the therapy of solid malignancies, including testicular, ovarian, head and neck, colorectal, bladder and lung cancers. The mechanism of action of Platinum-based drugs involves covalent binding to purine DNA bases, which primarily leads to cellular apoptosis. Their clinical success is, however, limited due to severe side effects and intrinsic or acquired resistance to the treatment. Platinum resistance could arise from decreased drug influx, increased drug efflux, intracellular detoxification by glutathione, etc., decreased binding (e.g., due to high intracellular pH), increased DNA repair, decreased mismatch repair, defective apoptosis, and altered oncogene expression.\n",
      "CLASS       Human Diseases; Drug resistance\n",
      "PATHWAY_MAP mmu01524  Platinum drug resistance\n",
      "ORGANISM    Mus musculus (mouse) [GN:mmu]\n",
      "REFERENCE   PMID:14576837\n",
      "  AUTHORS   Siddik ZH\n",
      "  TITLE     Cisplatin: mode of cytotoxic action and molecular basis of resistance.\n",
      "  JOURNAL   Oncogene 22:7265-79 (2003)\n",
      "REFERENCE   PMID:26184483\n",
      "  AUTHORS   Martinez-Balibrea E, Martinez-Cardus A, Gines A, Ruiz de Porras V, Moutinho C, Layos L, Manzano JL, Buges C, Bystrup S, Esteller M, Abad A\n",
      "  TITLE     Tumor-Related Molecular Mechanisms of Oxaliplatin Resistance.\n",
      "  JOURNAL   Mol Cancer Ther 14:1767-76 (2015)\n",
      "REFERENCE   PMID:17625587\n",
      "  AUTHORS   Kelland L\n",
      "  TITLE     The resurgence of platinum-based cancer chemotherapy.\n",
      "  JOURNAL   Nat Rev Cancer 7:573-84 (2007)\n",
      "REFERENCE   PMID:26886018\n",
      "  AUTHORS   Dilruba S, Kalayda GV\n",
      "  TITLE     Platinum-based drugs: past, present and future.\n",
      "  JOURNAL   Cancer Chemother Pharmacol 77:1103-24 (2016)\n",
      "REFERENCE   PMID:23442359\n",
      "  AUTHORS   Lu HP, Chao CC\n",
      "  TITLE     Cancer cells acquire resistance to anticancer drugs: an update.\n",
      "  JOURNAL   Biomed J 35:464-72 (2012)\n",
      "REFERENCE   PMID:24074238\n",
      "  AUTHORS   Koster R, van Vugt MA, Timmer-Bosscha H, Gietema JA, de Jong S\n",
      "  TITLE     Unravelling mechanisms of cisplatin sensitivity and resistance in testicular cancer.\n",
      "  JOURNAL   Expert Rev Mol Med 15:e12 (2013)\n",
      "REFERENCE   PMID:21892204\n",
      "  AUTHORS   Galluzzi L, Senovilla L, Vitale I, Michels J, Martins I, Kepp O, Castedo M, Kroemer G\n",
      "  TITLE     Molecular mechanisms of cisplatin resistance.\n",
      "  JOURNAL   Oncogene 31:1869-83 (2012)\n",
      "REFERENCE   PMID:17336087\n",
      "  AUTHORS   Stewart DJ\n",
      "  TITLE     Mechanisms of resistance to cisplatin and carboplatin.\n",
      "  JOURNAL   Crit Rev Oncol Hematol 63:12-31 (2007)\n",
      "REFERENCE   PMID:20647037\n",
      "  AUTHORS   Koberle B, Tomicic MT, Usanova S, Kaina B\n",
      "  TITLE     Cisplatin resistance: preclinical findings and clinical implications.\n",
      "  JOURNAL   Biochim Biophys Acta 1806:172-82 (2010)\n",
      "REFERENCE   PMID:25546083\n",
      "  AUTHORS   Jacobsen C, Honecker F\n",
      "  TITLE     Cisplatin resistance in germ cell tumours: models and mechanisms.\n",
      "  JOURNAL   Andrology 3:111-21 (2015)\n",
      "REFERENCE   PMID:14609433\n",
      "  AUTHORS   Fraser M, Leung B, Jahani-Asl A, Yan X, Thompson WE, Tsang BK\n",
      "  TITLE     Chemoresistance in human ovarian cancer: the role of apoptotic regulators.\n",
      "  JOURNAL   Reprod Biol Endocrinol 1:66 (2003)\n",
      "REFERENCE   \n",
      "  AUTHORS   Sousa GF, Wlodarczyk SR, Monteiro G.\n",
      "  TITLE     Carboplatin: molecular mechanisms of action associated with chemoresistance.\n",
      "  JOURNAL   Brazillian Journal of Pharmaceutical Sciences 50 (2014)\n",
      "REFERENCE   PMID:24874729\n",
      "  AUTHORS   Galluzzi L, Vitale I, Michels J, Brenner C, Szabadkai G, Harel-Bellan A, Castedo M, Kroemer G\n",
      "  TITLE     Systems biology of cisplatin resistance: past, present and future.\n",
      "  JOURNAL   Cell Death Dis 5:e1257 (2014)\n",
      "REFERENCE   PMID:25058905\n",
      "  AUTHORS   Dasari S, Tchounwou PB\n",
      "  TITLE     Cisplatin in cancer therapy: molecular mechanisms of action.\n",
      "  JOURNAL   Eur J Pharmacol 740:364-78 (2014)\n",
      "REFERENCE   PMID:20811617\n",
      "  AUTHORS   Basu A, Krishnamurthy S\n",
      "  TITLE     Cellular responses to Cisplatin-induced DNA damage.\n",
      "  JOURNAL   J Nucleic Acids 2010 (2010)\n",
      "REFERENCE   PMID:19190080\n",
      "  AUTHORS   Chaudhry P, Asselin E\n",
      "  TITLE     Resistance to chemotherapy and hormone therapy in endometrial cancer.\n",
      "  JOURNAL   Endocr Relat Cancer 16:363-80 (2009)\n",
      "REFERENCE   PMID:26867799\n",
      "  AUTHORS   Li X, Lin Z, Zhang B, Guo L, Liu S, Li H, Zhang J, Ye Q\n",
      "  TITLE     beta-elemene sensitizes hepatocellular carcinoma cells to oxaliplatin by preventing oxaliplatin-induced degradation of copper transporter 1.\n",
      "  JOURNAL   Sci Rep 6:21010 (2016)\n",
      "REFERENCE   PMID:15607932\n",
      "  AUTHORS   Safaei R, Howell SB\n",
      "  TITLE     Copper transporters regulate the cellular pharmacology and sensitivity to Pt drugs.\n",
      "  JOURNAL   Crit Rev Oncol Hematol 53:13-23 (2005)\n",
      "KO_PATHWAY  ko01524\n",
      "///\n",
      "\n",
      "gene entry: ///\n",
      "gene entry: ///\n",
      "gene entry: ///\n",
      "gene entry: ///\n",
      "gene entry: ///\n",
      "gene entry: ///\n",
      "gene entry: ///\n",
      "gene entry: ///\n",
      "gene entry: ///\n",
      "gene entry: ///\n",
      "gene entry: ///\n",
      "gene entry: ///\n",
      "gene entry: ///\n",
      "gene entry: REFERENCE   \n",
      "gene entry: REFERENCE   \n",
      "gene entry: ///\n",
      "gene entry: ///\n",
      "gene entry: ///\n",
      "gene entry: REFERENCE   \n",
      "gene entry: REFERENCE   \n",
      "gene entry: ///\n",
      "gene entry: ///\n",
      "gene entry: ///\n",
      "gene entry: ///\n",
      "gene entry: ///\n",
      "gene entry: REFERENCE   \n",
      "gene entry: ///\n",
      "gene entry: ///\n",
      "gene entry: ///\n",
      "gene entry: ///\n",
      "gene entry: ///\n",
      "gene entry: ///\n",
      "gene entry: ///\n",
      "gene entry: ///\n",
      "gene entry: ///\n",
      "gene entry: REFERENCE   \n",
      "gene entry: ///\n",
      "gene entry: ///\n",
      "gene entry: REFERENCE   \n",
      "gene entry: ///\n",
      "gene entry: ///\n",
      "gene entry: ///\n",
      "gene entry:             14968\n",
      "gene entry: ///\n",
      "gene entry: ///\n",
      "gene entry: REFERENCE   \n",
      "gene entry: ///\n",
      "gene entry: ///\n",
      "gene entry: ///\n",
      "gene entry: ///\n",
      "gene entry: ///\n",
      "gene entry: ///\n",
      "gene entry: ///\n",
      "gene entry: ///\n",
      "gene entry: ///\n",
      "gene entry: ///\n"
     ]
    }
   ],
   "source": [
    "pathways_genes_ids = get_genes_from_pathways_by_parsing()"
   ]
  },
  {
   "cell_type": "code",
   "execution_count": null,
   "metadata": {
    "collapsed": true
   },
   "outputs": [],
   "source": []
  },
  {
   "cell_type": "code",
   "execution_count": 14,
   "metadata": {
    "collapsed": false
   },
   "outputs": [
    {
     "data": {
      "text/plain": [
       "'path:mmu00010\\tGlycolysis / Gluconeogenesis - Mus musculus (mouse)\\n'"
      ]
     },
     "execution_count": 14,
     "metadata": {},
     "output_type": "execute_result"
    }
   ],
   "source": [
    "kegg_list('path:mmu00010').read()"
   ]
  },
  {
   "cell_type": "code",
   "execution_count": 15,
   "metadata": {
    "collapsed": false
   },
   "outputs": [],
   "source": [
    "def create_dataframe_from_list(pathway_genes_mmu_):\n",
    "    ''' This function creates a dataframe from the given list.\n",
    "    \n",
    "        pathway_genes_mmu_: the list to create the dataframe from   \n",
    "    '''\n",
    "    \n",
    "    # get the pathway IDs\n",
    "    pathway_list = [item[0] for item in pathway_genes_mmu_]\n",
    "    \n",
    "    # list to store the description\n",
    "    desc_list = []\n",
    "    \n",
    "    # iterate over each pathway\n",
    "    for a in pathway_list:\n",
    "        \n",
    "        # store the description in the list\n",
    "        desc_list.append(kegg_list(a).read().split(\"\\t\")[1])\n",
    "       \n",
    "    # get the first entry of the pathway_genes_mmu_ (=pathway IDs)\n",
    "    pathway_list = [item[0] for item in pathway_genes_mmu_]\n",
    "    \n",
    "    # get the second entry of the pathway_genes_mmu_ (=gene IDs)\n",
    "    gene_list = [item[1] for item in pathway_genes_mmu_]\n",
    "    \n",
    "    # get the third entry of the pathway_genes_mmu_ (=gene names)\n",
    "    gene_name = [item[2] for item in pathway_genes_mmu_]\n",
    "    \n",
    "    return pd.DataFrame({\"Pathway ID\" : pathway_list,\n",
    "                         \"Gene ID\" : gene_list,\n",
    "                         \"Gene Name\" : gene_name,  \n",
    "                         \"Description\": desc_list })"
   ]
  },
  {
   "cell_type": "code",
   "execution_count": 16,
   "metadata": {
    "collapsed": false
   },
   "outputs": [],
   "source": [
    "pathways_genes_ids_df = create_dataframe_from_list(pathways_genes_ids)"
   ]
  },
  {
   "cell_type": "code",
   "execution_count": 17,
   "metadata": {
    "collapsed": false
   },
   "outputs": [
    {
     "data": {
      "text/html": [
       "<div>\n",
       "<table border=\"1\" class=\"dataframe\">\n",
       "  <thead>\n",
       "    <tr style=\"text-align: right;\">\n",
       "      <th></th>\n",
       "      <th>Description</th>\n",
       "      <th>Gene ID</th>\n",
       "      <th>Gene Name</th>\n",
       "      <th>Pathway ID</th>\n",
       "    </tr>\n",
       "  </thead>\n",
       "  <tbody>\n",
       "    <tr>\n",
       "      <th>0</th>\n",
       "      <td>Glycolysis / Gluconeogenesis - Mus musculus (m...</td>\n",
       "      <td>[15277, 212032, 15275, 216019, 103988, 14751, ...</td>\n",
       "      <td>[Hk2, Hk3, Hk1, Hkdc1, Gck, Gpi1, Pfkl, Pfkm, ...</td>\n",
       "      <td>path:mmu00010</td>\n",
       "    </tr>\n",
       "    <tr>\n",
       "      <th>1</th>\n",
       "      <td>Citrate cycle (TCA cycle) - Mus musculus (mous...</td>\n",
       "      <td>[12974, 71832, 104112, 11429, 11428, 15926, 26...</td>\n",
       "      <td>[Cs, Csl, Acly, Aco2, Aco1, Idh1, Idh2, Idh3g,...</td>\n",
       "      <td>path:mmu00020</td>\n",
       "    </tr>\n",
       "    <tr>\n",
       "      <th>2</th>\n",
       "      <td>Pentose phosphate pathway - Mus musculus (mous...</td>\n",
       "      <td>[14751, 14380, 14381, 66171, 100198, 110208, 6...</td>\n",
       "      <td>[Gpi1, G6pd2, G6pdx, Pgls, H6pd, Pgd, Rpe, Tkt...</td>\n",
       "      <td>path:mmu00030</td>\n",
       "    </tr>\n",
       "    <tr>\n",
       "      <th>3</th>\n",
       "      <td>Pentose and glucuronate interconversions - Mus...</td>\n",
       "      <td>[110006, 16591, 22238, 22236, 94284, 94215, 39...</td>\n",
       "      <td>[Gusb, Kl, Ugt2b5, Ugt1a2, Ugt1a6a, Ugt2a1, Ug...</td>\n",
       "      <td>path:mmu00040</td>\n",
       "    </tr>\n",
       "    <tr>\n",
       "      <th>4</th>\n",
       "      <td>Fructose and mannose metabolism - Mus musculus...</td>\n",
       "      <td>[110119, 54128, 29858, 331026, 69080, 218138, ...</td>\n",
       "      <td>[Mpi, Pmm2, Pmm1, Gmppb, Gmppa, Gmds, Tsta3, F...</td>\n",
       "      <td>path:mmu00051</td>\n",
       "    </tr>\n",
       "  </tbody>\n",
       "</table>\n",
       "</div>"
      ],
      "text/plain": [
       "                                         Description  \\\n",
       "0  Glycolysis / Gluconeogenesis - Mus musculus (m...   \n",
       "1  Citrate cycle (TCA cycle) - Mus musculus (mous...   \n",
       "2  Pentose phosphate pathway - Mus musculus (mous...   \n",
       "3  Pentose and glucuronate interconversions - Mus...   \n",
       "4  Fructose and mannose metabolism - Mus musculus...   \n",
       "\n",
       "                                             Gene ID  \\\n",
       "0  [15277, 212032, 15275, 216019, 103988, 14751, ...   \n",
       "1  [12974, 71832, 104112, 11429, 11428, 15926, 26...   \n",
       "2  [14751, 14380, 14381, 66171, 100198, 110208, 6...   \n",
       "3  [110006, 16591, 22238, 22236, 94284, 94215, 39...   \n",
       "4  [110119, 54128, 29858, 331026, 69080, 218138, ...   \n",
       "\n",
       "                                           Gene Name     Pathway ID  \n",
       "0  [Hk2, Hk3, Hk1, Hkdc1, Gck, Gpi1, Pfkl, Pfkm, ...  path:mmu00010  \n",
       "1  [Cs, Csl, Acly, Aco2, Aco1, Idh1, Idh2, Idh3g,...  path:mmu00020  \n",
       "2  [Gpi1, G6pd2, G6pdx, Pgls, H6pd, Pgd, Rpe, Tkt...  path:mmu00030  \n",
       "3  [Gusb, Kl, Ugt2b5, Ugt1a2, Ugt1a6a, Ugt2a1, Ug...  path:mmu00040  \n",
       "4  [Mpi, Pmm2, Pmm1, Gmppb, Gmppa, Gmds, Tsta3, F...  path:mmu00051  "
      ]
     },
     "execution_count": 17,
     "metadata": {},
     "output_type": "execute_result"
    }
   ],
   "source": [
    "pathways_genes_ids_df.head()"
   ]
  },
  {
   "cell_type": "markdown",
   "metadata": {},
   "source": [
    "### Subtask 1.2: Save the KEGG gene sets as a gmt file after you made sure they have the proper gene ids with respect to your DE analysis"
   ]
  },
  {
   "cell_type": "markdown",
   "metadata": {},
   "source": [
    "hints: \n",
    "\n",
    "http://biopython.org/wiki/Annotate_Entrez_Gene_IDs\n",
    "\n",
    "http://www.broadinstitute.org/cancer/software/gsea/wiki/index.php/Data_formats"
   ]
  },
  {
   "cell_type": "code",
   "execution_count": 18,
   "metadata": {
    "collapsed": true
   },
   "outputs": [],
   "source": [
    "def write_gmt_file(dataframe_to_write, filename_):\n",
    "    ''' This function writes the dataframe_to_write as .gmt file.\n",
    "        \n",
    "        dataframe_to_write: the dataframe to write\n",
    "        filename_: the filename to write to \n",
    "    \n",
    "    '''\n",
    "\n",
    "    # gmt file:\n",
    "    # pro zeile: 1 pathway\n",
    "    # name \\t descp \\t gene1 \\t gene2 \\t gene3 etc\n",
    "\n",
    "    # open filename_\n",
    "    with open(filename_, \"w\") as gmt_file:\n",
    "        \n",
    "        # iterate over dataframe\n",
    "        for index, row in dataframe_to_write.iterrows():\n",
    "            \n",
    "            # get the genes to write\n",
    "            genes_to_write = row['Gene Name']\n",
    "            \n",
    "            # genes_to_write is a list -> convert it to string\n",
    "            genes_to_write_str = \",\".join(genes_to_write)\n",
    "            \n",
    "            # desc_to_write_str is a list -> convert it to string\n",
    "            desc_to_write_str = \"\".join(row['Description'])\n",
    "            \n",
    "            # replace new line\n",
    "            desc_to_write_str = desc_to_write_str.replace(\"\\n\",\"\")\n",
    "            \n",
    "            # genes are \",\"-separated, but need to be \"\\t\"-separated\n",
    "            genes_to_write_str = genes_to_write_str.replace(\",\", \"\\t\")\n",
    "            \n",
    "            # create the string to write\n",
    "            string_to_write = row['Pathway ID'] + \"\\t\" + desc_to_write_str + \"\\t\" + genes_to_write_str + \"\\n\"\n",
    "\n",
    "            # write string to file\n",
    "            gmt_file.write(string_to_write)\n",
    "            \n",
    "    print(\"File \" + filename_ + \" has been succesfully written.\")        "
   ]
  },
  {
   "cell_type": "code",
   "execution_count": 19,
   "metadata": {
    "collapsed": false
   },
   "outputs": [
    {
     "name": "stdout",
     "output_type": "stream",
     "text": [
      "File results\\kegg_mmu_pathway_genes.gmt has been succesfully written.\n"
     ]
    }
   ],
   "source": [
    "write_gmt_file(pathways_genes_ids_df, \"results\\kegg_mmu_pathway_genes.gmt\")"
   ]
  },
  {
   "cell_type": "code",
   "execution_count": 20,
   "metadata": {
    "collapsed": false
   },
   "outputs": [],
   "source": [
    "#write_gmt_file(kegg_mmu_pathway_df, \"results\\kegg_mmu_pathway_genes.gmt\")"
   ]
  },
  {
   "cell_type": "markdown",
   "metadata": {},
   "source": [
    "## Task 2: Gene Set Enrichment"
   ]
  },
  {
   "cell_type": "markdown",
   "metadata": {},
   "source": [
    "### Subtask 2.1: Read in the csv file you produced during the Differential Expression module, extract a gene list (as a python list of gene symbols) from your favorite multiple correction column (and store it in a variable)"
   ]
  },
  {
   "cell_type": "code",
   "execution_count": 21,
   "metadata": {
    "collapsed": false
   },
   "outputs": [],
   "source": [
    "fold_change_df = pd.read_csv(\"results/diff_expr_genes_fold_change.csv\")"
   ]
  },
  {
   "cell_type": "code",
   "execution_count": 22,
   "metadata": {
    "collapsed": false
   },
   "outputs": [
    {
     "data": {
      "text/html": [
       "<div>\n",
       "<table border=\"1\" class=\"dataframe\">\n",
       "  <thead>\n",
       "    <tr style=\"text-align: right;\">\n",
       "      <th></th>\n",
       "      <th>gene</th>\n",
       "      <th>pvalue</th>\n",
       "      <th>sidak</th>\n",
       "      <th>holm-sidak</th>\n",
       "      <th>holm</th>\n",
       "      <th>simes-hochberg</th>\n",
       "      <th>hommel</th>\n",
       "      <th>fdr_bh</th>\n",
       "      <th>fdr_by</th>\n",
       "      <th>fdr_tsbh</th>\n",
       "      <th>fdr_tsbky</th>\n",
       "      <th>log2 fold change</th>\n",
       "    </tr>\n",
       "  </thead>\n",
       "  <tbody>\n",
       "    <tr>\n",
       "      <th>0</th>\n",
       "      <td>39872</td>\n",
       "      <td>6.265481e-11</td>\n",
       "      <td>0.000001</td>\n",
       "      <td>0.000001</td>\n",
       "      <td>0.000001</td>\n",
       "      <td>0.000001</td>\n",
       "      <td>0.000001</td>\n",
       "      <td>2.388628e-09</td>\n",
       "      <td>2.524413e-08</td>\n",
       "      <td>1.055814e-09</td>\n",
       "      <td>1.121471e-09</td>\n",
       "      <td>-0.065622</td>\n",
       "    </tr>\n",
       "    <tr>\n",
       "      <th>1</th>\n",
       "      <td>39873</td>\n",
       "      <td>6.018315e-04</td>\n",
       "      <td>0.999998</td>\n",
       "      <td>0.999883</td>\n",
       "      <td>1.000000</td>\n",
       "      <td>0.500000</td>\n",
       "      <td>0.500000</td>\n",
       "      <td>1.932383e-03</td>\n",
       "      <td>2.042232e-02</td>\n",
       "      <td>8.541462e-04</td>\n",
       "      <td>9.072615e-04</td>\n",
       "      <td>-0.015217</td>\n",
       "    </tr>\n",
       "    <tr>\n",
       "      <th>2</th>\n",
       "      <td>39874</td>\n",
       "      <td>3.164228e-02</td>\n",
       "      <td>1.000000</td>\n",
       "      <td>1.000000</td>\n",
       "      <td>1.000000</td>\n",
       "      <td>0.500000</td>\n",
       "      <td>0.500000</td>\n",
       "      <td>5.533046e-02</td>\n",
       "      <td>5.847579e-01</td>\n",
       "      <td>2.445701e-02</td>\n",
       "      <td>2.597787e-02</td>\n",
       "      <td>0.010690</td>\n",
       "    </tr>\n",
       "    <tr>\n",
       "      <th>3</th>\n",
       "      <td>39875</td>\n",
       "      <td>1.384384e-01</td>\n",
       "      <td>1.000000</td>\n",
       "      <td>1.000000</td>\n",
       "      <td>1.000000</td>\n",
       "      <td>0.500000</td>\n",
       "      <td>0.500000</td>\n",
       "      <td>1.868879e-01</td>\n",
       "      <td>1.000000e+00</td>\n",
       "      <td>8.260765e-02</td>\n",
       "      <td>8.774463e-02</td>\n",
       "      <td>-0.008591</td>\n",
       "    </tr>\n",
       "    <tr>\n",
       "      <th>4</th>\n",
       "      <td>39876</td>\n",
       "      <td>3.676499e-05</td>\n",
       "      <td>0.551901</td>\n",
       "      <td>0.469274</td>\n",
       "      <td>0.633498</td>\n",
       "      <td>0.500000</td>\n",
       "      <td>0.343017</td>\n",
       "      <td>1.739348e-04</td>\n",
       "      <td>1.838224e-03</td>\n",
       "      <td>7.688215e-05</td>\n",
       "      <td>8.166309e-05</td>\n",
       "      <td>0.020228</td>\n",
       "    </tr>\n",
       "  </tbody>\n",
       "</table>\n",
       "</div>"
      ],
      "text/plain": [
       "    gene        pvalue     sidak  holm-sidak      holm  simes-hochberg  \\\n",
       "0  39872  6.265481e-11  0.000001    0.000001  0.000001        0.000001   \n",
       "1  39873  6.018315e-04  0.999998    0.999883  1.000000        0.500000   \n",
       "2  39874  3.164228e-02  1.000000    1.000000  1.000000        0.500000   \n",
       "3  39875  1.384384e-01  1.000000    1.000000  1.000000        0.500000   \n",
       "4  39876  3.676499e-05  0.551901    0.469274  0.633498        0.500000   \n",
       "\n",
       "     hommel        fdr_bh        fdr_by      fdr_tsbh     fdr_tsbky  \\\n",
       "0  0.000001  2.388628e-09  2.524413e-08  1.055814e-09  1.121471e-09   \n",
       "1  0.500000  1.932383e-03  2.042232e-02  8.541462e-04  9.072615e-04   \n",
       "2  0.500000  5.533046e-02  5.847579e-01  2.445701e-02  2.597787e-02   \n",
       "3  0.500000  1.868879e-01  1.000000e+00  8.260765e-02  8.774463e-02   \n",
       "4  0.343017  1.739348e-04  1.838224e-03  7.688215e-05  8.166309e-05   \n",
       "\n",
       "   log2 fold change  \n",
       "0         -0.065622  \n",
       "1         -0.015217  \n",
       "2          0.010690  \n",
       "3         -0.008591  \n",
       "4          0.020228  "
      ]
     },
     "execution_count": 22,
     "metadata": {},
     "output_type": "execute_result"
    }
   ],
   "source": [
    "fold_change_df.head()"
   ]
  },
  {
   "cell_type": "code",
   "execution_count": 23,
   "metadata": {
    "collapsed": false
   },
   "outputs": [],
   "source": [
    "fold_change_genes = fold_change_df['gene']"
   ]
  },
  {
   "cell_type": "code",
   "execution_count": 24,
   "metadata": {
    "collapsed": false
   },
   "outputs": [
    {
     "data": {
      "text/plain": [
       "0    39872\n",
       "1    39873\n",
       "2    39874\n",
       "3    39875\n",
       "4    39876\n",
       "Name: gene, dtype: object"
      ]
     },
     "execution_count": 24,
     "metadata": {},
     "output_type": "execute_result"
    }
   ],
   "source": [
    "fold_change_genes.head()"
   ]
  },
  {
   "cell_type": "markdown",
   "metadata": {},
   "source": [
    "### Subtask 2.2: Perform gene set enrichment (Fisher's exact test or an hypergeometric test will do for our purposes) with the KEGG gene sets you extracted in Task 1 (you may want to store the results in a pandas dataframe and write them to csv)"
   ]
  },
  {
   "cell_type": "markdown",
   "metadata": {},
   "source": [
    "hint:\n",
    "\n",
    "https://genetrail2.bioinf.uni-sb.de/help?topic=set_level_statistics"
   ]
  },
  {
   "cell_type": "code",
   "execution_count": 25,
   "metadata": {
    "collapsed": false
   },
   "outputs": [
    {
     "name": "stdout",
     "output_type": "stream",
     "text": [
      "There are 7106 genes in both sets.\n"
     ]
    }
   ],
   "source": [
    "# get all genes stored in the pathways_genes_ids_df and store them in set\n",
    "set_pathway_genes = set([i for sublist in pathways_genes_ids_df['Gene Name'] for i in sublist])\n",
    "\n",
    "# get all genes stored in the fold_change_genes dataframe and store them in set\n",
    "set_fold_change_genes = set(fold_change_genes)\n",
    "\n",
    "# all genes in both sets\n",
    "in_both_sets = set_pathway_genes & set_fold_change_genes\n",
    "\n",
    "# \n",
    "print(\"There are \" + str(len(in_both_sets)) + \" genes in both sets.\")"
   ]
  },
  {
   "cell_type": "code",
   "execution_count": 76,
   "metadata": {
    "collapsed": true
   },
   "outputs": [],
   "source": [
    "def intersect_dataframes(df_pathway_1, df_fold_change_2):\n",
    "    \n",
    "    # todo: fixen\n",
    "    # fehler bei set_df1!!!!!!\n",
    "    \n",
    "    #print(type(df_pathway_1))\n",
    "    \n",
    "    #print(df_pathway_1)\n",
    "    \n",
    "    # todo: nicht über direkten index zugreifen, sondern über 'Gene name'\n",
    "    \n",
    "    \n",
    "    #print(df_pathway_1['Gene Name'])\n",
    "    \n",
    "    try:\n",
    "        #set_df1 = set(df_pathway_1[2])\n",
    "        #set_df1 = set([i for sublist in df_pathway_1[2] for i in sublist])\n",
    "        set_df1 = set([i for i in df_pathway_1[2]])\n",
    "    except:\n",
    "        #set_df1 = set(df_pathway_1['Gene Name'])\n",
    "        set_df1 = set([i for sublist in df_pathway_1['Gene Name'] for i in sublist])\n",
    "        #temp_list = df_pathway_1['Gene Name']\n",
    "        #print(temp_list)\n",
    "        #set_df1 = set([i for i in temp_list])\n",
    "\n",
    "    #print(df_pathway_1[2])#.index['Gene name'])\n",
    "    \n",
    "    # get all genes stored in the pathways_genes_ids_df and store them in set\n",
    "    #set_df1 = set([i for sublist in df_pathway_1['Gene Name'] for i in sublist])\n",
    "\n",
    "    # get all genes stored in the fold_change_genes dataframe and store them in set\n",
    "    set_df2 = set(df_fold_change_2)\n",
    "\n",
    "    #print(set_df1)\n",
    "    #print(set_df2)\n",
    "    \n",
    "    # all genes in both sets\n",
    "    return set_df1 & set_df2\n",
    "    "
   ]
  },
  {
   "cell_type": "code",
   "execution_count": 70,
   "metadata": {
    "collapsed": false
   },
   "outputs": [],
   "source": [
    "pathways_genes_ids_df_pw_index = pathways_genes_ids_df.set_index('Pathway ID')"
   ]
  },
  {
   "cell_type": "code",
   "execution_count": 71,
   "metadata": {
    "collapsed": false
   },
   "outputs": [
    {
     "data": {
      "text/plain": [
       "Description    Glycolysis / Gluconeogenesis - Mus musculus (m...\n",
       "Gene ID        [15277, 212032, 15275, 216019, 103988, 14751, ...\n",
       "Gene Name      [Hk2, Hk3, Hk1, Hkdc1, Gck, Gpi1, Pfkl, Pfkm, ...\n",
       "Name: path:mmu00010, dtype: object"
      ]
     },
     "execution_count": 71,
     "metadata": {},
     "output_type": "execute_result"
    }
   ],
   "source": [
    "pathways_genes_ids_df_pw_index.loc['path:mmu00010']"
   ]
  },
  {
   "cell_type": "code",
   "execution_count": 72,
   "metadata": {
    "collapsed": false
   },
   "outputs": [],
   "source": [
    "#pathways_genes_ids_df['Gene Name']"
   ]
  },
  {
   "cell_type": "code",
   "execution_count": 79,
   "metadata": {
    "collapsed": false,
    "scrolled": true
   },
   "outputs": [],
   "source": [
    "# get rid of all genes which are not existing in the pathway\n",
    "intersection_pathway_fold_change = intersect_dataframes(pathways_genes_ids_df, set_fold_change_genes)\n",
    "#intersection_pathway_fold_change"
   ]
  },
  {
   "cell_type": "code",
   "execution_count": 85,
   "metadata": {
    "collapsed": false
   },
   "outputs": [],
   "source": [
    "from scipy.stats import hypergeom"
   ]
  },
  {
   "cell_type": "code",
   "execution_count": 148,
   "metadata": {
    "collapsed": true
   },
   "outputs": [],
   "source": [
    "def perform_gene_set_enrichment(fold_change_df_, pathway_genes_df_):\n",
    "    ''' This function performs a gene set enrichment on a sinle pathway.\n",
    "    \n",
    "    '''\n",
    "    \n",
    "    #print(fold_change_df_[fold_change_df_['sidak'] < 0.05])\n",
    "    \n",
    "    #D = fold_change_df_[fold_change_df_['sidak'] < 0.05]['gene']\n",
    "    #P = pathway_genes_df_['Gene Name']\n",
    "    #G = fold_change_df_[fold_change_df_['sidak'] > 0.05]['gene']\n",
    "\n",
    "    # differentially expressed genes \n",
    "    D = fold_change_df_[fold_change_df_['holm-sidak'] < 0.05].index  \n",
    "    \n",
    "    # pathway genes\n",
    "    P = pathway_genes_df_['Gene Name']\n",
    "    \n",
    "    # not differentially expressed genes\n",
    "    G = fold_change_df_[fold_change_df_['holm-sidak'] > 0.05].index\n",
    "\n",
    "    # D united with P\n",
    "    D_and_P = len(intersect_dataframes(pathway_genes_df_, D))\n",
    "    \n",
    "    # D united with not P\n",
    "    D_and_not_P = len(D)-D_and_P\n",
    "    \n",
    "    # not D united with P\n",
    "    not_D_and_P = len(intersect_dataframes(pathway_genes_df_, G))\n",
    "    \n",
    "    # not D united with not P\n",
    "    not_D_and_not_P = len(G)-not_D_and_P\n",
    "    \n",
    "    # create the contingency table\n",
    "    table = pd.DataFrame({'Diff. expr.' : pd.Series([D_and_P, D_and_not_P, D_and_P+D_and_not_P], \n",
    "                                                   index=['in PW', 'Not in PW', 'Total']),\n",
    "                         'Not Diff. expr.' : pd.Series([not_D_and_P, not_D_and_not_P, not_D_and_P+not_D_and_not_P], \n",
    "                                                index=['in PW', 'Not in PW', 'Total']),\n",
    "                         'Total' : pd.Series([D_and_P+not_D_and_P, D_and_not_P+not_D_and_not_P, \n",
    "                                              D_and_P+D_and_not_P+not_D_and_P+not_D_and_not_P], \n",
    "                                             index=['in PW', 'Not in PW', 'Total'])})\n",
    "    \n",
    "    # # genes differentially expressed\n",
    "    n = len(D)\n",
    "    \n",
    "    # # genes diff. expr. AND in pathway\n",
    "    k = D_and_P\n",
    "    \n",
    "    # total number of genes \n",
    "    m = D_and_P+D_and_not_P+not_D_and_P+not_D_and_not_P\n",
    "    \n",
    "    # # genes in pathway\n",
    "    l = D_and_P+not_D_and_P\n",
    "    \n",
    "    # compute p-value:\n",
    "    k_ = l*n/m\n",
    "    if k_ >= k:\n",
    "        p_value = hypergeom.cdf(k,m,l,n)\n",
    "    else:\n",
    "        p_value = hypergeom.sf(k-1,m,l,n)\n",
    "    \n",
    "    \n",
    "    return p_value\n",
    "    "
   ]
  },
  {
   "cell_type": "code",
   "execution_count": 149,
   "metadata": {
    "collapsed": true
   },
   "outputs": [],
   "source": [
    "def perform_gene_set_enrichment_all_pathways(fold_change_df_, _pathway_genes_df_):\n",
    "    ''' This function performs a gene set enrichment on all pathways stored in the _pathway_genes_df_ Dataframe.\n",
    "    \n",
    "        fold_change_df_: the dataframe containing the differential expression data\n",
    "        _pathway_genes_df_: the dataframe containing the pathways and their corresponding genes\n",
    "    '''\n",
    "    \n",
    "    # lists to create the dataframe\n",
    "    list_of_pathways = []\n",
    "    list_of_p_values = []\n",
    "    \n",
    "    # iterate over all pathways\n",
    "    for pw_name, pathway in _pathway_genes_df_.iterrows():\n",
    "        \n",
    "        # append the pathway id\n",
    "        list_of_pathways.append(pw_name)\n",
    "        \n",
    "        # compute the p-value for the given pathway\n",
    "        list_of_p_values.append(perform_gene_set_enrichment(fold_change_df_, pathway))\n",
    "    \n",
    "    return pd.DataFrame({'Pathway' : list_of_pathways, \n",
    "                         'p-value' : list_of_p_values}) "
   ]
  },
  {
   "cell_type": "code",
   "execution_count": 150,
   "metadata": {
    "collapsed": false
   },
   "outputs": [],
   "source": [
    "gene_set_enrichment_p_values = perform_gene_set_enrichment_all_pathways(fold_change_filtered, pathways_genes_ids_df_pw_index)"
   ]
  },
  {
   "cell_type": "code",
   "execution_count": 133,
   "metadata": {
    "collapsed": false
   },
   "outputs": [
    {
     "data": {
      "text/plain": [
       "294"
      ]
     },
     "execution_count": 133,
     "metadata": {},
     "output_type": "execute_result"
    }
   ],
   "source": [
    "len(gene_set_enrichment_p_values)"
   ]
  },
  {
   "cell_type": "code",
   "execution_count": 102,
   "metadata": {
    "collapsed": false
   },
   "outputs": [
    {
     "data": {
      "text/html": [
       "<div>\n",
       "<table border=\"1\" class=\"dataframe\">\n",
       "  <thead>\n",
       "    <tr style=\"text-align: right;\">\n",
       "      <th></th>\n",
       "      <th>Pathway</th>\n",
       "      <th>p-value</th>\n",
       "    </tr>\n",
       "  </thead>\n",
       "  <tbody>\n",
       "    <tr>\n",
       "      <th>0</th>\n",
       "      <td>path:mmu00010</td>\n",
       "      <td>0.107967</td>\n",
       "    </tr>\n",
       "    <tr>\n",
       "      <th>1</th>\n",
       "      <td>path:mmu00020</td>\n",
       "      <td>0.066672</td>\n",
       "    </tr>\n",
       "    <tr>\n",
       "      <th>2</th>\n",
       "      <td>path:mmu00030</td>\n",
       "      <td>0.415006</td>\n",
       "    </tr>\n",
       "    <tr>\n",
       "      <th>3</th>\n",
       "      <td>path:mmu00040</td>\n",
       "      <td>0.060025</td>\n",
       "    </tr>\n",
       "    <tr>\n",
       "      <th>4</th>\n",
       "      <td>path:mmu00051</td>\n",
       "      <td>0.275721</td>\n",
       "    </tr>\n",
       "  </tbody>\n",
       "</table>\n",
       "</div>"
      ],
      "text/plain": [
       "         Pathway   p-value\n",
       "0  path:mmu00010  0.107967\n",
       "1  path:mmu00020  0.066672\n",
       "2  path:mmu00030  0.415006\n",
       "3  path:mmu00040  0.060025\n",
       "4  path:mmu00051  0.275721"
      ]
     },
     "execution_count": 102,
     "metadata": {},
     "output_type": "execute_result"
    }
   ],
   "source": [
    "gene_set_enrichment_p_values.head()"
   ]
  },
  {
   "cell_type": "code",
   "execution_count": 152,
   "metadata": {
    "collapsed": false
   },
   "outputs": [
    {
     "data": {
      "text/html": [
       "<div>\n",
       "<table border=\"1\" class=\"dataframe\">\n",
       "  <thead>\n",
       "    <tr style=\"text-align: right;\">\n",
       "      <th></th>\n",
       "      <th>Pathway</th>\n",
       "      <th>p-value</th>\n",
       "    </tr>\n",
       "  </thead>\n",
       "  <tbody>\n",
       "    <tr>\n",
       "      <th>189</th>\n",
       "      <td>path:mmu04740</td>\n",
       "      <td>2.530012e-15</td>\n",
       "    </tr>\n",
       "    <tr>\n",
       "      <th>288</th>\n",
       "      <td>path:mmu05332</td>\n",
       "      <td>6.920946e-04</td>\n",
       "    </tr>\n",
       "    <tr>\n",
       "      <th>287</th>\n",
       "      <td>path:mmu05330</td>\n",
       "      <td>1.678600e-03</td>\n",
       "    </tr>\n",
       "    <tr>\n",
       "      <th>123</th>\n",
       "      <td>path:mmu04120</td>\n",
       "      <td>1.983666e-03</td>\n",
       "    </tr>\n",
       "    <tr>\n",
       "      <th>231</th>\n",
       "      <td>path:mmu05012</td>\n",
       "      <td>2.396693e-03</td>\n",
       "    </tr>\n",
       "    <tr>\n",
       "      <th>214</th>\n",
       "      <td>path:mmu04940</td>\n",
       "      <td>2.562391e-03</td>\n",
       "    </tr>\n",
       "    <tr>\n",
       "      <th>127</th>\n",
       "      <td>path:mmu04141</td>\n",
       "      <td>3.887648e-03</td>\n",
       "    </tr>\n",
       "    <tr>\n",
       "      <th>94</th>\n",
       "      <td>path:mmu03040</td>\n",
       "      <td>4.288771e-03</td>\n",
       "    </tr>\n",
       "    <tr>\n",
       "      <th>88</th>\n",
       "      <td>path:mmu03013</td>\n",
       "      <td>5.884330e-03</td>\n",
       "    </tr>\n",
       "    <tr>\n",
       "      <th>150</th>\n",
       "      <td>path:mmu04390</td>\n",
       "      <td>9.063634e-03</td>\n",
       "    </tr>\n",
       "    <tr>\n",
       "      <th>154</th>\n",
       "      <td>path:mmu04514</td>\n",
       "      <td>9.973672e-03</td>\n",
       "    </tr>\n",
       "    <tr>\n",
       "      <th>15</th>\n",
       "      <td>path:mmu00190</td>\n",
       "      <td>1.040862e-02</td>\n",
       "    </tr>\n",
       "    <tr>\n",
       "      <th>85</th>\n",
       "      <td>path:mmu02010</td>\n",
       "      <td>1.068547e-02</td>\n",
       "    </tr>\n",
       "    <tr>\n",
       "      <th>5</th>\n",
       "      <td>path:mmu00052</td>\n",
       "      <td>1.382516e-02</td>\n",
       "    </tr>\n",
       "    <tr>\n",
       "      <th>80</th>\n",
       "      <td>path:mmu00970</td>\n",
       "      <td>1.554791e-02</td>\n",
       "    </tr>\n",
       "    <tr>\n",
       "      <th>218</th>\n",
       "      <td>path:mmu04962</td>\n",
       "      <td>1.554791e-02</td>\n",
       "    </tr>\n",
       "    <tr>\n",
       "      <th>233</th>\n",
       "      <td>path:mmu05016</td>\n",
       "      <td>1.591513e-02</td>\n",
       "    </tr>\n",
       "    <tr>\n",
       "      <th>156</th>\n",
       "      <td>path:mmu04530</td>\n",
       "      <td>1.651502e-02</td>\n",
       "    </tr>\n",
       "    <tr>\n",
       "      <th>45</th>\n",
       "      <td>path:mmu00524</td>\n",
       "      <td>1.943079e-02</td>\n",
       "    </tr>\n",
       "    <tr>\n",
       "      <th>119</th>\n",
       "      <td>path:mmu04080</td>\n",
       "      <td>2.105581e-02</td>\n",
       "    </tr>\n",
       "    <tr>\n",
       "      <th>96</th>\n",
       "      <td>path:mmu03060</td>\n",
       "      <td>2.359168e-02</td>\n",
       "    </tr>\n",
       "    <tr>\n",
       "      <th>121</th>\n",
       "      <td>path:mmu04114</td>\n",
       "      <td>3.212820e-02</td>\n",
       "    </tr>\n",
       "    <tr>\n",
       "      <th>42</th>\n",
       "      <td>path:mmu00512</td>\n",
       "      <td>3.334124e-02</td>\n",
       "    </tr>\n",
       "    <tr>\n",
       "      <th>252</th>\n",
       "      <td>path:mmu05160</td>\n",
       "      <td>3.447067e-02</td>\n",
       "    </tr>\n",
       "    <tr>\n",
       "      <th>188</th>\n",
       "      <td>path:mmu04730</td>\n",
       "      <td>3.536049e-02</td>\n",
       "    </tr>\n",
       "    <tr>\n",
       "      <th>120</th>\n",
       "      <td>path:mmu04110</td>\n",
       "      <td>3.593791e-02</td>\n",
       "    </tr>\n",
       "    <tr>\n",
       "      <th>283</th>\n",
       "      <td>path:mmu05320</td>\n",
       "      <td>3.640029e-02</td>\n",
       "    </tr>\n",
       "    <tr>\n",
       "      <th>14</th>\n",
       "      <td>path:mmu00140</td>\n",
       "      <td>3.749285e-02</td>\n",
       "    </tr>\n",
       "    <tr>\n",
       "      <th>147</th>\n",
       "      <td>path:mmu04360</td>\n",
       "      <td>3.920760e-02</td>\n",
       "    </tr>\n",
       "    <tr>\n",
       "      <th>177</th>\n",
       "      <td>path:mmu04710</td>\n",
       "      <td>3.933290e-02</td>\n",
       "    </tr>\n",
       "    <tr>\n",
       "      <th>260</th>\n",
       "      <td>path:mmu05202</td>\n",
       "      <td>4.154325e-02</td>\n",
       "    </tr>\n",
       "    <tr>\n",
       "      <th>250</th>\n",
       "      <td>path:mmu05150</td>\n",
       "      <td>4.840855e-02</td>\n",
       "    </tr>\n",
       "    <tr>\n",
       "      <th>9</th>\n",
       "      <td>path:mmu00071</td>\n",
       "      <td>4.840855e-02</td>\n",
       "    </tr>\n",
       "    <tr>\n",
       "      <th>128</th>\n",
       "      <td>path:mmu04142</td>\n",
       "      <td>4.867554e-02</td>\n",
       "    </tr>\n",
       "    <tr>\n",
       "      <th>253</th>\n",
       "      <td>path:mmu05161</td>\n",
       "      <td>4.928699e-02</td>\n",
       "    </tr>\n",
       "  </tbody>\n",
       "</table>\n",
       "</div>"
      ],
      "text/plain": [
       "           Pathway       p-value\n",
       "189  path:mmu04740  2.530012e-15\n",
       "288  path:mmu05332  6.920946e-04\n",
       "287  path:mmu05330  1.678600e-03\n",
       "123  path:mmu04120  1.983666e-03\n",
       "231  path:mmu05012  2.396693e-03\n",
       "214  path:mmu04940  2.562391e-03\n",
       "127  path:mmu04141  3.887648e-03\n",
       "94   path:mmu03040  4.288771e-03\n",
       "88   path:mmu03013  5.884330e-03\n",
       "150  path:mmu04390  9.063634e-03\n",
       "154  path:mmu04514  9.973672e-03\n",
       "15   path:mmu00190  1.040862e-02\n",
       "85   path:mmu02010  1.068547e-02\n",
       "5    path:mmu00052  1.382516e-02\n",
       "80   path:mmu00970  1.554791e-02\n",
       "218  path:mmu04962  1.554791e-02\n",
       "233  path:mmu05016  1.591513e-02\n",
       "156  path:mmu04530  1.651502e-02\n",
       "45   path:mmu00524  1.943079e-02\n",
       "119  path:mmu04080  2.105581e-02\n",
       "96   path:mmu03060  2.359168e-02\n",
       "121  path:mmu04114  3.212820e-02\n",
       "42   path:mmu00512  3.334124e-02\n",
       "252  path:mmu05160  3.447067e-02\n",
       "188  path:mmu04730  3.536049e-02\n",
       "120  path:mmu04110  3.593791e-02\n",
       "283  path:mmu05320  3.640029e-02\n",
       "14   path:mmu00140  3.749285e-02\n",
       "147  path:mmu04360  3.920760e-02\n",
       "177  path:mmu04710  3.933290e-02\n",
       "260  path:mmu05202  4.154325e-02\n",
       "250  path:mmu05150  4.840855e-02\n",
       "9    path:mmu00071  4.840855e-02\n",
       "128  path:mmu04142  4.867554e-02\n",
       "253  path:mmu05161  4.928699e-02"
      ]
     },
     "execution_count": 152,
     "metadata": {},
     "output_type": "execute_result"
    }
   ],
   "source": [
    "gene_set_enrichment_p_values[gene_set_enrichment_p_values['p-value'] < 0.05].sort_values(by='p-value')"
   ]
  },
  {
   "cell_type": "code",
   "execution_count": 107,
   "metadata": {
    "collapsed": false,
    "scrolled": true
   },
   "outputs": [
    {
     "data": {
      "text/plain": [
       "0.18161919075597432"
      ]
     },
     "execution_count": 107,
     "metadata": {},
     "output_type": "execute_result"
    }
   ],
   "source": [
    "# set 'gene' as index for the fold change dataframe\n",
    "fc_df_gene_index = fold_change_df.set_index('gene')\n",
    "\n",
    "# get only the entries which are existent in the pathway dataframe\n",
    "fold_change_filtered = fc_df_gene_index.loc[list(intersection_pathway_fold_change)]\n",
    "\n",
    "# perform gene set enrichment\n",
    "perform_gene_set_enrichment(fold_change_filtered, pathways_genes_ids_df_pw_index.loc['path:mmu05414'])"
   ]
  },
  {
   "cell_type": "code",
   "execution_count": 93,
   "metadata": {
    "collapsed": false
   },
   "outputs": [
    {
     "data": {
      "text/plain": [
       "Description      Dilated cardiomyopathy - Mus musculus (mouse)\\n\n",
       "Gene ID        [109700, 16398, 16399, 16400, 16401, 16402, 16...\n",
       "Gene Name      [Itga1, Itga2, Itga2b, Itga3, Itga4, Itga5, It...\n",
       "Name: path:mmu05414, dtype: object"
      ]
     },
     "execution_count": 93,
     "metadata": {},
     "output_type": "execute_result"
    }
   ],
   "source": [
    "pathways_genes_ids_df_pw_index.loc['path:mmu05414']"
   ]
  },
  {
   "cell_type": "code",
   "execution_count": 83,
   "metadata": {
    "collapsed": false
   },
   "outputs": [],
   "source": [
    "#perform_gene_set_enrichment(fold_change_df, pathways_genes_ids_df)"
   ]
  },
  {
   "cell_type": "code",
   "execution_count": 256,
   "metadata": {
    "collapsed": false
   },
   "outputs": [],
   "source": [
    "#fold_change_genes"
   ]
  },
  {
   "cell_type": "code",
   "execution_count": 254,
   "metadata": {
    "collapsed": false
   },
   "outputs": [
    {
     "data": {
      "text/plain": [
       "21834"
      ]
     },
     "execution_count": 254,
     "metadata": {},
     "output_type": "execute_result"
    }
   ],
   "source": [
    "len(fold_change_genes)"
   ]
  },
  {
   "cell_type": "code",
   "execution_count": 184,
   "metadata": {
    "collapsed": false
   },
   "outputs": [
    {
     "data": {
      "text/plain": [
       "3106"
      ]
     },
     "execution_count": 184,
     "metadata": {},
     "output_type": "execute_result"
    }
   ],
   "source": [
    "len(fold_change_df[fold_change_df['sidak'] < 0.05])"
   ]
  },
  {
   "cell_type": "markdown",
   "metadata": {},
   "source": [
    "### Subtask 2.3: Extract a list of significantly (at 0.05 significance) enriched KEGG pathways"
   ]
  },
  {
   "cell_type": "code",
   "execution_count": 153,
   "metadata": {
    "collapsed": false
   },
   "outputs": [
    {
     "data": {
      "text/html": [
       "<div>\n",
       "<table border=\"1\" class=\"dataframe\">\n",
       "  <thead>\n",
       "    <tr style=\"text-align: right;\">\n",
       "      <th></th>\n",
       "      <th>Pathway</th>\n",
       "      <th>p-value</th>\n",
       "    </tr>\n",
       "  </thead>\n",
       "  <tbody>\n",
       "    <tr>\n",
       "      <th>189</th>\n",
       "      <td>path:mmu04740</td>\n",
       "      <td>2.530012e-15</td>\n",
       "    </tr>\n",
       "    <tr>\n",
       "      <th>288</th>\n",
       "      <td>path:mmu05332</td>\n",
       "      <td>6.920946e-04</td>\n",
       "    </tr>\n",
       "    <tr>\n",
       "      <th>287</th>\n",
       "      <td>path:mmu05330</td>\n",
       "      <td>1.678600e-03</td>\n",
       "    </tr>\n",
       "    <tr>\n",
       "      <th>123</th>\n",
       "      <td>path:mmu04120</td>\n",
       "      <td>1.983666e-03</td>\n",
       "    </tr>\n",
       "    <tr>\n",
       "      <th>231</th>\n",
       "      <td>path:mmu05012</td>\n",
       "      <td>2.396693e-03</td>\n",
       "    </tr>\n",
       "    <tr>\n",
       "      <th>214</th>\n",
       "      <td>path:mmu04940</td>\n",
       "      <td>2.562391e-03</td>\n",
       "    </tr>\n",
       "    <tr>\n",
       "      <th>127</th>\n",
       "      <td>path:mmu04141</td>\n",
       "      <td>3.887648e-03</td>\n",
       "    </tr>\n",
       "    <tr>\n",
       "      <th>94</th>\n",
       "      <td>path:mmu03040</td>\n",
       "      <td>4.288771e-03</td>\n",
       "    </tr>\n",
       "    <tr>\n",
       "      <th>88</th>\n",
       "      <td>path:mmu03013</td>\n",
       "      <td>5.884330e-03</td>\n",
       "    </tr>\n",
       "    <tr>\n",
       "      <th>150</th>\n",
       "      <td>path:mmu04390</td>\n",
       "      <td>9.063634e-03</td>\n",
       "    </tr>\n",
       "    <tr>\n",
       "      <th>154</th>\n",
       "      <td>path:mmu04514</td>\n",
       "      <td>9.973672e-03</td>\n",
       "    </tr>\n",
       "    <tr>\n",
       "      <th>15</th>\n",
       "      <td>path:mmu00190</td>\n",
       "      <td>1.040862e-02</td>\n",
       "    </tr>\n",
       "    <tr>\n",
       "      <th>85</th>\n",
       "      <td>path:mmu02010</td>\n",
       "      <td>1.068547e-02</td>\n",
       "    </tr>\n",
       "    <tr>\n",
       "      <th>5</th>\n",
       "      <td>path:mmu00052</td>\n",
       "      <td>1.382516e-02</td>\n",
       "    </tr>\n",
       "    <tr>\n",
       "      <th>80</th>\n",
       "      <td>path:mmu00970</td>\n",
       "      <td>1.554791e-02</td>\n",
       "    </tr>\n",
       "    <tr>\n",
       "      <th>218</th>\n",
       "      <td>path:mmu04962</td>\n",
       "      <td>1.554791e-02</td>\n",
       "    </tr>\n",
       "    <tr>\n",
       "      <th>233</th>\n",
       "      <td>path:mmu05016</td>\n",
       "      <td>1.591513e-02</td>\n",
       "    </tr>\n",
       "    <tr>\n",
       "      <th>156</th>\n",
       "      <td>path:mmu04530</td>\n",
       "      <td>1.651502e-02</td>\n",
       "    </tr>\n",
       "    <tr>\n",
       "      <th>45</th>\n",
       "      <td>path:mmu00524</td>\n",
       "      <td>1.943079e-02</td>\n",
       "    </tr>\n",
       "    <tr>\n",
       "      <th>119</th>\n",
       "      <td>path:mmu04080</td>\n",
       "      <td>2.105581e-02</td>\n",
       "    </tr>\n",
       "    <tr>\n",
       "      <th>96</th>\n",
       "      <td>path:mmu03060</td>\n",
       "      <td>2.359168e-02</td>\n",
       "    </tr>\n",
       "    <tr>\n",
       "      <th>121</th>\n",
       "      <td>path:mmu04114</td>\n",
       "      <td>3.212820e-02</td>\n",
       "    </tr>\n",
       "    <tr>\n",
       "      <th>42</th>\n",
       "      <td>path:mmu00512</td>\n",
       "      <td>3.334124e-02</td>\n",
       "    </tr>\n",
       "    <tr>\n",
       "      <th>252</th>\n",
       "      <td>path:mmu05160</td>\n",
       "      <td>3.447067e-02</td>\n",
       "    </tr>\n",
       "    <tr>\n",
       "      <th>188</th>\n",
       "      <td>path:mmu04730</td>\n",
       "      <td>3.536049e-02</td>\n",
       "    </tr>\n",
       "    <tr>\n",
       "      <th>120</th>\n",
       "      <td>path:mmu04110</td>\n",
       "      <td>3.593791e-02</td>\n",
       "    </tr>\n",
       "    <tr>\n",
       "      <th>283</th>\n",
       "      <td>path:mmu05320</td>\n",
       "      <td>3.640029e-02</td>\n",
       "    </tr>\n",
       "    <tr>\n",
       "      <th>14</th>\n",
       "      <td>path:mmu00140</td>\n",
       "      <td>3.749285e-02</td>\n",
       "    </tr>\n",
       "    <tr>\n",
       "      <th>147</th>\n",
       "      <td>path:mmu04360</td>\n",
       "      <td>3.920760e-02</td>\n",
       "    </tr>\n",
       "    <tr>\n",
       "      <th>177</th>\n",
       "      <td>path:mmu04710</td>\n",
       "      <td>3.933290e-02</td>\n",
       "    </tr>\n",
       "    <tr>\n",
       "      <th>260</th>\n",
       "      <td>path:mmu05202</td>\n",
       "      <td>4.154325e-02</td>\n",
       "    </tr>\n",
       "    <tr>\n",
       "      <th>250</th>\n",
       "      <td>path:mmu05150</td>\n",
       "      <td>4.840855e-02</td>\n",
       "    </tr>\n",
       "    <tr>\n",
       "      <th>9</th>\n",
       "      <td>path:mmu00071</td>\n",
       "      <td>4.840855e-02</td>\n",
       "    </tr>\n",
       "    <tr>\n",
       "      <th>128</th>\n",
       "      <td>path:mmu04142</td>\n",
       "      <td>4.867554e-02</td>\n",
       "    </tr>\n",
       "    <tr>\n",
       "      <th>253</th>\n",
       "      <td>path:mmu05161</td>\n",
       "      <td>4.928699e-02</td>\n",
       "    </tr>\n",
       "  </tbody>\n",
       "</table>\n",
       "</div>"
      ],
      "text/plain": [
       "           Pathway       p-value\n",
       "189  path:mmu04740  2.530012e-15\n",
       "288  path:mmu05332  6.920946e-04\n",
       "287  path:mmu05330  1.678600e-03\n",
       "123  path:mmu04120  1.983666e-03\n",
       "231  path:mmu05012  2.396693e-03\n",
       "214  path:mmu04940  2.562391e-03\n",
       "127  path:mmu04141  3.887648e-03\n",
       "94   path:mmu03040  4.288771e-03\n",
       "88   path:mmu03013  5.884330e-03\n",
       "150  path:mmu04390  9.063634e-03\n",
       "154  path:mmu04514  9.973672e-03\n",
       "15   path:mmu00190  1.040862e-02\n",
       "85   path:mmu02010  1.068547e-02\n",
       "5    path:mmu00052  1.382516e-02\n",
       "80   path:mmu00970  1.554791e-02\n",
       "218  path:mmu04962  1.554791e-02\n",
       "233  path:mmu05016  1.591513e-02\n",
       "156  path:mmu04530  1.651502e-02\n",
       "45   path:mmu00524  1.943079e-02\n",
       "119  path:mmu04080  2.105581e-02\n",
       "96   path:mmu03060  2.359168e-02\n",
       "121  path:mmu04114  3.212820e-02\n",
       "42   path:mmu00512  3.334124e-02\n",
       "252  path:mmu05160  3.447067e-02\n",
       "188  path:mmu04730  3.536049e-02\n",
       "120  path:mmu04110  3.593791e-02\n",
       "283  path:mmu05320  3.640029e-02\n",
       "14   path:mmu00140  3.749285e-02\n",
       "147  path:mmu04360  3.920760e-02\n",
       "177  path:mmu04710  3.933290e-02\n",
       "260  path:mmu05202  4.154325e-02\n",
       "250  path:mmu05150  4.840855e-02\n",
       "9    path:mmu00071  4.840855e-02\n",
       "128  path:mmu04142  4.867554e-02\n",
       "253  path:mmu05161  4.928699e-02"
      ]
     },
     "execution_count": 153,
     "metadata": {},
     "output_type": "execute_result"
    }
   ],
   "source": [
    "gene_set_enrichment_p_values[gene_set_enrichment_p_values['p-value'] < 0.05].sort_values(by='p-value')"
   ]
  },
  {
   "cell_type": "markdown",
   "metadata": {},
   "source": [
    "## Task 3: KEGG map visualization"
   ]
  },
  {
   "cell_type": "markdown",
   "metadata": {},
   "source": [
    "#### hint:\n",
    "\n",
    "http://nbviewer.jupyter.org/github/widdowquinn/notebooks/blob/master/Biopython_KGML_intro.ipynb\n",
    "\n",
    "#### remark:\n",
    "\n",
    "In real life you may want to use the R-based tool pathview: https://bioconductor.org/packages/release/bioc/html/pathview.html (if you insist you can also try to use r2py for using pathview from Python during the practical)\n",
    "\n",
    "For Python (in addition to the Biopyhton module) https://github.com/idekerlab/py2cytoscape in combination with https://github.com/idekerlab/KEGGscape may be another alternative (in the future)\n",
    "\n",
    "Generally speaking, it is always a good idea to pay attention also to other pathway databases like Reactome or WikiPathways ..."
   ]
  },
  {
   "cell_type": "markdown",
   "metadata": {},
   "source": [
    "### Subtask 3.1: Pick some significantly enriched KEGG pathways of your choice from 2.3 and visualize them"
   ]
  },
  {
   "cell_type": "code",
   "execution_count": 157,
   "metadata": {
    "collapsed": false
   },
   "outputs": [],
   "source": [
    "#kegg_get(\"mmu04740\").read()"
   ]
  },
  {
   "cell_type": "code",
   "execution_count": null,
   "metadata": {
    "collapsed": true
   },
   "outputs": [],
   "source": []
  },
  {
   "cell_type": "code",
   "execution_count": 154,
   "metadata": {
    "collapsed": false
   },
   "outputs": [
    {
     "data": {
      "image/png": "[encoded data removed]",
      "text/plain": [
       "<IPython.core.display.Image object>"
      ]
     },
     "execution_count": 154,
     "metadata": {},
     "output_type": "execute_result"
    }
   ],
   "source": [
    "Image(kegg_get(\"mmu04740\", \"image\").read())"
   ]
  },
  {
   "cell_type": "code",
   "execution_count": 159,
   "metadata": {
    "collapsed": true
   },
   "outputs": [],
   "source": [
    "# Helper function to convert colour as RGB tuple to hex string\n",
    "def rgb_to_hex(rgb):\n",
    "    rgb = tuple([int(255*val) for val in rgb])\n",
    "    return '#' + ''.join([hex(val)[2:] for val in rgb]).upper()"
   ]
  },
  {
   "cell_type": "code",
   "execution_count": 164,
   "metadata": {
    "collapsed": true
   },
   "outputs": [],
   "source": [
    "\n",
    "# A bit of code that will help us display the PDF output\n",
    "def PDF(filename):\n",
    "    return HTML('<iframe src=%s width=700 height=350></iframe>' % filename)"
   ]
  },
  {
   "cell_type": "markdown",
   "metadata": {},
   "source": [
    "### Subtask 3.2: Define a a suitable binary color scheme respresenting the fact whether a gene is significantly expressed or not"
   ]
  },
  {
   "cell_type": "markdown",
   "metadata": {},
   "source": [
    "hint: \n",
    "\n",
    "http://www.rapidtables.com/web/color/RGB_Color.htm"
   ]
  },
  {
   "cell_type": "code",
   "execution_count": null,
   "metadata": {
    "collapsed": true
   },
   "outputs": [],
   "source": [
    "# #FF0000 if gene is diff. expressed"
   ]
  },
  {
   "cell_type": "markdown",
   "metadata": {},
   "source": [
    "### Subtask 3.3: Visualize the pathway(s) from 3.1 in such a way that the included genes have the corresponding color from 3.2 ( you may need to define a suitable mapping from single genes to what is actually shown in the pathway map...)"
   ]
  },
  {
   "cell_type": "code",
   "execution_count": 187,
   "metadata": {
    "collapsed": false
   },
   "outputs": [
    {
     "data": {
      "text/plain": [
       "Index([u'Plekhg5', u'Nampt', u'Man2a2', u'Shank3', u'Shank2', u'Shank1',\n",
       "       u'Syt1', u'Pmvk', u'Abcb1a', u'Klc3',\n",
       "       ...\n",
       "       u'Bmp2', u'Rxrg', u'Rxra', u'Ddx20', u'Chst1', u'Chst3', u'Chst2',\n",
       "       u'Chst5', u'Chst4', u'Chst7'],\n",
       "      dtype='object', name=u'gene', length=7106)"
      ]
     },
     "execution_count": 187,
     "metadata": {},
     "output_type": "execute_result"
    }
   ],
   "source": [
    "# list storing the differentially expressed genes\n",
    "fold_change_filtered.index"
   ]
  },
  {
   "cell_type": "code",
   "execution_count": 215,
   "metadata": {
    "collapsed": false,
    "scrolled": true
   },
   "outputs": [],
   "source": [
    "pathway = KGML_parser.read(kegg_get(\"mmu04740\", \"kgml\"))\n",
    "canvas = KGMLCanvas(pathway, import_imagemap=True)\n",
    "\n",
    "for gene in pathway.genes:\n",
    "    \n",
    "    is_gene_diff_expr = False\n",
    "    \n",
    "    # get the list of all kegg ids for the given gene\n",
    "    list_of_all_kegg_ids_for_gene = gene.name.split()\n",
    "    \n",
    "    # get gene name for the kegg_id\n",
    "    for kegg_id_ in list_of_all_kegg_ids_for_gene:\n",
    "        \n",
    "        # get list of all gene names for the given kegg id\n",
    "        gene_names = kegg_get(kegg_id_).read().replace(\"DEFINITION\", \"NAME\").split(\"NAME\")[1].strip().split(\",\")\n",
    "        \n",
    "        # iterate over each gene_name\n",
    "        for gene_name in gene_names:\n",
    "            \n",
    "            # check if gene is diff. expressed\n",
    "            if gene_name in fold_change_filtered.index:\n",
    "                \n",
    "                if fold_change_filtered.loc[gene_name]['holm-sidak'] < 0.05:\n",
    "                    is_gene_diff_expr = True\n",
    "                    for graphic in gene.graphics:\n",
    "                        graphic.bgcolor = '#FF0000'\n",
    "                break\n",
    "        \n",
    "        if is_gene_diff_expr:\n",
    "            break\n"
   ]
  },
  {
   "cell_type": "code",
   "execution_count": 216,
   "metadata": {
    "collapsed": false
   },
   "outputs": [
    {
     "data": {
      "text/html": [
       "<iframe src=figures/test_new_colors.pdf width=700 height=350></iframe>"
      ],
      "text/plain": [
       "<IPython.core.display.HTML object>"
      ]
     },
     "execution_count": 216,
     "metadata": {},
     "output_type": "execute_result"
    }
   ],
   "source": [
    "canvas.draw(\"figures/test_new_colors.pdf\")\n",
    "PDF(\"figures/test_new_colors.pdf\")"
   ]
  },
  {
   "cell_type": "markdown",
   "metadata": {},
   "source": [
    "### Subtask 3.4: Define a suitable continuous color range representing the log2 fold changes of the all the genes in your data"
   ]
  },
  {
   "cell_type": "markdown",
   "metadata": {},
   "source": [
    "hint:\n",
    "\n",
    "http://bsou.io/posts/color-gradients-with-python"
   ]
  },
  {
   "cell_type": "code",
   "execution_count": 239,
   "metadata": {
    "collapsed": false
   },
   "outputs": [],
   "source": [
    "#fold_change_filtered"
   ]
  },
  {
   "cell_type": "code",
   "execution_count": 234,
   "metadata": {
    "collapsed": false
   },
   "outputs": [
    {
     "data": {
      "text/plain": [
       "pvalue              0.000799\n",
       "sidak               1.000000\n",
       "holm-sidak          0.999992\n",
       "holm                1.000000\n",
       "simes-hochberg      0.500000\n",
       "hommel              0.500000\n",
       "fdr_bh              0.002459\n",
       "fdr_by              0.025983\n",
       "fdr_tsbh            0.001087\n",
       "fdr_tsbky           0.001154\n",
       "log2 fold change    0.024825\n",
       "Name: Bmp7, dtype: float64"
      ]
     },
     "execution_count": 234,
     "metadata": {},
     "output_type": "execute_result"
    }
   ],
   "source": [
    "fold_change_filtered.loc['Bmp7']"
   ]
  },
  {
   "cell_type": "code",
   "execution_count": 233,
   "metadata": {
    "collapsed": false
   },
   "outputs": [
    {
     "data": {
      "text/plain": [
       "0.024824576474399999"
      ]
     },
     "execution_count": 233,
     "metadata": {},
     "output_type": "execute_result"
    }
   ],
   "source": [
    "fold_change_filtered.loc['Bmp7']['log2 fold change']"
   ]
  },
  {
   "cell_type": "code",
   "execution_count": null,
   "metadata": {
    "collapsed": true
   },
   "outputs": [],
   "source": []
  },
  {
   "cell_type": "code",
   "execution_count": 238,
   "metadata": {
    "collapsed": false
   },
   "outputs": [
    {
     "name": "stdout",
     "output_type": "stream",
     "text": [
      "(0.0, 0.0, 0.86670000000000003, 1.0)\n"
     ]
    }
   ],
   "source": [
    "price_change = -0.5\n",
    "price_change =  price_change ** 2 / (1 + price_change ** 2)\n",
    "Blues = plt.get_cmap('spectral')\n",
    "print Blues(price_change)"
   ]
  },
  {
   "cell_type": "code",
   "execution_count": null,
   "metadata": {
    "collapsed": true
   },
   "outputs": [],
   "source": []
  },
  {
   "cell_type": "markdown",
   "metadata": {},
   "source": [
    "### Subtask 3.5: Visualize the pathway(s) from 3.1 in such a way that the included genes have the corresponding color from 3.4"
   ]
  },
  {
   "cell_type": "code",
   "execution_count": null,
   "metadata": {
    "collapsed": true
   },
   "outputs": [],
   "source": [
    "def RGB_to_hex(RGB):\n",
    "    ''' [255,255,255] -> \"#FFFFFF\" '''\n",
    "    # Components need to be integers for hex to make sense\n",
    "    RGB = [int(x) for x in RGB]\n",
    "    return \"#\"+\"\".join([\"0{0:x}\".format(v) if v < 16 else\n",
    "            \"{0:x}\".format(v) for v in RGB])"
   ]
  },
  {
   "cell_type": "code",
   "execution_count": 297,
   "metadata": {
    "collapsed": false
   },
   "outputs": [
    {
     "data": {
      "text/plain": [
       "-0.40764013647200004"
      ]
     },
     "execution_count": 297,
     "metadata": {},
     "output_type": "execute_result"
    }
   ],
   "source": [
    "fc_df_gene_index['log2 fold change'].describe()['min']"
   ]
  },
  {
   "cell_type": "code",
   "execution_count": 298,
   "metadata": {
    "collapsed": false
   },
   "outputs": [
    {
     "data": {
      "text/plain": [
       "0.64631521217800003"
      ]
     },
     "execution_count": 298,
     "metadata": {},
     "output_type": "execute_result"
    }
   ],
   "source": [
    "fc_df_gene_index['log2 fold change'].describe()['max']-fc_df_gene_index['log2 fold change'].describe()['min']"
   ]
  },
  {
   "cell_type": "code",
   "execution_count": 301,
   "metadata": {
    "collapsed": true
   },
   "outputs": [],
   "source": [
    "\n",
    "\n",
    "# Helper function to convert colour as RGB tuple to hex string\n",
    "def rgb_to_hex(rgb):\n",
    "    rgb = tuple([int(255*val) for val in rgb])\n",
    "    return '#' + ''.join([hex(val)[2:] for val in rgb]).upper()\n",
    "\n"
   ]
  },
  {
   "cell_type": "code",
   "execution_count": 305,
   "metadata": {
    "collapsed": false
   },
   "outputs": [
    {
     "data": {
      "text/html": [
       "<iframe src=figures/fold_change.pdf width=700 height=350></iframe>"
      ],
      "text/plain": [
       "<IPython.core.display.HTML object>"
      ]
     },
     "execution_count": 305,
     "metadata": {},
     "output_type": "execute_result"
    }
   ],
   "source": [
    "    \n",
    "    \n",
    "    pathway = KGML_parser.read(kegg_get(\"mmu04740\", \"kgml\"))\n",
    "    canvas = KGMLCanvas(pathway, import_imagemap=True)\n",
    "\n",
    "\n",
    "    min_fold_change = fc_df_gene_index['log2 fold change'].describe()['min']\n",
    "    max_fold_change = fc_df_gene_index['log2 fold change'].describe()['max']\n",
    "    \n",
    "    #print\n",
    "    \n",
    "    for gene in pathway.genes:\n",
    "    \n",
    "        is_gene_diff_expr = False\n",
    "        \n",
    "        # get the list of all kegg ids for the given gene\n",
    "        list_of_all_kegg_ids_for_gene = gene.name.split()\n",
    "        \n",
    "        #print(list_of_all_kegg_ids_for_gene)\n",
    "    \n",
    "        # get all gene names for the kegg_id\n",
    "        for kegg_id_ in list_of_all_kegg_ids_for_gene:\n",
    "        \n",
    "            # get list of all gene names for the given kegg id\n",
    "            gene_names = kegg_get(kegg_id_).read().replace(\"DEFINITION\", \"NAME\").split(\"NAME\")[1].strip().split(\",\")\n",
    "        \n",
    "            # iterate over each gene_name\n",
    "            for gene_name in gene_names:\n",
    "            \n",
    "                # check if gene is in dataframe \n",
    "                if gene_name in fc_df_gene_index.index:\n",
    "                    \n",
    "                    # get the log_2_fold_change\n",
    "                    log_2_fold_change = fc_df_gene_index.loc[gene_name]['log2 fold change']\n",
    "                    \n",
    "                    # map log_2_fold_change to [0,1]\n",
    "                    log_2_fold_change = (log_2_fold_change + (-min_fold_change)) / (max_fold_change-min_fold_change)\n",
    "                        \n",
    "                    # print(log_2_fold_change) \n",
    "                    \n",
    "                    # color map\n",
    "                    #color_map = plt.get_cmap('spectral')\n",
    "                    color_map = plt.get_cmap('RdYlGn')\n",
    "                    \n",
    "                    \n",
    "                    # get the rbg color from the color map\n",
    "                    rbg_color = color_map(log_2_fold_change)\n",
    "                    \n",
    "                    # get the hex value for the color\n",
    "                    hex_value = rgb_to_hex(rbg_color)\n",
    "                    \n",
    "                        \n",
    "                    is_gene_diff_expr = True\n",
    "                    \n",
    "                    # \n",
    "                    for graphic in gene.graphics:\n",
    "                        graphic.bgcolor = hex_value\n",
    "                    \n",
    "                    # value has been found\n",
    "                    break\n",
    "        \n",
    "            if is_gene_diff_expr:\n",
    "                break\n",
    "            \n",
    "    canvas.draw(\"figures/fold_change.pdf\")\n",
    "    PDF(\"figures/fold_change.pdf\")        \n",
    "       \n",
    "    #return canvas       \n",
    "    \n",
    "    "
   ]
  },
  {
   "cell_type": "code",
   "execution_count": null,
   "metadata": {
    "collapsed": true
   },
   "outputs": [],
   "source": []
  }
 ],
 "metadata": {
  "anaconda-cloud": {},
  "kernelspec": {
   "display_name": "Python [Root]",
   "language": "python",
   "name": "Python [Root]"
  },
  "language_info": {
   "codemirror_mode": {
    "name": "ipython",
    "version": 2
   },
   "file_extension": ".py",
   "mimetype": "text/x-python",
   "name": "python",
   "nbconvert_exporter": "python",
   "pygments_lexer": "ipython2",
   "version": "2.7.11"
  }
 },
 "nbformat": 4,
 "nbformat_minor": 0
}
