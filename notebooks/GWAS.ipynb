{
 "cells": [
  {
   "cell_type": "markdown",
   "metadata": {
    "toc": "true"
   },
   "source": [
    "# Table of Contents\n",
    " <p><div class=\"lev1\"><a href=\"#Today's-topics\"><span class=\"toc-item-num\">1&nbsp;&nbsp;</span>Today's topics</a></div><div class=\"lev1\"><a href=\"#GWAS-background\"><span class=\"toc-item-num\">2&nbsp;&nbsp;</span>GWAS background</a></div><div class=\"lev1\"><a href=\"#Useful-Resources\"><span class=\"toc-item-num\">3&nbsp;&nbsp;</span>Useful Resources</a></div><div class=\"lev2\"><a href=\"#Packages\"><span class=\"toc-item-num\">3.1&nbsp;&nbsp;</span>Packages</a></div><div class=\"lev3\"><a href=\"#R\"><span class=\"toc-item-num\">3.1.1&nbsp;&nbsp;</span>R</a></div><div class=\"lev3\"><a href=\"#Python\"><span class=\"toc-item-num\">3.1.2&nbsp;&nbsp;</span>Python</a></div><div class=\"lev2\"><a href=\"#Books\"><span class=\"toc-item-num\">3.2&nbsp;&nbsp;</span>Books</a></div><div class=\"lev2\"><a href=\"#Tutorials\"><span class=\"toc-item-num\">3.3&nbsp;&nbsp;</span>Tutorials</a></div><div class=\"lev1\"><a href=\"#Load-data\"><span class=\"toc-item-num\">4&nbsp;&nbsp;</span>Load data</a></div><div class=\"lev2\"><a href=\"#Load-genotype-data-as-pandas-dataframe\"><span class=\"toc-item-num\">4.1&nbsp;&nbsp;</span>Load genotype data as pandas dataframe</a></div><div class=\"lev2\"><a href=\"#Subtask:-Set-SNP-ID-column-as-index\"><span class=\"toc-item-num\">4.2&nbsp;&nbsp;</span>Subtask: Set SNP-ID column as index</a></div><div class=\"lev2\"><a href=\"#Subtask:-Replace-categorical-data-strings-with-numerical-encoding\"><span class=\"toc-item-num\">4.3&nbsp;&nbsp;</span>Subtask: Replace categorical data strings with numerical encoding</a></div><div class=\"lev2\"><a href=\"#Subtask:-Drop-rows-with-unknown-genotypes\"><span class=\"toc-item-num\">4.4&nbsp;&nbsp;</span>Subtask: Drop rows with unknown genotypes</a></div><div class=\"lev2\"><a href=\"#Dowload-categorical-data-from-genenetworks.org\"><span class=\"toc-item-num\">4.5&nbsp;&nbsp;</span>Dowload categorical data from genenetworks.org</a></div><div class=\"lev2\"><a href=\"#Load-phenotype-data-(coat-color)\"><span class=\"toc-item-num\">4.6&nbsp;&nbsp;</span>Load phenotype data (coat color)</a></div><div class=\"lev2\"><a href=\"#Subtask:-remove-rows-with-missing-data\"><span class=\"toc-item-num\">4.7&nbsp;&nbsp;</span>Subtask: remove rows with missing data</a></div><div class=\"lev2\"><a href=\"#Convert-data-to-numeric\"><span class=\"toc-item-num\">4.8&nbsp;&nbsp;</span>Convert data to numeric</a></div><div class=\"lev1\"><a href=\"#Association-tests-between-variant(s)-and-categorical-phenotype\"><span class=\"toc-item-num\">5&nbsp;&nbsp;</span>Association tests between variant(s) and categorical phenotype</a></div><div class=\"lev2\"><a href=\"#Task:-Perfom-association-test-for-a-single-SNP-using-$\\chi^2$-test-and-odds-ratio\"><span class=\"toc-item-num\">5.1&nbsp;&nbsp;</span>Task: Perfom association test for a single SNP using <span class=\"MathJax_Preview\" style=\"color: inherit;\"></span><span class=\"MathJax\" id=\"MathJax-Element-1-Frame\" tabindex=\"0\" data-mathml=\"<math xmlns=&quot;http://www.w3.org/1998/Math/MathML&quot;><msup><mi>&amp;#x03C7;</mi><mn>2</mn></msup></math>\" role=\"presentation\" style=\"position: relative;\"><nobr aria-hidden=\"true\"><span class=\"math\" id=\"MathJax-Span-1\" role=\"math\" style=\"width: 1.176em; display: inline-block;\"><span style=\"display: inline-block; position: relative; width: 0.987em; height: 0px; font-size: 120%;\"><span style=\"position: absolute; clip: rect(1.252em 1000.99em 2.502em -999.998em); top: -2.195em; left: 0.002em;\"><span class=\"mrow\" id=\"MathJax-Span-2\"><span class=\"msubsup\" id=\"MathJax-Span-3\"><span style=\"display: inline-block; position: relative; width: 0.987em; height: 0px;\"><span style=\"position: absolute; clip: rect(3.449em 1000.49em 4.32em -999.998em); top: -4.013em; left: 0.002em;\"><span class=\"mi\" id=\"MathJax-Span-4\" style=\"font-family: STIXMathJax_Main-italic;\">χ<span style=\"display: inline-block; overflow: hidden; height: 1px; width: 0.04em;\"></span></span><span style=\"display: inline-block; width: 0px; height: 4.017em;\"></span></span><span style=\"position: absolute; top: -4.392em; left: 0.57em;\"><span class=\"mn\" id=\"MathJax-Span-5\" style=\"font-size: 70.7%; font-family: STIXMathJax_Main;\">2</span><span style=\"display: inline-block; width: 0px; height: 4.017em;\"></span></span></span></span></span><span style=\"display: inline-block; width: 0px; height: 2.199em;\"></span></span></span><span style=\"display: inline-block; overflow: hidden; vertical-align: -0.27em; border-left: 0px solid; width: 0px; height: 1.366em;\"></span></span></nobr><span class=\"MJX_Assistive_MathML\" role=\"presentation\"><math xmlns=\"http://www.w3.org/1998/Math/MathML\"><msup><mi>χ</mi><mn>2</mn></msup></math></span></span><script type=\"math/tex\" id=\"MathJax-Element-1\">\\chi^2</script> test and odds ratio</a></div><div class=\"lev3\"><a href=\"#Subtask:-Extract-row-of-a-single-SNP-(e.g.-rs6232550)\"><span class=\"toc-item-num\">5.1.1&nbsp;&nbsp;</span>Subtask: Extract row of a single SNP (e.g. rs6232550)</a></div><div class=\"lev3\"><a href=\"#Subtask:-Remove-all-non-strain-genotye-columns\"><span class=\"toc-item-num\">5.1.2&nbsp;&nbsp;</span>Subtask: Remove all non-strain genotye columns</a></div><div class=\"lev3\"><a href=\"#Subtask:-Transpose-row-so-that-it-has-the-same-format-as-the-genotype-data\"><span class=\"toc-item-num\">5.1.3&nbsp;&nbsp;</span>Subtask: Transpose row so that it has the same format as the genotype data</a></div><div class=\"lev3\"><a href=\"#Subtask:-Combine-SNP-data-with-phenotype-data\"><span class=\"toc-item-num\">5.1.4&nbsp;&nbsp;</span>Subtask: Combine SNP data with phenotype data</a></div><div class=\"lev3\"><a href=\"#Subtask:-Check-that-the-merging-worked\"><span class=\"toc-item-num\">5.1.5&nbsp;&nbsp;</span>Subtask: Check that the merging worked</a></div><div class=\"lev3\"><a href=\"#Subtask:-Plot-relationship-between-genotye-and-phenotype\"><span class=\"toc-item-num\">5.1.6&nbsp;&nbsp;</span>Subtask: Plot relationship between genotye and phenotype</a></div><div class=\"lev3\"><a href=\"#Subtask:-Create-contingency-table-for-a-D-dominant-inheritance-model-of-black-coat-color-and-SNP-rs6232550\"><span class=\"toc-item-num\">5.1.7&nbsp;&nbsp;</span>Subtask: Create contingency table for a D-dominant inheritance model of black coat color and SNP rs6232550</a></div><div class=\"lev3\"><a href=\"#Subtask:-Perform-$\\chi^2$-square-test-for-independence-on-the-contingency-table\"><span class=\"toc-item-num\">5.1.8&nbsp;&nbsp;</span>Subtask: Perform <span class=\"MathJax_Preview\" style=\"color: inherit;\"></span><span class=\"MathJax\" id=\"MathJax-Element-2-Frame\" tabindex=\"0\" data-mathml=\"<math xmlns=&quot;http://www.w3.org/1998/Math/MathML&quot;><msup><mi>&amp;#x03C7;</mi><mn>2</mn></msup></math>\" role=\"presentation\" style=\"position: relative;\"><nobr aria-hidden=\"true\"><span class=\"math\" id=\"MathJax-Span-6\" role=\"math\" style=\"width: 1.16em; display: inline-block;\"><span style=\"display: inline-block; position: relative; width: 0.975em; height: 0px; font-size: 120%;\"><span style=\"position: absolute; clip: rect(1.299em 1000.98em 2.595em -999.998em); top: -2.266em; left: 0.002em;\"><span class=\"mrow\" id=\"MathJax-Span-7\"><span class=\"msubsup\" id=\"MathJax-Span-8\"><span style=\"display: inline-block; position: relative; width: 0.975em; height: 0px;\"><span style=\"position: absolute; clip: rect(3.382em 1000.51em 4.308em -999.998em); top: -3.979em; left: 0.002em;\"><span class=\"mi\" id=\"MathJax-Span-9\" style=\"font-family: STIXMathJax_Main-italic;\">χ<span style=\"display: inline-block; overflow: hidden; height: 1px; width: 0.049em;\"></span></span><span style=\"display: inline-block; width: 0px; height: 3.984em;\"></span></span><span style=\"position: absolute; top: -4.35em; left: 0.558em;\"><span class=\"mn\" id=\"MathJax-Span-10\" style=\"font-size: 70.7%; font-family: STIXMathJax_Main;\">2</span><span style=\"display: inline-block; width: 0px; height: 3.984em;\"></span></span></span></span></span><span style=\"display: inline-block; width: 0px; height: 2.271em;\"></span></span></span><span style=\"display: inline-block; overflow: hidden; vertical-align: -0.275em; border-left: 0px solid; width: 0px; height: 1.392em;\"></span></span></nobr><span class=\"MJX_Assistive_MathML\" role=\"presentation\"><math xmlns=\"http://www.w3.org/1998/Math/MathML\"><msup><mi>χ</mi><mn>2</mn></msup></math></span></span><script type=\"math/tex\" id=\"MathJax-Element-2\">\\chi^2</script> square test for independence on the contingency table</a></div><div class=\"lev3\"><a href=\"#Subtask:-Write-function-to-calculate-odds-ratio-from-a-contingency-table\"><span class=\"toc-item-num\">5.1.9&nbsp;&nbsp;</span>Subtask: Write function to calculate odds ratio from a contingency table</a></div><div class=\"lev2\"><a href=\"#Task:-extend-statistical-method-for-a-penetrance-model-in-which-increasing-numbers-of-A-alleles-confer-a-trend-in-risk-(e.g.-additive-or-dominant)\"><span class=\"toc-item-num\">5.2&nbsp;&nbsp;</span>Task: extend statistical method for a penetrance model in which increasing numbers of A alleles confer a trend in risk (e.g. additive or dominant)</a></div><div class=\"lev3\"><a href=\"#Subtask:-Given-the-data-you-have,-could-you-calculate-this-type-of-statistic-for-your-data?\"><span class=\"toc-item-num\">5.2.1&nbsp;&nbsp;</span>Subtask: Given the data you have, could you calculate this type of statistic for your data?</a></div><div class=\"lev2\"><a href=\"#Task:-Refactor-previous-analysis-steps-into-a-function-and-apply-to-all-SNPs\"><span class=\"toc-item-num\">5.3&nbsp;&nbsp;</span>Task: Refactor previous analysis steps into a function and apply to all SNPs</a></div><div class=\"lev3\"><a href=\"#Subtask:-Create-Manhattan-Plot-of--$-\\log_{10}(\\text{P-value})$-vs-chromosome-position\"><span class=\"toc-item-num\">5.3.1&nbsp;&nbsp;</span>Subtask: Create Manhattan Plot of  <span class=\"MathJax_Preview\" style=\"color: inherit;\"></span><span class=\"MathJax\" id=\"MathJax-Element-6-Frame\" tabindex=\"0\" data-mathml=\"<math xmlns=&quot;http://www.w3.org/1998/Math/MathML&quot;><mo>&amp;#x2212;</mo><msub><mi>log</mi><mrow class=&quot;MJX-TeXAtom-ORD&quot;><mn>10</mn></mrow></msub><mo>&amp;#x2061;</mo><mo stretchy=&quot;false&quot;>(</mo><mtext>P-value</mtext><mo stretchy=&quot;false&quot;>)</mo></math>\" role=\"presentation\" style=\"position: relative;\"><nobr aria-hidden=\"true\"><span class=\"math\" id=\"MathJax-Span-26\" role=\"math\" style=\"width: 7.919em; display: inline-block;\"><span style=\"display: inline-block; position: relative; width: 6.576em; height: 0px; font-size: 120%;\"><span style=\"position: absolute; clip: rect(1.669em 1006.53em 2.919em -999.998em); top: -2.498em; left: 0.002em;\"><span class=\"mrow\" id=\"MathJax-Span-27\"><span class=\"mo\" id=\"MathJax-Span-28\" style=\"font-family: STIXMathJax_Main;\">−</span><span class=\"msubsup\" id=\"MathJax-Span-29\" style=\"padding-left: 0.188em;\"><span style=\"display: inline-block; position: relative; width: 2.039em; height: 0px;\"><span style=\"position: absolute; clip: rect(3.15em 1001.25em 4.354em -999.998em); top: -3.979em; left: 0.002em;\"><span class=\"mi\" id=\"MathJax-Span-30\" style=\"font-family: STIXMathJax_Main;\">log</span><span style=\"display: inline-block; width: 0px; height: 3.984em;\"></span></span><span style=\"position: absolute; top: -3.748em; left: 1.299em;\"><span class=\"texatom\" id=\"MathJax-Span-31\"><span class=\"mrow\" id=\"MathJax-Span-32\"><span class=\"mn\" id=\"MathJax-Span-33\" style=\"font-size: 70.7%; font-family: STIXMathJax_Main;\">10</span></span></span><span style=\"display: inline-block; width: 0px; height: 3.984em;\"></span></span></span></span><span class=\"mo\" id=\"MathJax-Span-34\"></span><span class=\"mo\" id=\"MathJax-Span-35\" style=\"font-family: STIXMathJax_Main;\">(</span><span class=\"mtext\" id=\"MathJax-Span-36\" style=\"font-family: STIXMathJax_Main;\">P-value</span><span class=\"mo\" id=\"MathJax-Span-37\" style=\"font-family: STIXMathJax_Main;\">)</span></span><span style=\"display: inline-block; width: 0px; height: 2.502em;\"></span></span></span><span style=\"display: inline-block; overflow: hidden; vertical-align: -0.386em; border-left: 0px solid; width: 0px; height: 1.225em;\"></span></span></nobr><span class=\"MJX_Assistive_MathML\" role=\"presentation\"><math xmlns=\"http://www.w3.org/1998/Math/MathML\"><mo>−</mo><msub><mi>log</mi><mrow class=\"MJX-TeXAtom-ORD\"><mn>10</mn></mrow></msub><mo>⁡</mo><mo stretchy=\"false\">(</mo><mtext>P-value</mtext><mo stretchy=\"false\">)</mo></math></span></span><script type=\"math/tex\" id=\"MathJax-Element-6\">-\\log_{10}(\\text{P-value})</script> vs chromosome position</a></div><div class=\"lev4\"><a href=\"#Bonus-if-you-have-way-too-much-time:-Try-to-make-plot-interactive-(e.g.-add-tooltips-on-hover-using-mpld3)\"><span class=\"toc-item-num\">5.3.1.1&nbsp;&nbsp;</span>Bonus if you have way too much time: Try to make plot interactive (e.g. add tooltips on hover using mpld3)</a></div><div class=\"lev3\"><a href=\"#Subtask:-If-you-have-time,-adapt-function-so-that-it-also-supports-the-non-dominant-inheritance-models\"><span class=\"toc-item-num\">5.3.2&nbsp;&nbsp;</span>Subtask: If you have time, adapt function so that it also supports the non-dominant inheritance models</a></div><div class=\"lev2\"><a href=\"#Task:-Correct-for-Multiple-Hypothesis-Testing\"><span class=\"toc-item-num\">5.4&nbsp;&nbsp;</span>Task: Correct for Multiple Hypothesis Testing</a></div><div class=\"lev3\"><a href=\"#Subtask:-Wrap-your-MHT-correction-in-a-funtion\"><span class=\"toc-item-num\">5.4.1&nbsp;&nbsp;</span>Subtask: Wrap your MHT correction in a funtion</a></div><div class=\"lev3\"><a href=\"#Subtask:-Test-if-the-function-works-as-intended\"><span class=\"toc-item-num\">5.4.2&nbsp;&nbsp;</span>Subtask: Test if the function works as intended</a></div><div class=\"lev2\"><a href=\"#Task:-Identify-candidate-genes-from-identified-loci\"><span class=\"toc-item-num\">5.5&nbsp;&nbsp;</span>Task: Identify candidate genes from identified loci</a></div><div class=\"lev3\"><a href=\"#Subtask:-Identify-genes-in-region-identified-by-significant-loci-(consider-each-chromosome-separately)\"><span class=\"toc-item-num\">5.5.1&nbsp;&nbsp;</span>Subtask: Identify genes in region identified by significant loci (consider each chromosome separately)</a></div><div class=\"lev3\"><a href=\"#Subtask:-Check-if-the-locations-you-found-match-to-what-is-known-from-literature-about-genetics-of-mouse-coat-color\"><span class=\"toc-item-num\">5.5.2&nbsp;&nbsp;</span>Subtask: Check if the locations you found match to what is known from literature about genetics of mouse coat color</a></div><div class=\"lev1\"><a href=\"#Association-tests-between-variant(s)-and-continuous-phenotype¶\"><span class=\"toc-item-num\">6&nbsp;&nbsp;</span>Association tests between variant(s) and continuous phenotype¶</a></div><div class=\"lev2\"><a href=\"#Task:-Import-relevant-functions-from-scipy\"><span class=\"toc-item-num\">6.1&nbsp;&nbsp;</span>Task: Import relevant functions from scipy</a></div><div class=\"lev2\"><a href=\"#Task:-Load-Phenotype-spreadsheets-from-paper-supplement\"><span class=\"toc-item-num\">6.2&nbsp;&nbsp;</span>Task: Load Phenotype spreadsheets from paper supplement</a></div><div class=\"lev2\"><a href=\"#Task:-Implement-Pearson's-r-based-test-for-correlation\"><span class=\"toc-item-num\">6.3&nbsp;&nbsp;</span>Task: Implement Pearson's r-based test for correlation</a></div><div class=\"lev2\"><a href=\"#Task:-Plot-corresponding-Manhattan-Plot-(using-your-previously-defined-function)\"><span class=\"toc-item-num\">6.4&nbsp;&nbsp;</span>Task: Plot corresponding Manhattan Plot (using your previously defined function)</a></div><div class=\"lev2\"><a href=\"#Task:-Correct-for-multiple-hypothesis-testing\"><span class=\"toc-item-num\">6.5&nbsp;&nbsp;</span>Task: Correct for multiple hypothesis testing</a></div><div class=\"lev1\"><a href=\"#Run-association-tests-for-all-phenotypes-in-Biochemistry,-Hematology,-and-Blood-Pressure\"><span class=\"toc-item-num\">7&nbsp;&nbsp;</span>Run association tests for all phenotypes in Biochemistry, Hematology, and Blood Pressure</a></div><div class=\"lev2\"><a href=\"#Task:-Pick-a-testing-method-from-the-previous-tasks-that-is-applicable-for-the--phenotype-variable-type\"><span class=\"toc-item-num\">7.1&nbsp;&nbsp;</span>Task: Pick a testing method from the previous tasks that is applicable for the  phenotype variable type</a></div><div class=\"lev2\"><a href=\"#Task:-Iteratively-apply-functionality-to-all-phenotypes\"><span class=\"toc-item-num\">7.2&nbsp;&nbsp;</span>Task: Iteratively apply functionality to all phenotypes</a></div><div class=\"lev2\"><a href=\"#Task:-Extract-relevant-information-about-effect-size,-significance,-locus,...\"><span class=\"toc-item-num\">7.3&nbsp;&nbsp;</span>Task: Extract relevant information about effect size, significance, locus,...</a></div><div class=\"lev2\"><a href=\"#Task:-Interpret-results\"><span class=\"toc-item-num\">7.4&nbsp;&nbsp;</span>Task: Interpret results</a></div><div class=\"lev2\"><a href=\"#Task:-For-most-interesting-examples,-try-to-identify-possible-candidate-genes\"><span class=\"toc-item-num\">7.5&nbsp;&nbsp;</span>Task: For most interesting examples, try to identify possible candidate genes</a></div><div class=\"lev2\"><a href=\"#Task:-Quickly-compare-your-results-to-literature\"><span class=\"toc-item-num\">7.6&nbsp;&nbsp;</span>Task: Quickly compare your results to literature</a></div><div class=\"lev2\"><a href=\"#What-confounding-factors-may-have-been-ignored-in-the-current-approach?-How-could-they-be-incorporated?\"><span class=\"toc-item-num\">7.7&nbsp;&nbsp;</span>What confounding factors may have been ignored in the current approach? How could they be incorporated?</a></div><div class=\"lev2\"><a href=\"#Bonus-subtask:-Create-a-QQ-plot-of-the-expected-distribution-of-association-test-statistics-(X-axis)-compared-to-the-observed-values-(Y-axis)\"><span class=\"toc-item-num\">7.8&nbsp;&nbsp;</span>Bonus subtask: Create a QQ-plot of the expected distribution of association test statistics (X-axis) compared to the observed values (Y-axis)</a></div>"
   ]
  },
  {
   "cell_type": "markdown",
   "metadata": {},
   "source": [
    "__Set matplotlib magic__"
   ]
  },
  {
   "cell_type": "code",
   "execution_count": 1,
   "metadata": {
    "collapsed": true,
    "run_control": {
     "frozen": false,
     "read_only": false
    }
   },
   "outputs": [],
   "source": [
    "%matplotlib inline"
   ]
  },
  {
   "cell_type": "markdown",
   "metadata": {},
   "source": [
    "__Imports__"
   ]
  },
  {
   "cell_type": "code",
   "execution_count": 2,
   "metadata": {
    "collapsed": true,
    "run_control": {
     "frozen": false,
     "read_only": false
    }
   },
   "outputs": [],
   "source": [
    "import matplotlib.pyplot as plt\n",
    "import seaborn as sns\n",
    "import pandas as pd\n",
    "import numpy as np"
   ]
  },
  {
   "cell_type": "code",
   "execution_count": 161,
   "metadata": {
    "collapsed": true
   },
   "outputs": [],
   "source": [
    "from scipy.stats import chi2\n",
    "from scipy.stats import chi2_contingency\n",
    "from scipy.stats.stats import pearsonr\n",
    "import urllib\n",
    "import gc"
   ]
  },
  {
   "cell_type": "markdown",
   "metadata": {},
   "source": [
    "# Today's topics\n",
    "We will try to find out which phenotypic traits are associated with genetic markers in the BXD mouse population. This will allow us to make statements about the level of heritability of several traits as well as help us identify candidate genes responsible for specific traits.\n",
    "\n",
    "There are several types of studies relevant in this context:\n",
    "\n",
    "* Single gene association studies\n",
    "* Genome wide association studies\n",
    "* Phenotype wide association studies"
   ]
  },
  {
   "cell_type": "markdown",
   "metadata": {},
   "source": [
    "# GWAS background"
   ]
  },
  {
   "cell_type": "markdown",
   "metadata": {},
   "source": [
    "http://www.ncbi.nlm.nih.gov/pmc/articles/PMC2736153/ contains information about how to use genenetwork.org to find coat color phenotype and correlate that to expression levels.\n",
    "\n",
    "There is a multitude of papers and review papers out there that describe the basic and more advanced statistical approaches to GWAS studies. The following two can be considered a good entry point to the subject.\n",
    "* Clarke, G. M. et al. __[Basic statistical analysis in genetic case-control studies](http://www.nature.com/nprot/journal/v6/n2/full/nprot.2010.182.html)__. Nature Protocols 6, 121–133 (2011).\n",
    "* McCarthy, M. I. et al. __[Genome-wide association studies for complex traits: consensus, uncertainty and challenges](http://www.nature.com/nrg/journal/v9/n5/full/nrg2344.html)__. Nature Reviews Genetics 9, 356–369 (2008)."
   ]
  },
  {
   "cell_type": "markdown",
   "metadata": {},
   "source": [
    "# Useful Resources"
   ]
  },
  {
   "cell_type": "markdown",
   "metadata": {},
   "source": [
    "## Packages\n",
    "\n",
    "### R\n",
    "* [Matrix eQTL](http://www.bios.unc.edu/research/genomic_software/Matrix_eQTL/)\n",
    "* [GWAS Tools](http://bioconductor.org/packages/release/bioc/html/GWASTools.html)\n",
    "* [GenABEL](http://www.genabel.org/)\n",
    "\n",
    "\n",
    "### Python\n",
    "* [llmlite](http://kbroman.org/lmmlite/assets/compare2pylmm.html)\n",
    "* [pylmm](http://genetics.cs.ucla.edu/pylmm/)\n",
    "* [fstlmm](http://lomereiter.github.io/2015/02/16/lmm_cov.html)\n",
    "* [pyGWAS](https://github.com/timeu/PyGWAS)\n",
    "* [krux](https://github.com/tmichoel/krux/blob/master/python/kruX.py)"
   ]
  },
  {
   "cell_type": "markdown",
   "metadata": {},
   "source": [
    "## Books\n",
    "* [James, Witten, Hastie, Tibshirani, An Introduction to Statistical Learning, Springer Texts, 2013](http://www-bcf.usc.edu/~gareth/ISL/)      \n",
    "* [MacKay, Information Theory, Inference, and Learning Algorithms, Cambridge University Press, 2005](http://www.inference.phy.cam.ac.uk/itila/book.html)\n",
    "\n",
    "\n",
    "## Tutorials\n",
    "* [Logistic regression](http://blog.yhat.com/posts/logistic-regression-and-python.html)   \n",
    "* [Linear regression](http://www.dataschool.io/linear-regression-in-python/)"
   ]
  },
  {
   "cell_type": "markdown",
   "metadata": {},
   "source": [
    "We are again using the genotype and phenotype data and need to load them like in the previously notebook:"
   ]
  },
  {
   "cell_type": "code",
   "execution_count": 45,
   "metadata": {
    "collapsed": false,
    "run_control": {
     "frozen": false,
     "read_only": false
    }
   },
   "outputs": [],
   "source": [
    "# Load data\n",
    "genotype_df = pd.read_table(\"data/genotype.txt\", comment = '@')\n",
    "phenotype_df = pd.read_excel(\"data/phenotype.xlsx\", sheetname=None)"
   ]
  },
  {
   "cell_type": "markdown",
   "metadata": {},
   "source": [
    "Before we can work with the data we have to tidy it up a bit. This includes filtering rows with missing values, making sure that numeric columns are indeed of a numeric data type in the data frame, ..."
   ]
  },
  {
   "cell_type": "code",
   "execution_count": 47,
   "metadata": {
    "collapsed": false
   },
   "outputs": [],
   "source": [
    "# Deal with missing values\n",
    "genotype_df.replace(\"x\", np.nan, inplace=True)\n",
    "for key in phenotype_df:\n",
    "    phenotype_df[key].replace(\"x\", np.nan, inplace=True)\n",
    "    \n",
    "# Set SNP-ID column as index\n",
    "genotype_df.set_index(\"Locus\", inplace=True)\n",
    "\n",
    "# Replace categorical data strings with numerical encoding using the mapping {'B': 0,'D': 2, 'H': 1, 'U': np.nan}\n",
    "mapping = {'B': 0,'D': 2, 'H': 1, 'U': np.nan}\n",
    "genotype_df_mapped = genotype_df.replace(mapping)\n",
    "\n",
    "# Drop rows with unknown genotypes\n",
    "genotype_df_mapped.dropna(inplace=True)"
   ]
  },
  {
   "cell_type": "markdown",
   "metadata": {},
   "source": [
    "In addition to that we need to load the coat color data of BXD mice as manually downloaded from http://gn2.genenetwork.org/ with the RecordID/11280. The mapping is the following: \n",
    "\n",
    "|color  | value  |\n",
    "|-------|--------|\n",
    "| black |  4     |\n",
    "| grey  |  3     |\n",
    "| brown |  2     |\n",
    "| dilute|  1     |"
   ]
  },
  {
   "cell_type": "code",
   "execution_count": 51,
   "metadata": {
    "collapsed": false,
    "run_control": {
     "frozen": false,
     "read_only": false
    }
   },
   "outputs": [],
   "source": [
    "# Load the coat color data\n",
    "coat_color_df = pd.read_csv(\"data/sample_data.csv\", header=None, na_values=\"x\")\n",
    "\n",
    "# Set index to strain names\n",
    "coat_color_df.set_index(0, inplace=True)\n",
    "\n",
    "# Convert data to numeric\n",
    "coat_color_df.apply(lambda x: pd.to_numeric(x, errors='ignore'));"
   ]
  },
  {
   "cell_type": "markdown",
   "metadata": {},
   "source": [
    "# Association tests between variant(s) and categorical phenotype\n",
    "We will first start testing SNPs for their association with an easily characterizable phenotype: coat color. As you could see in the slides, BXD mice come in different colors (black, brown, dilute) and as you know, hair color is heritable. Thus we will try to find candidate genes that are involved in coat color determination in the mouse population."
   ]
  },
  {
   "cell_type": "code",
   "execution_count": 56,
   "metadata": {
    "collapsed": false
   },
   "outputs": [
    {
     "data": {
      "image/png": "[encoded data removed]",
      "text/plain": [
       "<matplotlib.figure.Figure at 0x1060a390>"
      ]
     },
     "metadata": {},
     "output_type": "display_data"
    }
   ],
   "source": [
    "# Perfom association test for a single SNP using test and odds ratio\n",
    "\n",
    "# Extract row of a single SNP (e.g. rs6232550)\n",
    "singleSNP = genotype_df_mapped.loc[\"rs6232550\"]\n",
    "\n",
    "# Remove all non-strain genotype columns\n",
    "# get the columns with \"BXD\" header\n",
    "Col = [i for i in genotype_df_mapped if \"BXD\" in i]\n",
    "singleSNP = singleSNP[Col]\n",
    "\n",
    "# Transpose row so that it has the same format as the genotype data\n",
    "singleSNP_t = singleSNP.to_frame().T\n",
    "\n",
    "# Combine SNP data with phenotype data\n",
    "joined_SNP = coat_color_df.join(singleSNP)\n",
    "joined_SNP.dropna(inplace=True)\n",
    "joined_SNP.columns=[\"coat color\", \"rs6232550\"]\n",
    "\n",
    "# Plot relationship between genotye and phenotype\n",
    "joined_SNP.plot(kind='scatter', x='coat color', y='rs6232550');"
   ]
  },
  {
   "cell_type": "code",
   "execution_count": 58,
   "metadata": {
    "collapsed": false
   },
   "outputs": [
    {
     "name": "stdout",
     "output_type": "stream",
     "text": [
      "           D/m, D/D  m/m  total\n",
      "Black             7   11     18\n",
      "Not Black        38   32     70\n",
      "Total            45   43     88\n"
     ]
    }
   ],
   "source": [
    "# Create contingency table for a D-dominant inheritance model of black coat color and SNP rs6232550\n",
    "\n",
    "# black: 4\n",
    "# D: 2\n",
    "# M: 0\n",
    "\n",
    "not_black_mother = 0\n",
    "not_black_father = 0\n",
    "black_mother = 0\n",
    "black_father = 0\n",
    "\n",
    "for row in joined_SNP.itertuples():\n",
    "    \n",
    "    # color is not black:\n",
    "    if(int(row[1]) is not 4):\n",
    "        \n",
    "        # mother \n",
    "        if(int(row[2]) is 0):\n",
    "            not_black_mother += 1\n",
    "            \n",
    "        # father\n",
    "        elif(int(row[2]) is 2):\n",
    "            not_black_father += 1\n",
    "    else:\n",
    "        # mother \n",
    "        if(int(row[2]) is 0):\n",
    "            black_mother += 1\n",
    "            \n",
    "        # father\n",
    "        elif(int(row[2]) is 2):\n",
    "            black_father += 1\n",
    "\n",
    "            \n",
    "d = {'m/m' : pd.Series([black_mother, not_black_mother, black_mother+not_black_mother], \n",
    "                       index=['Black', 'Not Black', 'Total']),\n",
    "     'D/m, D/D' : pd.Series([black_father, not_black_father, black_father+not_black_father], \n",
    "                            index=['Black', 'Not Black', 'Total']),\n",
    "    'total' : pd.Series([black_father+black_mother, not_black_father+not_black_mother, \n",
    "                         black_mother+not_black_mother+black_father+not_black_father], \n",
    "                            index=['Black', 'Not Black', 'Total'])}    \n",
    "\n",
    "contigency_table = pd.DataFrame(d)\n",
    "print contigency_table"
   ]
  },
  {
   "cell_type": "code",
   "execution_count": 65,
   "metadata": {
    "collapsed": false
   },
   "outputs": [
    {
     "name": "stdout",
     "output_type": "stream",
     "text": [
      "The p value for the given contigency table is 0.851388354704.\n",
      "The odds ratio value for the given contigency table is 0.535885167464.\n"
     ]
    }
   ],
   "source": [
    "# Perform square test for independence on the contingency table \n",
    "chi3, p, dof, ex = chi2_contingency(contigency_table)\n",
    "\n",
    "p = 1-chi2.cdf(chi3, dof)\n",
    "print(\"The p value for the given contigency table is \" + str(p) + \".\")\n",
    "\n",
    "# Write function to calculate odds ratio from a contingency table\n",
    "def calculate_odds_ratio(cont_table):\n",
    "    \"\"\" Calculates the odds ratio based on the contigency table.\n",
    "    \n",
    "        cont_table: the contingency table\n",
    "    \"\"\"\n",
    "    \n",
    "    c_table = cont_table.as_matrix()\n",
    "    c_table = c_table.astype(float)\n",
    "\n",
    "    return (c_table[0,0]/c_table[1,0])/(c_table[0,1]/c_table[1,1])\n",
    "print(\"The odds ratio value for the given contigency table is \" + str(calculate_odds_ratio(contigency_table)) + \".\")"
   ]
  },
  {
   "cell_type": "markdown",
   "metadata": {},
   "source": [
    "## Cochran-Armitage trend test"
   ]
  },
  {
   "cell_type": "markdown",
   "metadata": {},
   "source": [
    "While we can model most of the penetrance models described in the lecture in a 2x2 contingency table and thus perform a $\\chi^2$ test with one degree of freedom, it may sometimes be useful to consider the full complexity of a genotype contigency table considering all three possible genotypes instead of just two (even though the latter has larger statistical power). Apart from a $\\chi^2$ test with two degrees of freedom, the Cochran–Armitage trend test is commonly used in genetic association tests as this has often larger statistical power. In this case, if the exact model of penetrance is not known, an additive approach is often used. Unfortunately this test wouldn't make sense considering our data. We need to have at least 3 different categories (we have maternal, paternal and heterozygous) which should have reasonable sample sizes. Unfortunately we have very few heterozygous datapoints, so this test is not applicable to this data.   \n",
    "\n",
    "Instead we're going to run a $\\chi^2$ test:"
   ]
  },
  {
   "cell_type": "code",
   "execution_count": 117,
   "metadata": {
    "collapsed": true
   },
   "outputs": [],
   "source": [
    "def calculate_odds_ratio(cont_table):\n",
    "    \"\"\" Calculates the odds ratio based on the contigency table.\n",
    "    \n",
    "        cont_table: the contigency table \n",
    "        @return: odds ratio for the given contigency table\n",
    "    \"\"\"\n",
    "    \n",
    "    # convert dataframe to matrix\n",
    "    c_table = cont_table.as_matrix()\n",
    "\n",
    "    # change type to float\n",
    "    c_table = c_table.astype(float)\n",
    "\n",
    "    return (c_table[0,0]/c_table[1,0])/(c_table[0,1]/c_table[1,1])"
   ]
  },
  {
   "cell_type": "code",
   "execution_count": 118,
   "metadata": {
    "collapsed": false
   },
   "outputs": [],
   "source": [
    "def create_contigency_table(joined_SNP_, color_=\"black\"):\n",
    "    \"\"\" creates the contigency table of the color color \n",
    "\n",
    "        joined_SNP_: dataframe containing the joined SNPs\n",
    "        color: color to create the contigency table\n",
    "    \n",
    "    \"\"\"\n",
    "\n",
    "    # dictionary to map the colors to int\n",
    "    color_dict = {\"black\" : 4, \"grey\" : 3, \"brown\": 2, \"dilute\": 1}\n",
    "    \n",
    "    # get the int for the given color\n",
    "    int_color = color_dict[color_]\n",
    "\n",
    "    # variables to count\n",
    "    not_color_mother = 0\n",
    "    not_color_father = 0\n",
    "    color_mother = 0\n",
    "    color_father = 0\n",
    "\n",
    "    # iterate over each row in dataframe\n",
    "    for row in joined_SNP_.itertuples():\n",
    "    \n",
    "        # color is not color:\n",
    "        if(int(row[1]) is not int_color):\n",
    "        \n",
    "            # mother \n",
    "            if(int(row[2]) is 0):\n",
    "                not_color_mother += 1\n",
    "            \n",
    "            # father\n",
    "            elif(int(row[2]) is 2):\n",
    "                not_color_father += 1\n",
    "        else:\n",
    "            # mother \n",
    "            if(int(row[2]) is 0):\n",
    "                color_mother += 1\n",
    "            \n",
    "            # father\n",
    "            elif(int(row[2]) is 2):\n",
    "                color_father += 1\n",
    "    \n",
    "    # create the dataframe with the counts\n",
    "    d = {'m/m' : pd.Series([color_mother, not_color_mother, color_mother+not_color_mother], \n",
    "                       index=['Color', 'Not Color', 'Total']),\n",
    "         'D/m, D/D' : pd.Series([color_father, not_color_father, color_father+not_color_father], \n",
    "                            index=['Color', 'Not Color', 'Total']),\n",
    "         'total' : pd.Series([color_father+color_mother, not_color_father+not_color_mother, \n",
    "                         color_mother+not_color_mother+color_father+not_color_father], \n",
    "                            index=['Color', 'Not Color', 'Total'])}    \n",
    "\n",
    "    return pd.DataFrame(d)    "
   ]
  },
  {
   "cell_type": "code",
   "execution_count": 119,
   "metadata": {
    "collapsed": false,
    "run_control": {
     "frozen": false,
     "read_only": false
    }
   },
   "outputs": [],
   "source": [
    "def association_test(genotype_df_1, phenotyp_df_1, strainheader=\"BXD\", color__=\"black\", verbose=False):\n",
    "    \"\"\" runs a association test on the genome dataframe and the color dataframe using strainheader \n",
    "    strainheader and color color__\n",
    "    \n",
    "        genotype_df_1: the genometype dataframe\n",
    "        phenotyp_df_1: the phenotype dataframe\n",
    "        strainheader: the strainheader to use\n",
    "        color__: the color to use    \n",
    "        verbose: boolean decides whether there is an output\n",
    "    \"\"\" \n",
    "    \n",
    "    \n",
    "    list_of_genes = []\n",
    "    list_of_p_values = []\n",
    "    list_of_chromosomes = []\n",
    "    \n",
    "    \n",
    "    # get all SNPs in the dataframe\n",
    "    for a in list(genotype_df_1.index):\n",
    "        \n",
    "        # get the chromosome\n",
    "        single_SNP_ = genotype_df_1.loc[a]\n",
    "        chrom = single_SNP_.loc[\"Chr\"]\n",
    "        \n",
    "        ### remove all non-strain genotype columns:\n",
    "        \n",
    "        # get the columns with \"BXD\" header\n",
    "        cols = [i for i in genotype_df_1 if strainheader in i]\n",
    "        single_SNP_ = single_SNP_[cols]\n",
    "\n",
    "        # combine snp data with phenotype data\n",
    "        joined_SNP_ = phenotyp_df_1.join(single_SNP_)\n",
    "        joined_SNP_.dropna(inplace=True)\n",
    "\n",
    "        ### create contingency table for color x\n",
    "        contingency_table_ = create_contigency_table(joined_SNP_, color__)\n",
    "       \n",
    "        ### perform chi^2 test \n",
    "        chi3, p, dof, ex = chi2_contingency(contingency_table_)\n",
    "        \n",
    "        ### calculate odds ratio\n",
    "        odds = calculate_odds_ratio(contingency_table_)\n",
    "       \n",
    "        # output..\n",
    "        if verbose:\n",
    "            print(\"Analyzing \" + str(a) + \", using strainheader = \" + strainheader + \" and color = \" + color__ + \".\")\n",
    "            print(contigency_table)\n",
    "            print(\"The p-value for \" + str(a) + \" is \" + str(p) + \".\") \n",
    "            print(\"The odds ratio based on the contigency table is \" + str(odds) + \".\")\n",
    "            print(\"\")\n",
    "        \n",
    "        \n",
    "        list_of_genes.append(str(a))\n",
    "        list_of_p_values.append(p)\n",
    "        \n",
    "        # deal with chromosome 'X'\n",
    "        try:\n",
    "            temp = int(chrom)\n",
    "            list_of_chromosomes.append('ch-%i' % temp)\n",
    "        except:\n",
    "            list_of_chromosomes.append('ch-%i' % 20)\n",
    "        \n",
    "    \n",
    "    result_df = pd.DataFrame({'gene' : list_of_genes,\n",
    "                           'pvalue' : list_of_p_values,\n",
    "                           'chromosome' : list_of_chromosomes})\n",
    "    \n",
    "    \n",
    "    return result_df\n",
    "        "
   ]
  },
  {
   "cell_type": "code",
   "execution_count": 120,
   "metadata": {
    "collapsed": false
   },
   "outputs": [],
   "source": [
    "resulting_df = association_test(genotype_df_mapped,coat_color_df)"
   ]
  },
  {
   "cell_type": "markdown",
   "metadata": {},
   "source": [
    "### Manhattan Plot of  $-\\log_{10}(\\text{P-value})$ vs chromosome position \n",
    "A Manhattan plot, named after its resemblance to the skyline of Manhattan, is commonly used to plot the p-value obtained for individual association tests for each SNP compared to the SNP's position on the genome as shown in the example below.\n",
    "\n",
    "Technically, a Manhattan plot is a scatter plot of genome position (for each chromosome) vs the negative logarithm of the p-value.\n",
    "\n",
    "<img src=\"Manhattan.png\"></img>"
   ]
  },
  {
   "cell_type": "code",
   "execution_count": 124,
   "metadata": {
    "collapsed": false
   },
   "outputs": [
    {
     "data": {
      "image/png": "[encoded data removed]",
      "text/plain": [
       "<matplotlib.figure.Figure at 0xd1d6dd8>"
      ]
     },
     "metadata": {},
     "output_type": "display_data"
    }
   ],
   "source": [
    "# Create Manhattan Plot of vs chromosome position\n",
    "\n",
    "# -log_10(pvalue)\n",
    "resulting_df['minuslog10pvalue'] = -np.log10(resulting_df.pvalue)\n",
    "resulting_df.chromosome = resulting_df.chromosome.astype('category')\n",
    "resulting_df.chromosome = resulting_df.chromosome.cat.set_categories(['ch-%i' % i for i in range(1,21)], ordered=True)\n",
    "resulting_df = resulting_df.sort_values('chromosome')\n",
    "\n",
    "# How to plot gene vs. -log10(pvalue) and colour it by chromosome?\n",
    "resulting_df['ind'] = range(len(resulting_df))\n",
    "resulting_df_grouped = resulting_df.groupby(('chromosome'))\n",
    "\n",
    "\n",
    "fig = plt.figure(figsize=(16,9))\n",
    "ax = fig.add_subplot(111)\n",
    "colors = ['red','green','blue', 'yellow']\n",
    "x_labels = []\n",
    "x_labels_pos = []\n",
    "for num, (name, group) in enumerate(resulting_df_grouped):\n",
    "    group.plot(kind='scatter', x='ind', y='minuslog10pvalue',color=colors[num % len(colors)], ax=ax)\n",
    "    x_labels.append(name)\n",
    "    x_labels_pos.append((group['ind'].iloc[-1] - (group['ind'].iloc[-1] - group['ind'].iloc[0])/2))\n",
    "ax.set_xticks(x_labels_pos)\n",
    "ax.set_xticklabels(x_labels)\n",
    "ax.set_xlim([0, len(resulting_df)]);\n",
    "\n"
   ]
  },
  {
   "cell_type": "markdown",
   "metadata": {},
   "source": [
    "## Multiple Hypothesis Testing correction"
   ]
  },
  {
   "cell_type": "markdown",
   "metadata": {},
   "source": [
    "Since we have a pretty large dataset, some of the significant results found by the $\\chi^2$ test are significant by chance. To deal with this one uses usually multiple hypothesis testing, where an adjusted p-value is computed. There are several methods to correct the p-value which can differ significantly in terms of conservatism. We are going to use bonferroni and sidak correction to correct the results of our data:"
   ]
  },
  {
   "cell_type": "code",
   "execution_count": 201,
   "metadata": {
    "collapsed": false,
    "run_control": {
     "frozen": false,
     "read_only": false
    }
   },
   "outputs": [],
   "source": [
    "def MHT_correction(resulting_df_2, alpha=0.1, method='bonferroni'):\n",
    "    \"\"\" returns the significant genes:\n",
    "    \n",
    "        resulting_df: the df to analyze\n",
    "        alpha: \n",
    "        methode: the methode  \n",
    "        \n",
    "    \"\"\"\n",
    "    \n",
    "    n = resulting_df_2.shape[0]\n",
    "    \n",
    "    if method is 'bonferroni':\n",
    "        adjusted_p_value = alpha / float(n)\n",
    "    elif method is 'sidak':\n",
    "        adjusted_p_value = 1 - ((1-alpha)**(float(1)/n))\n",
    "        \n",
    "    print(\"Adjusted p-value: \" + str(adjusted_p_value))    \n",
    "        \n",
    "    return resulting_df_2[resulting_df_2[\"pvalue\"] < adjusted_p_value]"
   ]
  },
  {
   "cell_type": "code",
   "execution_count": 126,
   "metadata": {
    "collapsed": false,
    "run_control": {
     "frozen": false,
     "read_only": false
    }
   },
   "outputs": [],
   "source": [
    "# do MHT correction on our data\n",
    "interesting_genes = MHT_correction(resulting_df, alpha=0.1, method='bonferroni')"
   ]
  },
  {
   "cell_type": "markdown",
   "metadata": {},
   "source": [
    "## Identify candidate genes from identified loci"
   ]
  },
  {
   "cell_type": "markdown",
   "metadata": {},
   "source": [
    "### Identify genes in region identified by significant loci (consider each chromosome separately)"
   ]
  },
  {
   "cell_type": "markdown",
   "metadata": {},
   "source": [
    "What we identified so far a so called __quantitative trait loci__, meaning that this locus on the genome is associated with a quantitative trait. This does not mean there is directly a causal relationship between the markers identified in the association study and the phenotype. It is, however, a pointer towards the region of the genome that may be relevant for the variability in the measured trait. The genes encompassed in this region then need to be analysed further to identify viable mechanistic candidates.\n",
    "\n",
    "\n",
    "\n",
    "A good starting point for this fine grained analysis would be to look up the genes directly linked to the SNP in [dbSNP]() (e.g, http://www.ncbi.nlm.nih.gov/projects/SNP/snp_ref.cgi?rs=rs3674482).\n",
    "\n",
    "Most likely the high ranking SNPs will not map directly to the causal gene, but be rather a marker for another variant in a gene in __linkage disequilibrium__ with this this SNP. We thus need to extend the search and look at other genes in the vicinity of the high ranking SNPs.\n",
    "\n",
    "You may thus want to move on the [Biomart](http://www.ensembl.org/biomart/martview/fb0e89930dcbbdb8075ca52f8b196719) to query for genes in a genomic region.\n",
    "\n",
    "A third resource you may want to check out is the [UCSC Genome Browser](http://genome.ucsc.edu/) for visual explorations as well as the [UCSC Table Browser](http://genome.ucsc.edu/cgi-bin/hgTables?hgsid=511555905_oFRLEcH1IWO1FdKyzynrsBCRMk7w) to obtain genes in a genomic region. The identifiers of proteins in the [uniprot](http://www.uniprot.org/) database are listed in the resulting table. Uniprot then can provide useful annotations of the proteins found in the search frame.\n",
    "\n",
    "Programmatic access is possible for all the services above using their REST interfaces:  \n",
    "[UCSC](http://genomewiki.ucsc.edu/index.php/Programmatic_access_to_the_Genome_Browser)     \n",
    "[Biomart](http://www.ensembl.org/info/data/biomart/biomart_restful.html)     \n",
    "[Uniprot](http://www.uniprot.org/help/programmatic_access)     \n",
    "\n",
    "There have been multiple attempts to make querying these services using python directly. The most important packages are:     \n",
    "[bioservices](https://pythonhosted.org/bioservices/)      \n",
    "[biomart-python](https://github.com/sebriois/biomart)      \n",
    "\n",
    "An example on how to query uniprot using bioservices can be found in [this notebook](http://nbviewer.jupyter.org/url/pythonhosted.org/bioservices/\\_downloads/UniProt.ipynb).\n",
    "\n",
    "If you decide to search for the genes of interest based on the genome location, make sure to select the correct reference genome. The reference used for the BXD genotyping is described in the genotype description on [genenetwork.org](http://www.genenetwork.org/dbdoc/BXDGeno.html)"
   ]
  },
  {
   "cell_type": "code",
   "execution_count": 76,
   "metadata": {
    "collapsed": false
   },
   "outputs": [
    {
     "name": "stderr",
     "output_type": "stream",
     "text": [
      "Ein Unterverzeichnis oder eine Datei mit dem Namen \"results\" existiert bereits.\n"
     ]
    }
   ],
   "source": [
    "!mkdir results"
   ]
  },
  {
   "cell_type": "code",
   "execution_count": 78,
   "metadata": {
    "collapsed": true
   },
   "outputs": [],
   "source": [
    "def get_megabase_range_for_locus(locus, gene_dataframe, range_=1000):\n",
    "    ''' This function returns the range for the locus in which other genes should be searched. \n",
    "    \n",
    "        locus: the locus \n",
    "        gene_dataframe: the dataframe containing the genes\n",
    "        range_: the range which other genes should be searched.  \n",
    "    '''\n",
    "    \n",
    "    # 1 megabase = 1000000 bases\n",
    "    megabase = int(gene_dataframe.loc[locus].loc[\"Mb\"]*1000000)\n",
    "    \n",
    "    # return range tuple\n",
    "    return (megabase-range_, megabase+range_)\n",
    "    "
   ]
  },
  {
   "cell_type": "code",
   "execution_count": 79,
   "metadata": {
    "collapsed": false
   },
   "outputs": [],
   "source": [
    "def get_URL(chromosome, base_range):\n",
    "    ''' This function creates the query URL for the chromosome and the given range of the bases. \n",
    "    \n",
    "        chromosome: the chromosome \n",
    "        base_range: the range e.g. (500000, 600000)\n",
    "    \n",
    "    '''\n",
    "\n",
    "    return 'http://www.ensembl.org/biomart/martservice?query=<?xml version=\"1.0\" encoding=\"UTF-8\"?><!DOCTYPE Query><Query  virtualSchemaName = \"default\" formatter = \"TSV\" header = \"1\" uniqueRows = \"1\" count = \"\" datasetConfigVersion = \"0.6\" ><Dataset name = \"mmusculus_gene_ensembl\" interface = \"default\" ><Filter name = \"chromosome_name\" value = \"' \\\n",
    "+ str(chromosome) + '\"/><Filter name = \"end\" value = \"' + str(base_range[1]) + '\"/><Filter name = \"start\" value = \"' \\\n",
    "+ str(base_range[0]) + '\"/><Attribute name = \"ensembl_gene_id\" /><Attribute name = \"ensembl_transcript_id\" /><Attribute name = \"mgi_symbol\" /><Attribute name = \"mgi_id\" /><Attribute name = \"phenotype_description\" /></Dataset></Query>'\n"
   ]
  },
  {
   "cell_type": "code",
   "execution_count": 80,
   "metadata": {
    "collapsed": false
   },
   "outputs": [],
   "source": [
    "def identify_candidate_genes(df_of_interesting_genes, gene_df, base_range__=1000):\n",
    "    \"\"\" This function identifies candidate genes (=neighbors of interesting genes) based on the dataframe \n",
    "    of interesting genes.\n",
    "    \n",
    "        list_of_interesting_genes: list of strings containing the locus of the interesting genes\n",
    "        gene_df: dataframe containing the genes\n",
    "        base_range__: range in which other genes should be searched\n",
    "    \n",
    "    \"\"\"\n",
    "    \n",
    "    print(\"Getting possible candidate genes from \" + str(len(df_of_interesting_genes)) + \" interesting genes.\") \n",
    "    \n",
    "    # list storing the dataframes for each chromosome\n",
    "    list_of_df = []\n",
    "    \n",
    "    # iterate over all chromosomes\n",
    "    for chromosome in df_of_interesting_genes.groupby(by=\"chromosome\"):\n",
    "    \n",
    "        temp123 = pd.DataFrame()\n",
    "    \n",
    "        # iterate over all found genes located in the current chromosome\n",
    "        for gene in chromosome[1].values:\n",
    "            \n",
    "            # get the correct column from the numpy array          \n",
    "            if type(gene[1]) is str:\n",
    "                base__range = get_megabase_range_for_locus(gene[1], gene_df, base_range__)\n",
    "                # get the query URL\n",
    "                query_url = get_URL(gene_df.loc[gene[1]].loc[\"Chr\"], base__range)\n",
    "                \n",
    "            else: \n",
    "                base__range = get_megabase_range_for_locus(gene[2], gene_df, base_range__)\n",
    "                # get the query URL\n",
    "                query_url = get_URL(gene_df.loc[gene[2]].loc[\"Chr\"], base__range)\n",
    "        \n",
    "            # retrieve the results from BioMart and save them\n",
    "            urllib.urlretrieve(query_url, \"results/temp.txt\")            \n",
    "            \n",
    "            temp_df_ = pd.read_csv(\"results/temp.txt\", sep=\"\\t\")\n",
    "                        \n",
    "            if not temp_df_.empty:\n",
    "                temp123 = temp123.append(temp_df_, ignore_index=True)\n",
    "            \n",
    "            \n",
    "        list_of_df.append(temp123)    \n",
    "  \n",
    "    print(\"Done.\")\n",
    "    \n",
    "    return list_of_df\n",
    "    \n",
    "    "
   ]
  },
  {
   "cell_type": "code",
   "execution_count": 81,
   "metadata": {
    "collapsed": false
   },
   "outputs": [
    {
     "name": "stdout",
     "output_type": "stream",
     "text": [
      "Getting possible candidate genes from 20 interesting genes.\n",
      "Done.\n"
     ]
    }
   ],
   "source": [
    "# list stores one dataframe for each chromosome\n",
    "# list_of_interesting_genes_by_chromosome[3]: dataframe for chromosome 4\n",
    "\n",
    "list_of_interesting_genes_by_chromosome = \\\n",
    "identify_candidate_genes(interesting_genes, genotype_df, base_range__=100000)"
   ]
  },
  {
   "cell_type": "markdown",
   "metadata": {},
   "source": [
    "A manual inspection of the resulting list reveals, that there are only interesting genes correlated with chromosome 4. We're going to analyze those further and try to inspect genes which are related to coat color:"
   ]
  },
  {
   "cell_type": "code",
   "execution_count": 157,
   "metadata": {
    "collapsed": false,
    "run_control": {
     "frozen": false,
     "read_only": false
    }
   },
   "outputs": [
    {
     "name": "stdout",
     "output_type": "stream",
     "text": [
      "        Ensembl Gene ID Ensembl Transcript ID MGI symbol     MGI ID  \\\n",
      "822  ENSMUSG00000005994    ENSMUST00000102831      Tyrp1  MGI:98881   \n",
      "848  ENSMUSG00000005994    ENSMUST00000133932      Tyrp1  MGI:98881   \n",
      "874  ENSMUSG00000005994    ENSMUST00000133655      Tyrp1  MGI:98881   \n",
      "900  ENSMUSG00000005994    ENSMUST00000006151      Tyrp1  MGI:98881   \n",
      "\n",
      "    Phenotype description  \n",
      "822    diluted coat color  \n",
      "848    diluted coat color  \n",
      "874    diluted coat color  \n",
      "900    diluted coat color  \n"
     ]
    }
   ],
   "source": [
    "chromosome_4 = list_of_interesting_genes_by_chromosome[3].dropna()\n",
    "print(chromosome_4[chromosome_4[\"Phenotype description\"].str.contains(\"color\")])"
   ]
  },
  {
   "cell_type": "markdown",
   "metadata": {},
   "source": [
    "Our identified gene is ENSMUSG00000005994 which is indeed related to mouse coat color (http://www.ensembl.org/Mus_musculus/Gene/Phenotype?db=core;g=ENSMUSG00000005994;r=4:80834123-80851719). "
   ]
  },
  {
   "cell_type": "markdown",
   "metadata": {},
   "source": [
    "# Association tests between variant(s) and continuous phenotype¶ \n",
    "All of the phenotype data provided in the multi-omics publication is actually not categorical. We thus have to adapt our approach to use continuous data. In the lecture you learned that instead of $\\chi^2$ test or logistic regression, linear regression models or correlation tests could be used. "
   ]
  },
  {
   "cell_type": "code",
   "execution_count": 159,
   "metadata": {
    "collapsed": false,
    "run_control": {
     "frozen": false,
     "read_only": false
    }
   },
   "outputs": [],
   "source": [
    "phenotype_df = pd.read_excel(\"data/phenotype.xlsx\", sheetname=None, na_values='x')"
   ]
  },
  {
   "cell_type": "code",
   "execution_count": 160,
   "metadata": {
    "collapsed": true
   },
   "outputs": [],
   "source": [
    "def find_comparable_measurements(a_phenotype_df, diet1='HFD', diet2='CD', verbose=False):\n",
    "    \"\"\" Find measurements to compare(columns which include the diet name)\n",
    "    \n",
    "        a_phenotype_df: pandas dataframe to analyze\n",
    "        diet1: identifier of diet1\n",
    "        diet2: identifier of diet2\n",
    "        verbose: prints one list containing the measurements to the console\n",
    "    \"\"\"\n",
    "    \n",
    "    # iterate over each column names and add the current column name to the list if diet1/diet2 is in the column name\n",
    "    diet1_measurement = [a for a in list(a_phenotype_df.columns.values) if diet1 in a]\n",
    "    diet2_measurement = [a for a in list(a_phenotype_df.columns.values) if diet2 in a]\n",
    "    \n",
    "    if verbose:\n",
    "        print(diet1_measurement)\n",
    "    \n",
    "    # return both lists\n",
    "    return diet1_measurement, diet2_measurement"
   ]
  },
  {
   "cell_type": "code",
   "execution_count": 162,
   "metadata": {
    "collapsed": true,
    "run_control": {
     "frozen": false,
     "read_only": false
    }
   },
   "outputs": [],
   "source": [
    "def pearson_r_test(x,y):\n",
    "    \"\"\" This function runs the pearson r test for two dataframes x and y.\n",
    "    \n",
    "        x: dataframe \n",
    "        y: dataframe\n",
    "    \n",
    "    \"\"\"\n",
    "    \n",
    "    # combine the dataframes\n",
    "    comb_df = x.join(y)\n",
    "    \n",
    "    # drop invalid values\n",
    "    comb_df = comb_df.dropna()\n",
    "\n",
    "    # run the python function with the two dataframes\n",
    "    return pearsonr(comb_df.ix[:,0], comb_df.ix[:,1])"
   ]
  },
  {
   "cell_type": "code",
   "execution_count": 163,
   "metadata": {
    "collapsed": false
   },
   "outputs": [],
   "source": [
    "def pearson_r_test_multiple(phentoype_df_, genotype_df_mapped_, sheetname, biological_measurements):\n",
    "    \"\"\" This function runs the pearson_r_test for every gene in genotype_df\n",
    "    \n",
    "        phenotype_df_: the dataframe containing the phenotype dataframe\n",
    "        genotype_df_mapped_: the dataframe containing the genotype dataframe\n",
    "        sheetname: the sheetname, e.g. \"Biochemistry\" or \"Activity Wheel\"\n",
    "        biological_measurements: the biological measurements, e.g. \"HFD_LeanMass_preCLAMS_[g]\"\n",
    "    \n",
    "    \"\"\"\n",
    "    \n",
    "    df_sheetname = phentoype_df_[sheetname]\n",
    "    df_sheetname = df_sheetname.set_index('@format=column')\n",
    "    \n",
    "    # lists to create the final dataframe\n",
    "    list_of_genes_ = []\n",
    "    list_of_p_values_ = []\n",
    "    list_of_chromosomes_ = []\n",
    "    list_of_correlation_values = []\n",
    "    \n",
    "    # transpose the phenotype dataframe once\n",
    "    transposed_pheno_data = df_sheetname[biological_measurements].T\n",
    "    \n",
    "    for locus_ in genotype_df_mapped_.index:\n",
    "        \n",
    "        # disable garbage collection for better runtime\n",
    "        gc.disable()\n",
    "         \n",
    "        # calculate the p value for the genotype and the phenotype   \n",
    "        \n",
    "        pearson_corr, pearson_p = pearson_r_test(genotype_df_mapped_.loc[locus_].to_frame(), \n",
    "                                                transposed_pheno_data)\n",
    "        \n",
    "        list_of_p_values_.append(pearson_p)\n",
    "        \n",
    "        list_of_correlation_values.append(pearson_corr)\n",
    "        \n",
    "        # append current locus to list of genes\n",
    "        list_of_genes_.append(locus_)\n",
    "\n",
    "        # append current chromosome\n",
    "        chrom_ = genotype_df_mapped_.loc[locus_][\"Chr\"]\n",
    "        \n",
    "        try:\n",
    "            temp = int(chrom_)\n",
    "            list_of_chromosomes_.append('ch-%i' % temp)\n",
    "        except:\n",
    "            list_of_chromosomes_.append('ch-%i' % 20)\n",
    "        \n",
    "        # enable garbage collection\n",
    "        gc.enable()\n",
    "        \n",
    "    # store results in dataframe    \n",
    "    return pd.DataFrame({'gene' : list_of_genes_,\n",
    "                         'pvalue' : list_of_p_values_,\n",
    "                         'corr. coeff' : list_of_correlation_values,\n",
    "                         'chromosome' : list_of_chromosomes_})\n",
    "                  "
   ]
  },
  {
   "cell_type": "code",
   "execution_count": 167,
   "metadata": {
    "collapsed": true
   },
   "outputs": [],
   "source": [
    "def manhattan_plot(resulting_df_):\n",
    "\n",
    "    # -log_10(pvalue)\n",
    "    resulting_df_['minuslog10pvalue'] = -np.log10(resulting_df_.pvalue)\n",
    "    resulting_df_.chromosome = resulting_df_.chromosome.astype('category')\n",
    "    resulting_df_.chromosome = resulting_df_.chromosome.cat.set_categories(['ch-%i' % i for i in range(1,21)], ordered=True)\n",
    "    resulting_df_ = resulting_df_.sort_values('chromosome')\n",
    "\n",
    "    # How to plot gene vs. -log10(pvalue) and colour it by chromosome?\n",
    "    resulting_df_['ind'] = range(len(resulting_df_))\n",
    "    resulting_df__grouped_ = resulting_df_.groupby(('chromosome'))\n",
    "\n",
    "\n",
    "    fig = plt.figure(figsize=(16,9))\n",
    "    ax = fig.add_subplot(111)\n",
    "    colors = ['red','green','blue', 'yellow']\n",
    "    x_labels = []\n",
    "    x_labels_pos = []\n",
    "    for num, (name, group) in enumerate(resulting_df__grouped_):\n",
    "        group.plot(kind='scatter', x='ind', y='minuslog10pvalue',color=colors[num % len(colors)], ax=ax)\n",
    "        x_labels.append(name)\n",
    "        x_labels_pos.append((group['ind'].iloc[-1] - (group['ind'].iloc[-1] - group['ind'].iloc[0])/2))\n",
    "    ax.set_xticks(x_labels_pos)\n",
    "    ax.set_xticklabels(x_labels)\n",
    "    ax.set_xlim([0, len(resulting_df_)])\n",
    "\n"
   ]
  },
  {
   "cell_type": "code",
   "execution_count": 168,
   "metadata": {
    "collapsed": false
   },
   "outputs": [],
   "source": [
    "cold_decrease_result = pearson_r_test_multiple(phenotype_df, genotype_df_mapped, \"ColdTest\", \"CD_Decrease_0-3H_[%]\")"
   ]
  },
  {
   "cell_type": "markdown",
   "metadata": {},
   "source": [
    "To examine the result one uses usually a manhattan plot (as done before):"
   ]
  },
  {
   "cell_type": "code",
   "execution_count": 169,
   "metadata": {
    "collapsed": false
   },
   "outputs": [
    {
     "data": {
      "image/png": "[encoded data removed]",
      "text/plain": [
       "<matplotlib.figure.Figure at 0x12a9ec50>"
      ]
     },
     "metadata": {},
     "output_type": "display_data"
    }
   ],
   "source": [
    "manhattan_plot(cold_decrease_result)"
   ]
  },
  {
   "cell_type": "markdown",
   "metadata": {
    "collapsed": true
   },
   "source": [
    "Again we need to correct for multiple hypothesis testing: "
   ]
  },
  {
   "cell_type": "code",
   "execution_count": 203,
   "metadata": {
    "collapsed": false,
    "run_control": {
     "frozen": false,
     "read_only": false
    }
   },
   "outputs": [
    {
     "name": "stdout",
     "output_type": "stream",
     "text": [
      "Adjusted p-value: 3.83877159309e-05\n"
     ]
    },
    {
     "data": {
      "text/html": [
       "<div>\n",
       "<table border=\"1\" class=\"dataframe\">\n",
       "  <thead>\n",
       "    <tr style=\"text-align: right;\">\n",
       "      <th></th>\n",
       "      <th>chromosome</th>\n",
       "      <th>corr. coeff</th>\n",
       "      <th>gene</th>\n",
       "      <th>pvalue</th>\n",
       "      <th>minuslog10pvalue</th>\n",
       "    </tr>\n",
       "  </thead>\n",
       "  <tbody>\n",
       "  </tbody>\n",
       "</table>\n",
       "</div>"
      ],
      "text/plain": [
       "Empty DataFrame\n",
       "Columns: [chromosome, corr. coeff, gene, pvalue, minuslog10pvalue]\n",
       "Index: []"
      ]
     },
     "execution_count": 203,
     "metadata": {},
     "output_type": "execute_result"
    }
   ],
   "source": [
    "MHT_correction(cold_decrease_result, alpha=0.1)"
   ]
  },
  {
   "cell_type": "markdown",
   "metadata": {},
   "source": [
    "Unfortunately we find no significant genes for \"CD_Decrease_0-3H_[%]\". To run the association tests more systematically we should run them for all phenotypes."
   ]
  },
  {
   "cell_type": "code",
   "execution_count": 99,
   "metadata": {
    "collapsed": false
   },
   "outputs": [],
   "source": [
    "def association_test_sheet(excel_phenotype_df, txt_genotype_df, sheetname, alpha_pear=0.1):\n",
    "    '''\n",
    "    \n",
    "    '''\n",
    "    \n",
    "    #hdf_diet_measurements, cd_diet_measurements  = find_comparable_measurements(excel_phenotype_df[sheetname], 'HFD', 'CD')\n",
    "    \n",
    "    list_of_pearson_df = []\n",
    "    \n",
    "    list_of_diets = find_comparable_measurements(excel_phenotype_df[sheetname], 'HFD', 'CD')\n",
    "    \n",
    "    for diet in list_of_diets:\n",
    "        for measurement in diet:\n",
    "            print(measurement)\n",
    "            pearson_res = pearson_r_test_multiple(excel_phenotype_df, txt_genotype_df, sheetname, measurement)\n",
    "            corrected_pearson = MHT_correction(pearson_res, alpha=alpha_pear, method='bonferroni')\n",
    "            if not corrected_pearson.empty:\n",
    "                corrected_pearson['phenotyp'] = measurement\n",
    "                list_of_pearson_df.append(corrected_pearson)\n",
    "                print(sheetname + \": \" + measurement)\n",
    "                print(corrected_pearson)\n",
    "            else:\n",
    "                print(\"No significant genes have been found.\")\n",
    "    return list_of_pearson_df\n",
    "  "
   ]
  },
  {
   "cell_type": "code",
   "execution_count": 101,
   "metadata": {
    "collapsed": false,
    "scrolled": false
   },
   "outputs": [
    {
     "name": "stdout",
     "output_type": "stream",
     "text": [
      "HFD_DiastolicBP_NIBP_[mmHg]\n",
      "No significant genes have been found.\n",
      "HFD_SystolicBP_NIBP_[mmHg]\n",
      "No significant genes have been found.\n",
      "HFD_HeartRate_NIBP_[bpm]\n",
      "No significant genes have been found.\n",
      "CD_DiastolicBP_NIBP_[mmHg]\n",
      "No significant genes have been found.\n",
      "CD_SystolicBP_NIBP_[mmHg]\n",
      "No significant genes have been found.\n",
      "CD_HeartRate_NIBP_[bpm]\n",
      "No significant genes have been found.\n"
     ]
    }
   ],
   "source": [
    "NIBP_result_list = association_test_sheet(phenotype_df, genotype_df_mapped, \"NIBP\", alpha_pear=0.05)"
   ]
  },
  {
   "cell_type": "code",
   "execution_count": 102,
   "metadata": {
    "collapsed": false
   },
   "outputs": [
    {
     "name": "stdout",
     "output_type": "stream",
     "text": [
      "[]\n"
     ]
    }
   ],
   "source": [
    "print(NIBP_result_list)"
   ]
  },
  {
   "cell_type": "code",
   "execution_count": 103,
   "metadata": {
    "collapsed": false,
    "scrolled": true
   },
   "outputs": [
    {
     "name": "stdout",
     "output_type": "stream",
     "text": [
      "HFD_Glucose_[mmol/L]\n",
      "No significant genes have been found.\n",
      "HFD_Cholesterol_[mmol/L]\n",
      "No significant genes have been found.\n",
      "HFD_HDL_[mmol/L]_KNOWN_BATCH_EFFECT_BY_COHORT_ORDER\n",
      "No significant genes have been found.\n",
      "HFD_HDL_Norm[Z]\n",
      "No significant genes have been found.\n",
      "HFD_LDL_[mmol/L]\n",
      "No significant genes have been found.\n",
      "HFD_Triglycerides_[mmol/L]\n",
      "No significant genes have been found.\n",
      "HFD_FFA_[mmol/L]_KNOWN_BATCH_EFFECT_BY_COHORT_ORDER\n",
      "No significant genes have been found.\n",
      "HFD_FFA_Norm[Z]\n",
      "No significant genes have been found.\n",
      "HFD_LacticAcid_[mmol/L]\n",
      "No significant genes have been found.\n",
      "HFD_BloodProtein_[g/L]\n",
      "No significant genes have been found.\n",
      "HFD_ALAT_[U/L]_KNOWN_BATCH_EFFECT_BY_COHORT_ORDER\n",
      "No significant genes have been found.\n",
      "HFD_ASAT_[U/L]\n",
      "No significant genes have been found.\n",
      "HFD_ASAT_Norm[Z]\n",
      "No significant genes have been found.\n",
      "HFD_LDH_[U/L]_KNOWN_BATCH_EFFECT_BY_COHORT_ORDER\n",
      "No significant genes have been found.\n",
      "HFD_LDH_Norm[Z]\n",
      "No significant genes have been found.\n",
      "HFD_ALPL_[U/L]\n",
      "No significant genes have been found.\n",
      "HFD_Amylase_[U/L]\n",
      "No significant genes have been found.\n",
      "HFD_CreatineKinase_[U/L]\n",
      "No significant genes have been found.\n",
      "HFD_Creatinine_[U/L]_KNOWN_BATCH_EFFECT_BY_COHORT_ORDER\n"
     ]
    },
    {
     "name": "stderr",
     "output_type": "stream",
     "text": [
      "D:\\Program Files (x86)\\Anaconda\\lib\\site-packages\\ipykernel\\__main__.py:18: SettingWithCopyWarning: \n",
      "A value is trying to be set on a copy of a slice from a DataFrame.\n",
      "Try using .loc[row_indexer,col_indexer] = value instead\n",
      "\n",
      "See the caveats in the documentation: http://pandas.pydata.org/pandas-docs/stable/indexing.html#indexing-view-versus-copy\n"
     ]
    },
    {
     "name": "stdout",
     "output_type": "stream",
     "text": [
      "Biochemistry: HFD_Creatinine_[U/L]_KNOWN_BATCH_EFFECT_BY_COHORT_ORDER\n",
      "     chromosome  corr. coeff             gene        pvalue  \\\n",
      "2418      ch-18    -0.670846  CEL-18_56957668  2.170347e-06   \n",
      "2419      ch-18    -0.670846        rs3675869  2.170347e-06   \n",
      "2420      ch-18    -0.772791       rs13483377  5.136316e-09   \n",
      "\n",
      "                                               phenotyp  \n",
      "2418  HFD_Creatinine_[U/L]_KNOWN_BATCH_EFFECT_BY_COH...  \n",
      "2419  HFD_Creatinine_[U/L]_KNOWN_BATCH_EFFECT_BY_COH...  \n",
      "2420  HFD_Creatinine_[U/L]_KNOWN_BATCH_EFFECT_BY_COH...  \n",
      "HFD_Creatinine_Norm[Z]\n",
      "No significant genes have been found.\n",
      "HFD_Iron_[umol/L]\n",
      "No significant genes have been found.\n",
      "HFD_IFNGamma_[pg/mL]\n",
      "No significant genes have been found.\n",
      "HFD_TNFalpha_[pg/mL]\n",
      "Biochemistry: HFD_TNFalpha_[pg/mL]\n",
      "     chromosome  corr. coeff        gene    pvalue              phenotyp\n",
      "2330      ch-17     0.698975   rs6176494  0.000017  HFD_TNFalpha_[pg/mL]\n",
      "2331      ch-17     0.698975  rs13483092  0.000017  HFD_TNFalpha_[pg/mL]\n",
      "2332      ch-17     0.698975   rs6155172  0.000017  HFD_TNFalpha_[pg/mL]\n",
      "HFD_IL15_[pg/mL]\n",
      "No significant genes have been found.\n",
      "HFD_MCP1_[pg/mL]\n",
      "No significant genes have been found.\n",
      "HFD_IL10_[pg/mL]\n",
      "No significant genes have been found.\n",
      "HFD_MIP1B_[pg/mL]\n",
      "No significant genes have been found.\n",
      "HFD_MIP1A_[pg/mL]\n",
      "No significant genes have been found.\n",
      "HFD_IL6_[pg/mL]\n",
      "No significant genes have been found.\n",
      "HFD_IL18_[pg/mL]\n",
      "Biochemistry: HFD_IL18_[pg/mL]\n",
      "     chromosome  corr. coeff            gene    pvalue          phenotyp\n",
      "2585      ch-20     0.697518  CEL-X_71438949  0.000018  HFD_IL18_[pg/mL]\n",
      "2586      ch-20     0.697518      rs13483864  0.000018  HFD_IL18_[pg/mL]\n",
      "2587      ch-20     0.715057      rs13483868  0.000009  HFD_IL18_[pg/mL]\n",
      "2588      ch-20     0.715057      rs13483805  0.000009  HFD_IL18_[pg/mL]\n",
      "2589      ch-20     0.715057    gnfX.076.619  0.000009  HFD_IL18_[pg/mL]\n",
      "2590      ch-20     0.715057      rs13483881  0.000009  HFD_IL18_[pg/mL]\n",
      "HFD_RANTES_[pg/mL]\n",
      "Biochemistry: HFD_RANTES_[pg/mL]\n",
      "  chromosome  corr. coeff       gene    pvalue            phenotyp\n",
      "1       ch-1     0.705545  rs6241531  0.000013  HFD_RANTES_[pg/mL]\n",
      "2       ch-1     0.705545  rs6360236  0.000013  HFD_RANTES_[pg/mL]\n",
      "3       ch-1     0.705545  rs3722996  0.000013  HFD_RANTES_[pg/mL]\n",
      "CD_Glucose_[mmol/L]\n",
      "No significant genes have been found.\n",
      "CD_Cholesterol_[mmol/L]\n",
      "No significant genes have been found.\n",
      "CD_HDL_[mmol/L]_KNOWN_BATCH_EFFECT_BY_COHORT_ORDER\n",
      "No significant genes have been found.\n",
      "CD_HDL_Norm[Z]\n",
      "No significant genes have been found.\n",
      "CD_LDL_[mmol/L]\n",
      "No significant genes have been found.\n",
      "CD_Triglycerides_[mmol/L]\n",
      "No significant genes have been found.\n",
      "CD_FFA_[mmol/L]_KNOWN_BATCH_EFFECT_BY_COHORT_ORDER\n",
      "No significant genes have been found.\n",
      "CD_FFA_Norm[Z]\n",
      "No significant genes have been found.\n",
      "CD_LacticAcid_[mmol/L]\n",
      "No significant genes have been found.\n",
      "CD_BloodProtein_[g/L]\n",
      "No significant genes have been found.\n",
      "CD_ALAT_[U/L]_KNOWN_BATCH_EFFECT_BY_COHORT_ORDER\n",
      "No significant genes have been found.\n",
      "CD_ASAT_[U/L]\n",
      "No significant genes have been found.\n",
      "CD_ASAT_Norm[Z]\n",
      "No significant genes have been found.\n",
      "CD_LDH_[U/L]_KNOWN_BATCH_EFFECT_BY_COHORT_ORDER\n",
      "No significant genes have been found.\n",
      "CD_LDH_Norm[Z]\n",
      "No significant genes have been found.\n",
      "CD_ALPL_[U/L]\n",
      "Biochemistry: CD_ALPL_[U/L]\n",
      "    chromosome  corr. coeff        gene    pvalue       phenotyp\n",
      "755       ch-4     0.580107  rs13478002  0.000007  CD_ALPL_[U/L]\n",
      "756       ch-4     0.580107  rs27575913  0.000007  CD_ALPL_[U/L]\n",
      "757       ch-4     0.580107   rs4224864  0.000007  CD_ALPL_[U/L]\n",
      "CD_Amylase_[U/L]\n",
      "No significant genes have been found.\n",
      "CD_CreatineKinase_[U/L]\n",
      "No significant genes have been found.\n",
      "CD_Creatinine_[U/L]_KNOWN_BATCH_EFFECT_BY_COHORT_ORDER\n",
      "No significant genes have been found.\n",
      "CD_Creatinine_Norm[Z]\n",
      "No significant genes have been found.\n",
      "CD_Iron_[umol/L]\n",
      "No significant genes have been found.\n"
     ]
    }
   ],
   "source": [
    "Biochemistry_result_list = association_test_sheet(phenotype_df, genotype_df_mapped, \"Biochemistry\", alpha_pear=0.05)"
   ]
  },
  {
   "cell_type": "code",
   "execution_count": 104,
   "metadata": {
    "collapsed": false,
    "scrolled": true
   },
   "outputs": [
    {
     "name": "stdout",
     "output_type": "stream",
     "text": [
      "[     chromosome  corr. coeff             gene        pvalue  \\\n",
      "2418      ch-18    -0.670846  CEL-18_56957668  2.170347e-06   \n",
      "2419      ch-18    -0.670846        rs3675869  2.170347e-06   \n",
      "2420      ch-18    -0.772791       rs13483377  5.136316e-09   \n",
      "\n",
      "                                               phenotyp  \n",
      "2418  HFD_Creatinine_[U/L]_KNOWN_BATCH_EFFECT_BY_COH...  \n",
      "2419  HFD_Creatinine_[U/L]_KNOWN_BATCH_EFFECT_BY_COH...  \n",
      "2420  HFD_Creatinine_[U/L]_KNOWN_BATCH_EFFECT_BY_COH...  ,      chromosome  corr. coeff        gene    pvalue              phenotyp\n",
      "2330      ch-17     0.698975   rs6176494  0.000017  HFD_TNFalpha_[pg/mL]\n",
      "2331      ch-17     0.698975  rs13483092  0.000017  HFD_TNFalpha_[pg/mL]\n",
      "2332      ch-17     0.698975   rs6155172  0.000017  HFD_TNFalpha_[pg/mL],      chromosome  corr. coeff            gene    pvalue          phenotyp\n",
      "2585      ch-20     0.697518  CEL-X_71438949  0.000018  HFD_IL18_[pg/mL]\n",
      "2586      ch-20     0.697518      rs13483864  0.000018  HFD_IL18_[pg/mL]\n",
      "2587      ch-20     0.715057      rs13483868  0.000009  HFD_IL18_[pg/mL]\n",
      "2588      ch-20     0.715057      rs13483805  0.000009  HFD_IL18_[pg/mL]\n",
      "2589      ch-20     0.715057    gnfX.076.619  0.000009  HFD_IL18_[pg/mL]\n",
      "2590      ch-20     0.715057      rs13483881  0.000009  HFD_IL18_[pg/mL],   chromosome  corr. coeff       gene    pvalue            phenotyp\n",
      "1       ch-1     0.705545  rs6241531  0.000013  HFD_RANTES_[pg/mL]\n",
      "2       ch-1     0.705545  rs6360236  0.000013  HFD_RANTES_[pg/mL]\n",
      "3       ch-1     0.705545  rs3722996  0.000013  HFD_RANTES_[pg/mL],     chromosome  corr. coeff        gene    pvalue       phenotyp\n",
      "755       ch-4     0.580107  rs13478002  0.000007  CD_ALPL_[U/L]\n",
      "756       ch-4     0.580107  rs27575913  0.000007  CD_ALPL_[U/L]\n",
      "757       ch-4     0.580107   rs4224864  0.000007  CD_ALPL_[U/L]]\n"
     ]
    }
   ],
   "source": [
    "print(Biochemistry_result_list)"
   ]
  },
  {
   "cell_type": "code",
   "execution_count": 105,
   "metadata": {
    "collapsed": false,
    "scrolled": true
   },
   "outputs": [
    {
     "name": "stdout",
     "output_type": "stream",
     "text": [
      "HFD_RBC.TotalRedBloodCells_[#*10^6/uL]\n",
      "No significant genes have been found.\n",
      "HFD_%RBCm.MatureRBC_[%]\n",
      "No significant genes have been found.\n",
      "HFD_#RBCm.MatureRBC_[#*10^9/L]\n",
      "No significant genes have been found.\n",
      "HFD_HGB.Hemoglobin_[g/dL]\n",
      "No significant genes have been found.\n",
      "HFD_HCT.Hematocrit_[%]\n",
      "No significant genes have been found.\n",
      "HFD_MCV.MeanCorpuscularVolume_[fL/RBC]\n",
      "No significant genes have been found.\n",
      "HFD_MCH.MeanCorpuscularHemoglobin_[pg/RBC]\n",
      "No significant genes have been found.\n",
      "HFD_MCHC.MeanCorpuscularHemoglobinConcentration_[g/dL]\n",
      "No significant genes have been found.\n",
      "HFD_CH.RedCellHemoglobinContent_[pg/RBC]\n",
      "No significant genes have been found.\n",
      "HFD_RDW.RedCellDistributionWidth_[%]\n",
      "No significant genes have been found.\n",
      "HFD_HDW.HemoglobinConcentrationDistributionWidth_[g/dL]\n",
      "No significant genes have been found.\n",
      "HFD_%RETIC.ReticulocytePercent_[%]\n",
      "No significant genes have been found.\n",
      "HFD_#RETIC.ReticulocyteCount_[#*10^9/L]\n",
      "No significant genes have been found.\n",
      "HFD_MCVr.MeanCorpuscularVolumeofReticulocytes_[fL/RTC]\n",
      "No significant genes have been found.\n",
      "HFD_MCHCr.MeanCorpuscularHemoglobinConcentrationofReticulocytes_[g/dL]\n",
      "No significant genes have been found.\n",
      "HFD_CHr.RedCellHemoglobinContentofReticulocytes_[pg/RTC]\n",
      "No significant genes have been found.\n",
      "HFD_%LRTC_PercentageofLowMatureReticulocytes_[%]\n",
      "No significant genes have been found.\n",
      "HFD_#LRTC_CountofLowMatureReticulocytes_[#*10^9/L]\n",
      "No significant genes have been found.\n",
      "HFD_%MRTC_PercentageofMediumMatureReticulocytes_[%]\n",
      "No significant genes have been found.\n",
      "HFD_#MRTC_CountofMediumMatureReticulocytes_[#*10^9/L]\n",
      "No significant genes have been found.\n",
      "HFD_%HRTC_PercentageofHighMatureReticulocytes_[%]\n",
      "No significant genes have been found.\n",
      "HFD_#HRTC_CountofHighMatureReticulocytes_[#*10^9/L]\n",
      "No significant genes have been found.\n",
      "HFD_PLT.Platelets_[#*10^3/µL]\n",
      "No significant genes have been found.\n",
      "HFD_MPV.MeanPlateletVolume_[fL/PLT]\n",
      "No significant genes have been found.\n",
      "HFD_PDW.PlateletDistributionWidth_[%]\n",
      "No significant genes have been found.\n",
      "HFD_PCT.Plateletcrit_[%]\n",
      "No significant genes have been found.\n",
      "HFD_MPC.MeanPlateletComponentConcentration_[g/dL]\n",
      "No significant genes have been found.\n",
      "HFD_PCDW.PlateletComponentDistributionWidth_[g/dL]\n",
      "No significant genes have been found.\n",
      "HFD_MPM.MeanPlateletMass_[pg/PLT]\n",
      "No significant genes have been found.\n",
      "HFD_WBC.WhiteBloodCell_[#*10^3/µL]\n",
      "No significant genes have been found.\n",
      "HFD_%NEUTR.Neutrophil_[%]\n",
      "No significant genes have been found.\n",
      "HFD_%LYMPH.Lymphocyte_[%]\n",
      "No significant genes have been found.\n",
      "HFD_%MONO.Monocyte_[%]\n",
      "No significant genes have been found.\n",
      "HFD_%EOS.Eosinophil_[%]\n",
      "No significant genes have been found.\n",
      "HFD_%BASO.Basophil_[%]\n",
      "No significant genes have been found.\n",
      "HFD_%LUC.LargeUnknownCells_[%]\n",
      "No significant genes have been found.\n",
      "HFD_#NEUTR.Neutrophil_[#*10^3/µL]\n",
      "No significant genes have been found.\n",
      "HFD_#LYMPH.Lymphocyte_[#*10^3/µL]\n",
      "No significant genes have been found.\n",
      "HFD_#MONO.Monocyte_[#*10^3/µL]\n",
      "No significant genes have been found.\n",
      "HFD_#EOS.Eosinophil_[#*10^3/µL]\n",
      "No significant genes have been found.\n",
      "HFD_#BASO.Basophil_[#*10^3/µL]\n",
      "No significant genes have been found.\n",
      "HFD_#LUC.LargeUnknownCells_[#*10^3/µL]\n",
      "No significant genes have been found.\n",
      "CD_RBC.TotalRedBloodCells_[#*10^6/uL]\n"
     ]
    },
    {
     "name": "stderr",
     "output_type": "stream",
     "text": [
      "D:\\Program Files (x86)\\Anaconda\\lib\\site-packages\\ipykernel\\__main__.py:18: SettingWithCopyWarning: \n",
      "A value is trying to be set on a copy of a slice from a DataFrame.\n",
      "Try using .loc[row_indexer,col_indexer] = value instead\n",
      "\n",
      "See the caveats in the documentation: http://pandas.pydata.org/pandas-docs/stable/indexing.html#indexing-view-versus-copy\n"
     ]
    },
    {
     "name": "stdout",
     "output_type": "stream",
     "text": [
      "Hematology: CD_RBC.TotalRedBloodCells_[#*10^6/uL]\n",
      "     chromosome  corr. coeff       gene    pvalue  \\\n",
      "1435       ch-9    -0.608473  rs3703045  0.000015   \n",
      "1436       ch-9    -0.608473  rs3721056  0.000015   \n",
      "\n",
      "                                   phenotyp  \n",
      "1435  CD_RBC.TotalRedBloodCells_[#*10^6/uL]  \n",
      "1436  CD_RBC.TotalRedBloodCells_[#*10^6/uL]  \n",
      "CD_%RBCm.MatureRBC_[%]\n",
      "No significant genes have been found.\n",
      "CD_#RBCm.MatureRBC_[#*10^9/L]\n",
      "No significant genes have been found.\n",
      "CD_HGB.Hemoglobin_[g/dL]\n",
      "No significant genes have been found.\n",
      "CD_HCT.Hematocrit_[%]\n",
      "No significant genes have been found.\n",
      "CD_MCV.MeanCorpuscularVolume_[fL/RBC]\n",
      "No significant genes have been found.\n",
      "CD_MCH.MeanCorpuscularHemoglobin_[pg/RBC]\n",
      "No significant genes have been found.\n",
      "CD_MCHC.MeanCorpuscularHemoglobinConcentration_[g/dL]\n",
      "No significant genes have been found.\n",
      "CD_CH.RedCellHemoglobinContent_[pg/RBC]\n",
      "No significant genes have been found.\n",
      "CD_RDW.RedCellDistributionWidth_[%]\n",
      "No significant genes have been found.\n",
      "CD_HDW.HemoglobinConcentrationDistributionWidth_[g/dL]\n",
      "No significant genes have been found.\n",
      "CD_%RETIC.ReticulocytePercent_[%]\n",
      "No significant genes have been found.\n",
      "CD_#RETIC.ReticulocyteCount_[#*10^9/L]\n",
      "No significant genes have been found.\n",
      "CD_MCVr.MeanCorpuscularVolumeofReticulocytes_[fL/RTC]\n",
      "No significant genes have been found.\n",
      "CD_MCHCr.MeanCorpuscularHemoglobinConcentrationofReticulocytes_[g/dL]\n",
      "No significant genes have been found.\n",
      "CD_CHr.RedCellHemoglobinContentofReticulocytes_[pg/RTC]\n",
      "No significant genes have been found.\n",
      "CD_%LRTC_PercentageofLowMatureReticulocytes_[%]\n",
      "No significant genes have been found.\n",
      "CD_#LRTC_CountofLowMatureReticulocytes_[#*10^9/L]\n",
      "No significant genes have been found.\n",
      "CD_%MRTC_PercentageofMediumMatureReticulocytes_[%]\n",
      "No significant genes have been found.\n",
      "CD_#MRTC_CountofMediumMatureReticulocytes_[#*10^9/L]\n",
      "No significant genes have been found.\n",
      "CD_%HRTC_PercentageofHighMatureReticulocytes_[%]\n",
      "No significant genes have been found.\n",
      "CD_#HRTC_CountofHighMatureReticulocytes_[#*10^9/L]\n",
      "No significant genes have been found.\n",
      "CD_PLT.Platelets_[#*10^3/µL]\n",
      "No significant genes have been found.\n",
      "CD_MPV.MeanPlateletVolume_[fL/PLT]\n",
      "No significant genes have been found.\n",
      "CD_PDW.PlateletDistributionWidth_[%]\n",
      "No significant genes have been found.\n",
      "CD_PCT.Plateletcrit_[%]\n",
      "No significant genes have been found.\n",
      "CD_MPC.MeanPlateletComponentConcentration_[g/dL]\n",
      "No significant genes have been found.\n",
      "CD_PCDW.PlateletComponentDistributionWidth_[g/dL]\n",
      "No significant genes have been found.\n",
      "HFD_PCDW.PlateletComponentDistributionWidth_[g/dL]\n",
      "No significant genes have been found.\n",
      "CD_MPM.MeanPlateletMass_[pg/PLT]\n",
      "No significant genes have been found.\n",
      "CD_WBC.WhiteBloodCell_[#*10^3/µL]\n",
      "No significant genes have been found.\n",
      "CD_%NEUTR.Neutrophil_[%]\n",
      "No significant genes have been found.\n",
      "CD_%LYMPH.Lymphocyte_[%]\n",
      "No significant genes have been found.\n",
      "CD_%MONO.Monocyte_[%]\n",
      "No significant genes have been found.\n",
      "CD_%EOS.Eosinophil_[%]\n",
      "No significant genes have been found.\n",
      "CD_%BASO.Basophil_[%]\n",
      "No significant genes have been found.\n",
      "CD_%LUC.LargeUnknownCells_[%]\n",
      "No significant genes have been found.\n",
      "CD_#NEUTR.Neutrophil_[#*10^3/µL]\n",
      "No significant genes have been found.\n",
      "CD_#LYMPH.Lymphocyte_[#*10^3/µL]\n",
      "No significant genes have been found.\n",
      "CD_#MONO.Monocyte_[#*10^3/µL]\n",
      "No significant genes have been found.\n",
      "CD_#EOS.Eosinophil_[#*10^3/µL]\n",
      "No significant genes have been found.\n",
      "CD_#BASO.Basophil_[#*10^3/µL]\n",
      "No significant genes have been found.\n",
      "CD_#LUC.LargeUnknownCells_[#*10^3/µL]\n",
      "No significant genes have been found.\n"
     ]
    }
   ],
   "source": [
    "Hematology_result_list = association_test_sheet(phenotype_df, genotype_df_mapped, \"Hematology\", alpha_pear=0.05)"
   ]
  },
  {
   "cell_type": "code",
   "execution_count": 106,
   "metadata": {
    "collapsed": false
   },
   "outputs": [
    {
     "name": "stdout",
     "output_type": "stream",
     "text": [
      "[     chromosome  corr. coeff       gene    pvalue  \\\n",
      "1435       ch-9    -0.608473  rs3703045  0.000015   \n",
      "1436       ch-9    -0.608473  rs3721056  0.000015   \n",
      "\n",
      "                                   phenotyp  \n",
      "1435  CD_RBC.TotalRedBloodCells_[#*10^6/uL]  \n",
      "1436  CD_RBC.TotalRedBloodCells_[#*10^6/uL]  ]\n"
     ]
    }
   ],
   "source": [
    "print(Hematology_result_list)"
   ]
  },
  {
   "cell_type": "markdown",
   "metadata": {},
   "source": [
    "The analysis shows that the traits in NIBP are not associated with genetics or at least we cant find a gene which is associated. \n",
    "\n",
    "For the data in the Biochemistry sheet we found, that for the HFD diet there are three genes negatively associated with Creatinine concentration, three genes pos. associated with TNFalpha concentration, six genes pos. associated with IL18 concentration and three genes pos. associated with RANTES concentration. For the CD diet there were significantly less results: only thee genes are pos. associated with ALPL concentration.\n",
    "\n",
    "In the Hematology sheet we found only one trait which is associated to genetics: the concentration of red blood cells, but only for the CD diet. There were 2 genes neg. associated with it."
   ]
  },
  {
   "cell_type": "markdown",
   "metadata": {},
   "source": [
    "## Task: For most interesting examples, try to identify possible candidate genes"
   ]
  },
  {
   "cell_type": "code",
   "execution_count": 111,
   "metadata": {
    "collapsed": true,
    "run_control": {
     "frozen": false,
     "read_only": false
    }
   },
   "outputs": [],
   "source": [
    "def identify_candidate_genes_sheet(list_of_significant_results, corresponding_genotype_df):\n",
    "    ''' identifies the candidate genes for the sheet data\n",
    "    \n",
    "        list_of_significant_results: the list containing the significant results (i.e. the dataframe which is returned \n",
    "                                     by MHT_correction)\n",
    "        corresponding_genotype_df: the dataframe containing the gene data (genotype.txt)\n",
    "        \n",
    "    '''\n",
    "    \n",
    "    final_sheet_results = []\n",
    "    for significant_result in list_of_significant_results:\n",
    "        \n",
    "        final_sheet_results.append(identify_candidate_genes(significant_result, \n",
    "                                                            corresponding_genotype_df, base_range__=100000))\n",
    "        \n",
    "    return final_sheet_results    "
   ]
  },
  {
   "cell_type": "code",
   "execution_count": 112,
   "metadata": {
    "collapsed": false
   },
   "outputs": [
    {
     "data": {
      "text/html": [
       "<div>\n",
       "<table border=\"1\" class=\"dataframe\">\n",
       "  <thead>\n",
       "    <tr style=\"text-align: right;\">\n",
       "      <th></th>\n",
       "      <th>chromosome</th>\n",
       "      <th>corr. coeff</th>\n",
       "      <th>gene</th>\n",
       "      <th>pvalue</th>\n",
       "      <th>phenotyp</th>\n",
       "    </tr>\n",
       "  </thead>\n",
       "  <tbody>\n",
       "    <tr>\n",
       "      <th>2418</th>\n",
       "      <td>ch-18</td>\n",
       "      <td>-0.670846</td>\n",
       "      <td>CEL-18_56957668</td>\n",
       "      <td>2.170347e-06</td>\n",
       "      <td>HFD_Creatinine_[U/L]_KNOWN_BATCH_EFFECT_BY_COH...</td>\n",
       "    </tr>\n",
       "    <tr>\n",
       "      <th>2419</th>\n",
       "      <td>ch-18</td>\n",
       "      <td>-0.670846</td>\n",
       "      <td>rs3675869</td>\n",
       "      <td>2.170347e-06</td>\n",
       "      <td>HFD_Creatinine_[U/L]_KNOWN_BATCH_EFFECT_BY_COH...</td>\n",
       "    </tr>\n",
       "    <tr>\n",
       "      <th>2420</th>\n",
       "      <td>ch-18</td>\n",
       "      <td>-0.772791</td>\n",
       "      <td>rs13483377</td>\n",
       "      <td>5.136316e-09</td>\n",
       "      <td>HFD_Creatinine_[U/L]_KNOWN_BATCH_EFFECT_BY_COH...</td>\n",
       "    </tr>\n",
       "  </tbody>\n",
       "</table>\n",
       "</div>"
      ],
      "text/plain": [
       "     chromosome  corr. coeff             gene        pvalue  \\\n",
       "2418      ch-18    -0.670846  CEL-18_56957668  2.170347e-06   \n",
       "2419      ch-18    -0.670846        rs3675869  2.170347e-06   \n",
       "2420      ch-18    -0.772791       rs13483377  5.136316e-09   \n",
       "\n",
       "                                               phenotyp  \n",
       "2418  HFD_Creatinine_[U/L]_KNOWN_BATCH_EFFECT_BY_COH...  \n",
       "2419  HFD_Creatinine_[U/L]_KNOWN_BATCH_EFFECT_BY_COH...  \n",
       "2420  HFD_Creatinine_[U/L]_KNOWN_BATCH_EFFECT_BY_COH...  "
      ]
     },
     "execution_count": 112,
     "metadata": {},
     "output_type": "execute_result"
    }
   ],
   "source": [
    "Biochemistry_result_list[0]"
   ]
  },
  {
   "cell_type": "code",
   "execution_count": 113,
   "metadata": {
    "collapsed": false,
    "run_control": {
     "frozen": false,
     "read_only": false
    },
    "scrolled": true
   },
   "outputs": [
    {
     "name": "stdout",
     "output_type": "stream",
     "text": [
      "Getting possible candidate genes from 3 interesting genes.\n",
      "Done.\n",
      "Getting possible candidate genes from 3 interesting genes.\n",
      "Done.\n",
      "Getting possible candidate genes from 6 interesting genes.\n",
      "Done.\n",
      "Getting possible candidate genes from 3 interesting genes.\n",
      "Done.\n",
      "Getting possible candidate genes from 3 interesting genes.\n",
      "Done.\n",
      "[[        Ensembl Gene ID Ensembl Transcript ID MGI symbol       MGI ID  \\\n",
      "0    ENSMUSG00000099196    ENSMUST00000183892    Mir1258  MGI:5530753   \n",
      "1    ENSMUSG00000032900    ENSMUST00000035640      Tex43  MGI:1914593   \n",
      "2    ENSMUSG00000032900    ENSMUST00000127591      Tex43  MGI:1914593   \n",
      "3    ENSMUSG00000032900    ENSMUST00000153248      Tex43  MGI:1914593   \n",
      "4    ENSMUSG00000032900    ENSMUST00000147775      Tex43  MGI:1914593   \n",
      "5    ENSMUSG00000024590    ENSMUST00000025486      Lmnb1    MGI:96795   \n",
      "6    ENSMUSG00000024590    ENSMUST00000025486      Lmnb1    MGI:96795   \n",
      "7    ENSMUSG00000024590    ENSMUST00000025486      Lmnb1    MGI:96795   \n",
      "8    ENSMUSG00000024590    ENSMUST00000025486      Lmnb1    MGI:96795   \n",
      "9    ENSMUSG00000024590    ENSMUST00000025486      Lmnb1    MGI:96795   \n",
      "10   ENSMUSG00000024590    ENSMUST00000025486      Lmnb1    MGI:96795   \n",
      "11   ENSMUSG00000024590    ENSMUST00000025486      Lmnb1    MGI:96795   \n",
      "12   ENSMUSG00000024590    ENSMUST00000025486      Lmnb1    MGI:96795   \n",
      "13   ENSMUSG00000024590    ENSMUST00000025486      Lmnb1    MGI:96795   \n",
      "14   ENSMUSG00000024590    ENSMUST00000025486      Lmnb1    MGI:96795   \n",
      "15   ENSMUSG00000024590    ENSMUST00000025486      Lmnb1    MGI:96795   \n",
      "16   ENSMUSG00000024590    ENSMUST00000025486      Lmnb1    MGI:96795   \n",
      "17   ENSMUSG00000024590    ENSMUST00000025486      Lmnb1    MGI:96795   \n",
      "18   ENSMUSG00000024590    ENSMUST00000025486      Lmnb1    MGI:96795   \n",
      "19   ENSMUSG00000024590    ENSMUST00000025486      Lmnb1    MGI:96795   \n",
      "20   ENSMUSG00000024590    ENSMUST00000025486      Lmnb1    MGI:96795   \n",
      "21   ENSMUSG00000024590    ENSMUST00000025486      Lmnb1    MGI:96795   \n",
      "22   ENSMUSG00000024590    ENSMUST00000025486      Lmnb1    MGI:96795   \n",
      "23   ENSMUSG00000024590    ENSMUST00000025486      Lmnb1    MGI:96795   \n",
      "24   ENSMUSG00000024590    ENSMUST00000025486      Lmnb1    MGI:96795   \n",
      "25   ENSMUSG00000024590    ENSMUST00000025486      Lmnb1    MGI:96795   \n",
      "26   ENSMUSG00000024590    ENSMUST00000025486      Lmnb1    MGI:96795   \n",
      "27   ENSMUSG00000024590    ENSMUST00000025486      Lmnb1    MGI:96795   \n",
      "28   ENSMUSG00000024590    ENSMUST00000025486      Lmnb1    MGI:96795   \n",
      "29   ENSMUSG00000024590    ENSMUST00000025486      Lmnb1    MGI:96795   \n",
      "..                  ...                   ...        ...          ...   \n",
      "137  ENSMUSG00000024590    ENSMUST00000128651      Lmnb1    MGI:96795   \n",
      "138  ENSMUSG00000024590    ENSMUST00000128651      Lmnb1    MGI:96795   \n",
      "139  ENSMUSG00000024590    ENSMUST00000128651      Lmnb1    MGI:96795   \n",
      "140  ENSMUSG00000024590    ENSMUST00000128651      Lmnb1    MGI:96795   \n",
      "141  ENSMUSG00000024590    ENSMUST00000128651      Lmnb1    MGI:96795   \n",
      "142  ENSMUSG00000024590    ENSMUST00000128651      Lmnb1    MGI:96795   \n",
      "143  ENSMUSG00000024590    ENSMUST00000128651      Lmnb1    MGI:96795   \n",
      "144  ENSMUSG00000024590    ENSMUST00000128651      Lmnb1    MGI:96795   \n",
      "145  ENSMUSG00000024590    ENSMUST00000128651      Lmnb1    MGI:96795   \n",
      "146  ENSMUSG00000024590    ENSMUST00000128651      Lmnb1    MGI:96795   \n",
      "147  ENSMUSG00000024590    ENSMUST00000128651      Lmnb1    MGI:96795   \n",
      "148  ENSMUSG00000024590    ENSMUST00000128651      Lmnb1    MGI:96795   \n",
      "149  ENSMUSG00000024590    ENSMUST00000128651      Lmnb1    MGI:96795   \n",
      "150  ENSMUSG00000024590    ENSMUST00000128651      Lmnb1    MGI:96795   \n",
      "151  ENSMUSG00000024590    ENSMUST00000128651      Lmnb1    MGI:96795   \n",
      "152  ENSMUSG00000024590    ENSMUST00000128651      Lmnb1    MGI:96795   \n",
      "153  ENSMUSG00000087597    ENSMUST00000128240    Gm15345  MGI:3705179   \n",
      "154  ENSMUSG00000032656    ENSMUST00000102912     March3  MGI:2443667   \n",
      "155  ENSMUSG00000032656    ENSMUST00000035278     March3  MGI:2443667   \n",
      "156  ENSMUSG00000032656    ENSMUST00000153044     March3  MGI:2443667   \n",
      "157  ENSMUSG00000024593    ENSMUST00000075770     Megf10  MGI:2685177   \n",
      "158  ENSMUSG00000024593    ENSMUST00000075770     Megf10  MGI:2685177   \n",
      "159  ENSMUSG00000024593    ENSMUST00000075770     Megf10  MGI:2685177   \n",
      "160  ENSMUSG00000024593    ENSMUST00000075770     Megf10  MGI:2685177   \n",
      "161  ENSMUSG00000024593    ENSMUST00000075770     Megf10  MGI:2685177   \n",
      "162  ENSMUSG00000024593    ENSMUST00000139892     Megf10  MGI:2685177   \n",
      "163  ENSMUSG00000024593    ENSMUST00000139892     Megf10  MGI:2685177   \n",
      "164  ENSMUSG00000024593    ENSMUST00000139892     Megf10  MGI:2685177   \n",
      "165  ENSMUSG00000024593    ENSMUST00000139892     Megf10  MGI:2685177   \n",
      "166  ENSMUSG00000024593    ENSMUST00000139892     Megf10  MGI:2685177   \n",
      "\n",
      "                                 Phenotype description  \n",
      "0                                                  NaN  \n",
      "1                                                  NaN  \n",
      "2                                                  NaN  \n",
      "3                                                  NaN  \n",
      "4                                                  NaN  \n",
      "5                         decreased cell proliferation  \n",
      "6                        abnormal cell differentiation  \n",
      "7               abnormal thoracic vertebrae morphology  \n",
      "8                             absent pulmonary alveoli  \n",
      "9                             abnormal lung morphology  \n",
      "10                           delayed bone ossification  \n",
      "11                         abnormal cranium morphology  \n",
      "12                 abnormal sagittal suture morphology  \n",
      "13                                           scoliosis  \n",
      "14              neonatal lethality complete penetrance  \n",
      "15                                 respiratory failure  \n",
      "16                  abnormal coronal suture morphology  \n",
      "17                    abnormal cell nucleus morphology  \n",
      "18                               decreased embryo size  \n",
      "19                          abnormal neuron morphology  \n",
      "20                        embryonic growth retardation  \n",
      "21                                preweaning lethality  \n",
      "22                                decreased fetal size  \n",
      "23   abnormal phrenic nerve innervation pattern to ...  \n",
      "24                         abnormal neuronal migration  \n",
      "25                               thin diaphragm muscle  \n",
      "26          abnormal stratification in cerebral cortex  \n",
      "27                                        microcephaly  \n",
      "28              abnormal pulmonary alveolus morphology  \n",
      "29           abnormal neuronal precursor proliferation  \n",
      "..                                                 ...  \n",
      "137  abnormal phrenic nerve innervation pattern to ...  \n",
      "138                        abnormal neuronal migration  \n",
      "139                              thin diaphragm muscle  \n",
      "140         abnormal stratification in cerebral cortex  \n",
      "141                                       microcephaly  \n",
      "142             abnormal pulmonary alveolus morphology  \n",
      "143          abnormal neuronal precursor proliferation  \n",
      "144                               decreased brain size  \n",
      "145                 impaired lung alveolus development  \n",
      "146                                          flat head  \n",
      "147                          abnormal lung development  \n",
      "148                            decreased midbrain size  \n",
      "149   decreased circulating alkaline phosphatase level  \n",
      "150                decreased circulating calcium level  \n",
      "151                              decreased body weight  \n",
      "152              increased mean corpuscular hemoglobin  \n",
      "153                                                NaN  \n",
      "154                                                NaN  \n",
      "155                                                NaN  \n",
      "156                                                NaN  \n",
      "157                      recognition of apoptotic cell  \n",
      "158          skeletal muscle satellite cell activation  \n",
      "159     skeletal muscle satellite cell differentiation  \n",
      "160                  abnormal amacrine cell morphology  \n",
      "161                abnormal horizontal cell morphology  \n",
      "162                      recognition of apoptotic cell  \n",
      "163          skeletal muscle satellite cell activation  \n",
      "164     skeletal muscle satellite cell differentiation  \n",
      "165                  abnormal amacrine cell morphology  \n",
      "166                abnormal horizontal cell morphology  \n",
      "\n",
      "[167 rows x 5 columns]], [        Ensembl Gene ID Ensembl Transcript ID MGI symbol       MGI ID  \\\n",
      "0    ENSMUSG00000097625    ENSMUST00000180743    Gm26561  MGI:5477055   \n",
      "1    ENSMUSG00000024049    ENSMUST00000024847      Myom1  MGI:1341430   \n",
      "2    ENSMUSG00000024049    ENSMUST00000073211      Myom1  MGI:1341430   \n",
      "3    ENSMUSG00000024049    ENSMUST00000179759      Myom1  MGI:1341430   \n",
      "4    ENSMUSG00000024048    ENSMUST00000148960     Myl12a  MGI:1914518   \n",
      "5    ENSMUSG00000024048    ENSMUST00000148960     Myl12a  MGI:1914518   \n",
      "6    ENSMUSG00000024048    ENSMUST00000024846     Myl12a  MGI:1914518   \n",
      "7    ENSMUSG00000024048    ENSMUST00000024846     Myl12a  MGI:1914518   \n",
      "8    ENSMUSG00000024048    ENSMUST00000126529     Myl12a  MGI:1914518   \n",
      "9    ENSMUSG00000024048    ENSMUST00000126529     Myl12a  MGI:1914518   \n",
      "10   ENSMUSG00000024048    ENSMUST00000123686     Myl12a  MGI:1914518   \n",
      "11   ENSMUSG00000024048    ENSMUST00000123686     Myl12a  MGI:1914518   \n",
      "12   ENSMUSG00000024048    ENSMUST00000150456     Myl12a  MGI:1914518   \n",
      "13   ENSMUSG00000024048    ENSMUST00000150456     Myl12a  MGI:1914518   \n",
      "14   ENSMUSG00000024048    ENSMUST00000129093     Myl12a  MGI:1914518   \n",
      "15   ENSMUSG00000024048    ENSMUST00000129093     Myl12a  MGI:1914518   \n",
      "16   ENSMUSG00000024048    ENSMUST00000128179     Myl12a  MGI:1914518   \n",
      "17   ENSMUSG00000024048    ENSMUST00000128179     Myl12a  MGI:1914518   \n",
      "18   ENSMUSG00000024052    ENSMUST00000142842      Lpin2  MGI:1891341   \n",
      "19   ENSMUSG00000024052    ENSMUST00000142842      Lpin2  MGI:1891341   \n",
      "20   ENSMUSG00000024052    ENSMUST00000142842      Lpin2  MGI:1891341   \n",
      "21   ENSMUSG00000024052    ENSMUST00000142842      Lpin2  MGI:1891341   \n",
      "22   ENSMUSG00000024052    ENSMUST00000142842      Lpin2  MGI:1891341   \n",
      "23   ENSMUSG00000024052    ENSMUST00000142842      Lpin2  MGI:1891341   \n",
      "24   ENSMUSG00000024052    ENSMUST00000142842      Lpin2  MGI:1891341   \n",
      "25   ENSMUSG00000024052    ENSMUST00000142842      Lpin2  MGI:1891341   \n",
      "26   ENSMUSG00000024052    ENSMUST00000142842      Lpin2  MGI:1891341   \n",
      "27   ENSMUSG00000024052    ENSMUST00000142842      Lpin2  MGI:1891341   \n",
      "28   ENSMUSG00000024052    ENSMUST00000142842      Lpin2  MGI:1891341   \n",
      "29   ENSMUSG00000024052    ENSMUST00000142842      Lpin2  MGI:1891341   \n",
      "..                  ...                   ...        ...          ...   \n",
      "356  ENSMUSG00000024054    ENSMUST00000183046     Smchd1  MGI:1921605   \n",
      "357  ENSMUSG00000024054    ENSMUST00000183046     Smchd1  MGI:1921605   \n",
      "358  ENSMUSG00000024054    ENSMUST00000183046     Smchd1  MGI:1921605   \n",
      "359  ENSMUSG00000024054    ENSMUST00000183046     Smchd1  MGI:1921605   \n",
      "360  ENSMUSG00000024054    ENSMUST00000182747     Smchd1  MGI:1921605   \n",
      "361  ENSMUSG00000024054    ENSMUST00000182747     Smchd1  MGI:1921605   \n",
      "362  ENSMUSG00000024054    ENSMUST00000182747     Smchd1  MGI:1921605   \n",
      "363  ENSMUSG00000024054    ENSMUST00000182747     Smchd1  MGI:1921605   \n",
      "364  ENSMUSG00000024054    ENSMUST00000182747     Smchd1  MGI:1921605   \n",
      "365  ENSMUSG00000024054    ENSMUST00000182747     Smchd1  MGI:1921605   \n",
      "366  ENSMUSG00000024054    ENSMUST00000182747     Smchd1  MGI:1921605   \n",
      "367  ENSMUSG00000024054    ENSMUST00000182747     Smchd1  MGI:1921605   \n",
      "368  ENSMUSG00000103558    ENSMUST00000195774    Gm38220  MGI:5611448   \n",
      "369  ENSMUSG00000055471    ENSMUST00000086639        Alk   MGI:103305   \n",
      "370  ENSMUSG00000055471    ENSMUST00000086639        Alk   MGI:103305   \n",
      "371  ENSMUSG00000055471    ENSMUST00000086639        Alk   MGI:103305   \n",
      "372  ENSMUSG00000055471    ENSMUST00000086639        Alk   MGI:103305   \n",
      "373  ENSMUSG00000055471    ENSMUST00000086639        Alk   MGI:103305   \n",
      "374  ENSMUSG00000055471    ENSMUST00000086639        Alk   MGI:103305   \n",
      "375  ENSMUSG00000055471    ENSMUST00000086639        Alk   MGI:103305   \n",
      "376  ENSMUSG00000055471    ENSMUST00000086639        Alk   MGI:103305   \n",
      "377  ENSMUSG00000055471    ENSMUST00000086639        Alk   MGI:103305   \n",
      "378  ENSMUSG00000055471    ENSMUST00000086639        Alk   MGI:103305   \n",
      "379  ENSMUSG00000055471    ENSMUST00000086639        Alk   MGI:103305   \n",
      "380  ENSMUSG00000055471    ENSMUST00000086639        Alk   MGI:103305   \n",
      "381  ENSMUSG00000055471    ENSMUST00000086639        Alk   MGI:103305   \n",
      "382  ENSMUSG00000055471    ENSMUST00000086639        Alk   MGI:103305   \n",
      "383  ENSMUSG00000055471    ENSMUST00000086639        Alk   MGI:103305   \n",
      "384  ENSMUSG00000055471    ENSMUST00000086639        Alk   MGI:103305   \n",
      "385  ENSMUSG00000055471    ENSMUST00000086639        Alk   MGI:103305   \n",
      "\n",
      "                                 Phenotype description  \n",
      "0                                                  NaN  \n",
      "1                                                  NaN  \n",
      "2                                                  NaN  \n",
      "3                                                  NaN  \n",
      "4                 protein targeting to plasma membrane  \n",
      "5                             regulation of cell shape  \n",
      "6                 protein targeting to plasma membrane  \n",
      "7                             regulation of cell shape  \n",
      "8                 protein targeting to plasma membrane  \n",
      "9                             regulation of cell shape  \n",
      "10                protein targeting to plasma membrane  \n",
      "11                            regulation of cell shape  \n",
      "12                protein targeting to plasma membrane  \n",
      "13                            regulation of cell shape  \n",
      "14                protein targeting to plasma membrane  \n",
      "15                            regulation of cell shape  \n",
      "16                protein targeting to plasma membrane  \n",
      "17                            regulation of cell shape  \n",
      "18                            decreased lean body mass  \n",
      "19          decreased fasted circulating glucose level  \n",
      "20                                              anemia  \n",
      "21                     abnormal erythrocyte morphology  \n",
      "22                                    impaired balance  \n",
      "23         increased red blood cell distribution width  \n",
      "24                  increased liver triglyceride level  \n",
      "25             abnormal cerebellar Purkinje cell layer  \n",
      "26                    decreased eosinophil cell number  \n",
      "27                                      thrombocytosis  \n",
      "28                      increased mean platelet volume  \n",
      "29                     decreased total body fat amount  \n",
      "..                                                 ...  \n",
      "356        abnormal maternal decidual layer morphology  \n",
      "357              abnormal trophoblast layer morphology  \n",
      "358         abnormal trophoblast giant cell morphology  \n",
      "359                                abnormal imprinting  \n",
      "360  dosage compensation by inactivation of X chrom...  \n",
      "361    inactivation of X chromosome by DNA methylation  \n",
      "362  embryonic lethality during organogenesis incom...  \n",
      "363                           abnormal DNA methylation  \n",
      "364        abnormal maternal decidual layer morphology  \n",
      "365              abnormal trophoblast layer morphology  \n",
      "366         abnormal trophoblast giant cell morphology  \n",
      "367                                abnormal imprinting  \n",
      "368                                                NaN  \n",
      "369                            Sertoli cell hypoplasia  \n",
      "370           decreased circulating testosterone level  \n",
      "371                                       small testis  \n",
      "372                         increased testis apoptosis  \n",
      "373                    abnormal hypothalamus secretion  \n",
      "374                             delayed male fertility  \n",
      "375                          delayed sexual maturation  \n",
      "376                         slow postnatal weight gain  \n",
      "377                 delayed balanopreputial separation  \n",
      "378            abnormal seminiferous tubule morphology  \n",
      "379                              decreased body weight  \n",
      "380                 abnormal male germ cell morphology  \n",
      "381                            decreased testis weight  \n",
      "382                              abnormal sperm number  \n",
      "383                   abnormal hypothalamus morphology  \n",
      "384                      increased alcohol consumption  \n",
      "385            enhanced behavioral response to alcohol  \n",
      "\n",
      "[386 rows x 5 columns]], [       Ensembl Gene ID Ensembl Transcript ID     MGI symbol       MGI ID  \\\n",
      "0   ENSMUSG00000096919    ENSMUST00000180684        Gm26775  MGI:5477269   \n",
      "1   ENSMUSG00000025666    ENSMUST00000026760         Tmem47  MGI:2177570   \n",
      "2   ENSMUSG00000025666    ENSMUST00000150052         Tmem47  MGI:2177570   \n",
      "3   ENSMUSG00000025666    ENSMUST00000171953         Tmem47  MGI:2177570   \n",
      "4   ENSMUSG00000082319    ENSMUST00000118948         Gm8822  MGI:3648640   \n",
      "5   ENSMUSG00000052372    ENSMUST00000113966       Il1rapl1  MGI:2687319   \n",
      "6   ENSMUSG00000052372    ENSMUST00000113966       Il1rapl1  MGI:2687319   \n",
      "7   ENSMUSG00000052372    ENSMUST00000113966       Il1rapl1  MGI:2687319   \n",
      "8   ENSMUSG00000052372    ENSMUST00000113964       Il1rapl1  MGI:2687319   \n",
      "9   ENSMUSG00000052372    ENSMUST00000113964       Il1rapl1  MGI:2687319   \n",
      "10  ENSMUSG00000052372    ENSMUST00000113964       Il1rapl1  MGI:2687319   \n",
      "11  ENSMUSG00000052372    ENSMUST00000078875       Il1rapl1  MGI:2687319   \n",
      "12  ENSMUSG00000052372    ENSMUST00000078875       Il1rapl1  MGI:2687319   \n",
      "13  ENSMUSG00000052372    ENSMUST00000078875       Il1rapl1  MGI:2687319   \n",
      "14  ENSMUSG00000095818    ENSMUST00000178831        Gm24954  MGI:5454731   \n",
      "15  ENSMUSG00000100506    ENSMUST00000188967      Nanog-ps1  MGI:3051568   \n",
      "16  ENSMUSG00000035387    ENSMUST00000088146  4930415L06Rik  MGI:3588286   \n",
      "\n",
      "                        Phenotype description  \n",
      "0                                         NaN  \n",
      "1                                         NaN  \n",
      "2                                         NaN  \n",
      "3                                         NaN  \n",
      "4                                         NaN  \n",
      "5         abnormal cerebellar molecular layer  \n",
      "6          abnormal CNS synaptic transmission  \n",
      "7   abnormal inhibitory postsynaptic currents  \n",
      "8         abnormal cerebellar molecular layer  \n",
      "9          abnormal CNS synaptic transmission  \n",
      "10  abnormal inhibitory postsynaptic currents  \n",
      "11        abnormal cerebellar molecular layer  \n",
      "12         abnormal CNS synaptic transmission  \n",
      "13  abnormal inhibitory postsynaptic currents  \n",
      "14                                        NaN  \n",
      "15                                        NaN  \n",
      "16                                        NaN  ], [        Ensembl Gene ID Ensembl Transcript ID     MGI symbol       MGI ID  \\\n",
      "0    ENSMUSG00000093178    ENSMUST00000175437        Snord87  MGI:2387894   \n",
      "1    ENSMUSG00000095780    ENSMUST00000179194        Gm24674  MGI:5454451   \n",
      "2    ENSMUSG00000087199    ENSMUST00000134692        Gm15818  MGI:3801960   \n",
      "3    ENSMUSG00000104025    ENSMUST00000192299  E330040D14Rik  MGI:3649088   \n",
      "4    ENSMUSG00000025916    ENSMUST00000147000        Ppp1r42  MGI:1921138   \n",
      "5    ENSMUSG00000025916    ENSMUST00000124874        Ppp1r42  MGI:1921138   \n",
      "6    ENSMUSG00000025916    ENSMUST00000027049        Ppp1r42  MGI:1921138   \n",
      "7    ENSMUSG00000025916    ENSMUST00000130102        Ppp1r42  MGI:1921138   \n",
      "8    ENSMUSG00000025916    ENSMUST00000176398        Ppp1r42  MGI:1921138   \n",
      "9    ENSMUSG00000025916    ENSMUST00000155163        Ppp1r42  MGI:1921138   \n",
      "10   ENSMUSG00000099032    ENSMUST00000185184          Tcf24  MGI:3780500   \n",
      "11   ENSMUSG00000099032    ENSMUST00000097824          Tcf24  MGI:3780500   \n",
      "12   ENSMUSG00000025917    ENSMUST00000027050          Cops5  MGI:1349415   \n",
      "13   ENSMUSG00000025917    ENSMUST00000027050          Cops5  MGI:1349415   \n",
      "14   ENSMUSG00000025917    ENSMUST00000027050          Cops5  MGI:1349415   \n",
      "15   ENSMUSG00000025917    ENSMUST00000027050          Cops5  MGI:1349415   \n",
      "16   ENSMUSG00000025917    ENSMUST00000027050          Cops5  MGI:1349415   \n",
      "17   ENSMUSG00000025917    ENSMUST00000027050          Cops5  MGI:1349415   \n",
      "18   ENSMUSG00000025917    ENSMUST00000027050          Cops5  MGI:1349415   \n",
      "19   ENSMUSG00000025917    ENSMUST00000027050          Cops5  MGI:1349415   \n",
      "20   ENSMUSG00000025917    ENSMUST00000027050          Cops5  MGI:1349415   \n",
      "21   ENSMUSG00000025917    ENSMUST00000027050          Cops5  MGI:1349415   \n",
      "22   ENSMUSG00000025917    ENSMUST00000027050          Cops5  MGI:1349415   \n",
      "23   ENSMUSG00000025917    ENSMUST00000027050          Cops5  MGI:1349415   \n",
      "24   ENSMUSG00000025917    ENSMUST00000027050          Cops5  MGI:1349415   \n",
      "25   ENSMUSG00000025917    ENSMUST00000027050          Cops5  MGI:1349415   \n",
      "26   ENSMUSG00000025917    ENSMUST00000027050          Cops5  MGI:1349415   \n",
      "27   ENSMUSG00000025917    ENSMUST00000027050          Cops5  MGI:1349415   \n",
      "28   ENSMUSG00000025917    ENSMUST00000190155          Cops5  MGI:1349415   \n",
      "29   ENSMUSG00000025917    ENSMUST00000190155          Cops5  MGI:1349415   \n",
      "..                  ...                   ...            ...          ...   \n",
      "751  ENSMUSG00000048960    ENSMUST00000187745          Prex2  MGI:1923385   \n",
      "752  ENSMUSG00000048960    ENSMUST00000187745          Prex2  MGI:1923385   \n",
      "753  ENSMUSG00000048960    ENSMUST00000187745          Prex2  MGI:1923385   \n",
      "754  ENSMUSG00000048960    ENSMUST00000189385          Prex2  MGI:1923385   \n",
      "755  ENSMUSG00000048960    ENSMUST00000189385          Prex2  MGI:1923385   \n",
      "756  ENSMUSG00000048960    ENSMUST00000189385          Prex2  MGI:1923385   \n",
      "757  ENSMUSG00000048960    ENSMUST00000189385          Prex2  MGI:1923385   \n",
      "758  ENSMUSG00000048960    ENSMUST00000189385          Prex2  MGI:1923385   \n",
      "759  ENSMUSG00000048960    ENSMUST00000189385          Prex2  MGI:1923385   \n",
      "760  ENSMUSG00000048960    ENSMUST00000189385          Prex2  MGI:1923385   \n",
      "761  ENSMUSG00000048960    ENSMUST00000189385          Prex2  MGI:1923385   \n",
      "762  ENSMUSG00000048960    ENSMUST00000189385          Prex2  MGI:1923385   \n",
      "763  ENSMUSG00000048960    ENSMUST00000189385          Prex2  MGI:1923385   \n",
      "764  ENSMUSG00000048960    ENSMUST00000189385          Prex2  MGI:1923385   \n",
      "765  ENSMUSG00000048960    ENSMUST00000189385          Prex2  MGI:1923385   \n",
      "766  ENSMUSG00000048960    ENSMUST00000189385          Prex2  MGI:1923385   \n",
      "767  ENSMUSG00000048960    ENSMUST00000188154          Prex2  MGI:1923385   \n",
      "768  ENSMUSG00000048960    ENSMUST00000188154          Prex2  MGI:1923385   \n",
      "769  ENSMUSG00000048960    ENSMUST00000188154          Prex2  MGI:1923385   \n",
      "770  ENSMUSG00000048960    ENSMUST00000188154          Prex2  MGI:1923385   \n",
      "771  ENSMUSG00000048960    ENSMUST00000188154          Prex2  MGI:1923385   \n",
      "772  ENSMUSG00000048960    ENSMUST00000188154          Prex2  MGI:1923385   \n",
      "773  ENSMUSG00000048960    ENSMUST00000188154          Prex2  MGI:1923385   \n",
      "774  ENSMUSG00000048960    ENSMUST00000188154          Prex2  MGI:1923385   \n",
      "775  ENSMUSG00000048960    ENSMUST00000188154          Prex2  MGI:1923385   \n",
      "776  ENSMUSG00000048960    ENSMUST00000188154          Prex2  MGI:1923385   \n",
      "777  ENSMUSG00000048960    ENSMUST00000188154          Prex2  MGI:1923385   \n",
      "778  ENSMUSG00000048960    ENSMUST00000188154          Prex2  MGI:1923385   \n",
      "779  ENSMUSG00000048960    ENSMUST00000188154          Prex2  MGI:1923385   \n",
      "780  ENSMUSG00000101827    ENSMUST00000187404        Gm28686  MGI:5579392   \n",
      "\n",
      "                                 Phenotype description  \n",
      "0                                                  NaN  \n",
      "1                                                  NaN  \n",
      "2                                                  NaN  \n",
      "3                                                  NaN  \n",
      "4                                                  NaN  \n",
      "5                                                  NaN  \n",
      "6                                                  NaN  \n",
      "7                                                  NaN  \n",
      "8                                                  NaN  \n",
      "9                                                  NaN  \n",
      "10                                                 NaN  \n",
      "11                                                 NaN  \n",
      "12      regulation of cell cycle G2/M phase transition  \n",
      "13   embryonic lethality between implantation and s...  \n",
      "14                     spontaneous chromosome breakage  \n",
      "15                             embryonic growth arrest  \n",
      "16                        embryonic growth retardation  \n",
      "17             decreased inner cell mass proliferation  \n",
      "18                    abnormal egg cylinder morphology  \n",
      "19                                 abnormal DNA repair  \n",
      "20           increased embryonic tissue cell apoptosis  \n",
      "21                  abnormal inner cell mass apoptosis  \n",
      "22                               decreased embryo size  \n",
      "23       abnormal trophoblast giant cell proliferation  \n",
      "24                        inner cell mass degeneration  \n",
      "25                absent inner cell mass proliferation  \n",
      "26                               failure to gastrulate  \n",
      "27                      no abnormal phenotype detected  \n",
      "28      regulation of cell cycle G2/M phase transition  \n",
      "29   embryonic lethality between implantation and s...  \n",
      "..                                                 ...  \n",
      "751                              impaired coordination  \n",
      "752                                      limb grasping  \n",
      "753                                short stride length  \n",
      "754                          adult locomotory behavior  \n",
      "755                             dendrite morphogenesis  \n",
      "756  positive regulation of phosphatidylinositol 3-...  \n",
      "757                                 insulin resistance  \n",
      "758                         impaired glucose tolerance  \n",
      "759                increased circulating glucose level  \n",
      "760                                       hypoactivity  \n",
      "761                           increased startle reflex  \n",
      "762                              decreased body weight  \n",
      "763         abnormal Purkinje cell dendrite morphology  \n",
      "764                              impaired coordination  \n",
      "765                                      limb grasping  \n",
      "766                                short stride length  \n",
      "767                          adult locomotory behavior  \n",
      "768                             dendrite morphogenesis  \n",
      "769  positive regulation of phosphatidylinositol 3-...  \n",
      "770                                 insulin resistance  \n",
      "771                         impaired glucose tolerance  \n",
      "772                increased circulating glucose level  \n",
      "773                                       hypoactivity  \n",
      "774                           increased startle reflex  \n",
      "775                              decreased body weight  \n",
      "776         abnormal Purkinje cell dendrite morphology  \n",
      "777                              impaired coordination  \n",
      "778                                      limb grasping  \n",
      "779                                short stride length  \n",
      "780                                                NaN  \n",
      "\n",
      "[781 rows x 5 columns]], [        Ensembl Gene ID Ensembl Transcript ID MGI symbol       MGI ID  \\\n",
      "0    ENSMUSG00000088614    ENSMUST00000157989    Gm26001  MGI:5455778   \n",
      "1    ENSMUSG00000007872    ENSMUST00000008016        Id3    MGI:96398   \n",
      "2    ENSMUSG00000007872    ENSMUST00000008016        Id3    MGI:96398   \n",
      "3    ENSMUSG00000007872    ENSMUST00000008016        Id3    MGI:96398   \n",
      "4    ENSMUSG00000007872    ENSMUST00000008016        Id3    MGI:96398   \n",
      "5    ENSMUSG00000007872    ENSMUST00000008016        Id3    MGI:96398   \n",
      "6    ENSMUSG00000007872    ENSMUST00000008016        Id3    MGI:96398   \n",
      "7    ENSMUSG00000007872    ENSMUST00000008016        Id3    MGI:96398   \n",
      "8    ENSMUSG00000007872    ENSMUST00000008016        Id3    MGI:96398   \n",
      "9    ENSMUSG00000007872    ENSMUST00000008016        Id3    MGI:96398   \n",
      "10   ENSMUSG00000007872    ENSMUST00000008016        Id3    MGI:96398   \n",
      "11   ENSMUSG00000007872    ENSMUST00000008016        Id3    MGI:96398   \n",
      "12   ENSMUSG00000007872    ENSMUST00000008016        Id3    MGI:96398   \n",
      "13   ENSMUSG00000007872    ENSMUST00000008016        Id3    MGI:96398   \n",
      "14   ENSMUSG00000007872    ENSMUST00000008016        Id3    MGI:96398   \n",
      "15   ENSMUSG00000007872    ENSMUST00000008016        Id3    MGI:96398   \n",
      "16   ENSMUSG00000007872    ENSMUST00000008016        Id3    MGI:96398   \n",
      "17   ENSMUSG00000007872    ENSMUST00000008016        Id3    MGI:96398   \n",
      "18   ENSMUSG00000007872    ENSMUST00000008016        Id3    MGI:96398   \n",
      "19   ENSMUSG00000007872    ENSMUST00000151001        Id3    MGI:96398   \n",
      "20   ENSMUSG00000007872    ENSMUST00000151001        Id3    MGI:96398   \n",
      "21   ENSMUSG00000007872    ENSMUST00000151001        Id3    MGI:96398   \n",
      "22   ENSMUSG00000007872    ENSMUST00000151001        Id3    MGI:96398   \n",
      "23   ENSMUSG00000007872    ENSMUST00000151001        Id3    MGI:96398   \n",
      "24   ENSMUSG00000007872    ENSMUST00000151001        Id3    MGI:96398   \n",
      "25   ENSMUSG00000007872    ENSMUST00000151001        Id3    MGI:96398   \n",
      "26   ENSMUSG00000007872    ENSMUST00000151001        Id3    MGI:96398   \n",
      "27   ENSMUSG00000007872    ENSMUST00000151001        Id3    MGI:96398   \n",
      "28   ENSMUSG00000007872    ENSMUST00000151001        Id3    MGI:96398   \n",
      "29   ENSMUSG00000007872    ENSMUST00000151001        Id3    MGI:96398   \n",
      "..                  ...                   ...        ...          ...   \n",
      "710  ENSMUSG00000057530    ENSMUST00000129607       Ece1  MGI:1101357   \n",
      "711  ENSMUSG00000057530    ENSMUST00000129607       Ece1  MGI:1101357   \n",
      "712  ENSMUSG00000057530    ENSMUST00000129607       Ece1  MGI:1101357   \n",
      "713  ENSMUSG00000057530    ENSMUST00000129607       Ece1  MGI:1101357   \n",
      "714  ENSMUSG00000057530    ENSMUST00000129607       Ece1  MGI:1101357   \n",
      "715  ENSMUSG00000057530    ENSMUST00000129607       Ece1  MGI:1101357   \n",
      "716  ENSMUSG00000057530    ENSMUST00000129607       Ece1  MGI:1101357   \n",
      "717  ENSMUSG00000057530    ENSMUST00000129607       Ece1  MGI:1101357   \n",
      "718  ENSMUSG00000057530    ENSMUST00000129607       Ece1  MGI:1101357   \n",
      "719  ENSMUSG00000057530    ENSMUST00000129607       Ece1  MGI:1101357   \n",
      "720  ENSMUSG00000057530    ENSMUST00000129607       Ece1  MGI:1101357   \n",
      "721  ENSMUSG00000057530    ENSMUST00000129607       Ece1  MGI:1101357   \n",
      "722  ENSMUSG00000057530    ENSMUST00000129607       Ece1  MGI:1101357   \n",
      "723  ENSMUSG00000057530    ENSMUST00000129607       Ece1  MGI:1101357   \n",
      "724  ENSMUSG00000057530    ENSMUST00000129607       Ece1  MGI:1101357   \n",
      "725  ENSMUSG00000057530    ENSMUST00000129607       Ece1  MGI:1101357   \n",
      "726  ENSMUSG00000057530    ENSMUST00000129607       Ece1  MGI:1101357   \n",
      "727  ENSMUSG00000057530    ENSMUST00000129607       Ece1  MGI:1101357   \n",
      "728  ENSMUSG00000057530    ENSMUST00000129607       Ece1  MGI:1101357   \n",
      "729  ENSMUSG00000057530    ENSMUST00000129607       Ece1  MGI:1101357   \n",
      "730  ENSMUSG00000057530    ENSMUST00000129607       Ece1  MGI:1101357   \n",
      "731  ENSMUSG00000057530    ENSMUST00000129607       Ece1  MGI:1101357   \n",
      "732  ENSMUSG00000057530    ENSMUST00000129607       Ece1  MGI:1101357   \n",
      "733  ENSMUSG00000057530    ENSMUST00000129607       Ece1  MGI:1101357   \n",
      "734  ENSMUSG00000057530    ENSMUST00000129607       Ece1  MGI:1101357   \n",
      "735  ENSMUSG00000057530    ENSMUST00000129607       Ece1  MGI:1101357   \n",
      "736  ENSMUSG00000057530    ENSMUST00000129607       Ece1  MGI:1101357   \n",
      "737  ENSMUSG00000057530    ENSMUST00000129607       Ece1  MGI:1101357   \n",
      "738  ENSMUSG00000057530    ENSMUST00000129607       Ece1  MGI:1101357   \n",
      "739  ENSMUSG00000057530    ENSMUST00000129607       Ece1  MGI:1101357   \n",
      "\n",
      "                                 Phenotype description  \n",
      "0                                                  NaN  \n",
      "1      negative regulation of myoblast differentiation  \n",
      "2                           facial nucleus development  \n",
      "3            increased T follicular helper cell number  \n",
      "4                           abnormal T cell physiology  \n",
      "5                       decreased immunoglobulin level  \n",
      "6                           decreased thymocyte number  \n",
      "7           abnormal double-positive T cell morphology  \n",
      "8                      abnormal T cell differentiation  \n",
      "9                                 decreased salivation  \n",
      "10                           decreased tear production  \n",
      "11                  abnormal lacrimal gland morphology  \n",
      "12                             abnormal eye morphology  \n",
      "13                         salivary gland inflammation  \n",
      "14                         lacrimal gland inflammation  \n",
      "15                        increased autoantibody level  \n",
      "16                 increased gamma-delta T cell number  \n",
      "17                      decreased B cell proliferation  \n",
      "18                             increased B cell number  \n",
      "19     negative regulation of myoblast differentiation  \n",
      "20                          facial nucleus development  \n",
      "21           increased T follicular helper cell number  \n",
      "22                          abnormal T cell physiology  \n",
      "23                      decreased immunoglobulin level  \n",
      "24                          decreased thymocyte number  \n",
      "25          abnormal double-positive T cell morphology  \n",
      "26                     abnormal T cell differentiation  \n",
      "27                                decreased salivation  \n",
      "28                           decreased tear production  \n",
      "29                  abnormal lacrimal gland morphology  \n",
      "..                                                 ...  \n",
      "710             abnormal choroid melanocyte morphology  \n",
      "711             abnormal submandibular duct morphology  \n",
      "712                                       absent incus  \n",
      "713                abnormal styloid process morphology  \n",
      "714              abnormal Harderian gland pigmentation  \n",
      "715                         persistent cervical thymus  \n",
      "716            decreased atrioventricular cushion size  \n",
      "717  embryonic lethality during organogenesis incom...  \n",
      "718                                 thyroid hypoplasia  \n",
      "719                       abnormal skeleton morphology  \n",
      "720                               pericardial effusion  \n",
      "721                         absent middle ear ossicles  \n",
      "722                          absent Meckel's cartilage  \n",
      "723                           palatine bone hypoplasia  \n",
      "724                                     absent malleus  \n",
      "725                             parathyroid hypoplasia  \n",
      "726                                      absent tongue  \n",
      "727                                     enlarged heart  \n",
      "728                              abnormal vasodilation  \n",
      "729                     absent external auditory canal  \n",
      "730                     absent right subclavian artery  \n",
      "731           abnormal epidermal melanocyte morphology  \n",
      "732                          ventricular septal defect  \n",
      "733                                      absent stapes  \n",
      "734                               absent tympanic ring  \n",
      "735                                mandible hypoplasia  \n",
      "736                                    hydrops fetalis  \n",
      "737                        alisphenoid bone hypoplasia  \n",
      "738                 abnormal squamosal bone morphology  \n",
      "739                            interrupted aortic arch  \n",
      "\n",
      "[740 rows x 5 columns]]]\n"
     ]
    }
   ],
   "source": [
    "biochem_final_genes = identify_candidate_genes_sheet(Biochemistry_result_list, genotype_df)\n",
    "print(biochem_final_genes)"
   ]
  },
  {
   "cell_type": "code",
   "execution_count": 114,
   "metadata": {
    "collapsed": false,
    "scrolled": true
   },
   "outputs": [
    {
     "name": "stdout",
     "output_type": "stream",
     "text": [
      "Getting possible candidate genes from 2 interesting genes.\n",
      "Done.\n",
      "[[       Ensembl Gene ID Ensembl Transcript ID MGI symbol       MGI ID  \\\n",
      "0   ENSMUSG00000097720    ENSMUST00000180561    Gm26849  MGI:5477343   \n",
      "1   ENSMUSG00000077660    ENSMUST00000104472    Gm24257  MGI:5454034   \n",
      "2   ENSMUSG00000032220    ENSMUST00000034745      Myo1e   MGI:106621   \n",
      "3   ENSMUSG00000032220    ENSMUST00000034745      Myo1e   MGI:106621   \n",
      "4   ENSMUSG00000032220    ENSMUST00000034745      Myo1e   MGI:106621   \n",
      "5   ENSMUSG00000032220    ENSMUST00000034745      Myo1e   MGI:106621   \n",
      "6   ENSMUSG00000032220    ENSMUST00000034745      Myo1e   MGI:106621   \n",
      "7   ENSMUSG00000032220    ENSMUST00000034745      Myo1e   MGI:106621   \n",
      "8   ENSMUSG00000032220    ENSMUST00000034745      Myo1e   MGI:106621   \n",
      "9   ENSMUSG00000032220    ENSMUST00000034745      Myo1e   MGI:106621   \n",
      "10  ENSMUSG00000032220    ENSMUST00000034745      Myo1e   MGI:106621   \n",
      "11  ENSMUSG00000032220    ENSMUST00000034745      Myo1e   MGI:106621   \n",
      "12  ENSMUSG00000032220    ENSMUST00000034745      Myo1e   MGI:106621   \n",
      "13  ENSMUSG00000032220    ENSMUST00000034745      Myo1e   MGI:106621   \n",
      "14  ENSMUSG00000032220    ENSMUST00000034745      Myo1e   MGI:106621   \n",
      "15  ENSMUSG00000032220    ENSMUST00000034745      Myo1e   MGI:106621   \n",
      "16  ENSMUSG00000032220    ENSMUST00000034745      Myo1e   MGI:106621   \n",
      "17  ENSMUSG00000032220    ENSMUST00000034745      Myo1e   MGI:106621   \n",
      "18  ENSMUSG00000032220    ENSMUST00000034745      Myo1e   MGI:106621   \n",
      "19  ENSMUSG00000032220    ENSMUST00000034745      Myo1e   MGI:106621   \n",
      "20  ENSMUSG00000032220    ENSMUST00000034745      Myo1e   MGI:106621   \n",
      "21  ENSMUSG00000032220    ENSMUST00000034745      Myo1e   MGI:106621   \n",
      "22  ENSMUSG00000032220    ENSMUST00000034745      Myo1e   MGI:106621   \n",
      "23  ENSMUSG00000032220    ENSMUST00000034745      Myo1e   MGI:106621   \n",
      "24  ENSMUSG00000032220    ENSMUST00000034745      Myo1e   MGI:106621   \n",
      "25  ENSMUSG00000032220    ENSMUST00000034745      Myo1e   MGI:106621   \n",
      "26  ENSMUSG00000032220    ENSMUST00000034745      Myo1e   MGI:106621   \n",
      "27  ENSMUSG00000032220    ENSMUST00000034745      Myo1e   MGI:106621   \n",
      "28  ENSMUSG00000032220    ENSMUST00000034745      Myo1e   MGI:106621   \n",
      "29  ENSMUSG00000032220    ENSMUST00000034745      Myo1e   MGI:106621   \n",
      "..                 ...                   ...        ...          ...   \n",
      "32  ENSMUSG00000032220    ENSMUST00000034745      Myo1e   MGI:106621   \n",
      "33  ENSMUSG00000032220    ENSMUST00000034745      Myo1e   MGI:106621   \n",
      "34  ENSMUSG00000032220    ENSMUST00000034745      Myo1e   MGI:106621   \n",
      "35  ENSMUSG00000032220    ENSMUST00000034745      Myo1e   MGI:106621   \n",
      "36  ENSMUSG00000032220    ENSMUST00000034745      Myo1e   MGI:106621   \n",
      "37  ENSMUSG00000032220    ENSMUST00000034745      Myo1e   MGI:106621   \n",
      "38  ENSMUSG00000032220    ENSMUST00000034745      Myo1e   MGI:106621   \n",
      "39  ENSMUSG00000032220    ENSMUST00000034745      Myo1e   MGI:106621   \n",
      "40  ENSMUSG00000032220    ENSMUST00000034745      Myo1e   MGI:106621   \n",
      "41  ENSMUSG00000032220    ENSMUST00000034745      Myo1e   MGI:106621   \n",
      "42  ENSMUSG00000032220    ENSMUST00000034745      Myo1e   MGI:106621   \n",
      "43  ENSMUSG00000032220    ENSMUST00000034745      Myo1e   MGI:106621   \n",
      "44  ENSMUSG00000032220    ENSMUST00000034745      Myo1e   MGI:106621   \n",
      "45  ENSMUSG00000032224    ENSMUST00000034749     Fam81a  MGI:1924136   \n",
      "46  ENSMUSG00000032224    ENSMUST00000141775     Fam81a  MGI:1924136   \n",
      "47  ENSMUSG00000032224    ENSMUST00000123206     Fam81a  MGI:1924136   \n",
      "48  ENSMUSG00000032224    ENSMUST00000145427     Fam81a  MGI:1924136   \n",
      "49  ENSMUSG00000032207    ENSMUST00000034731       Lipc    MGI:96216   \n",
      "50  ENSMUSG00000032207    ENSMUST00000034731       Lipc    MGI:96216   \n",
      "51  ENSMUSG00000032207    ENSMUST00000034731       Lipc    MGI:96216   \n",
      "52  ENSMUSG00000032207    ENSMUST00000034731       Lipc    MGI:96216   \n",
      "53  ENSMUSG00000032207    ENSMUST00000034731       Lipc    MGI:96216   \n",
      "54  ENSMUSG00000032207    ENSMUST00000034731       Lipc    MGI:96216   \n",
      "55  ENSMUSG00000032207    ENSMUST00000034731       Lipc    MGI:96216   \n",
      "56  ENSMUSG00000032207    ENSMUST00000034731       Lipc    MGI:96216   \n",
      "57  ENSMUSG00000032207    ENSMUST00000034731       Lipc    MGI:96216   \n",
      "58  ENSMUSG00000032207    ENSMUST00000034731       Lipc    MGI:96216   \n",
      "59  ENSMUSG00000032207    ENSMUST00000034731       Lipc    MGI:96216   \n",
      "60  ENSMUSG00000087744    ENSMUST00000157119    Gm25149  MGI:5454926   \n",
      "61  ENSMUSG00000096160    ENSMUST00000179930     Gm3436  MGI:3781613   \n",
      "\n",
      "                                Phenotype description  \n",
      "0                                                 NaN  \n",
      "1                                                 NaN  \n",
      "2            glomerular basement membrane development  \n",
      "3                 regulation of glomerular filtration  \n",
      "4     glomerular visceral epithelial cell development  \n",
      "5                           regulation of hemopoiesis  \n",
      "6                      in utero embryonic development  \n",
      "7   mesenchymal cell differentiation involved in k...  \n",
      "8                 nitrogen compound metabolic process  \n",
      "9   negative regulation of platelet-derived growth...  \n",
      "10                         post-embryonic hemopoiesis  \n",
      "11  vasculogenesis involved in coronary vascular m...  \n",
      "12                                        pale kidney  \n",
      "13           abnormal glomerular capillary morphology  \n",
      "14                         abnormal urine homeostasis  \n",
      "15                                 polychromatophilia  \n",
      "16                  decreased erythrocyte cell number  \n",
      "17                                             anemia  \n",
      "18                                         hemorrhage  \n",
      "19                       decreased hemoglobin content  \n",
      "20                   abnormal blood vessel morphology  \n",
      "21       proximal convoluted tubule brush border loss  \n",
      "22                                        albuminuria  \n",
      "23                          expanded mesangial matrix  \n",
      "24          abnormal podocyte foot process morphology  \n",
      "25                                    enlarged kidney  \n",
      "26                increased blood urea nitrogen level  \n",
      "27                                         renal cast  \n",
      "28                        renal interstitial fibrosis  \n",
      "29           prenatal lethality incomplete penetrance  \n",
      "..                                                ...  \n",
      "32                                 glomerulosclerosis  \n",
      "33                   podocyte foot process effacement  \n",
      "34  increased renal glomerulus basement membrane t...  \n",
      "35                podocyte microvillus transformation  \n",
      "36  abnormal renal glomerulus basement membrane mo...  \n",
      "37     abnormal proximal convoluted tubule morphology  \n",
      "38                                          hematuria  \n",
      "39                                     hemoglobinuria  \n",
      "40                                       leukocyturia  \n",
      "41                            increased kidney weight  \n",
      "42          abnormal renal glomerular filtration rate  \n",
      "43               abnormal renal glomerulus morphology  \n",
      "44                      increased urine protein level  \n",
      "45                                                NaN  \n",
      "46                                                NaN  \n",
      "47                                                NaN  \n",
      "48                                                NaN  \n",
      "49                              cholesterol transport  \n",
      "50           increased circulating triglyceride level  \n",
      "51            increased circulating cholesterol level  \n",
      "52         decreased circulating corticosterone level  \n",
      "53                              decreased litter size  \n",
      "54            abnormal circulating phospholipid level  \n",
      "55        increased circulating HDL cholesterol level  \n",
      "56             abnormal circulating cholesterol level  \n",
      "57                           decreased ovulation rate  \n",
      "58            abnormal reproductive system physiology  \n",
      "59                                        small ovary  \n",
      "60                                                NaN  \n",
      "61                                                NaN  \n",
      "\n",
      "[62 rows x 5 columns]]]\n"
     ]
    }
   ],
   "source": [
    "hematology_final_genes = identify_candidate_genes_sheet(Hematology_result_list, genotype_df)\n",
    "print(hematology_final_genes)"
   ]
  },
  {
   "cell_type": "code",
   "execution_count": 115,
   "metadata": {
    "collapsed": false
   },
   "outputs": [
    {
     "name": "stdout",
     "output_type": "stream",
     "text": [
      "[]\n"
     ]
    }
   ],
   "source": [
    "nibp_final_genes = identify_candidate_genes_sheet(NIBP_result_list, genotype_df)\n",
    "print(nibp_final_genes)"
   ]
  },
  {
   "cell_type": "markdown",
   "metadata": {},
   "source": [
    "## Task: Quickly compare your results to literature"
   ]
  },
  {
   "cell_type": "code",
   "execution_count": 276,
   "metadata": {
    "collapsed": false
   },
   "outputs": [
    {
     "name": "stdout",
     "output_type": "stream",
     "text": [
      "['Lipc', 'Myo1e', 'Fam81a']\n"
     ]
    }
   ],
   "source": [
    "# get only each candidate gene only once\n",
    "candidate_genes_hematology = []\n",
    "for a in list(hematology_final_genes):\n",
    "    # get the pandas dataframe a[0] from the current list entry and all MGI symbols stored in it \n",
    "    candidate_genes_hematology = candidate_genes_hematology + list(set(a[0][\"MGI symbol\"]))\n",
    "    \n",
    "# the genes starting with Gm are not actual genes, so we ignore them:\n",
    "hematology_final_candidates = [gene_hem for gene_hem in candidate_genes_hematology if not gene_hem.startswith(\"Gm\")]\n",
    "print(hematology_final_candidates)"
   ]
  },
  {
   "cell_type": "markdown",
   "metadata": {},
   "source": [
    "Lipc: LIPC (Lipase C, Hepatic Type) is a Protein Coding gene. Hepatic lipase has the capacity to catalyze hydrolysis of phospholipids, mono-, di-, and triglycerides, and acyl-CoA thioesters. It is an important enzyme in HDL metabolism. \n",
    "\n",
    "Myo1e: This gene encodes a member of the nonmuscle class I myosins which are a subgroup of the unconventional myosin protein family. The unconventional myosin proteins function as actin-based molecular motors. \n",
    "\n",
    "Fam81a: FAM81A (Family With Sequence Similarity 81 Member A) is a Protein Coding gene."
   ]
  },
  {
   "cell_type": "code",
   "execution_count": 277,
   "metadata": {
    "collapsed": false
   },
   "outputs": [
    {
     "name": "stdout",
     "output_type": "stream",
     "text": [
      "['Lmnb1', 'Mir1258', 'Phax', 'Megf10', 'Tex43', 'March3', 'Aldh7a1', 'Myom1', 'Lpin2', 'Emilin2', 'Myl12a', 'Smchd1', 'Alk', 'Il1rapl1', 'Nanog-ps1', 'Tmem47', '4930415L06Rik', 'Ppp1r42', 'Sgk3', 'E330040D14Rik', 'Cspp1', 'Cops5', 'Tcf24', 'Snhg6', 'Mcmdc2', 'Snord87', 'Prex2', '1700047N06Rik', 'Rpl31-ps10', 'Cela3a', 'E2f2', 'Alpl', 'Rap1gapos', 'Cdc42', 'Hnrnpr', '2810405F17Rik', 'Cela3b', 'Tcea3', 'Rap1gap', 'Id3', 'Ece1', 'Zfp46', 'Wnt4', 'Asap3']\n"
     ]
    }
   ],
   "source": [
    "# get only each candidate gene only once\n",
    "candidate_genes_biochem = []\n",
    "for a in list(biochem_final_genes):\n",
    "    # get the pandas dataframe a[0] from the current list entry and all MGI symbols stored in it \n",
    "    candidate_genes_biochem = candidate_genes_biochem + list(set(a[0][\"MGI symbol\"]))\n",
    "    \n",
    "# the genes starting with Gm are not actual genes, so we ignore them:\n",
    "biochem_final_candidates = [gene_bio for gene_bio in candidate_genes_biochem if not gene_bio.startswith(\"Gm\")]\n",
    "print(biochem_final_candidates)    "
   ]
  },
  {
   "cell_type": "markdown",
   "metadata": {
    "collapsed": true
   },
   "source": [
    "Sgk3: This gene is a member of the Ser/Thr protein kinase family and encodes a phosphoprotein with a PX (phox homology) domain. The protein phosphorylates several target proteins and has a role in neutral amino acid transport and activation of potassium and chloride channels.\n",
    "\n",
    "March3: E3 ubiquitin-protein ligase which may be involved in endosomal trafficking. E3 ubiquitin ligases accept ubiquitin from an E2 ubiquitin-conjugating enzyme in the form of a thioester and then directly transfer the ubiquitin to targeted substrates\n",
    "\n",
    "Aldh7a1: The protein encoded by this gene is a member of subfamily 7 in the aldehyde dehydrogenase gene family.  These enzymes are thought to play a major role in the detoxification of aldehydes generated by alcohol metabolism and lipid peroxidation.\n",
    "\n",
    "Emilin2: May be responsible for anchoring smooth muscle cells to elastic fibers, and may be involved not only in the formation of the elastic fiber, but also in the processes that regulate vessel assembly. Has cell adhesive capacity."
   ]
  },
  {
   "cell_type": "markdown",
   "metadata": {},
   "source": [
    "## What cofounding factors may have been ignored in the current approach? How could they be incorporated?"
   ]
  },
  {
   "cell_type": "markdown",
   "metadata": {
    "collapsed": true,
    "run_control": {
     "frozen": false,
     "read_only": false
    }
   },
   "source": [
    "Splicing, gene regulation and epigenetics are all ignored in the current approach. Gene regulation could be incorporated e.g. by simple regulation and pathway models. "
   ]
  },
  {
   "cell_type": "code",
   "execution_count": null,
   "metadata": {
    "collapsed": true
   },
   "outputs": [],
   "source": []
  }
 ],
 "metadata": {
  "anaconda-cloud": {},
  "hide_input": false,
  "kernelspec": {
   "display_name": "Python [Root]",
   "language": "python",
   "name": "Python [Root]"
  },
  "language_info": {
   "codemirror_mode": {
    "name": "ipython",
    "version": 2
   },
   "file_extension": ".py",
   "mimetype": "text/x-python",
   "name": "python",
   "nbconvert_exporter": "python",
   "pygments_lexer": "ipython2",
   "version": "2.7.11"
  },
  "nav_menu": {},
  "toc": {
   "navigate_menu": true,
   "number_sections": true,
   "sideBar": false,
   "threshold": 6,
   "toc_cell": true,
   "toc_number_sections": true,
   "toc_section_display": "block",
   "toc_window_display": true
  },
  "toc_position": {
   "height": "1208px",
   "left": "1163px",
   "right": "20px",
   "top": "88px",
   "width": "600px"
  }
 },
 "nbformat": 4,
 "nbformat_minor": 0
}
