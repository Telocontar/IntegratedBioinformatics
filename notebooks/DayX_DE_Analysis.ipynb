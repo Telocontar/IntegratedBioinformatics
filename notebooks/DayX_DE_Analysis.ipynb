{
 "cells": [
  {
   "cell_type": "markdown",
   "metadata": {},
   "source": [
    "General review:\n",
    "\n",
    "https://genomebiology.biomedcentral.com/articles/10.1186/gb-2003-4-4-210\n",
    "\n",
    "(doi:10.1186/gb-2003-4-4-210)"
   ]
  },
  {
   "cell_type": "markdown",
   "metadata": {},
   "source": [
    "## Subtask 0: Download the data"
   ]
  },
  {
   "cell_type": "markdown",
   "metadata": {},
   "source": [
    "hint:\n",
    "\n",
    "http://science.sciencemag.org/highwire/filestream/680254/field_highwire_adjunct_files/5/aad0189_DataFileS5.xlsx"
   ]
  },
  {
   "cell_type": "code",
   "execution_count": 36,
   "metadata": {
    "collapsed": false
   },
   "outputs": [],
   "source": [
    "import urllib\n",
    "import numpy as np"
   ]
  },
  {
   "cell_type": "code",
   "execution_count": 2,
   "metadata": {
    "collapsed": false
   },
   "outputs": [
    {
     "data": {
      "text/plain": [
       "('data/microarray.xlsx', <httplib.HTTPMessage instance at 0x0000000003BE7908>)"
      ]
     },
     "execution_count": 2,
     "metadata": {},
     "output_type": "execute_result"
    }
   ],
   "source": [
    "urllib.urlretrieve(\"http://science.sciencemag.org/highwire/filestream/680254/field_highwire_adjunct_files/5/aad0189_DataFileS5.xlsx\", \n",
    "                   \"data/microarray.xlsx\")"
   ]
  },
  {
   "cell_type": "markdown",
   "metadata": {},
   "source": [
    "## Task 1: Data wrangling"
   ]
  },
  {
   "cell_type": "markdown",
   "metadata": {},
   "source": [
    "hint:\n",
    "\n",
    "http://www.arrayanalysis.org/main.html"
   ]
  },
  {
   "cell_type": "markdown",
   "metadata": {},
   "source": [
    "### Subtask 1.1: Read in aad0189_DataFileS5.xlsx with pandas"
   ]
  },
  {
   "cell_type": "code",
   "execution_count": 4,
   "metadata": {
    "collapsed": true
   },
   "outputs": [],
   "source": [
    "import pandas as pd"
   ]
  },
  {
   "cell_type": "code",
   "execution_count": 13,
   "metadata": {
    "collapsed": false
   },
   "outputs": [],
   "source": [
    "microarray_data = pd.read_excel(\"data/microarray.xlsx\", na_values='x', header=2)"
   ]
  },
  {
   "cell_type": "code",
   "execution_count": 19,
   "metadata": {
    "collapsed": false
   },
   "outputs": [
    {
     "data": {
      "text/html": [
       "<div>\n",
       "<table border=\"1\" class=\"dataframe\">\n",
       "  <thead>\n",
       "    <tr style=\"text-align: right;\">\n",
       "      <th></th>\n",
       "      <th>Original_Order</th>\n",
       "      <th>MATCH_ORDER</th>\n",
       "      <th>Gene</th>\n",
       "      <th>Probeset</th>\n",
       "      <th>Gene.1</th>\n",
       "      <th>Protein</th>\n",
       "      <th>Unnamed: 6</th>\n",
       "      <th>Range CD</th>\n",
       "      <th>Range HFD</th>\n",
       "      <th>Range_All</th>\n",
       "      <th>...</th>\n",
       "      <th>BXD89_Liver_HFD</th>\n",
       "      <th>BXD90_Liver_HFD</th>\n",
       "      <th>BXD95_Liver_HFD</th>\n",
       "      <th>BXD96_Liver_HFD</th>\n",
       "      <th>BXD97_Liver_HFD</th>\n",
       "      <th>BXD98_Liver_HFD</th>\n",
       "      <th>BXD99_Liver_HFD</th>\n",
       "      <th>BXD100_Liver_HFD</th>\n",
       "      <th>BXD101_Liver_HFD</th>\n",
       "      <th>BXD103_Liver_HFD</th>\n",
       "    </tr>\n",
       "  </thead>\n",
       "  <tbody>\n",
       "    <tr>\n",
       "      <th>0</th>\n",
       "      <td>12643</td>\n",
       "      <td>NaN</td>\n",
       "      <td>Igh</td>\n",
       "      <td>10403036</td>\n",
       "      <td>Igh</td>\n",
       "      <td>0</td>\n",
       "      <td>NaN</td>\n",
       "      <td>1.495886</td>\n",
       "      <td>1.720705</td>\n",
       "      <td>1.720705</td>\n",
       "      <td>...</td>\n",
       "      <td>4.959</td>\n",
       "      <td>5.483</td>\n",
       "      <td>5.347</td>\n",
       "      <td>5.087</td>\n",
       "      <td>5.125</td>\n",
       "      <td>5.160</td>\n",
       "      <td>5.020</td>\n",
       "      <td>5.170</td>\n",
       "      <td>4.775</td>\n",
       "      <td>4.982</td>\n",
       "    </tr>\n",
       "    <tr>\n",
       "      <th>1</th>\n",
       "      <td>12646</td>\n",
       "      <td>NaN</td>\n",
       "      <td>Igh</td>\n",
       "      <td>10403043</td>\n",
       "      <td>Igh</td>\n",
       "      <td>0</td>\n",
       "      <td>NaN</td>\n",
       "      <td>2.938337</td>\n",
       "      <td>1.988940</td>\n",
       "      <td>3.595021</td>\n",
       "      <td>...</td>\n",
       "      <td>7.415</td>\n",
       "      <td>7.252</td>\n",
       "      <td>7.547</td>\n",
       "      <td>7.358</td>\n",
       "      <td>7.424</td>\n",
       "      <td>7.447</td>\n",
       "      <td>7.567</td>\n",
       "      <td>7.732</td>\n",
       "      <td>7.365</td>\n",
       "      <td>7.369</td>\n",
       "    </tr>\n",
       "    <tr>\n",
       "      <th>2</th>\n",
       "      <td>12653</td>\n",
       "      <td>NaN</td>\n",
       "      <td>Igh</td>\n",
       "      <td>10403063</td>\n",
       "      <td>Igh</td>\n",
       "      <td>0</td>\n",
       "      <td>NaN</td>\n",
       "      <td>3.719220</td>\n",
       "      <td>1.859610</td>\n",
       "      <td>4.260433</td>\n",
       "      <td>...</td>\n",
       "      <td>6.665</td>\n",
       "      <td>6.948</td>\n",
       "      <td>6.999</td>\n",
       "      <td>6.974</td>\n",
       "      <td>6.886</td>\n",
       "      <td>6.876</td>\n",
       "      <td>7.027</td>\n",
       "      <td>7.093</td>\n",
       "      <td>6.748</td>\n",
       "      <td>6.771</td>\n",
       "    </tr>\n",
       "    <tr>\n",
       "      <th>3</th>\n",
       "      <td>8759</td>\n",
       "      <td>1458.0</td>\n",
       "      <td>Hcfc2</td>\n",
       "      <td>10365242</td>\n",
       "      <td>Hcfc2</td>\n",
       "      <td>A0AUN4</td>\n",
       "      <td>NaN</td>\n",
       "      <td>1.479388</td>\n",
       "      <td>1.465101</td>\n",
       "      <td>1.536875</td>\n",
       "      <td>...</td>\n",
       "      <td>9.177</td>\n",
       "      <td>9.021</td>\n",
       "      <td>8.803</td>\n",
       "      <td>8.928</td>\n",
       "      <td>8.914</td>\n",
       "      <td>8.838</td>\n",
       "      <td>9.056</td>\n",
       "      <td>8.924</td>\n",
       "      <td>8.945</td>\n",
       "      <td>8.865</td>\n",
       "    </tr>\n",
       "    <tr>\n",
       "      <th>4</th>\n",
       "      <td>18740</td>\n",
       "      <td>8191.0</td>\n",
       "      <td>Ccdc112</td>\n",
       "      <td>10458794</td>\n",
       "      <td>Ccdc112</td>\n",
       "      <td>A0AUP1</td>\n",
       "      <td>NaN</td>\n",
       "      <td>1.834008</td>\n",
       "      <td>1.943962</td>\n",
       "      <td>1.997229</td>\n",
       "      <td>...</td>\n",
       "      <td>6.623</td>\n",
       "      <td>6.371</td>\n",
       "      <td>6.187</td>\n",
       "      <td>6.310</td>\n",
       "      <td>6.448</td>\n",
       "      <td>6.531</td>\n",
       "      <td>6.167</td>\n",
       "      <td>6.401</td>\n",
       "      <td>6.470</td>\n",
       "      <td>6.565</td>\n",
       "    </tr>\n",
       "  </tbody>\n",
       "</table>\n",
       "<p>5 rows × 92 columns</p>\n",
       "</div>"
      ],
      "text/plain": [
       "   Original_Order  MATCH_ORDER     Gene  Probeset   Gene.1 Protein  \\\n",
       "0           12643          NaN      Igh  10403036      Igh       0   \n",
       "1           12646          NaN      Igh  10403043      Igh       0   \n",
       "2           12653          NaN      Igh  10403063      Igh       0   \n",
       "3            8759       1458.0    Hcfc2  10365242    Hcfc2  A0AUN4   \n",
       "4           18740       8191.0  Ccdc112  10458794  Ccdc112  A0AUP1   \n",
       "\n",
       "   Unnamed: 6  Range CD  Range HFD  Range_All        ...         \\\n",
       "0         NaN  1.495886   1.720705   1.720705        ...          \n",
       "1         NaN  2.938337   1.988940   3.595021        ...          \n",
       "2         NaN  3.719220   1.859610   4.260433        ...          \n",
       "3         NaN  1.479388   1.465101   1.536875        ...          \n",
       "4         NaN  1.834008   1.943962   1.997229        ...          \n",
       "\n",
       "   BXD89_Liver_HFD  BXD90_Liver_HFD  BXD95_Liver_HFD  BXD96_Liver_HFD  \\\n",
       "0            4.959            5.483            5.347            5.087   \n",
       "1            7.415            7.252            7.547            7.358   \n",
       "2            6.665            6.948            6.999            6.974   \n",
       "3            9.177            9.021            8.803            8.928   \n",
       "4            6.623            6.371            6.187            6.310   \n",
       "\n",
       "   BXD97_Liver_HFD  BXD98_Liver_HFD  BXD99_Liver_HFD  BXD100_Liver_HFD  \\\n",
       "0            5.125            5.160            5.020             5.170   \n",
       "1            7.424            7.447            7.567             7.732   \n",
       "2            6.886            6.876            7.027             7.093   \n",
       "3            8.914            8.838            9.056             8.924   \n",
       "4            6.448            6.531            6.167             6.401   \n",
       "\n",
       "   BXD101_Liver_HFD  BXD103_Liver_HFD  \n",
       "0             4.775             4.982  \n",
       "1             7.365             7.369  \n",
       "2             6.748             6.771  \n",
       "3             8.945             8.865  \n",
       "4             6.470             6.565  \n",
       "\n",
       "[5 rows x 92 columns]"
      ]
     },
     "execution_count": 19,
     "metadata": {},
     "output_type": "execute_result"
    }
   ],
   "source": [
    "microarray_data.head()\n",
    "#microarray_data_filtered = microarray_data.dropna(axis=1)\n",
    "#microarray_data_filtered"
   ]
  },
  {
   "cell_type": "markdown",
   "metadata": {},
   "source": [
    "### Subtask 1.2: Average over different probesets for a gene and generate a dataframe containing each gene symbol (once)  as rows and the corresponding averaged expression values for each strain + condition as columns"
   ]
  },
  {
   "cell_type": "code",
   "execution_count": 40,
   "metadata": {
    "collapsed": false
   },
   "outputs": [
    {
     "data": {
      "text/plain": [
       "nan"
      ]
     },
     "execution_count": 40,
     "metadata": {},
     "output_type": "execute_result"
    }
   ],
   "source": [
    "np.nan"
   ]
  },
  {
   "cell_type": "code",
   "execution_count": 52,
   "metadata": {
    "collapsed": false,
    "scrolled": false
   },
   "outputs": [],
   "source": [
    "mean_values = microarray_data.groupby(\"Gene\").mean()"
   ]
  },
  {
   "cell_type": "code",
   "execution_count": 54,
   "metadata": {
    "collapsed": false
   },
   "outputs": [
    {
     "data": {
      "text/html": [
       "<div>\n",
       "<table border=\"1\" class=\"dataframe\">\n",
       "  <thead>\n",
       "    <tr style=\"text-align: right;\">\n",
       "      <th></th>\n",
       "      <th>Original_Order</th>\n",
       "      <th>MATCH_ORDER</th>\n",
       "      <th>Probeset</th>\n",
       "      <th>Unnamed: 6</th>\n",
       "      <th>Range CD</th>\n",
       "      <th>Range HFD</th>\n",
       "      <th>Range_All</th>\n",
       "      <th>C57BL/6J_Liver_CD</th>\n",
       "      <th>DBA/2J_Liver_CD</th>\n",
       "      <th>BXD43_Liver_CD</th>\n",
       "      <th>...</th>\n",
       "      <th>BXD89_Liver_HFD</th>\n",
       "      <th>BXD90_Liver_HFD</th>\n",
       "      <th>BXD95_Liver_HFD</th>\n",
       "      <th>BXD96_Liver_HFD</th>\n",
       "      <th>BXD97_Liver_HFD</th>\n",
       "      <th>BXD98_Liver_HFD</th>\n",
       "      <th>BXD99_Liver_HFD</th>\n",
       "      <th>BXD100_Liver_HFD</th>\n",
       "      <th>BXD101_Liver_HFD</th>\n",
       "      <th>BXD103_Liver_HFD</th>\n",
       "    </tr>\n",
       "    <tr>\n",
       "      <th>Gene</th>\n",
       "      <th></th>\n",
       "      <th></th>\n",
       "      <th></th>\n",
       "      <th></th>\n",
       "      <th></th>\n",
       "      <th></th>\n",
       "      <th></th>\n",
       "      <th></th>\n",
       "      <th></th>\n",
       "      <th></th>\n",
       "      <th></th>\n",
       "      <th></th>\n",
       "      <th></th>\n",
       "      <th></th>\n",
       "      <th></th>\n",
       "      <th></th>\n",
       "      <th></th>\n",
       "      <th></th>\n",
       "      <th></th>\n",
       "      <th></th>\n",
       "      <th></th>\n",
       "    </tr>\n",
       "  </thead>\n",
       "  <tbody>\n",
       "    <tr>\n",
       "      <th>39872</th>\n",
       "      <td>31277.0</td>\n",
       "      <td>NaN</td>\n",
       "      <td>10572050.0</td>\n",
       "      <td>NaN</td>\n",
       "      <td>2.297397</td>\n",
       "      <td>1.496923</td>\n",
       "      <td>2.297397</td>\n",
       "      <td>7.864</td>\n",
       "      <td>7.180</td>\n",
       "      <td>7.067</td>\n",
       "      <td>...</td>\n",
       "      <td>7.538</td>\n",
       "      <td>7.707</td>\n",
       "      <td>7.491</td>\n",
       "      <td>7.923</td>\n",
       "      <td>7.601</td>\n",
       "      <td>7.780</td>\n",
       "      <td>7.597</td>\n",
       "      <td>7.679</td>\n",
       "      <td>7.666</td>\n",
       "      <td>7.725</td>\n",
       "    </tr>\n",
       "    <tr>\n",
       "      <th>39873</th>\n",
       "      <td>17826.0</td>\n",
       "      <td>NaN</td>\n",
       "      <td>10450025.0</td>\n",
       "      <td>NaN</td>\n",
       "      <td>1.458009</td>\n",
       "      <td>1.611049</td>\n",
       "      <td>1.611049</td>\n",
       "      <td>10.778</td>\n",
       "      <td>10.730</td>\n",
       "      <td>10.931</td>\n",
       "      <td>...</td>\n",
       "      <td>11.015</td>\n",
       "      <td>10.983</td>\n",
       "      <td>10.982</td>\n",
       "      <td>11.153</td>\n",
       "      <td>11.189</td>\n",
       "      <td>11.026</td>\n",
       "      <td>11.054</td>\n",
       "      <td>11.064</td>\n",
       "      <td>11.006</td>\n",
       "      <td>10.808</td>\n",
       "    </tr>\n",
       "    <tr>\n",
       "      <th>39874</th>\n",
       "      <td>18766.0</td>\n",
       "      <td>NaN</td>\n",
       "      <td>10458983.0</td>\n",
       "      <td>NaN</td>\n",
       "      <td>1.542211</td>\n",
       "      <td>1.588869</td>\n",
       "      <td>1.604362</td>\n",
       "      <td>7.527</td>\n",
       "      <td>7.754</td>\n",
       "      <td>7.533</td>\n",
       "      <td>...</td>\n",
       "      <td>7.581</td>\n",
       "      <td>7.488</td>\n",
       "      <td>7.554</td>\n",
       "      <td>7.461</td>\n",
       "      <td>7.592</td>\n",
       "      <td>7.425</td>\n",
       "      <td>7.410</td>\n",
       "      <td>7.539</td>\n",
       "      <td>7.388</td>\n",
       "      <td>7.334</td>\n",
       "    </tr>\n",
       "    <tr>\n",
       "      <th>39875</th>\n",
       "      <td>7705.0</td>\n",
       "      <td>NaN</td>\n",
       "      <td>10355474.0</td>\n",
       "      <td>NaN</td>\n",
       "      <td>1.718322</td>\n",
       "      <td>1.606588</td>\n",
       "      <td>1.772763</td>\n",
       "      <td>6.773</td>\n",
       "      <td>7.288</td>\n",
       "      <td>7.289</td>\n",
       "      <td>...</td>\n",
       "      <td>7.307</td>\n",
       "      <td>7.333</td>\n",
       "      <td>7.555</td>\n",
       "      <td>7.098</td>\n",
       "      <td>7.101</td>\n",
       "      <td>7.091</td>\n",
       "      <td>7.246</td>\n",
       "      <td>7.021</td>\n",
       "      <td>7.246</td>\n",
       "      <td>7.339</td>\n",
       "    </tr>\n",
       "    <tr>\n",
       "      <th>39876</th>\n",
       "      <td>19195.0</td>\n",
       "      <td>NaN</td>\n",
       "      <td>10462791.0</td>\n",
       "      <td>NaN</td>\n",
       "      <td>1.593280</td>\n",
       "      <td>1.705270</td>\n",
       "      <td>1.854461</td>\n",
       "      <td>11.095</td>\n",
       "      <td>11.272</td>\n",
       "      <td>11.690</td>\n",
       "      <td>...</td>\n",
       "      <td>11.360</td>\n",
       "      <td>11.447</td>\n",
       "      <td>11.450</td>\n",
       "      <td>11.136</td>\n",
       "      <td>11.382</td>\n",
       "      <td>11.390</td>\n",
       "      <td>11.561</td>\n",
       "      <td>11.031</td>\n",
       "      <td>11.189</td>\n",
       "      <td>11.204</td>\n",
       "    </tr>\n",
       "  </tbody>\n",
       "</table>\n",
       "<p>5 rows × 89 columns</p>\n",
       "</div>"
      ],
      "text/plain": [
       "       Original_Order  MATCH_ORDER    Probeset  Unnamed: 6  Range CD  \\\n",
       "Gene                                                                   \n",
       "39872         31277.0          NaN  10572050.0         NaN  2.297397   \n",
       "39873         17826.0          NaN  10450025.0         NaN  1.458009   \n",
       "39874         18766.0          NaN  10458983.0         NaN  1.542211   \n",
       "39875          7705.0          NaN  10355474.0         NaN  1.718322   \n",
       "39876         19195.0          NaN  10462791.0         NaN  1.593280   \n",
       "\n",
       "       Range HFD  Range_All  C57BL/6J_Liver_CD  DBA/2J_Liver_CD  \\\n",
       "Gene                                                              \n",
       "39872   1.496923   2.297397              7.864            7.180   \n",
       "39873   1.611049   1.611049             10.778           10.730   \n",
       "39874   1.588869   1.604362              7.527            7.754   \n",
       "39875   1.606588   1.772763              6.773            7.288   \n",
       "39876   1.705270   1.854461             11.095           11.272   \n",
       "\n",
       "       BXD43_Liver_CD        ...         BXD89_Liver_HFD  BXD90_Liver_HFD  \\\n",
       "Gene                         ...                                            \n",
       "39872           7.067        ...                   7.538            7.707   \n",
       "39873          10.931        ...                  11.015           10.983   \n",
       "39874           7.533        ...                   7.581            7.488   \n",
       "39875           7.289        ...                   7.307            7.333   \n",
       "39876          11.690        ...                  11.360           11.447   \n",
       "\n",
       "       BXD95_Liver_HFD  BXD96_Liver_HFD  BXD97_Liver_HFD  BXD98_Liver_HFD  \\\n",
       "Gene                                                                        \n",
       "39872            7.491            7.923            7.601            7.780   \n",
       "39873           10.982           11.153           11.189           11.026   \n",
       "39874            7.554            7.461            7.592            7.425   \n",
       "39875            7.555            7.098            7.101            7.091   \n",
       "39876           11.450           11.136           11.382           11.390   \n",
       "\n",
       "       BXD99_Liver_HFD  BXD100_Liver_HFD  BXD101_Liver_HFD  BXD103_Liver_HFD  \n",
       "Gene                                                                          \n",
       "39872            7.597             7.679             7.666             7.725  \n",
       "39873           11.054            11.064            11.006            10.808  \n",
       "39874            7.410             7.539             7.388             7.334  \n",
       "39875            7.246             7.021             7.246             7.339  \n",
       "39876           11.561            11.031            11.189            11.204  \n",
       "\n",
       "[5 rows x 89 columns]"
      ]
     },
     "execution_count": 54,
     "metadata": {},
     "output_type": "execute_result"
    }
   ],
   "source": [
    "mean_values.head()"
   ]
  },
  {
   "cell_type": "markdown",
   "metadata": {},
   "source": [
    "### Subtask 1.3: Quantile normalization: carry out a quantile normalization of the data (or not)"
   ]
  },
  {
   "cell_type": "markdown",
   "metadata": {},
   "source": [
    "#### Subsubtask 1.3.1: Implement a ratio intensity plot (using matplotlib)"
   ]
  },
  {
   "cell_type": "code",
   "execution_count": 59,
   "metadata": {
    "collapsed": true
   },
   "outputs": [],
   "source": [
    "%matplotlib inline"
   ]
  },
  {
   "cell_type": "code",
   "execution_count": 55,
   "metadata": {
    "collapsed": false
   },
   "outputs": [],
   "source": [
    "import matplotlib.pyplot as plt  "
   ]
  },
  {
   "cell_type": "code",
   "execution_count": 63,
   "metadata": {
    "collapsed": true
   },
   "outputs": [],
   "source": [
    "def ratio_intensity_plot(ratio_intens_data_df, sample1, sample2):\n",
    "    ''' This function creates the ratio-intensity-plot for two series\n",
    "    \n",
    "        sample1: Series 1\n",
    "        sample2: Series 2\n",
    "    '''\n",
    "    \n",
    "    \n",
    "    # get the expression data\n",
    "    expr_sample_1 = ratio_intens_data_df[sample1]\n",
    "    expr_sample_2 = ratio_intens_data_df[sample2]\n",
    "    \n",
    "    # calculate ratio and intensity\n",
    "    R = np.log(expr_sample_1 / expr_sample_2)\n",
    "    I = (np.log(expr_sample_1) + np.log(expr_sample_2))/2\n",
    "    \n",
    "    # plot intensity vs ratio\n",
    "    plt.scatter(I,R)\n",
    "    \n",
    "    "
   ]
  },
  {
   "cell_type": "markdown",
   "metadata": {},
   "source": [
    "#### Subsubtask 1.3.2: Apply your ratio intensity plot to several pairs of chips (columns of your above dataframe)"
   ]
  },
  {
   "cell_type": "code",
   "execution_count": 64,
   "metadata": {
    "collapsed": false
   },
   "outputs": [
    {
     "data": {
      "image/png": "[encoded data removed]",
      "text/plain": [
       "<matplotlib.figure.Figure at 0x1a844ac8>"
      ]
     },
     "metadata": {},
     "output_type": "display_data"
    }
   ],
   "source": [
    "ratio_intensity_plot(mean_values, 'C57BL/6J_Liver_CD', 'BXD60_Liver_CD')"
   ]
  },
  {
   "cell_type": "markdown",
   "metadata": {},
   "source": [
    "#### Subsubtask 1.3.3: Implement a rle plot (rle = relative log expression)"
   ]
  },
  {
   "cell_type": "code",
   "execution_count": 82,
   "metadata": {
    "collapsed": true
   },
   "outputs": [],
   "source": [
    "import seaborn as sns"
   ]
  },
  {
   "cell_type": "code",
   "execution_count": 108,
   "metadata": {
    "collapsed": true
   },
   "outputs": [],
   "source": [
    "def rle_plot(rle_data, cols):\n",
    "    ''' This function creates a rle plot (e.g. rle_plot(microarray_data, microarray_data.columns[10:15]) ) . \n",
    "    \n",
    "        rle_data: dataframe containing the data\n",
    "        cols: dataframe containing the columns \n",
    "    \n",
    "    '''\n",
    "    \n",
    "    # for any gene calculate the median across all samples\n",
    "    rle_data_median = rle_data[cols].stack().median()\n",
    "    \n",
    "    # for a given sample divide the expression values by the corresponding mean\n",
    "    rle_data_boxplot = rle_data[cols] / rle_data_median\n",
    "    \n",
    "    # change size\n",
    "    plt.figure(figsize=(20,10))\n",
    "    \n",
    "    # for every sample plot a box plot\n",
    "    sns.boxplot(data=np.log(rle_data_boxplot))\n",
    "    \n"
   ]
  },
  {
   "cell_type": "markdown",
   "metadata": {},
   "source": [
    "#### Subsubtask 1.3.4: Apply your RLE plot to the data"
   ]
  },
  {
   "cell_type": "code",
   "execution_count": 109,
   "metadata": {
    "collapsed": false
   },
   "outputs": [
    {
     "data": {
      "image/png": "[encoded data removed]",
      "text/plain": [
       "<matplotlib.figure.Figure at 0x1a2b4d30>"
      ]
     },
     "metadata": {},
     "output_type": "display_data"
    }
   ],
   "source": [
    "# microarray_data.columns[10:15] has to start with at least 10, otherwise it won't work\n",
    "\n",
    "rle_plot(microarray_data, microarray_data.columns[10:15])"
   ]
  },
  {
   "cell_type": "markdown",
   "metadata": {},
   "source": [
    "#### Subsubtask 1.3.5: If you consider it necessary, perform a quantile normalization of the data "
   ]
  },
  {
   "cell_type": "markdown",
   "metadata": {
    "collapsed": true
   },
   "source": [
    "Normalization is not necessary, since the data is already normalized."
   ]
  },
  {
   "cell_type": "markdown",
   "metadata": {},
   "source": [
    "## Task 2: Which statistical test to chose?"
   ]
  },
  {
   "cell_type": "markdown",
   "metadata": {},
   "source": [
    "We want to infer differentially expressed genes between the CD and the HFD condition. Therefore we (mis)(?)treat (!) the (already) normalized expression values of all the strains for a given condition as independent observations of the same sample. But first we need to figure out which statistical test for differential expression seems appropriate (concerning distribution and variance assumptions) and then apply it. Limit yourself to the Student t-test, the Welch t-test or Wilcoxon's rank-sum test (also sometimes refered to as Whitney-Mann U-test).\n",
    "\n",
    "Everything you may need, is most likely found here:\n",
    "\n",
    "http://docs.scipy.org/doc/scipy-0.17.1/reference/stats.html \n",
    "\n",
    "http://statsmodels.sourceforge.net/stable/graphics.html"
   ]
  },
  {
   "cell_type": "markdown",
   "metadata": {},
   "source": [
    "### Subtask 2.1: Do the CD and HFD samples have equal variance?"
   ]
  },
  {
   "cell_type": "markdown",
   "metadata": {},
   "source": [
    "Josef-Francisco Del-Marre-Doyle, famous and visionary president of the International BXD Society (IBXDS), just gave a celebrated TED-talk in which he reviewed the fact that any statistic associated with the universe is almost surely normally distributed, and hence you canonically assume that the only thing left to check is whether the samples have equal variance, that is whether to apply Student's or Welch's t-test. Josef-Francisco's assessment usually is that \"things are equal\" and so you're quite confident that you'll be able to use Student's t-test. But since you're an excellent scientist (and, additionally, won't pass the course otherwise) you still do the following certainly unnecessary work:"
   ]
  },
  {
   "cell_type": "markdown",
   "metadata": {},
   "source": [
    "#### Subsubtask 2.1.1: Choose a random row of your latest dataframe using the random module of Python"
   ]
  },
  {
   "cell_type": "code",
   "execution_count": 111,
   "metadata": {
    "collapsed": false
   },
   "outputs": [],
   "source": [
    "from numpy import random"
   ]
  },
  {
   "cell_type": "code",
   "execution_count": 137,
   "metadata": {
    "collapsed": false
   },
   "outputs": [
    {
     "data": {
      "text/plain": [
       "Original_Order          26392\n",
       "MATCH_ORDER             13402\n",
       "Gene                  Ugt2b38\n",
       "Probeset             10531073\n",
       "Gene.1                Ugt2b38\n",
       "Protein                Q91WH2\n",
       "Unnamed: 6                NaN\n",
       "Range CD              2.92614\n",
       "Range HFD             2.28153\n",
       "Range_All             2.92614\n",
       "C57BL/6J_Liver_CD      11.665\n",
       "DBA/2J_Liver_CD        11.502\n",
       "BXD43_Liver_CD         11.479\n",
       "BXD44_Liver_CD         10.692\n",
       "BXD45_Liver_CD         11.968\n",
       "BXD48_Liver_CD          11.48\n",
       "BXD49_Liver_CD         11.985\n",
       "BXD51_Liver_CD         11.564\n",
       "BXD55_Liver_CD         11.429\n",
       "BXD56_Liver_CD          11.73\n",
       "BXD60_Liver_CD          11.21\n",
       "BXD61_Liver_CD         10.559\n",
       "BXD62_Liver_CD         11.452\n",
       "BXD63_Liver_CD         10.988\n",
       "BXD64_Liver_CD         11.446\n",
       "BXD65_Liver_CD         11.525\n",
       "BXD66_Liver_CD         11.747\n",
       "BXD68_Liver_CD         12.108\n",
       "BXD69_Liver_CD         11.943\n",
       "BXD70_Liver_CD         11.157\n",
       "                       ...   \n",
       "BXD56_Liver_HFD        11.559\n",
       "BXD61_Liver_HFD        11.297\n",
       "BXD62_Liver_HFD        11.041\n",
       "BXD63_Liver_HFD        11.645\n",
       "BXD64_Liver_HFD        11.183\n",
       "BXD65_Liver_HFD        11.291\n",
       "BXD66_Liver_HFD        11.433\n",
       "BXD68_Liver_HFD        11.346\n",
       "BXD69_Liver_HFD        11.286\n",
       "BXD70_Liver_HFD        11.208\n",
       "BXD71_Liver_HFD        11.073\n",
       "BXD73_Liver_HFD        11.246\n",
       "BXD75_Liver_HFD        11.264\n",
       "BXD79_Liver_HFD        11.086\n",
       "BXD80_Liver_HFD        10.742\n",
       "BXD81_Liver_HFD        11.656\n",
       "BXD83_Liver_HFD         10.77\n",
       "BXD84_Liver_HFD         10.92\n",
       "BXD85_Liver_HFD        11.132\n",
       "BXD87_Liver_HFD        11.169\n",
       "BXD89_Liver_HFD        10.946\n",
       "BXD90_Liver_HFD        11.277\n",
       "BXD95_Liver_HFD        11.047\n",
       "BXD96_Liver_HFD        11.161\n",
       "BXD97_Liver_HFD        11.117\n",
       "BXD98_Liver_HFD        11.105\n",
       "BXD99_Liver_HFD        10.999\n",
       "BXD100_Liver_HFD        11.41\n",
       "BXD101_Liver_HFD         11.2\n",
       "BXD103_Liver_HFD       11.029\n",
       "Name: 17024, dtype: object"
      ]
     },
     "execution_count": 137,
     "metadata": {},
     "output_type": "execute_result"
    }
   ],
   "source": [
    "random_row = microarray_data.loc[np.random.randint(microarray_data.shape[0])]\n",
    "random_row"
   ]
  },
  {
   "cell_type": "markdown",
   "metadata": {},
   "source": [
    "#### Subsubtask 2.1.2: Make a Q-Q plot comparing the two samples for the just chosen gene and answer the question: Does this tell you anything?"
   ]
  },
  {
   "cell_type": "code",
   "execution_count": 150,
   "metadata": {
    "collapsed": false
   },
   "outputs": [
    {
     "data": {
      "text/plain": [
       "23"
      ]
     },
     "execution_count": 150,
     "metadata": {},
     "output_type": "execute_result"
    }
   ],
   "source": [
    "#random_row[50]\n",
    "\n",
    "#print(random_row.keys)\n",
    "\n",
    "\n",
    "#random index zwische 10 und 50 wählen:\n",
    "\n",
    "random.randint(10,51)\n",
    "\n",
    "todo: schauen welcher eintrag dazu passend; dann entsprechenden anderen diet eintrag suchen\n",
    "    \n",
    "\n",
    "# index zwischen 10 und 50"
   ]
  },
  {
   "cell_type": "code",
   "execution_count": 127,
   "metadata": {
    "collapsed": false
   },
   "outputs": [],
   "source": [
    "# evtl: von der genreihe: 1x CD sample und zugehöriges  2 random samples"
   ]
  },
  {
   "cell_type": "markdown",
   "metadata": {},
   "source": [
    "#### Subsubtask 2.1.3: Apply an appropriate statistical test in order to figure out whether the samples have equal variance (there may be more than one sensible solution)"
   ]
  },
  {
   "cell_type": "code",
   "execution_count": null,
   "metadata": {
    "collapsed": false
   },
   "outputs": [],
   "source": []
  },
  {
   "cell_type": "markdown",
   "metadata": {},
   "source": [
    "#### Subsubtask 2.1.4: To asses the global situation, plot a histogram of p-values for all the genes (using the same test you chose in 2.1.3)"
   ]
  },
  {
   "cell_type": "code",
   "execution_count": null,
   "metadata": {
    "collapsed": false
   },
   "outputs": [],
   "source": []
  },
  {
   "cell_type": "markdown",
   "metadata": {},
   "source": [
    "### Subtask 2.2 Are the CD and HFD samples normally distributed?"
   ]
  },
  {
   "cell_type": "markdown",
   "metadata": {},
   "source": [
    "Utterly shocked and overwhelmed by ambiguous emotions you begin to doubt the wisdom of Josef-Francisco and start a top-secret and highly dangerous investigation whether the samples are at least normally distributed. Be careful whom you'll tell about that you're working on this..."
   ]
  },
  {
   "cell_type": "markdown",
   "metadata": {},
   "source": [
    "#### Subsubtask 2.2.1: Using the same gene randomly chosen above, make a Box plot for the corresponding CD and HFD sample and give an interpretation"
   ]
  },
  {
   "cell_type": "code",
   "execution_count": null,
   "metadata": {
    "collapsed": false
   },
   "outputs": [],
   "source": []
  },
  {
   "cell_type": "markdown",
   "metadata": {},
   "source": [
    "#### Subsubtask 2.2.2: Just like in 2.2.1 make Q-Q plots for each sample (compare each to the theoretical normal distribution) and try an interpretation."
   ]
  },
  {
   "cell_type": "code",
   "execution_count": null,
   "metadata": {
    "collapsed": false
   },
   "outputs": [],
   "source": []
  },
  {
   "cell_type": "markdown",
   "metadata": {},
   "source": [
    "#### Subsubtask 2.2.3: Apply an appropriate statistical test in order to figure out whether the samples are normally distributed (there may be more than one sensible solution)"
   ]
  },
  {
   "cell_type": "code",
   "execution_count": null,
   "metadata": {
    "collapsed": false
   },
   "outputs": [],
   "source": []
  },
  {
   "cell_type": "markdown",
   "metadata": {},
   "source": [
    "#### Subsubtask 2.2.4: To asses the global situation, plot a histogram of p-values for all the genes (using the same test you chose in 2.2.3)"
   ]
  },
  {
   "cell_type": "code",
   "execution_count": null,
   "metadata": {
    "collapsed": false
   },
   "outputs": [],
   "source": []
  },
  {
   "cell_type": "markdown",
   "metadata": {},
   "source": [
    "#### Subsubtask 2.2.5: Write a 1-word essay about whether there is any instrinsic philosophical reason that any data follows a normal distribution"
   ]
  },
  {
   "cell_type": "markdown",
   "metadata": {},
   "source": []
  },
  {
   "cell_type": "markdown",
   "metadata": {},
   "source": [
    "### Subtask 2.3 Choose a suitable statistical test to assess differential expression, apply it to every row, store the results in a suitable dataframe (you may want to order the genes with respect to their p-values) and finally extract a list of differentially expressed genes (5% significance). How many differentially expressed genes do you get?"
   ]
  },
  {
   "cell_type": "code",
   "execution_count": null,
   "metadata": {
    "collapsed": true
   },
   "outputs": [],
   "source": []
  },
  {
   "cell_type": "markdown",
   "metadata": {},
   "source": [
    "## Task 3: Multiple-testing correction"
   ]
  },
  {
   "cell_type": "markdown",
   "metadata": {},
   "source": [
    "You receive an anonymous letter revealing to you that you should do multiple-testing correction, otherwise something awfully bad will happen, or not. Puzzled and shaking you embark on this endeavour.\n",
    "\n",
    "Fredholm, your lab's vodoo priest, is convinced that applying anything else than Bonferroni correction brings death and destruction to the people on the moon. Opportunistically neglecting any potential societal consequences of your actions (technology is neutral after all and who cares about the moon anyway!) you're obsessed to try as many multiple testing procedures as possible.\n",
    "\n",
    "Everything you may need, is most likely found here:\n",
    "\n",
    "http://statsmodels.sourceforge.net/stable/stats.html#multiple-tests-and-multiple-comparison-procedures"
   ]
  },
  {
   "cell_type": "markdown",
   "metadata": {},
   "source": [
    "### Subtask 3.1: For your official report you have to pretend to care about Bonferroni's correction (otherwise it will never pass through Fredholm's office): manually code it (do not use the statsmodels implementation for example) and store the results in a suitable dataframe. How many differentially expressed gene do you get?"
   ]
  },
  {
   "cell_type": "code",
   "execution_count": null,
   "metadata": {
    "collapsed": false
   },
   "outputs": [],
   "source": []
  },
  {
   "cell_type": "markdown",
   "metadata": {},
   "source": [
    "### Subtask 3.2: Apply all multiple testing procedures you can get your hands on (except Bonferroni; now you should use statsmodels) to your uncorrected p-values and store the results in one (!) dataframe. "
   ]
  },
  {
   "cell_type": "code",
   "execution_count": null,
   "metadata": {
    "collapsed": true
   },
   "outputs": [],
   "source": []
  },
  {
   "cell_type": "markdown",
   "metadata": {},
   "source": [
    "### Subtask 3.3: External visual comparison of the different methods\n",
    "1 Write the DE dataframe to a csv file.\n",
    "2 add a row with either 'numeric' or 'factor' as the first row to describe the data schema and save the file\n",
    "3 use [paco](http://parallelcoordinates.de/paco) to visualize your data in parallel coordinates\n",
    "4 which of the multiple testing methods is the most stringent? What's the relation between the others?"
   ]
  },
  {
   "cell_type": "code",
   "execution_count": null,
   "metadata": {
    "collapsed": false
   },
   "outputs": [],
   "source": []
  },
  {
   "cell_type": "markdown",
   "metadata": {},
   "source": [
    "### Subtask 3.4: Select a random method applied in 3.2 and extract the corresponding list of differentially expressed genes. Is this list contain more or less genes than the list from 2.3? Does it contain more or less genes than your Bonferroni list? ;)"
   ]
  },
  {
   "cell_type": "code",
   "execution_count": null,
   "metadata": {
    "collapsed": false
   },
   "outputs": [],
   "source": []
  },
  {
   "cell_type": "markdown",
   "metadata": {},
   "source": [
    "## Task 4: Vulcano plots"
   ]
  },
  {
   "cell_type": "markdown",
   "metadata": {},
   "source": [
    "Marie de la Stratonovich, the devious intellectual opponent of your (former) beloved idol Josef-Francisco Del-Marre-Doyle just received the glorious Popel prize (the first marsian scientist ever to reveive that prize) for copy-pasting the content of the following papers:\n",
    "\n",
    "1) arXiv:1103.3434 (https://arxiv.org/abs/1103.3434)\n",
    "\n",
    "2) http://www.ncbi.nlm.nih.gov/pubmed/23602812 (doi:10.1016/j.compbiolchem.2013.02.003)\n",
    "\n",
    "Overwhelmed by these achievments (and motivated by your ever declining esteem for Josef-Francisco) your're immensely excited about the joyous prospect of carrying out out the following tasks:"
   ]
  },
  {
   "cell_type": "markdown",
   "metadata": {},
   "source": [
    "### Subtask 4.1: Add a log2 fold change column to the data frame from 3.2 and store it as a csv file."
   ]
  },
  {
   "cell_type": "code",
   "execution_count": null,
   "metadata": {
    "collapsed": false
   },
   "outputs": [],
   "source": []
  },
  {
   "cell_type": "markdown",
   "metadata": {},
   "source": [
    "### Subtask 4.2:  Implement a Vulcano plot (from scratch using matplotlib)"
   ]
  },
  {
   "cell_type": "code",
   "execution_count": null,
   "metadata": {
    "collapsed": true
   },
   "outputs": [],
   "source": []
  },
  {
   "cell_type": "markdown",
   "metadata": {},
   "source": [
    "### Subtask 4.3: Apply your Volcano plot implementation to the uncorrected p-values, as well as the corrected p-values from 3.4 (you should have two plots in the end ;))"
   ]
  },
  {
   "cell_type": "code",
   "execution_count": null,
   "metadata": {
    "collapsed": false
   },
   "outputs": [],
   "source": []
  },
  {
   "cell_type": "markdown",
   "metadata": {},
   "source": [
    "## Task 5: RNA-seq"
   ]
  },
  {
   "cell_type": "markdown",
   "metadata": {},
   "source": [
    "There are faint rumours that some supposedly revolutionary technology could also be used to study gene expression. Find out the name of that technology and outline the most striking difference of that technology compared to microarrays from a statistical modeling point of view."
   ]
  },
  {
   "cell_type": "markdown",
   "metadata": {},
   "source": []
  }
 ],
 "metadata": {
  "anaconda-cloud": {},
  "kernelspec": {
   "display_name": "Python [Root]",
   "language": "python",
   "name": "Python [Root]"
  },
  "language_info": {
   "codemirror_mode": {
    "name": "ipython",
    "version": 2
   },
   "file_extension": ".py",
   "mimetype": "text/x-python",
   "name": "python",
   "nbconvert_exporter": "python",
   "pygments_lexer": "ipython2",
   "version": "2.7.11"
  },
  "nav_menu": {},
  "toc": {
   "navigate_menu": true,
   "number_sections": true,
   "sideBar": false,
   "threshold": 6,
   "toc_cell": true,
   "toc_section_display": "block",
   "toc_window_display": false
  }
 },
 "nbformat": 4,
 "nbformat_minor": 0
}
