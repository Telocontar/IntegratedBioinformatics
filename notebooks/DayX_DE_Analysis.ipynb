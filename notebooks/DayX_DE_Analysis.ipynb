{
 "cells": [
  {
   "cell_type": "markdown",
   "metadata": {},
   "source": [
    "General review:\n",
    "\n",
    "https://genomebiology.biomedcentral.com/articles/10.1186/gb-2003-4-4-210\n",
    "\n",
    "(doi:10.1186/gb-2003-4-4-210)"
   ]
  },
  {
   "cell_type": "markdown",
   "metadata": {},
   "source": [
    "## Subtask 0: Download the data"
   ]
  },
  {
   "cell_type": "markdown",
   "metadata": {},
   "source": [
    "hint:\n",
    "\n",
    "http://science.sciencemag.org/highwire/filestream/680254/field_highwire_adjunct_files/5/aad0189_DataFileS5.xlsx"
   ]
  },
  {
   "cell_type": "code",
   "execution_count": 1,
   "metadata": {
    "collapsed": false
   },
   "outputs": [],
   "source": [
    "import urllib\n",
    "import numpy as np"
   ]
  },
  {
   "cell_type": "code",
   "execution_count": 2,
   "metadata": {
    "collapsed": false
   },
   "outputs": [
    {
     "data": {
      "text/plain": [
       "('data/microarray.xlsx', <httplib.HTTPMessage instance at 0x00000000043A3E08>)"
      ]
     },
     "execution_count": 2,
     "metadata": {},
     "output_type": "execute_result"
    }
   ],
   "source": [
    "urllib.urlretrieve(\"http://science.sciencemag.org/highwire/filestream/680254/field_highwire_adjunct_files/5/aad0189_DataFileS5.xlsx\", \n",
    "                   \"data/microarray.xlsx\")"
   ]
  },
  {
   "cell_type": "markdown",
   "metadata": {},
   "source": [
    "## Task 1: Data wrangling"
   ]
  },
  {
   "cell_type": "markdown",
   "metadata": {},
   "source": [
    "hint:\n",
    "\n",
    "http://www.arrayanalysis.org/main.html"
   ]
  },
  {
   "cell_type": "markdown",
   "metadata": {},
   "source": [
    "### Subtask 1.1: Read in aad0189_DataFileS5.xlsx with pandas"
   ]
  },
  {
   "cell_type": "code",
   "execution_count": 3,
   "metadata": {
    "collapsed": true
   },
   "outputs": [],
   "source": [
    "import pandas as pd"
   ]
  },
  {
   "cell_type": "code",
   "execution_count": 4,
   "metadata": {
    "collapsed": false
   },
   "outputs": [],
   "source": [
    "microarray_data = pd.read_excel(\"data/microarray.xlsx\", na_values='x', header=2)"
   ]
  },
  {
   "cell_type": "code",
   "execution_count": 5,
   "metadata": {
    "collapsed": false
   },
   "outputs": [
    {
     "data": {
      "text/html": [
       "<div>\n",
       "<table border=\"1\" class=\"dataframe\">\n",
       "  <thead>\n",
       "    <tr style=\"text-align: right;\">\n",
       "      <th></th>\n",
       "      <th>Original_Order</th>\n",
       "      <th>MATCH_ORDER</th>\n",
       "      <th>Gene</th>\n",
       "      <th>Probeset</th>\n",
       "      <th>Gene.1</th>\n",
       "      <th>Protein</th>\n",
       "      <th>Unnamed: 6</th>\n",
       "      <th>Range CD</th>\n",
       "      <th>Range HFD</th>\n",
       "      <th>Range_All</th>\n",
       "      <th>...</th>\n",
       "      <th>BXD89_Liver_HFD</th>\n",
       "      <th>BXD90_Liver_HFD</th>\n",
       "      <th>BXD95_Liver_HFD</th>\n",
       "      <th>BXD96_Liver_HFD</th>\n",
       "      <th>BXD97_Liver_HFD</th>\n",
       "      <th>BXD98_Liver_HFD</th>\n",
       "      <th>BXD99_Liver_HFD</th>\n",
       "      <th>BXD100_Liver_HFD</th>\n",
       "      <th>BXD101_Liver_HFD</th>\n",
       "      <th>BXD103_Liver_HFD</th>\n",
       "    </tr>\n",
       "  </thead>\n",
       "  <tbody>\n",
       "    <tr>\n",
       "      <th>0</th>\n",
       "      <td>12643</td>\n",
       "      <td>NaN</td>\n",
       "      <td>Igh</td>\n",
       "      <td>10403036</td>\n",
       "      <td>Igh</td>\n",
       "      <td>0</td>\n",
       "      <td>NaN</td>\n",
       "      <td>1.495886</td>\n",
       "      <td>1.720705</td>\n",
       "      <td>1.720705</td>\n",
       "      <td>...</td>\n",
       "      <td>4.959</td>\n",
       "      <td>5.483</td>\n",
       "      <td>5.347</td>\n",
       "      <td>5.087</td>\n",
       "      <td>5.125</td>\n",
       "      <td>5.160</td>\n",
       "      <td>5.020</td>\n",
       "      <td>5.170</td>\n",
       "      <td>4.775</td>\n",
       "      <td>4.982</td>\n",
       "    </tr>\n",
       "    <tr>\n",
       "      <th>1</th>\n",
       "      <td>12646</td>\n",
       "      <td>NaN</td>\n",
       "      <td>Igh</td>\n",
       "      <td>10403043</td>\n",
       "      <td>Igh</td>\n",
       "      <td>0</td>\n",
       "      <td>NaN</td>\n",
       "      <td>2.938337</td>\n",
       "      <td>1.988940</td>\n",
       "      <td>3.595021</td>\n",
       "      <td>...</td>\n",
       "      <td>7.415</td>\n",
       "      <td>7.252</td>\n",
       "      <td>7.547</td>\n",
       "      <td>7.358</td>\n",
       "      <td>7.424</td>\n",
       "      <td>7.447</td>\n",
       "      <td>7.567</td>\n",
       "      <td>7.732</td>\n",
       "      <td>7.365</td>\n",
       "      <td>7.369</td>\n",
       "    </tr>\n",
       "    <tr>\n",
       "      <th>2</th>\n",
       "      <td>12653</td>\n",
       "      <td>NaN</td>\n",
       "      <td>Igh</td>\n",
       "      <td>10403063</td>\n",
       "      <td>Igh</td>\n",
       "      <td>0</td>\n",
       "      <td>NaN</td>\n",
       "      <td>3.719220</td>\n",
       "      <td>1.859610</td>\n",
       "      <td>4.260433</td>\n",
       "      <td>...</td>\n",
       "      <td>6.665</td>\n",
       "      <td>6.948</td>\n",
       "      <td>6.999</td>\n",
       "      <td>6.974</td>\n",
       "      <td>6.886</td>\n",
       "      <td>6.876</td>\n",
       "      <td>7.027</td>\n",
       "      <td>7.093</td>\n",
       "      <td>6.748</td>\n",
       "      <td>6.771</td>\n",
       "    </tr>\n",
       "    <tr>\n",
       "      <th>3</th>\n",
       "      <td>8759</td>\n",
       "      <td>1458.0</td>\n",
       "      <td>Hcfc2</td>\n",
       "      <td>10365242</td>\n",
       "      <td>Hcfc2</td>\n",
       "      <td>A0AUN4</td>\n",
       "      <td>NaN</td>\n",
       "      <td>1.479388</td>\n",
       "      <td>1.465101</td>\n",
       "      <td>1.536875</td>\n",
       "      <td>...</td>\n",
       "      <td>9.177</td>\n",
       "      <td>9.021</td>\n",
       "      <td>8.803</td>\n",
       "      <td>8.928</td>\n",
       "      <td>8.914</td>\n",
       "      <td>8.838</td>\n",
       "      <td>9.056</td>\n",
       "      <td>8.924</td>\n",
       "      <td>8.945</td>\n",
       "      <td>8.865</td>\n",
       "    </tr>\n",
       "    <tr>\n",
       "      <th>4</th>\n",
       "      <td>18740</td>\n",
       "      <td>8191.0</td>\n",
       "      <td>Ccdc112</td>\n",
       "      <td>10458794</td>\n",
       "      <td>Ccdc112</td>\n",
       "      <td>A0AUP1</td>\n",
       "      <td>NaN</td>\n",
       "      <td>1.834008</td>\n",
       "      <td>1.943962</td>\n",
       "      <td>1.997229</td>\n",
       "      <td>...</td>\n",
       "      <td>6.623</td>\n",
       "      <td>6.371</td>\n",
       "      <td>6.187</td>\n",
       "      <td>6.310</td>\n",
       "      <td>6.448</td>\n",
       "      <td>6.531</td>\n",
       "      <td>6.167</td>\n",
       "      <td>6.401</td>\n",
       "      <td>6.470</td>\n",
       "      <td>6.565</td>\n",
       "    </tr>\n",
       "  </tbody>\n",
       "</table>\n",
       "<p>5 rows × 92 columns</p>\n",
       "</div>"
      ],
      "text/plain": [
       "   Original_Order  MATCH_ORDER     Gene  Probeset   Gene.1 Protein  \\\n",
       "0           12643          NaN      Igh  10403036      Igh       0   \n",
       "1           12646          NaN      Igh  10403043      Igh       0   \n",
       "2           12653          NaN      Igh  10403063      Igh       0   \n",
       "3            8759       1458.0    Hcfc2  10365242    Hcfc2  A0AUN4   \n",
       "4           18740       8191.0  Ccdc112  10458794  Ccdc112  A0AUP1   \n",
       "\n",
       "   Unnamed: 6  Range CD  Range HFD  Range_All        ...         \\\n",
       "0         NaN  1.495886   1.720705   1.720705        ...          \n",
       "1         NaN  2.938337   1.988940   3.595021        ...          \n",
       "2         NaN  3.719220   1.859610   4.260433        ...          \n",
       "3         NaN  1.479388   1.465101   1.536875        ...          \n",
       "4         NaN  1.834008   1.943962   1.997229        ...          \n",
       "\n",
       "   BXD89_Liver_HFD  BXD90_Liver_HFD  BXD95_Liver_HFD  BXD96_Liver_HFD  \\\n",
       "0            4.959            5.483            5.347            5.087   \n",
       "1            7.415            7.252            7.547            7.358   \n",
       "2            6.665            6.948            6.999            6.974   \n",
       "3            9.177            9.021            8.803            8.928   \n",
       "4            6.623            6.371            6.187            6.310   \n",
       "\n",
       "   BXD97_Liver_HFD  BXD98_Liver_HFD  BXD99_Liver_HFD  BXD100_Liver_HFD  \\\n",
       "0            5.125            5.160            5.020             5.170   \n",
       "1            7.424            7.447            7.567             7.732   \n",
       "2            6.886            6.876            7.027             7.093   \n",
       "3            8.914            8.838            9.056             8.924   \n",
       "4            6.448            6.531            6.167             6.401   \n",
       "\n",
       "   BXD101_Liver_HFD  BXD103_Liver_HFD  \n",
       "0             4.775             4.982  \n",
       "1             7.365             7.369  \n",
       "2             6.748             6.771  \n",
       "3             8.945             8.865  \n",
       "4             6.470             6.565  \n",
       "\n",
       "[5 rows x 92 columns]"
      ]
     },
     "execution_count": 5,
     "metadata": {},
     "output_type": "execute_result"
    }
   ],
   "source": [
    "microarray_data.head()"
   ]
  },
  {
   "cell_type": "markdown",
   "metadata": {},
   "source": [
    "### Subtask 1.2: Average over different probesets for a gene and generate a dataframe containing each gene symbol (once)  as rows and the corresponding averaged expression values for each strain + condition as columns"
   ]
  },
  {
   "cell_type": "code",
   "execution_count": 7,
   "metadata": {
    "collapsed": false,
    "scrolled": false
   },
   "outputs": [],
   "source": [
    "mean_values = microarray_data.groupby(\"Gene\").mean()"
   ]
  },
  {
   "cell_type": "code",
   "execution_count": 8,
   "metadata": {
    "collapsed": false
   },
   "outputs": [
    {
     "data": {
      "text/html": [
       "<div>\n",
       "<table border=\"1\" class=\"dataframe\">\n",
       "  <thead>\n",
       "    <tr style=\"text-align: right;\">\n",
       "      <th></th>\n",
       "      <th>Original_Order</th>\n",
       "      <th>MATCH_ORDER</th>\n",
       "      <th>Probeset</th>\n",
       "      <th>Unnamed: 6</th>\n",
       "      <th>Range CD</th>\n",
       "      <th>Range HFD</th>\n",
       "      <th>Range_All</th>\n",
       "      <th>C57BL/6J_Liver_CD</th>\n",
       "      <th>DBA/2J_Liver_CD</th>\n",
       "      <th>BXD43_Liver_CD</th>\n",
       "      <th>...</th>\n",
       "      <th>BXD89_Liver_HFD</th>\n",
       "      <th>BXD90_Liver_HFD</th>\n",
       "      <th>BXD95_Liver_HFD</th>\n",
       "      <th>BXD96_Liver_HFD</th>\n",
       "      <th>BXD97_Liver_HFD</th>\n",
       "      <th>BXD98_Liver_HFD</th>\n",
       "      <th>BXD99_Liver_HFD</th>\n",
       "      <th>BXD100_Liver_HFD</th>\n",
       "      <th>BXD101_Liver_HFD</th>\n",
       "      <th>BXD103_Liver_HFD</th>\n",
       "    </tr>\n",
       "    <tr>\n",
       "      <th>Gene</th>\n",
       "      <th></th>\n",
       "      <th></th>\n",
       "      <th></th>\n",
       "      <th></th>\n",
       "      <th></th>\n",
       "      <th></th>\n",
       "      <th></th>\n",
       "      <th></th>\n",
       "      <th></th>\n",
       "      <th></th>\n",
       "      <th></th>\n",
       "      <th></th>\n",
       "      <th></th>\n",
       "      <th></th>\n",
       "      <th></th>\n",
       "      <th></th>\n",
       "      <th></th>\n",
       "      <th></th>\n",
       "      <th></th>\n",
       "      <th></th>\n",
       "      <th></th>\n",
       "    </tr>\n",
       "  </thead>\n",
       "  <tbody>\n",
       "    <tr>\n",
       "      <th>39872</th>\n",
       "      <td>31277.0</td>\n",
       "      <td>NaN</td>\n",
       "      <td>10572050.0</td>\n",
       "      <td>NaN</td>\n",
       "      <td>2.297397</td>\n",
       "      <td>1.496923</td>\n",
       "      <td>2.297397</td>\n",
       "      <td>7.864</td>\n",
       "      <td>7.180</td>\n",
       "      <td>7.067</td>\n",
       "      <td>...</td>\n",
       "      <td>7.538</td>\n",
       "      <td>7.707</td>\n",
       "      <td>7.491</td>\n",
       "      <td>7.923</td>\n",
       "      <td>7.601</td>\n",
       "      <td>7.780</td>\n",
       "      <td>7.597</td>\n",
       "      <td>7.679</td>\n",
       "      <td>7.666</td>\n",
       "      <td>7.725</td>\n",
       "    </tr>\n",
       "    <tr>\n",
       "      <th>39873</th>\n",
       "      <td>17826.0</td>\n",
       "      <td>NaN</td>\n",
       "      <td>10450025.0</td>\n",
       "      <td>NaN</td>\n",
       "      <td>1.458009</td>\n",
       "      <td>1.611049</td>\n",
       "      <td>1.611049</td>\n",
       "      <td>10.778</td>\n",
       "      <td>10.730</td>\n",
       "      <td>10.931</td>\n",
       "      <td>...</td>\n",
       "      <td>11.015</td>\n",
       "      <td>10.983</td>\n",
       "      <td>10.982</td>\n",
       "      <td>11.153</td>\n",
       "      <td>11.189</td>\n",
       "      <td>11.026</td>\n",
       "      <td>11.054</td>\n",
       "      <td>11.064</td>\n",
       "      <td>11.006</td>\n",
       "      <td>10.808</td>\n",
       "    </tr>\n",
       "    <tr>\n",
       "      <th>39874</th>\n",
       "      <td>18766.0</td>\n",
       "      <td>NaN</td>\n",
       "      <td>10458983.0</td>\n",
       "      <td>NaN</td>\n",
       "      <td>1.542211</td>\n",
       "      <td>1.588869</td>\n",
       "      <td>1.604362</td>\n",
       "      <td>7.527</td>\n",
       "      <td>7.754</td>\n",
       "      <td>7.533</td>\n",
       "      <td>...</td>\n",
       "      <td>7.581</td>\n",
       "      <td>7.488</td>\n",
       "      <td>7.554</td>\n",
       "      <td>7.461</td>\n",
       "      <td>7.592</td>\n",
       "      <td>7.425</td>\n",
       "      <td>7.410</td>\n",
       "      <td>7.539</td>\n",
       "      <td>7.388</td>\n",
       "      <td>7.334</td>\n",
       "    </tr>\n",
       "    <tr>\n",
       "      <th>39875</th>\n",
       "      <td>7705.0</td>\n",
       "      <td>NaN</td>\n",
       "      <td>10355474.0</td>\n",
       "      <td>NaN</td>\n",
       "      <td>1.718322</td>\n",
       "      <td>1.606588</td>\n",
       "      <td>1.772763</td>\n",
       "      <td>6.773</td>\n",
       "      <td>7.288</td>\n",
       "      <td>7.289</td>\n",
       "      <td>...</td>\n",
       "      <td>7.307</td>\n",
       "      <td>7.333</td>\n",
       "      <td>7.555</td>\n",
       "      <td>7.098</td>\n",
       "      <td>7.101</td>\n",
       "      <td>7.091</td>\n",
       "      <td>7.246</td>\n",
       "      <td>7.021</td>\n",
       "      <td>7.246</td>\n",
       "      <td>7.339</td>\n",
       "    </tr>\n",
       "    <tr>\n",
       "      <th>39876</th>\n",
       "      <td>19195.0</td>\n",
       "      <td>NaN</td>\n",
       "      <td>10462791.0</td>\n",
       "      <td>NaN</td>\n",
       "      <td>1.593280</td>\n",
       "      <td>1.705270</td>\n",
       "      <td>1.854461</td>\n",
       "      <td>11.095</td>\n",
       "      <td>11.272</td>\n",
       "      <td>11.690</td>\n",
       "      <td>...</td>\n",
       "      <td>11.360</td>\n",
       "      <td>11.447</td>\n",
       "      <td>11.450</td>\n",
       "      <td>11.136</td>\n",
       "      <td>11.382</td>\n",
       "      <td>11.390</td>\n",
       "      <td>11.561</td>\n",
       "      <td>11.031</td>\n",
       "      <td>11.189</td>\n",
       "      <td>11.204</td>\n",
       "    </tr>\n",
       "  </tbody>\n",
       "</table>\n",
       "<p>5 rows × 89 columns</p>\n",
       "</div>"
      ],
      "text/plain": [
       "       Original_Order  MATCH_ORDER    Probeset  Unnamed: 6  Range CD  \\\n",
       "Gene                                                                   \n",
       "39872         31277.0          NaN  10572050.0         NaN  2.297397   \n",
       "39873         17826.0          NaN  10450025.0         NaN  1.458009   \n",
       "39874         18766.0          NaN  10458983.0         NaN  1.542211   \n",
       "39875          7705.0          NaN  10355474.0         NaN  1.718322   \n",
       "39876         19195.0          NaN  10462791.0         NaN  1.593280   \n",
       "\n",
       "       Range HFD  Range_All  C57BL/6J_Liver_CD  DBA/2J_Liver_CD  \\\n",
       "Gene                                                              \n",
       "39872   1.496923   2.297397              7.864            7.180   \n",
       "39873   1.611049   1.611049             10.778           10.730   \n",
       "39874   1.588869   1.604362              7.527            7.754   \n",
       "39875   1.606588   1.772763              6.773            7.288   \n",
       "39876   1.705270   1.854461             11.095           11.272   \n",
       "\n",
       "       BXD43_Liver_CD        ...         BXD89_Liver_HFD  BXD90_Liver_HFD  \\\n",
       "Gene                         ...                                            \n",
       "39872           7.067        ...                   7.538            7.707   \n",
       "39873          10.931        ...                  11.015           10.983   \n",
       "39874           7.533        ...                   7.581            7.488   \n",
       "39875           7.289        ...                   7.307            7.333   \n",
       "39876          11.690        ...                  11.360           11.447   \n",
       "\n",
       "       BXD95_Liver_HFD  BXD96_Liver_HFD  BXD97_Liver_HFD  BXD98_Liver_HFD  \\\n",
       "Gene                                                                        \n",
       "39872            7.491            7.923            7.601            7.780   \n",
       "39873           10.982           11.153           11.189           11.026   \n",
       "39874            7.554            7.461            7.592            7.425   \n",
       "39875            7.555            7.098            7.101            7.091   \n",
       "39876           11.450           11.136           11.382           11.390   \n",
       "\n",
       "       BXD99_Liver_HFD  BXD100_Liver_HFD  BXD101_Liver_HFD  BXD103_Liver_HFD  \n",
       "Gene                                                                          \n",
       "39872            7.597             7.679             7.666             7.725  \n",
       "39873           11.054            11.064            11.006            10.808  \n",
       "39874            7.410             7.539             7.388             7.334  \n",
       "39875            7.246             7.021             7.246             7.339  \n",
       "39876           11.561            11.031            11.189            11.204  \n",
       "\n",
       "[5 rows x 89 columns]"
      ]
     },
     "execution_count": 8,
     "metadata": {},
     "output_type": "execute_result"
    }
   ],
   "source": [
    "mean_values.head()"
   ]
  },
  {
   "cell_type": "markdown",
   "metadata": {},
   "source": [
    "### Subtask 1.3: Quantile normalization: carry out a quantile normalization of the data (or not)"
   ]
  },
  {
   "cell_type": "markdown",
   "metadata": {},
   "source": [
    "#### Subsubtask 1.3.1: Implement a ratio intensity plot (using matplotlib)"
   ]
  },
  {
   "cell_type": "code",
   "execution_count": 9,
   "metadata": {
    "collapsed": true
   },
   "outputs": [],
   "source": [
    "%matplotlib inline"
   ]
  },
  {
   "cell_type": "code",
   "execution_count": 10,
   "metadata": {
    "collapsed": false
   },
   "outputs": [],
   "source": [
    "import matplotlib.pyplot as plt  "
   ]
  },
  {
   "cell_type": "code",
   "execution_count": 11,
   "metadata": {
    "collapsed": true
   },
   "outputs": [],
   "source": [
    "def ratio_intensity_plot(ratio_intens_data_df, sample1, sample2):\n",
    "    ''' This function creates the ratio-intensity-plot for two series\n",
    "    \n",
    "        sample1: Series 1\n",
    "        sample2: Series 2\n",
    "    '''\n",
    "    \n",
    "    \n",
    "    # get the expression data\n",
    "    expr_sample_1 = ratio_intens_data_df[sample1]\n",
    "    expr_sample_2 = ratio_intens_data_df[sample2]\n",
    "    \n",
    "    # calculate ratio and intensity\n",
    "    R = np.log(expr_sample_1 / expr_sample_2)\n",
    "    I = (np.log(expr_sample_1) + np.log(expr_sample_2))/2\n",
    "    \n",
    "    # plot intensity vs ratio\n",
    "    plt.scatter(I,R)\n",
    "    \n",
    "    "
   ]
  },
  {
   "cell_type": "markdown",
   "metadata": {},
   "source": [
    "#### Subsubtask 1.3.2: Apply your ratio intensity plot to several pairs of chips (columns of your above dataframe)"
   ]
  },
  {
   "cell_type": "code",
   "execution_count": 12,
   "metadata": {
    "collapsed": false
   },
   "outputs": [
    {
     "data": {
      "image/png": "[encoded data removed]",
      "text/plain": [
       "<matplotlib.figure.Figure at 0xed53f60>"
      ]
     },
     "metadata": {},
     "output_type": "display_data"
    }
   ],
   "source": [
    "ratio_intensity_plot(mean_values, 'C57BL/6J_Liver_CD', 'BXD60_Liver_CD')"
   ]
  },
  {
   "cell_type": "markdown",
   "metadata": {},
   "source": [
    "#### Subsubtask 1.3.3: Implement a rle plot (rle = relative log expression)"
   ]
  },
  {
   "cell_type": "code",
   "execution_count": 13,
   "metadata": {
    "collapsed": true
   },
   "outputs": [],
   "source": [
    "import seaborn as sns"
   ]
  },
  {
   "cell_type": "code",
   "execution_count": 14,
   "metadata": {
    "collapsed": true
   },
   "outputs": [],
   "source": [
    "def rle_plot(rle_data, cols):\n",
    "    ''' This function creates a rle plot (e.g. rle_plot(microarray_data, microarray_data.columns[10:15]) ) . \n",
    "    \n",
    "        rle_data: dataframe containing the data\n",
    "        cols: dataframe containing the columns \n",
    "    \n",
    "    '''\n",
    "    \n",
    "    # for any gene calculate the median across all samples\n",
    "    rle_data_median = rle_data[cols].stack().median()\n",
    "    \n",
    "    # for a given sample divide the expression values by the corresponding mean\n",
    "    rle_data_boxplot = rle_data[cols] / rle_data_median\n",
    "    \n",
    "    # change size\n",
    "    plt.figure(figsize=(20,10))\n",
    "    \n",
    "    # for every sample plot a box plot\n",
    "    sns.boxplot(data=np.log(rle_data_boxplot))\n",
    "    \n"
   ]
  },
  {
   "cell_type": "markdown",
   "metadata": {},
   "source": [
    "#### Subsubtask 1.3.4: Apply your RLE plot to the data"
   ]
  },
  {
   "cell_type": "code",
   "execution_count": 182,
   "metadata": {
    "collapsed": false
   },
   "outputs": [
    {
     "data": {
      "image/png": "[encoded data removed]",
      "text/plain": [
       "<matplotlib.figure.Figure at 0x1a1e17f0>"
      ]
     },
     "metadata": {},
     "output_type": "display_data"
    }
   ],
   "source": [
    "# microarray_data.columns[10:15]: the expression values start at column 10\n",
    "rle_plot(mean_values, mean_values.columns[10:15])"
   ]
  },
  {
   "cell_type": "markdown",
   "metadata": {},
   "source": [
    "#### Subsubtask 1.3.5: If you consider it necessary, perform a quantile normalization of the data "
   ]
  },
  {
   "cell_type": "markdown",
   "metadata": {
    "collapsed": true
   },
   "source": [
    "Normalization is not necessary, since the data is already normalized."
   ]
  },
  {
   "cell_type": "markdown",
   "metadata": {},
   "source": [
    "## Task 2: Which statistical test to chose?"
   ]
  },
  {
   "cell_type": "markdown",
   "metadata": {},
   "source": [
    "We want to infer differentially expressed genes between the CD and the HFD condition. Therefore we (mis)(?)treat (!) the (already) normalized expression values of all the strains for a given condition as independent observations of the same sample. But first we need to figure out which statistical test for differential expression seems appropriate (concerning distribution and variance assumptions) and then apply it. Limit yourself to the Student t-test, the Welch t-test or Wilcoxon's rank-sum test (also sometimes refered to as Whitney-Mann U-test).\n",
    "\n",
    "Everything you may need, is most likely found here:\n",
    "\n",
    "http://docs.scipy.org/doc/scipy-0.17.1/reference/stats.html \n",
    "\n",
    "http://statsmodels.sourceforge.net/stable/graphics.html"
   ]
  },
  {
   "cell_type": "markdown",
   "metadata": {},
   "source": [
    "### Subtask 2.1: Do the CD and HFD samples have equal variance?"
   ]
  },
  {
   "cell_type": "markdown",
   "metadata": {},
   "source": [
    "Josef-Francisco Del-Marre-Doyle, famous and visionary president of the International BXD Society (IBXDS), just gave a celebrated TED-talk in which he reviewed the fact that any statistic associated with the universe is almost surely normally distributed, and hence you canonically assume that the only thing left to check is whether the samples have equal variance, that is whether to apply Student's or Welch's t-test. Josef-Francisco's assessment usually is that \"things are equal\" and so you're quite confident that you'll be able to use Student's t-test. But since you're an excellent scientist (and, additionally, won't pass the course otherwise) you still do the following certainly unnecessary work:"
   ]
  },
  {
   "cell_type": "markdown",
   "metadata": {},
   "source": [
    "#### Subsubtask 2.1.1: Choose a random row of your latest dataframe using the random module of Python"
   ]
  },
  {
   "cell_type": "code",
   "execution_count": 16,
   "metadata": {
    "collapsed": false
   },
   "outputs": [],
   "source": [
    "from numpy import random"
   ]
  },
  {
   "cell_type": "code",
   "execution_count": 189,
   "metadata": {
    "collapsed": false
   },
   "outputs": [
    {
     "data": {
      "text/plain": [
       "Original_Order       2.285800e+04\n",
       "MATCH_ORDER                   NaN\n",
       "Probeset             1.049761e+07\n",
       "Unnamed: 6                    NaN\n",
       "Range CD             1.544350e+00\n",
       "Range HFD            1.399586e+00\n",
       "Range_All            1.739895e+00\n",
       "C57BL/6J_Liver_CD    5.404000e+00\n",
       "DBA/2J_Liver_CD      5.348000e+00\n",
       "BXD43_Liver_CD       5.291000e+00\n",
       "BXD44_Liver_CD       5.336000e+00\n",
       "BXD45_Liver_CD       5.326000e+00\n",
       "BXD48_Liver_CD       5.008000e+00\n",
       "BXD49_Liver_CD       5.172000e+00\n",
       "BXD51_Liver_CD       5.313000e+00\n",
       "BXD55_Liver_CD       5.635000e+00\n",
       "BXD56_Liver_CD       5.181000e+00\n",
       "BXD60_Liver_CD       5.625000e+00\n",
       "BXD61_Liver_CD       5.274000e+00\n",
       "BXD62_Liver_CD       5.272000e+00\n",
       "BXD63_Liver_CD       5.306000e+00\n",
       "BXD64_Liver_CD       5.376000e+00\n",
       "BXD65_Liver_CD       5.399000e+00\n",
       "BXD66_Liver_CD       5.274000e+00\n",
       "BXD68_Liver_CD       5.181000e+00\n",
       "BXD69_Liver_CD       5.154000e+00\n",
       "BXD70_Liver_CD       5.435000e+00\n",
       "BXD71_Liver_CD       5.284000e+00\n",
       "BXD73_Liver_CD       5.169000e+00\n",
       "BXD75_Liver_CD       5.507000e+00\n",
       "                         ...     \n",
       "BXD56_Liver_HFD      5.597000e+00\n",
       "BXD61_Liver_HFD      5.629000e+00\n",
       "BXD62_Liver_HFD      5.434000e+00\n",
       "BXD63_Liver_HFD      5.807000e+00\n",
       "BXD64_Liver_HFD      5.711000e+00\n",
       "BXD65_Liver_HFD      5.525000e+00\n",
       "BXD66_Liver_HFD      5.537000e+00\n",
       "BXD68_Liver_HFD      5.588000e+00\n",
       "BXD69_Liver_HFD      5.709000e+00\n",
       "BXD70_Liver_HFD      5.554000e+00\n",
       "BXD71_Liver_HFD      5.765000e+00\n",
       "BXD73_Liver_HFD      5.633000e+00\n",
       "BXD75_Liver_HFD      5.591000e+00\n",
       "BXD79_Liver_HFD      5.533000e+00\n",
       "BXD80_Liver_HFD      5.397000e+00\n",
       "BXD81_Liver_HFD      5.552000e+00\n",
       "BXD83_Liver_HFD      5.322000e+00\n",
       "BXD84_Liver_HFD      5.485000e+00\n",
       "BXD85_Liver_HFD      5.519000e+00\n",
       "BXD87_Liver_HFD      5.517000e+00\n",
       "BXD89_Liver_HFD      5.702000e+00\n",
       "BXD90_Liver_HFD      5.670000e+00\n",
       "BXD95_Liver_HFD      5.640000e+00\n",
       "BXD96_Liver_HFD      5.637000e+00\n",
       "BXD97_Liver_HFD      5.560000e+00\n",
       "BXD98_Liver_HFD      5.557000e+00\n",
       "BXD99_Liver_HFD      5.586000e+00\n",
       "BXD100_Liver_HFD     5.458000e+00\n",
       "BXD101_Liver_HFD     5.685000e+00\n",
       "BXD103_Liver_HFD     5.369000e+00\n",
       "Name: Gm10258, dtype: float64"
      ]
     },
     "execution_count": 189,
     "metadata": {},
     "output_type": "execute_result"
    }
   ],
   "source": [
    "random_row = mean_values.iloc[np.random.randint(mean_values.shape[0])]\n",
    "random_row"
   ]
  },
  {
   "cell_type": "markdown",
   "metadata": {},
   "source": [
    "#### Subsubtask 2.1.2: Make a Q-Q plot comparing the two samples for the just chosen gene and answer the question: Does this tell you anything?"
   ]
  },
  {
   "cell_type": "code",
   "execution_count": 26,
   "metadata": {
    "collapsed": true
   },
   "outputs": [],
   "source": [
    "import scipy.stats as stats\n",
    "import pylab \n",
    "import statsmodels.api as sm"
   ]
  },
  {
   "cell_type": "code",
   "execution_count": 202,
   "metadata": {
    "collapsed": false
   },
   "outputs": [],
   "source": [
    "# BXD92_Liver_CD exists only for CD -> remove it \n",
    "random_row_dropped = random_row.drop('BXD92_Liver_CD')\n",
    "\n",
    "# get the CD and HFD expression values\n",
    "sample_CD_expr_values = random_row_dropped[48:]\n",
    "sample_HFD_expr_values = random_row_dropped[7:47]"
   ]
  },
  {
   "cell_type": "code",
   "execution_count": 203,
   "metadata": {
    "collapsed": false
   },
   "outputs": [
    {
     "data": {
      "image/png": "[encoded data removed]",
      "text/plain": [
       "<matplotlib.figure.Figure at 0x1a6b7320>"
      ]
     },
     "execution_count": 203,
     "metadata": {},
     "output_type": "execute_result"
    },
    {
     "data": {
      "image/png": "[encoded data removed]",
      "text/plain": [
       "<matplotlib.figure.Figure at 0x1a6b7320>"
      ]
     },
     "metadata": {},
     "output_type": "display_data"
    }
   ],
   "source": [
    "# qq plot for CD and HFD\n",
    "sm.qqplot_2samples(sample_CD_expr_values, sample_HFD_expr_values, line='45')"
   ]
  },
  {
   "cell_type": "markdown",
   "metadata": {},
   "source": [
    "#### Subsubtask 2.1.3: Apply an appropriate statistical test in order to figure out whether the samples have equal variance (there may be more than one sensible solution)"
   ]
  },
  {
   "cell_type": "code",
   "execution_count": 204,
   "metadata": {
    "collapsed": false
   },
   "outputs": [
    {
     "data": {
      "text/plain": [
       "BartlettResult(statistic=0.28199217059335741, pvalue=0.59539844069892967)"
      ]
     },
     "execution_count": 204,
     "metadata": {},
     "output_type": "execute_result"
    }
   ],
   "source": [
    "# apply bartlett test:\n",
    "stats.bartlett(sample_CD_expr_values, sample_HFD_expr_values)"
   ]
  },
  {
   "cell_type": "markdown",
   "metadata": {},
   "source": [
    "#### Subsubtask 2.1.4: To asses the global situation, plot a histogram of p-values for all the genes (using the same test you chose in 2.1.3)"
   ]
  },
  {
   "cell_type": "code",
   "execution_count": 210,
   "metadata": {
    "collapsed": false
   },
   "outputs": [],
   "source": [
    "def global_test_equal_variance(data_df):\n",
    "    ''' This function tests for equal variance for the given dataframe (= applies bartlett test to each row).\n",
    "    \n",
    "        data_df: the dataframe to test for\n",
    "    \n",
    "    '''\n",
    "    \n",
    "    # list to store the result\n",
    "    list_of_p_values_ = []\n",
    "    \n",
    "    # iterate over the dataframe\n",
    "    for row_ in data_df.index:\n",
    "        \n",
    "        # get the current row\n",
    "        gene_ = microarray_data.loc[row_]\n",
    "        \n",
    "        # BXD92_Liver_CD exists only for CD -> remove it \n",
    "        gene_dropped = gene_.drop('BXD92_Liver_CD')\n",
    "\n",
    "        # get the CD and HFD expression values\n",
    "        sample_CD_expr_values_ = gene_dropped[51:]\n",
    "        sample_HFD_expr_values_ = gene_dropped[10:50]\n",
    "        \n",
    "        # apply bartlett test:\n",
    "        list_of_p_values_.append(stats.bartlett(sample_CD_expr_values_, sample_HFD_expr_values_)[1])\n",
    "        \n",
    "    return list_of_p_values_    \n",
    "        "
   ]
  },
  {
   "cell_type": "code",
   "execution_count": 211,
   "metadata": {
    "collapsed": false
   },
   "outputs": [],
   "source": [
    "global_p_values = global_test_equal_variance(microarray_data)"
   ]
  },
  {
   "cell_type": "code",
   "execution_count": 97,
   "metadata": {
    "collapsed": false
   },
   "outputs": [
    {
     "data": {
      "text/plain": [
       "<matplotlib.axes._subplots.AxesSubplot at 0xd6fab00>"
      ]
     },
     "execution_count": 97,
     "metadata": {},
     "output_type": "execute_result"
    },
    {
     "data": {
      "image/png": "[encoded data removed]",
      "text/plain": [
       "<matplotlib.figure.Figure at 0xd7075f8>"
      ]
     },
     "metadata": {},
     "output_type": "display_data"
    }
   ],
   "source": [
    "#plt.hist(global_p_values)\n",
    "plt.figure(figsize=(10, 10))\n",
    "sns.distplot(global_p_values, kde=False)\n"
   ]
  },
  {
   "cell_type": "markdown",
   "metadata": {},
   "source": [
    "### Subtask 2.2 Are the CD and HFD samples normally distributed?"
   ]
  },
  {
   "cell_type": "markdown",
   "metadata": {},
   "source": [
    "Utterly shocked and overwhelmed by ambiguous emotions you begin to doubt the wisdom of Josef-Francisco and start a top-secret and highly dangerous investigation whether the samples are at least normally distributed. Be careful whom you'll tell about that you're working on this..."
   ]
  },
  {
   "cell_type": "markdown",
   "metadata": {},
   "source": [
    "#### Subsubtask 2.2.1: Using the same gene randomly chosen above, make a Box plot for the corresponding CD and HFD sample and give an interpretation"
   ]
  },
  {
   "cell_type": "code",
   "execution_count": 113,
   "metadata": {
    "collapsed": false
   },
   "outputs": [
    {
     "data": {
      "text/plain": [
       "<matplotlib.axes._subplots.AxesSubplot at 0x107ac320>"
      ]
     },
     "execution_count": 113,
     "metadata": {},
     "output_type": "execute_result"
    },
    {
     "data": {
      "image/png": "[encoded data removed]",
      "text/plain": [
       "<matplotlib.figure.Figure at 0x13ac00f0>"
      ]
     },
     "metadata": {},
     "output_type": "display_data"
    }
   ],
   "source": [
    "blubb = pd.DataFrame({\"HFD expr values\" : sample_BXD_expr_values, \n",
    "                     \"CD expr values\" : sample_CD_expr_values})\n",
    "sns.boxplot(data=blubb)\n",
    "\n",
    "# TODO: interpretation: HFD höhere expressionswerte als CD"
   ]
  },
  {
   "cell_type": "markdown",
   "metadata": {},
   "source": [
    "#### Subsubtask 2.2.2: Just like in 2.2.1 make Q-Q plots for each sample (compare each to the theoretical normal distribution) and try an interpretation."
   ]
  },
  {
   "cell_type": "code",
   "execution_count": 114,
   "metadata": {
    "collapsed": false
   },
   "outputs": [
    {
     "data": {
      "image/png": "[encoded data removed]",
      "text/plain": [
       "<matplotlib.figure.Figure at 0xd2943c8>"
      ]
     },
     "execution_count": 114,
     "metadata": {},
     "output_type": "execute_result"
    },
    {
     "data": {
      "image/png": "[encoded data removed]",
      "text/plain": [
       "<matplotlib.figure.Figure at 0xd2943c8>"
      ]
     },
     "metadata": {},
     "output_type": "display_data"
    }
   ],
   "source": [
    "sm.qqplot(sample_BXD_expr_values, line='45')"
   ]
  },
  {
   "cell_type": "code",
   "execution_count": 115,
   "metadata": {
    "collapsed": false
   },
   "outputs": [
    {
     "data": {
      "image/png": "[encoded data removed]",
      "text/plain": [
       "<matplotlib.figure.Figure at 0xd3602b0>"
      ]
     },
     "execution_count": 115,
     "metadata": {},
     "output_type": "execute_result"
    },
    {
     "data": {
      "image/png": "[encoded data removed]",
      "text/plain": [
       "<matplotlib.figure.Figure at 0xd3602b0>"
      ]
     },
     "metadata": {},
     "output_type": "display_data"
    }
   ],
   "source": [
    "sm.qqplot(sample_CD_expr_values, line='45')"
   ]
  },
  {
   "cell_type": "markdown",
   "metadata": {},
   "source": [
    "#### Subsubtask 2.2.3: Apply an appropriate statistical test in order to figure out whether the samples are normally distributed (there may be more than one sensible solution)"
   ]
  },
  {
   "cell_type": "code",
   "execution_count": 120,
   "metadata": {
    "collapsed": false
   },
   "outputs": [
    {
     "data": {
      "text/plain": [
       "(0.9743178486824036, 0.48737257719039917)"
      ]
     },
     "execution_count": 120,
     "metadata": {},
     "output_type": "execute_result"
    }
   ],
   "source": [
    "stats.shapiro(sample_BXD_expr_values)"
   ]
  },
  {
   "cell_type": "code",
   "execution_count": 118,
   "metadata": {
    "collapsed": false
   },
   "outputs": [
    {
     "data": {
      "text/plain": [
       "(0.9680942893028259, 0.31266918778419495)"
      ]
     },
     "execution_count": 118,
     "metadata": {},
     "output_type": "execute_result"
    }
   ],
   "source": [
    "stats.shapiro(sample_CD_expr_values)"
   ]
  },
  {
   "cell_type": "markdown",
   "metadata": {},
   "source": [
    "#### Subsubtask 2.2.4: To asses the global situation, plot a histogram of p-values for all the genes (using the same test you chose in 2.2.3)"
   ]
  },
  {
   "cell_type": "code",
   "execution_count": 132,
   "metadata": {
    "collapsed": false
   },
   "outputs": [],
   "source": [
    "def global_test_normal_distr(data_df_nd):\n",
    "    ''' This function tests each row of the dataframe for normal distribution (=applies shapiro wilk test).\n",
    "    \n",
    "        data_df_nd: the dataframe to check for normal distribution\n",
    "    \n",
    "    '''\n",
    "    \n",
    "    # lists to store the result\n",
    "    list_of_p_values_CD  = []\n",
    "    list_of_p_values_HFD = []\n",
    "    \n",
    "    # iterate over the dataframe\n",
    "    for row_nd in data_df_nd.index:\n",
    "        \n",
    "        # get the current row\n",
    "        gene_nd = microarray_data.loc[row_nd]\n",
    "        \n",
    "        # BXD92_Liver_CD exists only for CD -> remove it \n",
    "        gene_nd_dropped = gene_nd.drop('BXD92_Liver_CD')\n",
    "\n",
    "        # get the CD and BXD expression values\n",
    "        sample_CD_expr_values_nd = gene_nd_dropped[51:]\n",
    "        sample_HFD_expr_values_nd = gene_nd_dropped[10:50]\n",
    "    \n",
    "        # apply shapiro test:\n",
    "        list_of_p_values_CD.append(stats.shapiro(sample_CD_expr_values_nd)[1])\n",
    "        list_of_p_values_HFD.append(stats.shapiro(sample_HFD_expr_values_nd)[1])\n",
    "        \n",
    "    return list_of_p_values_CD, list_of_p_values_HFD \n",
    "        "
   ]
  },
  {
   "cell_type": "code",
   "execution_count": 133,
   "metadata": {
    "collapsed": false
   },
   "outputs": [],
   "source": [
    "normal_distr_CD_p_values, normal_distr_HFD_p_values = global_test_normal_distr(microarray_data)"
   ]
  },
  {
   "cell_type": "code",
   "execution_count": 136,
   "metadata": {
    "collapsed": false
   },
   "outputs": [
    {
     "data": {
      "text/plain": [
       "<matplotlib.axes._subplots.AxesSubplot at 0x1536c978>"
      ]
     },
     "execution_count": 136,
     "metadata": {},
     "output_type": "execute_result"
    },
    {
     "data": {
      "image/png": "[encoded data removed]",
      "text/plain": [
       "<matplotlib.figure.Figure at 0x1536cc50>"
      ]
     },
     "metadata": {},
     "output_type": "display_data"
    }
   ],
   "source": [
    "plt.figure(figsize=(10, 10))\n",
    "sns.plt.title('P values of normal distr. of CD')\n",
    "sns.distplot(normal_distr_CD_p_values, kde=False)"
   ]
  },
  {
   "cell_type": "code",
   "execution_count": 137,
   "metadata": {
    "collapsed": false
   },
   "outputs": [
    {
     "data": {
      "text/plain": [
       "<matplotlib.axes._subplots.AxesSubplot at 0x150ded30>"
      ]
     },
     "execution_count": 137,
     "metadata": {},
     "output_type": "execute_result"
    },
    {
     "data": {
      "image/png": "[encoded data removed]",
      "text/plain": [
       "<matplotlib.figure.Figure at 0x15569630>"
      ]
     },
     "metadata": {},
     "output_type": "display_data"
    }
   ],
   "source": [
    "plt.figure(figsize=(10, 10))\n",
    "sns.plt.title('P values of normal distr. of HFD')\n",
    "sns.distplot(normal_distr_HFD_p_values, kde=False)"
   ]
  },
  {
   "cell_type": "markdown",
   "metadata": {},
   "source": [
    "#### Subsubtask 2.2.5: Write a 1-word essay about whether there is any instrinsic philosophical reason that any data follows a normal distribution"
   ]
  },
  {
   "cell_type": "markdown",
   "metadata": {},
   "source": [
    "$\\alpha^2$"
   ]
  },
  {
   "cell_type": "markdown",
   "metadata": {},
   "source": [
    "### Subtask 2.3 Choose a suitable statistical test to assess differential expression, apply it to every row, store the results in a suitable dataframe (you may want to order the genes with respect to their p-values) and finally extract a list of differentially expressed genes (5% significance). How many differentially expressed genes do you get?"
   ]
  },
  {
   "cell_type": "code",
   "execution_count": 302,
   "metadata": {
    "collapsed": true
   },
   "outputs": [],
   "source": [
    "def test_diff_expression(data_diff_expr, alpha=0.05):\n",
    "    ''' This method tests the data_diff_expr dataframe for differential expression and returns the list of \n",
    "    differentially expressed genes with significance alpha.\n",
    "    \n",
    "        data_diff_expr: the dataframe to test\n",
    "        alpha: the significance niveau\n",
    "    '''\n",
    "    \n",
    "    # lists to store the results\n",
    "    list_of_diff_expr_genes = []\n",
    "    list_of_diff_expr_genes_p_values = []\n",
    "    \n",
    "    # iterate over the dataframe\n",
    "    for row_diff_expr in range(data_diff_expr.shape[0]):\n",
    "        \n",
    "        # get the current row\n",
    "        gene_diff_expr = data_diff_expr.iloc[row_diff_expr]\n",
    "    \n",
    "        # BXD92_Liver_CD exists only for CD -> remove it \n",
    "        gene_de_dropped = gene_diff_expr.drop('BXD92_Liver_CD')\n",
    "\n",
    "        # get the CD and HFD expression values\n",
    "        sample_CD_expr_values_de = gene_de_dropped[48:]\n",
    "        sample_HFD_expr_values_de = gene_de_dropped[7:47]\n",
    "        \n",
    "        # apply mannwhitneyu test:\n",
    "        list_of_diff_expr_genes_p_values.append(stats.mannwhitneyu(sample_CD_expr_values_de, \n",
    "                                                                   sample_HFD_expr_values_de)[1])\n",
    "        \n",
    "        # append the results to dataframe\n",
    "        list_of_diff_expr_genes.append(data_diff_expr.index[row_diff_expr])\n",
    "\n",
    "    # create a dataframe storing the results    \n",
    "    return pd.DataFrame({\"gene\" : list_of_diff_expr_genes,\n",
    "                        \"pvalue\" : list_of_diff_expr_genes_p_values}) \n",
    "    \n",
    "    \n",
    "    \n",
    "    "
   ]
  },
  {
   "cell_type": "code",
   "execution_count": 463,
   "metadata": {
    "collapsed": false
   },
   "outputs": [],
   "source": [
    "diff_expressed_results = test_diff_expression(mean_values)"
   ]
  },
  {
   "cell_type": "markdown",
   "metadata": {},
   "source": [
    "## Task 3: Multiple-testing correction"
   ]
  },
  {
   "cell_type": "markdown",
   "metadata": {},
   "source": [
    "You receive an anonymous letter revealing to you that you should do multiple-testing correction, otherwise something awfully bad will happen, or not. Puzzled and shaking you embark on this endeavour.\n",
    "\n",
    "Fredholm, your lab's vodoo priest, is convinced that applying anything else than Bonferroni correction brings death and destruction to the people on the moon. Opportunistically neglecting any potential societal consequences of your actions (technology is neutral after all and who cares about the moon anyway!) you're obsessed to try as many multiple testing procedures as possible.\n",
    "\n",
    "Everything you may need, is most likely found here:\n",
    "\n",
    "http://statsmodels.sourceforge.net/stable/stats.html#multiple-tests-and-multiple-comparison-procedures"
   ]
  },
  {
   "cell_type": "markdown",
   "metadata": {},
   "source": [
    "### Subtask 3.1: For your official report you have to pretend to care about Bonferroni's correction (otherwise it will never pass through Fredholm's office): manually code it (do not use the statsmodels implementation for example) and store the results in a suitable dataframe. How many differentially expressed gene do you get?"
   ]
  },
  {
   "cell_type": "code",
   "execution_count": 339,
   "metadata": {
    "collapsed": false
   },
   "outputs": [],
   "source": [
    "def MHT_correction(resulting_df_2, alpha=0.1, method='bonferroni'):\n",
    "    \"\"\" returns the significant genes:\n",
    "    \n",
    "        resulting_df: the df to analyze\n",
    "        alpha: \n",
    "        method: the method to apply \n",
    "        \n",
    "    \"\"\"\n",
    "    \n",
    "    # get the size of the dataframe\n",
    "    n = resulting_df_2.shape[0]\n",
    "    \n",
    "    # calculate the adjusted p-values\n",
    "    if method is 'bonferroni':\n",
    "        adjusted_p_value = alpha / n\n",
    "    elif method is 'sidak':\n",
    "        adjusted_p_value = 1 - ((1-alpha)**(float(1)/n))\n",
    "        \n",
    "    # get all values which p-values are smaller than the adjusted p-value    \n",
    "    sig_results = resulting_df_2[resulting_df_2[\"pvalue\"] < adjusted_p_value]\n",
    "    \n",
    "    return sig_results.sort_values(by = 'pvalue')"
   ]
  },
  {
   "cell_type": "code",
   "execution_count": 354,
   "metadata": {
    "collapsed": false
   },
   "outputs": [
    {
     "data": {
      "text/html": [
       "<div>\n",
       "<table border=\"1\" class=\"dataframe\">\n",
       "  <thead>\n",
       "    <tr style=\"text-align: right;\">\n",
       "      <th></th>\n",
       "      <th>gene</th>\n",
       "      <th>pvalue</th>\n",
       "    </tr>\n",
       "  </thead>\n",
       "  <tbody>\n",
       "    <tr>\n",
       "      <th>10247</th>\n",
       "      <td>Hus1b</td>\n",
       "      <td>7.155217e-15</td>\n",
       "    </tr>\n",
       "    <tr>\n",
       "      <th>1274</th>\n",
       "      <td>5330416C01Rik</td>\n",
       "      <td>7.160265e-15</td>\n",
       "    </tr>\n",
       "    <tr>\n",
       "      <th>7824</th>\n",
       "      <td>Glra4</td>\n",
       "      <td>7.160265e-15</td>\n",
       "    </tr>\n",
       "    <tr>\n",
       "      <th>3827</th>\n",
       "      <td>Caprin2</td>\n",
       "      <td>7.167842e-15</td>\n",
       "    </tr>\n",
       "    <tr>\n",
       "      <th>5470</th>\n",
       "      <td>D630002G06Rik</td>\n",
       "      <td>7.170369e-15</td>\n",
       "    </tr>\n",
       "    <tr>\n",
       "      <th>14121</th>\n",
       "      <td>Olfr202</td>\n",
       "      <td>7.170369e-15</td>\n",
       "    </tr>\n",
       "    <tr>\n",
       "      <th>1370</th>\n",
       "      <td>6330409D20Rik</td>\n",
       "      <td>7.170369e-15</td>\n",
       "    </tr>\n",
       "    <tr>\n",
       "      <th>14594</th>\n",
       "      <td>Olfr812</td>\n",
       "      <td>7.716758e-15</td>\n",
       "    </tr>\n",
       "    <tr>\n",
       "      <th>19437</th>\n",
       "      <td>Thnsl1</td>\n",
       "      <td>7.733058e-15</td>\n",
       "    </tr>\n",
       "    <tr>\n",
       "      <th>13108</th>\n",
       "      <td>Neurog2</td>\n",
       "      <td>8.330358e-15</td>\n",
       "    </tr>\n",
       "    <tr>\n",
       "      <th>14563</th>\n",
       "      <td>Olfr774</td>\n",
       "      <td>8.333281e-15</td>\n",
       "    </tr>\n",
       "    <tr>\n",
       "      <th>20927</th>\n",
       "      <td>Vmn2r85</td>\n",
       "      <td>8.336205e-15</td>\n",
       "    </tr>\n",
       "    <tr>\n",
       "      <th>7876</th>\n",
       "      <td>Gm10062</td>\n",
       "      <td>8.979288e-15</td>\n",
       "    </tr>\n",
       "    <tr>\n",
       "      <th>5551</th>\n",
       "      <td>Dbndd1</td>\n",
       "      <td>9.677887e-15</td>\n",
       "    </tr>\n",
       "    <tr>\n",
       "      <th>6349</th>\n",
       "      <td>Efcab7</td>\n",
       "      <td>9.677887e-15</td>\n",
       "    </tr>\n",
       "    <tr>\n",
       "      <th>14374</th>\n",
       "      <td>Olfr547</td>\n",
       "      <td>1.042626e-14</td>\n",
       "    </tr>\n",
       "    <tr>\n",
       "      <th>7149</th>\n",
       "      <td>Fbxw17</td>\n",
       "      <td>1.122759e-14</td>\n",
       "    </tr>\n",
       "    <tr>\n",
       "      <th>14493</th>\n",
       "      <td>Olfr689</td>\n",
       "      <td>1.124711e-14</td>\n",
       "    </tr>\n",
       "    <tr>\n",
       "      <th>13970</th>\n",
       "      <td>Olfr1384</td>\n",
       "      <td>1.211041e-14</td>\n",
       "    </tr>\n",
       "    <tr>\n",
       "      <th>12745</th>\n",
       "      <td>Mup4</td>\n",
       "      <td>1.211881e-14</td>\n",
       "    </tr>\n",
       "    <tr>\n",
       "      <th>10114</th>\n",
       "      <td>Hoxd4</td>\n",
       "      <td>1.212301e-14</td>\n",
       "    </tr>\n",
       "    <tr>\n",
       "      <th>3639</th>\n",
       "      <td>C230029F24Rik</td>\n",
       "      <td>1.405659e-14</td>\n",
       "    </tr>\n",
       "    <tr>\n",
       "      <th>12235</th>\n",
       "      <td>Mett5d1</td>\n",
       "      <td>1.406629e-14</td>\n",
       "    </tr>\n",
       "    <tr>\n",
       "      <th>21550</th>\n",
       "      <td>Zfp473</td>\n",
       "      <td>1.407114e-14</td>\n",
       "    </tr>\n",
       "    <tr>\n",
       "      <th>19309</th>\n",
       "      <td>Tdrd1</td>\n",
       "      <td>1.513672e-14</td>\n",
       "    </tr>\n",
       "    <tr>\n",
       "      <th>5125</th>\n",
       "      <td>Csrnp2</td>\n",
       "      <td>1.514713e-14</td>\n",
       "    </tr>\n",
       "    <tr>\n",
       "      <th>13935</th>\n",
       "      <td>Olfr1342</td>\n",
       "      <td>1.515234e-14</td>\n",
       "    </tr>\n",
       "    <tr>\n",
       "      <th>20671</th>\n",
       "      <td>V165-D-J-Cmu</td>\n",
       "      <td>1.632077e-14</td>\n",
       "    </tr>\n",
       "    <tr>\n",
       "      <th>7991</th>\n",
       "      <td>Gm10464</td>\n",
       "      <td>1.755966e-14</td>\n",
       "    </tr>\n",
       "    <tr>\n",
       "      <th>14743</th>\n",
       "      <td>Olig3</td>\n",
       "      <td>1.756567e-14</td>\n",
       "    </tr>\n",
       "    <tr>\n",
       "      <th>...</th>\n",
       "      <td>...</td>\n",
       "      <td>...</td>\n",
       "    </tr>\n",
       "    <tr>\n",
       "      <th>13175</th>\n",
       "      <td>Ninj1</td>\n",
       "      <td>2.161913e-06</td>\n",
       "    </tr>\n",
       "    <tr>\n",
       "      <th>20047</th>\n",
       "      <td>Trim15</td>\n",
       "      <td>2.164427e-06</td>\n",
       "    </tr>\n",
       "    <tr>\n",
       "      <th>5576</th>\n",
       "      <td>Dcdc2a</td>\n",
       "      <td>2.164707e-06</td>\n",
       "    </tr>\n",
       "    <tr>\n",
       "      <th>3668</th>\n",
       "      <td>C430004E15Rik</td>\n",
       "      <td>2.164707e-06</td>\n",
       "    </tr>\n",
       "    <tr>\n",
       "      <th>20767</th>\n",
       "      <td>V1rg9</td>\n",
       "      <td>2.164707e-06</td>\n",
       "    </tr>\n",
       "    <tr>\n",
       "      <th>731</th>\n",
       "      <td>2700078K21Rik</td>\n",
       "      <td>2.164707e-06</td>\n",
       "    </tr>\n",
       "    <tr>\n",
       "      <th>16782</th>\n",
       "      <td>Rgs7</td>\n",
       "      <td>2.165266e-06</td>\n",
       "    </tr>\n",
       "    <tr>\n",
       "      <th>17525</th>\n",
       "      <td>Sema4f</td>\n",
       "      <td>2.165546e-06</td>\n",
       "    </tr>\n",
       "    <tr>\n",
       "      <th>17154</th>\n",
       "      <td>Rps6ka5</td>\n",
       "      <td>2.165546e-06</td>\n",
       "    </tr>\n",
       "    <tr>\n",
       "      <th>17927</th>\n",
       "      <td>Slc1a6</td>\n",
       "      <td>2.165546e-06</td>\n",
       "    </tr>\n",
       "    <tr>\n",
       "      <th>5069</th>\n",
       "      <td>Crybb1</td>\n",
       "      <td>2.165546e-06</td>\n",
       "    </tr>\n",
       "    <tr>\n",
       "      <th>3761</th>\n",
       "      <td>Calb1</td>\n",
       "      <td>2.212928e-06</td>\n",
       "    </tr>\n",
       "    <tr>\n",
       "      <th>19363</th>\n",
       "      <td>Tex14</td>\n",
       "      <td>2.214354e-06</td>\n",
       "    </tr>\n",
       "    <tr>\n",
       "      <th>12449</th>\n",
       "      <td>Mosc1</td>\n",
       "      <td>2.214925e-06</td>\n",
       "    </tr>\n",
       "    <tr>\n",
       "      <th>937</th>\n",
       "      <td>4930415O20Rik</td>\n",
       "      <td>2.214925e-06</td>\n",
       "    </tr>\n",
       "    <tr>\n",
       "      <th>15634</th>\n",
       "      <td>Pnma5</td>\n",
       "      <td>2.215496e-06</td>\n",
       "    </tr>\n",
       "    <tr>\n",
       "      <th>17957</th>\n",
       "      <td>Slc24a5</td>\n",
       "      <td>2.215496e-06</td>\n",
       "    </tr>\n",
       "    <tr>\n",
       "      <th>14829</th>\n",
       "      <td>Otor</td>\n",
       "      <td>2.216067e-06</td>\n",
       "    </tr>\n",
       "    <tr>\n",
       "      <th>4609</th>\n",
       "      <td>Ckmt1</td>\n",
       "      <td>2.216353e-06</td>\n",
       "    </tr>\n",
       "    <tr>\n",
       "      <th>12987</th>\n",
       "      <td>Ncoa5</td>\n",
       "      <td>2.267134e-06</td>\n",
       "    </tr>\n",
       "    <tr>\n",
       "      <th>7984</th>\n",
       "      <td>Gm10451</td>\n",
       "      <td>2.267425e-06</td>\n",
       "    </tr>\n",
       "    <tr>\n",
       "      <th>18616</th>\n",
       "      <td>Spint4</td>\n",
       "      <td>2.267425e-06</td>\n",
       "    </tr>\n",
       "    <tr>\n",
       "      <th>9483</th>\n",
       "      <td>Gpr82</td>\n",
       "      <td>2.267425e-06</td>\n",
       "    </tr>\n",
       "    <tr>\n",
       "      <th>1271</th>\n",
       "      <td>5033430I15Rik</td>\n",
       "      <td>2.267425e-06</td>\n",
       "    </tr>\n",
       "    <tr>\n",
       "      <th>19143</th>\n",
       "      <td>Tas2r126</td>\n",
       "      <td>2.267717e-06</td>\n",
       "    </tr>\n",
       "    <tr>\n",
       "      <th>9135</th>\n",
       "      <td>Gm9359</td>\n",
       "      <td>2.267717e-06</td>\n",
       "    </tr>\n",
       "    <tr>\n",
       "      <th>12619</th>\n",
       "      <td>Msc</td>\n",
       "      <td>2.267717e-06</td>\n",
       "    </tr>\n",
       "    <tr>\n",
       "      <th>8927</th>\n",
       "      <td>Gm7016</td>\n",
       "      <td>2.267717e-06</td>\n",
       "    </tr>\n",
       "    <tr>\n",
       "      <th>4131</th>\n",
       "      <td>Ccr5</td>\n",
       "      <td>2.268300e-06</td>\n",
       "    </tr>\n",
       "    <tr>\n",
       "      <th>11919</th>\n",
       "      <td>Mafk</td>\n",
       "      <td>2.268300e-06</td>\n",
       "    </tr>\n",
       "  </tbody>\n",
       "</table>\n",
       "<p>3096 rows × 2 columns</p>\n",
       "</div>"
      ],
      "text/plain": [
       "                gene        pvalue\n",
       "10247          Hus1b  7.155217e-15\n",
       "1274   5330416C01Rik  7.160265e-15\n",
       "7824           Glra4  7.160265e-15\n",
       "3827         Caprin2  7.167842e-15\n",
       "5470   D630002G06Rik  7.170369e-15\n",
       "14121        Olfr202  7.170369e-15\n",
       "1370   6330409D20Rik  7.170369e-15\n",
       "14594        Olfr812  7.716758e-15\n",
       "19437         Thnsl1  7.733058e-15\n",
       "13108        Neurog2  8.330358e-15\n",
       "14563        Olfr774  8.333281e-15\n",
       "20927        Vmn2r85  8.336205e-15\n",
       "7876         Gm10062  8.979288e-15\n",
       "5551          Dbndd1  9.677887e-15\n",
       "6349          Efcab7  9.677887e-15\n",
       "14374        Olfr547  1.042626e-14\n",
       "7149          Fbxw17  1.122759e-14\n",
       "14493        Olfr689  1.124711e-14\n",
       "13970       Olfr1384  1.211041e-14\n",
       "12745           Mup4  1.211881e-14\n",
       "10114          Hoxd4  1.212301e-14\n",
       "3639   C230029F24Rik  1.405659e-14\n",
       "12235        Mett5d1  1.406629e-14\n",
       "21550         Zfp473  1.407114e-14\n",
       "19309          Tdrd1  1.513672e-14\n",
       "5125          Csrnp2  1.514713e-14\n",
       "13935       Olfr1342  1.515234e-14\n",
       "20671   V165-D-J-Cmu  1.632077e-14\n",
       "7991         Gm10464  1.755966e-14\n",
       "14743          Olig3  1.756567e-14\n",
       "...              ...           ...\n",
       "13175          Ninj1  2.161913e-06\n",
       "20047         Trim15  2.164427e-06\n",
       "5576          Dcdc2a  2.164707e-06\n",
       "3668   C430004E15Rik  2.164707e-06\n",
       "20767          V1rg9  2.164707e-06\n",
       "731    2700078K21Rik  2.164707e-06\n",
       "16782           Rgs7  2.165266e-06\n",
       "17525         Sema4f  2.165546e-06\n",
       "17154        Rps6ka5  2.165546e-06\n",
       "17927         Slc1a6  2.165546e-06\n",
       "5069          Crybb1  2.165546e-06\n",
       "3761           Calb1  2.212928e-06\n",
       "19363          Tex14  2.214354e-06\n",
       "12449          Mosc1  2.214925e-06\n",
       "937    4930415O20Rik  2.214925e-06\n",
       "15634          Pnma5  2.215496e-06\n",
       "17957        Slc24a5  2.215496e-06\n",
       "14829           Otor  2.216067e-06\n",
       "4609           Ckmt1  2.216353e-06\n",
       "12987          Ncoa5  2.267134e-06\n",
       "7984         Gm10451  2.267425e-06\n",
       "18616         Spint4  2.267425e-06\n",
       "9483           Gpr82  2.267425e-06\n",
       "1271   5033430I15Rik  2.267425e-06\n",
       "19143       Tas2r126  2.267717e-06\n",
       "9135          Gm9359  2.267717e-06\n",
       "12619            Msc  2.267717e-06\n",
       "8927          Gm7016  2.267717e-06\n",
       "4131            Ccr5  2.268300e-06\n",
       "11919           Mafk  2.268300e-06\n",
       "\n",
       "[3096 rows x 2 columns]"
      ]
     },
     "execution_count": 354,
     "metadata": {},
     "output_type": "execute_result"
    }
   ],
   "source": [
    "corrected_genes = MHT_correction(diff_expressed_results, alpha=0.05)\n",
    "corrected_genes"
   ]
  },
  {
   "cell_type": "markdown",
   "metadata": {},
   "source": [
    "### Subtask 3.2: Apply all multiple testing procedures you can get your hands on (except Bonferroni; now you should use statsmodels) to your uncorrected p-values and store the results in one (!) dataframe. "
   ]
  },
  {
   "cell_type": "code",
   "execution_count": 236,
   "metadata": {
    "collapsed": false
   },
   "outputs": [],
   "source": [
    "from statsmodels.sandbox.stats.multicomp import multipletests"
   ]
  },
  {
   "cell_type": "code",
   "execution_count": 474,
   "metadata": {
    "collapsed": false
   },
   "outputs": [],
   "source": [
    "def mult_testing(testing_df):\n",
    "    ''' This function applies different multiple testing procedures to the dataframe.\n",
    "    \n",
    "        testing_df: the dataframe to apply multiple testing to.\n",
    "    '''\n",
    "    \n",
    "    # list of correction methods\n",
    "    correction_methods = list([\"sidak\", \"holm-sidak\", \"holm\", \"simes-hochberg\", \"hommel\", \"fdr_bh\", \"fdr_by\", \n",
    "                          \"fdr_tsbh\", \"fdr_tsbky\"])\n",
    "    \n",
    "    # iterate over all correction methods\n",
    "    for correction_method in correction_methods:\n",
    "    \n",
    "        # apply the test\n",
    "        mult_test = multipletests(testing_df['pvalue'], method=correction_method)\n",
    "        \n",
    "        # get the adjusted p-values\n",
    "        adjusted_p_values = mult_test[1]\n",
    "        \n",
    "        # create a new column and add the adjusted p-values\n",
    "        testing_df[correction_method] = adjusted_p_values\n",
    "    \n",
    "    return testing_df\n",
    "\n",
    "    "
   ]
  },
  {
   "cell_type": "code",
   "execution_count": 475,
   "metadata": {
    "collapsed": false
   },
   "outputs": [],
   "source": [
    "mult_testing_result = mult_testing(diff_expressed_results)"
   ]
  },
  {
   "cell_type": "code",
   "execution_count": 477,
   "metadata": {
    "collapsed": false
   },
   "outputs": [
    {
     "data": {
      "text/html": [
       "<div>\n",
       "<table border=\"1\" class=\"dataframe\">\n",
       "  <thead>\n",
       "    <tr style=\"text-align: right;\">\n",
       "      <th></th>\n",
       "      <th>gene</th>\n",
       "      <th>pvalue</th>\n",
       "      <th>sidak</th>\n",
       "      <th>holm-sidak</th>\n",
       "      <th>holm</th>\n",
       "      <th>simes-hochberg</th>\n",
       "      <th>hommel</th>\n",
       "      <th>fdr_bh</th>\n",
       "      <th>fdr_by</th>\n",
       "      <th>fdr_tsbh</th>\n",
       "      <th>fdr_tsbky</th>\n",
       "    </tr>\n",
       "  </thead>\n",
       "  <tbody>\n",
       "    <tr>\n",
       "      <th>0</th>\n",
       "      <td>39872</td>\n",
       "      <td>6.265481e-11</td>\n",
       "      <td>0.000001</td>\n",
       "      <td>0.000001</td>\n",
       "      <td>0.000001</td>\n",
       "      <td>0.000001</td>\n",
       "      <td>0.000001</td>\n",
       "      <td>2.388628e-09</td>\n",
       "      <td>2.524413e-08</td>\n",
       "      <td>1.055814e-09</td>\n",
       "      <td>1.121471e-09</td>\n",
       "    </tr>\n",
       "    <tr>\n",
       "      <th>1</th>\n",
       "      <td>39873</td>\n",
       "      <td>6.018315e-04</td>\n",
       "      <td>0.999998</td>\n",
       "      <td>0.999883</td>\n",
       "      <td>1.000000</td>\n",
       "      <td>0.500000</td>\n",
       "      <td>0.500000</td>\n",
       "      <td>1.932383e-03</td>\n",
       "      <td>2.042232e-02</td>\n",
       "      <td>8.541462e-04</td>\n",
       "      <td>9.072615e-04</td>\n",
       "    </tr>\n",
       "    <tr>\n",
       "      <th>2</th>\n",
       "      <td>39874</td>\n",
       "      <td>3.164228e-02</td>\n",
       "      <td>1.000000</td>\n",
       "      <td>1.000000</td>\n",
       "      <td>1.000000</td>\n",
       "      <td>0.500000</td>\n",
       "      <td>0.500000</td>\n",
       "      <td>5.533046e-02</td>\n",
       "      <td>5.847579e-01</td>\n",
       "      <td>2.445701e-02</td>\n",
       "      <td>2.597787e-02</td>\n",
       "    </tr>\n",
       "    <tr>\n",
       "      <th>3</th>\n",
       "      <td>39875</td>\n",
       "      <td>1.384384e-01</td>\n",
       "      <td>1.000000</td>\n",
       "      <td>1.000000</td>\n",
       "      <td>1.000000</td>\n",
       "      <td>0.500000</td>\n",
       "      <td>0.500000</td>\n",
       "      <td>1.868879e-01</td>\n",
       "      <td>1.000000e+00</td>\n",
       "      <td>8.260765e-02</td>\n",
       "      <td>8.774463e-02</td>\n",
       "    </tr>\n",
       "    <tr>\n",
       "      <th>4</th>\n",
       "      <td>39876</td>\n",
       "      <td>3.676499e-05</td>\n",
       "      <td>0.551901</td>\n",
       "      <td>0.469274</td>\n",
       "      <td>0.633498</td>\n",
       "      <td>0.500000</td>\n",
       "      <td>0.343017</td>\n",
       "      <td>1.739348e-04</td>\n",
       "      <td>1.838224e-03</td>\n",
       "      <td>7.688215e-05</td>\n",
       "      <td>8.166309e-05</td>\n",
       "    </tr>\n",
       "  </tbody>\n",
       "</table>\n",
       "</div>"
      ],
      "text/plain": [
       "    gene        pvalue     sidak  holm-sidak      holm  simes-hochberg  \\\n",
       "0  39872  6.265481e-11  0.000001    0.000001  0.000001        0.000001   \n",
       "1  39873  6.018315e-04  0.999998    0.999883  1.000000        0.500000   \n",
       "2  39874  3.164228e-02  1.000000    1.000000  1.000000        0.500000   \n",
       "3  39875  1.384384e-01  1.000000    1.000000  1.000000        0.500000   \n",
       "4  39876  3.676499e-05  0.551901    0.469274  0.633498        0.500000   \n",
       "\n",
       "     hommel        fdr_bh        fdr_by      fdr_tsbh     fdr_tsbky  \n",
       "0  0.000001  2.388628e-09  2.524413e-08  1.055814e-09  1.121471e-09  \n",
       "1  0.500000  1.932383e-03  2.042232e-02  8.541462e-04  9.072615e-04  \n",
       "2  0.500000  5.533046e-02  5.847579e-01  2.445701e-02  2.597787e-02  \n",
       "3  0.500000  1.868879e-01  1.000000e+00  8.260765e-02  8.774463e-02  \n",
       "4  0.343017  1.739348e-04  1.838224e-03  7.688215e-05  8.166309e-05  "
      ]
     },
     "execution_count": 477,
     "metadata": {},
     "output_type": "execute_result"
    }
   ],
   "source": [
    "mult_testing_result.head()"
   ]
  },
  {
   "cell_type": "markdown",
   "metadata": {},
   "source": [
    "### Subtask 3.3: External visual comparison of the different methods\n",
    "1 Write the DE dataframe to a csv file.\n",
    "2 add a row with either 'numeric' or 'factor' as the first row to describe the data schema and save the file\n",
    "3 use [paco](http://parallelcoordinates.de/paco) to visualize your data in parallel coordinates\n",
    "4 which of the multiple testing methods is the most stringent? What's the relation between the others?"
   ]
  },
  {
   "cell_type": "code",
   "execution_count": 479,
   "metadata": {
    "collapsed": false
   },
   "outputs": [],
   "source": [
    "list1 = [\"factor\"]\n",
    "list2 = [\"numeric\"]*10\n",
    "blabla = mult_testing_result.copy()\n",
    "blabla.loc[-1] = list1+list2\n",
    "blabla.index = blabla.index + 1\n",
    "blabla = blabla.sort_index()"
   ]
  },
  {
   "cell_type": "code",
   "execution_count": 481,
   "metadata": {
    "collapsed": false
   },
   "outputs": [],
   "source": [
    "blabla.to_csv(\"results/diff_expr_genes.csv\", index=False)"
   ]
  },
  {
   "cell_type": "code",
   "execution_count": 482,
   "metadata": {
    "collapsed": true
   },
   "outputs": [],
   "source": [
    "# TODO: which of the multiple testing methods is the most stringent? What's the relation between the others?"
   ]
  },
  {
   "cell_type": "markdown",
   "metadata": {},
   "source": [
    "### Subtask 3.4: Select a random method applied in 3.2 and extract the corresponding list of differentially expressed genes. Is this list contain more or less genes than the list from 2.3? Does it contain more or less genes than your Bonferroni list? ;)"
   ]
  },
  {
   "cell_type": "code",
   "execution_count": 465,
   "metadata": {
    "collapsed": false
   },
   "outputs": [
    {
     "data": {
      "text/plain": [
       "3096"
      ]
     },
     "execution_count": 465,
     "metadata": {},
     "output_type": "execute_result"
    }
   ],
   "source": [
    "# dataframe containing the bonferroni results:\n",
    "len(corrected_genes) "
   ]
  },
  {
   "cell_type": "code",
   "execution_count": 469,
   "metadata": {
    "collapsed": false
   },
   "outputs": [],
   "source": [
    "# do correction with hommel\n",
    "hommel_results = multipletests(diff_expressed_results['pvalue'], method=\"hommel\", alpha=0.05)"
   ]
  },
  {
   "cell_type": "code",
   "execution_count": 471,
   "metadata": {
    "collapsed": false
   },
   "outputs": [
    {
     "data": {
      "text/plain": [
       "3312"
      ]
     },
     "execution_count": 471,
     "metadata": {},
     "output_type": "execute_result"
    }
   ],
   "source": [
    "# get the number of diff. expr. genes\n",
    "sum(hommel_results[0])"
   ]
  },
  {
   "cell_type": "markdown",
   "metadata": {},
   "source": [
    "Hommel does contain differentially expressed 3312 genes, while Bonferroni contains only 3096. "
   ]
  },
  {
   "cell_type": "markdown",
   "metadata": {},
   "source": [
    "## Task 4: Vulcano plots"
   ]
  },
  {
   "cell_type": "markdown",
   "metadata": {},
   "source": [
    "Marie de la Stratonovich, the devious intellectual opponent of your (former) beloved idol Josef-Francisco Del-Marre-Doyle just received the glorious Popel prize (the first marsian scientist ever to reveive that prize) for copy-pasting the content of the following papers:\n",
    "\n",
    "1) arXiv:1103.3434 (https://arxiv.org/abs/1103.3434)\n",
    "\n",
    "2) http://www.ncbi.nlm.nih.gov/pubmed/23602812 (doi:10.1016/j.compbiolchem.2013.02.003)\n",
    "\n",
    "Overwhelmed by these achievments (and motivated by your ever declining esteem for Josef-Francisco) your're immensely excited about the joyous prospect of carrying out out the following tasks:"
   ]
  },
  {
   "cell_type": "markdown",
   "metadata": {},
   "source": [
    "### Subtask 4.1: Add a log2 fold change column to the data frame from 3.2 and store it as a csv file."
   ]
  },
  {
   "cell_type": "code",
   "execution_count": 491,
   "metadata": {
    "collapsed": false
   },
   "outputs": [
    {
     "data": {
      "text/html": [
       "<div>\n",
       "<table border=\"1\" class=\"dataframe\">\n",
       "  <thead>\n",
       "    <tr style=\"text-align: right;\">\n",
       "      <th></th>\n",
       "      <th>Original_Order</th>\n",
       "      <th>MATCH_ORDER</th>\n",
       "      <th>Probeset</th>\n",
       "      <th>Unnamed: 6</th>\n",
       "      <th>Range CD</th>\n",
       "      <th>Range HFD</th>\n",
       "      <th>Range_All</th>\n",
       "      <th>C57BL/6J_Liver_CD</th>\n",
       "      <th>DBA/2J_Liver_CD</th>\n",
       "      <th>BXD43_Liver_CD</th>\n",
       "      <th>...</th>\n",
       "      <th>BXD89_Liver_HFD</th>\n",
       "      <th>BXD90_Liver_HFD</th>\n",
       "      <th>BXD95_Liver_HFD</th>\n",
       "      <th>BXD96_Liver_HFD</th>\n",
       "      <th>BXD97_Liver_HFD</th>\n",
       "      <th>BXD98_Liver_HFD</th>\n",
       "      <th>BXD99_Liver_HFD</th>\n",
       "      <th>BXD100_Liver_HFD</th>\n",
       "      <th>BXD101_Liver_HFD</th>\n",
       "      <th>BXD103_Liver_HFD</th>\n",
       "    </tr>\n",
       "    <tr>\n",
       "      <th>Gene</th>\n",
       "      <th></th>\n",
       "      <th></th>\n",
       "      <th></th>\n",
       "      <th></th>\n",
       "      <th></th>\n",
       "      <th></th>\n",
       "      <th></th>\n",
       "      <th></th>\n",
       "      <th></th>\n",
       "      <th></th>\n",
       "      <th></th>\n",
       "      <th></th>\n",
       "      <th></th>\n",
       "      <th></th>\n",
       "      <th></th>\n",
       "      <th></th>\n",
       "      <th></th>\n",
       "      <th></th>\n",
       "      <th></th>\n",
       "      <th></th>\n",
       "      <th></th>\n",
       "    </tr>\n",
       "  </thead>\n",
       "  <tbody>\n",
       "    <tr>\n",
       "      <th>39872</th>\n",
       "      <td>31277.0</td>\n",
       "      <td>NaN</td>\n",
       "      <td>10572050.0</td>\n",
       "      <td>NaN</td>\n",
       "      <td>2.297397</td>\n",
       "      <td>1.496923</td>\n",
       "      <td>2.297397</td>\n",
       "      <td>7.864</td>\n",
       "      <td>7.180</td>\n",
       "      <td>7.067</td>\n",
       "      <td>...</td>\n",
       "      <td>7.538</td>\n",
       "      <td>7.707</td>\n",
       "      <td>7.491</td>\n",
       "      <td>7.923</td>\n",
       "      <td>7.601</td>\n",
       "      <td>7.780</td>\n",
       "      <td>7.597</td>\n",
       "      <td>7.679</td>\n",
       "      <td>7.666</td>\n",
       "      <td>7.725</td>\n",
       "    </tr>\n",
       "    <tr>\n",
       "      <th>39873</th>\n",
       "      <td>17826.0</td>\n",
       "      <td>NaN</td>\n",
       "      <td>10450025.0</td>\n",
       "      <td>NaN</td>\n",
       "      <td>1.458009</td>\n",
       "      <td>1.611049</td>\n",
       "      <td>1.611049</td>\n",
       "      <td>10.778</td>\n",
       "      <td>10.730</td>\n",
       "      <td>10.931</td>\n",
       "      <td>...</td>\n",
       "      <td>11.015</td>\n",
       "      <td>10.983</td>\n",
       "      <td>10.982</td>\n",
       "      <td>11.153</td>\n",
       "      <td>11.189</td>\n",
       "      <td>11.026</td>\n",
       "      <td>11.054</td>\n",
       "      <td>11.064</td>\n",
       "      <td>11.006</td>\n",
       "      <td>10.808</td>\n",
       "    </tr>\n",
       "    <tr>\n",
       "      <th>39874</th>\n",
       "      <td>18766.0</td>\n",
       "      <td>NaN</td>\n",
       "      <td>10458983.0</td>\n",
       "      <td>NaN</td>\n",
       "      <td>1.542211</td>\n",
       "      <td>1.588869</td>\n",
       "      <td>1.604362</td>\n",
       "      <td>7.527</td>\n",
       "      <td>7.754</td>\n",
       "      <td>7.533</td>\n",
       "      <td>...</td>\n",
       "      <td>7.581</td>\n",
       "      <td>7.488</td>\n",
       "      <td>7.554</td>\n",
       "      <td>7.461</td>\n",
       "      <td>7.592</td>\n",
       "      <td>7.425</td>\n",
       "      <td>7.410</td>\n",
       "      <td>7.539</td>\n",
       "      <td>7.388</td>\n",
       "      <td>7.334</td>\n",
       "    </tr>\n",
       "    <tr>\n",
       "      <th>39875</th>\n",
       "      <td>7705.0</td>\n",
       "      <td>NaN</td>\n",
       "      <td>10355474.0</td>\n",
       "      <td>NaN</td>\n",
       "      <td>1.718322</td>\n",
       "      <td>1.606588</td>\n",
       "      <td>1.772763</td>\n",
       "      <td>6.773</td>\n",
       "      <td>7.288</td>\n",
       "      <td>7.289</td>\n",
       "      <td>...</td>\n",
       "      <td>7.307</td>\n",
       "      <td>7.333</td>\n",
       "      <td>7.555</td>\n",
       "      <td>7.098</td>\n",
       "      <td>7.101</td>\n",
       "      <td>7.091</td>\n",
       "      <td>7.246</td>\n",
       "      <td>7.021</td>\n",
       "      <td>7.246</td>\n",
       "      <td>7.339</td>\n",
       "    </tr>\n",
       "    <tr>\n",
       "      <th>39876</th>\n",
       "      <td>19195.0</td>\n",
       "      <td>NaN</td>\n",
       "      <td>10462791.0</td>\n",
       "      <td>NaN</td>\n",
       "      <td>1.593280</td>\n",
       "      <td>1.705270</td>\n",
       "      <td>1.854461</td>\n",
       "      <td>11.095</td>\n",
       "      <td>11.272</td>\n",
       "      <td>11.690</td>\n",
       "      <td>...</td>\n",
       "      <td>11.360</td>\n",
       "      <td>11.447</td>\n",
       "      <td>11.450</td>\n",
       "      <td>11.136</td>\n",
       "      <td>11.382</td>\n",
       "      <td>11.390</td>\n",
       "      <td>11.561</td>\n",
       "      <td>11.031</td>\n",
       "      <td>11.189</td>\n",
       "      <td>11.204</td>\n",
       "    </tr>\n",
       "  </tbody>\n",
       "</table>\n",
       "<p>5 rows × 89 columns</p>\n",
       "</div>"
      ],
      "text/plain": [
       "       Original_Order  MATCH_ORDER    Probeset  Unnamed: 6  Range CD  \\\n",
       "Gene                                                                   \n",
       "39872         31277.0          NaN  10572050.0         NaN  2.297397   \n",
       "39873         17826.0          NaN  10450025.0         NaN  1.458009   \n",
       "39874         18766.0          NaN  10458983.0         NaN  1.542211   \n",
       "39875          7705.0          NaN  10355474.0         NaN  1.718322   \n",
       "39876         19195.0          NaN  10462791.0         NaN  1.593280   \n",
       "\n",
       "       Range HFD  Range_All  C57BL/6J_Liver_CD  DBA/2J_Liver_CD  \\\n",
       "Gene                                                              \n",
       "39872   1.496923   2.297397              7.864            7.180   \n",
       "39873   1.611049   1.611049             10.778           10.730   \n",
       "39874   1.588869   1.604362              7.527            7.754   \n",
       "39875   1.606588   1.772763              6.773            7.288   \n",
       "39876   1.705270   1.854461             11.095           11.272   \n",
       "\n",
       "       BXD43_Liver_CD        ...         BXD89_Liver_HFD  BXD90_Liver_HFD  \\\n",
       "Gene                         ...                                            \n",
       "39872           7.067        ...                   7.538            7.707   \n",
       "39873          10.931        ...                  11.015           10.983   \n",
       "39874           7.533        ...                   7.581            7.488   \n",
       "39875           7.289        ...                   7.307            7.333   \n",
       "39876          11.690        ...                  11.360           11.447   \n",
       "\n",
       "       BXD95_Liver_HFD  BXD96_Liver_HFD  BXD97_Liver_HFD  BXD98_Liver_HFD  \\\n",
       "Gene                                                                        \n",
       "39872            7.491            7.923            7.601            7.780   \n",
       "39873           10.982           11.153           11.189           11.026   \n",
       "39874            7.554            7.461            7.592            7.425   \n",
       "39875            7.555            7.098            7.101            7.091   \n",
       "39876           11.450           11.136           11.382           11.390   \n",
       "\n",
       "       BXD99_Liver_HFD  BXD100_Liver_HFD  BXD101_Liver_HFD  BXD103_Liver_HFD  \n",
       "Gene                                                                          \n",
       "39872            7.597             7.679             7.666             7.725  \n",
       "39873           11.054            11.064            11.006            10.808  \n",
       "39874            7.410             7.539             7.388             7.334  \n",
       "39875            7.246             7.021             7.246             7.339  \n",
       "39876           11.561            11.031            11.189            11.204  \n",
       "\n",
       "[5 rows x 89 columns]"
      ]
     },
     "execution_count": 491,
     "metadata": {},
     "output_type": "execute_result"
    }
   ],
   "source": [
    "mean_values.head()"
   ]
  },
  {
   "cell_type": "code",
   "execution_count": 521,
   "metadata": {
    "collapsed": false
   },
   "outputs": [],
   "source": [
    "def calculate_fold_change(data_df, diff_expr_df):\n",
    "    ''' calculates the fold change from data df and adds it as a column to the diff_expr_df\n",
    "    \n",
    "        data_df: the dataframe containing the expression values\n",
    "        diff_expressed_results: the dataframe containing all genes and their corresponding p-values from multiple tests\n",
    "    '''\n",
    "\n",
    "    # fold change: log2(E_1 / E_2) with E_1, E_2 expression values\n",
    "\n",
    "    list_fold_change = []\n",
    "\n",
    "    # iterate over dataframe\n",
    "    for index, gene_row in mean_values.iterrows():\n",
    "    \n",
    "        # drop the BXD92 column\n",
    "        dropped_df = gene_row.drop('BXD92_Liver_CD')\n",
    "        \n",
    "        # get the CD and HFD expression values\n",
    "        CD_expr_values_ = dropped_df[7:47]\n",
    "        HFD_expr_values_ = dropped_df[48:]\n",
    "    \n",
    "        # calculate mean for CD:\n",
    "        mean_CD = CD_expr_values_.mean()\n",
    "    \n",
    "        # calculate mean for HFD:\n",
    "        mean_HFD = HFD_expr_values_.mean()\n",
    "    \n",
    "        # append fold change to list\n",
    "        list_fold_change.append(np.log2(mean_CD / mean_HFD))\n",
    "\n",
    "    # create a copy of the diff_expr_df dataframe\n",
    "    copy_data_df = diff_expr_df.copy()\n",
    "    \n",
    "    # add the column \"log2 fold change\" to the dataframe and use list_fold_change als values\n",
    "    copy_data_df[\"log2 fold change\"] = list_fold_change\n",
    "    \n",
    "    return copy_data_df"
   ]
  },
  {
   "cell_type": "code",
   "execution_count": 522,
   "metadata": {
    "collapsed": false
   },
   "outputs": [],
   "source": [
    "fold_change_df = calculate_fold_change(mean_values, diff_expressed_results)"
   ]
  },
  {
   "cell_type": "code",
   "execution_count": 523,
   "metadata": {
    "collapsed": false
   },
   "outputs": [
    {
     "data": {
      "text/html": [
       "<div>\n",
       "<table border=\"1\" class=\"dataframe\">\n",
       "  <thead>\n",
       "    <tr style=\"text-align: right;\">\n",
       "      <th></th>\n",
       "      <th>gene</th>\n",
       "      <th>pvalue</th>\n",
       "      <th>sidak</th>\n",
       "      <th>holm-sidak</th>\n",
       "      <th>holm</th>\n",
       "      <th>simes-hochberg</th>\n",
       "      <th>hommel</th>\n",
       "      <th>fdr_bh</th>\n",
       "      <th>fdr_by</th>\n",
       "      <th>fdr_tsbh</th>\n",
       "      <th>fdr_tsbky</th>\n",
       "      <th>log2 fold change</th>\n",
       "    </tr>\n",
       "  </thead>\n",
       "  <tbody>\n",
       "    <tr>\n",
       "      <th>0</th>\n",
       "      <td>39872</td>\n",
       "      <td>6.265481e-11</td>\n",
       "      <td>0.000001</td>\n",
       "      <td>0.000001</td>\n",
       "      <td>0.000001</td>\n",
       "      <td>0.000001</td>\n",
       "      <td>0.000001</td>\n",
       "      <td>2.388628e-09</td>\n",
       "      <td>2.524413e-08</td>\n",
       "      <td>1.055814e-09</td>\n",
       "      <td>1.121471e-09</td>\n",
       "      <td>-0.065622</td>\n",
       "    </tr>\n",
       "    <tr>\n",
       "      <th>1</th>\n",
       "      <td>39873</td>\n",
       "      <td>6.018315e-04</td>\n",
       "      <td>0.999998</td>\n",
       "      <td>0.999883</td>\n",
       "      <td>1.000000</td>\n",
       "      <td>0.500000</td>\n",
       "      <td>0.500000</td>\n",
       "      <td>1.932383e-03</td>\n",
       "      <td>2.042232e-02</td>\n",
       "      <td>8.541462e-04</td>\n",
       "      <td>9.072615e-04</td>\n",
       "      <td>-0.015217</td>\n",
       "    </tr>\n",
       "    <tr>\n",
       "      <th>2</th>\n",
       "      <td>39874</td>\n",
       "      <td>3.164228e-02</td>\n",
       "      <td>1.000000</td>\n",
       "      <td>1.000000</td>\n",
       "      <td>1.000000</td>\n",
       "      <td>0.500000</td>\n",
       "      <td>0.500000</td>\n",
       "      <td>5.533046e-02</td>\n",
       "      <td>5.847579e-01</td>\n",
       "      <td>2.445701e-02</td>\n",
       "      <td>2.597787e-02</td>\n",
       "      <td>0.010690</td>\n",
       "    </tr>\n",
       "    <tr>\n",
       "      <th>3</th>\n",
       "      <td>39875</td>\n",
       "      <td>1.384384e-01</td>\n",
       "      <td>1.000000</td>\n",
       "      <td>1.000000</td>\n",
       "      <td>1.000000</td>\n",
       "      <td>0.500000</td>\n",
       "      <td>0.500000</td>\n",
       "      <td>1.868879e-01</td>\n",
       "      <td>1.000000e+00</td>\n",
       "      <td>8.260765e-02</td>\n",
       "      <td>8.774463e-02</td>\n",
       "      <td>-0.008591</td>\n",
       "    </tr>\n",
       "    <tr>\n",
       "      <th>4</th>\n",
       "      <td>39876</td>\n",
       "      <td>3.676499e-05</td>\n",
       "      <td>0.551901</td>\n",
       "      <td>0.469274</td>\n",
       "      <td>0.633498</td>\n",
       "      <td>0.500000</td>\n",
       "      <td>0.343017</td>\n",
       "      <td>1.739348e-04</td>\n",
       "      <td>1.838224e-03</td>\n",
       "      <td>7.688215e-05</td>\n",
       "      <td>8.166309e-05</td>\n",
       "      <td>0.020228</td>\n",
       "    </tr>\n",
       "  </tbody>\n",
       "</table>\n",
       "</div>"
      ],
      "text/plain": [
       "    gene        pvalue     sidak  holm-sidak      holm  simes-hochberg  \\\n",
       "0  39872  6.265481e-11  0.000001    0.000001  0.000001        0.000001   \n",
       "1  39873  6.018315e-04  0.999998    0.999883  1.000000        0.500000   \n",
       "2  39874  3.164228e-02  1.000000    1.000000  1.000000        0.500000   \n",
       "3  39875  1.384384e-01  1.000000    1.000000  1.000000        0.500000   \n",
       "4  39876  3.676499e-05  0.551901    0.469274  0.633498        0.500000   \n",
       "\n",
       "     hommel        fdr_bh        fdr_by      fdr_tsbh     fdr_tsbky  \\\n",
       "0  0.000001  2.388628e-09  2.524413e-08  1.055814e-09  1.121471e-09   \n",
       "1  0.500000  1.932383e-03  2.042232e-02  8.541462e-04  9.072615e-04   \n",
       "2  0.500000  5.533046e-02  5.847579e-01  2.445701e-02  2.597787e-02   \n",
       "3  0.500000  1.868879e-01  1.000000e+00  8.260765e-02  8.774463e-02   \n",
       "4  0.343017  1.739348e-04  1.838224e-03  7.688215e-05  8.166309e-05   \n",
       "\n",
       "   log2 fold change  \n",
       "0         -0.065622  \n",
       "1         -0.015217  \n",
       "2          0.010690  \n",
       "3         -0.008591  \n",
       "4          0.020228  "
      ]
     },
     "execution_count": 523,
     "metadata": {},
     "output_type": "execute_result"
    }
   ],
   "source": [
    "fold_change_df.head()"
   ]
  },
  {
   "cell_type": "markdown",
   "metadata": {},
   "source": [
    "### Subtask 4.2:  Implement a Vulcano plot (from scratch using matplotlib)"
   ]
  },
  {
   "cell_type": "code",
   "execution_count": 548,
   "metadata": {
    "collapsed": true
   },
   "outputs": [],
   "source": [
    "def vulcano_plot(dataframe_to_plot, title='Volcano plot'):\n",
    "    ''' This function draws a vulcano plot for the given dataframe dataframe_to_plot\n",
    "    \n",
    "        dataframe_to_plot: the dataframe to plot\n",
    "        title: the title for the figure\n",
    "    '''\n",
    "    \n",
    "    # get the log2 fold change\n",
    "    X = dataframe_to_plot['log2 fold change']\n",
    "    \n",
    "    # get the -log 10 pvalues\n",
    "    Y = -np.log10(dataframe_to_plot['pvalue'])\n",
    "    \n",
    "    # set title, labels, size\n",
    "    plt.figure(figsize=(15, 10))\n",
    "    plt.xlabel('log2 fold change')\n",
    "    plt.ylabel('-log10 p-value')\n",
    "    plt.title(title)\n",
    "    \n",
    "    # plot figure\n",
    "    plt.scatter(X,Y)\n",
    "    plt.show()\n",
    "\n"
   ]
  },
  {
   "cell_type": "code",
   "execution_count": 549,
   "metadata": {
    "collapsed": false
   },
   "outputs": [
    {
     "data": {
      "image/png": "[encoded data removed]",
      "text/plain": [
       "<matplotlib.figure.Figure at 0x1a9883c8>"
      ]
     },
     "metadata": {},
     "output_type": "display_data"
    }
   ],
   "source": [
    "vulcano_plot(fold_change_df, 'Volcano plot - uncorrected p-values')"
   ]
  },
  {
   "cell_type": "markdown",
   "metadata": {},
   "source": [
    "### Subtask 4.3: Apply your Volcano plot implementation to the uncorrected p-values, as well as the corrected p-values from 3.4 (you should have two plots in the end ;))"
   ]
  },
  {
   "cell_type": "code",
   "execution_count": 528,
   "metadata": {
    "collapsed": true
   },
   "outputs": [],
   "source": [
    "# do bonferroni correction on the data\n",
    "fold_change_df_corrected = MHT_correction(fold_change_df, alpha=0.05)"
   ]
  },
  {
   "cell_type": "code",
   "execution_count": 550,
   "metadata": {
    "collapsed": false
   },
   "outputs": [
    {
     "data": {
      "image/png": "[encoded data removed]",
      "text/plain": [
       "<matplotlib.figure.Figure at 0x20e1ae10>"
      ]
     },
     "metadata": {},
     "output_type": "display_data"
    }
   ],
   "source": [
    "vulcano_plot(fold_change_df_corrected, 'Volcano plot - corrected p-values')"
   ]
  },
  {
   "cell_type": "markdown",
   "metadata": {},
   "source": [
    "## Task 5: RNA-seq"
   ]
  },
  {
   "cell_type": "markdown",
   "metadata": {},
   "source": [
    "There are faint rumours that some supposedly revolutionary technology could also be used to study gene expression. Find out the name of that technology and outline the most striking difference of that technology compared to microarrays from a statistical modeling point of view."
   ]
  },
  {
   "cell_type": "markdown",
   "metadata": {},
   "source": [
    "TODO: weiter ausführen: RNA seq"
   ]
  },
  {
   "cell_type": "markdown",
   "metadata": {},
   "source": []
  }
 ],
 "metadata": {
  "anaconda-cloud": {},
  "kernelspec": {
   "display_name": "Python [Root]",
   "language": "python",
   "name": "Python [Root]"
  },
  "language_info": {
   "codemirror_mode": {
    "name": "ipython",
    "version": 2
   },
   "file_extension": ".py",
   "mimetype": "text/x-python",
   "name": "python",
   "nbconvert_exporter": "python",
   "pygments_lexer": "ipython2",
   "version": "2.7.11"
  },
  "nav_menu": {},
  "toc": {
   "navigate_menu": true,
   "number_sections": true,
   "sideBar": false,
   "threshold": 6,
   "toc_cell": true,
   "toc_section_display": "block",
   "toc_window_display": false
  }
 },
 "nbformat": 4,
 "nbformat_minor": 0
}
