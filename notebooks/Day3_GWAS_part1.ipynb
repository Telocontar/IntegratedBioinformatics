{
 "cells": [
  {
   "cell_type": "markdown",
   "metadata": {
    "toc": "true"
   },
   "source": [
    "# Table of Contents\n",
    " <p><div class=\"lev1\"><a href=\"#Today's-topics\"><span class=\"toc-item-num\">1&nbsp;&nbsp;</span>Today's topics</a></div><div class=\"lev1\"><a href=\"#GWAS-background\"><span class=\"toc-item-num\">2&nbsp;&nbsp;</span>GWAS background</a></div><div class=\"lev1\"><a href=\"#Useful-Resources\"><span class=\"toc-item-num\">3&nbsp;&nbsp;</span>Useful Resources</a></div><div class=\"lev2\"><a href=\"#Packages\"><span class=\"toc-item-num\">3.1&nbsp;&nbsp;</span>Packages</a></div><div class=\"lev3\"><a href=\"#R\"><span class=\"toc-item-num\">3.1.1&nbsp;&nbsp;</span>R</a></div><div class=\"lev3\"><a href=\"#Python\"><span class=\"toc-item-num\">3.1.2&nbsp;&nbsp;</span>Python</a></div><div class=\"lev2\"><a href=\"#Books\"><span class=\"toc-item-num\">3.2&nbsp;&nbsp;</span>Books</a></div><div class=\"lev2\"><a href=\"#Tutorials\"><span class=\"toc-item-num\">3.3&nbsp;&nbsp;</span>Tutorials</a></div><div class=\"lev1\"><a href=\"#Load-data\"><span class=\"toc-item-num\">4&nbsp;&nbsp;</span>Load data</a></div><div class=\"lev2\"><a href=\"#Load-genotype-data-as-pandas-dataframe\"><span class=\"toc-item-num\">4.1&nbsp;&nbsp;</span>Load genotype data as pandas dataframe</a></div><div class=\"lev2\"><a href=\"#Subtask:-Set-SNP-ID-column-as-index\"><span class=\"toc-item-num\">4.2&nbsp;&nbsp;</span>Subtask: Set SNP-ID column as index</a></div><div class=\"lev2\"><a href=\"#Subtask:-Replace-categorical-data-strings-with-numerical-encoding\"><span class=\"toc-item-num\">4.3&nbsp;&nbsp;</span>Subtask: Replace categorical data strings with numerical encoding</a></div><div class=\"lev2\"><a href=\"#Subtask:-Drop-rows-with-unknown-genotypes\"><span class=\"toc-item-num\">4.4&nbsp;&nbsp;</span>Subtask: Drop rows with unknown genotypes</a></div><div class=\"lev2\"><a href=\"#Dowload-categorical-data-from-genenetworks.org\"><span class=\"toc-item-num\">4.5&nbsp;&nbsp;</span>Dowload categorical data from genenetworks.org</a></div><div class=\"lev2\"><a href=\"#Load-phenotype-data-(coat-color)\"><span class=\"toc-item-num\">4.6&nbsp;&nbsp;</span>Load phenotype data (coat color)</a></div><div class=\"lev2\"><a href=\"#Subtask:-remove-rows-with-missing-data\"><span class=\"toc-item-num\">4.7&nbsp;&nbsp;</span>Subtask: remove rows with missing data</a></div><div class=\"lev2\"><a href=\"#Convert-data-to-numeric\"><span class=\"toc-item-num\">4.8&nbsp;&nbsp;</span>Convert data to numeric</a></div><div class=\"lev1\"><a href=\"#Association-tests-between-variant(s)-and-categorical-phenotype\"><span class=\"toc-item-num\">5&nbsp;&nbsp;</span>Association tests between variant(s) and categorical phenotype</a></div><div class=\"lev2\"><a href=\"#Task:-Perfom-association-test-for-a-single-SNP-using-$\\chi^2$-test-and-odds-ratio\"><span class=\"toc-item-num\">5.1&nbsp;&nbsp;</span>Task: Perfom association test for a single SNP using <span class=\"MathJax_Preview\" style=\"color: inherit;\"></span><span class=\"MathJax\" id=\"MathJax-Element-1-Frame\" tabindex=\"0\" data-mathml=\"<math xmlns=&quot;http://www.w3.org/1998/Math/MathML&quot;><msup><mi>&amp;#x03C7;</mi><mn>2</mn></msup></math>\" role=\"presentation\" style=\"position: relative;\"><nobr aria-hidden=\"true\"><span class=\"math\" id=\"MathJax-Span-1\" role=\"math\" style=\"width: 1.176em; display: inline-block;\"><span style=\"display: inline-block; position: relative; width: 0.987em; height: 0px; font-size: 120%;\"><span style=\"position: absolute; clip: rect(1.252em 1000.99em 2.502em -999.998em); top: -2.195em; left: 0.002em;\"><span class=\"mrow\" id=\"MathJax-Span-2\"><span class=\"msubsup\" id=\"MathJax-Span-3\"><span style=\"display: inline-block; position: relative; width: 0.987em; height: 0px;\"><span style=\"position: absolute; clip: rect(3.449em 1000.49em 4.32em -999.998em); top: -4.013em; left: 0.002em;\"><span class=\"mi\" id=\"MathJax-Span-4\" style=\"font-family: STIXMathJax_Main-italic;\">χ<span style=\"display: inline-block; overflow: hidden; height: 1px; width: 0.04em;\"></span></span><span style=\"display: inline-block; width: 0px; height: 4.017em;\"></span></span><span style=\"position: absolute; top: -4.392em; left: 0.57em;\"><span class=\"mn\" id=\"MathJax-Span-5\" style=\"font-size: 70.7%; font-family: STIXMathJax_Main;\">2</span><span style=\"display: inline-block; width: 0px; height: 4.017em;\"></span></span></span></span></span><span style=\"display: inline-block; width: 0px; height: 2.199em;\"></span></span></span><span style=\"display: inline-block; overflow: hidden; vertical-align: -0.27em; border-left: 0px solid; width: 0px; height: 1.366em;\"></span></span></nobr><span class=\"MJX_Assistive_MathML\" role=\"presentation\"><math xmlns=\"http://www.w3.org/1998/Math/MathML\"><msup><mi>χ</mi><mn>2</mn></msup></math></span></span><script type=\"math/tex\" id=\"MathJax-Element-1\">\\chi^2</script> test and odds ratio</a></div><div class=\"lev3\"><a href=\"#Subtask:-Extract-row-of-a-single-SNP-(e.g.-rs6232550)\"><span class=\"toc-item-num\">5.1.1&nbsp;&nbsp;</span>Subtask: Extract row of a single SNP (e.g. rs6232550)</a></div><div class=\"lev3\"><a href=\"#Subtask:-Remove-all-non-strain-genotye-columns\"><span class=\"toc-item-num\">5.1.2&nbsp;&nbsp;</span>Subtask: Remove all non-strain genotye columns</a></div><div class=\"lev3\"><a href=\"#Subtask:-Transpose-row-so-that-it-has-the-same-format-as-the-genotype-data\"><span class=\"toc-item-num\">5.1.3&nbsp;&nbsp;</span>Subtask: Transpose row so that it has the same format as the genotype data</a></div><div class=\"lev3\"><a href=\"#Subtask:-Combine-SNP-data-with-phenotype-data\"><span class=\"toc-item-num\">5.1.4&nbsp;&nbsp;</span>Subtask: Combine SNP data with phenotype data</a></div><div class=\"lev3\"><a href=\"#Subtask:-Check-that-the-merging-worked\"><span class=\"toc-item-num\">5.1.5&nbsp;&nbsp;</span>Subtask: Check that the merging worked</a></div><div class=\"lev3\"><a href=\"#Subtask:-Plot-relationship-between-genotye-and-phenotype\"><span class=\"toc-item-num\">5.1.6&nbsp;&nbsp;</span>Subtask: Plot relationship between genotye and phenotype</a></div><div class=\"lev3\"><a href=\"#Subtask:-Create-contingency-table-for-a-D-dominant-inheritance-model-of-black-coat-color-and-SNP-rs6232550\"><span class=\"toc-item-num\">5.1.7&nbsp;&nbsp;</span>Subtask: Create contingency table for a D-dominant inheritance model of black coat color and SNP rs6232550</a></div><div class=\"lev3\"><a href=\"#Subtask:-Perform-$\\chi^2$-square-test-for-independence-on-the-contingency-table\"><span class=\"toc-item-num\">5.1.8&nbsp;&nbsp;</span>Subtask: Perform <span class=\"MathJax_Preview\" style=\"color: inherit;\"></span><span class=\"MathJax\" id=\"MathJax-Element-2-Frame\" tabindex=\"0\" data-mathml=\"<math xmlns=&quot;http://www.w3.org/1998/Math/MathML&quot;><msup><mi>&amp;#x03C7;</mi><mn>2</mn></msup></math>\" role=\"presentation\" style=\"position: relative;\"><nobr aria-hidden=\"true\"><span class=\"math\" id=\"MathJax-Span-6\" role=\"math\" style=\"width: 1.16em; display: inline-block;\"><span style=\"display: inline-block; position: relative; width: 0.975em; height: 0px; font-size: 120%;\"><span style=\"position: absolute; clip: rect(1.299em 1000.98em 2.595em -999.998em); top: -2.266em; left: 0.002em;\"><span class=\"mrow\" id=\"MathJax-Span-7\"><span class=\"msubsup\" id=\"MathJax-Span-8\"><span style=\"display: inline-block; position: relative; width: 0.975em; height: 0px;\"><span style=\"position: absolute; clip: rect(3.382em 1000.51em 4.308em -999.998em); top: -3.979em; left: 0.002em;\"><span class=\"mi\" id=\"MathJax-Span-9\" style=\"font-family: STIXMathJax_Main-italic;\">χ<span style=\"display: inline-block; overflow: hidden; height: 1px; width: 0.049em;\"></span></span><span style=\"display: inline-block; width: 0px; height: 3.984em;\"></span></span><span style=\"position: absolute; top: -4.35em; left: 0.558em;\"><span class=\"mn\" id=\"MathJax-Span-10\" style=\"font-size: 70.7%; font-family: STIXMathJax_Main;\">2</span><span style=\"display: inline-block; width: 0px; height: 3.984em;\"></span></span></span></span></span><span style=\"display: inline-block; width: 0px; height: 2.271em;\"></span></span></span><span style=\"display: inline-block; overflow: hidden; vertical-align: -0.275em; border-left: 0px solid; width: 0px; height: 1.392em;\"></span></span></nobr><span class=\"MJX_Assistive_MathML\" role=\"presentation\"><math xmlns=\"http://www.w3.org/1998/Math/MathML\"><msup><mi>χ</mi><mn>2</mn></msup></math></span></span><script type=\"math/tex\" id=\"MathJax-Element-2\">\\chi^2</script> square test for independence on the contingency table</a></div><div class=\"lev3\"><a href=\"#Subtask:-Write-function-to-calculate-odds-ratio-from-a-contingency-table\"><span class=\"toc-item-num\">5.1.9&nbsp;&nbsp;</span>Subtask: Write function to calculate odds ratio from a contingency table</a></div><div class=\"lev2\"><a href=\"#Task:-extend-statistical-method-for-a-penetrance-model-in-which-increasing-numbers-of-A-alleles-confer-a-trend-in-risk-(e.g.-additive-or-dominant)\"><span class=\"toc-item-num\">5.2&nbsp;&nbsp;</span>Task: extend statistical method for a penetrance model in which increasing numbers of A alleles confer a trend in risk (e.g. additive or dominant)</a></div><div class=\"lev3\"><a href=\"#Subtask:-Given-the-data-you-have,-could-you-calculate-this-type-of-statistic-for-your-data?\"><span class=\"toc-item-num\">5.2.1&nbsp;&nbsp;</span>Subtask: Given the data you have, could you calculate this type of statistic for your data?</a></div><div class=\"lev2\"><a href=\"#Task:-Refactor-previous-analysis-steps-into-a-function-and-apply-to-all-SNPs\"><span class=\"toc-item-num\">5.3&nbsp;&nbsp;</span>Task: Refactor previous analysis steps into a function and apply to all SNPs</a></div><div class=\"lev3\"><a href=\"#Subtask:-Create-Manhattan-Plot-of--$-\\log_{10}(\\text{P-value})$-vs-chromosome-position\"><span class=\"toc-item-num\">5.3.1&nbsp;&nbsp;</span>Subtask: Create Manhattan Plot of  <span class=\"MathJax_Preview\" style=\"color: inherit;\"></span><span class=\"MathJax\" id=\"MathJax-Element-6-Frame\" tabindex=\"0\" data-mathml=\"<math xmlns=&quot;http://www.w3.org/1998/Math/MathML&quot;><mo>&amp;#x2212;</mo><msub><mi>log</mi><mrow class=&quot;MJX-TeXAtom-ORD&quot;><mn>10</mn></mrow></msub><mo>&amp;#x2061;</mo><mo stretchy=&quot;false&quot;>(</mo><mtext>P-value</mtext><mo stretchy=&quot;false&quot;>)</mo></math>\" role=\"presentation\" style=\"position: relative;\"><nobr aria-hidden=\"true\"><span class=\"math\" id=\"MathJax-Span-26\" role=\"math\" style=\"width: 7.919em; display: inline-block;\"><span style=\"display: inline-block; position: relative; width: 6.576em; height: 0px; font-size: 120%;\"><span style=\"position: absolute; clip: rect(1.669em 1006.53em 2.919em -999.998em); top: -2.498em; left: 0.002em;\"><span class=\"mrow\" id=\"MathJax-Span-27\"><span class=\"mo\" id=\"MathJax-Span-28\" style=\"font-family: STIXMathJax_Main;\">−</span><span class=\"msubsup\" id=\"MathJax-Span-29\" style=\"padding-left: 0.188em;\"><span style=\"display: inline-block; position: relative; width: 2.039em; height: 0px;\"><span style=\"position: absolute; clip: rect(3.15em 1001.25em 4.354em -999.998em); top: -3.979em; left: 0.002em;\"><span class=\"mi\" id=\"MathJax-Span-30\" style=\"font-family: STIXMathJax_Main;\">log</span><span style=\"display: inline-block; width: 0px; height: 3.984em;\"></span></span><span style=\"position: absolute; top: -3.748em; left: 1.299em;\"><span class=\"texatom\" id=\"MathJax-Span-31\"><span class=\"mrow\" id=\"MathJax-Span-32\"><span class=\"mn\" id=\"MathJax-Span-33\" style=\"font-size: 70.7%; font-family: STIXMathJax_Main;\">10</span></span></span><span style=\"display: inline-block; width: 0px; height: 3.984em;\"></span></span></span></span><span class=\"mo\" id=\"MathJax-Span-34\"></span><span class=\"mo\" id=\"MathJax-Span-35\" style=\"font-family: STIXMathJax_Main;\">(</span><span class=\"mtext\" id=\"MathJax-Span-36\" style=\"font-family: STIXMathJax_Main;\">P-value</span><span class=\"mo\" id=\"MathJax-Span-37\" style=\"font-family: STIXMathJax_Main;\">)</span></span><span style=\"display: inline-block; width: 0px; height: 2.502em;\"></span></span></span><span style=\"display: inline-block; overflow: hidden; vertical-align: -0.386em; border-left: 0px solid; width: 0px; height: 1.225em;\"></span></span></nobr><span class=\"MJX_Assistive_MathML\" role=\"presentation\"><math xmlns=\"http://www.w3.org/1998/Math/MathML\"><mo>−</mo><msub><mi>log</mi><mrow class=\"MJX-TeXAtom-ORD\"><mn>10</mn></mrow></msub><mo>⁡</mo><mo stretchy=\"false\">(</mo><mtext>P-value</mtext><mo stretchy=\"false\">)</mo></math></span></span><script type=\"math/tex\" id=\"MathJax-Element-6\">-\\log_{10}(\\text{P-value})</script> vs chromosome position</a></div><div class=\"lev4\"><a href=\"#Bonus-if-you-have-way-too-much-time:-Try-to-make-plot-interactive-(e.g.-add-tooltips-on-hover-using-mpld3)\"><span class=\"toc-item-num\">5.3.1.1&nbsp;&nbsp;</span>Bonus if you have way too much time: Try to make plot interactive (e.g. add tooltips on hover using mpld3)</a></div><div class=\"lev3\"><a href=\"#Subtask:-If-you-have-time,-adapt-function-so-that-it-also-supports-the-non-dominant-inheritance-models\"><span class=\"toc-item-num\">5.3.2&nbsp;&nbsp;</span>Subtask: If you have time, adapt function so that it also supports the non-dominant inheritance models</a></div><div class=\"lev2\"><a href=\"#Task:-Correct-for-Multiple-Hypothesis-Testing\"><span class=\"toc-item-num\">5.4&nbsp;&nbsp;</span>Task: Correct for Multiple Hypothesis Testing</a></div><div class=\"lev3\"><a href=\"#Subtask:-Wrap-your-MHT-correction-in-a-funtion\"><span class=\"toc-item-num\">5.4.1&nbsp;&nbsp;</span>Subtask: Wrap your MHT correction in a funtion</a></div><div class=\"lev3\"><a href=\"#Subtask:-Test-if-the-function-works-as-intended\"><span class=\"toc-item-num\">5.4.2&nbsp;&nbsp;</span>Subtask: Test if the function works as intended</a></div><div class=\"lev2\"><a href=\"#Task:-Identify-candidate-genes-from-identified-loci\"><span class=\"toc-item-num\">5.5&nbsp;&nbsp;</span>Task: Identify candidate genes from identified loci</a></div><div class=\"lev3\"><a href=\"#Subtask:-Identify-genes-in-region-identified-by-significant-loci-(consider-each-chromosome-separately)\"><span class=\"toc-item-num\">5.5.1&nbsp;&nbsp;</span>Subtask: Identify genes in region identified by significant loci (consider each chromosome separately)</a></div><div class=\"lev3\"><a href=\"#Subtask:-Check-if-the-locations-you-found-match-to-what-is-known-from-literature-about-genetics-of-mouse-coat-color\"><span class=\"toc-item-num\">5.5.2&nbsp;&nbsp;</span>Subtask: Check if the locations you found match to what is known from literature about genetics of mouse coat color</a></div><div class=\"lev1\"><a href=\"#Association-tests-between-variant(s)-and-continuous-phenotype¶\"><span class=\"toc-item-num\">6&nbsp;&nbsp;</span>Association tests between variant(s) and continuous phenotype¶</a></div><div class=\"lev2\"><a href=\"#Task:-Import-relevant-functions-from-scipy\"><span class=\"toc-item-num\">6.1&nbsp;&nbsp;</span>Task: Import relevant functions from scipy</a></div><div class=\"lev2\"><a href=\"#Task:-Load-Phenotype-spreadsheets-from-paper-supplement\"><span class=\"toc-item-num\">6.2&nbsp;&nbsp;</span>Task: Load Phenotype spreadsheets from paper supplement</a></div><div class=\"lev2\"><a href=\"#Task:-Implement-Pearson's-r-based-test-for-correlation\"><span class=\"toc-item-num\">6.3&nbsp;&nbsp;</span>Task: Implement Pearson's r-based test for correlation</a></div><div class=\"lev2\"><a href=\"#Task:-Plot-corresponding-Manhattan-Plot-(using-your-previously-defined-function)\"><span class=\"toc-item-num\">6.4&nbsp;&nbsp;</span>Task: Plot corresponding Manhattan Plot (using your previously defined function)</a></div><div class=\"lev2\"><a href=\"#Task:-Correct-for-multiple-hypothesis-testing\"><span class=\"toc-item-num\">6.5&nbsp;&nbsp;</span>Task: Correct for multiple hypothesis testing</a></div><div class=\"lev1\"><a href=\"#Run-association-tests-for-all-phenotypes-in-Biochemistry,-Hematology,-and-Blood-Pressure\"><span class=\"toc-item-num\">7&nbsp;&nbsp;</span>Run association tests for all phenotypes in Biochemistry, Hematology, and Blood Pressure</a></div><div class=\"lev2\"><a href=\"#Task:-Pick-a-testing-method-from-the-previous-tasks-that-is-applicable-for-the--phenotype-variable-type\"><span class=\"toc-item-num\">7.1&nbsp;&nbsp;</span>Task: Pick a testing method from the previous tasks that is applicable for the  phenotype variable type</a></div><div class=\"lev2\"><a href=\"#Task:-Iteratively-apply-functionality-to-all-phenotypes\"><span class=\"toc-item-num\">7.2&nbsp;&nbsp;</span>Task: Iteratively apply functionality to all phenotypes</a></div><div class=\"lev2\"><a href=\"#Task:-Extract-relevant-information-about-effect-size,-significance,-locus,...\"><span class=\"toc-item-num\">7.3&nbsp;&nbsp;</span>Task: Extract relevant information about effect size, significance, locus,...</a></div><div class=\"lev2\"><a href=\"#Task:-Interpret-results\"><span class=\"toc-item-num\">7.4&nbsp;&nbsp;</span>Task: Interpret results</a></div><div class=\"lev2\"><a href=\"#Task:-For-most-interesting-examples,-try-to-identify-possible-candidate-genes\"><span class=\"toc-item-num\">7.5&nbsp;&nbsp;</span>Task: For most interesting examples, try to identify possible candidate genes</a></div><div class=\"lev2\"><a href=\"#Task:-Quickly-compare-your-results-to-literature\"><span class=\"toc-item-num\">7.6&nbsp;&nbsp;</span>Task: Quickly compare your results to literature</a></div><div class=\"lev2\"><a href=\"#What-confounding-factors-may-have-been-ignored-in-the-current-approach?-How-could-they-be-incorporated?\"><span class=\"toc-item-num\">7.7&nbsp;&nbsp;</span>What confounding factors may have been ignored in the current approach? How could they be incorporated?</a></div><div class=\"lev2\"><a href=\"#Bonus-subtask:-Create-a-QQ-plot-of-the-expected-distribution-of-association-test-statistics-(X-axis)-compared-to-the-observed-values-(Y-axis)\"><span class=\"toc-item-num\">7.8&nbsp;&nbsp;</span>Bonus subtask: Create a QQ-plot of the expected distribution of association test statistics (X-axis) compared to the observed values (Y-axis)</a></div>"
   ]
  },
  {
   "cell_type": "markdown",
   "metadata": {},
   "source": [
    "__Set matplotlib magic__"
   ]
  },
  {
   "cell_type": "code",
   "execution_count": 1,
   "metadata": {
    "collapsed": true,
    "run_control": {
     "frozen": false,
     "read_only": false
    }
   },
   "outputs": [],
   "source": [
    "%matplotlib inline"
   ]
  },
  {
   "cell_type": "markdown",
   "metadata": {},
   "source": [
    "__Imports__"
   ]
  },
  {
   "cell_type": "code",
   "execution_count": 2,
   "metadata": {
    "collapsed": true,
    "run_control": {
     "frozen": false,
     "read_only": false
    }
   },
   "outputs": [],
   "source": [
    "import matplotlib.pyplot as plt\n",
    "import seaborn as sns\n",
    "import pandas as pd\n",
    "import numpy as np"
   ]
  },
  {
   "cell_type": "markdown",
   "metadata": {},
   "source": [
    "# Today's topics\n",
    "We will try to find out which phenotypic traits are associated with genetic markers in the BXD mouse population. This will allow us to make statements about the level of heritability of several traits as well as help us identify candidate genes responsible for specific traits.\n",
    "\n",
    "There are several types of studies relevant in this context:\n",
    "\n",
    "* Single gene association studies\n",
    "* Genome wide association studies\n",
    "* Phenotype wide association studies"
   ]
  },
  {
   "cell_type": "markdown",
   "metadata": {},
   "source": [
    "# GWAS background"
   ]
  },
  {
   "cell_type": "markdown",
   "metadata": {},
   "source": [
    "http://www.ncbi.nlm.nih.gov/pmc/articles/PMC2736153/ contains information about how to use genenetwork.org to find coat color phenotype and correlate that to expression levels.\n",
    "\n",
    "There is a multitude of papers and review papers out there that describe the basic and more advanced statistical approaches to GWAS studies. The following two can be considered a good entry point to the subject.\n",
    "* Clarke, G. M. et al. __[Basic statistical analysis in genetic case-control studies](http://www.nature.com/nprot/journal/v6/n2/full/nprot.2010.182.html)__. Nature Protocols 6, 121–133 (2011).\n",
    "* McCarthy, M. I. et al. __[Genome-wide association studies for complex traits: consensus, uncertainty and challenges](http://www.nature.com/nrg/journal/v9/n5/full/nrg2344.html)__. Nature Reviews Genetics 9, 356–369 (2008)."
   ]
  },
  {
   "cell_type": "markdown",
   "metadata": {},
   "source": [
    "# Useful Resources"
   ]
  },
  {
   "cell_type": "markdown",
   "metadata": {},
   "source": [
    "## Packages\n",
    "\n",
    "### R\n",
    "* [Matrix eQTL](http://www.bios.unc.edu/research/genomic_software/Matrix_eQTL/)\n",
    "* [GWAS Tools](http://bioconductor.org/packages/release/bioc/html/GWASTools.html)\n",
    "* [GenABEL](http://www.genabel.org/)\n",
    "\n",
    "\n",
    "### Python\n",
    "* [llmlite](http://kbroman.org/lmmlite/assets/compare2pylmm.html)\n",
    "* [pylmm](http://genetics.cs.ucla.edu/pylmm/)\n",
    "* [fstlmm](http://lomereiter.github.io/2015/02/16/lmm_cov.html)\n",
    "* [pyGWAS](https://github.com/timeu/PyGWAS)\n",
    "* [krux](https://github.com/tmichoel/krux/blob/master/python/kruX.py)"
   ]
  },
  {
   "cell_type": "markdown",
   "metadata": {},
   "source": [
    "## Books\n",
    "* [James, Witten, Hastie, Tibshirani, An Introduction to Statistical Learning, Springer Texts, 2013](http://www-bcf.usc.edu/~gareth/ISL/)      \n",
    "* [MacKay, Information Theory, Inference, and Learning Algorithms, Cambridge University Press, 2005](http://www.inference.phy.cam.ac.uk/itila/book.html)\n",
    "\n",
    "\n",
    "## Tutorials\n",
    "* [Logistic regression](http://blog.yhat.com/posts/logistic-regression-and-python.html)   \n",
    "* [Linear regression](http://www.dataschool.io/linear-regression-in-python/)"
   ]
  },
  {
   "cell_type": "markdown",
   "metadata": {},
   "source": [
    "# Load data\n",
    "Before you can work with the data you have to load it and tidy it up a bit. This includes filtering rows with missing values, making sure that numeric columns are indeed of a numeric data type in the data frame, ..."
   ]
  },
  {
   "cell_type": "markdown",
   "metadata": {},
   "source": [
    "## Load genotype data as pandas dataframe\n",
    "Follow the same procedure as done yesterday. You do not have to download the file again, but can load it from your originally stored location."
   ]
  },
  {
   "cell_type": "markdown",
   "metadata": {},
   "source": [
    "__Define variable with path to data directory__"
   ]
  },
  {
   "cell_type": "code",
   "execution_count": 3,
   "metadata": {
    "collapsed": true,
    "run_control": {
     "frozen": false,
     "read_only": false
    }
   },
   "outputs": [],
   "source": [
    "# data directory is data"
   ]
  },
  {
   "cell_type": "markdown",
   "metadata": {},
   "source": [
    "__Load data__"
   ]
  },
  {
   "cell_type": "code",
   "execution_count": 4,
   "metadata": {
    "collapsed": false,
    "run_control": {
     "frozen": false,
     "read_only": false
    }
   },
   "outputs": [
    {
     "data": {
      "text/html": [
       "<div>\n",
       "<table border=\"1\" class=\"dataframe\">\n",
       "  <thead>\n",
       "    <tr style=\"text-align: right;\">\n",
       "      <th></th>\n",
       "      <th>Chr</th>\n",
       "      <th>Locus</th>\n",
       "      <th>cM</th>\n",
       "      <th>Mb</th>\n",
       "      <th>BXD1</th>\n",
       "      <th>BXD2</th>\n",
       "      <th>BXD5</th>\n",
       "      <th>BXD6</th>\n",
       "      <th>BXD8</th>\n",
       "      <th>BXD9</th>\n",
       "      <th>...</th>\n",
       "      <th>BXD90</th>\n",
       "      <th>BXD91</th>\n",
       "      <th>BXD93</th>\n",
       "      <th>BXD94</th>\n",
       "      <th>BXD95</th>\n",
       "      <th>BXD98</th>\n",
       "      <th>BXD99</th>\n",
       "      <th>BXD100</th>\n",
       "      <th>BXD101</th>\n",
       "      <th>BXD102</th>\n",
       "    </tr>\n",
       "  </thead>\n",
       "  <tbody>\n",
       "    <tr>\n",
       "      <th>0</th>\n",
       "      <td>1</td>\n",
       "      <td>rs6269442</td>\n",
       "      <td>0.000</td>\n",
       "      <td>3.482275</td>\n",
       "      <td>B</td>\n",
       "      <td>B</td>\n",
       "      <td>D</td>\n",
       "      <td>D</td>\n",
       "      <td>D</td>\n",
       "      <td>B</td>\n",
       "      <td>...</td>\n",
       "      <td>B</td>\n",
       "      <td>D</td>\n",
       "      <td>B</td>\n",
       "      <td>D</td>\n",
       "      <td>D</td>\n",
       "      <td>B</td>\n",
       "      <td>B</td>\n",
       "      <td>B</td>\n",
       "      <td>B</td>\n",
       "      <td>B</td>\n",
       "    </tr>\n",
       "    <tr>\n",
       "      <th>1</th>\n",
       "      <td>1</td>\n",
       "      <td>rs6365999</td>\n",
       "      <td>0.000</td>\n",
       "      <td>4.811062</td>\n",
       "      <td>B</td>\n",
       "      <td>B</td>\n",
       "      <td>D</td>\n",
       "      <td>D</td>\n",
       "      <td>D</td>\n",
       "      <td>B</td>\n",
       "      <td>...</td>\n",
       "      <td>B</td>\n",
       "      <td>D</td>\n",
       "      <td>B</td>\n",
       "      <td>D</td>\n",
       "      <td>D</td>\n",
       "      <td>B</td>\n",
       "      <td>B</td>\n",
       "      <td>B</td>\n",
       "      <td>B</td>\n",
       "      <td>U</td>\n",
       "    </tr>\n",
       "    <tr>\n",
       "      <th>2</th>\n",
       "      <td>1</td>\n",
       "      <td>rs6376963</td>\n",
       "      <td>0.895</td>\n",
       "      <td>5.008089</td>\n",
       "      <td>B</td>\n",
       "      <td>B</td>\n",
       "      <td>D</td>\n",
       "      <td>D</td>\n",
       "      <td>D</td>\n",
       "      <td>B</td>\n",
       "      <td>...</td>\n",
       "      <td>B</td>\n",
       "      <td>D</td>\n",
       "      <td>B</td>\n",
       "      <td>D</td>\n",
       "      <td>D</td>\n",
       "      <td>B</td>\n",
       "      <td>B</td>\n",
       "      <td>B</td>\n",
       "      <td>B</td>\n",
       "      <td>U</td>\n",
       "    </tr>\n",
       "    <tr>\n",
       "      <th>3</th>\n",
       "      <td>1</td>\n",
       "      <td>rs3677817</td>\n",
       "      <td>1.185</td>\n",
       "      <td>5.176058</td>\n",
       "      <td>B</td>\n",
       "      <td>B</td>\n",
       "      <td>D</td>\n",
       "      <td>D</td>\n",
       "      <td>D</td>\n",
       "      <td>B</td>\n",
       "      <td>...</td>\n",
       "      <td>B</td>\n",
       "      <td>D</td>\n",
       "      <td>B</td>\n",
       "      <td>D</td>\n",
       "      <td>D</td>\n",
       "      <td>B</td>\n",
       "      <td>B</td>\n",
       "      <td>B</td>\n",
       "      <td>B</td>\n",
       "      <td>U</td>\n",
       "    </tr>\n",
       "    <tr>\n",
       "      <th>4</th>\n",
       "      <td>1</td>\n",
       "      <td>rs8236463</td>\n",
       "      <td>2.081</td>\n",
       "      <td>5.579193</td>\n",
       "      <td>B</td>\n",
       "      <td>B</td>\n",
       "      <td>D</td>\n",
       "      <td>D</td>\n",
       "      <td>D</td>\n",
       "      <td>B</td>\n",
       "      <td>...</td>\n",
       "      <td>B</td>\n",
       "      <td>D</td>\n",
       "      <td>B</td>\n",
       "      <td>D</td>\n",
       "      <td>D</td>\n",
       "      <td>B</td>\n",
       "      <td>B</td>\n",
       "      <td>B</td>\n",
       "      <td>B</td>\n",
       "      <td>U</td>\n",
       "    </tr>\n",
       "  </tbody>\n",
       "</table>\n",
       "<p>5 rows × 97 columns</p>\n",
       "</div>"
      ],
      "text/plain": [
       "  Chr      Locus     cM        Mb BXD1 BXD2 BXD5 BXD6 BXD8 BXD9  ...   BXD90  \\\n",
       "0   1  rs6269442  0.000  3.482275    B    B    D    D    D    B  ...       B   \n",
       "1   1  rs6365999  0.000  4.811062    B    B    D    D    D    B  ...       B   \n",
       "2   1  rs6376963  0.895  5.008089    B    B    D    D    D    B  ...       B   \n",
       "3   1  rs3677817  1.185  5.176058    B    B    D    D    D    B  ...       B   \n",
       "4   1  rs8236463  2.081  5.579193    B    B    D    D    D    B  ...       B   \n",
       "\n",
       "  BXD91 BXD93 BXD94 BXD95 BXD98 BXD99 BXD100 BXD101 BXD102  \n",
       "0     D     B     D     D     B     B      B      B      B  \n",
       "1     D     B     D     D     B     B      B      B      U  \n",
       "2     D     B     D     D     B     B      B      B      U  \n",
       "3     D     B     D     D     B     B      B      B      U  \n",
       "4     D     B     D     D     B     B      B      B      U  \n",
       "\n",
       "[5 rows x 97 columns]"
      ]
     },
     "execution_count": 4,
     "metadata": {},
     "output_type": "execute_result"
    }
   ],
   "source": [
    "genotype_df = pd.read_table(\"data/genotype.txt\", comment = '@')\n",
    "genotype_df.head()"
   ]
  },
  {
   "cell_type": "code",
   "execution_count": 5,
   "metadata": {
    "collapsed": false
   },
   "outputs": [],
   "source": [
    "phenotype_df = pd.read_excel(\"data/phenotype.xlsx\", sheetname=None)"
   ]
  },
  {
   "cell_type": "markdown",
   "metadata": {},
   "source": [
    "__Deal with missing values__"
   ]
  },
  {
   "cell_type": "code",
   "execution_count": 6,
   "metadata": {
    "collapsed": false
   },
   "outputs": [],
   "source": [
    "genotype_df.replace(\"x\", np.nan, inplace=True)\n",
    "for key in phenotype_df:\n",
    "    phenotype_df[key].replace(\"x\", np.nan, inplace=True)"
   ]
  },
  {
   "cell_type": "markdown",
   "metadata": {},
   "source": [
    "## Subtask: Set SNP-ID column as index"
   ]
  },
  {
   "cell_type": "code",
   "execution_count": 7,
   "metadata": {
    "collapsed": false,
    "run_control": {
     "frozen": false,
     "read_only": false
    }
   },
   "outputs": [
    {
     "data": {
      "text/html": [
       "<div>\n",
       "<table border=\"1\" class=\"dataframe\">\n",
       "  <thead>\n",
       "    <tr style=\"text-align: right;\">\n",
       "      <th></th>\n",
       "      <th>Chr</th>\n",
       "      <th>cM</th>\n",
       "      <th>Mb</th>\n",
       "      <th>BXD1</th>\n",
       "      <th>BXD2</th>\n",
       "      <th>BXD5</th>\n",
       "      <th>BXD6</th>\n",
       "      <th>BXD8</th>\n",
       "      <th>BXD9</th>\n",
       "      <th>BXD11</th>\n",
       "      <th>...</th>\n",
       "      <th>BXD90</th>\n",
       "      <th>BXD91</th>\n",
       "      <th>BXD93</th>\n",
       "      <th>BXD94</th>\n",
       "      <th>BXD95</th>\n",
       "      <th>BXD98</th>\n",
       "      <th>BXD99</th>\n",
       "      <th>BXD100</th>\n",
       "      <th>BXD101</th>\n",
       "      <th>BXD102</th>\n",
       "    </tr>\n",
       "    <tr>\n",
       "      <th>Locus</th>\n",
       "      <th></th>\n",
       "      <th></th>\n",
       "      <th></th>\n",
       "      <th></th>\n",
       "      <th></th>\n",
       "      <th></th>\n",
       "      <th></th>\n",
       "      <th></th>\n",
       "      <th></th>\n",
       "      <th></th>\n",
       "      <th></th>\n",
       "      <th></th>\n",
       "      <th></th>\n",
       "      <th></th>\n",
       "      <th></th>\n",
       "      <th></th>\n",
       "      <th></th>\n",
       "      <th></th>\n",
       "      <th></th>\n",
       "      <th></th>\n",
       "      <th></th>\n",
       "    </tr>\n",
       "  </thead>\n",
       "  <tbody>\n",
       "    <tr>\n",
       "      <th>rs6269442</th>\n",
       "      <td>1</td>\n",
       "      <td>0.000</td>\n",
       "      <td>3.482275</td>\n",
       "      <td>B</td>\n",
       "      <td>B</td>\n",
       "      <td>D</td>\n",
       "      <td>D</td>\n",
       "      <td>D</td>\n",
       "      <td>B</td>\n",
       "      <td>B</td>\n",
       "      <td>...</td>\n",
       "      <td>B</td>\n",
       "      <td>D</td>\n",
       "      <td>B</td>\n",
       "      <td>D</td>\n",
       "      <td>D</td>\n",
       "      <td>B</td>\n",
       "      <td>B</td>\n",
       "      <td>B</td>\n",
       "      <td>B</td>\n",
       "      <td>B</td>\n",
       "    </tr>\n",
       "    <tr>\n",
       "      <th>rs6365999</th>\n",
       "      <td>1</td>\n",
       "      <td>0.000</td>\n",
       "      <td>4.811062</td>\n",
       "      <td>B</td>\n",
       "      <td>B</td>\n",
       "      <td>D</td>\n",
       "      <td>D</td>\n",
       "      <td>D</td>\n",
       "      <td>B</td>\n",
       "      <td>B</td>\n",
       "      <td>...</td>\n",
       "      <td>B</td>\n",
       "      <td>D</td>\n",
       "      <td>B</td>\n",
       "      <td>D</td>\n",
       "      <td>D</td>\n",
       "      <td>B</td>\n",
       "      <td>B</td>\n",
       "      <td>B</td>\n",
       "      <td>B</td>\n",
       "      <td>U</td>\n",
       "    </tr>\n",
       "    <tr>\n",
       "      <th>rs6376963</th>\n",
       "      <td>1</td>\n",
       "      <td>0.895</td>\n",
       "      <td>5.008089</td>\n",
       "      <td>B</td>\n",
       "      <td>B</td>\n",
       "      <td>D</td>\n",
       "      <td>D</td>\n",
       "      <td>D</td>\n",
       "      <td>B</td>\n",
       "      <td>B</td>\n",
       "      <td>...</td>\n",
       "      <td>B</td>\n",
       "      <td>D</td>\n",
       "      <td>B</td>\n",
       "      <td>D</td>\n",
       "      <td>D</td>\n",
       "      <td>B</td>\n",
       "      <td>B</td>\n",
       "      <td>B</td>\n",
       "      <td>B</td>\n",
       "      <td>U</td>\n",
       "    </tr>\n",
       "    <tr>\n",
       "      <th>rs3677817</th>\n",
       "      <td>1</td>\n",
       "      <td>1.185</td>\n",
       "      <td>5.176058</td>\n",
       "      <td>B</td>\n",
       "      <td>B</td>\n",
       "      <td>D</td>\n",
       "      <td>D</td>\n",
       "      <td>D</td>\n",
       "      <td>B</td>\n",
       "      <td>B</td>\n",
       "      <td>...</td>\n",
       "      <td>B</td>\n",
       "      <td>D</td>\n",
       "      <td>B</td>\n",
       "      <td>D</td>\n",
       "      <td>D</td>\n",
       "      <td>B</td>\n",
       "      <td>B</td>\n",
       "      <td>B</td>\n",
       "      <td>B</td>\n",
       "      <td>U</td>\n",
       "    </tr>\n",
       "    <tr>\n",
       "      <th>rs8236463</th>\n",
       "      <td>1</td>\n",
       "      <td>2.081</td>\n",
       "      <td>5.579193</td>\n",
       "      <td>B</td>\n",
       "      <td>B</td>\n",
       "      <td>D</td>\n",
       "      <td>D</td>\n",
       "      <td>D</td>\n",
       "      <td>B</td>\n",
       "      <td>D</td>\n",
       "      <td>...</td>\n",
       "      <td>B</td>\n",
       "      <td>D</td>\n",
       "      <td>B</td>\n",
       "      <td>D</td>\n",
       "      <td>D</td>\n",
       "      <td>B</td>\n",
       "      <td>B</td>\n",
       "      <td>B</td>\n",
       "      <td>B</td>\n",
       "      <td>U</td>\n",
       "    </tr>\n",
       "  </tbody>\n",
       "</table>\n",
       "<p>5 rows × 96 columns</p>\n",
       "</div>"
      ],
      "text/plain": [
       "          Chr     cM        Mb BXD1 BXD2 BXD5 BXD6 BXD8 BXD9 BXD11  ...    \\\n",
       "Locus                                                               ...     \n",
       "rs6269442   1  0.000  3.482275    B    B    D    D    D    B     B  ...     \n",
       "rs6365999   1  0.000  4.811062    B    B    D    D    D    B     B  ...     \n",
       "rs6376963   1  0.895  5.008089    B    B    D    D    D    B     B  ...     \n",
       "rs3677817   1  1.185  5.176058    B    B    D    D    D    B     B  ...     \n",
       "rs8236463   1  2.081  5.579193    B    B    D    D    D    B     D  ...     \n",
       "\n",
       "          BXD90 BXD91 BXD93 BXD94 BXD95 BXD98 BXD99 BXD100 BXD101 BXD102  \n",
       "Locus                                                                     \n",
       "rs6269442     B     D     B     D     D     B     B      B      B      B  \n",
       "rs6365999     B     D     B     D     D     B     B      B      B      U  \n",
       "rs6376963     B     D     B     D     D     B     B      B      B      U  \n",
       "rs3677817     B     D     B     D     D     B     B      B      B      U  \n",
       "rs8236463     B     D     B     D     D     B     B      B      B      U  \n",
       "\n",
       "[5 rows x 96 columns]"
      ]
     },
     "execution_count": 7,
     "metadata": {},
     "output_type": "execute_result"
    }
   ],
   "source": [
    "genotype_df.set_index(\"Locus\", inplace=True)\n",
    "genotype_df.head()"
   ]
  },
  {
   "cell_type": "markdown",
   "metadata": {},
   "source": [
    "## Subtask: Replace categorical data strings with numerical encoding\n",
    "\n",
    "Let's assume the following mapping from the categorical variable to integers.\n",
    "\n",
    "|strain| value  |\n",
    "|------|--------|\n",
    "|  B   |  0     |\n",
    "|  H   |  1     |\n",
    "|  D   |  2     |\n",
    "|  U   | missing|"
   ]
  },
  {
   "cell_type": "code",
   "execution_count": 8,
   "metadata": {
    "collapsed": false,
    "run_control": {
     "frozen": false,
     "read_only": false
    }
   },
   "outputs": [
    {
     "data": {
      "text/html": [
       "<div>\n",
       "<table border=\"1\" class=\"dataframe\">\n",
       "  <thead>\n",
       "    <tr style=\"text-align: right;\">\n",
       "      <th></th>\n",
       "      <th>Chr</th>\n",
       "      <th>cM</th>\n",
       "      <th>Mb</th>\n",
       "      <th>BXD1</th>\n",
       "      <th>BXD2</th>\n",
       "      <th>BXD5</th>\n",
       "      <th>BXD6</th>\n",
       "      <th>BXD8</th>\n",
       "      <th>BXD9</th>\n",
       "      <th>BXD11</th>\n",
       "      <th>...</th>\n",
       "      <th>BXD90</th>\n",
       "      <th>BXD91</th>\n",
       "      <th>BXD93</th>\n",
       "      <th>BXD94</th>\n",
       "      <th>BXD95</th>\n",
       "      <th>BXD98</th>\n",
       "      <th>BXD99</th>\n",
       "      <th>BXD100</th>\n",
       "      <th>BXD101</th>\n",
       "      <th>BXD102</th>\n",
       "    </tr>\n",
       "    <tr>\n",
       "      <th>Locus</th>\n",
       "      <th></th>\n",
       "      <th></th>\n",
       "      <th></th>\n",
       "      <th></th>\n",
       "      <th></th>\n",
       "      <th></th>\n",
       "      <th></th>\n",
       "      <th></th>\n",
       "      <th></th>\n",
       "      <th></th>\n",
       "      <th></th>\n",
       "      <th></th>\n",
       "      <th></th>\n",
       "      <th></th>\n",
       "      <th></th>\n",
       "      <th></th>\n",
       "      <th></th>\n",
       "      <th></th>\n",
       "      <th></th>\n",
       "      <th></th>\n",
       "      <th></th>\n",
       "    </tr>\n",
       "  </thead>\n",
       "  <tbody>\n",
       "    <tr>\n",
       "      <th>rs6269442</th>\n",
       "      <td>1</td>\n",
       "      <td>0.000</td>\n",
       "      <td>3.482275</td>\n",
       "      <td>0</td>\n",
       "      <td>0</td>\n",
       "      <td>2</td>\n",
       "      <td>2.0</td>\n",
       "      <td>2</td>\n",
       "      <td>0</td>\n",
       "      <td>0</td>\n",
       "      <td>...</td>\n",
       "      <td>0.0</td>\n",
       "      <td>2</td>\n",
       "      <td>0</td>\n",
       "      <td>2.0</td>\n",
       "      <td>2</td>\n",
       "      <td>0</td>\n",
       "      <td>0</td>\n",
       "      <td>0</td>\n",
       "      <td>0.0</td>\n",
       "      <td>0.0</td>\n",
       "    </tr>\n",
       "    <tr>\n",
       "      <th>rs6365999</th>\n",
       "      <td>1</td>\n",
       "      <td>0.000</td>\n",
       "      <td>4.811062</td>\n",
       "      <td>0</td>\n",
       "      <td>0</td>\n",
       "      <td>2</td>\n",
       "      <td>2.0</td>\n",
       "      <td>2</td>\n",
       "      <td>0</td>\n",
       "      <td>0</td>\n",
       "      <td>...</td>\n",
       "      <td>0.0</td>\n",
       "      <td>2</td>\n",
       "      <td>0</td>\n",
       "      <td>2.0</td>\n",
       "      <td>2</td>\n",
       "      <td>0</td>\n",
       "      <td>0</td>\n",
       "      <td>0</td>\n",
       "      <td>0.0</td>\n",
       "      <td>NaN</td>\n",
       "    </tr>\n",
       "    <tr>\n",
       "      <th>rs6376963</th>\n",
       "      <td>1</td>\n",
       "      <td>0.895</td>\n",
       "      <td>5.008089</td>\n",
       "      <td>0</td>\n",
       "      <td>0</td>\n",
       "      <td>2</td>\n",
       "      <td>2.0</td>\n",
       "      <td>2</td>\n",
       "      <td>0</td>\n",
       "      <td>0</td>\n",
       "      <td>...</td>\n",
       "      <td>0.0</td>\n",
       "      <td>2</td>\n",
       "      <td>0</td>\n",
       "      <td>2.0</td>\n",
       "      <td>2</td>\n",
       "      <td>0</td>\n",
       "      <td>0</td>\n",
       "      <td>0</td>\n",
       "      <td>0.0</td>\n",
       "      <td>NaN</td>\n",
       "    </tr>\n",
       "    <tr>\n",
       "      <th>rs3677817</th>\n",
       "      <td>1</td>\n",
       "      <td>1.185</td>\n",
       "      <td>5.176058</td>\n",
       "      <td>0</td>\n",
       "      <td>0</td>\n",
       "      <td>2</td>\n",
       "      <td>2.0</td>\n",
       "      <td>2</td>\n",
       "      <td>0</td>\n",
       "      <td>0</td>\n",
       "      <td>...</td>\n",
       "      <td>0.0</td>\n",
       "      <td>2</td>\n",
       "      <td>0</td>\n",
       "      <td>2.0</td>\n",
       "      <td>2</td>\n",
       "      <td>0</td>\n",
       "      <td>0</td>\n",
       "      <td>0</td>\n",
       "      <td>0.0</td>\n",
       "      <td>NaN</td>\n",
       "    </tr>\n",
       "    <tr>\n",
       "      <th>rs8236463</th>\n",
       "      <td>1</td>\n",
       "      <td>2.081</td>\n",
       "      <td>5.579193</td>\n",
       "      <td>0</td>\n",
       "      <td>0</td>\n",
       "      <td>2</td>\n",
       "      <td>2.0</td>\n",
       "      <td>2</td>\n",
       "      <td>0</td>\n",
       "      <td>2</td>\n",
       "      <td>...</td>\n",
       "      <td>0.0</td>\n",
       "      <td>2</td>\n",
       "      <td>0</td>\n",
       "      <td>2.0</td>\n",
       "      <td>2</td>\n",
       "      <td>0</td>\n",
       "      <td>0</td>\n",
       "      <td>0</td>\n",
       "      <td>0.0</td>\n",
       "      <td>NaN</td>\n",
       "    </tr>\n",
       "  </tbody>\n",
       "</table>\n",
       "<p>5 rows × 96 columns</p>\n",
       "</div>"
      ],
      "text/plain": [
       "          Chr     cM        Mb  BXD1  BXD2  BXD5  BXD6  BXD8  BXD9  BXD11  \\\n",
       "Locus                                                                       \n",
       "rs6269442   1  0.000  3.482275     0     0     2   2.0     2     0      0   \n",
       "rs6365999   1  0.000  4.811062     0     0     2   2.0     2     0      0   \n",
       "rs6376963   1  0.895  5.008089     0     0     2   2.0     2     0      0   \n",
       "rs3677817   1  1.185  5.176058     0     0     2   2.0     2     0      0   \n",
       "rs8236463   1  2.081  5.579193     0     0     2   2.0     2     0      2   \n",
       "\n",
       "            ...    BXD90  BXD91  BXD93  BXD94  BXD95  BXD98  BXD99  BXD100  \\\n",
       "Locus       ...                                                              \n",
       "rs6269442   ...      0.0      2      0    2.0      2      0      0       0   \n",
       "rs6365999   ...      0.0      2      0    2.0      2      0      0       0   \n",
       "rs6376963   ...      0.0      2      0    2.0      2      0      0       0   \n",
       "rs3677817   ...      0.0      2      0    2.0      2      0      0       0   \n",
       "rs8236463   ...      0.0      2      0    2.0      2      0      0       0   \n",
       "\n",
       "           BXD101  BXD102  \n",
       "Locus                      \n",
       "rs6269442     0.0     0.0  \n",
       "rs6365999     0.0     NaN  \n",
       "rs6376963     0.0     NaN  \n",
       "rs3677817     0.0     NaN  \n",
       "rs8236463     0.0     NaN  \n",
       "\n",
       "[5 rows x 96 columns]"
      ]
     },
     "execution_count": 8,
     "metadata": {},
     "output_type": "execute_result"
    }
   ],
   "source": [
    "mapping = {'B': 0,'D': 2, 'H': 1, 'U': np.nan}\n",
    "genotype_df_mapped = genotype_df.replace(mapping)\n",
    "genotype_df_mapped.head()"
   ]
  },
  {
   "cell_type": "markdown",
   "metadata": {},
   "source": [
    "## Subtask: Drop rows with unknown genotypes"
   ]
  },
  {
   "cell_type": "code",
   "execution_count": 9,
   "metadata": {
    "collapsed": false,
    "run_control": {
     "frozen": false,
     "read_only": false
    }
   },
   "outputs": [
    {
     "data": {
      "text/html": [
       "<div>\n",
       "<table border=\"1\" class=\"dataframe\">\n",
       "  <thead>\n",
       "    <tr style=\"text-align: right;\">\n",
       "      <th></th>\n",
       "      <th>Chr</th>\n",
       "      <th>cM</th>\n",
       "      <th>Mb</th>\n",
       "      <th>BXD1</th>\n",
       "      <th>BXD2</th>\n",
       "      <th>BXD5</th>\n",
       "      <th>BXD6</th>\n",
       "      <th>BXD8</th>\n",
       "      <th>BXD9</th>\n",
       "      <th>BXD11</th>\n",
       "      <th>...</th>\n",
       "      <th>BXD90</th>\n",
       "      <th>BXD91</th>\n",
       "      <th>BXD93</th>\n",
       "      <th>BXD94</th>\n",
       "      <th>BXD95</th>\n",
       "      <th>BXD98</th>\n",
       "      <th>BXD99</th>\n",
       "      <th>BXD100</th>\n",
       "      <th>BXD101</th>\n",
       "      <th>BXD102</th>\n",
       "    </tr>\n",
       "    <tr>\n",
       "      <th>Locus</th>\n",
       "      <th></th>\n",
       "      <th></th>\n",
       "      <th></th>\n",
       "      <th></th>\n",
       "      <th></th>\n",
       "      <th></th>\n",
       "      <th></th>\n",
       "      <th></th>\n",
       "      <th></th>\n",
       "      <th></th>\n",
       "      <th></th>\n",
       "      <th></th>\n",
       "      <th></th>\n",
       "      <th></th>\n",
       "      <th></th>\n",
       "      <th></th>\n",
       "      <th></th>\n",
       "      <th></th>\n",
       "      <th></th>\n",
       "      <th></th>\n",
       "      <th></th>\n",
       "    </tr>\n",
       "  </thead>\n",
       "  <tbody>\n",
       "    <tr>\n",
       "      <th>rs6269442</th>\n",
       "      <td>1</td>\n",
       "      <td>0.000</td>\n",
       "      <td>3.482275</td>\n",
       "      <td>0</td>\n",
       "      <td>0</td>\n",
       "      <td>2</td>\n",
       "      <td>2.0</td>\n",
       "      <td>2</td>\n",
       "      <td>0</td>\n",
       "      <td>0</td>\n",
       "      <td>...</td>\n",
       "      <td>0.0</td>\n",
       "      <td>2</td>\n",
       "      <td>0</td>\n",
       "      <td>2.0</td>\n",
       "      <td>2</td>\n",
       "      <td>0</td>\n",
       "      <td>0</td>\n",
       "      <td>0</td>\n",
       "      <td>0.0</td>\n",
       "      <td>0.0</td>\n",
       "    </tr>\n",
       "    <tr>\n",
       "      <th>rs6241531</th>\n",
       "      <td>1</td>\n",
       "      <td>2.367</td>\n",
       "      <td>9.995925</td>\n",
       "      <td>0</td>\n",
       "      <td>0</td>\n",
       "      <td>2</td>\n",
       "      <td>2.0</td>\n",
       "      <td>2</td>\n",
       "      <td>0</td>\n",
       "      <td>2</td>\n",
       "      <td>...</td>\n",
       "      <td>0.0</td>\n",
       "      <td>2</td>\n",
       "      <td>0</td>\n",
       "      <td>2.0</td>\n",
       "      <td>2</td>\n",
       "      <td>0</td>\n",
       "      <td>0</td>\n",
       "      <td>0</td>\n",
       "      <td>0.0</td>\n",
       "      <td>2.0</td>\n",
       "    </tr>\n",
       "    <tr>\n",
       "      <th>rs6360236</th>\n",
       "      <td>1</td>\n",
       "      <td>3.263</td>\n",
       "      <td>11.073904</td>\n",
       "      <td>0</td>\n",
       "      <td>0</td>\n",
       "      <td>2</td>\n",
       "      <td>2.0</td>\n",
       "      <td>2</td>\n",
       "      <td>0</td>\n",
       "      <td>2</td>\n",
       "      <td>...</td>\n",
       "      <td>0.0</td>\n",
       "      <td>2</td>\n",
       "      <td>0</td>\n",
       "      <td>2.0</td>\n",
       "      <td>2</td>\n",
       "      <td>0</td>\n",
       "      <td>0</td>\n",
       "      <td>0</td>\n",
       "      <td>0.0</td>\n",
       "      <td>2.0</td>\n",
       "    </tr>\n",
       "    <tr>\n",
       "      <th>rs3722996</th>\n",
       "      <td>1</td>\n",
       "      <td>3.263</td>\n",
       "      <td>11.259432</td>\n",
       "      <td>0</td>\n",
       "      <td>0</td>\n",
       "      <td>2</td>\n",
       "      <td>2.0</td>\n",
       "      <td>2</td>\n",
       "      <td>0</td>\n",
       "      <td>2</td>\n",
       "      <td>...</td>\n",
       "      <td>0.0</td>\n",
       "      <td>2</td>\n",
       "      <td>0</td>\n",
       "      <td>2.0</td>\n",
       "      <td>2</td>\n",
       "      <td>0</td>\n",
       "      <td>0</td>\n",
       "      <td>0</td>\n",
       "      <td>0.0</td>\n",
       "      <td>2.0</td>\n",
       "    </tr>\n",
       "    <tr>\n",
       "      <th>D1Mit1</th>\n",
       "      <td>1</td>\n",
       "      <td>3.549</td>\n",
       "      <td>11.505582</td>\n",
       "      <td>0</td>\n",
       "      <td>0</td>\n",
       "      <td>2</td>\n",
       "      <td>2.0</td>\n",
       "      <td>2</td>\n",
       "      <td>0</td>\n",
       "      <td>2</td>\n",
       "      <td>...</td>\n",
       "      <td>0.0</td>\n",
       "      <td>2</td>\n",
       "      <td>0</td>\n",
       "      <td>2.0</td>\n",
       "      <td>2</td>\n",
       "      <td>0</td>\n",
       "      <td>0</td>\n",
       "      <td>0</td>\n",
       "      <td>0.0</td>\n",
       "      <td>2.0</td>\n",
       "    </tr>\n",
       "  </tbody>\n",
       "</table>\n",
       "<p>5 rows × 96 columns</p>\n",
       "</div>"
      ],
      "text/plain": [
       "          Chr     cM         Mb  BXD1  BXD2  BXD5  BXD6  BXD8  BXD9  BXD11  \\\n",
       "Locus                                                                        \n",
       "rs6269442   1  0.000   3.482275     0     0     2   2.0     2     0      0   \n",
       "rs6241531   1  2.367   9.995925     0     0     2   2.0     2     0      2   \n",
       "rs6360236   1  3.263  11.073904     0     0     2   2.0     2     0      2   \n",
       "rs3722996   1  3.263  11.259432     0     0     2   2.0     2     0      2   \n",
       "D1Mit1      1  3.549  11.505582     0     0     2   2.0     2     0      2   \n",
       "\n",
       "            ...    BXD90  BXD91  BXD93  BXD94  BXD95  BXD98  BXD99  BXD100  \\\n",
       "Locus       ...                                                              \n",
       "rs6269442   ...      0.0      2      0    2.0      2      0      0       0   \n",
       "rs6241531   ...      0.0      2      0    2.0      2      0      0       0   \n",
       "rs6360236   ...      0.0      2      0    2.0      2      0      0       0   \n",
       "rs3722996   ...      0.0      2      0    2.0      2      0      0       0   \n",
       "D1Mit1      ...      0.0      2      0    2.0      2      0      0       0   \n",
       "\n",
       "           BXD101  BXD102  \n",
       "Locus                      \n",
       "rs6269442     0.0     0.0  \n",
       "rs6241531     0.0     2.0  \n",
       "rs6360236     0.0     2.0  \n",
       "rs3722996     0.0     2.0  \n",
       "D1Mit1        0.0     2.0  \n",
       "\n",
       "[5 rows x 96 columns]"
      ]
     },
     "execution_count": 9,
     "metadata": {},
     "output_type": "execute_result"
    }
   ],
   "source": [
    "genotype_df_mapped.dropna(inplace=True)\n",
    "genotype_df_mapped.head()"
   ]
  },
  {
   "cell_type": "markdown",
   "metadata": {},
   "source": [
    "## Dowload categorical data from genenetworks.org"
   ]
  },
  {
   "cell_type": "markdown",
   "metadata": {},
   "source": [
    "Most mouse phenotype data is available at genenetwork.org. This includes nearly all published phenotype measurements. You can access individual measurements from that repository using the search mask:\n",
    "1. Go to http://gn2.genenetwork.org/\n",
    "2. In \"Select and Search\" fill in:\n",
    "    1. Species: Mouse\n",
    "    2. Group: BXD\n",
    "    3. Type: Phenotypes\n",
    "    4. Dataset: BXD Published Phenotypes\n",
    "3. Enter the <trait of interest> in the \"Get any\" field\n",
    "4. Search\n",
    "\n",
    "For getting data on the coat color of BXD mice use \"coat color\" as search term and select RecordID/11280 to get to the corresponding __Trait Data and Analysis__ page. There you can download the data as text file."
   ]
  },
  {
   "cell_type": "markdown",
   "metadata": {
    "collapsed": true,
    "run_control": {
     "frozen": false,
     "read_only": false
    }
   },
   "source": [
    "## Load phenotype data (coat color)"
   ]
  },
  {
   "cell_type": "markdown",
   "metadata": {},
   "source": [
    "From the source of the genotype data we know the mapping between the categorical color value\n",
    "and the actual color.\n",
    "\n",
    "|color  | value  |\n",
    "|-------|--------|\n",
    "| black |  4     |\n",
    "| grey  |  3     |\n",
    "| brown |  2     |\n",
    "| dilute|  1     |"
   ]
  },
  {
   "cell_type": "code",
   "execution_count": 10,
   "metadata": {
    "collapsed": false,
    "run_control": {
     "frozen": false,
     "read_only": false
    }
   },
   "outputs": [
    {
     "data": {
      "text/html": [
       "<div>\n",
       "<table border=\"1\" class=\"dataframe\">\n",
       "  <thead>\n",
       "    <tr style=\"text-align: right;\">\n",
       "      <th></th>\n",
       "      <th>0</th>\n",
       "      <th>1</th>\n",
       "    </tr>\n",
       "  </thead>\n",
       "  <tbody>\n",
       "    <tr>\n",
       "      <th>0</th>\n",
       "      <td>C57BL/6J</td>\n",
       "      <td>4.0</td>\n",
       "    </tr>\n",
       "    <tr>\n",
       "      <th>1</th>\n",
       "      <td>DBA/2J</td>\n",
       "      <td>1.0</td>\n",
       "    </tr>\n",
       "    <tr>\n",
       "      <th>2</th>\n",
       "      <td>B6D2F1</td>\n",
       "      <td>4.0</td>\n",
       "    </tr>\n",
       "    <tr>\n",
       "      <th>3</th>\n",
       "      <td>D2B6F1</td>\n",
       "      <td>4.0</td>\n",
       "    </tr>\n",
       "    <tr>\n",
       "      <th>4</th>\n",
       "      <td>BXD1</td>\n",
       "      <td>1.0</td>\n",
       "    </tr>\n",
       "  </tbody>\n",
       "</table>\n",
       "</div>"
      ],
      "text/plain": [
       "          0    1\n",
       "0  C57BL/6J  4.0\n",
       "1    DBA/2J  1.0\n",
       "2    B6D2F1  4.0\n",
       "3    D2B6F1  4.0\n",
       "4      BXD1  1.0"
      ]
     },
     "execution_count": 10,
     "metadata": {},
     "output_type": "execute_result"
    }
   ],
   "source": [
    "coat_color_df = pd.read_csv(\"data/sample_data.csv\", header=None, na_values=\"x\")\n",
    "coat_color_df.head()"
   ]
  },
  {
   "cell_type": "markdown",
   "metadata": {},
   "source": [
    "__Set index to strain names__"
   ]
  },
  {
   "cell_type": "code",
   "execution_count": 11,
   "metadata": {
    "collapsed": false,
    "run_control": {
     "frozen": false,
     "read_only": false
    }
   },
   "outputs": [
    {
     "data": {
      "text/html": [
       "<div>\n",
       "<table border=\"1\" class=\"dataframe\">\n",
       "  <thead>\n",
       "    <tr style=\"text-align: right;\">\n",
       "      <th></th>\n",
       "      <th>1</th>\n",
       "    </tr>\n",
       "    <tr>\n",
       "      <th>0</th>\n",
       "      <th></th>\n",
       "    </tr>\n",
       "  </thead>\n",
       "  <tbody>\n",
       "    <tr>\n",
       "      <th>C57BL/6J</th>\n",
       "      <td>4.0</td>\n",
       "    </tr>\n",
       "    <tr>\n",
       "      <th>DBA/2J</th>\n",
       "      <td>1.0</td>\n",
       "    </tr>\n",
       "    <tr>\n",
       "      <th>B6D2F1</th>\n",
       "      <td>4.0</td>\n",
       "    </tr>\n",
       "    <tr>\n",
       "      <th>D2B6F1</th>\n",
       "      <td>4.0</td>\n",
       "    </tr>\n",
       "    <tr>\n",
       "      <th>BXD1</th>\n",
       "      <td>1.0</td>\n",
       "    </tr>\n",
       "  </tbody>\n",
       "</table>\n",
       "</div>"
      ],
      "text/plain": [
       "            1\n",
       "0            \n",
       "C57BL/6J  4.0\n",
       "DBA/2J    1.0\n",
       "B6D2F1    4.0\n",
       "D2B6F1    4.0\n",
       "BXD1      1.0"
      ]
     },
     "execution_count": 11,
     "metadata": {},
     "output_type": "execute_result"
    }
   ],
   "source": [
    "coat_color_df.set_index(0, inplace=True)\n",
    "coat_color_df.head()"
   ]
  },
  {
   "cell_type": "markdown",
   "metadata": {},
   "source": [
    "## Subtask: remove rows with missing data"
   ]
  },
  {
   "cell_type": "markdown",
   "metadata": {
    "collapsed": true,
    "run_control": {
     "frozen": false,
     "read_only": false
    }
   },
   "source": [
    "Already dealt with the missing rows while reading them in."
   ]
  },
  {
   "cell_type": "markdown",
   "metadata": {},
   "source": [
    "## Convert data to numeric"
   ]
  },
  {
   "cell_type": "code",
   "execution_count": 12,
   "metadata": {
    "collapsed": false,
    "run_control": {
     "frozen": false,
     "read_only": false
    }
   },
   "outputs": [
    {
     "data": {
      "text/html": [
       "<div>\n",
       "<table border=\"1\" class=\"dataframe\">\n",
       "  <thead>\n",
       "    <tr style=\"text-align: right;\">\n",
       "      <th></th>\n",
       "      <th>1</th>\n",
       "    </tr>\n",
       "    <tr>\n",
       "      <th>0</th>\n",
       "      <th></th>\n",
       "    </tr>\n",
       "  </thead>\n",
       "  <tbody>\n",
       "    <tr>\n",
       "      <th>C57BL/6J</th>\n",
       "      <td>4.0</td>\n",
       "    </tr>\n",
       "    <tr>\n",
       "      <th>DBA/2J</th>\n",
       "      <td>1.0</td>\n",
       "    </tr>\n",
       "    <tr>\n",
       "      <th>B6D2F1</th>\n",
       "      <td>4.0</td>\n",
       "    </tr>\n",
       "    <tr>\n",
       "      <th>D2B6F1</th>\n",
       "      <td>4.0</td>\n",
       "    </tr>\n",
       "    <tr>\n",
       "      <th>BXD1</th>\n",
       "      <td>1.0</td>\n",
       "    </tr>\n",
       "  </tbody>\n",
       "</table>\n",
       "</div>"
      ],
      "text/plain": [
       "            1\n",
       "0            \n",
       "C57BL/6J  4.0\n",
       "DBA/2J    1.0\n",
       "B6D2F1    4.0\n",
       "D2B6F1    4.0\n",
       "BXD1      1.0"
      ]
     },
     "execution_count": 12,
     "metadata": {},
     "output_type": "execute_result"
    }
   ],
   "source": [
    "coat_color_df.apply(lambda x: pd.to_numeric(x, errors='ignore'))\n",
    "coat_color_df.head()"
   ]
  },
  {
   "cell_type": "markdown",
   "metadata": {},
   "source": [
    "# Association tests between variant(s) and categorical phenotype\n",
    "We will first start testing SNPs for their association with an easily characterizable phenotype: coat color. As you could see in the slides, BXD mice come in different colors (black, brown, dilute) and as you know, hair color is heritable. In this task you will thus try to find candidate genes that are involved in coat color determination in the mouse population."
   ]
  },
  {
   "cell_type": "markdown",
   "metadata": {},
   "source": [
    "__Show head of genotype data__"
   ]
  },
  {
   "cell_type": "code",
   "execution_count": 13,
   "metadata": {
    "collapsed": false,
    "run_control": {
     "frozen": false,
     "read_only": false
    }
   },
   "outputs": [
    {
     "data": {
      "text/html": [
       "<div>\n",
       "<table border=\"1\" class=\"dataframe\">\n",
       "  <thead>\n",
       "    <tr style=\"text-align: right;\">\n",
       "      <th></th>\n",
       "      <th>Chr</th>\n",
       "      <th>cM</th>\n",
       "      <th>Mb</th>\n",
       "      <th>BXD1</th>\n",
       "      <th>BXD2</th>\n",
       "      <th>BXD5</th>\n",
       "      <th>BXD6</th>\n",
       "      <th>BXD8</th>\n",
       "      <th>BXD9</th>\n",
       "      <th>BXD11</th>\n",
       "      <th>...</th>\n",
       "      <th>BXD90</th>\n",
       "      <th>BXD91</th>\n",
       "      <th>BXD93</th>\n",
       "      <th>BXD94</th>\n",
       "      <th>BXD95</th>\n",
       "      <th>BXD98</th>\n",
       "      <th>BXD99</th>\n",
       "      <th>BXD100</th>\n",
       "      <th>BXD101</th>\n",
       "      <th>BXD102</th>\n",
       "    </tr>\n",
       "    <tr>\n",
       "      <th>Locus</th>\n",
       "      <th></th>\n",
       "      <th></th>\n",
       "      <th></th>\n",
       "      <th></th>\n",
       "      <th></th>\n",
       "      <th></th>\n",
       "      <th></th>\n",
       "      <th></th>\n",
       "      <th></th>\n",
       "      <th></th>\n",
       "      <th></th>\n",
       "      <th></th>\n",
       "      <th></th>\n",
       "      <th></th>\n",
       "      <th></th>\n",
       "      <th></th>\n",
       "      <th></th>\n",
       "      <th></th>\n",
       "      <th></th>\n",
       "      <th></th>\n",
       "      <th></th>\n",
       "    </tr>\n",
       "  </thead>\n",
       "  <tbody>\n",
       "    <tr>\n",
       "      <th>rs6269442</th>\n",
       "      <td>1</td>\n",
       "      <td>0.000</td>\n",
       "      <td>3.482275</td>\n",
       "      <td>0</td>\n",
       "      <td>0</td>\n",
       "      <td>2</td>\n",
       "      <td>2.0</td>\n",
       "      <td>2</td>\n",
       "      <td>0</td>\n",
       "      <td>0</td>\n",
       "      <td>...</td>\n",
       "      <td>0.0</td>\n",
       "      <td>2</td>\n",
       "      <td>0</td>\n",
       "      <td>2.0</td>\n",
       "      <td>2</td>\n",
       "      <td>0</td>\n",
       "      <td>0</td>\n",
       "      <td>0</td>\n",
       "      <td>0.0</td>\n",
       "      <td>0.0</td>\n",
       "    </tr>\n",
       "    <tr>\n",
       "      <th>rs6241531</th>\n",
       "      <td>1</td>\n",
       "      <td>2.367</td>\n",
       "      <td>9.995925</td>\n",
       "      <td>0</td>\n",
       "      <td>0</td>\n",
       "      <td>2</td>\n",
       "      <td>2.0</td>\n",
       "      <td>2</td>\n",
       "      <td>0</td>\n",
       "      <td>2</td>\n",
       "      <td>...</td>\n",
       "      <td>0.0</td>\n",
       "      <td>2</td>\n",
       "      <td>0</td>\n",
       "      <td>2.0</td>\n",
       "      <td>2</td>\n",
       "      <td>0</td>\n",
       "      <td>0</td>\n",
       "      <td>0</td>\n",
       "      <td>0.0</td>\n",
       "      <td>2.0</td>\n",
       "    </tr>\n",
       "    <tr>\n",
       "      <th>rs6360236</th>\n",
       "      <td>1</td>\n",
       "      <td>3.263</td>\n",
       "      <td>11.073904</td>\n",
       "      <td>0</td>\n",
       "      <td>0</td>\n",
       "      <td>2</td>\n",
       "      <td>2.0</td>\n",
       "      <td>2</td>\n",
       "      <td>0</td>\n",
       "      <td>2</td>\n",
       "      <td>...</td>\n",
       "      <td>0.0</td>\n",
       "      <td>2</td>\n",
       "      <td>0</td>\n",
       "      <td>2.0</td>\n",
       "      <td>2</td>\n",
       "      <td>0</td>\n",
       "      <td>0</td>\n",
       "      <td>0</td>\n",
       "      <td>0.0</td>\n",
       "      <td>2.0</td>\n",
       "    </tr>\n",
       "    <tr>\n",
       "      <th>rs3722996</th>\n",
       "      <td>1</td>\n",
       "      <td>3.263</td>\n",
       "      <td>11.259432</td>\n",
       "      <td>0</td>\n",
       "      <td>0</td>\n",
       "      <td>2</td>\n",
       "      <td>2.0</td>\n",
       "      <td>2</td>\n",
       "      <td>0</td>\n",
       "      <td>2</td>\n",
       "      <td>...</td>\n",
       "      <td>0.0</td>\n",
       "      <td>2</td>\n",
       "      <td>0</td>\n",
       "      <td>2.0</td>\n",
       "      <td>2</td>\n",
       "      <td>0</td>\n",
       "      <td>0</td>\n",
       "      <td>0</td>\n",
       "      <td>0.0</td>\n",
       "      <td>2.0</td>\n",
       "    </tr>\n",
       "    <tr>\n",
       "      <th>D1Mit1</th>\n",
       "      <td>1</td>\n",
       "      <td>3.549</td>\n",
       "      <td>11.505582</td>\n",
       "      <td>0</td>\n",
       "      <td>0</td>\n",
       "      <td>2</td>\n",
       "      <td>2.0</td>\n",
       "      <td>2</td>\n",
       "      <td>0</td>\n",
       "      <td>2</td>\n",
       "      <td>...</td>\n",
       "      <td>0.0</td>\n",
       "      <td>2</td>\n",
       "      <td>0</td>\n",
       "      <td>2.0</td>\n",
       "      <td>2</td>\n",
       "      <td>0</td>\n",
       "      <td>0</td>\n",
       "      <td>0</td>\n",
       "      <td>0.0</td>\n",
       "      <td>2.0</td>\n",
       "    </tr>\n",
       "  </tbody>\n",
       "</table>\n",
       "<p>5 rows × 96 columns</p>\n",
       "</div>"
      ],
      "text/plain": [
       "          Chr     cM         Mb  BXD1  BXD2  BXD5  BXD6  BXD8  BXD9  BXD11  \\\n",
       "Locus                                                                        \n",
       "rs6269442   1  0.000   3.482275     0     0     2   2.0     2     0      0   \n",
       "rs6241531   1  2.367   9.995925     0     0     2   2.0     2     0      2   \n",
       "rs6360236   1  3.263  11.073904     0     0     2   2.0     2     0      2   \n",
       "rs3722996   1  3.263  11.259432     0     0     2   2.0     2     0      2   \n",
       "D1Mit1      1  3.549  11.505582     0     0     2   2.0     2     0      2   \n",
       "\n",
       "            ...    BXD90  BXD91  BXD93  BXD94  BXD95  BXD98  BXD99  BXD100  \\\n",
       "Locus       ...                                                              \n",
       "rs6269442   ...      0.0      2      0    2.0      2      0      0       0   \n",
       "rs6241531   ...      0.0      2      0    2.0      2      0      0       0   \n",
       "rs6360236   ...      0.0      2      0    2.0      2      0      0       0   \n",
       "rs3722996   ...      0.0      2      0    2.0      2      0      0       0   \n",
       "D1Mit1      ...      0.0      2      0    2.0      2      0      0       0   \n",
       "\n",
       "           BXD101  BXD102  \n",
       "Locus                      \n",
       "rs6269442     0.0     0.0  \n",
       "rs6241531     0.0     2.0  \n",
       "rs6360236     0.0     2.0  \n",
       "rs3722996     0.0     2.0  \n",
       "D1Mit1        0.0     2.0  \n",
       "\n",
       "[5 rows x 96 columns]"
      ]
     },
     "execution_count": 13,
     "metadata": {},
     "output_type": "execute_result"
    }
   ],
   "source": [
    "genotype_df_mapped.head()"
   ]
  },
  {
   "cell_type": "markdown",
   "metadata": {},
   "source": [
    "## Task: Perfom association test for a single SNP using $\\chi^2$ test and odds ratio"
   ]
  },
  {
   "cell_type": "markdown",
   "metadata": {},
   "source": [
    "### Subtask: Extract row of a single SNP (e.g. rs6232550)"
   ]
  },
  {
   "cell_type": "markdown",
   "metadata": {},
   "source": [
    "__Extract using loc or ix__"
   ]
  },
  {
   "cell_type": "code",
   "execution_count": 14,
   "metadata": {
    "collapsed": false,
    "run_control": {
     "frozen": false,
     "read_only": false
    }
   },
   "outputs": [],
   "source": [
    "singleSNP = genotype_df_mapped.loc[\"rs6232550\"]"
   ]
  },
  {
   "cell_type": "markdown",
   "metadata": {},
   "source": [
    "__Check if it worked__"
   ]
  },
  {
   "cell_type": "code",
   "execution_count": 15,
   "metadata": {
    "collapsed": false,
    "run_control": {
     "frozen": false,
     "read_only": false
    }
   },
   "outputs": [
    {
     "data": {
      "text/plain": [
       "Chr             4\n",
       "cM         24.021\n",
       "Mb        40.9726\n",
       "BXD1            2\n",
       "BXD2            0\n",
       "BXD5            0\n",
       "BXD6            0\n",
       "BXD8            0\n",
       "BXD9            0\n",
       "BXD11           0\n",
       "BXD12           0\n",
       "BXD13           2\n",
       "BXD14           0\n",
       "BXD15           0\n",
       "BXD16           0\n",
       "BXD18           0\n",
       "BXD19           0\n",
       "BXD20           0\n",
       "BXD21           2\n",
       "BXD22           2\n",
       "BXD23           0\n",
       "BXD24           2\n",
       "BXD24a          2\n",
       "BXD25           2\n",
       "BXD27           0\n",
       "BXD28           0\n",
       "BXD29           0\n",
       "BXD30           2\n",
       "BXD31           0\n",
       "BXD32           0\n",
       "           ...   \n",
       "BXD70           2\n",
       "BXD71           0\n",
       "BXD72           0\n",
       "BXD73           1\n",
       "BXD73a          2\n",
       "BXD73b          2\n",
       "BXD74           2\n",
       "BXD75           0\n",
       "BXD76           0\n",
       "BXD77           0\n",
       "BXD78           0\n",
       "BXD79           2\n",
       "BXD81           0\n",
       "BXD83           2\n",
       "BXD84           2\n",
       "BXD85           0\n",
       "BXD86           0\n",
       "BXD87           1\n",
       "BXD88           2\n",
       "BXD89           0\n",
       "BXD90           2\n",
       "BXD91           0\n",
       "BXD93           0\n",
       "BXD94           2\n",
       "BXD95           0\n",
       "BXD98           2\n",
       "BXD99           2\n",
       "BXD100          2\n",
       "BXD101          2\n",
       "BXD102          2\n",
       "Name: rs6232550, dtype: object"
      ]
     },
     "execution_count": 15,
     "metadata": {},
     "output_type": "execute_result"
    }
   ],
   "source": [
    "singleSNP"
   ]
  },
  {
   "cell_type": "markdown",
   "metadata": {},
   "source": [
    "### Subtask: Remove all non-strain genotype columns"
   ]
  },
  {
   "cell_type": "code",
   "execution_count": 16,
   "metadata": {
    "collapsed": false,
    "run_control": {
     "frozen": false,
     "read_only": false
    }
   },
   "outputs": [
    {
     "data": {
      "text/plain": [
       "BXD2    0\n",
       "BXD5    0\n",
       "BXD6    0\n",
       "BXD8    0\n",
       "Name: rs6232550, dtype: object"
      ]
     },
     "execution_count": 16,
     "metadata": {},
     "output_type": "execute_result"
    }
   ],
   "source": [
    "# get the columns with \"BXD\" header\n",
    "Col = [i for i in genotype_df_mapped if \"BXD\" in i]\n",
    "\n",
    "singleSNP = singleSNP[Col]\n",
    "singleSNP[1:5]"
   ]
  },
  {
   "cell_type": "markdown",
   "metadata": {},
   "source": [
    "### Subtask: Transpose row so that it has the same format as the genotype data"
   ]
  },
  {
   "cell_type": "code",
   "execution_count": 17,
   "metadata": {
    "collapsed": false,
    "run_control": {
     "frozen": false,
     "read_only": false
    }
   },
   "outputs": [
    {
     "data": {
      "text/html": [
       "<div>\n",
       "<table border=\"1\" class=\"dataframe\">\n",
       "  <thead>\n",
       "    <tr style=\"text-align: right;\">\n",
       "      <th></th>\n",
       "      <th>BXD1</th>\n",
       "      <th>BXD2</th>\n",
       "      <th>BXD5</th>\n",
       "      <th>BXD6</th>\n",
       "      <th>BXD8</th>\n",
       "      <th>BXD9</th>\n",
       "      <th>BXD11</th>\n",
       "      <th>BXD12</th>\n",
       "      <th>BXD13</th>\n",
       "      <th>BXD14</th>\n",
       "      <th>...</th>\n",
       "      <th>BXD90</th>\n",
       "      <th>BXD91</th>\n",
       "      <th>BXD93</th>\n",
       "      <th>BXD94</th>\n",
       "      <th>BXD95</th>\n",
       "      <th>BXD98</th>\n",
       "      <th>BXD99</th>\n",
       "      <th>BXD100</th>\n",
       "      <th>BXD101</th>\n",
       "      <th>BXD102</th>\n",
       "    </tr>\n",
       "  </thead>\n",
       "  <tbody>\n",
       "    <tr>\n",
       "      <th>rs6232550</th>\n",
       "      <td>2</td>\n",
       "      <td>0</td>\n",
       "      <td>0</td>\n",
       "      <td>0</td>\n",
       "      <td>0</td>\n",
       "      <td>0</td>\n",
       "      <td>0</td>\n",
       "      <td>0</td>\n",
       "      <td>2</td>\n",
       "      <td>0</td>\n",
       "      <td>...</td>\n",
       "      <td>2</td>\n",
       "      <td>0</td>\n",
       "      <td>0</td>\n",
       "      <td>2</td>\n",
       "      <td>0</td>\n",
       "      <td>2</td>\n",
       "      <td>2</td>\n",
       "      <td>2</td>\n",
       "      <td>2</td>\n",
       "      <td>2</td>\n",
       "    </tr>\n",
       "  </tbody>\n",
       "</table>\n",
       "<p>1 rows × 93 columns</p>\n",
       "</div>"
      ],
      "text/plain": [
       "          BXD1 BXD2 BXD5 BXD6 BXD8 BXD9 BXD11 BXD12 BXD13 BXD14  ...   BXD90  \\\n",
       "rs6232550    2    0    0    0    0    0     0     0     2     0  ...       2   \n",
       "\n",
       "          BXD91 BXD93 BXD94 BXD95 BXD98 BXD99 BXD100 BXD101 BXD102  \n",
       "rs6232550     0     0     2     0     2     2      2      2      2  \n",
       "\n",
       "[1 rows x 93 columns]"
      ]
     },
     "execution_count": 17,
     "metadata": {},
     "output_type": "execute_result"
    }
   ],
   "source": [
    "singleSNP_t = singleSNP.to_frame().T\n",
    "singleSNP_t"
   ]
  },
  {
   "cell_type": "markdown",
   "metadata": {},
   "source": [
    "### Subtask: Combine SNP data with phenotype data"
   ]
  },
  {
   "cell_type": "code",
   "execution_count": 18,
   "metadata": {
    "collapsed": false,
    "run_control": {
     "frozen": false,
     "read_only": false
    }
   },
   "outputs": [],
   "source": [
    "joined_SNP = coat_color_df.join(singleSNP)\n",
    "joined_SNP.dropna(inplace=True)"
   ]
  },
  {
   "cell_type": "markdown",
   "metadata": {},
   "source": [
    "### Subtask: Check that the merging worked"
   ]
  },
  {
   "cell_type": "code",
   "execution_count": 19,
   "metadata": {
    "collapsed": false,
    "run_control": {
     "frozen": false,
     "read_only": false
    }
   },
   "outputs": [
    {
     "data": {
      "text/html": [
       "<div>\n",
       "<table border=\"1\" class=\"dataframe\">\n",
       "  <thead>\n",
       "    <tr style=\"text-align: right;\">\n",
       "      <th></th>\n",
       "      <th>coat color</th>\n",
       "      <th>rs6232550</th>\n",
       "    </tr>\n",
       "    <tr>\n",
       "      <th>0</th>\n",
       "      <th></th>\n",
       "      <th></th>\n",
       "    </tr>\n",
       "  </thead>\n",
       "  <tbody>\n",
       "    <tr>\n",
       "      <th>BXD1</th>\n",
       "      <td>1.0</td>\n",
       "      <td>2</td>\n",
       "    </tr>\n",
       "    <tr>\n",
       "      <th>BXD2</th>\n",
       "      <td>4.0</td>\n",
       "      <td>0</td>\n",
       "    </tr>\n",
       "    <tr>\n",
       "      <th>BXD5</th>\n",
       "      <td>3.0</td>\n",
       "      <td>0</td>\n",
       "    </tr>\n",
       "    <tr>\n",
       "      <th>BXD6</th>\n",
       "      <td>3.0</td>\n",
       "      <td>0</td>\n",
       "    </tr>\n",
       "    <tr>\n",
       "      <th>BXD8</th>\n",
       "      <td>3.0</td>\n",
       "      <td>0</td>\n",
       "    </tr>\n",
       "  </tbody>\n",
       "</table>\n",
       "</div>"
      ],
      "text/plain": [
       "      coat color rs6232550\n",
       "0                         \n",
       "BXD1         1.0         2\n",
       "BXD2         4.0         0\n",
       "BXD5         3.0         0\n",
       "BXD6         3.0         0\n",
       "BXD8         3.0         0"
      ]
     },
     "execution_count": 19,
     "metadata": {},
     "output_type": "execute_result"
    }
   ],
   "source": [
    "joined_SNP.columns=[\"coat color\", \"rs6232550\"]\n",
    "joined_SNP.head()"
   ]
  },
  {
   "cell_type": "markdown",
   "metadata": {},
   "source": [
    "### Subtask: Plot relationship between genotye and phenotype"
   ]
  },
  {
   "cell_type": "code",
   "execution_count": 20,
   "metadata": {
    "collapsed": false
   },
   "outputs": [
    {
     "data": {
      "image/png": "[encoded data removed]",
      "text/plain": [
       "<matplotlib.figure.Figure at 0xab403c8>"
      ]
     },
     "metadata": {},
     "output_type": "display_data"
    }
   ],
   "source": [
    "joined_SNP.plot(kind='scatter', x='coat color', y='rs6232550');"
   ]
  },
  {
   "cell_type": "code",
   "execution_count": null,
   "metadata": {
    "collapsed": true,
    "run_control": {
     "frozen": false,
     "read_only": false
    }
   },
   "outputs": [],
   "source": []
  },
  {
   "cell_type": "markdown",
   "metadata": {},
   "source": [
    "### Subtask: Create contingency table for a D-dominant inheritance model of black coat color and SNP rs6232550\n",
    "Tip: pandas' crosstabl functionality may be helpful here and the [reshaping/crosstab documentation](http://pandas-docs.github.io/pandas-docs-travis/reshaping.html) as illustrated in [this tutorial](http://wesmckinney.com/blog/contingency-tables-and-cross-tabulations-in-pandas/) may be helpful."
   ]
  },
  {
   "cell_type": "code",
   "execution_count": 21,
   "metadata": {
    "collapsed": false
   },
   "outputs": [
    {
     "data": {
      "text/html": [
       "<div>\n",
       "<table border=\"1\" class=\"dataframe\">\n",
       "  <thead>\n",
       "    <tr style=\"text-align: right;\">\n",
       "      <th></th>\n",
       "      <th>coat color</th>\n",
       "      <th>rs6232550</th>\n",
       "    </tr>\n",
       "    <tr>\n",
       "      <th>0</th>\n",
       "      <th></th>\n",
       "      <th></th>\n",
       "    </tr>\n",
       "  </thead>\n",
       "  <tbody>\n",
       "    <tr>\n",
       "      <th>BXD1</th>\n",
       "      <td>1.0</td>\n",
       "      <td>2</td>\n",
       "    </tr>\n",
       "    <tr>\n",
       "      <th>BXD2</th>\n",
       "      <td>4.0</td>\n",
       "      <td>0</td>\n",
       "    </tr>\n",
       "    <tr>\n",
       "      <th>BXD5</th>\n",
       "      <td>3.0</td>\n",
       "      <td>0</td>\n",
       "    </tr>\n",
       "    <tr>\n",
       "      <th>BXD6</th>\n",
       "      <td>3.0</td>\n",
       "      <td>0</td>\n",
       "    </tr>\n",
       "    <tr>\n",
       "      <th>BXD8</th>\n",
       "      <td>3.0</td>\n",
       "      <td>0</td>\n",
       "    </tr>\n",
       "  </tbody>\n",
       "</table>\n",
       "</div>"
      ],
      "text/plain": [
       "      coat color rs6232550\n",
       "0                         \n",
       "BXD1         1.0         2\n",
       "BXD2         4.0         0\n",
       "BXD5         3.0         0\n",
       "BXD6         3.0         0\n",
       "BXD8         3.0         0"
      ]
     },
     "execution_count": 21,
     "metadata": {},
     "output_type": "execute_result"
    }
   ],
   "source": [
    "joined_SNP.head()"
   ]
  },
  {
   "cell_type": "code",
   "execution_count": 22,
   "metadata": {
    "collapsed": false
   },
   "outputs": [],
   "source": [
    "# black: 4\n",
    "# D: 2\n",
    "# M: 0\n",
    "\n",
    "not_black_mother = 0\n",
    "not_black_father = 0\n",
    "black_mother = 0\n",
    "black_father = 0\n",
    "\n",
    "for row in joined_SNP.itertuples():\n",
    "    \n",
    "    # color is not black:\n",
    "    if(int(row[1]) is not 4):\n",
    "        \n",
    "        # mother \n",
    "        if(int(row[2]) is 0):\n",
    "            not_black_mother += 1\n",
    "            \n",
    "        # father\n",
    "        elif(int(row[2]) is 2):\n",
    "            not_black_father += 1\n",
    "    else:\n",
    "        # mother \n",
    "        if(int(row[2]) is 0):\n",
    "            black_mother += 1\n",
    "            \n",
    "        # father\n",
    "        elif(int(row[2]) is 2):\n",
    "            black_father += 1\n",
    "\n",
    "            \n",
    "d = {'m/m' : pd.Series([black_mother, not_black_mother, black_mother+not_black_mother], \n",
    "                       index=['Black', 'Not Black', 'Total']),\n",
    "     'D/m, D/D' : pd.Series([black_father, not_black_father, black_father+not_black_father], \n",
    "                            index=['Black', 'Not Black', 'Total']),\n",
    "    'total' : pd.Series([black_father+black_mother, not_black_father+not_black_mother, \n",
    "                         black_mother+not_black_mother+black_father+not_black_father], \n",
    "                            index=['Black', 'Not Black', 'Total'])}    \n",
    "\n",
    "contigency_table = pd.DataFrame(d)"
   ]
  },
  {
   "cell_type": "markdown",
   "metadata": {},
   "source": [
    "__Show table__"
   ]
  },
  {
   "cell_type": "code",
   "execution_count": 23,
   "metadata": {
    "collapsed": false,
    "run_control": {
     "frozen": false,
     "read_only": false
    }
   },
   "outputs": [
    {
     "data": {
      "text/html": [
       "<div>\n",
       "<table border=\"1\" class=\"dataframe\">\n",
       "  <thead>\n",
       "    <tr style=\"text-align: right;\">\n",
       "      <th></th>\n",
       "      <th>D/m, D/D</th>\n",
       "      <th>m/m</th>\n",
       "      <th>total</th>\n",
       "    </tr>\n",
       "  </thead>\n",
       "  <tbody>\n",
       "    <tr>\n",
       "      <th>Black</th>\n",
       "      <td>7</td>\n",
       "      <td>11</td>\n",
       "      <td>18</td>\n",
       "    </tr>\n",
       "    <tr>\n",
       "      <th>Not Black</th>\n",
       "      <td>38</td>\n",
       "      <td>32</td>\n",
       "      <td>70</td>\n",
       "    </tr>\n",
       "    <tr>\n",
       "      <th>Total</th>\n",
       "      <td>45</td>\n",
       "      <td>43</td>\n",
       "      <td>88</td>\n",
       "    </tr>\n",
       "  </tbody>\n",
       "</table>\n",
       "</div>"
      ],
      "text/plain": [
       "           D/m, D/D  m/m  total\n",
       "Black             7   11     18\n",
       "Not Black        38   32     70\n",
       "Total            45   43     88"
      ]
     },
     "execution_count": 23,
     "metadata": {},
     "output_type": "execute_result"
    }
   ],
   "source": [
    "contigency_table"
   ]
  },
  {
   "cell_type": "markdown",
   "metadata": {},
   "source": [
    "### Subtask: Perform $\\chi^2$ square test for independence on the contingency table"
   ]
  },
  {
   "cell_type": "code",
   "execution_count": 24,
   "metadata": {
    "collapsed": true,
    "run_control": {
     "frozen": false,
     "read_only": false
    }
   },
   "outputs": [],
   "source": [
    "from scipy.stats import chi2\n",
    "from scipy.stats import chi2_contingency"
   ]
  },
  {
   "cell_type": "code",
   "execution_count": 25,
   "metadata": {
    "collapsed": false,
    "run_control": {
     "frozen": false,
     "read_only": false
    }
   },
   "outputs": [
    {
     "name": "stdout",
     "output_type": "stream",
     "text": [
      "The p value for the given contigency table is 0.851388354704.\n"
     ]
    }
   ],
   "source": [
    "chi3, p, dof, ex = chi2_contingency(contigency_table)\n",
    "\n",
    "p = 1-chi2.cdf(chi3, dof)\n",
    "print(\"The p value for the given contigency table is \" + str(p) + \".\")"
   ]
  },
  {
   "cell_type": "markdown",
   "metadata": {},
   "source": [
    "### Subtask: Write function to calculate odds ratio from a contingency table"
   ]
  },
  {
   "cell_type": "code",
   "execution_count": 26,
   "metadata": {
    "collapsed": true,
    "run_control": {
     "frozen": false,
     "read_only": false
    }
   },
   "outputs": [],
   "source": [
    "def calculate_odds_ratio(cont_table):\n",
    "    \"\"\" Calculates the odds ratio based on the contigency table.\n",
    "    \n",
    "        cont_table: the contingency table\n",
    "    \"\"\"\n",
    "    \n",
    "    c_table = cont_table.as_matrix()\n",
    "    c_table = c_table.astype(float)\n",
    "\n",
    "    return (c_table[0,0]/c_table[1,0])/(c_table[0,1]/c_table[1,1])"
   ]
  },
  {
   "cell_type": "code",
   "execution_count": 27,
   "metadata": {
    "collapsed": false,
    "run_control": {
     "frozen": false,
     "read_only": false
    }
   },
   "outputs": [
    {
     "data": {
      "text/plain": [
       "0.53588516746411485"
      ]
     },
     "execution_count": 27,
     "metadata": {},
     "output_type": "execute_result"
    }
   ],
   "source": [
    "calculate_odds_ratio(contigency_table)"
   ]
  },
  {
   "cell_type": "markdown",
   "metadata": {},
   "source": [
    "## Task: extend statistical method for a penetrance model in which increasing numbers of A alleles confer a trend in risk (e.g. additive or dominant)"
   ]
  },
  {
   "cell_type": "markdown",
   "metadata": {},
   "source": [
    "While you can model most of the penetrance models described in the lecture in a 2x2 contingency table and thus perform a $\\chi^2$ test with one degree of freedom, it may sometimes be useful to consider the full complexity of a genotype contigency table considering all three possible genotypes instead of just two (even though the latter has larger statistical power). Apart from a $\\chi^2$ test with two degrees of freedom, the Cochran–Armitage trend test is commonly used in genetic association tests as this has often larger statistical power. In this case, if the exact model of penetrance is not known, an additive approach is often used. \n",
    "\n",
    "You can read more about basic statistical approaches in genetic association tests in the following paper:\n",
    "\n",
    "__Clarke, G. M. et al. [Basic statistical analysis in genetic case-control studies](http://www.nature.com/nprot/journal/v6/n2/full/nprot.2010.182.html). Nat Protoc 6, 121–133 (2011).__\n"
   ]
  },
  {
   "cell_type": "markdown",
   "metadata": {},
   "source": [
    "### Subtask: Given the data you have, could you calculate this type of statistic for your data?\n",
    "\n",
    "* If yes, please implement the creation of a contingency table and the test.\n",
    "* If no, please explain why."
   ]
  },
  {
   "cell_type": "markdown",
   "metadata": {
    "collapsed": true,
    "run_control": {
     "frozen": false,
     "read_only": false
    }
   },
   "source": [
    "No, the statistic wouldn't make sense considering our data. We need to have at least 3 different categories (we have maternal, paternal and heterozygous) which should have reasonable sample sizes. Unfortunately we have very few heterozygous datapoints.   "
   ]
  },
  {
   "cell_type": "markdown",
   "metadata": {},
   "source": [
    "## Task: Refactor previous analysis steps into a function and apply to all SNPs\n",
    "\n",
    "Things to consider:\n",
    "* What information is needed as input in each round?\n",
    "* Do you want to support $\\chi^2$ and Cochran–Armitage test?\n",
    "* What information as output is needed?\n",
    "* Should multiple inheritance models be included?\n",
    "* Should the user get to chose which hair color to test?"
   ]
  },
  {
   "cell_type": "code",
   "execution_count": 28,
   "metadata": {
    "collapsed": true
   },
   "outputs": [],
   "source": [
    "def calculate_odds_ratio(cont_table):\n",
    "    \"\"\" Calculates the odds ratio based on the contigency table.\n",
    "    \n",
    "        cont_table: the contigency table \n",
    "        @return: odds ratio for the given contigency table\n",
    "    \"\"\"\n",
    "    \n",
    "    # convert dataframe to matrix\n",
    "    c_table = cont_table.as_matrix()\n",
    "\n",
    "    # change type to float\n",
    "    c_table = c_table.astype(float)\n",
    "\n",
    "    return (c_table[0,0]/c_table[1,0])/(c_table[0,1]/c_table[1,1])"
   ]
  },
  {
   "cell_type": "code",
   "execution_count": 29,
   "metadata": {
    "collapsed": false
   },
   "outputs": [],
   "source": [
    "def create_contigency_table(joined_SNP_, color_=\"black\"):\n",
    "    \"\"\" creates the contigency table of the color color \n",
    "\n",
    "        joined_SNP_: dataframe containing the joined SNPs\n",
    "        color: color to create the contigency table\n",
    "    \n",
    "    \"\"\"\n",
    "\n",
    "    # dictionary to map the colors to int\n",
    "    color_dict = {\"black\" : 4, \"grey\" : 3, \"brown\": 2, \"dilute\": 1}\n",
    "    \n",
    "    # get the int for the given color\n",
    "    int_color = color_dict[color_]\n",
    "\n",
    "    # variables to count\n",
    "    not_color_mother = 0\n",
    "    not_color_father = 0\n",
    "    color_mother = 0\n",
    "    color_father = 0\n",
    "\n",
    "    # iterate over each row in dataframe\n",
    "    for row in joined_SNP_.itertuples():\n",
    "    \n",
    "        # color is not color:\n",
    "        if(int(row[1]) is not int_color):\n",
    "        \n",
    "            # mother \n",
    "            if(int(row[2]) is 0):\n",
    "                not_color_mother += 1\n",
    "            \n",
    "            # father\n",
    "            elif(int(row[2]) is 2):\n",
    "                not_color_father += 1\n",
    "        else:\n",
    "            # mother \n",
    "            if(int(row[2]) is 0):\n",
    "                color_mother += 1\n",
    "            \n",
    "            # father\n",
    "            elif(int(row[2]) is 2):\n",
    "                color_father += 1\n",
    "    \n",
    "    # create the dataframe with the counts\n",
    "    d = {'m/m' : pd.Series([color_mother, not_color_mother, color_mother+not_color_mother], \n",
    "                       index=['Color', 'Not Color', 'Total']),\n",
    "         'D/m, D/D' : pd.Series([color_father, not_color_father, color_father+not_color_father], \n",
    "                            index=['Color', 'Not Color', 'Total']),\n",
    "         'total' : pd.Series([color_father+color_mother, not_color_father+not_color_mother, \n",
    "                         color_mother+not_color_mother+color_father+not_color_father], \n",
    "                            index=['Color', 'Not Color', 'Total'])}    \n",
    "\n",
    "    return pd.DataFrame(d)    "
   ]
  },
  {
   "cell_type": "code",
   "execution_count": 30,
   "metadata": {
    "collapsed": false,
    "run_control": {
     "frozen": false,
     "read_only": false
    }
   },
   "outputs": [],
   "source": [
    "def association_test(genotype_df_1, phenotyp_df_1, strainheader=\"BXD\", color__=\"black\", verbose=False):\n",
    "    \"\"\" runs a association test on the genome dataframe and the color dataframe using strainheader \n",
    "    strainheader and color color__\n",
    "    \n",
    "        genotype_df_1: the genometype dataframe\n",
    "        phenotyp_df_1: the phenotype dataframe\n",
    "        strainheader: the strainheader to use\n",
    "        color__: the color to use    \n",
    "        verbose: boolean decides whether there is an output\n",
    "    \"\"\" \n",
    "    \n",
    "    \n",
    "    list_of_genes = []\n",
    "    list_of_p_values = []\n",
    "    list_of_chromosomes = []\n",
    "    \n",
    "    \n",
    "    # get all SNPs in the dataframe\n",
    "    for a in list(genotype_df_1.index):\n",
    "        \n",
    "        # get the chromosome\n",
    "        single_SNP_ = genotype_df_1.loc[a]\n",
    "        chrom = single_SNP_.loc[\"Chr\"]\n",
    "        \n",
    "        ### remove all non-strain genotype columns:\n",
    "        \n",
    "        # get the columns with \"BXD\" header\n",
    "        cols = [i for i in genotype_df_1 if strainheader in i]\n",
    "        single_SNP_ = single_SNP_[cols]\n",
    "\n",
    "        # combine snp data with phenotype data\n",
    "        joined_SNP_ = phenotyp_df_1.join(single_SNP_)\n",
    "        joined_SNP_.dropna(inplace=True)\n",
    "\n",
    "        ### create contingency table for color x\n",
    "        contingency_table_ = create_contigency_table(joined_SNP_, color__)\n",
    "       \n",
    "        ### perform chi^2 test \n",
    "        chi3, p, dof, ex = chi2_contingency(contingency_table_)\n",
    "        \n",
    "        ### calculate odds ratio\n",
    "        odds = calculate_odds_ratio(contingency_table_)\n",
    "       \n",
    "        # output..\n",
    "        if verbose:\n",
    "            print(\"Analyzing \" + str(a) + \", using strainheader = \" + strainheader + \" and color = \" + color__ + \".\")\n",
    "            print(contigency_table)\n",
    "            print(\"The p-value for \" + str(a) + \" is \" + str(p) + \".\") \n",
    "            print(\"The odds ratio based on the contigency table is \" + str(odds) + \".\")\n",
    "            print(\"\")\n",
    "        \n",
    "        \n",
    "        list_of_genes.append(str(a))\n",
    "        list_of_p_values.append(p)\n",
    "        \n",
    "        # deal with chromosome 'X'\n",
    "        try:\n",
    "            temp = int(chrom)\n",
    "            list_of_chromosomes.append('ch-%i' % temp)\n",
    "        except:\n",
    "            list_of_chromosomes.append('ch-%i' % 20)\n",
    "        \n",
    "    \n",
    "    result_df = pd.DataFrame({'gene' : list_of_genes,\n",
    "                           'pvalue' : list_of_p_values,\n",
    "                           'chromosome' : list_of_chromosomes})\n",
    "    \n",
    "    \n",
    "    return result_df\n",
    "        "
   ]
  },
  {
   "cell_type": "code",
   "execution_count": 31,
   "metadata": {
    "collapsed": false
   },
   "outputs": [],
   "source": [
    "resulting_df = association_test(genotype_df_mapped,coat_color_df)\n",
    "\n",
    "# association tests for other colors\n",
    "\n",
    "#association_test(genotype_df_mapped, coat_color_df, color__=\"grey\")\n",
    "#association_test(genotype_df_mapped, coat_color_df, color__=\"brown\")\n",
    "#association_test(genotype_df_mapped, coat_color_df, color__=\"dilute\")"
   ]
  },
  {
   "cell_type": "code",
   "execution_count": 32,
   "metadata": {
    "collapsed": false
   },
   "outputs": [
    {
     "data": {
      "text/html": [
       "<div>\n",
       "<table border=\"1\" class=\"dataframe\">\n",
       "  <thead>\n",
       "    <tr style=\"text-align: right;\">\n",
       "      <th></th>\n",
       "      <th>chromosome</th>\n",
       "      <th>gene</th>\n",
       "      <th>pvalue</th>\n",
       "    </tr>\n",
       "  </thead>\n",
       "  <tbody>\n",
       "    <tr>\n",
       "      <th>0</th>\n",
       "      <td>ch-1</td>\n",
       "      <td>rs6269442</td>\n",
       "      <td>0.077552</td>\n",
       "    </tr>\n",
       "    <tr>\n",
       "      <th>1</th>\n",
       "      <td>ch-1</td>\n",
       "      <td>rs6241531</td>\n",
       "      <td>0.521760</td>\n",
       "    </tr>\n",
       "    <tr>\n",
       "      <th>2</th>\n",
       "      <td>ch-1</td>\n",
       "      <td>rs6360236</td>\n",
       "      <td>0.348160</td>\n",
       "    </tr>\n",
       "    <tr>\n",
       "      <th>3</th>\n",
       "      <td>ch-1</td>\n",
       "      <td>rs3722996</td>\n",
       "      <td>0.348160</td>\n",
       "    </tr>\n",
       "    <tr>\n",
       "      <th>4</th>\n",
       "      <td>ch-1</td>\n",
       "      <td>D1Mit1</td>\n",
       "      <td>0.294961</td>\n",
       "    </tr>\n",
       "  </tbody>\n",
       "</table>\n",
       "</div>"
      ],
      "text/plain": [
       "  chromosome       gene    pvalue\n",
       "0       ch-1  rs6269442  0.077552\n",
       "1       ch-1  rs6241531  0.521760\n",
       "2       ch-1  rs6360236  0.348160\n",
       "3       ch-1  rs3722996  0.348160\n",
       "4       ch-1     D1Mit1  0.294961"
      ]
     },
     "execution_count": 32,
     "metadata": {},
     "output_type": "execute_result"
    }
   ],
   "source": [
    "resulting_df.head()"
   ]
  },
  {
   "cell_type": "markdown",
   "metadata": {},
   "source": [
    "### Subtask: Create Manhattan Plot of  $-\\log_{10}(\\text{P-value})$ vs chromosome position \n",
    "A Manhattan plot, named after its resemblance to the skyline of Manhattan, is commonly used to plot the p-value obtained for individual association tests for each SNP compared to the SNP's position on the genome as shown in the example below.\n",
    "\n",
    "Technically, a Manhattan plot is a scatter plot of genome position (for each chromosome) vs the negative logarithm of the p-value.\n",
    "\n",
    "<img src=\"Manhattan.png\"></img>"
   ]
  },
  {
   "cell_type": "code",
   "execution_count": 33,
   "metadata": {
    "collapsed": false
   },
   "outputs": [
    {
     "data": {
      "text/plain": [
       "(0, 2605)"
      ]
     },
     "execution_count": 33,
     "metadata": {},
     "output_type": "execute_result"
    },
    {
     "data": {
      "image/png": "[encoded data removed]",
      "text/plain": [
       "<matplotlib.figure.Figure at 0xd613ba8>"
      ]
     },
     "metadata": {},
     "output_type": "display_data"
    }
   ],
   "source": [
    "# -log_10(pvalue)\n",
    "resulting_df['minuslog10pvalue'] = -np.log10(resulting_df.pvalue)\n",
    "resulting_df.chromosome = resulting_df.chromosome.astype('category')\n",
    "resulting_df.chromosome = resulting_df.chromosome.cat.set_categories(['ch-%i' % i for i in range(1,21)], ordered=True)\n",
    "resulting_df = resulting_df.sort_values('chromosome')\n",
    "\n",
    "# How to plot gene vs. -log10(pvalue) and colour it by chromosome?\n",
    "resulting_df['ind'] = range(len(resulting_df))\n",
    "resulting_df_grouped = resulting_df.groupby(('chromosome'))\n",
    "\n",
    "\n",
    "fig = plt.figure(figsize=(12,8))\n",
    "ax = fig.add_subplot(111)\n",
    "colors = ['red','green','blue', 'yellow']\n",
    "x_labels = []\n",
    "x_labels_pos = []\n",
    "for num, (name, group) in enumerate(resulting_df_grouped):\n",
    "    group.plot(kind='scatter', x='ind', y='minuslog10pvalue',color=colors[num % len(colors)], ax=ax)\n",
    "    x_labels.append(name)\n",
    "    x_labels_pos.append((group['ind'].iloc[-1] - (group['ind'].iloc[-1] - group['ind'].iloc[0])/2))\n",
    "ax.set_xticks(x_labels_pos)\n",
    "ax.set_xticklabels(x_labels)\n",
    "ax.set_xlim([0, len(resulting_df)])\n",
    "\n"
   ]
  },
  {
   "cell_type": "markdown",
   "metadata": {},
   "source": [
    "#### Bonus if you have way too much time: Try to make plot interactive (e.g. add tooltips on hover using mpld3)\n",
    "You will have time to work on a proper interactive version later in the course, so only do this if you finished all other tasks"
   ]
  },
  {
   "cell_type": "code",
   "execution_count": null,
   "metadata": {
    "collapsed": true,
    "run_control": {
     "frozen": false,
     "read_only": false
    }
   },
   "outputs": [],
   "source": []
  },
  {
   "cell_type": "code",
   "execution_count": null,
   "metadata": {
    "collapsed": true,
    "run_control": {
     "frozen": false,
     "read_only": false
    }
   },
   "outputs": [],
   "source": []
  },
  {
   "cell_type": "markdown",
   "metadata": {},
   "source": [
    "### Subtask: If you have time, adapt function so that it also supports the non-dominant inheritance models"
   ]
  },
  {
   "cell_type": "code",
   "execution_count": null,
   "metadata": {
    "collapsed": true,
    "run_control": {
     "frozen": false,
     "read_only": false
    }
   },
   "outputs": [],
   "source": []
  },
  {
   "cell_type": "code",
   "execution_count": null,
   "metadata": {
    "collapsed": true,
    "run_control": {
     "frozen": false,
     "read_only": false
    }
   },
   "outputs": [],
   "source": []
  },
  {
   "cell_type": "markdown",
   "metadata": {},
   "source": [
    "## Task: Correct for Multiple Hypothesis Testing"
   ]
  },
  {
   "cell_type": "markdown",
   "metadata": {},
   "source": [
    "Employ one of the correction methods described in the lecture to take care of the multiple hypothesis testing."
   ]
  },
  {
   "cell_type": "markdown",
   "metadata": {},
   "source": [
    "### Subtask: Wrap your MHT correction in a funtion\n",
    "Ideally, the function should allow easy access to several parameters including the target $\\alpha$ and the correction method"
   ]
  },
  {
   "cell_type": "code",
   "execution_count": 34,
   "metadata": {
    "collapsed": false
   },
   "outputs": [
    {
     "name": "stdout",
     "output_type": "stream",
     "text": [
      "    chromosome           gene    pvalue  minuslog10pvalue  ind\n",
      "0         ch-1      rs6269442  0.077552      1.110405e+00    0\n",
      "166       ch-1     rs13476163  0.998169      7.959150e-04    1\n",
      "167       ch-1      rs3711440  0.999999      4.304506e-07    2\n",
      "168       ch-1      rs6411476  0.999999      4.304506e-07    3\n",
      "169       ch-1  gnf01.148.750  0.999999      4.304506e-07    4\n"
     ]
    }
   ],
   "source": [
    "print(resulting_df.head())"
   ]
  },
  {
   "cell_type": "code",
   "execution_count": 35,
   "metadata": {
    "collapsed": false,
    "run_control": {
     "frozen": false,
     "read_only": false
    }
   },
   "outputs": [],
   "source": [
    "def MHT_correction(resulting_df_2, alpha=0.1, method='bonferroni'):\n",
    "    \"\"\" returns the significant genes:\n",
    "    \n",
    "        resulting_df: the df to analyze\n",
    "        alpha: \n",
    "        methode: the methode  \n",
    "        \n",
    "    \"\"\"\n",
    "    \n",
    "    n = resulting_df_2.shape[0]\n",
    "    \n",
    "    if method is 'bonferroni':\n",
    "        adjusted_p_value = alpha / n\n",
    "    elif method is 'sidak':\n",
    "        adjusted_p_value = 1 - ((1-alpha)**(float(1)/n))\n",
    "        \n",
    "    return resulting_df_2[resulting_df_2[\"pvalue\"] < adjusted_p_value]"
   ]
  },
  {
   "cell_type": "markdown",
   "metadata": {},
   "source": [
    "### Subtask: Test if the function works as intended"
   ]
  },
  {
   "cell_type": "code",
   "execution_count": 36,
   "metadata": {
    "collapsed": false
   },
   "outputs": [
    {
     "data": {
      "text/html": [
       "<div>\n",
       "<table border=\"1\" class=\"dataframe\">\n",
       "  <thead>\n",
       "    <tr style=\"text-align: right;\">\n",
       "      <th></th>\n",
       "      <th>chromosome</th>\n",
       "      <th>gene</th>\n",
       "      <th>pvalue</th>\n",
       "      <th>minuslog10pvalue</th>\n",
       "      <th>ind</th>\n",
       "    </tr>\n",
       "  </thead>\n",
       "  <tbody>\n",
       "    <tr>\n",
       "      <th>692</th>\n",
       "      <td>ch-4</td>\n",
       "      <td>CEL-4_85931631</td>\n",
       "      <td>0.000033</td>\n",
       "      <td>4.485942</td>\n",
       "      <td>616</td>\n",
       "    </tr>\n",
       "    <tr>\n",
       "      <th>693</th>\n",
       "      <td>ch-4</td>\n",
       "      <td>CEL-4_86185890</td>\n",
       "      <td>0.000033</td>\n",
       "      <td>4.485942</td>\n",
       "      <td>617</td>\n",
       "    </tr>\n",
       "    <tr>\n",
       "      <th>694</th>\n",
       "      <td>ch-4</td>\n",
       "      <td>CEL-4_86326428</td>\n",
       "      <td>0.000017</td>\n",
       "      <td>4.778912</td>\n",
       "      <td>618</td>\n",
       "    </tr>\n",
       "    <tr>\n",
       "      <th>695</th>\n",
       "      <td>ch-4</td>\n",
       "      <td>rs13477829</td>\n",
       "      <td>0.000017</td>\n",
       "      <td>4.778912</td>\n",
       "      <td>619</td>\n",
       "    </tr>\n",
       "    <tr>\n",
       "      <th>696</th>\n",
       "      <td>ch-4</td>\n",
       "      <td>rs3022987</td>\n",
       "      <td>0.000033</td>\n",
       "      <td>4.485942</td>\n",
       "      <td>620</td>\n",
       "    </tr>\n",
       "  </tbody>\n",
       "</table>\n",
       "</div>"
      ],
      "text/plain": [
       "    chromosome            gene    pvalue  minuslog10pvalue  ind\n",
       "692       ch-4  CEL-4_85931631  0.000033          4.485942  616\n",
       "693       ch-4  CEL-4_86185890  0.000033          4.485942  617\n",
       "694       ch-4  CEL-4_86326428  0.000017          4.778912  618\n",
       "695       ch-4      rs13477829  0.000017          4.778912  619\n",
       "696       ch-4       rs3022987  0.000033          4.485942  620"
      ]
     },
     "execution_count": 36,
     "metadata": {},
     "output_type": "execute_result"
    }
   ],
   "source": [
    "MHT_correction(resulting_df, alpha=0.1, method='sidak').head()"
   ]
  },
  {
   "cell_type": "code",
   "execution_count": 37,
   "metadata": {
    "collapsed": false,
    "run_control": {
     "frozen": false,
     "read_only": false
    }
   },
   "outputs": [],
   "source": [
    "interesting_genes = MHT_correction(resulting_df, alpha=0.1, method='bonferroni')"
   ]
  },
  {
   "cell_type": "markdown",
   "metadata": {},
   "source": [
    "## Task: Identify candidate genes from identified loci"
   ]
  },
  {
   "cell_type": "markdown",
   "metadata": {},
   "source": [
    "### Subtask: Identify genes in region identified by significant loci (consider each chromosome separately)"
   ]
  },
  {
   "cell_type": "markdown",
   "metadata": {},
   "source": [
    "What we identified so far a so called __quantitative trait loci__, meaning that this locus on the genome is associated with a quantitative trait. This does not mean there is directly a causal relationship between the markers identified in the association study and the phenotype. It is, however, a pointer towards the region of the genome that may be relevant for the variability in the measured trait. The genes encompassed in this region then need to be analysed further to identify viable mechanistic candidates.\n",
    "\n",
    "\n",
    "\n",
    "A good starting point for this fine grained analysis would be to look up the genes directly linked to the SNP in [dbSNP]() (e.g, http://www.ncbi.nlm.nih.gov/projects/SNP/snp_ref.cgi?rs=rs3674482).\n",
    "\n",
    "Most likely the high ranking SNPs will not map directly to the causal gene, but be rather a marker for another variant in a gene in __linkage disequilibrium__ with this this SNP. We thus need to extend the search and look at other genes in the vicinity of the high ranking SNPs.\n",
    "\n",
    "You may thus want to move on the [Biomart](http://www.ensembl.org/biomart/martview/fb0e89930dcbbdb8075ca52f8b196719) to query for genes in a genomic region.\n",
    "\n",
    "A third resource you may want to check out is the [UCSC Genome Browser](http://genome.ucsc.edu/) for visual explorations as well as the [UCSC Table Browser](http://genome.ucsc.edu/cgi-bin/hgTables?hgsid=511555905_oFRLEcH1IWO1FdKyzynrsBCRMk7w) to obtain genes in a genomic region. The identifiers of proteins in the [uniprot](http://www.uniprot.org/) database are listed in the resulting table. Uniprot then can provide useful annotations of the proteins found in the search frame.\n",
    "\n",
    "Programmatic access is possible for all the services above using their REST interfaces:  \n",
    "[UCSC](http://genomewiki.ucsc.edu/index.php/Programmatic_access_to_the_Genome_Browser)     \n",
    "[Biomart](http://www.ensembl.org/info/data/biomart/biomart_restful.html)     \n",
    "[Uniprot](http://www.uniprot.org/help/programmatic_access)     \n",
    "\n",
    "There have been multiple attempts to make querying these services using python directly. The most important packages are:     \n",
    "[bioservices](https://pythonhosted.org/bioservices/)      \n",
    "[biomart-python](https://github.com/sebriois/biomart)      \n",
    "\n",
    "An example on how to query uniprot using bioservices can be found in [this notebook](http://nbviewer.jupyter.org/url/pythonhosted.org/bioservices/\\_downloads/UniProt.ipynb).\n",
    "\n",
    "If you decide to search for the genes of interest based on the genome location, make sure to select the correct reference genome. The reference used for the BXD genotyping is described in the genotype description on [genenetwork.org](http://www.genenetwork.org/dbdoc/BXDGeno.html)"
   ]
  },
  {
   "cell_type": "code",
   "execution_count": 38,
   "metadata": {
    "collapsed": false
   },
   "outputs": [
    {
     "name": "stderr",
     "output_type": "stream",
     "text": [
      "Ein Unterverzeichnis oder eine Datei mit dem Namen \"results\" existiert bereits.\n"
     ]
    }
   ],
   "source": [
    "!mkdir results"
   ]
  },
  {
   "cell_type": "code",
   "execution_count": 39,
   "metadata": {
    "collapsed": true,
    "run_control": {
     "frozen": false,
     "read_only": false
    }
   },
   "outputs": [],
   "source": [
    "import urllib"
   ]
  },
  {
   "cell_type": "code",
   "execution_count": 40,
   "metadata": {
    "collapsed": true
   },
   "outputs": [],
   "source": [
    "def get_megabase_range_for_locus(locus, gene_dataframe, range_=1000):\n",
    "    ''' This function returns the range for the locus in which other genes should be searched. \n",
    "    \n",
    "        locus: the locus \n",
    "        gene_dataframe: the dataframe containing the genes\n",
    "        range_: the range which other genes should be searched.  \n",
    "    '''\n",
    "    \n",
    "    # 1 megabase = 1000000 bases\n",
    "    megabase = int(gene_dataframe.loc[locus].loc[\"Mb\"]*1000000)\n",
    "    \n",
    "    # return range tuple\n",
    "    return (megabase-range_, megabase+range_)\n",
    "    "
   ]
  },
  {
   "cell_type": "code",
   "execution_count": 41,
   "metadata": {
    "collapsed": false
   },
   "outputs": [],
   "source": [
    "def get_URL(chromosome, base_range):\n",
    "    ''' This function creates the query URL for the chromosome and the given range of the bases. \n",
    "    \n",
    "        chromosome: the chromosome \n",
    "        base_range: the range e.g. (500000, 600000)\n",
    "    \n",
    "    '''\n",
    "\n",
    "    return 'http://www.ensembl.org/biomart/martservice?query=<?xml version=\"1.0\" encoding=\"UTF-8\"?><!DOCTYPE Query><Query  virtualSchemaName = \"default\" formatter = \"TSV\" header = \"1\" uniqueRows = \"1\" count = \"\" datasetConfigVersion = \"0.6\" ><Dataset name = \"mmusculus_gene_ensembl\" interface = \"default\" ><Filter name = \"chromosome_name\" value = \"' \\\n",
    "+ str(chromosome) + '\"/><Filter name = \"end\" value = \"' + str(base_range[1]) + '\"/><Filter name = \"start\" value = \"' \\\n",
    "+ str(base_range[0]) + '\"/><Attribute name = \"ensembl_gene_id\" /><Attribute name = \"ensembl_transcript_id\" /><Attribute name = \"mgi_symbol\" /><Attribute name = \"mgi_id\" /><Attribute name = \"phenotype_description\" /></Dataset></Query>'\n"
   ]
  },
  {
   "cell_type": "code",
   "execution_count": 42,
   "metadata": {
    "collapsed": false
   },
   "outputs": [],
   "source": [
    "def identify_candidate_genes(df_of_interesting_genes, gene_df, base_range__=1000):\n",
    "    \"\"\" This function identifies candidate genes (=neighbors of interesting genes) based on the dataframe \n",
    "    of interesting genes.\n",
    "    \n",
    "        list_of_interesting_genes: list of strings containing the locus of the interesting genes\n",
    "        gene_df: dataframe containing the genes\n",
    "        base_range__: range in which other genes should be searched\n",
    "    \n",
    "    \"\"\"\n",
    "    \n",
    "    print(\"Getting possible candidate genes from \" + str(len(df_of_interesting_genes)) + \" interesting genes.\") \n",
    "    \n",
    "    # list storing the dataframes for each chromosome\n",
    "    list_of_df = []\n",
    "    \n",
    "    # iterate over all chromosomes\n",
    "    for chromosome in df_of_interesting_genes.groupby(by=\"chromosome\"):\n",
    "    \n",
    "        temp123 = pd.DataFrame()\n",
    "    \n",
    "        # iterate over all found genes located in the current chromosome\n",
    "        for gene in chromosome[1].values:\n",
    "            \n",
    "            # get the correct column from the numpy array          \n",
    "            if type(gene[1]) is str:\n",
    "                base__range = get_megabase_range_for_locus(gene[1], gene_df, base_range__)\n",
    "                # get the query URL\n",
    "                query_url = get_URL(gene_df.loc[gene[1]].loc[\"Chr\"], base__range)\n",
    "                \n",
    "            else: \n",
    "                base__range = get_megabase_range_for_locus(gene[2], gene_df, base_range__)\n",
    "                # get the query URL\n",
    "                query_url = get_URL(gene_df.loc[gene[2]].loc[\"Chr\"], base__range)\n",
    "        \n",
    "            # retrieve the results from BioMart and save them\n",
    "            urllib.urlretrieve(query_url, \"results/temp.txt\")            \n",
    "            \n",
    "            temp_df_ = pd.read_csv(\"results/temp.txt\", sep=\"\\t\")\n",
    "                        \n",
    "            if not temp_df_.empty:\n",
    "                temp123 = temp123.append(temp_df_, ignore_index=True)\n",
    "            \n",
    "            \n",
    "        list_of_df.append(temp123)    \n",
    "  \n",
    "    print(\"Done.\")\n",
    "    \n",
    "    return list_of_df\n",
    "    \n",
    "    "
   ]
  },
  {
   "cell_type": "code",
   "execution_count": 43,
   "metadata": {
    "collapsed": false
   },
   "outputs": [
    {
     "name": "stdout",
     "output_type": "stream",
     "text": [
      "Getting possible candidate genes from 20 interesting genes.\n",
      "Done.\n"
     ]
    }
   ],
   "source": [
    "# list stores one dataframe for each chromosome\n",
    "# list_of_interesting_genes_by_chromosome[3]: dataframe for chromosome 4\n",
    "\n",
    "list_of_interesting_genes_by_chromosome = \\\n",
    "identify_candidate_genes(interesting_genes, genotype_df, base_range__=100000)\n"
   ]
  },
  {
   "cell_type": "code",
   "execution_count": 44,
   "metadata": {
    "collapsed": false
   },
   "outputs": [
    {
     "name": "stdout",
     "output_type": "stream",
     "text": [
      "    chromosome            gene    pvalue  minuslog10pvalue  ind\n",
      "692       ch-4  CEL-4_85931631  0.000033          4.485942  616\n",
      "693       ch-4  CEL-4_86185890  0.000033          4.485942  617\n",
      "694       ch-4  CEL-4_86326428  0.000017          4.778912  618\n",
      "695       ch-4      rs13477829  0.000017          4.778912  619\n",
      "696       ch-4       rs3022987  0.000033          4.485942  620\n"
     ]
    }
   ],
   "source": [
    "print(interesting_genes.head())"
   ]
  },
  {
   "cell_type": "code",
   "execution_count": 45,
   "metadata": {
    "collapsed": false,
    "run_control": {
     "frozen": false,
     "read_only": false
    }
   },
   "outputs": [
    {
     "data": {
      "text/plain": [
       "0                abnormal motor learning\n",
       "1          abnormal long term depression\n",
       "2         reduced long term potentiation\n",
       "3              abnormal spatial learning\n",
       "4       abnormal calcium ion homeostasis\n",
       "5       cellular calcium ion homeostasis\n",
       "6              impaired spatial learning\n",
       "7          long term synaptic depression\n",
       "8        long-term synaptic potentiation\n",
       "9         fast extinction of fear memory\n",
       "10               abnormal motor learning\n",
       "11         abnormal long term depression\n",
       "12        reduced long term potentiation\n",
       "13             abnormal spatial learning\n",
       "14      abnormal calcium ion homeostasis\n",
       "15      cellular calcium ion homeostasis\n",
       "16             impaired spatial learning\n",
       "17         long term synaptic depression\n",
       "18       long-term synaptic potentiation\n",
       "19        fast extinction of fear memory\n",
       "20               abnormal motor learning\n",
       "21         abnormal long term depression\n",
       "22        reduced long term potentiation\n",
       "23             abnormal spatial learning\n",
       "24      abnormal calcium ion homeostasis\n",
       "25      cellular calcium ion homeostasis\n",
       "26             impaired spatial learning\n",
       "27         long term synaptic depression\n",
       "28       long-term synaptic potentiation\n",
       "29        fast extinction of fear memory\n",
       "                      ...               \n",
       "1836      abnormal nasal bone morphology\n",
       "1837                       limb grasping\n",
       "1838                                 NaN\n",
       "1839                                 NaN\n",
       "1840                                 NaN\n",
       "1841                                 NaN\n",
       "1842                                 NaN\n",
       "1843                                 NaN\n",
       "1844                                 NaN\n",
       "1845                                 NaN\n",
       "1846                                 NaN\n",
       "1847                                 NaN\n",
       "1848                                 NaN\n",
       "1849                 increased IgM level\n",
       "1850                 decreased IgD level\n",
       "1851      decreased mature B cell number\n",
       "1852                 increased IgM level\n",
       "1853                 decreased IgD level\n",
       "1854      decreased mature B cell number\n",
       "1855                 increased IgM level\n",
       "1856                 decreased IgD level\n",
       "1857      decreased mature B cell number\n",
       "1858                 increased IgM level\n",
       "1859                 decreased IgD level\n",
       "1860      decreased mature B cell number\n",
       "1861                 increased IgM level\n",
       "1862                 decreased IgD level\n",
       "1863      decreased mature B cell number\n",
       "1864                                 NaN\n",
       "1865                                 NaN\n",
       "Name: Phenotype description, dtype: object"
      ]
     },
     "execution_count": 45,
     "metadata": {},
     "output_type": "execute_result"
    }
   ],
   "source": [
    "\n",
    "list_of_interesting_genes_by_chromosome[3][\"Phenotype description\"]\n",
    "\n",
    "# TODO: search for color\n"
   ]
  },
  {
   "cell_type": "markdown",
   "metadata": {},
   "source": [
    "### Subtask: Check if the locations you found match to what is known from literature about genetics of mouse coat color"
   ]
  },
  {
   "cell_type": "code",
   "execution_count": 46,
   "metadata": {
    "collapsed": true,
    "run_control": {
     "frozen": false,
     "read_only": false
    }
   },
   "outputs": [],
   "source": [
    "# TODO"
   ]
  },
  {
   "cell_type": "code",
   "execution_count": null,
   "metadata": {
    "collapsed": true,
    "run_control": {
     "frozen": false,
     "read_only": false
    }
   },
   "outputs": [],
   "source": []
  },
  {
   "cell_type": "code",
   "execution_count": null,
   "metadata": {
    "collapsed": true,
    "run_control": {
     "frozen": false,
     "read_only": false
    }
   },
   "outputs": [],
   "source": []
  },
  {
   "cell_type": "code",
   "execution_count": null,
   "metadata": {
    "collapsed": true,
    "run_control": {
     "frozen": false,
     "read_only": false
    }
   },
   "outputs": [],
   "source": []
  },
  {
   "cell_type": "markdown",
   "metadata": {},
   "source": [
    "# Association tests between variant(s) and continuous phenotype¶ \n",
    "All of the phenotype data provided in the multi-omics publication is actually not categorical. We thus have to adapt our approach to use continuous data. In the lecture you learned that instead of $\\chi^2$ test or logistic regression, linear regression models or correlation tests could be used. "
   ]
  },
  {
   "cell_type": "markdown",
   "metadata": {},
   "source": [
    "## Task: Import relevant functions from scipy"
   ]
  },
  {
   "cell_type": "code",
   "execution_count": 47,
   "metadata": {
    "collapsed": true,
    "run_control": {
     "frozen": false,
     "read_only": false
    }
   },
   "outputs": [],
   "source": [
    "from scipy.stats.stats import pearsonr"
   ]
  },
  {
   "cell_type": "markdown",
   "metadata": {},
   "source": [
    "## Task: Load Phenotype spreadsheets from paper supplement"
   ]
  },
  {
   "cell_type": "code",
   "execution_count": 48,
   "metadata": {
    "collapsed": false,
    "run_control": {
     "frozen": false,
     "read_only": false
    }
   },
   "outputs": [],
   "source": [
    "phenotype_df = pd.read_excel(\"data/phenotype.xlsx\", sheetname=None, na_values='x')"
   ]
  },
  {
   "cell_type": "code",
   "execution_count": 49,
   "metadata": {
    "collapsed": false
   },
   "outputs": [
    {
     "data": {
      "text/plain": [
       "[u'CLAMS',\n",
       " u'ColdTest',\n",
       " u'Biochemistry',\n",
       " u'TSE',\n",
       " u'Hematology',\n",
       " u'OGTT',\n",
       " u'Activity Wheel',\n",
       " u'NIBP',\n",
       " u'NEW',\n",
       " u'VO2Max',\n",
       " u'Body Wt & Composition',\n",
       " u'Tissue_W']"
      ]
     },
     "execution_count": 49,
     "metadata": {},
     "output_type": "execute_result"
    }
   ],
   "source": [
    "phenotype_df.keys()"
   ]
  },
  {
   "cell_type": "code",
   "execution_count": 50,
   "metadata": {
    "collapsed": true
   },
   "outputs": [],
   "source": [
    "def find_comparable_measurements(a_phenotype_df, diet1='HFD', diet2='CD', verbose=False):\n",
    "    \"\"\" Find measurements to compare(columns which include the diet name)\n",
    "    \n",
    "        a_phenotype_df: pandas dataframe to analyze\n",
    "        diet1: identifier of diet1\n",
    "        diet2: identifier of diet2\n",
    "        verbose: prints one list containing the measurements to the console\n",
    "    \"\"\"\n",
    "    \n",
    "    # iterate over each column names and add the current column name to the list if diet1/diet2 is in the column name\n",
    "    diet1_measurement = [a for a in list(a_phenotype_df.columns.values) if diet1 in a]\n",
    "    diet2_measurement = [a for a in list(a_phenotype_df.columns.values) if diet2 in a]\n",
    "    \n",
    "    if verbose:\n",
    "        print(diet1_measurement)\n",
    "    \n",
    "    # return both lists\n",
    "    return diet1_measurement, diet2_measurement"
   ]
  },
  {
   "cell_type": "code",
   "execution_count": 51,
   "metadata": {
    "collapsed": false,
    "run_control": {
     "frozen": false,
     "read_only": false
    }
   },
   "outputs": [
    {
     "data": {
      "text/plain": [
       "([u'HFD_0H_ColdTest_[\\xb0C]',\n",
       "  u'HFD_1H_ColdTest_[\\xb0C]',\n",
       "  u'HFD_2H_ColdTest_[\\xb0C]',\n",
       "  u'HFD_3H_ColdTest_[\\xb0C]',\n",
       "  u'HFD_4H_ColdTest_[\\xb0C]',\n",
       "  u'HFD_5H_ColdTest_[\\xb0C]',\n",
       "  u'HFD_6H_ColdTest_[\\xb0C]',\n",
       "  u'HFD_Decrease_0-3H_[%]',\n",
       "  u'HFD_Decrease_0-6H_[%]',\n",
       "  u'HFD_Decrease_3-6H_[%]',\n",
       "  u'HFD/CD_0H_[ratio]',\n",
       "  u'HFD/CD_6H_[ratio]'],\n",
       " [u'CD_0H_ColdTest_[\\xb0C]',\n",
       "  u'CD_1H_ColdTest_[\\xb0C]',\n",
       "  u'CD_2H_ColdTest_[\\xb0C]',\n",
       "  u'CD_3H_ColdTest_[\\xb0C]',\n",
       "  u'CD_4H_ColdTest_[\\xb0C]',\n",
       "  u'CD_5H_ColdTest_[\\xb0C]',\n",
       "  u'CD_6H_ColdTest_[\\xb0C]',\n",
       "  u'CD_Decrease_0-3H_[%]',\n",
       "  u'CD_Decrease_0-6H_[%]',\n",
       "  u'CD_Decrease_3-6H_[%]',\n",
       "  u'HFD/CD_0H_[ratio]',\n",
       "  u'HFD/CD_6H_[ratio]'])"
      ]
     },
     "execution_count": 51,
     "metadata": {},
     "output_type": "execute_result"
    }
   ],
   "source": [
    "find_comparable_measurements(phenotype_df[\"ColdTest\"])"
   ]
  },
  {
   "cell_type": "markdown",
   "metadata": {},
   "source": [
    "## Task: Implement Pearson's r-based test for correlation"
   ]
  },
  {
   "cell_type": "code",
   "execution_count": 52,
   "metadata": {
    "collapsed": true,
    "run_control": {
     "frozen": false,
     "read_only": false
    }
   },
   "outputs": [],
   "source": [
    "def pearson_r_test(x,y):\n",
    "    \"\"\" This function runs the pearson r test for two dataframes x and y.\n",
    "    \n",
    "        x: dataframe \n",
    "        y: dataframe\n",
    "    \n",
    "    \"\"\"\n",
    "    \n",
    "    # combine the dataframes\n",
    "    comb_df = x.join(y)\n",
    "    \n",
    "    # drop invalid values\n",
    "    comb_df = comb_df.dropna()\n",
    "\n",
    "    # run the python function with the two dataframes\n",
    "    return pearsonr(comb_df.ix[:,0], comb_df.ix[:,1])"
   ]
  },
  {
   "cell_type": "code",
   "execution_count": 53,
   "metadata": {
    "collapsed": true
   },
   "outputs": [],
   "source": [
    "# garbage collection (for faster runtime)\n",
    "\n",
    "import gc"
   ]
  },
  {
   "cell_type": "code",
   "execution_count": 54,
   "metadata": {
    "collapsed": false
   },
   "outputs": [],
   "source": [
    "def pearson_r_test_multiple(phentoype_df_, genotype_df_mapped_, sheetname, biological_measurements):\n",
    "    \"\"\" This function runs the pearson_r_test for every gene in genotype_df\n",
    "    \n",
    "        phenotype_df_: the dataframe containing the phenotype dataframe\n",
    "        genotype_df_mapped_: the dataframe containing the genotype dataframe\n",
    "        sheetname: the sheetname, e.g. \"Biochemistry\" or \"Activity Wheel\"\n",
    "        biological_measurements: the biological measurements, e.g. \"HFD_LeanMass_preCLAMS_[g]\"\n",
    "    \n",
    "    \"\"\"\n",
    "    \n",
    "    df_sheetname = phentoype_df_[sheetname]\n",
    "    df_sheetname = df_sheetname.set_index('@format=column')\n",
    "    \n",
    "    # lists to create the final dataframe\n",
    "    list_of_genes_ = []\n",
    "    list_of_p_values_ = []\n",
    "    list_of_chromosomes_ = []\n",
    "    list_of_correlation_values = []\n",
    "    \n",
    "    # transpose the phenotype dataframe once\n",
    "    transposed_pheno_data = df_sheetname[biological_measurements].T\n",
    "    \n",
    "    for locus_ in genotype_df_mapped_.index:\n",
    "        \n",
    "        # disable garbage collection for better runtime\n",
    "        gc.disable()\n",
    "         \n",
    "        # calculate the p value for the genotype and the phenotype   \n",
    "        \n",
    "        pearson_corr, pearson_p = pearson_r_test(genotype_df_mapped_.loc[locus_].to_frame(), \n",
    "                                                transposed_pheno_data)\n",
    "        \n",
    "        list_of_p_values_.append(pearson_p)\n",
    "        \n",
    "        list_of_correlation_values.append(pearson_corr)\n",
    "        \n",
    "        # append current locus to list of genes\n",
    "        list_of_genes_.append(locus_)\n",
    "\n",
    "        # append current chromosome\n",
    "        chrom_ = genotype_df_mapped_.loc[locus_][\"Chr\"]\n",
    "        \n",
    "        try:\n",
    "            temp = int(chrom_)\n",
    "            list_of_chromosomes_.append('ch-%i' % temp)\n",
    "        except:\n",
    "            list_of_chromosomes_.append('ch-%i' % 20)\n",
    "        \n",
    "        # enable garbage collection\n",
    "        gc.enable()\n",
    "        \n",
    "    # store results in dataframe    \n",
    "    return pd.DataFrame({'gene' : list_of_genes_,\n",
    "                         'pvalue' : list_of_p_values_,\n",
    "                         'corr. coeff' : list_of_correlation_values,\n",
    "                         'chromosome' : list_of_chromosomes_})\n",
    "                  "
   ]
  },
  {
   "cell_type": "code",
   "execution_count": 55,
   "metadata": {
    "collapsed": false
   },
   "outputs": [],
   "source": [
    "cold_decrease_result = pearson_r_test_multiple(phenotype_df, genotype_df_mapped, \"ColdTest\", \"CD_Decrease_0-3H_[%]\")"
   ]
  },
  {
   "cell_type": "code",
   "execution_count": 56,
   "metadata": {
    "collapsed": false
   },
   "outputs": [
    {
     "data": {
      "text/html": [
       "<div>\n",
       "<table border=\"1\" class=\"dataframe\">\n",
       "  <thead>\n",
       "    <tr style=\"text-align: right;\">\n",
       "      <th></th>\n",
       "      <th>chromosome</th>\n",
       "      <th>corr. coeff</th>\n",
       "      <th>gene</th>\n",
       "      <th>pvalue</th>\n",
       "    </tr>\n",
       "  </thead>\n",
       "  <tbody>\n",
       "    <tr>\n",
       "      <th>0</th>\n",
       "      <td>ch-1</td>\n",
       "      <td>-0.147420</td>\n",
       "      <td>rs6269442</td>\n",
       "      <td>0.282793</td>\n",
       "    </tr>\n",
       "    <tr>\n",
       "      <th>1</th>\n",
       "      <td>ch-1</td>\n",
       "      <td>-0.117007</td>\n",
       "      <td>rs6241531</td>\n",
       "      <td>0.394911</td>\n",
       "    </tr>\n",
       "    <tr>\n",
       "      <th>2</th>\n",
       "      <td>ch-1</td>\n",
       "      <td>-0.117007</td>\n",
       "      <td>rs6360236</td>\n",
       "      <td>0.394911</td>\n",
       "    </tr>\n",
       "    <tr>\n",
       "      <th>3</th>\n",
       "      <td>ch-1</td>\n",
       "      <td>-0.117007</td>\n",
       "      <td>rs3722996</td>\n",
       "      <td>0.394911</td>\n",
       "    </tr>\n",
       "    <tr>\n",
       "      <th>4</th>\n",
       "      <td>ch-1</td>\n",
       "      <td>-0.080797</td>\n",
       "      <td>D1Mit1</td>\n",
       "      <td>0.557604</td>\n",
       "    </tr>\n",
       "    <tr>\n",
       "      <th>5</th>\n",
       "      <td>ch-1</td>\n",
       "      <td>-0.109094</td>\n",
       "      <td>D1Mit294</td>\n",
       "      <td>0.427865</td>\n",
       "    </tr>\n",
       "    <tr>\n",
       "      <th>6</th>\n",
       "      <td>ch-1</td>\n",
       "      <td>-0.109094</td>\n",
       "      <td>rs13475728</td>\n",
       "      <td>0.427865</td>\n",
       "    </tr>\n",
       "    <tr>\n",
       "      <th>7</th>\n",
       "      <td>ch-1</td>\n",
       "      <td>-0.084735</td>\n",
       "      <td>rs3655978</td>\n",
       "      <td>0.538497</td>\n",
       "    </tr>\n",
       "    <tr>\n",
       "      <th>8</th>\n",
       "      <td>ch-1</td>\n",
       "      <td>-0.084735</td>\n",
       "      <td>rs3654866</td>\n",
       "      <td>0.538497</td>\n",
       "    </tr>\n",
       "    <tr>\n",
       "      <th>9</th>\n",
       "      <td>ch-1</td>\n",
       "      <td>-0.084735</td>\n",
       "      <td>rs3669485</td>\n",
       "      <td>0.538497</td>\n",
       "    </tr>\n",
       "    <tr>\n",
       "      <th>10</th>\n",
       "      <td>ch-1</td>\n",
       "      <td>-0.084735</td>\n",
       "      <td>rs3713198</td>\n",
       "      <td>0.538497</td>\n",
       "    </tr>\n",
       "    <tr>\n",
       "      <th>11</th>\n",
       "      <td>ch-1</td>\n",
       "      <td>-0.201336</td>\n",
       "      <td>rs6291839</td>\n",
       "      <td>0.140483</td>\n",
       "    </tr>\n",
       "    <tr>\n",
       "      <th>12</th>\n",
       "      <td>ch-1</td>\n",
       "      <td>-0.201336</td>\n",
       "      <td>rs13475735</td>\n",
       "      <td>0.140483</td>\n",
       "    </tr>\n",
       "    <tr>\n",
       "      <th>13</th>\n",
       "      <td>ch-1</td>\n",
       "      <td>-0.201336</td>\n",
       "      <td>rs3088964</td>\n",
       "      <td>0.140483</td>\n",
       "    </tr>\n",
       "    <tr>\n",
       "      <th>14</th>\n",
       "      <td>ch-1</td>\n",
       "      <td>-0.201336</td>\n",
       "      <td>rs13475737</td>\n",
       "      <td>0.140483</td>\n",
       "    </tr>\n",
       "    <tr>\n",
       "      <th>15</th>\n",
       "      <td>ch-1</td>\n",
       "      <td>-0.201336</td>\n",
       "      <td>rs3678179</td>\n",
       "      <td>0.140483</td>\n",
       "    </tr>\n",
       "    <tr>\n",
       "      <th>16</th>\n",
       "      <td>ch-1</td>\n",
       "      <td>-0.113612</td>\n",
       "      <td>rs3670611</td>\n",
       "      <td>0.408862</td>\n",
       "    </tr>\n",
       "    <tr>\n",
       "      <th>17</th>\n",
       "      <td>ch-1</td>\n",
       "      <td>-0.113612</td>\n",
       "      <td>rs6404446</td>\n",
       "      <td>0.408862</td>\n",
       "    </tr>\n",
       "    <tr>\n",
       "      <th>18</th>\n",
       "      <td>ch-1</td>\n",
       "      <td>-0.113612</td>\n",
       "      <td>gnf01.018.340</td>\n",
       "      <td>0.408862</td>\n",
       "    </tr>\n",
       "    <tr>\n",
       "      <th>19</th>\n",
       "      <td>ch-1</td>\n",
       "      <td>-0.118338</td>\n",
       "      <td>rs6253968</td>\n",
       "      <td>0.389520</td>\n",
       "    </tr>\n",
       "    <tr>\n",
       "      <th>20</th>\n",
       "      <td>ch-1</td>\n",
       "      <td>-0.118338</td>\n",
       "      <td>rs3711079</td>\n",
       "      <td>0.389520</td>\n",
       "    </tr>\n",
       "    <tr>\n",
       "      <th>21</th>\n",
       "      <td>ch-1</td>\n",
       "      <td>-0.152483</td>\n",
       "      <td>mCV23695025</td>\n",
       "      <td>0.266402</td>\n",
       "    </tr>\n",
       "    <tr>\n",
       "      <th>22</th>\n",
       "      <td>ch-1</td>\n",
       "      <td>-0.152483</td>\n",
       "      <td>rs13475762</td>\n",
       "      <td>0.266402</td>\n",
       "    </tr>\n",
       "    <tr>\n",
       "      <th>23</th>\n",
       "      <td>ch-1</td>\n",
       "      <td>-0.121731</td>\n",
       "      <td>rs6316488</td>\n",
       "      <td>0.375970</td>\n",
       "    </tr>\n",
       "    <tr>\n",
       "      <th>24</th>\n",
       "      <td>ch-1</td>\n",
       "      <td>-0.121731</td>\n",
       "      <td>rs3659806</td>\n",
       "      <td>0.375970</td>\n",
       "    </tr>\n",
       "    <tr>\n",
       "      <th>25</th>\n",
       "      <td>ch-1</td>\n",
       "      <td>-0.122919</td>\n",
       "      <td>rs13475765</td>\n",
       "      <td>0.371296</td>\n",
       "    </tr>\n",
       "    <tr>\n",
       "      <th>26</th>\n",
       "      <td>ch-1</td>\n",
       "      <td>-0.122919</td>\n",
       "      <td>rs4222215</td>\n",
       "      <td>0.371296</td>\n",
       "    </tr>\n",
       "    <tr>\n",
       "      <th>27</th>\n",
       "      <td>ch-1</td>\n",
       "      <td>-0.122243</td>\n",
       "      <td>rs3677683</td>\n",
       "      <td>0.373953</td>\n",
       "    </tr>\n",
       "    <tr>\n",
       "      <th>28</th>\n",
       "      <td>ch-1</td>\n",
       "      <td>-0.122243</td>\n",
       "      <td>rs3713281</td>\n",
       "      <td>0.373953</td>\n",
       "    </tr>\n",
       "    <tr>\n",
       "      <th>29</th>\n",
       "      <td>ch-1</td>\n",
       "      <td>-0.121632</td>\n",
       "      <td>rs6384194</td>\n",
       "      <td>0.376364</td>\n",
       "    </tr>\n",
       "    <tr>\n",
       "      <th>...</th>\n",
       "      <td>...</td>\n",
       "      <td>...</td>\n",
       "      <td>...</td>\n",
       "      <td>...</td>\n",
       "    </tr>\n",
       "    <tr>\n",
       "      <th>2575</th>\n",
       "      <td>ch-20</td>\n",
       "      <td>-0.069167</td>\n",
       "      <td>rs13483769</td>\n",
       "      <td>0.615825</td>\n",
       "    </tr>\n",
       "    <tr>\n",
       "      <th>2576</th>\n",
       "      <td>ch-20</td>\n",
       "      <td>-0.133706</td>\n",
       "      <td>rs13483770</td>\n",
       "      <td>0.330459</td>\n",
       "    </tr>\n",
       "    <tr>\n",
       "      <th>2577</th>\n",
       "      <td>ch-20</td>\n",
       "      <td>-0.080917</td>\n",
       "      <td>gnfX.044.260</td>\n",
       "      <td>0.557016</td>\n",
       "    </tr>\n",
       "    <tr>\n",
       "      <th>2578</th>\n",
       "      <td>ch-20</td>\n",
       "      <td>-0.105873</td>\n",
       "      <td>rs13483785</td>\n",
       "      <td>0.441712</td>\n",
       "    </tr>\n",
       "    <tr>\n",
       "      <th>2579</th>\n",
       "      <td>ch-20</td>\n",
       "      <td>-0.105873</td>\n",
       "      <td>rs13483786</td>\n",
       "      <td>0.441712</td>\n",
       "    </tr>\n",
       "    <tr>\n",
       "      <th>2580</th>\n",
       "      <td>ch-20</td>\n",
       "      <td>-0.131425</td>\n",
       "      <td>rs13483822</td>\n",
       "      <td>0.338849</td>\n",
       "    </tr>\n",
       "    <tr>\n",
       "      <th>2581</th>\n",
       "      <td>ch-20</td>\n",
       "      <td>-0.131425</td>\n",
       "      <td>DXMit1</td>\n",
       "      <td>0.338849</td>\n",
       "    </tr>\n",
       "    <tr>\n",
       "      <th>2582</th>\n",
       "      <td>ch-20</td>\n",
       "      <td>-0.131425</td>\n",
       "      <td>rs13483823</td>\n",
       "      <td>0.338849</td>\n",
       "    </tr>\n",
       "    <tr>\n",
       "      <th>2583</th>\n",
       "      <td>ch-20</td>\n",
       "      <td>-0.132608</td>\n",
       "      <td>rs13483824</td>\n",
       "      <td>0.334479</td>\n",
       "    </tr>\n",
       "    <tr>\n",
       "      <th>2584</th>\n",
       "      <td>ch-20</td>\n",
       "      <td>-0.132608</td>\n",
       "      <td>CEL-X_71104123</td>\n",
       "      <td>0.334479</td>\n",
       "    </tr>\n",
       "    <tr>\n",
       "      <th>2585</th>\n",
       "      <td>ch-20</td>\n",
       "      <td>-0.093154</td>\n",
       "      <td>CEL-X_71438949</td>\n",
       "      <td>0.498755</td>\n",
       "    </tr>\n",
       "    <tr>\n",
       "      <th>2586</th>\n",
       "      <td>ch-20</td>\n",
       "      <td>-0.093154</td>\n",
       "      <td>rs13483864</td>\n",
       "      <td>0.498755</td>\n",
       "    </tr>\n",
       "    <tr>\n",
       "      <th>2587</th>\n",
       "      <td>ch-20</td>\n",
       "      <td>-0.108466</td>\n",
       "      <td>rs13483868</td>\n",
       "      <td>0.430546</td>\n",
       "    </tr>\n",
       "    <tr>\n",
       "      <th>2588</th>\n",
       "      <td>ch-20</td>\n",
       "      <td>-0.108466</td>\n",
       "      <td>rs13483805</td>\n",
       "      <td>0.430546</td>\n",
       "    </tr>\n",
       "    <tr>\n",
       "      <th>2589</th>\n",
       "      <td>ch-20</td>\n",
       "      <td>-0.165754</td>\n",
       "      <td>gnfX.076.619</td>\n",
       "      <td>0.226503</td>\n",
       "    </tr>\n",
       "    <tr>\n",
       "      <th>2590</th>\n",
       "      <td>ch-20</td>\n",
       "      <td>-0.165754</td>\n",
       "      <td>rs13483881</td>\n",
       "      <td>0.226503</td>\n",
       "    </tr>\n",
       "    <tr>\n",
       "      <th>2591</th>\n",
       "      <td>ch-20</td>\n",
       "      <td>-0.082456</td>\n",
       "      <td>rs6205221</td>\n",
       "      <td>0.549515</td>\n",
       "    </tr>\n",
       "    <tr>\n",
       "      <th>2592</th>\n",
       "      <td>ch-20</td>\n",
       "      <td>-0.082456</td>\n",
       "      <td>rs6387944</td>\n",
       "      <td>0.549515</td>\n",
       "    </tr>\n",
       "    <tr>\n",
       "      <th>2593</th>\n",
       "      <td>ch-20</td>\n",
       "      <td>-0.082456</td>\n",
       "      <td>rs13483992</td>\n",
       "      <td>0.549515</td>\n",
       "    </tr>\n",
       "    <tr>\n",
       "      <th>2594</th>\n",
       "      <td>ch-20</td>\n",
       "      <td>-0.067404</td>\n",
       "      <td>rs6221690</td>\n",
       "      <td>0.624872</td>\n",
       "    </tr>\n",
       "    <tr>\n",
       "      <th>2595</th>\n",
       "      <td>ch-20</td>\n",
       "      <td>-0.067404</td>\n",
       "      <td>CEL-X_121796581</td>\n",
       "      <td>0.624872</td>\n",
       "    </tr>\n",
       "    <tr>\n",
       "      <th>2596</th>\n",
       "      <td>ch-20</td>\n",
       "      <td>-0.188046</td>\n",
       "      <td>rs13484003</td>\n",
       "      <td>0.169176</td>\n",
       "    </tr>\n",
       "    <tr>\n",
       "      <th>2597</th>\n",
       "      <td>ch-20</td>\n",
       "      <td>-0.188046</td>\n",
       "      <td>rs3702256</td>\n",
       "      <td>0.169176</td>\n",
       "    </tr>\n",
       "    <tr>\n",
       "      <th>2598</th>\n",
       "      <td>ch-20</td>\n",
       "      <td>-0.188046</td>\n",
       "      <td>rs13484013</td>\n",
       "      <td>0.169176</td>\n",
       "    </tr>\n",
       "    <tr>\n",
       "      <th>2599</th>\n",
       "      <td>ch-20</td>\n",
       "      <td>-0.188046</td>\n",
       "      <td>CEL-X_125736335</td>\n",
       "      <td>0.169176</td>\n",
       "    </tr>\n",
       "    <tr>\n",
       "      <th>2600</th>\n",
       "      <td>ch-20</td>\n",
       "      <td>-0.133722</td>\n",
       "      <td>rs13484015</td>\n",
       "      <td>0.330400</td>\n",
       "    </tr>\n",
       "    <tr>\n",
       "      <th>2601</th>\n",
       "      <td>ch-20</td>\n",
       "      <td>-0.133722</td>\n",
       "      <td>rs3697198</td>\n",
       "      <td>0.330400</td>\n",
       "    </tr>\n",
       "    <tr>\n",
       "      <th>2602</th>\n",
       "      <td>ch-20</td>\n",
       "      <td>-0.184272</td>\n",
       "      <td>gnfX.116.876</td>\n",
       "      <td>0.178053</td>\n",
       "    </tr>\n",
       "    <tr>\n",
       "      <th>2603</th>\n",
       "      <td>ch-20</td>\n",
       "      <td>-0.192554</td>\n",
       "      <td>rs13484018</td>\n",
       "      <td>0.159002</td>\n",
       "    </tr>\n",
       "    <tr>\n",
       "      <th>2604</th>\n",
       "      <td>ch-20</td>\n",
       "      <td>-0.192554</td>\n",
       "      <td>rs13484024</td>\n",
       "      <td>0.159002</td>\n",
       "    </tr>\n",
       "  </tbody>\n",
       "</table>\n",
       "<p>2605 rows × 4 columns</p>\n",
       "</div>"
      ],
      "text/plain": [
       "     chromosome  corr. coeff             gene    pvalue\n",
       "0          ch-1    -0.147420        rs6269442  0.282793\n",
       "1          ch-1    -0.117007        rs6241531  0.394911\n",
       "2          ch-1    -0.117007        rs6360236  0.394911\n",
       "3          ch-1    -0.117007        rs3722996  0.394911\n",
       "4          ch-1    -0.080797           D1Mit1  0.557604\n",
       "5          ch-1    -0.109094         D1Mit294  0.427865\n",
       "6          ch-1    -0.109094       rs13475728  0.427865\n",
       "7          ch-1    -0.084735        rs3655978  0.538497\n",
       "8          ch-1    -0.084735        rs3654866  0.538497\n",
       "9          ch-1    -0.084735        rs3669485  0.538497\n",
       "10         ch-1    -0.084735        rs3713198  0.538497\n",
       "11         ch-1    -0.201336        rs6291839  0.140483\n",
       "12         ch-1    -0.201336       rs13475735  0.140483\n",
       "13         ch-1    -0.201336        rs3088964  0.140483\n",
       "14         ch-1    -0.201336       rs13475737  0.140483\n",
       "15         ch-1    -0.201336        rs3678179  0.140483\n",
       "16         ch-1    -0.113612        rs3670611  0.408862\n",
       "17         ch-1    -0.113612        rs6404446  0.408862\n",
       "18         ch-1    -0.113612    gnf01.018.340  0.408862\n",
       "19         ch-1    -0.118338        rs6253968  0.389520\n",
       "20         ch-1    -0.118338        rs3711079  0.389520\n",
       "21         ch-1    -0.152483      mCV23695025  0.266402\n",
       "22         ch-1    -0.152483       rs13475762  0.266402\n",
       "23         ch-1    -0.121731        rs6316488  0.375970\n",
       "24         ch-1    -0.121731        rs3659806  0.375970\n",
       "25         ch-1    -0.122919       rs13475765  0.371296\n",
       "26         ch-1    -0.122919        rs4222215  0.371296\n",
       "27         ch-1    -0.122243        rs3677683  0.373953\n",
       "28         ch-1    -0.122243        rs3713281  0.373953\n",
       "29         ch-1    -0.121632        rs6384194  0.376364\n",
       "...         ...          ...              ...       ...\n",
       "2575      ch-20    -0.069167       rs13483769  0.615825\n",
       "2576      ch-20    -0.133706       rs13483770  0.330459\n",
       "2577      ch-20    -0.080917     gnfX.044.260  0.557016\n",
       "2578      ch-20    -0.105873       rs13483785  0.441712\n",
       "2579      ch-20    -0.105873       rs13483786  0.441712\n",
       "2580      ch-20    -0.131425       rs13483822  0.338849\n",
       "2581      ch-20    -0.131425           DXMit1  0.338849\n",
       "2582      ch-20    -0.131425       rs13483823  0.338849\n",
       "2583      ch-20    -0.132608       rs13483824  0.334479\n",
       "2584      ch-20    -0.132608   CEL-X_71104123  0.334479\n",
       "2585      ch-20    -0.093154   CEL-X_71438949  0.498755\n",
       "2586      ch-20    -0.093154       rs13483864  0.498755\n",
       "2587      ch-20    -0.108466       rs13483868  0.430546\n",
       "2588      ch-20    -0.108466       rs13483805  0.430546\n",
       "2589      ch-20    -0.165754     gnfX.076.619  0.226503\n",
       "2590      ch-20    -0.165754       rs13483881  0.226503\n",
       "2591      ch-20    -0.082456        rs6205221  0.549515\n",
       "2592      ch-20    -0.082456        rs6387944  0.549515\n",
       "2593      ch-20    -0.082456       rs13483992  0.549515\n",
       "2594      ch-20    -0.067404        rs6221690  0.624872\n",
       "2595      ch-20    -0.067404  CEL-X_121796581  0.624872\n",
       "2596      ch-20    -0.188046       rs13484003  0.169176\n",
       "2597      ch-20    -0.188046        rs3702256  0.169176\n",
       "2598      ch-20    -0.188046       rs13484013  0.169176\n",
       "2599      ch-20    -0.188046  CEL-X_125736335  0.169176\n",
       "2600      ch-20    -0.133722       rs13484015  0.330400\n",
       "2601      ch-20    -0.133722        rs3697198  0.330400\n",
       "2602      ch-20    -0.184272     gnfX.116.876  0.178053\n",
       "2603      ch-20    -0.192554       rs13484018  0.159002\n",
       "2604      ch-20    -0.192554       rs13484024  0.159002\n",
       "\n",
       "[2605 rows x 4 columns]"
      ]
     },
     "execution_count": 56,
     "metadata": {},
     "output_type": "execute_result"
    }
   ],
   "source": [
    "cold_decrease_result"
   ]
  },
  {
   "cell_type": "markdown",
   "metadata": {},
   "source": [
    "## Task: Plot corresponding Manhattan Plot (using your previously defined function)\n",
    "\n"
   ]
  },
  {
   "cell_type": "code",
   "execution_count": 57,
   "metadata": {
    "collapsed": true
   },
   "outputs": [],
   "source": [
    "def manhattan_plot(resulting_df_):\n",
    "\n",
    "    # -log_10(pvalue)\n",
    "    resulting_df_['minuslog10pvalue'] = -np.log10(resulting_df_.pvalue)\n",
    "    resulting_df_.chromosome = resulting_df_.chromosome.astype('category')\n",
    "    resulting_df_.chromosome = resulting_df_.chromosome.cat.set_categories(['ch-%i' % i for i in range(1,21)], ordered=True)\n",
    "    resulting_df_ = resulting_df_.sort_values('chromosome')\n",
    "\n",
    "    # How to plot gene vs. -log10(pvalue) and colour it by chromosome?\n",
    "    resulting_df_['ind'] = range(len(resulting_df_))\n",
    "    resulting_df__grouped_ = resulting_df_.groupby(('chromosome'))\n",
    "\n",
    "\n",
    "    fig = plt.figure(figsize=(12,8))\n",
    "    ax = fig.add_subplot(111)\n",
    "    colors = ['red','green','blue', 'yellow']\n",
    "    x_labels = []\n",
    "    x_labels_pos = []\n",
    "    for num, (name, group) in enumerate(resulting_df__grouped_):\n",
    "        group.plot(kind='scatter', x='ind', y='minuslog10pvalue',color=colors[num % len(colors)], ax=ax)\n",
    "        x_labels.append(name)\n",
    "        x_labels_pos.append((group['ind'].iloc[-1] - (group['ind'].iloc[-1] - group['ind'].iloc[0])/2))\n",
    "    ax.set_xticks(x_labels_pos)\n",
    "    ax.set_xticklabels(x_labels)\n",
    "    ax.set_xlim([0, len(resulting_df_)])\n",
    "\n"
   ]
  },
  {
   "cell_type": "code",
   "execution_count": 58,
   "metadata": {
    "collapsed": false
   },
   "outputs": [
    {
     "data": {
      "image/png": "[encoded data removed]",
      "text/plain": [
       "<matplotlib.figure.Figure at 0x113e26d8>"
      ]
     },
     "metadata": {},
     "output_type": "display_data"
    }
   ],
   "source": [
    "manhattan_plot(cold_decrease_result)"
   ]
  },
  {
   "cell_type": "code",
   "execution_count": null,
   "metadata": {
    "collapsed": true
   },
   "outputs": [],
   "source": []
  },
  {
   "cell_type": "markdown",
   "metadata": {},
   "source": [
    "## Task: Correct for multiple hypothesis testing"
   ]
  },
  {
   "cell_type": "code",
   "execution_count": 59,
   "metadata": {
    "collapsed": false
   },
   "outputs": [
    {
     "data": {
      "text/html": [
       "<div>\n",
       "<table border=\"1\" class=\"dataframe\">\n",
       "  <thead>\n",
       "    <tr style=\"text-align: right;\">\n",
       "      <th></th>\n",
       "      <th>chromosome</th>\n",
       "      <th>corr. coeff</th>\n",
       "      <th>gene</th>\n",
       "      <th>pvalue</th>\n",
       "      <th>minuslog10pvalue</th>\n",
       "    </tr>\n",
       "  </thead>\n",
       "  <tbody>\n",
       "    <tr>\n",
       "      <th>0</th>\n",
       "      <td>ch-1</td>\n",
       "      <td>-0.147420</td>\n",
       "      <td>rs6269442</td>\n",
       "      <td>0.282793</td>\n",
       "      <td>0.548531</td>\n",
       "    </tr>\n",
       "    <tr>\n",
       "      <th>1</th>\n",
       "      <td>ch-1</td>\n",
       "      <td>-0.117007</td>\n",
       "      <td>rs6241531</td>\n",
       "      <td>0.394911</td>\n",
       "      <td>0.403500</td>\n",
       "    </tr>\n",
       "    <tr>\n",
       "      <th>2</th>\n",
       "      <td>ch-1</td>\n",
       "      <td>-0.117007</td>\n",
       "      <td>rs6360236</td>\n",
       "      <td>0.394911</td>\n",
       "      <td>0.403500</td>\n",
       "    </tr>\n",
       "    <tr>\n",
       "      <th>3</th>\n",
       "      <td>ch-1</td>\n",
       "      <td>-0.117007</td>\n",
       "      <td>rs3722996</td>\n",
       "      <td>0.394911</td>\n",
       "      <td>0.403500</td>\n",
       "    </tr>\n",
       "    <tr>\n",
       "      <th>4</th>\n",
       "      <td>ch-1</td>\n",
       "      <td>-0.080797</td>\n",
       "      <td>D1Mit1</td>\n",
       "      <td>0.557604</td>\n",
       "      <td>0.253674</td>\n",
       "    </tr>\n",
       "  </tbody>\n",
       "</table>\n",
       "</div>"
      ],
      "text/plain": [
       "  chromosome  corr. coeff       gene    pvalue  minuslog10pvalue\n",
       "0       ch-1    -0.147420  rs6269442  0.282793          0.548531\n",
       "1       ch-1    -0.117007  rs6241531  0.394911          0.403500\n",
       "2       ch-1    -0.117007  rs6360236  0.394911          0.403500\n",
       "3       ch-1    -0.117007  rs3722996  0.394911          0.403500\n",
       "4       ch-1    -0.080797     D1Mit1  0.557604          0.253674"
      ]
     },
     "execution_count": 59,
     "metadata": {},
     "output_type": "execute_result"
    }
   ],
   "source": [
    "cold_decrease_result.head()"
   ]
  },
  {
   "cell_type": "code",
   "execution_count": 60,
   "metadata": {
    "collapsed": false,
    "run_control": {
     "frozen": false,
     "read_only": false
    }
   },
   "outputs": [
    {
     "data": {
      "text/html": [
       "<div>\n",
       "<table border=\"1\" class=\"dataframe\">\n",
       "  <thead>\n",
       "    <tr style=\"text-align: right;\">\n",
       "      <th></th>\n",
       "      <th>chromosome</th>\n",
       "      <th>corr. coeff</th>\n",
       "      <th>gene</th>\n",
       "      <th>pvalue</th>\n",
       "      <th>minuslog10pvalue</th>\n",
       "    </tr>\n",
       "  </thead>\n",
       "  <tbody>\n",
       "  </tbody>\n",
       "</table>\n",
       "</div>"
      ],
      "text/plain": [
       "Empty DataFrame\n",
       "Columns: [chromosome, corr. coeff, gene, pvalue, minuslog10pvalue]\n",
       "Index: []"
      ]
     },
     "execution_count": 60,
     "metadata": {},
     "output_type": "execute_result"
    }
   ],
   "source": [
    "# no significant genes found..\n",
    "\n",
    "MHT_correction(cold_decrease_result, alpha=0.9)\n",
    "\n",
    "\n"
   ]
  },
  {
   "cell_type": "markdown",
   "metadata": {
    "collapsed": true
   },
   "source": [
    "# Run association tests for all phenotypes in Biochemistry, Hematology, and Blood Pressure\n",
    "Moving now into phenotype association studies, we will now test multiple phenotypes for genetic associations. To determine how much each trait is associated with a genetic factor, we have to repeat our analyses for (ideally all) phenotypes of interest while correcting for multiple hypothesis testing. We then have to figure out which traits are the most associated.\n",
    "\n",
    "Make sure to consider significance of association as well as the effect size of the association.\n",
    "\n",
    "Which traits are most influenced by genetics?"
   ]
  },
  {
   "cell_type": "code",
   "execution_count": 61,
   "metadata": {
    "collapsed": false
   },
   "outputs": [],
   "source": [
    "def association_test_sheet(excel_phenotype_df, txt_genotype_df, sheetname, alpha_pear=0.1):\n",
    "    '''\n",
    "    \n",
    "    '''\n",
    "    \n",
    "    #hdf_diet_measurements, cd_diet_measurements  = find_comparable_measurements(excel_phenotype_df[sheetname], 'HFD', 'CD')\n",
    "    \n",
    "    list_of_pearson_df = []\n",
    "    \n",
    "    list_of_diets = find_comparable_measurements(excel_phenotype_df[sheetname], 'HFD', 'CD')\n",
    "    \n",
    "    for diet in list_of_diets:\n",
    "        for measurement in diet:\n",
    "            print(measurement)\n",
    "            pearson_res = pearson_r_test_multiple(excel_phenotype_df, txt_genotype_df, sheetname, measurement)\n",
    "            corrected_pearson = MHT_correction(pearson_res, alpha=alpha_pear, method='bonferroni')\n",
    "            if not corrected_pearson.empty:\n",
    "                corrected_pearson['phenotyp'] = measurement\n",
    "                list_of_pearson_df.append(corrected_pearson)\n",
    "                print(sheetname + \": \" + measurement)\n",
    "                print(corrected_pearson)\n",
    "            else:\n",
    "                print(\"No significant genes have been found.\")\n",
    "    return list_of_pearson_df\n",
    "  "
   ]
  },
  {
   "cell_type": "code",
   "execution_count": null,
   "metadata": {
    "collapsed": true
   },
   "outputs": [],
   "source": [
    "#cold_decrease_result = pearson_r_test_multiple(phenotype_df, genotype_df_mapped, \"ColdTest\", \"CD_Decrease_0-3H_[%]\")"
   ]
  },
  {
   "cell_type": "code",
   "execution_count": null,
   "metadata": {
    "collapsed": true
   },
   "outputs": [],
   "source": []
  },
  {
   "cell_type": "code",
   "execution_count": null,
   "metadata": {
    "collapsed": false
   },
   "outputs": [
    {
     "name": "stdout",
     "output_type": "stream",
     "text": [
      "HFD_DiastolicBP_NIBP_[mmHg]\n",
      "No significant genes have been found.\n",
      "HFD_SystolicBP_NIBP_[mmHg]\n",
      "No significant genes have been found.\n",
      "HFD_HeartRate_NIBP_[bpm]\n",
      "No significant genes have been found.\n",
      "CD_DiastolicBP_NIBP_[mmHg]\n"
     ]
    }
   ],
   "source": [
    "NIBP_result_list = association_test_sheet(phenotype_df, genotype_df_mapped, \"NIBP\", alpha_pear=0.05)"
   ]
  },
  {
   "cell_type": "code",
   "execution_count": null,
   "metadata": {
    "collapsed": false
   },
   "outputs": [],
   "source": [
    "print(NIBP_result_list)"
   ]
  },
  {
   "cell_type": "code",
   "execution_count": null,
   "metadata": {
    "collapsed": false,
    "scrolled": true
   },
   "outputs": [],
   "source": [
    "Biochemistry_result_list = association_test_sheet(phenotype_df, genotype_df_mapped, \"Biochemistry\", alpha_pear=0.05)"
   ]
  },
  {
   "cell_type": "code",
   "execution_count": null,
   "metadata": {
    "collapsed": false,
    "scrolled": true
   },
   "outputs": [],
   "source": [
    "print(Biochemistry_result_list)"
   ]
  },
  {
   "cell_type": "code",
   "execution_count": null,
   "metadata": {
    "collapsed": false,
    "scrolled": true
   },
   "outputs": [],
   "source": [
    "Hematology_result_list = association_test_sheet(phenotype_df, genotype_df_mapped, \"Hematology\", alpha_pear=0.05)"
   ]
  },
  {
   "cell_type": "code",
   "execution_count": null,
   "metadata": {
    "collapsed": false
   },
   "outputs": [],
   "source": [
    "print(Hematology_result_list)"
   ]
  },
  {
   "cell_type": "code",
   "execution_count": null,
   "metadata": {
    "collapsed": false,
    "run_control": {
     "frozen": false,
     "read_only": false
    }
   },
   "outputs": [],
   "source": [
    "print(len(find_comparable_measurements(phenotype_df[\"Biochemistry\"], 'HFD', 'CD')[0]))\n",
    "print(len(find_comparable_measurements(phenotype_df[\"Hematology\"], 'HFD', 'CD')[0]))\n",
    "print(len(find_comparable_measurements(phenotype_df[\"NIBP\"], 'HFD', 'CD')[0]))\n",
    "\n"
   ]
  },
  {
   "cell_type": "code",
   "execution_count": null,
   "metadata": {
    "collapsed": true,
    "run_control": {
     "frozen": false,
     "read_only": false
    }
   },
   "outputs": [],
   "source": []
  },
  {
   "cell_type": "markdown",
   "metadata": {
    "collapsed": true
   },
   "source": [
    "## Task: Pick a testing method from the previous tasks that is applicable for the  phenotype variable type"
   ]
  },
  {
   "cell_type": "code",
   "execution_count": null,
   "metadata": {
    "collapsed": true,
    "run_control": {
     "frozen": false,
     "read_only": false
    }
   },
   "outputs": [],
   "source": []
  },
  {
   "cell_type": "code",
   "execution_count": null,
   "metadata": {
    "collapsed": true,
    "run_control": {
     "frozen": false,
     "read_only": false
    }
   },
   "outputs": [],
   "source": []
  },
  {
   "cell_type": "markdown",
   "metadata": {},
   "source": [
    "## Task: Iteratively apply functionality to all phenotypes"
   ]
  },
  {
   "cell_type": "code",
   "execution_count": null,
   "metadata": {
    "collapsed": true,
    "run_control": {
     "frozen": false,
     "read_only": false
    }
   },
   "outputs": [],
   "source": []
  },
  {
   "cell_type": "code",
   "execution_count": null,
   "metadata": {
    "collapsed": false,
    "run_control": {
     "frozen": false,
     "read_only": false
    }
   },
   "outputs": [],
   "source": [
    "phenotype_df[\"Biochemistry\"].columns.get_loc(\"CD_Glucose_[mmol/L]\")#.head()"
   ]
  },
  {
   "cell_type": "code",
   "execution_count": null,
   "metadata": {
    "collapsed": false
   },
   "outputs": [],
   "source": [
    "phenotype_df[\"Biochemistry\"].ix[:,2].head()"
   ]
  },
  {
   "cell_type": "markdown",
   "metadata": {},
   "source": [
    "## Task: Extract relevant information about effect size, significance, locus,..."
   ]
  },
  {
   "cell_type": "code",
   "execution_count": null,
   "metadata": {
    "collapsed": false,
    "run_control": {
     "frozen": false,
     "read_only": false
    }
   },
   "outputs": [],
   "source": [
    "phenotype_df[\"Biochemistry\"][\"CD_Iron_[umol/L]\"].head()"
   ]
  },
  {
   "cell_type": "code",
   "execution_count": null,
   "metadata": {
    "collapsed": true,
    "run_control": {
     "frozen": false,
     "read_only": false
    }
   },
   "outputs": [],
   "source": []
  },
  {
   "cell_type": "markdown",
   "metadata": {},
   "source": [
    "## Task: Interpret results"
   ]
  },
  {
   "cell_type": "code",
   "execution_count": null,
   "metadata": {
    "collapsed": true,
    "run_control": {
     "frozen": false,
     "read_only": false
    }
   },
   "outputs": [],
   "source": []
  },
  {
   "cell_type": "code",
   "execution_count": null,
   "metadata": {
    "collapsed": true,
    "run_control": {
     "frozen": false,
     "read_only": false
    }
   },
   "outputs": [],
   "source": []
  },
  {
   "cell_type": "markdown",
   "metadata": {},
   "source": [
    "## Task: For most interesting examples, try to identify possible candidate genes"
   ]
  },
  {
   "cell_type": "code",
   "execution_count": null,
   "metadata": {
    "collapsed": true,
    "run_control": {
     "frozen": false,
     "read_only": false
    }
   },
   "outputs": [],
   "source": [
    "def identify_candidate_genes_sheet(list_of_significant_results, corresponding_genotype_df):\n",
    "    ''' identifies the candidate genes for the sheet data\n",
    "    \n",
    "        list_of_significant_results: the list containing the significant results (i.e. the dataframe which is returned \n",
    "                                     by MHT_correction)\n",
    "        corresponding_genotype_df: the dataframe containing the gene data (genotype.txt)\n",
    "        \n",
    "    '''\n",
    "    \n",
    "    \n",
    "    final_sheet_results = []\n",
    "    for significant_result in list_of_significant_results:\n",
    "        \n",
    "        #fehler hier:\n",
    "        #print(significant_result[\"phenotyp\"][0])\n",
    "        #print(significant_result[\"gene\"])\n",
    "        \n",
    "        #final_sheet_results.append((significant_result[\"phenotyp\"][0], significant_result[\"gene\"], \n",
    "        #                            identify_candidate_genes(significant_result, \n",
    "        #                                                     corresponding_genotype_df, base_range__=100000)))\n",
    "        final_sheet_results.append(identify_candidate_genes(significant_result, \n",
    "                                                            corresponding_genotype_df, base_range__=100000))\n",
    "        \n",
    "    return final_sheet_results    \n",
    "    \n",
    "    "
   ]
  },
  {
   "cell_type": "code",
   "execution_count": null,
   "metadata": {
    "collapsed": false
   },
   "outputs": [],
   "source": [
    "Biochemistry_result_list[0]"
   ]
  },
  {
   "cell_type": "code",
   "execution_count": null,
   "metadata": {
    "collapsed": false,
    "run_control": {
     "frozen": false,
     "read_only": false
    },
    "scrolled": true
   },
   "outputs": [],
   "source": [
    "biochem_final_genes = identify_candidate_genes_sheet(Biochemistry_result_list, genotype_df)\n",
    "print(biochem_final_genes)"
   ]
  },
  {
   "cell_type": "code",
   "execution_count": null,
   "metadata": {
    "collapsed": false
   },
   "outputs": [],
   "source": [
    "hematology_final_genes = identify_candidate_genes_sheet(Hematology_result_list, genotype_df)\n",
    "print(hematology_final_genes)"
   ]
  },
  {
   "cell_type": "code",
   "execution_count": null,
   "metadata": {
    "collapsed": false
   },
   "outputs": [],
   "source": [
    "nibp_final_genes = identify_candidate_genes_sheet(NIBP_result_list, genotype_df)\n",
    "print(nibp_final_genes)"
   ]
  },
  {
   "cell_type": "markdown",
   "metadata": {},
   "source": [
    "## Task: Quickly compare your results to literature"
   ]
  },
  {
   "cell_type": "code",
   "execution_count": null,
   "metadata": {
    "collapsed": true,
    "run_control": {
     "frozen": false,
     "read_only": false
    }
   },
   "outputs": [],
   "source": [
    "# gm genes weglassen, weil keine richtigen gene "
   ]
  },
  {
   "cell_type": "code",
   "execution_count": null,
   "metadata": {
    "collapsed": true,
    "run_control": {
     "frozen": false,
     "read_only": false
    }
   },
   "outputs": [],
   "source": []
  },
  {
   "cell_type": "markdown",
   "metadata": {},
   "source": [
    "## What confounding factors may have been ignored in the current approach? How could they be incorporated?"
   ]
  },
  {
   "cell_type": "code",
   "execution_count": null,
   "metadata": {
    "collapsed": true,
    "run_control": {
     "frozen": false,
     "read_only": false
    }
   },
   "outputs": [],
   "source": []
  },
  {
   "cell_type": "code",
   "execution_count": null,
   "metadata": {
    "collapsed": true,
    "run_control": {
     "frozen": false,
     "read_only": false
    }
   },
   "outputs": [],
   "source": []
  },
  {
   "cell_type": "markdown",
   "metadata": {},
   "source": [
    "## Bonus subtask: Create a QQ-plot of the expected distribution of association test statistics (X-axis) compared to the observed values (Y-axis)\n",
    "In GWAS studies this type of plot is usually created to see if the obtained p-values follow those expected from the null hypothesis (we would assume most SNPs not to be associated). \n",
    "\n",
    "More about GWAS and QQplots can be found in [Erik Minikels cureffi.org blog](http://www.cureffi.org/2012/08/06/genome-wide-association-studies/), who summarizes several papers including McCarthy, M. I. et al.'s __[Genome-wide association studies for complex traits: consensus, uncertainty and challenges](http://www.nature.com/nrg/journal/v9/n5/full/nrg2344.html)__ in Nature Reviews Genetics 9, 356–369 (2008).\n",
    "\n",
    "From the above publication is also this exemplatory illustration of GWAS data, that may give you some ideas on what to plot in this task.\n",
    "<img src=\"gwas_viz.png\"></img>"
   ]
  },
  {
   "cell_type": "code",
   "execution_count": null,
   "metadata": {
    "collapsed": true,
    "run_control": {
     "frozen": false,
     "read_only": false
    }
   },
   "outputs": [],
   "source": []
  },
  {
   "cell_type": "code",
   "execution_count": null,
   "metadata": {
    "collapsed": true,
    "run_control": {
     "frozen": false,
     "read_only": false
    }
   },
   "outputs": [],
   "source": []
  }
 ],
 "metadata": {
  "anaconda-cloud": {},
  "hide_input": false,
  "kernelspec": {
   "display_name": "Python [Root]",
   "language": "python",
   "name": "Python [Root]"
  },
  "language_info": {
   "codemirror_mode": {
    "name": "ipython",
    "version": 2
   },
   "file_extension": ".py",
   "mimetype": "text/x-python",
   "name": "python",
   "nbconvert_exporter": "python",
   "pygments_lexer": "ipython2",
   "version": "2.7.11"
  },
  "nav_menu": {},
  "toc": {
   "navigate_menu": true,
   "number_sections": true,
   "sideBar": false,
   "threshold": 6,
   "toc_cell": true,
   "toc_number_sections": true,
   "toc_section_display": "block",
   "toc_window_display": true
  },
  "toc_position": {
   "height": "1208px",
   "left": "1163px",
   "right": "20px",
   "top": "88px",
   "width": "600px"
  }
 },
 "nbformat": 4,
 "nbformat_minor": 0
}
