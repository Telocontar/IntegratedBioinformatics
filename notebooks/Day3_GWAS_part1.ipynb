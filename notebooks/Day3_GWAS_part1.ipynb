{
 "cells": [
  {
   "cell_type": "markdown",
   "metadata": {
    "toc": "true"
   },
   "source": [
    "# Table of Contents\n",
    " <p><div class=\"lev1\"><a href=\"#Today's-topics\"><span class=\"toc-item-num\">1&nbsp;&nbsp;</span>Today's topics</a></div><div class=\"lev1\"><a href=\"#GWAS-background\"><span class=\"toc-item-num\">2&nbsp;&nbsp;</span>GWAS background</a></div><div class=\"lev1\"><a href=\"#Useful-Resources\"><span class=\"toc-item-num\">3&nbsp;&nbsp;</span>Useful Resources</a></div><div class=\"lev2\"><a href=\"#Packages\"><span class=\"toc-item-num\">3.1&nbsp;&nbsp;</span>Packages</a></div><div class=\"lev3\"><a href=\"#R\"><span class=\"toc-item-num\">3.1.1&nbsp;&nbsp;</span>R</a></div><div class=\"lev3\"><a href=\"#Python\"><span class=\"toc-item-num\">3.1.2&nbsp;&nbsp;</span>Python</a></div><div class=\"lev2\"><a href=\"#Books\"><span class=\"toc-item-num\">3.2&nbsp;&nbsp;</span>Books</a></div><div class=\"lev2\"><a href=\"#Tutorials\"><span class=\"toc-item-num\">3.3&nbsp;&nbsp;</span>Tutorials</a></div><div class=\"lev1\"><a href=\"#Load-data\"><span class=\"toc-item-num\">4&nbsp;&nbsp;</span>Load data</a></div><div class=\"lev2\"><a href=\"#Load-genotype-data-as-pandas-dataframe\"><span class=\"toc-item-num\">4.1&nbsp;&nbsp;</span>Load genotype data as pandas dataframe</a></div><div class=\"lev2\"><a href=\"#Subtask:-Set-SNP-ID-column-as-index\"><span class=\"toc-item-num\">4.2&nbsp;&nbsp;</span>Subtask: Set SNP-ID column as index</a></div><div class=\"lev2\"><a href=\"#Subtask:-Replace-categorical-data-strings-with-numerical-encoding\"><span class=\"toc-item-num\">4.3&nbsp;&nbsp;</span>Subtask: Replace categorical data strings with numerical encoding</a></div><div class=\"lev2\"><a href=\"#Subtask:-Drop-rows-with-unknown-genotypes\"><span class=\"toc-item-num\">4.4&nbsp;&nbsp;</span>Subtask: Drop rows with unknown genotypes</a></div><div class=\"lev2\"><a href=\"#Dowload-categorical-data-from-genenetworks.org\"><span class=\"toc-item-num\">4.5&nbsp;&nbsp;</span>Dowload categorical data from genenetworks.org</a></div><div class=\"lev2\"><a href=\"#Load-phenotype-data-(coat-color)\"><span class=\"toc-item-num\">4.6&nbsp;&nbsp;</span>Load phenotype data (coat color)</a></div><div class=\"lev2\"><a href=\"#Subtask:-remove-rows-with-missing-data\"><span class=\"toc-item-num\">4.7&nbsp;&nbsp;</span>Subtask: remove rows with missing data</a></div><div class=\"lev2\"><a href=\"#Convert-data-to-numeric\"><span class=\"toc-item-num\">4.8&nbsp;&nbsp;</span>Convert data to numeric</a></div><div class=\"lev1\"><a href=\"#Association-tests-between-variant(s)-and-categorical-phenotype\"><span class=\"toc-item-num\">5&nbsp;&nbsp;</span>Association tests between variant(s) and categorical phenotype</a></div><div class=\"lev2\"><a href=\"#Task:-Perfom-association-test-for-a-single-SNP-using-$\\chi^2$-test-and-odds-ratio\"><span class=\"toc-item-num\">5.1&nbsp;&nbsp;</span>Task: Perfom association test for a single SNP using <span class=\"MathJax_Preview\" style=\"color: inherit;\"></span><span class=\"MathJax\" id=\"MathJax-Element-1-Frame\" tabindex=\"0\" data-mathml=\"<math xmlns=&quot;http://www.w3.org/1998/Math/MathML&quot;><msup><mi>&amp;#x03C7;</mi><mn>2</mn></msup></math>\" role=\"presentation\" style=\"position: relative;\"><nobr aria-hidden=\"true\"><span class=\"math\" id=\"MathJax-Span-1\" role=\"math\" style=\"width: 1.176em; display: inline-block;\"><span style=\"display: inline-block; position: relative; width: 0.987em; height: 0px; font-size: 120%;\"><span style=\"position: absolute; clip: rect(1.252em 1000.99em 2.502em -999.998em); top: -2.195em; left: 0.002em;\"><span class=\"mrow\" id=\"MathJax-Span-2\"><span class=\"msubsup\" id=\"MathJax-Span-3\"><span style=\"display: inline-block; position: relative; width: 0.987em; height: 0px;\"><span style=\"position: absolute; clip: rect(3.449em 1000.49em 4.32em -999.998em); top: -4.013em; left: 0.002em;\"><span class=\"mi\" id=\"MathJax-Span-4\" style=\"font-family: STIXMathJax_Main-italic;\">χ<span style=\"display: inline-block; overflow: hidden; height: 1px; width: 0.04em;\"></span></span><span style=\"display: inline-block; width: 0px; height: 4.017em;\"></span></span><span style=\"position: absolute; top: -4.392em; left: 0.57em;\"><span class=\"mn\" id=\"MathJax-Span-5\" style=\"font-size: 70.7%; font-family: STIXMathJax_Main;\">2</span><span style=\"display: inline-block; width: 0px; height: 4.017em;\"></span></span></span></span></span><span style=\"display: inline-block; width: 0px; height: 2.199em;\"></span></span></span><span style=\"display: inline-block; overflow: hidden; vertical-align: -0.27em; border-left: 0px solid; width: 0px; height: 1.366em;\"></span></span></nobr><span class=\"MJX_Assistive_MathML\" role=\"presentation\"><math xmlns=\"http://www.w3.org/1998/Math/MathML\"><msup><mi>χ</mi><mn>2</mn></msup></math></span></span><script type=\"math/tex\" id=\"MathJax-Element-1\">\\chi^2</script> test and odds ratio</a></div><div class=\"lev3\"><a href=\"#Subtask:-Extract-row-of-a-single-SNP-(e.g.-rs6232550)\"><span class=\"toc-item-num\">5.1.1&nbsp;&nbsp;</span>Subtask: Extract row of a single SNP (e.g. rs6232550)</a></div><div class=\"lev3\"><a href=\"#Subtask:-Remove-all-non-strain-genotye-columns\"><span class=\"toc-item-num\">5.1.2&nbsp;&nbsp;</span>Subtask: Remove all non-strain genotye columns</a></div><div class=\"lev3\"><a href=\"#Subtask:-Transpose-row-so-that-it-has-the-same-format-as-the-genotype-data\"><span class=\"toc-item-num\">5.1.3&nbsp;&nbsp;</span>Subtask: Transpose row so that it has the same format as the genotype data</a></div><div class=\"lev3\"><a href=\"#Subtask:-Combine-SNP-data-with-phenotype-data\"><span class=\"toc-item-num\">5.1.4&nbsp;&nbsp;</span>Subtask: Combine SNP data with phenotype data</a></div><div class=\"lev3\"><a href=\"#Subtask:-Check-that-the-merging-worked\"><span class=\"toc-item-num\">5.1.5&nbsp;&nbsp;</span>Subtask: Check that the merging worked</a></div><div class=\"lev3\"><a href=\"#Subtask:-Plot-relationship-between-genotye-and-phenotype\"><span class=\"toc-item-num\">5.1.6&nbsp;&nbsp;</span>Subtask: Plot relationship between genotye and phenotype</a></div><div class=\"lev3\"><a href=\"#Subtask:-Create-contingency-table-for-a-D-dominant-inheritance-model-of-black-coat-color-and-SNP-rs6232550\"><span class=\"toc-item-num\">5.1.7&nbsp;&nbsp;</span>Subtask: Create contingency table for a D-dominant inheritance model of black coat color and SNP rs6232550</a></div><div class=\"lev3\"><a href=\"#Subtask:-Perform-$\\chi^2$-square-test-for-independence-on-the-contingency-table\"><span class=\"toc-item-num\">5.1.8&nbsp;&nbsp;</span>Subtask: Perform <span class=\"MathJax_Preview\" style=\"color: inherit;\"></span><span class=\"MathJax\" id=\"MathJax-Element-2-Frame\" tabindex=\"0\" data-mathml=\"<math xmlns=&quot;http://www.w3.org/1998/Math/MathML&quot;><msup><mi>&amp;#x03C7;</mi><mn>2</mn></msup></math>\" role=\"presentation\" style=\"position: relative;\"><nobr aria-hidden=\"true\"><span class=\"math\" id=\"MathJax-Span-6\" role=\"math\" style=\"width: 1.16em; display: inline-block;\"><span style=\"display: inline-block; position: relative; width: 0.975em; height: 0px; font-size: 120%;\"><span style=\"position: absolute; clip: rect(1.299em 1000.98em 2.595em -999.998em); top: -2.266em; left: 0.002em;\"><span class=\"mrow\" id=\"MathJax-Span-7\"><span class=\"msubsup\" id=\"MathJax-Span-8\"><span style=\"display: inline-block; position: relative; width: 0.975em; height: 0px;\"><span style=\"position: absolute; clip: rect(3.382em 1000.51em 4.308em -999.998em); top: -3.979em; left: 0.002em;\"><span class=\"mi\" id=\"MathJax-Span-9\" style=\"font-family: STIXMathJax_Main-italic;\">χ<span style=\"display: inline-block; overflow: hidden; height: 1px; width: 0.049em;\"></span></span><span style=\"display: inline-block; width: 0px; height: 3.984em;\"></span></span><span style=\"position: absolute; top: -4.35em; left: 0.558em;\"><span class=\"mn\" id=\"MathJax-Span-10\" style=\"font-size: 70.7%; font-family: STIXMathJax_Main;\">2</span><span style=\"display: inline-block; width: 0px; height: 3.984em;\"></span></span></span></span></span><span style=\"display: inline-block; width: 0px; height: 2.271em;\"></span></span></span><span style=\"display: inline-block; overflow: hidden; vertical-align: -0.275em; border-left: 0px solid; width: 0px; height: 1.392em;\"></span></span></nobr><span class=\"MJX_Assistive_MathML\" role=\"presentation\"><math xmlns=\"http://www.w3.org/1998/Math/MathML\"><msup><mi>χ</mi><mn>2</mn></msup></math></span></span><script type=\"math/tex\" id=\"MathJax-Element-2\">\\chi^2</script> square test for independence on the contingency table</a></div><div class=\"lev3\"><a href=\"#Subtask:-Write-function-to-calculate-odds-ratio-from-a-contingency-table\"><span class=\"toc-item-num\">5.1.9&nbsp;&nbsp;</span>Subtask: Write function to calculate odds ratio from a contingency table</a></div><div class=\"lev2\"><a href=\"#Task:-extend-statistical-method-for-a-penetrance-model-in-which-increasing-numbers-of-A-alleles-confer-a-trend-in-risk-(e.g.-additive-or-dominant)\"><span class=\"toc-item-num\">5.2&nbsp;&nbsp;</span>Task: extend statistical method for a penetrance model in which increasing numbers of A alleles confer a trend in risk (e.g. additive or dominant)</a></div><div class=\"lev3\"><a href=\"#Subtask:-Given-the-data-you-have,-could-you-calculate-this-type-of-statistic-for-your-data?\"><span class=\"toc-item-num\">5.2.1&nbsp;&nbsp;</span>Subtask: Given the data you have, could you calculate this type of statistic for your data?</a></div><div class=\"lev2\"><a href=\"#Task:-Refactor-previous-analysis-steps-into-a-function-and-apply-to-all-SNPs\"><span class=\"toc-item-num\">5.3&nbsp;&nbsp;</span>Task: Refactor previous analysis steps into a function and apply to all SNPs</a></div><div class=\"lev3\"><a href=\"#Subtask:-Create-Manhattan-Plot-of--$-\\log_{10}(\\text{P-value})$-vs-chromosome-position\"><span class=\"toc-item-num\">5.3.1&nbsp;&nbsp;</span>Subtask: Create Manhattan Plot of  <span class=\"MathJax_Preview\" style=\"color: inherit;\"></span><span class=\"MathJax\" id=\"MathJax-Element-6-Frame\" tabindex=\"0\" data-mathml=\"<math xmlns=&quot;http://www.w3.org/1998/Math/MathML&quot;><mo>&amp;#x2212;</mo><msub><mi>log</mi><mrow class=&quot;MJX-TeXAtom-ORD&quot;><mn>10</mn></mrow></msub><mo>&amp;#x2061;</mo><mo stretchy=&quot;false&quot;>(</mo><mtext>P-value</mtext><mo stretchy=&quot;false&quot;>)</mo></math>\" role=\"presentation\" style=\"position: relative;\"><nobr aria-hidden=\"true\"><span class=\"math\" id=\"MathJax-Span-26\" role=\"math\" style=\"width: 7.919em; display: inline-block;\"><span style=\"display: inline-block; position: relative; width: 6.576em; height: 0px; font-size: 120%;\"><span style=\"position: absolute; clip: rect(1.669em 1006.53em 2.919em -999.998em); top: -2.498em; left: 0.002em;\"><span class=\"mrow\" id=\"MathJax-Span-27\"><span class=\"mo\" id=\"MathJax-Span-28\" style=\"font-family: STIXMathJax_Main;\">−</span><span class=\"msubsup\" id=\"MathJax-Span-29\" style=\"padding-left: 0.188em;\"><span style=\"display: inline-block; position: relative; width: 2.039em; height: 0px;\"><span style=\"position: absolute; clip: rect(3.15em 1001.25em 4.354em -999.998em); top: -3.979em; left: 0.002em;\"><span class=\"mi\" id=\"MathJax-Span-30\" style=\"font-family: STIXMathJax_Main;\">log</span><span style=\"display: inline-block; width: 0px; height: 3.984em;\"></span></span><span style=\"position: absolute; top: -3.748em; left: 1.299em;\"><span class=\"texatom\" id=\"MathJax-Span-31\"><span class=\"mrow\" id=\"MathJax-Span-32\"><span class=\"mn\" id=\"MathJax-Span-33\" style=\"font-size: 70.7%; font-family: STIXMathJax_Main;\">10</span></span></span><span style=\"display: inline-block; width: 0px; height: 3.984em;\"></span></span></span></span><span class=\"mo\" id=\"MathJax-Span-34\"></span><span class=\"mo\" id=\"MathJax-Span-35\" style=\"font-family: STIXMathJax_Main;\">(</span><span class=\"mtext\" id=\"MathJax-Span-36\" style=\"font-family: STIXMathJax_Main;\">P-value</span><span class=\"mo\" id=\"MathJax-Span-37\" style=\"font-family: STIXMathJax_Main;\">)</span></span><span style=\"display: inline-block; width: 0px; height: 2.502em;\"></span></span></span><span style=\"display: inline-block; overflow: hidden; vertical-align: -0.386em; border-left: 0px solid; width: 0px; height: 1.225em;\"></span></span></nobr><span class=\"MJX_Assistive_MathML\" role=\"presentation\"><math xmlns=\"http://www.w3.org/1998/Math/MathML\"><mo>−</mo><msub><mi>log</mi><mrow class=\"MJX-TeXAtom-ORD\"><mn>10</mn></mrow></msub><mo>⁡</mo><mo stretchy=\"false\">(</mo><mtext>P-value</mtext><mo stretchy=\"false\">)</mo></math></span></span><script type=\"math/tex\" id=\"MathJax-Element-6\">-\\log_{10}(\\text{P-value})</script> vs chromosome position</a></div><div class=\"lev4\"><a href=\"#Bonus-if-you-have-way-too-much-time:-Try-to-make-plot-interactive-(e.g.-add-tooltips-on-hover-using-mpld3)\"><span class=\"toc-item-num\">5.3.1.1&nbsp;&nbsp;</span>Bonus if you have way too much time: Try to make plot interactive (e.g. add tooltips on hover using mpld3)</a></div><div class=\"lev3\"><a href=\"#Subtask:-If-you-have-time,-adapt-function-so-that-it-also-supports-the-non-dominant-inheritance-models\"><span class=\"toc-item-num\">5.3.2&nbsp;&nbsp;</span>Subtask: If you have time, adapt function so that it also supports the non-dominant inheritance models</a></div><div class=\"lev2\"><a href=\"#Task:-Correct-for-Multiple-Hypothesis-Testing\"><span class=\"toc-item-num\">5.4&nbsp;&nbsp;</span>Task: Correct for Multiple Hypothesis Testing</a></div><div class=\"lev3\"><a href=\"#Subtask:-Wrap-your-MHT-correction-in-a-funtion\"><span class=\"toc-item-num\">5.4.1&nbsp;&nbsp;</span>Subtask: Wrap your MHT correction in a funtion</a></div><div class=\"lev3\"><a href=\"#Subtask:-Test-if-the-function-works-as-intended\"><span class=\"toc-item-num\">5.4.2&nbsp;&nbsp;</span>Subtask: Test if the function works as intended</a></div><div class=\"lev2\"><a href=\"#Task:-Identify-candidate-genes-from-identified-loci\"><span class=\"toc-item-num\">5.5&nbsp;&nbsp;</span>Task: Identify candidate genes from identified loci</a></div><div class=\"lev3\"><a href=\"#Subtask:-Identify-genes-in-region-identified-by-significant-loci-(consider-each-chromosome-separately)\"><span class=\"toc-item-num\">5.5.1&nbsp;&nbsp;</span>Subtask: Identify genes in region identified by significant loci (consider each chromosome separately)</a></div><div class=\"lev3\"><a href=\"#Subtask:-Check-if-the-locations-you-found-match-to-what-is-known-from-literature-about-genetics-of-mouse-coat-color\"><span class=\"toc-item-num\">5.5.2&nbsp;&nbsp;</span>Subtask: Check if the locations you found match to what is known from literature about genetics of mouse coat color</a></div><div class=\"lev1\"><a href=\"#Association-tests-between-variant(s)-and-continuous-phenotype¶\"><span class=\"toc-item-num\">6&nbsp;&nbsp;</span>Association tests between variant(s) and continuous phenotype¶</a></div><div class=\"lev2\"><a href=\"#Task:-Import-relevant-functions-from-scipy\"><span class=\"toc-item-num\">6.1&nbsp;&nbsp;</span>Task: Import relevant functions from scipy</a></div><div class=\"lev2\"><a href=\"#Task:-Load-Phenotype-spreadsheets-from-paper-supplement\"><span class=\"toc-item-num\">6.2&nbsp;&nbsp;</span>Task: Load Phenotype spreadsheets from paper supplement</a></div><div class=\"lev2\"><a href=\"#Task:-Implement-Pearson's-r-based-test-for-correlation\"><span class=\"toc-item-num\">6.3&nbsp;&nbsp;</span>Task: Implement Pearson's r-based test for correlation</a></div><div class=\"lev2\"><a href=\"#Task:-Plot-corresponding-Manhattan-Plot-(using-your-previously-defined-function)\"><span class=\"toc-item-num\">6.4&nbsp;&nbsp;</span>Task: Plot corresponding Manhattan Plot (using your previously defined function)</a></div><div class=\"lev2\"><a href=\"#Task:-Correct-for-multiple-hypothesis-testing\"><span class=\"toc-item-num\">6.5&nbsp;&nbsp;</span>Task: Correct for multiple hypothesis testing</a></div><div class=\"lev1\"><a href=\"#Run-association-tests-for-all-phenotypes-in-Biochemistry,-Hematology,-and-Blood-Pressure\"><span class=\"toc-item-num\">7&nbsp;&nbsp;</span>Run association tests for all phenotypes in Biochemistry, Hematology, and Blood Pressure</a></div><div class=\"lev2\"><a href=\"#Task:-Pick-a-testing-method-from-the-previous-tasks-that-is-applicable-for-the--phenotype-variable-type\"><span class=\"toc-item-num\">7.1&nbsp;&nbsp;</span>Task: Pick a testing method from the previous tasks that is applicable for the  phenotype variable type</a></div><div class=\"lev2\"><a href=\"#Task:-Iteratively-apply-functionality-to-all-phenotypes\"><span class=\"toc-item-num\">7.2&nbsp;&nbsp;</span>Task: Iteratively apply functionality to all phenotypes</a></div><div class=\"lev2\"><a href=\"#Task:-Extract-relevant-information-about-effect-size,-significance,-locus,...\"><span class=\"toc-item-num\">7.3&nbsp;&nbsp;</span>Task: Extract relevant information about effect size, significance, locus,...</a></div><div class=\"lev2\"><a href=\"#Task:-Interpret-results\"><span class=\"toc-item-num\">7.4&nbsp;&nbsp;</span>Task: Interpret results</a></div><div class=\"lev2\"><a href=\"#Task:-For-most-interesting-examples,-try-to-identify-possible-candidate-genes\"><span class=\"toc-item-num\">7.5&nbsp;&nbsp;</span>Task: For most interesting examples, try to identify possible candidate genes</a></div><div class=\"lev2\"><a href=\"#Task:-Quickly-compare-your-results-to-literature\"><span class=\"toc-item-num\">7.6&nbsp;&nbsp;</span>Task: Quickly compare your results to literature</a></div><div class=\"lev2\"><a href=\"#What-confounding-factors-may-have-been-ignored-in-the-current-approach?-How-could-they-be-incorporated?\"><span class=\"toc-item-num\">7.7&nbsp;&nbsp;</span>What confounding factors may have been ignored in the current approach? How could they be incorporated?</a></div><div class=\"lev2\"><a href=\"#Bonus-subtask:-Create-a-QQ-plot-of-the-expected-distribution-of-association-test-statistics-(X-axis)-compared-to-the-observed-values-(Y-axis)\"><span class=\"toc-item-num\">7.8&nbsp;&nbsp;</span>Bonus subtask: Create a QQ-plot of the expected distribution of association test statistics (X-axis) compared to the observed values (Y-axis)</a></div>"
   ]
  },
  {
   "cell_type": "markdown",
   "metadata": {},
   "source": [
    "__Set matplotlib magic__"
   ]
  },
  {
   "cell_type": "code",
   "execution_count": 1,
   "metadata": {
    "collapsed": true,
    "run_control": {
     "frozen": false,
     "read_only": false
    }
   },
   "outputs": [],
   "source": [
    "%matplotlib inline"
   ]
  },
  {
   "cell_type": "markdown",
   "metadata": {},
   "source": [
    "__Imports__"
   ]
  },
  {
   "cell_type": "code",
   "execution_count": 2,
   "metadata": {
    "collapsed": true,
    "run_control": {
     "frozen": false,
     "read_only": false
    }
   },
   "outputs": [],
   "source": [
    "import matplotlib.pyplot as plt\n",
    "import seaborn as sns\n",
    "import pandas as pd\n",
    "import numpy as np"
   ]
  },
  {
   "cell_type": "code",
   "execution_count": null,
   "metadata": {
    "collapsed": true,
    "run_control": {
     "frozen": false,
     "read_only": false
    }
   },
   "outputs": [],
   "source": []
  },
  {
   "cell_type": "markdown",
   "metadata": {},
   "source": [
    "# Today's topics\n",
    "We will try to find out which phenotypic traits are associated with genetic markers in the BXD mouse population. This will allow us to make statements about the level of heritability of several traits as well as help us identify candidate genes responsible for specific traits.\n",
    "\n",
    "There are several types of studies relevant in this context:\n",
    "\n",
    "* Single gene association studies\n",
    "* Genome wide association studies\n",
    "* Phenotype wide association studies"
   ]
  },
  {
   "cell_type": "markdown",
   "metadata": {},
   "source": [
    "# GWAS background"
   ]
  },
  {
   "cell_type": "markdown",
   "metadata": {},
   "source": [
    "http://www.ncbi.nlm.nih.gov/pmc/articles/PMC2736153/ contains information about how to use genenetwork.org to find coat color phenotype and correlate that to expression levels.\n",
    "\n",
    "There is a multitude of papers and review papers out there that describe the basic and more advanced statistical approaches to GWAS studies. The following two can be considered a good entry point to the subject.\n",
    "* Clarke, G. M. et al. __[Basic statistical analysis in genetic case-control studies](http://www.nature.com/nprot/journal/v6/n2/full/nprot.2010.182.html)__. Nature Protocols 6, 121–133 (2011).\n",
    "* McCarthy, M. I. et al. __[Genome-wide association studies for complex traits: consensus, uncertainty and challenges](http://www.nature.com/nrg/journal/v9/n5/full/nrg2344.html)__. Nature Reviews Genetics 9, 356–369 (2008)."
   ]
  },
  {
   "cell_type": "markdown",
   "metadata": {},
   "source": [
    "# Useful Resources"
   ]
  },
  {
   "cell_type": "markdown",
   "metadata": {},
   "source": [
    "## Packages\n",
    "\n",
    "### R\n",
    "* [Matrix eQTL](http://www.bios.unc.edu/research/genomic_software/Matrix_eQTL/)\n",
    "* [GWAS Tools](http://bioconductor.org/packages/release/bioc/html/GWASTools.html)\n",
    "* [GenABEL](http://www.genabel.org/)\n",
    "\n",
    "\n",
    "### Python\n",
    "* [llmlite](http://kbroman.org/lmmlite/assets/compare2pylmm.html)\n",
    "* [pylmm](http://genetics.cs.ucla.edu/pylmm/)\n",
    "* [fstlmm](http://lomereiter.github.io/2015/02/16/lmm_cov.html)\n",
    "* [pyGWAS](https://github.com/timeu/PyGWAS)\n",
    "* [krux](https://github.com/tmichoel/krux/blob/master/python/kruX.py)"
   ]
  },
  {
   "cell_type": "markdown",
   "metadata": {},
   "source": [
    "## Books\n",
    "* [James, Witten, Hastie, Tibshirani, An Introduction to Statistical Learning, Springer Texts, 2013](http://www-bcf.usc.edu/~gareth/ISL/)      \n",
    "* [MacKay, Information Theory, Inference, and Learning Algorithms, Cambridge University Press, 2005](http://www.inference.phy.cam.ac.uk/itila/book.html)\n",
    "\n",
    "\n",
    "## Tutorials\n",
    "* [Logistic regression](http://blog.yhat.com/posts/logistic-regression-and-python.html)   \n",
    "* [Linear regression](http://www.dataschool.io/linear-regression-in-python/)"
   ]
  },
  {
   "cell_type": "markdown",
   "metadata": {},
   "source": [
    "# Load data\n",
    "Before you can work with the data you have to load it and tidy it up a bit. This includes filtering rows with missing values, making sure that numeric columns are indeed of a numeric data type in the data frame, ..."
   ]
  },
  {
   "cell_type": "markdown",
   "metadata": {},
   "source": [
    "## Load genotype data as pandas dataframe\n",
    "Follow the same procedure as done yesterday. You do not have to download the file again, but can load it from your originally stored location."
   ]
  },
  {
   "cell_type": "markdown",
   "metadata": {},
   "source": [
    "__Define variable with path to data directory__"
   ]
  },
  {
   "cell_type": "code",
   "execution_count": 5,
   "metadata": {
    "collapsed": true,
    "run_control": {
     "frozen": false,
     "read_only": false
    }
   },
   "outputs": [],
   "source": [
    "# data directory is data"
   ]
  },
  {
   "cell_type": "markdown",
   "metadata": {},
   "source": [
    "__Load data__"
   ]
  },
  {
   "cell_type": "code",
   "execution_count": 32,
   "metadata": {
    "collapsed": false,
    "run_control": {
     "frozen": false,
     "read_only": false
    }
   },
   "outputs": [
    {
     "data": {
      "text/html": [
       "<div>\n",
       "<table border=\"1\" class=\"dataframe\">\n",
       "  <thead>\n",
       "    <tr style=\"text-align: right;\">\n",
       "      <th></th>\n",
       "      <th>Chr</th>\n",
       "      <th>Locus</th>\n",
       "      <th>cM</th>\n",
       "      <th>Mb</th>\n",
       "      <th>BXD1</th>\n",
       "      <th>BXD2</th>\n",
       "      <th>BXD5</th>\n",
       "      <th>BXD6</th>\n",
       "      <th>BXD8</th>\n",
       "      <th>BXD9</th>\n",
       "      <th>...</th>\n",
       "      <th>BXD90</th>\n",
       "      <th>BXD91</th>\n",
       "      <th>BXD93</th>\n",
       "      <th>BXD94</th>\n",
       "      <th>BXD95</th>\n",
       "      <th>BXD98</th>\n",
       "      <th>BXD99</th>\n",
       "      <th>BXD100</th>\n",
       "      <th>BXD101</th>\n",
       "      <th>BXD102</th>\n",
       "    </tr>\n",
       "  </thead>\n",
       "  <tbody>\n",
       "    <tr>\n",
       "      <th>0</th>\n",
       "      <td>1</td>\n",
       "      <td>rs6269442</td>\n",
       "      <td>0.000</td>\n",
       "      <td>3.482275</td>\n",
       "      <td>B</td>\n",
       "      <td>B</td>\n",
       "      <td>D</td>\n",
       "      <td>D</td>\n",
       "      <td>D</td>\n",
       "      <td>B</td>\n",
       "      <td>...</td>\n",
       "      <td>B</td>\n",
       "      <td>D</td>\n",
       "      <td>B</td>\n",
       "      <td>D</td>\n",
       "      <td>D</td>\n",
       "      <td>B</td>\n",
       "      <td>B</td>\n",
       "      <td>B</td>\n",
       "      <td>B</td>\n",
       "      <td>B</td>\n",
       "    </tr>\n",
       "    <tr>\n",
       "      <th>1</th>\n",
       "      <td>1</td>\n",
       "      <td>rs6365999</td>\n",
       "      <td>0.000</td>\n",
       "      <td>4.811062</td>\n",
       "      <td>B</td>\n",
       "      <td>B</td>\n",
       "      <td>D</td>\n",
       "      <td>D</td>\n",
       "      <td>D</td>\n",
       "      <td>B</td>\n",
       "      <td>...</td>\n",
       "      <td>B</td>\n",
       "      <td>D</td>\n",
       "      <td>B</td>\n",
       "      <td>D</td>\n",
       "      <td>D</td>\n",
       "      <td>B</td>\n",
       "      <td>B</td>\n",
       "      <td>B</td>\n",
       "      <td>B</td>\n",
       "      <td>U</td>\n",
       "    </tr>\n",
       "    <tr>\n",
       "      <th>2</th>\n",
       "      <td>1</td>\n",
       "      <td>rs6376963</td>\n",
       "      <td>0.895</td>\n",
       "      <td>5.008089</td>\n",
       "      <td>B</td>\n",
       "      <td>B</td>\n",
       "      <td>D</td>\n",
       "      <td>D</td>\n",
       "      <td>D</td>\n",
       "      <td>B</td>\n",
       "      <td>...</td>\n",
       "      <td>B</td>\n",
       "      <td>D</td>\n",
       "      <td>B</td>\n",
       "      <td>D</td>\n",
       "      <td>D</td>\n",
       "      <td>B</td>\n",
       "      <td>B</td>\n",
       "      <td>B</td>\n",
       "      <td>B</td>\n",
       "      <td>U</td>\n",
       "    </tr>\n",
       "    <tr>\n",
       "      <th>3</th>\n",
       "      <td>1</td>\n",
       "      <td>rs3677817</td>\n",
       "      <td>1.185</td>\n",
       "      <td>5.176058</td>\n",
       "      <td>B</td>\n",
       "      <td>B</td>\n",
       "      <td>D</td>\n",
       "      <td>D</td>\n",
       "      <td>D</td>\n",
       "      <td>B</td>\n",
       "      <td>...</td>\n",
       "      <td>B</td>\n",
       "      <td>D</td>\n",
       "      <td>B</td>\n",
       "      <td>D</td>\n",
       "      <td>D</td>\n",
       "      <td>B</td>\n",
       "      <td>B</td>\n",
       "      <td>B</td>\n",
       "      <td>B</td>\n",
       "      <td>U</td>\n",
       "    </tr>\n",
       "    <tr>\n",
       "      <th>4</th>\n",
       "      <td>1</td>\n",
       "      <td>rs8236463</td>\n",
       "      <td>2.081</td>\n",
       "      <td>5.579193</td>\n",
       "      <td>B</td>\n",
       "      <td>B</td>\n",
       "      <td>D</td>\n",
       "      <td>D</td>\n",
       "      <td>D</td>\n",
       "      <td>B</td>\n",
       "      <td>...</td>\n",
       "      <td>B</td>\n",
       "      <td>D</td>\n",
       "      <td>B</td>\n",
       "      <td>D</td>\n",
       "      <td>D</td>\n",
       "      <td>B</td>\n",
       "      <td>B</td>\n",
       "      <td>B</td>\n",
       "      <td>B</td>\n",
       "      <td>U</td>\n",
       "    </tr>\n",
       "  </tbody>\n",
       "</table>\n",
       "<p>5 rows × 97 columns</p>\n",
       "</div>"
      ],
      "text/plain": [
       "  Chr      Locus     cM        Mb BXD1 BXD2 BXD5 BXD6 BXD8 BXD9  ...   BXD90  \\\n",
       "0   1  rs6269442  0.000  3.482275    B    B    D    D    D    B  ...       B   \n",
       "1   1  rs6365999  0.000  4.811062    B    B    D    D    D    B  ...       B   \n",
       "2   1  rs6376963  0.895  5.008089    B    B    D    D    D    B  ...       B   \n",
       "3   1  rs3677817  1.185  5.176058    B    B    D    D    D    B  ...       B   \n",
       "4   1  rs8236463  2.081  5.579193    B    B    D    D    D    B  ...       B   \n",
       "\n",
       "  BXD91 BXD93 BXD94 BXD95 BXD98 BXD99 BXD100 BXD101 BXD102  \n",
       "0     D     B     D     D     B     B      B      B      B  \n",
       "1     D     B     D     D     B     B      B      B      U  \n",
       "2     D     B     D     D     B     B      B      B      U  \n",
       "3     D     B     D     D     B     B      B      B      U  \n",
       "4     D     B     D     D     B     B      B      B      U  \n",
       "\n",
       "[5 rows x 97 columns]"
      ]
     },
     "execution_count": 32,
     "metadata": {},
     "output_type": "execute_result"
    }
   ],
   "source": [
    "genotype_df = pd.read_table(\"data/genotype.txt\", comment = '@')\n",
    "genotype_df.head()"
   ]
  },
  {
   "cell_type": "code",
   "execution_count": 7,
   "metadata": {
    "collapsed": false
   },
   "outputs": [],
   "source": [
    "phenotype_df = pd.read_excel(\"data/phenotype.xlsx\", sheetname=None)"
   ]
  },
  {
   "cell_type": "markdown",
   "metadata": {},
   "source": [
    "__Deal with missing values__"
   ]
  },
  {
   "cell_type": "code",
   "execution_count": 33,
   "metadata": {
    "collapsed": false
   },
   "outputs": [],
   "source": [
    "genotype_df.replace(\"x\", np.nan, inplace=True)\n",
    "for key in phenotype_df:\n",
    "    phenotype_df[key].replace(\"x\", np.nan, inplace=True)"
   ]
  },
  {
   "cell_type": "markdown",
   "metadata": {},
   "source": [
    "## Subtask: Set SNP-ID column as index"
   ]
  },
  {
   "cell_type": "code",
   "execution_count": 34,
   "metadata": {
    "collapsed": false,
    "run_control": {
     "frozen": false,
     "read_only": false
    }
   },
   "outputs": [
    {
     "data": {
      "text/html": [
       "<div>\n",
       "<table border=\"1\" class=\"dataframe\">\n",
       "  <thead>\n",
       "    <tr style=\"text-align: right;\">\n",
       "      <th></th>\n",
       "      <th>Chr</th>\n",
       "      <th>cM</th>\n",
       "      <th>Mb</th>\n",
       "      <th>BXD1</th>\n",
       "      <th>BXD2</th>\n",
       "      <th>BXD5</th>\n",
       "      <th>BXD6</th>\n",
       "      <th>BXD8</th>\n",
       "      <th>BXD9</th>\n",
       "      <th>BXD11</th>\n",
       "      <th>...</th>\n",
       "      <th>BXD90</th>\n",
       "      <th>BXD91</th>\n",
       "      <th>BXD93</th>\n",
       "      <th>BXD94</th>\n",
       "      <th>BXD95</th>\n",
       "      <th>BXD98</th>\n",
       "      <th>BXD99</th>\n",
       "      <th>BXD100</th>\n",
       "      <th>BXD101</th>\n",
       "      <th>BXD102</th>\n",
       "    </tr>\n",
       "    <tr>\n",
       "      <th>Locus</th>\n",
       "      <th></th>\n",
       "      <th></th>\n",
       "      <th></th>\n",
       "      <th></th>\n",
       "      <th></th>\n",
       "      <th></th>\n",
       "      <th></th>\n",
       "      <th></th>\n",
       "      <th></th>\n",
       "      <th></th>\n",
       "      <th></th>\n",
       "      <th></th>\n",
       "      <th></th>\n",
       "      <th></th>\n",
       "      <th></th>\n",
       "      <th></th>\n",
       "      <th></th>\n",
       "      <th></th>\n",
       "      <th></th>\n",
       "      <th></th>\n",
       "      <th></th>\n",
       "    </tr>\n",
       "  </thead>\n",
       "  <tbody>\n",
       "    <tr>\n",
       "      <th>rs6269442</th>\n",
       "      <td>1</td>\n",
       "      <td>0.000</td>\n",
       "      <td>3.482275</td>\n",
       "      <td>B</td>\n",
       "      <td>B</td>\n",
       "      <td>D</td>\n",
       "      <td>D</td>\n",
       "      <td>D</td>\n",
       "      <td>B</td>\n",
       "      <td>B</td>\n",
       "      <td>...</td>\n",
       "      <td>B</td>\n",
       "      <td>D</td>\n",
       "      <td>B</td>\n",
       "      <td>D</td>\n",
       "      <td>D</td>\n",
       "      <td>B</td>\n",
       "      <td>B</td>\n",
       "      <td>B</td>\n",
       "      <td>B</td>\n",
       "      <td>B</td>\n",
       "    </tr>\n",
       "    <tr>\n",
       "      <th>rs6365999</th>\n",
       "      <td>1</td>\n",
       "      <td>0.000</td>\n",
       "      <td>4.811062</td>\n",
       "      <td>B</td>\n",
       "      <td>B</td>\n",
       "      <td>D</td>\n",
       "      <td>D</td>\n",
       "      <td>D</td>\n",
       "      <td>B</td>\n",
       "      <td>B</td>\n",
       "      <td>...</td>\n",
       "      <td>B</td>\n",
       "      <td>D</td>\n",
       "      <td>B</td>\n",
       "      <td>D</td>\n",
       "      <td>D</td>\n",
       "      <td>B</td>\n",
       "      <td>B</td>\n",
       "      <td>B</td>\n",
       "      <td>B</td>\n",
       "      <td>U</td>\n",
       "    </tr>\n",
       "    <tr>\n",
       "      <th>rs6376963</th>\n",
       "      <td>1</td>\n",
       "      <td>0.895</td>\n",
       "      <td>5.008089</td>\n",
       "      <td>B</td>\n",
       "      <td>B</td>\n",
       "      <td>D</td>\n",
       "      <td>D</td>\n",
       "      <td>D</td>\n",
       "      <td>B</td>\n",
       "      <td>B</td>\n",
       "      <td>...</td>\n",
       "      <td>B</td>\n",
       "      <td>D</td>\n",
       "      <td>B</td>\n",
       "      <td>D</td>\n",
       "      <td>D</td>\n",
       "      <td>B</td>\n",
       "      <td>B</td>\n",
       "      <td>B</td>\n",
       "      <td>B</td>\n",
       "      <td>U</td>\n",
       "    </tr>\n",
       "    <tr>\n",
       "      <th>rs3677817</th>\n",
       "      <td>1</td>\n",
       "      <td>1.185</td>\n",
       "      <td>5.176058</td>\n",
       "      <td>B</td>\n",
       "      <td>B</td>\n",
       "      <td>D</td>\n",
       "      <td>D</td>\n",
       "      <td>D</td>\n",
       "      <td>B</td>\n",
       "      <td>B</td>\n",
       "      <td>...</td>\n",
       "      <td>B</td>\n",
       "      <td>D</td>\n",
       "      <td>B</td>\n",
       "      <td>D</td>\n",
       "      <td>D</td>\n",
       "      <td>B</td>\n",
       "      <td>B</td>\n",
       "      <td>B</td>\n",
       "      <td>B</td>\n",
       "      <td>U</td>\n",
       "    </tr>\n",
       "    <tr>\n",
       "      <th>rs8236463</th>\n",
       "      <td>1</td>\n",
       "      <td>2.081</td>\n",
       "      <td>5.579193</td>\n",
       "      <td>B</td>\n",
       "      <td>B</td>\n",
       "      <td>D</td>\n",
       "      <td>D</td>\n",
       "      <td>D</td>\n",
       "      <td>B</td>\n",
       "      <td>D</td>\n",
       "      <td>...</td>\n",
       "      <td>B</td>\n",
       "      <td>D</td>\n",
       "      <td>B</td>\n",
       "      <td>D</td>\n",
       "      <td>D</td>\n",
       "      <td>B</td>\n",
       "      <td>B</td>\n",
       "      <td>B</td>\n",
       "      <td>B</td>\n",
       "      <td>U</td>\n",
       "    </tr>\n",
       "  </tbody>\n",
       "</table>\n",
       "<p>5 rows × 96 columns</p>\n",
       "</div>"
      ],
      "text/plain": [
       "          Chr     cM        Mb BXD1 BXD2 BXD5 BXD6 BXD8 BXD9 BXD11  ...    \\\n",
       "Locus                                                               ...     \n",
       "rs6269442   1  0.000  3.482275    B    B    D    D    D    B     B  ...     \n",
       "rs6365999   1  0.000  4.811062    B    B    D    D    D    B     B  ...     \n",
       "rs6376963   1  0.895  5.008089    B    B    D    D    D    B     B  ...     \n",
       "rs3677817   1  1.185  5.176058    B    B    D    D    D    B     B  ...     \n",
       "rs8236463   1  2.081  5.579193    B    B    D    D    D    B     D  ...     \n",
       "\n",
       "          BXD90 BXD91 BXD93 BXD94 BXD95 BXD98 BXD99 BXD100 BXD101 BXD102  \n",
       "Locus                                                                     \n",
       "rs6269442     B     D     B     D     D     B     B      B      B      B  \n",
       "rs6365999     B     D     B     D     D     B     B      B      B      U  \n",
       "rs6376963     B     D     B     D     D     B     B      B      B      U  \n",
       "rs3677817     B     D     B     D     D     B     B      B      B      U  \n",
       "rs8236463     B     D     B     D     D     B     B      B      B      U  \n",
       "\n",
       "[5 rows x 96 columns]"
      ]
     },
     "execution_count": 34,
     "metadata": {},
     "output_type": "execute_result"
    }
   ],
   "source": [
    "genotype_df.set_index(\"Locus\", inplace=True)\n",
    "genotype_df.head()"
   ]
  },
  {
   "cell_type": "markdown",
   "metadata": {},
   "source": [
    "## Subtask: Replace categorical data strings with numerical encoding\n",
    "\n",
    "Let's assume the following mapping from the categorical variable to integers.\n",
    "\n",
    "|strain| value  |\n",
    "|------|--------|\n",
    "|  B   |  0     |\n",
    "|  H   |  1     |\n",
    "|  D   |  2     |\n",
    "|  U   | missing|"
   ]
  },
  {
   "cell_type": "code",
   "execution_count": 136,
   "metadata": {
    "collapsed": false,
    "run_control": {
     "frozen": false,
     "read_only": false
    }
   },
   "outputs": [
    {
     "data": {
      "text/html": [
       "<div>\n",
       "<table border=\"1\" class=\"dataframe\">\n",
       "  <thead>\n",
       "    <tr style=\"text-align: right;\">\n",
       "      <th></th>\n",
       "      <th>Chr</th>\n",
       "      <th>cM</th>\n",
       "      <th>Mb</th>\n",
       "      <th>BXD1</th>\n",
       "      <th>BXD2</th>\n",
       "      <th>BXD5</th>\n",
       "      <th>BXD6</th>\n",
       "      <th>BXD8</th>\n",
       "      <th>BXD9</th>\n",
       "      <th>BXD11</th>\n",
       "      <th>...</th>\n",
       "      <th>BXD90</th>\n",
       "      <th>BXD91</th>\n",
       "      <th>BXD93</th>\n",
       "      <th>BXD94</th>\n",
       "      <th>BXD95</th>\n",
       "      <th>BXD98</th>\n",
       "      <th>BXD99</th>\n",
       "      <th>BXD100</th>\n",
       "      <th>BXD101</th>\n",
       "      <th>BXD102</th>\n",
       "    </tr>\n",
       "    <tr>\n",
       "      <th>Locus</th>\n",
       "      <th></th>\n",
       "      <th></th>\n",
       "      <th></th>\n",
       "      <th></th>\n",
       "      <th></th>\n",
       "      <th></th>\n",
       "      <th></th>\n",
       "      <th></th>\n",
       "      <th></th>\n",
       "      <th></th>\n",
       "      <th></th>\n",
       "      <th></th>\n",
       "      <th></th>\n",
       "      <th></th>\n",
       "      <th></th>\n",
       "      <th></th>\n",
       "      <th></th>\n",
       "      <th></th>\n",
       "      <th></th>\n",
       "      <th></th>\n",
       "      <th></th>\n",
       "    </tr>\n",
       "  </thead>\n",
       "  <tbody>\n",
       "    <tr>\n",
       "      <th>rs6269442</th>\n",
       "      <td>1</td>\n",
       "      <td>0.000</td>\n",
       "      <td>3.482275</td>\n",
       "      <td>0</td>\n",
       "      <td>0</td>\n",
       "      <td>2</td>\n",
       "      <td>2.0</td>\n",
       "      <td>2</td>\n",
       "      <td>0</td>\n",
       "      <td>0</td>\n",
       "      <td>...</td>\n",
       "      <td>0.0</td>\n",
       "      <td>2</td>\n",
       "      <td>0</td>\n",
       "      <td>2.0</td>\n",
       "      <td>2</td>\n",
       "      <td>0</td>\n",
       "      <td>0</td>\n",
       "      <td>0</td>\n",
       "      <td>0.0</td>\n",
       "      <td>0.0</td>\n",
       "    </tr>\n",
       "    <tr>\n",
       "      <th>rs6365999</th>\n",
       "      <td>1</td>\n",
       "      <td>0.000</td>\n",
       "      <td>4.811062</td>\n",
       "      <td>0</td>\n",
       "      <td>0</td>\n",
       "      <td>2</td>\n",
       "      <td>2.0</td>\n",
       "      <td>2</td>\n",
       "      <td>0</td>\n",
       "      <td>0</td>\n",
       "      <td>...</td>\n",
       "      <td>0.0</td>\n",
       "      <td>2</td>\n",
       "      <td>0</td>\n",
       "      <td>2.0</td>\n",
       "      <td>2</td>\n",
       "      <td>0</td>\n",
       "      <td>0</td>\n",
       "      <td>0</td>\n",
       "      <td>0.0</td>\n",
       "      <td>NaN</td>\n",
       "    </tr>\n",
       "    <tr>\n",
       "      <th>rs6376963</th>\n",
       "      <td>1</td>\n",
       "      <td>0.895</td>\n",
       "      <td>5.008089</td>\n",
       "      <td>0</td>\n",
       "      <td>0</td>\n",
       "      <td>2</td>\n",
       "      <td>2.0</td>\n",
       "      <td>2</td>\n",
       "      <td>0</td>\n",
       "      <td>0</td>\n",
       "      <td>...</td>\n",
       "      <td>0.0</td>\n",
       "      <td>2</td>\n",
       "      <td>0</td>\n",
       "      <td>2.0</td>\n",
       "      <td>2</td>\n",
       "      <td>0</td>\n",
       "      <td>0</td>\n",
       "      <td>0</td>\n",
       "      <td>0.0</td>\n",
       "      <td>NaN</td>\n",
       "    </tr>\n",
       "    <tr>\n",
       "      <th>rs3677817</th>\n",
       "      <td>1</td>\n",
       "      <td>1.185</td>\n",
       "      <td>5.176058</td>\n",
       "      <td>0</td>\n",
       "      <td>0</td>\n",
       "      <td>2</td>\n",
       "      <td>2.0</td>\n",
       "      <td>2</td>\n",
       "      <td>0</td>\n",
       "      <td>0</td>\n",
       "      <td>...</td>\n",
       "      <td>0.0</td>\n",
       "      <td>2</td>\n",
       "      <td>0</td>\n",
       "      <td>2.0</td>\n",
       "      <td>2</td>\n",
       "      <td>0</td>\n",
       "      <td>0</td>\n",
       "      <td>0</td>\n",
       "      <td>0.0</td>\n",
       "      <td>NaN</td>\n",
       "    </tr>\n",
       "    <tr>\n",
       "      <th>rs8236463</th>\n",
       "      <td>1</td>\n",
       "      <td>2.081</td>\n",
       "      <td>5.579193</td>\n",
       "      <td>0</td>\n",
       "      <td>0</td>\n",
       "      <td>2</td>\n",
       "      <td>2.0</td>\n",
       "      <td>2</td>\n",
       "      <td>0</td>\n",
       "      <td>2</td>\n",
       "      <td>...</td>\n",
       "      <td>0.0</td>\n",
       "      <td>2</td>\n",
       "      <td>0</td>\n",
       "      <td>2.0</td>\n",
       "      <td>2</td>\n",
       "      <td>0</td>\n",
       "      <td>0</td>\n",
       "      <td>0</td>\n",
       "      <td>0.0</td>\n",
       "      <td>NaN</td>\n",
       "    </tr>\n",
       "  </tbody>\n",
       "</table>\n",
       "<p>5 rows × 96 columns</p>\n",
       "</div>"
      ],
      "text/plain": [
       "          Chr     cM        Mb  BXD1  BXD2  BXD5  BXD6  BXD8  BXD9  BXD11  \\\n",
       "Locus                                                                       \n",
       "rs6269442   1  0.000  3.482275     0     0     2   2.0     2     0      0   \n",
       "rs6365999   1  0.000  4.811062     0     0     2   2.0     2     0      0   \n",
       "rs6376963   1  0.895  5.008089     0     0     2   2.0     2     0      0   \n",
       "rs3677817   1  1.185  5.176058     0     0     2   2.0     2     0      0   \n",
       "rs8236463   1  2.081  5.579193     0     0     2   2.0     2     0      2   \n",
       "\n",
       "            ...    BXD90  BXD91  BXD93  BXD94  BXD95  BXD98  BXD99  BXD100  \\\n",
       "Locus       ...                                                              \n",
       "rs6269442   ...      0.0      2      0    2.0      2      0      0       0   \n",
       "rs6365999   ...      0.0      2      0    2.0      2      0      0       0   \n",
       "rs6376963   ...      0.0      2      0    2.0      2      0      0       0   \n",
       "rs3677817   ...      0.0      2      0    2.0      2      0      0       0   \n",
       "rs8236463   ...      0.0      2      0    2.0      2      0      0       0   \n",
       "\n",
       "           BXD101  BXD102  \n",
       "Locus                      \n",
       "rs6269442     0.0     0.0  \n",
       "rs6365999     0.0     NaN  \n",
       "rs6376963     0.0     NaN  \n",
       "rs3677817     0.0     NaN  \n",
       "rs8236463     0.0     NaN  \n",
       "\n",
       "[5 rows x 96 columns]"
      ]
     },
     "execution_count": 136,
     "metadata": {},
     "output_type": "execute_result"
    }
   ],
   "source": [
    "mapping = {'B': 0,'D': 2, 'H': 1, 'U': np.nan}\n",
    "genotype_df_mapped = genotype_df.replace(mapping)\n",
    "genotype_df_mapped.head()"
   ]
  },
  {
   "cell_type": "markdown",
   "metadata": {},
   "source": [
    "## Subtask: Drop rows with unknown genotypes"
   ]
  },
  {
   "cell_type": "code",
   "execution_count": 137,
   "metadata": {
    "collapsed": false,
    "run_control": {
     "frozen": false,
     "read_only": false
    }
   },
   "outputs": [
    {
     "data": {
      "text/html": [
       "<div>\n",
       "<table border=\"1\" class=\"dataframe\">\n",
       "  <thead>\n",
       "    <tr style=\"text-align: right;\">\n",
       "      <th></th>\n",
       "      <th>Chr</th>\n",
       "      <th>cM</th>\n",
       "      <th>Mb</th>\n",
       "      <th>BXD1</th>\n",
       "      <th>BXD2</th>\n",
       "      <th>BXD5</th>\n",
       "      <th>BXD6</th>\n",
       "      <th>BXD8</th>\n",
       "      <th>BXD9</th>\n",
       "      <th>BXD11</th>\n",
       "      <th>...</th>\n",
       "      <th>BXD90</th>\n",
       "      <th>BXD91</th>\n",
       "      <th>BXD93</th>\n",
       "      <th>BXD94</th>\n",
       "      <th>BXD95</th>\n",
       "      <th>BXD98</th>\n",
       "      <th>BXD99</th>\n",
       "      <th>BXD100</th>\n",
       "      <th>BXD101</th>\n",
       "      <th>BXD102</th>\n",
       "    </tr>\n",
       "    <tr>\n",
       "      <th>Locus</th>\n",
       "      <th></th>\n",
       "      <th></th>\n",
       "      <th></th>\n",
       "      <th></th>\n",
       "      <th></th>\n",
       "      <th></th>\n",
       "      <th></th>\n",
       "      <th></th>\n",
       "      <th></th>\n",
       "      <th></th>\n",
       "      <th></th>\n",
       "      <th></th>\n",
       "      <th></th>\n",
       "      <th></th>\n",
       "      <th></th>\n",
       "      <th></th>\n",
       "      <th></th>\n",
       "      <th></th>\n",
       "      <th></th>\n",
       "      <th></th>\n",
       "      <th></th>\n",
       "    </tr>\n",
       "  </thead>\n",
       "  <tbody>\n",
       "    <tr>\n",
       "      <th>rs6269442</th>\n",
       "      <td>1</td>\n",
       "      <td>0.000</td>\n",
       "      <td>3.482275</td>\n",
       "      <td>0</td>\n",
       "      <td>0</td>\n",
       "      <td>2</td>\n",
       "      <td>2.0</td>\n",
       "      <td>2</td>\n",
       "      <td>0</td>\n",
       "      <td>0</td>\n",
       "      <td>...</td>\n",
       "      <td>0.0</td>\n",
       "      <td>2</td>\n",
       "      <td>0</td>\n",
       "      <td>2.0</td>\n",
       "      <td>2</td>\n",
       "      <td>0</td>\n",
       "      <td>0</td>\n",
       "      <td>0</td>\n",
       "      <td>0.0</td>\n",
       "      <td>0.0</td>\n",
       "    </tr>\n",
       "    <tr>\n",
       "      <th>rs6241531</th>\n",
       "      <td>1</td>\n",
       "      <td>2.367</td>\n",
       "      <td>9.995925</td>\n",
       "      <td>0</td>\n",
       "      <td>0</td>\n",
       "      <td>2</td>\n",
       "      <td>2.0</td>\n",
       "      <td>2</td>\n",
       "      <td>0</td>\n",
       "      <td>2</td>\n",
       "      <td>...</td>\n",
       "      <td>0.0</td>\n",
       "      <td>2</td>\n",
       "      <td>0</td>\n",
       "      <td>2.0</td>\n",
       "      <td>2</td>\n",
       "      <td>0</td>\n",
       "      <td>0</td>\n",
       "      <td>0</td>\n",
       "      <td>0.0</td>\n",
       "      <td>2.0</td>\n",
       "    </tr>\n",
       "    <tr>\n",
       "      <th>rs6360236</th>\n",
       "      <td>1</td>\n",
       "      <td>3.263</td>\n",
       "      <td>11.073904</td>\n",
       "      <td>0</td>\n",
       "      <td>0</td>\n",
       "      <td>2</td>\n",
       "      <td>2.0</td>\n",
       "      <td>2</td>\n",
       "      <td>0</td>\n",
       "      <td>2</td>\n",
       "      <td>...</td>\n",
       "      <td>0.0</td>\n",
       "      <td>2</td>\n",
       "      <td>0</td>\n",
       "      <td>2.0</td>\n",
       "      <td>2</td>\n",
       "      <td>0</td>\n",
       "      <td>0</td>\n",
       "      <td>0</td>\n",
       "      <td>0.0</td>\n",
       "      <td>2.0</td>\n",
       "    </tr>\n",
       "    <tr>\n",
       "      <th>rs3722996</th>\n",
       "      <td>1</td>\n",
       "      <td>3.263</td>\n",
       "      <td>11.259432</td>\n",
       "      <td>0</td>\n",
       "      <td>0</td>\n",
       "      <td>2</td>\n",
       "      <td>2.0</td>\n",
       "      <td>2</td>\n",
       "      <td>0</td>\n",
       "      <td>2</td>\n",
       "      <td>...</td>\n",
       "      <td>0.0</td>\n",
       "      <td>2</td>\n",
       "      <td>0</td>\n",
       "      <td>2.0</td>\n",
       "      <td>2</td>\n",
       "      <td>0</td>\n",
       "      <td>0</td>\n",
       "      <td>0</td>\n",
       "      <td>0.0</td>\n",
       "      <td>2.0</td>\n",
       "    </tr>\n",
       "    <tr>\n",
       "      <th>D1Mit1</th>\n",
       "      <td>1</td>\n",
       "      <td>3.549</td>\n",
       "      <td>11.505582</td>\n",
       "      <td>0</td>\n",
       "      <td>0</td>\n",
       "      <td>2</td>\n",
       "      <td>2.0</td>\n",
       "      <td>2</td>\n",
       "      <td>0</td>\n",
       "      <td>2</td>\n",
       "      <td>...</td>\n",
       "      <td>0.0</td>\n",
       "      <td>2</td>\n",
       "      <td>0</td>\n",
       "      <td>2.0</td>\n",
       "      <td>2</td>\n",
       "      <td>0</td>\n",
       "      <td>0</td>\n",
       "      <td>0</td>\n",
       "      <td>0.0</td>\n",
       "      <td>2.0</td>\n",
       "    </tr>\n",
       "  </tbody>\n",
       "</table>\n",
       "<p>5 rows × 96 columns</p>\n",
       "</div>"
      ],
      "text/plain": [
       "          Chr     cM         Mb  BXD1  BXD2  BXD5  BXD6  BXD8  BXD9  BXD11  \\\n",
       "Locus                                                                        \n",
       "rs6269442   1  0.000   3.482275     0     0     2   2.0     2     0      0   \n",
       "rs6241531   1  2.367   9.995925     0     0     2   2.0     2     0      2   \n",
       "rs6360236   1  3.263  11.073904     0     0     2   2.0     2     0      2   \n",
       "rs3722996   1  3.263  11.259432     0     0     2   2.0     2     0      2   \n",
       "D1Mit1      1  3.549  11.505582     0     0     2   2.0     2     0      2   \n",
       "\n",
       "            ...    BXD90  BXD91  BXD93  BXD94  BXD95  BXD98  BXD99  BXD100  \\\n",
       "Locus       ...                                                              \n",
       "rs6269442   ...      0.0      2      0    2.0      2      0      0       0   \n",
       "rs6241531   ...      0.0      2      0    2.0      2      0      0       0   \n",
       "rs6360236   ...      0.0      2      0    2.0      2      0      0       0   \n",
       "rs3722996   ...      0.0      2      0    2.0      2      0      0       0   \n",
       "D1Mit1      ...      0.0      2      0    2.0      2      0      0       0   \n",
       "\n",
       "           BXD101  BXD102  \n",
       "Locus                      \n",
       "rs6269442     0.0     0.0  \n",
       "rs6241531     0.0     2.0  \n",
       "rs6360236     0.0     2.0  \n",
       "rs3722996     0.0     2.0  \n",
       "D1Mit1        0.0     2.0  \n",
       "\n",
       "[5 rows x 96 columns]"
      ]
     },
     "execution_count": 137,
     "metadata": {},
     "output_type": "execute_result"
    }
   ],
   "source": [
    "genotype_df_mapped.dropna(inplace=True)\n",
    "genotype_df_mapped.head()"
   ]
  },
  {
   "cell_type": "markdown",
   "metadata": {},
   "source": [
    "## Dowload categorical data from genenetworks.org"
   ]
  },
  {
   "cell_type": "markdown",
   "metadata": {},
   "source": [
    "Most mouse phenotype data is available at genenetwork.org. This includes nearly all published phenotype measurements. You can access individual measurements from that repository using the search mask:\n",
    "1. Go to http://gn2.genenetwork.org/\n",
    "2. In \"Select and Search\" fill in:\n",
    "    1. Species: Mouse\n",
    "    2. Group: BXD\n",
    "    3. Type: Phenotypes\n",
    "    4. Dataset: BXD Published Phenotypes\n",
    "3. Enter the <trait of interest> in the \"Get any\" field\n",
    "4. Search\n",
    "\n",
    "For getting data on the coat color of BXD mice use \"coat color\" as search term and select RecordID/11280 to get to the corresponding __Trait Data and Analysis__ page. There you can download the data as text file."
   ]
  },
  {
   "cell_type": "markdown",
   "metadata": {
    "collapsed": true,
    "run_control": {
     "frozen": false,
     "read_only": false
    }
   },
   "source": [
    "## Load phenotype data (coat color)"
   ]
  },
  {
   "cell_type": "markdown",
   "metadata": {},
   "source": [
    "From the source of the genotype data we know the mapping between the categorical color value\n",
    "and the actual color.\n",
    "\n",
    "|color  | value  |\n",
    "|-------|--------|\n",
    "| black |  4     |\n",
    "| grey  |  3     |\n",
    "| brown |  2     |\n",
    "| dilute|  1     |"
   ]
  },
  {
   "cell_type": "code",
   "execution_count": 138,
   "metadata": {
    "collapsed": false,
    "run_control": {
     "frozen": false,
     "read_only": false
    }
   },
   "outputs": [
    {
     "data": {
      "text/html": [
       "<div>\n",
       "<table border=\"1\" class=\"dataframe\">\n",
       "  <thead>\n",
       "    <tr style=\"text-align: right;\">\n",
       "      <th></th>\n",
       "      <th>0</th>\n",
       "      <th>1</th>\n",
       "    </tr>\n",
       "  </thead>\n",
       "  <tbody>\n",
       "    <tr>\n",
       "      <th>0</th>\n",
       "      <td>C57BL/6J</td>\n",
       "      <td>4.0</td>\n",
       "    </tr>\n",
       "    <tr>\n",
       "      <th>1</th>\n",
       "      <td>DBA/2J</td>\n",
       "      <td>1.0</td>\n",
       "    </tr>\n",
       "    <tr>\n",
       "      <th>2</th>\n",
       "      <td>B6D2F1</td>\n",
       "      <td>4.0</td>\n",
       "    </tr>\n",
       "    <tr>\n",
       "      <th>3</th>\n",
       "      <td>D2B6F1</td>\n",
       "      <td>4.0</td>\n",
       "    </tr>\n",
       "    <tr>\n",
       "      <th>4</th>\n",
       "      <td>BXD1</td>\n",
       "      <td>1.0</td>\n",
       "    </tr>\n",
       "  </tbody>\n",
       "</table>\n",
       "</div>"
      ],
      "text/plain": [
       "          0    1\n",
       "0  C57BL/6J  4.0\n",
       "1    DBA/2J  1.0\n",
       "2    B6D2F1  4.0\n",
       "3    D2B6F1  4.0\n",
       "4      BXD1  1.0"
      ]
     },
     "execution_count": 138,
     "metadata": {},
     "output_type": "execute_result"
    }
   ],
   "source": [
    "coat_color_df = pd.read_csv(\"data/sample_data.csv\", header=None, na_values=\"x\")\n",
    "coat_color_df.head()"
   ]
  },
  {
   "cell_type": "markdown",
   "metadata": {},
   "source": [
    "__Set index to strain names__"
   ]
  },
  {
   "cell_type": "code",
   "execution_count": 139,
   "metadata": {
    "collapsed": false,
    "run_control": {
     "frozen": false,
     "read_only": false
    }
   },
   "outputs": [
    {
     "data": {
      "text/html": [
       "<div>\n",
       "<table border=\"1\" class=\"dataframe\">\n",
       "  <thead>\n",
       "    <tr style=\"text-align: right;\">\n",
       "      <th></th>\n",
       "      <th>1</th>\n",
       "    </tr>\n",
       "    <tr>\n",
       "      <th>0</th>\n",
       "      <th></th>\n",
       "    </tr>\n",
       "  </thead>\n",
       "  <tbody>\n",
       "    <tr>\n",
       "      <th>C57BL/6J</th>\n",
       "      <td>4.0</td>\n",
       "    </tr>\n",
       "    <tr>\n",
       "      <th>DBA/2J</th>\n",
       "      <td>1.0</td>\n",
       "    </tr>\n",
       "    <tr>\n",
       "      <th>B6D2F1</th>\n",
       "      <td>4.0</td>\n",
       "    </tr>\n",
       "    <tr>\n",
       "      <th>D2B6F1</th>\n",
       "      <td>4.0</td>\n",
       "    </tr>\n",
       "    <tr>\n",
       "      <th>BXD1</th>\n",
       "      <td>1.0</td>\n",
       "    </tr>\n",
       "  </tbody>\n",
       "</table>\n",
       "</div>"
      ],
      "text/plain": [
       "            1\n",
       "0            \n",
       "C57BL/6J  4.0\n",
       "DBA/2J    1.0\n",
       "B6D2F1    4.0\n",
       "D2B6F1    4.0\n",
       "BXD1      1.0"
      ]
     },
     "execution_count": 139,
     "metadata": {},
     "output_type": "execute_result"
    }
   ],
   "source": [
    "coat_color_df.set_index(0, inplace=True)\n",
    "coat_color_df.head()"
   ]
  },
  {
   "cell_type": "markdown",
   "metadata": {},
   "source": [
    "## Subtask: remove rows with missing data"
   ]
  },
  {
   "cell_type": "markdown",
   "metadata": {
    "collapsed": true,
    "run_control": {
     "frozen": false,
     "read_only": false
    }
   },
   "source": [
    "Dealt with the missing rows while reading them in."
   ]
  },
  {
   "cell_type": "markdown",
   "metadata": {},
   "source": [
    "## Convert data to numeric"
   ]
  },
  {
   "cell_type": "code",
   "execution_count": 140,
   "metadata": {
    "collapsed": false,
    "run_control": {
     "frozen": false,
     "read_only": false
    }
   },
   "outputs": [
    {
     "data": {
      "text/html": [
       "<div>\n",
       "<table border=\"1\" class=\"dataframe\">\n",
       "  <thead>\n",
       "    <tr style=\"text-align: right;\">\n",
       "      <th></th>\n",
       "      <th>1</th>\n",
       "    </tr>\n",
       "    <tr>\n",
       "      <th>0</th>\n",
       "      <th></th>\n",
       "    </tr>\n",
       "  </thead>\n",
       "  <tbody>\n",
       "    <tr>\n",
       "      <th>C57BL/6J</th>\n",
       "      <td>4.0</td>\n",
       "    </tr>\n",
       "    <tr>\n",
       "      <th>DBA/2J</th>\n",
       "      <td>1.0</td>\n",
       "    </tr>\n",
       "    <tr>\n",
       "      <th>B6D2F1</th>\n",
       "      <td>4.0</td>\n",
       "    </tr>\n",
       "    <tr>\n",
       "      <th>D2B6F1</th>\n",
       "      <td>4.0</td>\n",
       "    </tr>\n",
       "    <tr>\n",
       "      <th>BXD1</th>\n",
       "      <td>1.0</td>\n",
       "    </tr>\n",
       "  </tbody>\n",
       "</table>\n",
       "</div>"
      ],
      "text/plain": [
       "            1\n",
       "0            \n",
       "C57BL/6J  4.0\n",
       "DBA/2J    1.0\n",
       "B6D2F1    4.0\n",
       "D2B6F1    4.0\n",
       "BXD1      1.0"
      ]
     },
     "execution_count": 140,
     "metadata": {},
     "output_type": "execute_result"
    }
   ],
   "source": [
    "coat_color_df.apply(lambda x: pd.to_numeric(x, errors='ignore'))\n",
    "coat_color_df.head()"
   ]
  },
  {
   "cell_type": "markdown",
   "metadata": {},
   "source": [
    "# Association tests between variant(s) and categorical phenotype\n",
    "We will first start testing SNPs for their association with an easily characterizable phenotype: coat color. As you could see in the slides, BXD mice come in different colors (black, brown, dilute) and as you know, hair color is heritable. In this task you will thus try to find candidate genes that are involved in coat color determination in the mouse population."
   ]
  },
  {
   "cell_type": "markdown",
   "metadata": {},
   "source": [
    "__Show head of genotype data__"
   ]
  },
  {
   "cell_type": "code",
   "execution_count": 141,
   "metadata": {
    "collapsed": false,
    "run_control": {
     "frozen": false,
     "read_only": false
    }
   },
   "outputs": [
    {
     "data": {
      "text/html": [
       "<div>\n",
       "<table border=\"1\" class=\"dataframe\">\n",
       "  <thead>\n",
       "    <tr style=\"text-align: right;\">\n",
       "      <th></th>\n",
       "      <th>Chr</th>\n",
       "      <th>cM</th>\n",
       "      <th>Mb</th>\n",
       "      <th>BXD1</th>\n",
       "      <th>BXD2</th>\n",
       "      <th>BXD5</th>\n",
       "      <th>BXD6</th>\n",
       "      <th>BXD8</th>\n",
       "      <th>BXD9</th>\n",
       "      <th>BXD11</th>\n",
       "      <th>...</th>\n",
       "      <th>BXD90</th>\n",
       "      <th>BXD91</th>\n",
       "      <th>BXD93</th>\n",
       "      <th>BXD94</th>\n",
       "      <th>BXD95</th>\n",
       "      <th>BXD98</th>\n",
       "      <th>BXD99</th>\n",
       "      <th>BXD100</th>\n",
       "      <th>BXD101</th>\n",
       "      <th>BXD102</th>\n",
       "    </tr>\n",
       "    <tr>\n",
       "      <th>Locus</th>\n",
       "      <th></th>\n",
       "      <th></th>\n",
       "      <th></th>\n",
       "      <th></th>\n",
       "      <th></th>\n",
       "      <th></th>\n",
       "      <th></th>\n",
       "      <th></th>\n",
       "      <th></th>\n",
       "      <th></th>\n",
       "      <th></th>\n",
       "      <th></th>\n",
       "      <th></th>\n",
       "      <th></th>\n",
       "      <th></th>\n",
       "      <th></th>\n",
       "      <th></th>\n",
       "      <th></th>\n",
       "      <th></th>\n",
       "      <th></th>\n",
       "      <th></th>\n",
       "    </tr>\n",
       "  </thead>\n",
       "  <tbody>\n",
       "    <tr>\n",
       "      <th>rs6269442</th>\n",
       "      <td>1</td>\n",
       "      <td>0.000</td>\n",
       "      <td>3.482275</td>\n",
       "      <td>0</td>\n",
       "      <td>0</td>\n",
       "      <td>2</td>\n",
       "      <td>2.0</td>\n",
       "      <td>2</td>\n",
       "      <td>0</td>\n",
       "      <td>0</td>\n",
       "      <td>...</td>\n",
       "      <td>0.0</td>\n",
       "      <td>2</td>\n",
       "      <td>0</td>\n",
       "      <td>2.0</td>\n",
       "      <td>2</td>\n",
       "      <td>0</td>\n",
       "      <td>0</td>\n",
       "      <td>0</td>\n",
       "      <td>0.0</td>\n",
       "      <td>0.0</td>\n",
       "    </tr>\n",
       "    <tr>\n",
       "      <th>rs6241531</th>\n",
       "      <td>1</td>\n",
       "      <td>2.367</td>\n",
       "      <td>9.995925</td>\n",
       "      <td>0</td>\n",
       "      <td>0</td>\n",
       "      <td>2</td>\n",
       "      <td>2.0</td>\n",
       "      <td>2</td>\n",
       "      <td>0</td>\n",
       "      <td>2</td>\n",
       "      <td>...</td>\n",
       "      <td>0.0</td>\n",
       "      <td>2</td>\n",
       "      <td>0</td>\n",
       "      <td>2.0</td>\n",
       "      <td>2</td>\n",
       "      <td>0</td>\n",
       "      <td>0</td>\n",
       "      <td>0</td>\n",
       "      <td>0.0</td>\n",
       "      <td>2.0</td>\n",
       "    </tr>\n",
       "    <tr>\n",
       "      <th>rs6360236</th>\n",
       "      <td>1</td>\n",
       "      <td>3.263</td>\n",
       "      <td>11.073904</td>\n",
       "      <td>0</td>\n",
       "      <td>0</td>\n",
       "      <td>2</td>\n",
       "      <td>2.0</td>\n",
       "      <td>2</td>\n",
       "      <td>0</td>\n",
       "      <td>2</td>\n",
       "      <td>...</td>\n",
       "      <td>0.0</td>\n",
       "      <td>2</td>\n",
       "      <td>0</td>\n",
       "      <td>2.0</td>\n",
       "      <td>2</td>\n",
       "      <td>0</td>\n",
       "      <td>0</td>\n",
       "      <td>0</td>\n",
       "      <td>0.0</td>\n",
       "      <td>2.0</td>\n",
       "    </tr>\n",
       "    <tr>\n",
       "      <th>rs3722996</th>\n",
       "      <td>1</td>\n",
       "      <td>3.263</td>\n",
       "      <td>11.259432</td>\n",
       "      <td>0</td>\n",
       "      <td>0</td>\n",
       "      <td>2</td>\n",
       "      <td>2.0</td>\n",
       "      <td>2</td>\n",
       "      <td>0</td>\n",
       "      <td>2</td>\n",
       "      <td>...</td>\n",
       "      <td>0.0</td>\n",
       "      <td>2</td>\n",
       "      <td>0</td>\n",
       "      <td>2.0</td>\n",
       "      <td>2</td>\n",
       "      <td>0</td>\n",
       "      <td>0</td>\n",
       "      <td>0</td>\n",
       "      <td>0.0</td>\n",
       "      <td>2.0</td>\n",
       "    </tr>\n",
       "    <tr>\n",
       "      <th>D1Mit1</th>\n",
       "      <td>1</td>\n",
       "      <td>3.549</td>\n",
       "      <td>11.505582</td>\n",
       "      <td>0</td>\n",
       "      <td>0</td>\n",
       "      <td>2</td>\n",
       "      <td>2.0</td>\n",
       "      <td>2</td>\n",
       "      <td>0</td>\n",
       "      <td>2</td>\n",
       "      <td>...</td>\n",
       "      <td>0.0</td>\n",
       "      <td>2</td>\n",
       "      <td>0</td>\n",
       "      <td>2.0</td>\n",
       "      <td>2</td>\n",
       "      <td>0</td>\n",
       "      <td>0</td>\n",
       "      <td>0</td>\n",
       "      <td>0.0</td>\n",
       "      <td>2.0</td>\n",
       "    </tr>\n",
       "  </tbody>\n",
       "</table>\n",
       "<p>5 rows × 96 columns</p>\n",
       "</div>"
      ],
      "text/plain": [
       "          Chr     cM         Mb  BXD1  BXD2  BXD5  BXD6  BXD8  BXD9  BXD11  \\\n",
       "Locus                                                                        \n",
       "rs6269442   1  0.000   3.482275     0     0     2   2.0     2     0      0   \n",
       "rs6241531   1  2.367   9.995925     0     0     2   2.0     2     0      2   \n",
       "rs6360236   1  3.263  11.073904     0     0     2   2.0     2     0      2   \n",
       "rs3722996   1  3.263  11.259432     0     0     2   2.0     2     0      2   \n",
       "D1Mit1      1  3.549  11.505582     0     0     2   2.0     2     0      2   \n",
       "\n",
       "            ...    BXD90  BXD91  BXD93  BXD94  BXD95  BXD98  BXD99  BXD100  \\\n",
       "Locus       ...                                                              \n",
       "rs6269442   ...      0.0      2      0    2.0      2      0      0       0   \n",
       "rs6241531   ...      0.0      2      0    2.0      2      0      0       0   \n",
       "rs6360236   ...      0.0      2      0    2.0      2      0      0       0   \n",
       "rs3722996   ...      0.0      2      0    2.0      2      0      0       0   \n",
       "D1Mit1      ...      0.0      2      0    2.0      2      0      0       0   \n",
       "\n",
       "           BXD101  BXD102  \n",
       "Locus                      \n",
       "rs6269442     0.0     0.0  \n",
       "rs6241531     0.0     2.0  \n",
       "rs6360236     0.0     2.0  \n",
       "rs3722996     0.0     2.0  \n",
       "D1Mit1        0.0     2.0  \n",
       "\n",
       "[5 rows x 96 columns]"
      ]
     },
     "execution_count": 141,
     "metadata": {},
     "output_type": "execute_result"
    }
   ],
   "source": [
    "genotype_df_mapped.head()"
   ]
  },
  {
   "cell_type": "markdown",
   "metadata": {},
   "source": [
    "## Task: Perfom association test for a single SNP using $\\chi^2$ test and odds ratio"
   ]
  },
  {
   "cell_type": "markdown",
   "metadata": {},
   "source": [
    "### Subtask: Extract row of a single SNP (e.g. rs6232550)"
   ]
  },
  {
   "cell_type": "markdown",
   "metadata": {},
   "source": [
    "__Extract using loc or ix__"
   ]
  },
  {
   "cell_type": "code",
   "execution_count": 142,
   "metadata": {
    "collapsed": false,
    "run_control": {
     "frozen": false,
     "read_only": false
    }
   },
   "outputs": [],
   "source": [
    "singleSNP = genotype_df_mapped.loc[\"rs6232550\"]"
   ]
  },
  {
   "cell_type": "markdown",
   "metadata": {},
   "source": [
    "__Check if it worked__"
   ]
  },
  {
   "cell_type": "code",
   "execution_count": 143,
   "metadata": {
    "collapsed": false,
    "run_control": {
     "frozen": false,
     "read_only": false
    }
   },
   "outputs": [
    {
     "data": {
      "text/plain": [
       "Chr             4\n",
       "cM         24.021\n",
       "Mb        40.9726\n",
       "BXD1            2\n",
       "BXD2            0\n",
       "BXD5            0\n",
       "BXD6            0\n",
       "BXD8            0\n",
       "BXD9            0\n",
       "BXD11           0\n",
       "BXD12           0\n",
       "BXD13           2\n",
       "BXD14           0\n",
       "BXD15           0\n",
       "BXD16           0\n",
       "BXD18           0\n",
       "BXD19           0\n",
       "BXD20           0\n",
       "BXD21           2\n",
       "BXD22           2\n",
       "BXD23           0\n",
       "BXD24           2\n",
       "BXD24a          2\n",
       "BXD25           2\n",
       "BXD27           0\n",
       "BXD28           0\n",
       "BXD29           0\n",
       "BXD30           2\n",
       "BXD31           0\n",
       "BXD32           0\n",
       "           ...   \n",
       "BXD70           2\n",
       "BXD71           0\n",
       "BXD72           0\n",
       "BXD73           1\n",
       "BXD73a          2\n",
       "BXD73b          2\n",
       "BXD74           2\n",
       "BXD75           0\n",
       "BXD76           0\n",
       "BXD77           0\n",
       "BXD78           0\n",
       "BXD79           2\n",
       "BXD81           0\n",
       "BXD83           2\n",
       "BXD84           2\n",
       "BXD85           0\n",
       "BXD86           0\n",
       "BXD87           1\n",
       "BXD88           2\n",
       "BXD89           0\n",
       "BXD90           2\n",
       "BXD91           0\n",
       "BXD93           0\n",
       "BXD94           2\n",
       "BXD95           0\n",
       "BXD98           2\n",
       "BXD99           2\n",
       "BXD100          2\n",
       "BXD101          2\n",
       "BXD102          2\n",
       "Name: rs6232550, dtype: object"
      ]
     },
     "execution_count": 143,
     "metadata": {},
     "output_type": "execute_result"
    }
   ],
   "source": [
    "singleSNP"
   ]
  },
  {
   "cell_type": "markdown",
   "metadata": {},
   "source": [
    "### Subtask: Remove all non-strain genotype columns"
   ]
  },
  {
   "cell_type": "code",
   "execution_count": 144,
   "metadata": {
    "collapsed": false,
    "run_control": {
     "frozen": false,
     "read_only": false
    }
   },
   "outputs": [
    {
     "data": {
      "text/plain": [
       "BXD2    0\n",
       "BXD5    0\n",
       "BXD6    0\n",
       "BXD8    0\n",
       "Name: rs6232550, dtype: object"
      ]
     },
     "execution_count": 144,
     "metadata": {},
     "output_type": "execute_result"
    }
   ],
   "source": [
    "# get the columns with \"BXD\" header\n",
    "Col = [i for i in genotype_df_mapped if \"BXD\" in i]\n",
    "\n",
    "singleSNP = singleSNP[Col]\n",
    "singleSNP[1:5]"
   ]
  },
  {
   "cell_type": "markdown",
   "metadata": {},
   "source": [
    "### Subtask: Transpose row so that it has the same format as the genotype data"
   ]
  },
  {
   "cell_type": "code",
   "execution_count": 145,
   "metadata": {
    "collapsed": false,
    "run_control": {
     "frozen": false,
     "read_only": false
    }
   },
   "outputs": [
    {
     "data": {
      "text/html": [
       "<div>\n",
       "<table border=\"1\" class=\"dataframe\">\n",
       "  <thead>\n",
       "    <tr style=\"text-align: right;\">\n",
       "      <th></th>\n",
       "      <th>BXD1</th>\n",
       "      <th>BXD2</th>\n",
       "      <th>BXD5</th>\n",
       "      <th>BXD6</th>\n",
       "      <th>BXD8</th>\n",
       "      <th>BXD9</th>\n",
       "      <th>BXD11</th>\n",
       "      <th>BXD12</th>\n",
       "      <th>BXD13</th>\n",
       "      <th>BXD14</th>\n",
       "      <th>...</th>\n",
       "      <th>BXD90</th>\n",
       "      <th>BXD91</th>\n",
       "      <th>BXD93</th>\n",
       "      <th>BXD94</th>\n",
       "      <th>BXD95</th>\n",
       "      <th>BXD98</th>\n",
       "      <th>BXD99</th>\n",
       "      <th>BXD100</th>\n",
       "      <th>BXD101</th>\n",
       "      <th>BXD102</th>\n",
       "    </tr>\n",
       "  </thead>\n",
       "  <tbody>\n",
       "    <tr>\n",
       "      <th>rs6232550</th>\n",
       "      <td>2</td>\n",
       "      <td>0</td>\n",
       "      <td>0</td>\n",
       "      <td>0</td>\n",
       "      <td>0</td>\n",
       "      <td>0</td>\n",
       "      <td>0</td>\n",
       "      <td>0</td>\n",
       "      <td>2</td>\n",
       "      <td>0</td>\n",
       "      <td>...</td>\n",
       "      <td>2</td>\n",
       "      <td>0</td>\n",
       "      <td>0</td>\n",
       "      <td>2</td>\n",
       "      <td>0</td>\n",
       "      <td>2</td>\n",
       "      <td>2</td>\n",
       "      <td>2</td>\n",
       "      <td>2</td>\n",
       "      <td>2</td>\n",
       "    </tr>\n",
       "  </tbody>\n",
       "</table>\n",
       "<p>1 rows × 93 columns</p>\n",
       "</div>"
      ],
      "text/plain": [
       "          BXD1 BXD2 BXD5 BXD6 BXD8 BXD9 BXD11 BXD12 BXD13 BXD14  ...   BXD90  \\\n",
       "rs6232550    2    0    0    0    0    0     0     0     2     0  ...       2   \n",
       "\n",
       "          BXD91 BXD93 BXD94 BXD95 BXD98 BXD99 BXD100 BXD101 BXD102  \n",
       "rs6232550     0     0     2     0     2     2      2      2      2  \n",
       "\n",
       "[1 rows x 93 columns]"
      ]
     },
     "execution_count": 145,
     "metadata": {},
     "output_type": "execute_result"
    }
   ],
   "source": [
    "singleSNP_t = singleSNP.to_frame().T\n",
    "singleSNP_t"
   ]
  },
  {
   "cell_type": "markdown",
   "metadata": {},
   "source": [
    "### Subtask: Combine SNP data with phenotype data"
   ]
  },
  {
   "cell_type": "code",
   "execution_count": 146,
   "metadata": {
    "collapsed": false,
    "run_control": {
     "frozen": false,
     "read_only": false
    }
   },
   "outputs": [],
   "source": [
    "joined_SNP = coat_color_df.join(singleSNP)\n",
    "joined_SNP.dropna(inplace=True)"
   ]
  },
  {
   "cell_type": "markdown",
   "metadata": {},
   "source": [
    "### Subtask: Check that the merging worked"
   ]
  },
  {
   "cell_type": "code",
   "execution_count": 147,
   "metadata": {
    "collapsed": false,
    "run_control": {
     "frozen": false,
     "read_only": false
    }
   },
   "outputs": [
    {
     "data": {
      "text/html": [
       "<div>\n",
       "<table border=\"1\" class=\"dataframe\">\n",
       "  <thead>\n",
       "    <tr style=\"text-align: right;\">\n",
       "      <th></th>\n",
       "      <th>coat color</th>\n",
       "      <th>rs6232550</th>\n",
       "    </tr>\n",
       "    <tr>\n",
       "      <th>0</th>\n",
       "      <th></th>\n",
       "      <th></th>\n",
       "    </tr>\n",
       "  </thead>\n",
       "  <tbody>\n",
       "    <tr>\n",
       "      <th>BXD1</th>\n",
       "      <td>1.0</td>\n",
       "      <td>2</td>\n",
       "    </tr>\n",
       "    <tr>\n",
       "      <th>BXD2</th>\n",
       "      <td>4.0</td>\n",
       "      <td>0</td>\n",
       "    </tr>\n",
       "    <tr>\n",
       "      <th>BXD5</th>\n",
       "      <td>3.0</td>\n",
       "      <td>0</td>\n",
       "    </tr>\n",
       "    <tr>\n",
       "      <th>BXD6</th>\n",
       "      <td>3.0</td>\n",
       "      <td>0</td>\n",
       "    </tr>\n",
       "    <tr>\n",
       "      <th>BXD8</th>\n",
       "      <td>3.0</td>\n",
       "      <td>0</td>\n",
       "    </tr>\n",
       "  </tbody>\n",
       "</table>\n",
       "</div>"
      ],
      "text/plain": [
       "      coat color rs6232550\n",
       "0                         \n",
       "BXD1         1.0         2\n",
       "BXD2         4.0         0\n",
       "BXD5         3.0         0\n",
       "BXD6         3.0         0\n",
       "BXD8         3.0         0"
      ]
     },
     "execution_count": 147,
     "metadata": {},
     "output_type": "execute_result"
    }
   ],
   "source": [
    "joined_SNP.columns=[\"coat color\", \"rs6232550\"]\n",
    "joined_SNP.head()"
   ]
  },
  {
   "cell_type": "markdown",
   "metadata": {},
   "source": [
    "### Subtask: Plot relationship between genotye and phenotype"
   ]
  },
  {
   "cell_type": "code",
   "execution_count": 148,
   "metadata": {
    "collapsed": false
   },
   "outputs": [
    {
     "data": {
      "image/png": "[encoded data removed]",
      "text/plain": [
       "<matplotlib.figure.Figure at 0xd2f8f98>"
      ]
     },
     "metadata": {},
     "output_type": "display_data"
    }
   ],
   "source": [
    "joined_SNP.plot(kind='scatter', x='coat color', y='rs6232550');"
   ]
  },
  {
   "cell_type": "code",
   "execution_count": null,
   "metadata": {
    "collapsed": true,
    "run_control": {
     "frozen": false,
     "read_only": false
    }
   },
   "outputs": [],
   "source": []
  },
  {
   "cell_type": "markdown",
   "metadata": {},
   "source": [
    "### Subtask: Create contingency table for a D-dominant inheritance model of black coat color and SNP rs6232550\n",
    "Tip: pandas' crosstabl functionality may be helpful here and the [reshaping/crosstab documentation](http://pandas-docs.github.io/pandas-docs-travis/reshaping.html) as illustrated in [this tutorial](http://wesmckinney.com/blog/contingency-tables-and-cross-tabulations-in-pandas/) may be helpful."
   ]
  },
  {
   "cell_type": "code",
   "execution_count": 160,
   "metadata": {
    "collapsed": false
   },
   "outputs": [
    {
     "data": {
      "text/html": [
       "<div>\n",
       "<table border=\"1\" class=\"dataframe\">\n",
       "  <thead>\n",
       "    <tr style=\"text-align: right;\">\n",
       "      <th></th>\n",
       "      <th>coat color</th>\n",
       "      <th>rs6232550</th>\n",
       "    </tr>\n",
       "    <tr>\n",
       "      <th>0</th>\n",
       "      <th></th>\n",
       "      <th></th>\n",
       "    </tr>\n",
       "  </thead>\n",
       "  <tbody>\n",
       "    <tr>\n",
       "      <th>BXD1</th>\n",
       "      <td>1.0</td>\n",
       "      <td>2</td>\n",
       "    </tr>\n",
       "    <tr>\n",
       "      <th>BXD2</th>\n",
       "      <td>4.0</td>\n",
       "      <td>0</td>\n",
       "    </tr>\n",
       "    <tr>\n",
       "      <th>BXD5</th>\n",
       "      <td>3.0</td>\n",
       "      <td>0</td>\n",
       "    </tr>\n",
       "    <tr>\n",
       "      <th>BXD6</th>\n",
       "      <td>3.0</td>\n",
       "      <td>0</td>\n",
       "    </tr>\n",
       "    <tr>\n",
       "      <th>BXD8</th>\n",
       "      <td>3.0</td>\n",
       "      <td>0</td>\n",
       "    </tr>\n",
       "  </tbody>\n",
       "</table>\n",
       "</div>"
      ],
      "text/plain": [
       "      coat color rs6232550\n",
       "0                         \n",
       "BXD1         1.0         2\n",
       "BXD2         4.0         0\n",
       "BXD5         3.0         0\n",
       "BXD6         3.0         0\n",
       "BXD8         3.0         0"
      ]
     },
     "execution_count": 160,
     "metadata": {},
     "output_type": "execute_result"
    }
   ],
   "source": [
    "joined_SNP.head()"
   ]
  },
  {
   "cell_type": "code",
   "execution_count": 211,
   "metadata": {
    "collapsed": false
   },
   "outputs": [
    {
     "data": {
      "text/html": [
       "<div>\n",
       "<table border=\"1\" class=\"dataframe\">\n",
       "  <thead>\n",
       "    <tr style=\"text-align: right;\">\n",
       "      <th></th>\n",
       "      <th>coat color</th>\n",
       "      <th>rs6232550</th>\n",
       "    </tr>\n",
       "    <tr>\n",
       "      <th>0</th>\n",
       "      <th></th>\n",
       "      <th></th>\n",
       "    </tr>\n",
       "  </thead>\n",
       "  <tbody>\n",
       "    <tr>\n",
       "      <th>BXD1</th>\n",
       "      <td>1.0</td>\n",
       "      <td>2</td>\n",
       "    </tr>\n",
       "    <tr>\n",
       "      <th>BXD2</th>\n",
       "      <td>4.0</td>\n",
       "      <td>0</td>\n",
       "    </tr>\n",
       "    <tr>\n",
       "      <th>BXD5</th>\n",
       "      <td>3.0</td>\n",
       "      <td>0</td>\n",
       "    </tr>\n",
       "    <tr>\n",
       "      <th>BXD6</th>\n",
       "      <td>3.0</td>\n",
       "      <td>0</td>\n",
       "    </tr>\n",
       "    <tr>\n",
       "      <th>BXD8</th>\n",
       "      <td>3.0</td>\n",
       "      <td>0</td>\n",
       "    </tr>\n",
       "    <tr>\n",
       "      <th>BXD9</th>\n",
       "      <td>1.0</td>\n",
       "      <td>0</td>\n",
       "    </tr>\n",
       "    <tr>\n",
       "      <th>BXD11</th>\n",
       "      <td>4.0</td>\n",
       "      <td>0</td>\n",
       "    </tr>\n",
       "    <tr>\n",
       "      <th>BXD12</th>\n",
       "      <td>3.0</td>\n",
       "      <td>0</td>\n",
       "    </tr>\n",
       "    <tr>\n",
       "      <th>BXD13</th>\n",
       "      <td>2.0</td>\n",
       "      <td>2</td>\n",
       "    </tr>\n",
       "    <tr>\n",
       "      <th>BXD14</th>\n",
       "      <td>4.0</td>\n",
       "      <td>0</td>\n",
       "    </tr>\n",
       "    <tr>\n",
       "      <th>BXD15</th>\n",
       "      <td>2.0</td>\n",
       "      <td>0</td>\n",
       "    </tr>\n",
       "    <tr>\n",
       "      <th>BXD16</th>\n",
       "      <td>3.0</td>\n",
       "      <td>0</td>\n",
       "    </tr>\n",
       "    <tr>\n",
       "      <th>BXD18</th>\n",
       "      <td>3.0</td>\n",
       "      <td>0</td>\n",
       "    </tr>\n",
       "    <tr>\n",
       "      <th>BXD19</th>\n",
       "      <td>3.0</td>\n",
       "      <td>0</td>\n",
       "    </tr>\n",
       "    <tr>\n",
       "      <th>BXD20</th>\n",
       "      <td>4.0</td>\n",
       "      <td>0</td>\n",
       "    </tr>\n",
       "    <tr>\n",
       "      <th>BXD21</th>\n",
       "      <td>1.0</td>\n",
       "      <td>2</td>\n",
       "    </tr>\n",
       "    <tr>\n",
       "      <th>BXD22</th>\n",
       "      <td>3.0</td>\n",
       "      <td>2</td>\n",
       "    </tr>\n",
       "    <tr>\n",
       "      <th>BXD23</th>\n",
       "      <td>4.0</td>\n",
       "      <td>0</td>\n",
       "    </tr>\n",
       "    <tr>\n",
       "      <th>BXD24</th>\n",
       "      <td>2.0</td>\n",
       "      <td>2</td>\n",
       "    </tr>\n",
       "    <tr>\n",
       "      <th>BXD24a</th>\n",
       "      <td>2.0</td>\n",
       "      <td>2</td>\n",
       "    </tr>\n",
       "    <tr>\n",
       "      <th>BXD25</th>\n",
       "      <td>2.0</td>\n",
       "      <td>2</td>\n",
       "    </tr>\n",
       "    <tr>\n",
       "      <th>BXD27</th>\n",
       "      <td>2.0</td>\n",
       "      <td>0</td>\n",
       "    </tr>\n",
       "    <tr>\n",
       "      <th>BXD28</th>\n",
       "      <td>2.0</td>\n",
       "      <td>0</td>\n",
       "    </tr>\n",
       "    <tr>\n",
       "      <th>BXD29</th>\n",
       "      <td>3.0</td>\n",
       "      <td>0</td>\n",
       "    </tr>\n",
       "    <tr>\n",
       "      <th>BXD30</th>\n",
       "      <td>1.0</td>\n",
       "      <td>2</td>\n",
       "    </tr>\n",
       "    <tr>\n",
       "      <th>BXD31</th>\n",
       "      <td>4.0</td>\n",
       "      <td>0</td>\n",
       "    </tr>\n",
       "    <tr>\n",
       "      <th>BXD32</th>\n",
       "      <td>4.0</td>\n",
       "      <td>0</td>\n",
       "    </tr>\n",
       "    <tr>\n",
       "      <th>BXD33</th>\n",
       "      <td>3.0</td>\n",
       "      <td>0</td>\n",
       "    </tr>\n",
       "    <tr>\n",
       "      <th>BXD34</th>\n",
       "      <td>4.0</td>\n",
       "      <td>0</td>\n",
       "    </tr>\n",
       "    <tr>\n",
       "      <th>BXD35</th>\n",
       "      <td>4.0</td>\n",
       "      <td>0</td>\n",
       "    </tr>\n",
       "    <tr>\n",
       "      <th>...</th>\n",
       "      <td>...</td>\n",
       "      <td>...</td>\n",
       "    </tr>\n",
       "    <tr>\n",
       "      <th>BXD70</th>\n",
       "      <td>1.0</td>\n",
       "      <td>2</td>\n",
       "    </tr>\n",
       "    <tr>\n",
       "      <th>BXD71</th>\n",
       "      <td>1.0</td>\n",
       "      <td>0</td>\n",
       "    </tr>\n",
       "    <tr>\n",
       "      <th>BXD72</th>\n",
       "      <td>2.0</td>\n",
       "      <td>0</td>\n",
       "    </tr>\n",
       "    <tr>\n",
       "      <th>BXD73</th>\n",
       "      <td>1.0</td>\n",
       "      <td>1</td>\n",
       "    </tr>\n",
       "    <tr>\n",
       "      <th>BXD73a</th>\n",
       "      <td>1.0</td>\n",
       "      <td>2</td>\n",
       "    </tr>\n",
       "    <tr>\n",
       "      <th>BXD73b</th>\n",
       "      <td>1.0</td>\n",
       "      <td>2</td>\n",
       "    </tr>\n",
       "    <tr>\n",
       "      <th>BXD74</th>\n",
       "      <td>2.0</td>\n",
       "      <td>2</td>\n",
       "    </tr>\n",
       "    <tr>\n",
       "      <th>BXD75</th>\n",
       "      <td>1.0</td>\n",
       "      <td>0</td>\n",
       "    </tr>\n",
       "    <tr>\n",
       "      <th>BXD76</th>\n",
       "      <td>3.0</td>\n",
       "      <td>0</td>\n",
       "    </tr>\n",
       "    <tr>\n",
       "      <th>BXD77</th>\n",
       "      <td>1.0</td>\n",
       "      <td>0</td>\n",
       "    </tr>\n",
       "    <tr>\n",
       "      <th>BXD78</th>\n",
       "      <td>2.0</td>\n",
       "      <td>0</td>\n",
       "    </tr>\n",
       "    <tr>\n",
       "      <th>BXD79</th>\n",
       "      <td>3.0</td>\n",
       "      <td>2</td>\n",
       "    </tr>\n",
       "    <tr>\n",
       "      <th>BXD81</th>\n",
       "      <td>1.0</td>\n",
       "      <td>0</td>\n",
       "    </tr>\n",
       "    <tr>\n",
       "      <th>BXD83</th>\n",
       "      <td>1.0</td>\n",
       "      <td>2</td>\n",
       "    </tr>\n",
       "    <tr>\n",
       "      <th>BXD84</th>\n",
       "      <td>1.0</td>\n",
       "      <td>2</td>\n",
       "    </tr>\n",
       "    <tr>\n",
       "      <th>BXD85</th>\n",
       "      <td>1.0</td>\n",
       "      <td>0</td>\n",
       "    </tr>\n",
       "    <tr>\n",
       "      <th>BXD86</th>\n",
       "      <td>4.0</td>\n",
       "      <td>0</td>\n",
       "    </tr>\n",
       "    <tr>\n",
       "      <th>BXD87</th>\n",
       "      <td>4.0</td>\n",
       "      <td>1</td>\n",
       "    </tr>\n",
       "    <tr>\n",
       "      <th>BXD88</th>\n",
       "      <td>2.0</td>\n",
       "      <td>2</td>\n",
       "    </tr>\n",
       "    <tr>\n",
       "      <th>BXD89</th>\n",
       "      <td>1.0</td>\n",
       "      <td>0</td>\n",
       "    </tr>\n",
       "    <tr>\n",
       "      <th>BXD90</th>\n",
       "      <td>1.0</td>\n",
       "      <td>2</td>\n",
       "    </tr>\n",
       "    <tr>\n",
       "      <th>BXD91</th>\n",
       "      <td>1.0</td>\n",
       "      <td>0</td>\n",
       "    </tr>\n",
       "    <tr>\n",
       "      <th>BXD93</th>\n",
       "      <td>1.0</td>\n",
       "      <td>0</td>\n",
       "    </tr>\n",
       "    <tr>\n",
       "      <th>BXD94</th>\n",
       "      <td>3.0</td>\n",
       "      <td>2</td>\n",
       "    </tr>\n",
       "    <tr>\n",
       "      <th>BXD95</th>\n",
       "      <td>1.0</td>\n",
       "      <td>0</td>\n",
       "    </tr>\n",
       "    <tr>\n",
       "      <th>BXD98</th>\n",
       "      <td>1.0</td>\n",
       "      <td>2</td>\n",
       "    </tr>\n",
       "    <tr>\n",
       "      <th>BXD99</th>\n",
       "      <td>1.0</td>\n",
       "      <td>2</td>\n",
       "    </tr>\n",
       "    <tr>\n",
       "      <th>BXD100</th>\n",
       "      <td>4.0</td>\n",
       "      <td>2</td>\n",
       "    </tr>\n",
       "    <tr>\n",
       "      <th>BXD101</th>\n",
       "      <td>3.0</td>\n",
       "      <td>2</td>\n",
       "    </tr>\n",
       "    <tr>\n",
       "      <th>BXD102</th>\n",
       "      <td>2.0</td>\n",
       "      <td>2</td>\n",
       "    </tr>\n",
       "  </tbody>\n",
       "</table>\n",
       "<p>90 rows × 2 columns</p>\n",
       "</div>"
      ],
      "text/plain": [
       "        coat color rs6232550\n",
       "0                           \n",
       "BXD1           1.0         2\n",
       "BXD2           4.0         0\n",
       "BXD5           3.0         0\n",
       "BXD6           3.0         0\n",
       "BXD8           3.0         0\n",
       "BXD9           1.0         0\n",
       "BXD11          4.0         0\n",
       "BXD12          3.0         0\n",
       "BXD13          2.0         2\n",
       "BXD14          4.0         0\n",
       "BXD15          2.0         0\n",
       "BXD16          3.0         0\n",
       "BXD18          3.0         0\n",
       "BXD19          3.0         0\n",
       "BXD20          4.0         0\n",
       "BXD21          1.0         2\n",
       "BXD22          3.0         2\n",
       "BXD23          4.0         0\n",
       "BXD24          2.0         2\n",
       "BXD24a         2.0         2\n",
       "BXD25          2.0         2\n",
       "BXD27          2.0         0\n",
       "BXD28          2.0         0\n",
       "BXD29          3.0         0\n",
       "BXD30          1.0         2\n",
       "BXD31          4.0         0\n",
       "BXD32          4.0         0\n",
       "BXD33          3.0         0\n",
       "BXD34          4.0         0\n",
       "BXD35          4.0         0\n",
       "...            ...       ...\n",
       "BXD70          1.0         2\n",
       "BXD71          1.0         0\n",
       "BXD72          2.0         0\n",
       "BXD73          1.0         1\n",
       "BXD73a         1.0         2\n",
       "BXD73b         1.0         2\n",
       "BXD74          2.0         2\n",
       "BXD75          1.0         0\n",
       "BXD76          3.0         0\n",
       "BXD77          1.0         0\n",
       "BXD78          2.0         0\n",
       "BXD79          3.0         2\n",
       "BXD81          1.0         0\n",
       "BXD83          1.0         2\n",
       "BXD84          1.0         2\n",
       "BXD85          1.0         0\n",
       "BXD86          4.0         0\n",
       "BXD87          4.0         1\n",
       "BXD88          2.0         2\n",
       "BXD89          1.0         0\n",
       "BXD90          1.0         2\n",
       "BXD91          1.0         0\n",
       "BXD93          1.0         0\n",
       "BXD94          3.0         2\n",
       "BXD95          1.0         0\n",
       "BXD98          1.0         2\n",
       "BXD99          1.0         2\n",
       "BXD100         4.0         2\n",
       "BXD101         3.0         2\n",
       "BXD102         2.0         2\n",
       "\n",
       "[90 rows x 2 columns]"
      ]
     },
     "execution_count": 211,
     "metadata": {},
     "output_type": "execute_result"
    }
   ],
   "source": [
    "\n",
    "\n",
    "joined_SNP"
   ]
  },
  {
   "cell_type": "code",
   "execution_count": 254,
   "metadata": {
    "collapsed": false
   },
   "outputs": [],
   "source": [
    "# black: 4\n",
    "# D: 2\n",
    "# M: 0\n",
    "\n",
    "not_black_mother = 0\n",
    "not_black_father = 0\n",
    "black_mother = 0\n",
    "black_father = 0\n",
    "\n",
    "for row in joined_SNP.itertuples():\n",
    "    \n",
    "    # color is not black:\n",
    "    if(int(row[1]) is not 4):\n",
    "        \n",
    "        # mother \n",
    "        if(int(row[2]) is 0):\n",
    "            not_black_mother += 1\n",
    "            \n",
    "        # father\n",
    "        elif(int(row[2]) is 2):\n",
    "            not_black_father += 1\n",
    "    else:\n",
    "        # mother \n",
    "        if(int(row[2]) is 0):\n",
    "            black_mother += 1\n",
    "            \n",
    "        # father\n",
    "        elif(int(row[2]) is 2):\n",
    "            black_father += 1\n",
    "    \n",
    "# integers in the title are for sorting the columns\n",
    "\n",
    "d = {'m/m' : pd.Series([black_mother, not_black_mother, black_mother+not_black_mother], \n",
    "                       index=['Black', 'Not Black', 'Total']),\n",
    "     'D/m, D/D' : pd.Series([black_father, not_black_father, black_father+not_black_father], \n",
    "                            index=['Black', 'Not Black', 'Total']),\n",
    "    'total' : pd.Series([black_father+black_mother, not_black_father+not_black_mother, \n",
    "                         black_mother+not_black_mother+black_father+not_black_father], \n",
    "                            index=['Black', 'Not Black', 'Total'])}    \n",
    "\n",
    "contigency_table = pd.DataFrame(d)"
   ]
  },
  {
   "cell_type": "markdown",
   "metadata": {},
   "source": [
    "__Show table__"
   ]
  },
  {
   "cell_type": "code",
   "execution_count": 255,
   "metadata": {
    "collapsed": false,
    "run_control": {
     "frozen": false,
     "read_only": false
    }
   },
   "outputs": [
    {
     "data": {
      "text/html": [
       "<div>\n",
       "<table border=\"1\" class=\"dataframe\">\n",
       "  <thead>\n",
       "    <tr style=\"text-align: right;\">\n",
       "      <th></th>\n",
       "      <th>D/m, D/D</th>\n",
       "      <th>m/m</th>\n",
       "      <th>total</th>\n",
       "    </tr>\n",
       "  </thead>\n",
       "  <tbody>\n",
       "    <tr>\n",
       "      <th>Black</th>\n",
       "      <td>7</td>\n",
       "      <td>11</td>\n",
       "      <td>18</td>\n",
       "    </tr>\n",
       "    <tr>\n",
       "      <th>Not Black</th>\n",
       "      <td>38</td>\n",
       "      <td>32</td>\n",
       "      <td>70</td>\n",
       "    </tr>\n",
       "    <tr>\n",
       "      <th>Total</th>\n",
       "      <td>45</td>\n",
       "      <td>43</td>\n",
       "      <td>88</td>\n",
       "    </tr>\n",
       "  </tbody>\n",
       "</table>\n",
       "</div>"
      ],
      "text/plain": [
       "           D/m, D/D  m/m  total\n",
       "Black             7   11     18\n",
       "Not Black        38   32     70\n",
       "Total            45   43     88"
      ]
     },
     "execution_count": 255,
     "metadata": {},
     "output_type": "execute_result"
    }
   ],
   "source": [
    "contigency_table"
   ]
  },
  {
   "cell_type": "markdown",
   "metadata": {},
   "source": [
    "### Subtask: Perform $\\chi^2$ square test for independence on the contingency table"
   ]
  },
  {
   "cell_type": "code",
   "execution_count": 180,
   "metadata": {
    "collapsed": true,
    "run_control": {
     "frozen": false,
     "read_only": false
    }
   },
   "outputs": [],
   "source": [
    "from scipy.stats import chi2\n",
    "from scipy.stats import chi2_contingency"
   ]
  },
  {
   "cell_type": "code",
   "execution_count": 187,
   "metadata": {
    "collapsed": false,
    "run_control": {
     "frozen": false,
     "read_only": false
    }
   },
   "outputs": [
    {
     "name": "stdout",
     "output_type": "stream",
     "text": [
      "The p value for the given contigency table is 0.796539643991.\n"
     ]
    }
   ],
   "source": [
    "chi3, p, dof, ex = chi2_contingency(contigency_table)\n",
    "\n",
    "p = 1-chi2.cdf(chi3, dof)\n",
    "print(\"The p value for the given contigency table is \" + str(p) + \".\")"
   ]
  },
  {
   "cell_type": "code",
   "execution_count": 184,
   "metadata": {
    "collapsed": false
   },
   "outputs": [
    {
     "data": {
      "text/plain": [
       "0.79653964399143939"
      ]
     },
     "execution_count": 184,
     "metadata": {},
     "output_type": "execute_result"
    }
   ],
   "source": [
    "# variante 2:\n",
    "\n",
    "p2 = chi2.sf(chi3, dof)\n",
    "p2"
   ]
  },
  {
   "cell_type": "markdown",
   "metadata": {},
   "source": [
    "### Subtask: Write function to calculate odds ratio from a contingency table"
   ]
  },
  {
   "cell_type": "code",
   "execution_count": 258,
   "metadata": {
    "collapsed": true,
    "run_control": {
     "frozen": false,
     "read_only": false
    }
   },
   "outputs": [],
   "source": [
    "def calculate_odds_ratio(cont_table):\n",
    "    \"\"\" Calculates the odds ratio based on the contigency table.\n",
    "    \n",
    "    \n",
    "    \n",
    "    \"\"\"\n",
    "    \n",
    "    c_table = cont_table.as_matrix()\n",
    "    c_table = c_table.astype(float)\n",
    "\n",
    "    return (c_table[0,0]/c_table[1,0])/(c_table[0,1]/c_table[1,1])\n",
    "    \n",
    "    "
   ]
  },
  {
   "cell_type": "code",
   "execution_count": 259,
   "metadata": {
    "collapsed": false,
    "run_control": {
     "frozen": false,
     "read_only": false
    }
   },
   "outputs": [
    {
     "data": {
      "text/plain": [
       "0.53588516746411485"
      ]
     },
     "execution_count": 259,
     "metadata": {},
     "output_type": "execute_result"
    }
   ],
   "source": [
    "calculate_odds_ratio(contigency_table)"
   ]
  },
  {
   "cell_type": "markdown",
   "metadata": {},
   "source": [
    "## Task: extend statistical method for a penetrance model in which increasing numbers of A alleles confer a trend in risk (e.g. additive or dominant)"
   ]
  },
  {
   "cell_type": "markdown",
   "metadata": {},
   "source": [
    "While you can model most of the penetrance models described in the lecture in a 2x2 contingency table and thus perform a $\\chi^2$ test with one degree of freedom, it may sometimes be useful to consider the full complexity of a genotype contigency table considering all three possible genotypes instead of just two (even though the latter has larger statistical power). Apart from a $\\chi^2$ test with two degrees of freedom, the Cochran–Armitage trend test is commonly used in genetic association tests as this has often larger statistical power. In this case, if the exact model of penetrance is not known, an additive approach is often used. \n",
    "\n",
    "You can read more about basic statistical approaches in genetic association tests in the following paper:\n",
    "\n",
    "__Clarke, G. M. et al. [Basic statistical analysis in genetic case-control studies](http://www.nature.com/nprot/journal/v6/n2/full/nprot.2010.182.html). Nat Protoc 6, 121–133 (2011).__\n"
   ]
  },
  {
   "cell_type": "markdown",
   "metadata": {},
   "source": [
    "### Subtask: Given the data you have, could you calculate this type of statistic for your data?\n",
    "\n",
    "* If yes, please implement the creation of a contingency table and the test.\n",
    "* If no, please explain why."
   ]
  },
  {
   "cell_type": "markdown",
   "metadata": {
    "collapsed": true,
    "run_control": {
     "frozen": false,
     "read_only": false
    }
   },
   "source": [
    "No, the statistic wouldn't make sense considering our data. We need to have at least 3 different categories (we have maternal, paternal and heterozygous) which should have reasonable sample sizes. Unfortunately we have very few heterozygous datapoints.   "
   ]
  },
  {
   "cell_type": "code",
   "execution_count": null,
   "metadata": {
    "collapsed": true,
    "run_control": {
     "frozen": false,
     "read_only": false
    }
   },
   "outputs": [],
   "source": []
  },
  {
   "cell_type": "markdown",
   "metadata": {},
   "source": [
    "## Task: Refactor previous analysis steps into a function and apply to all SNPs\n",
    "\n",
    "Things to consider:\n",
    "* What information is needed as input in each round?\n",
    "* Do you want to support $\\chi^2$ and Cochran–Armitage test?\n",
    "* What information as output is needed?\n",
    "* Should multiple inheritance models be included?\n",
    "* Should the user get to chose which hair color to test?"
   ]
  },
  {
   "cell_type": "code",
   "execution_count": 268,
   "metadata": {
    "collapsed": true
   },
   "outputs": [],
   "source": [
    "def calculate_odds_ratio(cont_table):\n",
    "    \"\"\" Calculates the odds ratio based on the contigency table.\n",
    "    \n",
    "        cont_table: the contigency table \n",
    "        @return: odds ratio for the given contigency table\n",
    "    \"\"\"\n",
    "    \n",
    "    # convert dataframe to matrix\n",
    "    c_table = cont_table.as_matrix()\n",
    "\n",
    "    # change type to float\n",
    "    c_table = c_table.astype(float)\n",
    "\n",
    "    return (c_table[0,0]/c_table[1,0])/(c_table[0,1]/c_table[1,1])"
   ]
  },
  {
   "cell_type": "code",
   "execution_count": 308,
   "metadata": {
    "collapsed": false
   },
   "outputs": [],
   "source": [
    "def create_contigency_table(joined_SNP_, color_=\"black\"):\n",
    "    \"\"\" creates the contigency table of the color color \n",
    "\n",
    "        joined_SNP_: dataframe containing the joined SNPs\n",
    "        color: color to create the contigency table\n",
    "    \n",
    "    \"\"\"\n",
    "\n",
    "    # dictionary to map the colors to int\n",
    "    color_dict = {\"black\" : 4, \"grey\" : 3, \"brown\": 2, \"dilute\": 1}\n",
    "    \n",
    "    # get the int for the given color\n",
    "    int_color = color_dict[color_]\n",
    "\n",
    "    # variables to count\n",
    "    not_color_mother = 0\n",
    "    not_color_father = 0\n",
    "    color_mother = 0\n",
    "    color_father = 0\n",
    "\n",
    "    # iterate over each row in dataframe\n",
    "    for row in joined_SNP_.itertuples():\n",
    "    \n",
    "        # color is not color:\n",
    "        if(int(row[1]) is not int_color):\n",
    "        \n",
    "            # mother \n",
    "            if(int(row[2]) is 0):\n",
    "                not_color_mother += 1\n",
    "            \n",
    "            # father\n",
    "            elif(int(row[2]) is 2):\n",
    "                not_color_father += 1\n",
    "        else:\n",
    "            # mother \n",
    "            if(int(row[2]) is 0):\n",
    "                color_mother += 1\n",
    "            \n",
    "            # father\n",
    "            elif(int(row[2]) is 2):\n",
    "                color_father += 1\n",
    "    \n",
    "    # create the dataframe with the counts\n",
    "    d = {'m/m' : pd.Series([color_mother, not_color_mother, color_mother+not_color_mother], \n",
    "                       index=['Color', 'Not Color', 'Total']),\n",
    "         'D/m, D/D' : pd.Series([color_father, not_color_father, color_father+not_color_father], \n",
    "                            index=['Color', 'Not Color', 'Total']),\n",
    "         'total' : pd.Series([color_father+color_mother, not_color_father+not_color_mother, \n",
    "                         color_mother+not_color_mother+color_father+not_color_father], \n",
    "                            index=['Color', 'Not Color', 'Total'])}    \n",
    "\n",
    "    return pd.DataFrame(d)    "
   ]
  },
  {
   "cell_type": "code",
   "execution_count": 356,
   "metadata": {
    "collapsed": false,
    "run_control": {
     "frozen": false,
     "read_only": false
    }
   },
   "outputs": [],
   "source": [
    "def association_test(genotype_df_1, phenotyp_df_1, strainheader=\"BXD\", color__=\"black\", verbose=False):\n",
    "    \"\"\" runs a association test on the genome dataframe and the color dataframe using strainheader \n",
    "    strainheader and color color__\n",
    "    \n",
    "        genotype_df_1: the genometype dataframe\n",
    "        phenotyp_df_1: the phenotype dataframe\n",
    "        strainheader: the strainheader to use\n",
    "        color__: the color to use    \n",
    "        verbose: boolean decides whether there is an output\n",
    "    \"\"\" \n",
    "    \n",
    "    \n",
    "    list_of_genes = []\n",
    "    list_of_p_values = []\n",
    "    list_of_chromosomes = []\n",
    "    \n",
    "    \n",
    "    # get all SNPs in the dataframe\n",
    "    for a in list(genotype_df_1.index):\n",
    "        single_SNP_ = genotype_df_1.loc[a]\n",
    "        \n",
    "        chrom = single_SNP_.loc[\"Chr\"]\n",
    "        \n",
    "        ### remove all non-strain genotype columns:\n",
    "        \n",
    "        # get the columns with \"BXD\" header\n",
    "        cols = [i for i in genotype_df_1 if strainheader in i]\n",
    "        single_SNP_ = single_SNP_[cols]\n",
    "\n",
    "        # combine snp data with phenotype data\n",
    "        joined_SNP_ = phenotyp_df_1.join(single_SNP_)\n",
    "        joined_SNP_.dropna(inplace=True)\n",
    "\n",
    "\n",
    "        ### create contingency table for color x\n",
    "\n",
    "        contingency_table_ = create_contigency_table(joined_SNP_, color__)\n",
    "       \n",
    "        ### perform chi^2 test \n",
    "        chi3, p, dof, ex = chi2_contingency(contingency_table_)\n",
    "        \n",
    "        ### calculate odds ratio\n",
    "        odds = calculate_odds_ratio(contingency_table_)\n",
    "       \n",
    "        if verbose:\n",
    "            print(\"Analyzing \" + str(a) + \", using strainheader = \" + strainheader + \" and color = \" + color__ + \".\")\n",
    "            print(contigency_table)\n",
    "            print(\"The p-value for \" + str(a) + \" is \" + str(p) + \".\") \n",
    "            print(\"The odds ratio based on the contigency table is \" + str(odds) + \".\")\n",
    "            print(\"\")\n",
    "        \n",
    "        list_of_genes.append(str(a))\n",
    "        list_of_p_values.append(p)\n",
    "        #list_of_chromosomes.append('ch-%i' % int(test))\n",
    "        #list_of_chromosomes.append('ch-%i' % int(20))\n",
    "        \n",
    "        try:\n",
    "            temp = int(chrom)\n",
    "            list_of_chromosomes.append('ch-%i' % temp)\n",
    "        except:\n",
    "            list_of_chromosomes.append('ch-%i' % 20)\n",
    "        \n",
    "        #print(type(chrom))\n",
    "        \n",
    "        #if chrom is \"X\":\n",
    "        #    chrom = 20\n",
    "        #list_of_chromosomes.append('ch-%i' % int(chrom))\n",
    "        #break\n",
    "        \n",
    "        \n",
    "# some sample data\n",
    "#df = pd.DataFrame({'gene' : ['gene-%i' % i for i in np.arange(10000)],\n",
    "#'pvalue' : uniform.rvs(size=10000),\n",
    "#'chromosome' : ['ch-%i' % i for i in randint.rvs(0,12,size=10000)]})\n",
    "    \n",
    "    result_df = pd.DataFrame({'gene' : list_of_genes,\n",
    "                           'pvalue' : list_of_p_values,\n",
    "                           'chromosome' : list_of_chromosomes})\n",
    "    \n",
    "    \n",
    "    return result_df\n",
    "        "
   ]
  },
  {
   "cell_type": "code",
   "execution_count": 357,
   "metadata": {
    "collapsed": false
   },
   "outputs": [],
   "source": [
    "resulting_df = association_test(genotype_df_mapped,coat_color_df)#.head()\n",
    "\n",
    "\n",
    "#association_test(genotype_df_mapped, coat_color_df, color__=\"grey\")\n",
    "\n",
    "#association_test(genotype_df_mapped, coat_color_df, color__=\"brown\")\n",
    "\n",
    "#association_test(genotype_df_mapped, coat_color_df, color__=\"dilute\")\n",
    "\n"
   ]
  },
  {
   "cell_type": "code",
   "execution_count": 358,
   "metadata": {
    "collapsed": false,
    "run_control": {
     "frozen": false,
     "read_only": false
    }
   },
   "outputs": [
    {
     "data": {
      "text/html": [
       "<div>\n",
       "<table border=\"1\" class=\"dataframe\">\n",
       "  <thead>\n",
       "    <tr style=\"text-align: right;\">\n",
       "      <th></th>\n",
       "      <th>chromosome</th>\n",
       "      <th>gene</th>\n",
       "      <th>pvalue</th>\n",
       "    </tr>\n",
       "  </thead>\n",
       "  <tbody>\n",
       "    <tr>\n",
       "      <th>0</th>\n",
       "      <td>ch-1</td>\n",
       "      <td>rs6269442</td>\n",
       "      <td>0.077552</td>\n",
       "    </tr>\n",
       "    <tr>\n",
       "      <th>1</th>\n",
       "      <td>ch-1</td>\n",
       "      <td>rs6241531</td>\n",
       "      <td>0.521760</td>\n",
       "    </tr>\n",
       "    <tr>\n",
       "      <th>2</th>\n",
       "      <td>ch-1</td>\n",
       "      <td>rs6360236</td>\n",
       "      <td>0.348160</td>\n",
       "    </tr>\n",
       "    <tr>\n",
       "      <th>3</th>\n",
       "      <td>ch-1</td>\n",
       "      <td>rs3722996</td>\n",
       "      <td>0.348160</td>\n",
       "    </tr>\n",
       "    <tr>\n",
       "      <th>4</th>\n",
       "      <td>ch-1</td>\n",
       "      <td>D1Mit1</td>\n",
       "      <td>0.294961</td>\n",
       "    </tr>\n",
       "    <tr>\n",
       "      <th>5</th>\n",
       "      <td>ch-1</td>\n",
       "      <td>D1Mit294</td>\n",
       "      <td>0.320699</td>\n",
       "    </tr>\n",
       "    <tr>\n",
       "      <th>6</th>\n",
       "      <td>ch-1</td>\n",
       "      <td>rs13475728</td>\n",
       "      <td>0.320699</td>\n",
       "    </tr>\n",
       "    <tr>\n",
       "      <th>7</th>\n",
       "      <td>ch-1</td>\n",
       "      <td>rs3655978</td>\n",
       "      <td>0.984628</td>\n",
       "    </tr>\n",
       "    <tr>\n",
       "      <th>8</th>\n",
       "      <td>ch-1</td>\n",
       "      <td>rs3654866</td>\n",
       "      <td>0.984628</td>\n",
       "    </tr>\n",
       "    <tr>\n",
       "      <th>9</th>\n",
       "      <td>ch-1</td>\n",
       "      <td>rs3669485</td>\n",
       "      <td>0.971559</td>\n",
       "    </tr>\n",
       "    <tr>\n",
       "      <th>10</th>\n",
       "      <td>ch-1</td>\n",
       "      <td>rs3713198</td>\n",
       "      <td>0.971559</td>\n",
       "    </tr>\n",
       "    <tr>\n",
       "      <th>11</th>\n",
       "      <td>ch-1</td>\n",
       "      <td>rs6291839</td>\n",
       "      <td>0.978759</td>\n",
       "    </tr>\n",
       "    <tr>\n",
       "      <th>12</th>\n",
       "      <td>ch-1</td>\n",
       "      <td>rs13475735</td>\n",
       "      <td>0.978759</td>\n",
       "    </tr>\n",
       "    <tr>\n",
       "      <th>13</th>\n",
       "      <td>ch-1</td>\n",
       "      <td>rs3088964</td>\n",
       "      <td>0.989119</td>\n",
       "    </tr>\n",
       "    <tr>\n",
       "      <th>14</th>\n",
       "      <td>ch-1</td>\n",
       "      <td>rs13475737</td>\n",
       "      <td>0.989119</td>\n",
       "    </tr>\n",
       "    <tr>\n",
       "      <th>15</th>\n",
       "      <td>ch-1</td>\n",
       "      <td>rs3678179</td>\n",
       "      <td>0.919629</td>\n",
       "    </tr>\n",
       "    <tr>\n",
       "      <th>16</th>\n",
       "      <td>ch-1</td>\n",
       "      <td>rs3670611</td>\n",
       "      <td>0.974830</td>\n",
       "    </tr>\n",
       "    <tr>\n",
       "      <th>17</th>\n",
       "      <td>ch-1</td>\n",
       "      <td>rs6404446</td>\n",
       "      <td>0.874803</td>\n",
       "    </tr>\n",
       "    <tr>\n",
       "      <th>18</th>\n",
       "      <td>ch-1</td>\n",
       "      <td>gnf01.018.340</td>\n",
       "      <td>0.874803</td>\n",
       "    </tr>\n",
       "    <tr>\n",
       "      <th>19</th>\n",
       "      <td>ch-1</td>\n",
       "      <td>rs6253968</td>\n",
       "      <td>0.778945</td>\n",
       "    </tr>\n",
       "    <tr>\n",
       "      <th>20</th>\n",
       "      <td>ch-1</td>\n",
       "      <td>rs3711079</td>\n",
       "      <td>0.778945</td>\n",
       "    </tr>\n",
       "    <tr>\n",
       "      <th>21</th>\n",
       "      <td>ch-1</td>\n",
       "      <td>mCV23695025</td>\n",
       "      <td>0.683799</td>\n",
       "    </tr>\n",
       "    <tr>\n",
       "      <th>22</th>\n",
       "      <td>ch-1</td>\n",
       "      <td>rs13475762</td>\n",
       "      <td>0.683799</td>\n",
       "    </tr>\n",
       "    <tr>\n",
       "      <th>23</th>\n",
       "      <td>ch-1</td>\n",
       "      <td>rs6316488</td>\n",
       "      <td>0.658113</td>\n",
       "    </tr>\n",
       "    <tr>\n",
       "      <th>24</th>\n",
       "      <td>ch-1</td>\n",
       "      <td>rs3659806</td>\n",
       "      <td>0.658113</td>\n",
       "    </tr>\n",
       "    <tr>\n",
       "      <th>25</th>\n",
       "      <td>ch-1</td>\n",
       "      <td>rs13475765</td>\n",
       "      <td>0.522755</td>\n",
       "    </tr>\n",
       "    <tr>\n",
       "      <th>26</th>\n",
       "      <td>ch-1</td>\n",
       "      <td>rs4222215</td>\n",
       "      <td>0.522755</td>\n",
       "    </tr>\n",
       "    <tr>\n",
       "      <th>27</th>\n",
       "      <td>ch-1</td>\n",
       "      <td>rs3677683</td>\n",
       "      <td>0.698513</td>\n",
       "    </tr>\n",
       "    <tr>\n",
       "      <th>28</th>\n",
       "      <td>ch-1</td>\n",
       "      <td>rs3713281</td>\n",
       "      <td>0.698513</td>\n",
       "    </tr>\n",
       "    <tr>\n",
       "      <th>29</th>\n",
       "      <td>ch-1</td>\n",
       "      <td>rs6384194</td>\n",
       "      <td>0.463651</td>\n",
       "    </tr>\n",
       "    <tr>\n",
       "      <th>...</th>\n",
       "      <td>...</td>\n",
       "      <td>...</td>\n",
       "      <td>...</td>\n",
       "    </tr>\n",
       "    <tr>\n",
       "      <th>2575</th>\n",
       "      <td>ch-20</td>\n",
       "      <td>rs13483769</td>\n",
       "      <td>0.999522</td>\n",
       "    </tr>\n",
       "    <tr>\n",
       "      <th>2576</th>\n",
       "      <td>ch-20</td>\n",
       "      <td>rs13483770</td>\n",
       "      <td>0.975409</td>\n",
       "    </tr>\n",
       "    <tr>\n",
       "      <th>2577</th>\n",
       "      <td>ch-20</td>\n",
       "      <td>gnfX.044.260</td>\n",
       "      <td>0.998169</td>\n",
       "    </tr>\n",
       "    <tr>\n",
       "      <th>2578</th>\n",
       "      <td>ch-20</td>\n",
       "      <td>rs13483785</td>\n",
       "      <td>0.974830</td>\n",
       "    </tr>\n",
       "    <tr>\n",
       "      <th>2579</th>\n",
       "      <td>ch-20</td>\n",
       "      <td>rs13483786</td>\n",
       "      <td>0.974830</td>\n",
       "    </tr>\n",
       "    <tr>\n",
       "      <th>2580</th>\n",
       "      <td>ch-20</td>\n",
       "      <td>rs13483822</td>\n",
       "      <td>0.988947</td>\n",
       "    </tr>\n",
       "    <tr>\n",
       "      <th>2581</th>\n",
       "      <td>ch-20</td>\n",
       "      <td>DXMit1</td>\n",
       "      <td>0.978283</td>\n",
       "    </tr>\n",
       "    <tr>\n",
       "      <th>2582</th>\n",
       "      <td>ch-20</td>\n",
       "      <td>rs13483823</td>\n",
       "      <td>0.978283</td>\n",
       "    </tr>\n",
       "    <tr>\n",
       "      <th>2583</th>\n",
       "      <td>ch-20</td>\n",
       "      <td>rs13483824</td>\n",
       "      <td>0.962215</td>\n",
       "    </tr>\n",
       "    <tr>\n",
       "      <th>2584</th>\n",
       "      <td>ch-20</td>\n",
       "      <td>CEL-X_71104123</td>\n",
       "      <td>0.962215</td>\n",
       "    </tr>\n",
       "    <tr>\n",
       "      <th>2585</th>\n",
       "      <td>ch-20</td>\n",
       "      <td>CEL-X_71438949</td>\n",
       "      <td>0.962215</td>\n",
       "    </tr>\n",
       "    <tr>\n",
       "      <th>2586</th>\n",
       "      <td>ch-20</td>\n",
       "      <td>rs13483864</td>\n",
       "      <td>0.962215</td>\n",
       "    </tr>\n",
       "    <tr>\n",
       "      <th>2587</th>\n",
       "      <td>ch-20</td>\n",
       "      <td>rs13483868</td>\n",
       "      <td>0.862518</td>\n",
       "    </tr>\n",
       "    <tr>\n",
       "      <th>2588</th>\n",
       "      <td>ch-20</td>\n",
       "      <td>rs13483805</td>\n",
       "      <td>0.862518</td>\n",
       "    </tr>\n",
       "    <tr>\n",
       "      <th>2589</th>\n",
       "      <td>ch-20</td>\n",
       "      <td>gnfX.076.619</td>\n",
       "      <td>0.901001</td>\n",
       "    </tr>\n",
       "    <tr>\n",
       "      <th>2590</th>\n",
       "      <td>ch-20</td>\n",
       "      <td>rs13483881</td>\n",
       "      <td>0.901001</td>\n",
       "    </tr>\n",
       "    <tr>\n",
       "      <th>2591</th>\n",
       "      <td>ch-20</td>\n",
       "      <td>rs6205221</td>\n",
       "      <td>0.967842</td>\n",
       "    </tr>\n",
       "    <tr>\n",
       "      <th>2592</th>\n",
       "      <td>ch-20</td>\n",
       "      <td>rs6387944</td>\n",
       "      <td>0.982020</td>\n",
       "    </tr>\n",
       "    <tr>\n",
       "      <th>2593</th>\n",
       "      <td>ch-20</td>\n",
       "      <td>rs13483992</td>\n",
       "      <td>0.982020</td>\n",
       "    </tr>\n",
       "    <tr>\n",
       "      <th>2594</th>\n",
       "      <td>ch-20</td>\n",
       "      <td>rs6221690</td>\n",
       "      <td>0.996313</td>\n",
       "    </tr>\n",
       "    <tr>\n",
       "      <th>2595</th>\n",
       "      <td>ch-20</td>\n",
       "      <td>CEL-X_121796581</td>\n",
       "      <td>0.996313</td>\n",
       "    </tr>\n",
       "    <tr>\n",
       "      <th>2596</th>\n",
       "      <td>ch-20</td>\n",
       "      <td>rs13484003</td>\n",
       "      <td>0.995260</td>\n",
       "    </tr>\n",
       "    <tr>\n",
       "      <th>2597</th>\n",
       "      <td>ch-20</td>\n",
       "      <td>rs3702256</td>\n",
       "      <td>0.995260</td>\n",
       "    </tr>\n",
       "    <tr>\n",
       "      <th>2598</th>\n",
       "      <td>ch-20</td>\n",
       "      <td>rs13484013</td>\n",
       "      <td>0.998393</td>\n",
       "    </tr>\n",
       "    <tr>\n",
       "      <th>2599</th>\n",
       "      <td>ch-20</td>\n",
       "      <td>CEL-X_125736335</td>\n",
       "      <td>0.998393</td>\n",
       "    </tr>\n",
       "    <tr>\n",
       "      <th>2600</th>\n",
       "      <td>ch-20</td>\n",
       "      <td>rs13484015</td>\n",
       "      <td>0.999973</td>\n",
       "    </tr>\n",
       "    <tr>\n",
       "      <th>2601</th>\n",
       "      <td>ch-20</td>\n",
       "      <td>rs3697198</td>\n",
       "      <td>0.999973</td>\n",
       "    </tr>\n",
       "    <tr>\n",
       "      <th>2602</th>\n",
       "      <td>ch-20</td>\n",
       "      <td>gnfX.116.876</td>\n",
       "      <td>0.999756</td>\n",
       "    </tr>\n",
       "    <tr>\n",
       "      <th>2603</th>\n",
       "      <td>ch-20</td>\n",
       "      <td>rs13484018</td>\n",
       "      <td>0.999988</td>\n",
       "    </tr>\n",
       "    <tr>\n",
       "      <th>2604</th>\n",
       "      <td>ch-20</td>\n",
       "      <td>rs13484024</td>\n",
       "      <td>0.999988</td>\n",
       "    </tr>\n",
       "  </tbody>\n",
       "</table>\n",
       "<p>2605 rows × 3 columns</p>\n",
       "</div>"
      ],
      "text/plain": [
       "     chromosome             gene    pvalue\n",
       "0          ch-1        rs6269442  0.077552\n",
       "1          ch-1        rs6241531  0.521760\n",
       "2          ch-1        rs6360236  0.348160\n",
       "3          ch-1        rs3722996  0.348160\n",
       "4          ch-1           D1Mit1  0.294961\n",
       "5          ch-1         D1Mit294  0.320699\n",
       "6          ch-1       rs13475728  0.320699\n",
       "7          ch-1        rs3655978  0.984628\n",
       "8          ch-1        rs3654866  0.984628\n",
       "9          ch-1        rs3669485  0.971559\n",
       "10         ch-1        rs3713198  0.971559\n",
       "11         ch-1        rs6291839  0.978759\n",
       "12         ch-1       rs13475735  0.978759\n",
       "13         ch-1        rs3088964  0.989119\n",
       "14         ch-1       rs13475737  0.989119\n",
       "15         ch-1        rs3678179  0.919629\n",
       "16         ch-1        rs3670611  0.974830\n",
       "17         ch-1        rs6404446  0.874803\n",
       "18         ch-1    gnf01.018.340  0.874803\n",
       "19         ch-1        rs6253968  0.778945\n",
       "20         ch-1        rs3711079  0.778945\n",
       "21         ch-1      mCV23695025  0.683799\n",
       "22         ch-1       rs13475762  0.683799\n",
       "23         ch-1        rs6316488  0.658113\n",
       "24         ch-1        rs3659806  0.658113\n",
       "25         ch-1       rs13475765  0.522755\n",
       "26         ch-1        rs4222215  0.522755\n",
       "27         ch-1        rs3677683  0.698513\n",
       "28         ch-1        rs3713281  0.698513\n",
       "29         ch-1        rs6384194  0.463651\n",
       "...         ...              ...       ...\n",
       "2575      ch-20       rs13483769  0.999522\n",
       "2576      ch-20       rs13483770  0.975409\n",
       "2577      ch-20     gnfX.044.260  0.998169\n",
       "2578      ch-20       rs13483785  0.974830\n",
       "2579      ch-20       rs13483786  0.974830\n",
       "2580      ch-20       rs13483822  0.988947\n",
       "2581      ch-20           DXMit1  0.978283\n",
       "2582      ch-20       rs13483823  0.978283\n",
       "2583      ch-20       rs13483824  0.962215\n",
       "2584      ch-20   CEL-X_71104123  0.962215\n",
       "2585      ch-20   CEL-X_71438949  0.962215\n",
       "2586      ch-20       rs13483864  0.962215\n",
       "2587      ch-20       rs13483868  0.862518\n",
       "2588      ch-20       rs13483805  0.862518\n",
       "2589      ch-20     gnfX.076.619  0.901001\n",
       "2590      ch-20       rs13483881  0.901001\n",
       "2591      ch-20        rs6205221  0.967842\n",
       "2592      ch-20        rs6387944  0.982020\n",
       "2593      ch-20       rs13483992  0.982020\n",
       "2594      ch-20        rs6221690  0.996313\n",
       "2595      ch-20  CEL-X_121796581  0.996313\n",
       "2596      ch-20       rs13484003  0.995260\n",
       "2597      ch-20        rs3702256  0.995260\n",
       "2598      ch-20       rs13484013  0.998393\n",
       "2599      ch-20  CEL-X_125736335  0.998393\n",
       "2600      ch-20       rs13484015  0.999973\n",
       "2601      ch-20        rs3697198  0.999973\n",
       "2602      ch-20     gnfX.116.876  0.999756\n",
       "2603      ch-20       rs13484018  0.999988\n",
       "2604      ch-20       rs13484024  0.999988\n",
       "\n",
       "[2605 rows x 3 columns]"
      ]
     },
     "execution_count": 358,
     "metadata": {},
     "output_type": "execute_result"
    }
   ],
   "source": [
    "resulting_df"
   ]
  },
  {
   "cell_type": "markdown",
   "metadata": {},
   "source": [
    "### Subtask: Create Manhattan Plot of  $-\\log_{10}(\\text{P-value})$ vs chromosome position \n",
    "A Manhattan plot, named after its resemblance to the skyline of Manhattan, is commonly used to plot the p-value obtained for individual association tests for each SNP compared to the SNP's position on the genome as shown in the example below.\n",
    "\n",
    "Technically, a Manhattan plot is a scatter plot of genome position (for each chromosome) vs the negative logarithm of the p-value.\n",
    "\n",
    "<img src=\"Manhattan.png\"></img>"
   ]
  },
  {
   "cell_type": "code",
   "execution_count": 372,
   "metadata": {
    "collapsed": false
   },
   "outputs": [
    {
     "data": {
      "text/html": [
       "<div>\n",
       "<table border=\"1\" class=\"dataframe\">\n",
       "  <thead>\n",
       "    <tr style=\"text-align: right;\">\n",
       "      <th></th>\n",
       "      <th>pvalue</th>\n",
       "      <th>minuslog10pvalue</th>\n",
       "      <th>ind</th>\n",
       "    </tr>\n",
       "    <tr>\n",
       "      <th>chromosome</th>\n",
       "      <th></th>\n",
       "      <th></th>\n",
       "      <th></th>\n",
       "    </tr>\n",
       "  </thead>\n",
       "  <tbody>\n",
       "    <tr>\n",
       "      <th>ch-0</th>\n",
       "      <td>NaN</td>\n",
       "      <td>NaN</td>\n",
       "      <td>NaN</td>\n",
       "    </tr>\n",
       "    <tr>\n",
       "      <th>ch-1</th>\n",
       "      <td>226.766609</td>\n",
       "      <td>23.847019</td>\n",
       "      <td>34191.0</td>\n",
       "    </tr>\n",
       "    <tr>\n",
       "      <th>ch-2</th>\n",
       "      <td>185.935404</td>\n",
       "      <td>7.560251</td>\n",
       "      <td>72762.0</td>\n",
       "    </tr>\n",
       "    <tr>\n",
       "      <th>ch-3</th>\n",
       "      <td>108.978902</td>\n",
       "      <td>11.850639</td>\n",
       "      <td>66802.0</td>\n",
       "    </tr>\n",
       "    <tr>\n",
       "      <th>ch-4</th>\n",
       "      <td>114.519744</td>\n",
       "      <td>216.752362</td>\n",
       "      <td>137900.0</td>\n",
       "    </tr>\n",
       "    <tr>\n",
       "      <th>ch-5</th>\n",
       "      <td>121.703275</td>\n",
       "      <td>25.055308</td>\n",
       "      <td>140070.0</td>\n",
       "    </tr>\n",
       "    <tr>\n",
       "      <th>ch-6</th>\n",
       "      <td>131.537677</td>\n",
       "      <td>34.443734</td>\n",
       "      <td>181650.0</td>\n",
       "    </tr>\n",
       "    <tr>\n",
       "      <th>ch-7</th>\n",
       "      <td>142.151219</td>\n",
       "      <td>10.462166</td>\n",
       "      <td>189028.0</td>\n",
       "    </tr>\n",
       "    <tr>\n",
       "      <th>ch-8</th>\n",
       "      <td>94.656150</td>\n",
       "      <td>5.546186</td>\n",
       "      <td>140175.0</td>\n",
       "    </tr>\n",
       "    <tr>\n",
       "      <th>ch-9</th>\n",
       "      <td>78.587793</td>\n",
       "      <td>105.745609</td>\n",
       "      <td>193382.0</td>\n",
       "    </tr>\n",
       "    <tr>\n",
       "      <th>ch-10</th>\n",
       "      <td>80.134650</td>\n",
       "      <td>12.202704</td>\n",
       "      <td>155430.0</td>\n",
       "    </tr>\n",
       "    <tr>\n",
       "      <th>ch-11</th>\n",
       "      <td>126.198899</td>\n",
       "      <td>8.011454</td>\n",
       "      <td>238290.0</td>\n",
       "    </tr>\n",
       "    <tr>\n",
       "      <th>ch-12</th>\n",
       "      <td>77.937121</td>\n",
       "      <td>7.953942</td>\n",
       "      <td>166198.0</td>\n",
       "    </tr>\n",
       "    <tr>\n",
       "      <th>ch-13</th>\n",
       "      <td>112.646705</td>\n",
       "      <td>9.700352</td>\n",
       "      <td>247293.0</td>\n",
       "    </tr>\n",
       "    <tr>\n",
       "      <th>ch-14</th>\n",
       "      <td>89.658071</td>\n",
       "      <td>2.745180</td>\n",
       "      <td>192755.0</td>\n",
       "    </tr>\n",
       "    <tr>\n",
       "      <th>ch-15</th>\n",
       "      <td>51.301225</td>\n",
       "      <td>8.537520</td>\n",
       "      <td>139227.0</td>\n",
       "    </tr>\n",
       "    <tr>\n",
       "      <th>ch-16</th>\n",
       "      <td>93.080675</td>\n",
       "      <td>12.968156</td>\n",
       "      <td>250743.0</td>\n",
       "    </tr>\n",
       "    <tr>\n",
       "      <th>ch-17</th>\n",
       "      <td>86.671435</td>\n",
       "      <td>2.142877</td>\n",
       "      <td>209482.0</td>\n",
       "    </tr>\n",
       "    <tr>\n",
       "      <th>ch-18</th>\n",
       "      <td>54.643363</td>\n",
       "      <td>15.405839</td>\n",
       "      <td>191000.0</td>\n",
       "    </tr>\n",
       "    <tr>\n",
       "      <th>ch-19</th>\n",
       "      <td>110.147730</td>\n",
       "      <td>9.433867</td>\n",
       "      <td>308698.0</td>\n",
       "    </tr>\n",
       "    <tr>\n",
       "      <th>ch-20</th>\n",
       "      <td>50.874429</td>\n",
       "      <td>1.022858</td>\n",
       "      <td>136634.0</td>\n",
       "    </tr>\n",
       "  </tbody>\n",
       "</table>\n",
       "</div>"
      ],
      "text/plain": [
       "                pvalue  minuslog10pvalue       ind\n",
       "chromosome                                        \n",
       "ch-0               NaN               NaN       NaN\n",
       "ch-1        226.766609         23.847019   34191.0\n",
       "ch-2        185.935404          7.560251   72762.0\n",
       "ch-3        108.978902         11.850639   66802.0\n",
       "ch-4        114.519744        216.752362  137900.0\n",
       "ch-5        121.703275         25.055308  140070.0\n",
       "ch-6        131.537677         34.443734  181650.0\n",
       "ch-7        142.151219         10.462166  189028.0\n",
       "ch-8         94.656150          5.546186  140175.0\n",
       "ch-9         78.587793        105.745609  193382.0\n",
       "ch-10        80.134650         12.202704  155430.0\n",
       "ch-11       126.198899          8.011454  238290.0\n",
       "ch-12        77.937121          7.953942  166198.0\n",
       "ch-13       112.646705          9.700352  247293.0\n",
       "ch-14        89.658071          2.745180  192755.0\n",
       "ch-15        51.301225          8.537520  139227.0\n",
       "ch-16        93.080675         12.968156  250743.0\n",
       "ch-17        86.671435          2.142877  209482.0\n",
       "ch-18        54.643363         15.405839  191000.0\n",
       "ch-19       110.147730          9.433867  308698.0\n",
       "ch-20        50.874429          1.022858  136634.0"
      ]
     },
     "execution_count": 372,
     "metadata": {},
     "output_type": "execute_result"
    }
   ],
   "source": [
    "resulting_df_grouped.sum()\n",
    "resulting_df_grouped.sum()"
   ]
  },
  {
   "cell_type": "code",
   "execution_count": 382,
   "metadata": {
    "collapsed": false
   },
   "outputs": [
    {
     "data": {
      "text/plain": [
       "(0, 2605)"
      ]
     },
     "execution_count": 382,
     "metadata": {},
     "output_type": "execute_result"
    },
    {
     "data": {
      "image/png": "[encoded data removed]",
      "text/plain": [
       "<matplotlib.figure.Figure at 0xdd252e8>"
      ]
     },
     "metadata": {},
     "output_type": "display_data"
    }
   ],
   "source": [
    "# -log_10(pvalue)\n",
    "resulting_df['minuslog10pvalue'] = -np.log10(resulting_df.pvalue)\n",
    "resulting_df.chromosome = resulting_df.chromosome.astype('category')\n",
    "resulting_df.chromosome = resulting_df.chromosome.cat.set_categories(['ch-%i' % i for i in range(1,21)], ordered=True)\n",
    "resulting_df = resulting_df.sort_values('chromosome')\n",
    "\n",
    "# How to plot gene vs. -log10(pvalue) and colour it by chromosome?\n",
    "resulting_df['ind'] = range(len(resulting_df))\n",
    "resulting_df_grouped = resulting_df.groupby(('chromosome'))\n",
    "\n",
    "\n",
    "fig = plt.figure(figsize=(15,10))\n",
    "ax = fig.add_subplot(111)\n",
    "colors = ['red','green','blue', 'yellow']\n",
    "x_labels = []\n",
    "x_labels_pos = []\n",
    "for num, (name, group) in enumerate(resulting_df_grouped):\n",
    "    group.plot(kind='scatter', x='ind', y='minuslog10pvalue',color=colors[num % len(colors)], ax=ax)\n",
    "    x_labels.append(name)\n",
    "    x_labels_pos.append((group['ind'].iloc[-1] - (group['ind'].iloc[-1] - group['ind'].iloc[0])/2))\n",
    "ax.set_xticks(x_labels_pos)\n",
    "ax.set_xticklabels(x_labels)\n",
    "ax.set_xlim([0, len(resulting_df)])\n",
    "\n"
   ]
  },
  {
   "cell_type": "markdown",
   "metadata": {},
   "source": [
    "#### Bonus if you have way too much time: Try to make plot interactive (e.g. add tooltips on hover using mpld3)\n",
    "You will have time to work on a proper interactive version later in the course, so only do this if you finished all other tasks"
   ]
  },
  {
   "cell_type": "code",
   "execution_count": null,
   "metadata": {
    "collapsed": true,
    "run_control": {
     "frozen": false,
     "read_only": false
    }
   },
   "outputs": [],
   "source": []
  },
  {
   "cell_type": "code",
   "execution_count": null,
   "metadata": {
    "collapsed": true,
    "run_control": {
     "frozen": false,
     "read_only": false
    }
   },
   "outputs": [],
   "source": []
  },
  {
   "cell_type": "markdown",
   "metadata": {},
   "source": [
    "### Subtask: If you have time, adapt function so that it also supports the non-dominant inheritance models"
   ]
  },
  {
   "cell_type": "code",
   "execution_count": null,
   "metadata": {
    "collapsed": true,
    "run_control": {
     "frozen": false,
     "read_only": false
    }
   },
   "outputs": [],
   "source": []
  },
  {
   "cell_type": "code",
   "execution_count": null,
   "metadata": {
    "collapsed": true,
    "run_control": {
     "frozen": false,
     "read_only": false
    }
   },
   "outputs": [],
   "source": []
  },
  {
   "cell_type": "markdown",
   "metadata": {},
   "source": [
    "## Task: Correct for Multiple Hypothesis Testing"
   ]
  },
  {
   "cell_type": "markdown",
   "metadata": {},
   "source": [
    "Employ one of the correction methods described in the lecture to take care of the multiple hypothesis testing."
   ]
  },
  {
   "cell_type": "code",
   "execution_count": null,
   "metadata": {
    "collapsed": true,
    "run_control": {
     "frozen": false,
     "read_only": false
    }
   },
   "outputs": [],
   "source": []
  },
  {
   "cell_type": "code",
   "execution_count": null,
   "metadata": {
    "collapsed": true,
    "run_control": {
     "frozen": false,
     "read_only": false
    }
   },
   "outputs": [],
   "source": []
  },
  {
   "cell_type": "markdown",
   "metadata": {},
   "source": [
    "### Subtask: Wrap your MHT correction in a funtion\n",
    "Ideally, the function should allow easy access to several parameters including the target $\\alpha$ and the correction method"
   ]
  },
  {
   "cell_type": "code",
   "execution_count": null,
   "metadata": {
    "collapsed": true,
    "run_control": {
     "frozen": false,
     "read_only": false
    }
   },
   "outputs": [],
   "source": []
  },
  {
   "cell_type": "code",
   "execution_count": null,
   "metadata": {
    "collapsed": true,
    "run_control": {
     "frozen": false,
     "read_only": false
    }
   },
   "outputs": [],
   "source": []
  },
  {
   "cell_type": "markdown",
   "metadata": {},
   "source": [
    "### Subtask: Test if the function works as intended"
   ]
  },
  {
   "cell_type": "code",
   "execution_count": null,
   "metadata": {
    "collapsed": true,
    "run_control": {
     "frozen": false,
     "read_only": false
    }
   },
   "outputs": [],
   "source": []
  },
  {
   "cell_type": "code",
   "execution_count": null,
   "metadata": {
    "collapsed": true,
    "run_control": {
     "frozen": false,
     "read_only": false
    }
   },
   "outputs": [],
   "source": []
  },
  {
   "cell_type": "markdown",
   "metadata": {},
   "source": [
    "## Task: Identify candidate genes from identified loci"
   ]
  },
  {
   "cell_type": "markdown",
   "metadata": {},
   "source": [
    "### Subtask: Identify genes in region identified by significant loci (consider each chromosome separately)"
   ]
  },
  {
   "cell_type": "markdown",
   "metadata": {},
   "source": [
    "What we identified so far a so called __quantitative trait loci__, meaning that this locus on the genome is associated with a quantitative trait. This does not mean there is directly a causal relationship between the markers identified in the association study and the phenotype. It is, however, a pointer towards the region of the genome that may be relevant for the variability in the measured trait. The genes encompassed in this region then need to be analysed further to identify viable mechanistic candidates.\n",
    "\n",
    "\n",
    "\n",
    "A good starting point for this fine grained analysis would be to look up the genes directly linked to the SNP in [dbSNP]() (e.g, http://www.ncbi.nlm.nih.gov/projects/SNP/snp_ref.cgi?rs=rs3674482).\n",
    "\n",
    "Most likely the high ranking SNPs will not map directly to the causal gene, but be rather a marker for another variant in a gene in __linkage disequilibrium__ with this this SNP. We thus need to extend the search and look at other genes in the vicinity of the high ranking SNPs.\n",
    "\n",
    "You may thus want to move on the [Biomart](http://www.ensembl.org/biomart/martview/fb0e89930dcbbdb8075ca52f8b196719) to query for genes in a genomic region.\n",
    "\n",
    "A third resource you may want to check out is the [UCSC Genome Browser](http://genome.ucsc.edu/) for visual explorations as well as the [UCSC Table Browser](http://genome.ucsc.edu/cgi-bin/hgTables?hgsid=511555905_oFRLEcH1IWO1FdKyzynrsBCRMk7w) to obtain genes in a genomic region. The identifiers of proteins in the [uniprot](http://www.uniprot.org/) database are listed in the resulting table. Uniprot then can provide useful annotations of the proteins found in the search frame.\n",
    "\n",
    "Programmatic access is possible for all the services above using their REST interfaces:  \n",
    "[UCSC](http://genomewiki.ucsc.edu/index.php/Programmatic_access_to_the_Genome_Browser)     \n",
    "[Biomart](http://www.ensembl.org/info/data/biomart/biomart_restful.html)     \n",
    "[Uniprot](http://www.uniprot.org/help/programmatic_access)     \n",
    "\n",
    "There have been multiple attempts to make querying these services using python directly. The most important packages are:     \n",
    "[bioservices](https://pythonhosted.org/bioservices/)      \n",
    "[biomart-python](https://github.com/sebriois/biomart)      \n",
    "\n",
    "An example on how to query uniprot using bioservices can be found in [this notebook](http://nbviewer.jupyter.org/url/pythonhosted.org/bioservices/\\_downloads/UniProt.ipynb).\n",
    "\n",
    "If you decide to search for the genes of interest based on the genome location, make sure to select the correct reference genome. The reference used for the BXD genotyping is described in the genotype description on [genenetwork.org](http://www.genenetwork.org/dbdoc/BXDGeno.html)"
   ]
  },
  {
   "cell_type": "code",
   "execution_count": null,
   "metadata": {
    "collapsed": true,
    "run_control": {
     "frozen": false,
     "read_only": false
    }
   },
   "outputs": [],
   "source": []
  },
  {
   "cell_type": "code",
   "execution_count": null,
   "metadata": {
    "collapsed": true,
    "run_control": {
     "frozen": false,
     "read_only": false
    }
   },
   "outputs": [],
   "source": []
  },
  {
   "cell_type": "code",
   "execution_count": null,
   "metadata": {
    "collapsed": true,
    "run_control": {
     "frozen": false,
     "read_only": false
    }
   },
   "outputs": [],
   "source": []
  },
  {
   "cell_type": "code",
   "execution_count": null,
   "metadata": {
    "collapsed": true,
    "run_control": {
     "frozen": false,
     "read_only": false
    }
   },
   "outputs": [],
   "source": []
  },
  {
   "cell_type": "markdown",
   "metadata": {},
   "source": [
    "### Subtask: Check if the locations you found match to what is known from literature about genetics of mouse coat color"
   ]
  },
  {
   "cell_type": "code",
   "execution_count": null,
   "metadata": {
    "collapsed": true,
    "run_control": {
     "frozen": false,
     "read_only": false
    }
   },
   "outputs": [],
   "source": []
  },
  {
   "cell_type": "code",
   "execution_count": null,
   "metadata": {
    "collapsed": true,
    "run_control": {
     "frozen": false,
     "read_only": false
    }
   },
   "outputs": [],
   "source": []
  },
  {
   "cell_type": "code",
   "execution_count": null,
   "metadata": {
    "collapsed": true,
    "run_control": {
     "frozen": false,
     "read_only": false
    }
   },
   "outputs": [],
   "source": []
  },
  {
   "cell_type": "code",
   "execution_count": null,
   "metadata": {
    "collapsed": true,
    "run_control": {
     "frozen": false,
     "read_only": false
    }
   },
   "outputs": [],
   "source": []
  },
  {
   "cell_type": "markdown",
   "metadata": {},
   "source": [
    "# Association tests between variant(s) and continuous phenotype¶ \n",
    "All of the phenotype data provided in the multi-omics publication is actually not categorical. We thus have to adapt our approach to use continuous data. In the lecture you learned that instead of $\\chi^2$ test or logistic regression, linear regression models or correlation tests could be used. "
   ]
  },
  {
   "cell_type": "markdown",
   "metadata": {},
   "source": [
    "## Task: Import relevant functions from scipy"
   ]
  },
  {
   "cell_type": "code",
   "execution_count": null,
   "metadata": {
    "collapsed": true,
    "run_control": {
     "frozen": false,
     "read_only": false
    }
   },
   "outputs": [],
   "source": []
  },
  {
   "cell_type": "markdown",
   "metadata": {},
   "source": [
    "## Task: Load Phenotype spreadsheets from paper supplement"
   ]
  },
  {
   "cell_type": "code",
   "execution_count": null,
   "metadata": {
    "collapsed": true,
    "run_control": {
     "frozen": false,
     "read_only": false
    }
   },
   "outputs": [],
   "source": []
  },
  {
   "cell_type": "code",
   "execution_count": null,
   "metadata": {
    "collapsed": true,
    "run_control": {
     "frozen": false,
     "read_only": false
    }
   },
   "outputs": [],
   "source": []
  },
  {
   "cell_type": "markdown",
   "metadata": {},
   "source": [
    "## Task: Implement Pearson's r-based test for correlation"
   ]
  },
  {
   "cell_type": "code",
   "execution_count": null,
   "metadata": {
    "collapsed": true,
    "run_control": {
     "frozen": false,
     "read_only": false
    }
   },
   "outputs": [],
   "source": []
  },
  {
   "cell_type": "code",
   "execution_count": null,
   "metadata": {
    "collapsed": true,
    "run_control": {
     "frozen": false,
     "read_only": false
    }
   },
   "outputs": [],
   "source": []
  },
  {
   "cell_type": "code",
   "execution_count": null,
   "metadata": {
    "collapsed": true,
    "run_control": {
     "frozen": false,
     "read_only": false
    }
   },
   "outputs": [],
   "source": []
  },
  {
   "cell_type": "markdown",
   "metadata": {},
   "source": [
    "## Task: Plot corresponding Manhattan Plot (using your previously defined function)"
   ]
  },
  {
   "cell_type": "code",
   "execution_count": null,
   "metadata": {
    "collapsed": true,
    "run_control": {
     "frozen": false,
     "read_only": false
    }
   },
   "outputs": [],
   "source": []
  },
  {
   "cell_type": "code",
   "execution_count": null,
   "metadata": {
    "collapsed": true,
    "run_control": {
     "frozen": false,
     "read_only": false
    }
   },
   "outputs": [],
   "source": []
  },
  {
   "cell_type": "markdown",
   "metadata": {},
   "source": [
    "## Task: Correct for multiple hypothesis testing"
   ]
  },
  {
   "cell_type": "code",
   "execution_count": null,
   "metadata": {
    "collapsed": true,
    "run_control": {
     "frozen": false,
     "read_only": false
    }
   },
   "outputs": [],
   "source": []
  },
  {
   "cell_type": "code",
   "execution_count": null,
   "metadata": {
    "collapsed": true,
    "run_control": {
     "frozen": false,
     "read_only": false
    }
   },
   "outputs": [],
   "source": []
  },
  {
   "cell_type": "code",
   "execution_count": null,
   "metadata": {
    "collapsed": true,
    "run_control": {
     "frozen": false,
     "read_only": false
    }
   },
   "outputs": [],
   "source": []
  },
  {
   "cell_type": "markdown",
   "metadata": {
    "collapsed": true
   },
   "source": [
    "# Run association tests for all phenotypes in Biochemistry, Hematology, and Blood Pressure\n",
    "Moving now into phenotype association studies, we will now test multiple phenotypes for genetic associations. To determine how much each trait is associated with a genetic factor, we have to repeat our analyses for (ideally all) phenotypes of interest while correcting for multiple hypothesis testing. We then have to figure out which traits are the most associated.\n",
    "\n",
    "Make sure to consider significance of association as well as the effect size of the association.\n",
    "\n",
    "Which traits are most influenced by genetics?"
   ]
  },
  {
   "cell_type": "code",
   "execution_count": null,
   "metadata": {
    "collapsed": true,
    "run_control": {
     "frozen": false,
     "read_only": false
    }
   },
   "outputs": [],
   "source": []
  },
  {
   "cell_type": "code",
   "execution_count": null,
   "metadata": {
    "collapsed": true,
    "run_control": {
     "frozen": false,
     "read_only": false
    }
   },
   "outputs": [],
   "source": []
  },
  {
   "cell_type": "markdown",
   "metadata": {
    "collapsed": true
   },
   "source": [
    "## Task: Pick a testing method from the previous tasks that is applicable for the  phenotype variable type"
   ]
  },
  {
   "cell_type": "code",
   "execution_count": null,
   "metadata": {
    "collapsed": true,
    "run_control": {
     "frozen": false,
     "read_only": false
    }
   },
   "outputs": [],
   "source": []
  },
  {
   "cell_type": "code",
   "execution_count": null,
   "metadata": {
    "collapsed": true,
    "run_control": {
     "frozen": false,
     "read_only": false
    }
   },
   "outputs": [],
   "source": []
  },
  {
   "cell_type": "markdown",
   "metadata": {},
   "source": [
    "## Task: Iteratively apply functionality to all phenotypes"
   ]
  },
  {
   "cell_type": "code",
   "execution_count": null,
   "metadata": {
    "collapsed": true,
    "run_control": {
     "frozen": false,
     "read_only": false
    }
   },
   "outputs": [],
   "source": []
  },
  {
   "cell_type": "code",
   "execution_count": null,
   "metadata": {
    "collapsed": true,
    "run_control": {
     "frozen": false,
     "read_only": false
    }
   },
   "outputs": [],
   "source": []
  },
  {
   "cell_type": "markdown",
   "metadata": {},
   "source": [
    "## Task: Extract relevant information about effect size, significance, locus,..."
   ]
  },
  {
   "cell_type": "code",
   "execution_count": null,
   "metadata": {
    "collapsed": true,
    "run_control": {
     "frozen": false,
     "read_only": false
    }
   },
   "outputs": [],
   "source": []
  },
  {
   "cell_type": "code",
   "execution_count": null,
   "metadata": {
    "collapsed": true,
    "run_control": {
     "frozen": false,
     "read_only": false
    }
   },
   "outputs": [],
   "source": []
  },
  {
   "cell_type": "markdown",
   "metadata": {},
   "source": [
    "## Task: Interpret results"
   ]
  },
  {
   "cell_type": "code",
   "execution_count": null,
   "metadata": {
    "collapsed": true,
    "run_control": {
     "frozen": false,
     "read_only": false
    }
   },
   "outputs": [],
   "source": []
  },
  {
   "cell_type": "code",
   "execution_count": null,
   "metadata": {
    "collapsed": true,
    "run_control": {
     "frozen": false,
     "read_only": false
    }
   },
   "outputs": [],
   "source": []
  },
  {
   "cell_type": "markdown",
   "metadata": {},
   "source": [
    "## Task: For most interesting examples, try to identify possible candidate genes"
   ]
  },
  {
   "cell_type": "code",
   "execution_count": null,
   "metadata": {
    "collapsed": true,
    "run_control": {
     "frozen": false,
     "read_only": false
    }
   },
   "outputs": [],
   "source": []
  },
  {
   "cell_type": "code",
   "execution_count": null,
   "metadata": {
    "collapsed": true,
    "run_control": {
     "frozen": false,
     "read_only": false
    }
   },
   "outputs": [],
   "source": []
  },
  {
   "cell_type": "markdown",
   "metadata": {},
   "source": [
    "## Task: Quickly compare your results to literature"
   ]
  },
  {
   "cell_type": "code",
   "execution_count": null,
   "metadata": {
    "collapsed": true,
    "run_control": {
     "frozen": false,
     "read_only": false
    }
   },
   "outputs": [],
   "source": []
  },
  {
   "cell_type": "code",
   "execution_count": null,
   "metadata": {
    "collapsed": true,
    "run_control": {
     "frozen": false,
     "read_only": false
    }
   },
   "outputs": [],
   "source": []
  },
  {
   "cell_type": "markdown",
   "metadata": {},
   "source": [
    "## What confounding factors may have been ignored in the current approach? How could they be incorporated?"
   ]
  },
  {
   "cell_type": "code",
   "execution_count": null,
   "metadata": {
    "collapsed": true,
    "run_control": {
     "frozen": false,
     "read_only": false
    }
   },
   "outputs": [],
   "source": []
  },
  {
   "cell_type": "code",
   "execution_count": null,
   "metadata": {
    "collapsed": true,
    "run_control": {
     "frozen": false,
     "read_only": false
    }
   },
   "outputs": [],
   "source": []
  },
  {
   "cell_type": "markdown",
   "metadata": {},
   "source": [
    "## Bonus subtask: Create a QQ-plot of the expected distribution of association test statistics (X-axis) compared to the observed values (Y-axis)\n",
    "In GWAS studies this type of plot is usually created to see if the obtained p-values follow those expected from the null hypothesis (we would assume most SNPs not to be associated). \n",
    "\n",
    "More about GWAS and QQplots can be found in [Erik Minikels cureffi.org blog](http://www.cureffi.org/2012/08/06/genome-wide-association-studies/), who summarizes several papers including McCarthy, M. I. et al.'s __[Genome-wide association studies for complex traits: consensus, uncertainty and challenges](http://www.nature.com/nrg/journal/v9/n5/full/nrg2344.html)__ in Nature Reviews Genetics 9, 356–369 (2008).\n",
    "\n",
    "From the above publication is also this exemplatory illustration of GWAS data, that may give you some ideas on what to plot in this task.\n",
    "<img src=\"gwas_viz.png\"></img>"
   ]
  },
  {
   "cell_type": "code",
   "execution_count": null,
   "metadata": {
    "collapsed": true,
    "run_control": {
     "frozen": false,
     "read_only": false
    }
   },
   "outputs": [],
   "source": []
  },
  {
   "cell_type": "code",
   "execution_count": null,
   "metadata": {
    "collapsed": true,
    "run_control": {
     "frozen": false,
     "read_only": false
    }
   },
   "outputs": [],
   "source": []
  }
 ],
 "metadata": {
  "hide_input": false,
  "kernelspec": {
   "display_name": "Python [Root]",
   "language": "python",
   "name": "Python [Root]"
  },
  "language_info": {
   "codemirror_mode": {
    "name": "ipython",
    "version": 2
   },
   "file_extension": ".py",
   "mimetype": "text/x-python",
   "name": "python",
   "nbconvert_exporter": "python",
   "pygments_lexer": "ipython2",
   "version": "2.7.11"
  },
  "nav_menu": {},
  "toc": {
   "navigate_menu": true,
   "number_sections": true,
   "sideBar": false,
   "threshold": 6,
   "toc_cell": true,
   "toc_number_sections": true,
   "toc_section_display": "block",
   "toc_window_display": true
  },
  "toc_position": {
   "height": "1208px",
   "left": "1163px",
   "right": "20px",
   "top": "88px",
   "width": "600px"
  }
 },
 "nbformat": 4,
 "nbformat_minor": 0
}
